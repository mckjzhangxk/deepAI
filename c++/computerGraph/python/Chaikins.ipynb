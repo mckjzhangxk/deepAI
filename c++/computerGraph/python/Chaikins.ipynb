{
 "cells": [
  {
   "cell_type": "code",
   "execution_count": 1,
   "metadata": {
    "collapsed": true
   },
   "outputs": [],
   "source": [
    "import cv2\n",
    "import matplotlib.pyplot as plt\n",
    "import numpy as np\n",
    "%matplotlib inline"
   ]
  },
  {
   "cell_type": "code",
   "execution_count": 2,
   "metadata": {
    "collapsed": true
   },
   "outputs": [],
   "source": [
    "# http://graphics.cs.ucdavis.edu/education/CAGDNotes/Chaikins-Algorithm/Chaikins-Algorithm.html"
   ]
  },
  {
   "cell_type": "code",
   "execution_count": 13,
   "metadata": {
    "collapsed": false
   },
   "outputs": [],
   "source": [
    "def emptyImage(SIZE=600):\n",
    "    img=np.zeros((SIZE,SIZE,3),dtype=np.uint8)\n",
    "    return img\n",
    "def drawAndshowImage(img,paths,color=(255,0,0),show=True):\n",
    "    for path in paths:\n",
    "        cv2.polylines(img,[np.array(path)],False,color,2)\n",
    "    for pt in path:\n",
    "        cv2.circle(img,tuple(pt),3,color,2)\n",
    "    if show:\n",
    "        plt.figure(figsize=(10,10))\n",
    "        plt.imshow(img)\n",
    "        plt.axis('off')"
   ]
  },
  {
   "cell_type": "code",
   "execution_count": 14,
   "metadata": {
    "collapsed": false
   },
   "outputs": [
    {
     "data": {
      "text/plain": [
       "<matplotlib.image.AxesImage at 0x7f538cb759b0>"
      ]
     },
     "execution_count": 14,
     "metadata": {},
     "output_type": "execute_result"
    },
    {
     "data": {
      "image/png": "[encoded data removed]",
      "text/plain": [
       "<Figure size 600x400 with 1 Axes>"
      ]
     },
     "metadata": {},
     "output_type": "display_data"
    }
   ],
   "source": [
    "pts=np.array([[117, 424], [112, 225], [329, 220], [432, 478], [554, 109]])\n",
    "img=emptyImage()\n",
    "_=cv2.polylines(img,[pts],False,(255,0,0),thickness=2)\n",
    "plt.imshow(img)"
   ]
  },
  {
   "cell_type": "code",
   "execution_count": 15,
   "metadata": {
    "collapsed": true
   },
   "outputs": [],
   "source": [
    "def chaikins(path,ratio=1/4):\n",
    "    '''\n",
    "    path:list of point(n+1),(x0,y0)...(xn,yn)\n",
    "    \n",
    "    chaikins的做法是每个边 生成2个新点(Ri,Qi)\n",
    "    分别在ratio,1-ratio,这样n个遍\n",
    "    处理后就有2N个点，2N-1个遍，把这些新点返回\n",
    "    '''\n",
    "    ratio=1-ratio\n",
    "    V=len(path)\n",
    "    if isinstance(path,list):\n",
    "        path=np.array(path)\n",
    "    assert V>2,'必须是3个点以上才有意义'\n",
    "    assert path.shape[1]==2,'必须是2维的'\n",
    "    #R=ratio*startpoint+(1-ratio)*endpoint\n",
    "    #Q=(1-ratio)*startpoint+ratio*endpoint     \n",
    "    R=ratio*path[:-1]+(1-ratio)*path[1:]\n",
    "    Q=(1-ratio)*path[:-1]+ratio*path[1:]\n",
    "    \n",
    "    r=np.zeros((2*len(R),2),dtype=np.int32)\n",
    "    r[0::2]=R\n",
    "    r[1::2]=Q\n",
    "    \n",
    "    assert 2*(V-1)==len(r)\n",
    "    return r"
   ]
  },
  {
   "cell_type": "code",
   "execution_count": 16,
   "metadata": {
    "collapsed": false
   },
   "outputs": [
    {
     "data": {
      "text/plain": [
       "(-0.5, 599.5, 599.5, -0.5)"
      ]
     },
     "execution_count": 16,
     "metadata": {},
     "output_type": "execute_result"
    },
    {
     "data": {
      "image/png": "[encoded data removed]",
      "text/plain": [
       "<Figure size 1000x1000 with 1 Axes>"
      ]
     },
     "metadata": {},
     "output_type": "display_data"
    }
   ],
   "source": [
    "color=[(255,0,0),(0,255,0),(0,0,255),(255,255,0)]\n",
    "# color=[(255,0,0),(0,255,0)]\n",
    "\n",
    "# current=pts\n",
    "# current=np.array([[140, 468], [79, 307], [308, 187], [329, 465],[140, 468]])\n",
    "current=np.array([[117, 424], [112, 225], [329, 220], [432, 478], [554, 109]])\n",
    "img=emptyImage()\n",
    "for i in range(len(color)):\n",
    "    _=cv2.polylines(img,[current],False,color[i],thickness=2)\n",
    "    current=chaikins(current)\n",
    "plt.figure(figsize=(10,10))\n",
    "plt.imshow(img)\n",
    "plt.axis('off')"
   ]
  },
  {
   "cell_type": "markdown",
   "metadata": {},
   "source": [
    "### subdivison surface"
   ]
  },
  {
   "cell_type": "code",
   "execution_count": 17,
   "metadata": {
    "collapsed": false
   },
   "outputs": [],
   "source": [
    "def createPathFromArray(points,flag='row'):\n",
    "    '''\n",
    "    points 是mxn的数组，那么说明有m行,n列\n",
    "    我要做的就是返回这些路径\n",
    "    \n",
    "    返回:list of path(list of (x,y))\n",
    "    '''\n",
    "    if isinstance(points,list):\n",
    "        points=np.array(points)\n",
    "    \n",
    "    m,n=points.shape[:2]\n",
    "    paths=[]\n",
    "    \n",
    "    if flag!='col':\n",
    "        for i in range(m):\n",
    "            p=[points[i][j] for j in range(n)]\n",
    "            paths.append(p)\n",
    "    if flag!='row':\n",
    "        for j in range(n):\n",
    "            p=[points[i][j] for i in range(m)]\n",
    "            paths.append(p)\n",
    "    paths=np.array(paths)\n",
    "    return paths\n",
    "def chaikins_2D(points,ratio=1/4):\n",
    "    '''\n",
    "        pts是m,n的数组，对这两个维度分别运行chaikon一维算法，得到\n",
    "        二维的chankins\n",
    "    '''\n",
    "    if isinstance(points,list):\n",
    "        points=np.array(points)\n",
    "    m,n=points.shape[:2]\n",
    "    #每一行看成1个1D的path，有m个这样的path,运行m个一维chainkins后\n",
    "    #行数不变，还是m,列数变了(2(n-1))\n",
    "    rowpaths=createPathFromArray(points,'row')\n",
    "\n",
    "    rowpaths_chaikins=[chaikins(p,ratio) for p in rowpaths]\n",
    "    points=np.array(rowpaths_chaikins)\n",
    "  \n",
    "    \n",
    "    #每一列看成一个1Dpath,有n_new个，运行n_new个一维chainkins后，\n",
    "    #行数m被扩成了\n",
    "    colpaths=createPathFromArray(points,'col')\n",
    "    colpaths_chaikins=[chaikins(p,ratio) for p in colpaths]\n",
    "    points=np.array(colpaths_chaikins).transpose((1,0,2))\n",
    "\n",
    "    \n",
    "    assert (2*(m-1),2*(n-1))==points.shape[:2]\n",
    "    \n",
    "    return points"
   ]
  },
  {
   "cell_type": "code",
   "execution_count": 22,
   "metadata": {
    "collapsed": false
   },
   "outputs": [
    {
     "data": {
      "image/png": "[encoded data removed]",
      "text/plain": [
       "<Figure size 1000x1000 with 1 Axes>"
      ]
     },
     "metadata": {},
     "output_type": "display_data"
    }
   ],
   "source": [
    "color=[(255,0,0),(0,255,0),(0,0,255),(255,255,0)]\n",
    "pts=[\n",
    "    \n",
    "    [\n",
    "        [130, 145], [275, 155], [418, 151]\n",
    "    ], \n",
    "    [\n",
    "        [123, 266], [278, 278], [421, 292]\n",
    "    ], \n",
    "    [\n",
    "        [127, 380], [278, 399], [407, 392]\n",
    "    ]\n",
    "    \n",
    "    ]\n",
    "\n",
    "\n",
    "img=emptyImage()\n",
    "color=[(255,0,0),(0,255,0),(0,0,255),(255,255,0)]\n",
    "for i,c in enumerate(color):\n",
    "    if i>0:\n",
    "        pts=chaikins_2D(pts)\n",
    "    paths=createPathFromArray(pts,'all')\n",
    "    \n",
    "    drawAndshowImage(img,paths,c,show=(i==len(color)-1))"
   ]
  },
  {
   "cell_type": "code",
   "execution_count": null,
   "metadata": {
    "collapsed": true
   },
   "outputs": [],
   "source": []
  }
 ],
 "metadata": {
  "kernelspec": {
   "display_name": "Python 3",
   "language": "python",
   "name": "python3"
  },
  "language_info": {
   "codemirror_mode": {
    "name": "ipython",
    "version": 3
   },
   "file_extension": ".py",
   "mimetype": "text/x-python",
   "name": "python",
   "nbconvert_exporter": "python",
   "pygments_lexer": "ipython3",
   "version": "3.5.2"
  }
 },
 "nbformat": 4,
 "nbformat_minor": 0
}
