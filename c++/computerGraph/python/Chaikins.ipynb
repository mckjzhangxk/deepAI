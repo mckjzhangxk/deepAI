{
 "cells": [
  {
   "cell_type": "code",
   "execution_count": 3,
   "metadata": {
    "collapsed": true
   },
   "outputs": [],
   "source": [
    "import cv2\n",
    "import matplotlib.pyplot as plt\n",
    "import numpy as np\n",
    "%matplotlib inline"
   ]
  },
  {
   "cell_type": "code",
   "execution_count": 2,
   "metadata": {
    "collapsed": true
   },
   "outputs": [],
   "source": [
    "# http://graphics.cs.ucdavis.edu/education/CAGDNotes/Chaikins-Algorithm/Chaikins-Algorithm.html"
   ]
  },
  {
   "cell_type": "code",
   "execution_count": 39,
   "metadata": {
    "collapsed": false
   },
   "outputs": [],
   "source": [
    "def emptyImage(SIZE=600):\n",
    "    img=np.zeros((SIZE,SIZE,3),dtype=np.uint8)\n",
    "    return img"
   ]
  },
  {
   "cell_type": "code",
   "execution_count": 59,
   "metadata": {
    "collapsed": false
   },
   "outputs": [
    {
     "data": {
      "text/plain": [
       "<matplotlib.image.AxesImage at 0x7fc196bb69b0>"
      ]
     },
     "execution_count": 59,
     "metadata": {},
     "output_type": "execute_result"
    },
    {
     "data": {
      "image/png": "[encoded data removed]",
      "text/plain": [
       "<Figure size 600x400 with 1 Axes>"
      ]
     },
     "metadata": {},
     "output_type": "display_data"
    }
   ],
   "source": [
    "pts=np.array([[117, 424], [112, 225], [329, 220], [432, 478], [554, 109]])\n",
    "img=emptyImage()\n",
    "_=cv2.polylines(img,[pts],False,(255,0,0),thickness=2)\n",
    "plt.imshow(img)"
   ]
  },
  {
   "cell_type": "code",
   "execution_count": 67,
   "metadata": {
    "collapsed": true
   },
   "outputs": [],
   "source": [
    "def chaikins(path,ratio=1/4):\n",
    "    '''\n",
    "    path:list of point(n+1),(x0,y0)...(xn,yn)\n",
    "    \n",
    "    chaikins的做法是每个边 生成2个新点(Ri,Qi)\n",
    "    分别在ratio,1-ratio,这样n个遍\n",
    "    处理后就有2N个点，2N-1个遍，把这些新点返回\n",
    "    '''\n",
    "    ratio=1-ratio\n",
    "    V=len(path)\n",
    "    if isinstance(path,list):\n",
    "        path=np.array(path)\n",
    "    assert V>2,'必须是3个点以上才有意义'\n",
    "    assert path.shape[1]==2,'必须是2维的'\n",
    "    #R=ratio*startpoint+(1-ratio)*endpoint\n",
    "    #Q=(1-ratio)*startpoint+ratio*endpoint     \n",
    "    R=ratio*path[:-1]+(1-ratio)*path[1:]\n",
    "    Q=(1-ratio)*path[:-1]+ratio*path[1:]\n",
    "    \n",
    "    r=np.zeros((2*len(R),2),dtype=np.int32)\n",
    "    r[0::2]=R\n",
    "    r[1::2]=Q\n",
    "    \n",
    "    assert 2*(V-1)==len(r)\n",
    "    return r"
   ]
  },
  {
   "cell_type": "code",
   "execution_count": 74,
   "metadata": {
    "collapsed": false
   },
   "outputs": [
    {
     "data": {
      "text/plain": [
       "(-0.5, 599.5, 599.5, -0.5)"
      ]
     },
     "execution_count": 74,
     "metadata": {},
     "output_type": "execute_result"
    },
    {
     "data": {
      "image/png": "[encoded data removed]",
      "text/plain": [
       "<Figure size 1000x1000 with 1 Axes>"
      ]
     },
     "metadata": {},
     "output_type": "display_data"
    }
   ],
   "source": [
    "color=[(255,0,0),(0,255,0),(0,0,255),(255,255,0)]\n",
    "# color=[(255,0,0),(0,255,0)]\n",
    "\n",
    "# current=pts\n",
    "current=np.array([[140, 468], [79, 307], [308, 187], [329, 465],[140, 468]])\n",
    "img=emptyImage()\n",
    "for i in range(len(color)):\n",
    "    _=cv2.polylines(img,[current],False,color[i],thickness=2)\n",
    "    current=chaikins(current)\n",
    "plt.figure(figsize=(10,10))\n",
    "plt.imshow(img)\n",
    "plt.axis('off')"
   ]
  },
  {
   "cell_type": "code",
   "execution_count": 62,
   "metadata": {
    "collapsed": false
   },
   "outputs": [
    {
     "data": {
      "text/plain": [
       "array([[114, 349],\n",
       "       [113, 299],\n",
       "       [234, 259],\n",
       "       [154, 335],\n",
       "       [193, 222],\n",
       "       [247, 221],\n",
       "       [346, 365],\n",
       "       [226, 270],\n",
       "       [367, 316],\n",
       "       [393, 380],\n",
       "       [480, 221],\n",
       "       [396, 263],\n",
       "       [477, 339],\n",
       "       [507, 247]], dtype=int32)"
      ]
     },
     "execution_count": 62,
     "metadata": {},
     "output_type": "execute_result"
    }
   ],
   "source": [
    "pt2"
   ]
  },
  {
   "cell_type": "code",
   "execution_count": 38,
   "metadata": {
    "collapsed": false
   },
   "outputs": [
    {
     "data": {
      "text/plain": [
       "True"
      ]
     },
     "execution_count": 38,
     "metadata": {},
     "output_type": "execute_result"
    }
   ],
   "source": [
    "[1,2]==[1,2]"
   ]
  },
  {
   "cell_type": "code",
   "execution_count": null,
   "metadata": {
    "collapsed": true
   },
   "outputs": [],
   "source": []
  }
 ],
 "metadata": {
  "kernelspec": {
   "display_name": "Python 3",
   "language": "python",
   "name": "python3"
  },
  "language_info": {
   "codemirror_mode": {
    "name": "ipython",
    "version": 3
   },
   "file_extension": ".py",
   "mimetype": "text/x-python",
   "name": "python",
   "nbconvert_exporter": "python",
   "pygments_lexer": "ipython3",
   "version": "3.5.2"
  }
 },
 "nbformat": 4,
 "nbformat_minor": 0
}
