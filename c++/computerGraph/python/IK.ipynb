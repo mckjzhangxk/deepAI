{
 "cells": [
  {
   "cell_type": "markdown",
   "metadata": {},
   "source": [
    "## 复习一下psedo inverse,pinv的用处：\n",
    "$M^{*}*M=I(m>=n)$\n",
    "\n",
    "$M^{*}*M \\approx I(m<n)$"
   ]
  },
  {
   "cell_type": "code",
   "execution_count": 1,
   "metadata": {
    "collapsed": true
   },
   "outputs": [],
   "source": [
    "import numpy as np"
   ]
  },
  {
   "cell_type": "code",
   "execution_count": 2,
   "metadata": {
    "collapsed": true
   },
   "outputs": [],
   "source": [
    "def pinv(M):\n",
    "    U,S,VT=np.linalg.svd(M,False)\n",
    "    \n",
    "    linv=(VT.T*(1/S)).dot(U.T)\n",
    "    return linv;\n",
    "def check(a,b,eps=1e-5):\n",
    "    assert np.abs(a-b).max()<eps,\"计算错误\""
   ]
  },
  {
   "cell_type": "code",
   "execution_count": 3,
   "metadata": {
    "collapsed": false
   },
   "outputs": [],
   "source": [
    "A=np.random.randn(7,9)\n",
    "Ainv=pinv(A)\n",
    "Ainv_np=np.linalg.pinv(A)\n",
    "check(Ainv,Ainv_np)"
   ]
  },
  {
   "cell_type": "markdown",
   "metadata": {},
   "source": [
    "### solve:非线性方程(牛顿法)\n",
    "$$f(x)=0$$\n",
    "$$f(x)\\approx f(x_0)+\\nabla f(x_0) (x-x_0)=0$$\n",
    "$$x=x_0-\\nabla f(x_0)^{-1} f(x_0)$$\n",
    "其中：$\\nabla f(x_0)^{-1}$可以使用pinv代替\n",
    "$$\\nabla f_{i,j}=\\frac{\\partial f_i}{\\partial x_j}$$"
   ]
  },
  {
   "cell_type": "code",
   "execution_count": 10,
   "metadata": {
    "collapsed": false
   },
   "outputs": [],
   "source": [
    "class Functional():\n",
    "    def setParameter(self,p):\n",
    "        self.p=p\n",
    "    def fn(self):\n",
    "        raise NotImplemented\n",
    "    def grad_fn(self):\n",
    "        raise NotImplemented\n",
    "class LinearFunction(Functional):\n",
    "    def __init__(self,M,N):\n",
    "        self.A=np.random.randn(M,N)\n",
    "        self.bias=np.random.randn(M,1)*np.random.randn(M,1)+2\n",
    "    def reset(self):\n",
    "        self.p=np.random.randn(self.A.shape[1],1)\n",
    "        return self.p\n",
    "    def __call__(self):\n",
    "        return self.A.dot(self.p)+self.bias\n",
    "    def grad_fn(self):\n",
    "        return self.A\n",
    "class CosFunction(Functional):\n",
    "    def __init__(self,M,N):\n",
    "        self.A=np.random.randn(M,N)\n",
    "        cos_result=np.random.rand(N,1)\n",
    "        self.bias=-self.A.dot(cos_result)\n",
    "    def reset(self):\n",
    "        self.p=np.random.randn(self.A.shape[1],1)\n",
    "        return self.p\n",
    "    def __call__(self):\n",
    "        return self.A.dot(np.cos(self.p))+self.bias\n",
    "    def grad_fn(self):\n",
    "        h=1e-5\n",
    "        grad=np.zeros_like(self.A)\n",
    "    \n",
    "        oldp=self.p.copy()\n",
    "        \n",
    "        for i in range(len(self.p)):\n",
    "            self.p[i]=oldp[i]+h\n",
    "            forward=self.__call__().ravel()\n",
    "            self.p[i]=oldp[i]-h\n",
    "            backward=self.__call__().ravel()\n",
    "            self.p[i]=oldp[i]\n",
    "            grad[:,i]=(forward-backward)/(2*h)\n",
    "        \n",
    "        self.p=oldp\n",
    "        return grad\n",
    "    \n",
    "def solver(f,eps=1e-3,maxIters=100,verbose=False):\n",
    "    x0=f.reset()\n",
    "    for t in range(maxIters+1):\n",
    "        fn=f()   \n",
    "        err=np.abs(fn).max()\n",
    "        if err<eps:\n",
    "            break\n",
    "        g=f.grad_fn()\n",
    "        x0=x0-np.linalg.pinv(g).dot(fn)\n",
    "        f.setParameter(x0)\n",
    "        \n",
    "        if verbose and t%1==0:\n",
    "            print('err %.4f,grad=%f'%(err,np.linalg.norm(g,'fro')))\n",
    "    print(\"run %d iters,max error %.4f,grad=%f\"%(t,err,np.linalg.norm(g,'fro')))"
   ]
  },
  {
   "cell_type": "code",
   "execution_count": 13,
   "metadata": {
    "collapsed": false
   },
   "outputs": [
    {
     "name": "stdout",
     "output_type": "stream",
     "text": [
      "err 0.3824,grad=1.675102\n",
      "err 0.2696,grad=1.956923\n",
      "err 0.0063,grad=1.957118\n",
      "run 3 iters,max error 0.0000,grad=1.957118\n"
     ]
    }
   ],
   "source": [
    "fn1=LinearFunction(3,3)\n",
    "fn2=LinearFunction(4,3)\n",
    "fn3=CosFunction(3,3)\n",
    "# solver(fn1)\n",
    "# solver(fn2)\n",
    "solver(fn3,verbose=True)"
   ]
  },
  {
   "cell_type": "code",
   "execution_count": 14,
   "metadata": {
    "collapsed": false
   },
   "outputs": [
    {
     "data": {
      "text/plain": [
       "array([[-3.84246167e-07],\n",
       "       [-3.53815740e-06],\n",
       "       [ 2.01893911e-06]])"
      ]
     },
     "execution_count": 14,
     "metadata": {},
     "output_type": "execute_result"
    }
   ],
   "source": [
    "fn3()"
   ]
  }
 ],
 "metadata": {
  "kernelspec": {
   "display_name": "Python 3",
   "language": "python",
   "name": "python3"
  },
  "language_info": {
   "codemirror_mode": {
    "name": "ipython",
    "version": 3
   },
   "file_extension": ".py",
   "mimetype": "text/x-python",
   "name": "python",
   "nbconvert_exporter": "python",
   "pygments_lexer": "ipython3",
   "version": "3.5.2"
  }
 },
 "nbformat": 4,
 "nbformat_minor": 0
}
