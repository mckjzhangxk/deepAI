{
 "cells": [
  {
   "cell_type": "markdown",
   "metadata": {},
   "source": [
    "## change basic"
   ]
  },
  {
   "cell_type": "code",
   "execution_count": 13,
   "metadata": {
    "collapsed": false
   },
   "outputs": [],
   "source": [
    "import numpy as np\n",
    "def createWordFrame():\n",
    "    return np.eye(3),np.zeros(3)\n",
    "def createRandomFrame(seed=0):\n",
    "    '''\n",
    "    (u,v,w),三个单位为1 的正交向量\n",
    "    '''\n",
    "    np.random.seed(seed)\n",
    "    orgin=np.random.randn(3)\n",
    "    u=np.random.randn(3)\n",
    "    u=u/np.linalg.norm(u)\n",
    "    #默认的\n",
    "    y=np.array([0,1,0])\n",
    "    w=np.cross(u,y)\n",
    "    w=w/np.linalg.norm(w)\n",
    "    v=np.cross(w,u)\n",
    "    v=v/np.linalg.norm(v)\n",
    "    return np.array([u,v,w]).T,orgin\n",
    "def check(U):\n",
    "    d=U.T.dot(U)\n",
    "    print(d)\n",
    "def getPoint(F,orgin,c):\n",
    "    return F.dot(c)+orgin\n",
    "def convertCoordinate(F1,Origin1,F2,Origin2,c1):\n",
    "    '''\n",
    "    F1=(u1,u2,u3,p)\n",
    "    F2=(v1,v2,v3,q)\n",
    "    c1是以F1为basic的点\n",
    "    \n",
    "    求以F2为basic的坐标c2\n",
    "    '''\n",
    "    \n",
    "    x=F1.dot(c1)+Origin1\n",
    "    \n",
    "    c2=np.linalg.inv(F2[:3,:3]).dot(x-Origin2)\n",
    "    return c2"
   ]
  },
  {
   "cell_type": "code",
   "execution_count": 14,
   "metadata": {
    "collapsed": false
   },
   "outputs": [
    {
     "name": "stdout",
     "output_type": "stream",
     "text": [
      "[ -6.15924642  20.90280695 -22.79371808]\n",
      "[ -6.15924642  20.90280695 -22.79371808]\n"
     ]
    }
   ],
   "source": [
    "# I,P=createWordFrame()\n",
    "I,P=createRandomFrame(3)\n",
    "coordinate=[9,22,21]\n",
    "x=getPoint(I,P,coordinate)\n",
    "print(x)\n",
    "Ia,Pa=createRandomFrame()\n",
    "c2=convertCoordinate(I,P,Ia,Pa,coordinate)\n",
    "x=getPoint(Ia,Pa,c2)\n",
    "print(x)"
   ]
  },
  {
   "cell_type": "markdown",
   "metadata": {
    "collapsed": true
   },
   "source": [
    "## 学习一个转换，把3一个三角形转成另外一个三角形"
   ]
  },
  {
   "cell_type": "code",
   "execution_count": 99,
   "metadata": {
    "collapsed": true
   },
   "outputs": [],
   "source": [
    "from matplotlib import pyplot as plt\n",
    "% matplotlib inline\n",
    "\n",
    "def showPolygon(x,pad=0.2):\n",
    "    plt.figure()\n",
    "    poly=plt.Polygon(x)\n",
    "    plt.gca().add_patch(poly)\n",
    "\n",
    "    xmin,xmax=np.min(x[:,0]),np.max(x[:,0])\n",
    "    ymin,ymax=np.min(x[:,1]),np.max(x[:,1])\n",
    "    plt.xlim([xmin-pad,xmax+pad])\n",
    "    plt.ylim([ymin-pad,ymax+pad])\n",
    "    plt.axis('equal')"
   ]
  },
  {
   "cell_type": "code",
   "execution_count": 102,
   "metadata": {
    "collapsed": false
   },
   "outputs": [],
   "source": [
    "triA=[(0.5,0.5),(5,5),(5,-5),(0.5,-0.5)]\n",
    "triB=[(-1,1),(1,1),(1,-1),(-1,-1)]\n",
    "def trans(A,B):\n",
    "    '''\n",
    "    A---->B\n",
    "    A,B  都是3个点的list\n",
    "    学习一个矩阵，B=M(A)\n",
    "    '''\n",
    "    assert len(A)==3\n",
    "    assert len(B)==3\n",
    "    \n",
    "    \n",
    "    xA=np.array([x[0] for x in A])\n",
    "    yA=np.array([x[1] for x in A])\n",
    "    \n",
    "    M=np.ones((len(A),len(A)))\n",
    "    M[:,0]=xA\n",
    "    M[:,1]=yA\n",
    "    \n",
    "    \n",
    "    xb=np.array([x[0] for x in B])\n",
    "    yb=np.array([x[1] for x in B])\n",
    "    \n",
    "    toXb=np.linalg.solve(M,xb)\n",
    "    toYb=np.linalg.solve(M,yb)\n",
    "    \n",
    "    R=np.zeros((len(A),len(A)))\n",
    "    R[0,:]=toXb\n",
    "    R[1,:]=toYb\n",
    "    R[-1,-1]=1\n",
    "    return R\n",
    "def tohomegenious(x):\n",
    "    r=np.ones((x.shape[0]+1,x.shape[1]))\n",
    "    r[:-1,:]=x\n",
    "    return r"
   ]
  },
  {
   "cell_type": "code",
   "execution_count": 103,
   "metadata": {
    "collapsed": false
   },
   "outputs": [
    {
     "data": {
      "image/png": "[encoded data removed]",
      "text/plain": [
       "<Figure size 600x400 with 1 Axes>"
      ]
     },
     "metadata": {},
     "output_type": "display_data"
    },
    {
     "data": {
      "image/png": "[encoded data removed]",
      "text/plain": [
       "<Figure size 600x400 with 1 Axes>"
      ]
     },
     "metadata": {},
     "output_type": "display_data"
    }
   ],
   "source": [
    "A=np.array(triA)\n",
    "showPolygon(A)\n",
    "B=np.array(triB)\n",
    "showPolygon(B)"
   ]
  },
  {
   "cell_type": "code",
   "execution_count": null,
   "metadata": {
    "collapsed": true
   },
   "outputs": [],
   "source": [
    "tr"
   ]
  },
  {
   "cell_type": "code",
   "execution_count": null,
   "metadata": {
    "collapsed": true
   },
   "outputs": [],
   "source": []
  }
 ],
 "metadata": {
  "kernelspec": {
   "display_name": "Python 3",
   "language": "python",
   "name": "python3"
  },
  "language_info": {
   "codemirror_mode": {
    "name": "ipython",
    "version": 3
   },
   "file_extension": ".py",
   "mimetype": "text/x-python",
   "name": "python",
   "nbconvert_exporter": "python",
   "pygments_lexer": "ipython3",
   "version": "3.5.2"
  }
 },
 "nbformat": 4,
 "nbformat_minor": 0
}
