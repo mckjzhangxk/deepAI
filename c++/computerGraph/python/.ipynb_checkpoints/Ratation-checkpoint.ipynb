{
 "cells": [
  {
   "cell_type": "code",
   "execution_count": 2,
   "metadata": {},
   "outputs": [],
   "source": [
    "import numpy as np\n",
    "import matplotlib.pyplot as plt\n",
    "%matplotlib inline"
   ]
  },
  {
   "cell_type": "markdown",
   "metadata": {},
   "source": [
    "### 问题:如何把任意一个向量a 旋转到基本坐标轴,找到这样的矩阵?\n",
    "    我的思路是 \n",
    "    1.找出与a正交的2个向量b,c,并且把a,b,c都单位化,组成 F=[a,b,c]\n",
    "    2.F是正交矩阵R=M.T就是我要找的旋转矩阵R\n",
    "    3.Ra 就把a转到 (1,0,0)的方向,想转会来就用R.T"
   ]
  },
  {
   "cell_type": "code",
   "execution_count": 104,
   "metadata": {},
   "outputs": [],
   "source": [
    "def localFrames(x):\n",
    "    '''\n",
    "    对给出的向量x,找出与x 为第一轴的一组 正交基\n",
    "    返回\n",
    "    \n",
    "    M=[frameX,frameY,frameZ],其中frameX 与x方向一致\n",
    "    '''\n",
    "    if isinstance(x,list):x=np.array(x)\n",
    "        \n",
    "    y=np.random.randn(3)\n",
    "    z=np.cross(x,y)\n",
    "    y=np.cross(z,x)\n",
    "    \n",
    "    frameX=(x/np.linalg.norm(x)).ravel()\n",
    "    frameY=(y/np.linalg.norm(y)).ravel()\n",
    "    frameZ=(z/np.linalg.norm(z)).ravel()\n",
    "\n",
    "    M=np.array([frameX,frameY,frameZ])\n",
    "    return M.T\n",
    "def RotateMatrix(theta):\n",
    "    '''\n",
    "    分别返回绕x,y,z旋转的矩阵\n",
    "    '''\n",
    "    c=np.cos(theta)\n",
    "    s=np.sin(theta)\n",
    "    \n",
    "    RX=np.array([[1,0,0],[0,c,-s],[0,s,c]])\n",
    "    RY=np.array([[c,0,s],[0,1,0],[-s,0,c]])\n",
    "    RZ=np.array([[c,-s,0],[s,c,0],[0,0,1]])\n",
    "    return RX,RY,RZ\n",
    "def rotate(v,point,theta=0):\n",
    "    '''\n",
    "    绕v 转转theta\n",
    "    '''\n",
    "    if isinstance(point,list):\n",
    "        point=np.array(point)\n",
    "        \n",
    "    #先在v建立正交 基\n",
    "    RT=localFrames(v)\n",
    "    R=RT.T\n",
    "    \n",
    "    #用把v旋转到x轴的矩阵R旋转point\n",
    "    p1=R.dot(point)\n",
    "    #point 绕v旋转 相当于 p1绕x 旋转\n",
    "    RX,_,_=RotateMatrix(theta)\n",
    "    \n",
    "    p2=RX.dot(p1)\n",
    "    #最后应该旋转回去\n",
    "    ret=RT.dot(p2)\n",
    "\n",
    "    return ret"
   ]
  },
  {
   "cell_type": "code",
   "execution_count": 105,
   "metadata": {},
   "outputs": [
    {
     "name": "stdout",
     "output_type": "stream",
     "text": [
      "[1 1 1] ,norm: 1.7320508075688772\n",
      "[ 1.73205081e+00  0.00000000e+00 -2.77555756e-17] ,norm: 1.7320508075688776\n",
      "[1. 1. 1.] ,norm: 1.7320508075688776\n"
     ]
    }
   ],
   "source": [
    "axis=np.array([1,1,1])\n",
    "print(axis,\",norm:\",np.linalg.norm(axis))\n",
    "\n",
    "M=localFrames(axis)\n",
    "R=M.T\n",
    "RT=R.T\n",
    "align_axis=R.dot(axis)\n",
    "print(align_axis,\",norm:\",np.linalg.norm(align_axis))\n",
    "axis=RT.dot(align_axis)\n",
    "print(axis,\",norm:\",np.linalg.norm(axis))"
   ]
  },
  {
   "cell_type": "code",
   "execution_count": 110,
   "metadata": {},
   "outputs": [
    {
     "data": {
      "text/plain": [
       "array([-1.,  1.,  0.])"
      ]
     },
     "execution_count": 110,
     "metadata": {},
     "output_type": "execute_result"
    }
   ],
   "source": [
    "axis=np.array([0,0,100])\n",
    "point=np.array([1,1,0])\n",
    "rotate(v=axis,point=point,theta=np.pi/2)"
   ]
  }
 ],
 "metadata": {
  "kernelspec": {
   "display_name": "Python 3",
   "language": "python",
   "name": "python3"
  },
  "language_info": {
   "codemirror_mode": {
    "name": "ipython",
    "version": 3
   },
   "file_extension": ".py",
   "mimetype": "text/x-python",
   "name": "python",
   "nbconvert_exporter": "python",
   "pygments_lexer": "ipython3",
   "version": "3.5.2"
  }
 },
 "nbformat": 4,
 "nbformat_minor": 2
}
