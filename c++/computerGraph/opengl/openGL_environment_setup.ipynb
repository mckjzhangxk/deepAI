{
 "cells": [
  {
   "cell_type": "markdown",
   "metadata": {},
   "source": [
    "### 概述\n",
    "\n",
    "       1.openGL 的使用需要2个环境，桌面环境 和 API设置环境，各有很多选择\n",
    "       \n",
    "       2.桌面环境: glut,glfw\n",
    "       \n",
    "       3.API环境:glew,glad,gl3w"
   ]
  },
  {
   "cell_type": "markdown",
   "metadata": {},
   "source": [
    "#### pkg-config工具使用\n",
    "    1.pkg-config --list-all  //查看所有支持的模块\n",
    "    2.pkg-config glfw3 --cflags --libs //查看头文件，库检索路径，库链接文件\n",
    "    3.pkg-config glfw3 --print-requires-private //查看私有需要什么包文件\n",
    "    4.路径问题：.pc文件一般安装在\n",
    "        /usr/lib/pkgconfig\n",
    "        /usr/share/pkgconfig\n",
    "        /usr/local/lib/pkgconfig\n",
    "        /usr/local/share/pkgconfig\n",
    "        ${PKG_CONFIG_PATH}"
   ]
  },
  {
   "cell_type": "markdown",
   "metadata": {},
   "source": [
    "#### A.桌面环境安装\n",
    "    1.glut\n",
    "        sudo apt-get install build-essential freeglut3 freeglut3-dev binutils-gold\n",
    "    2.glfw\n",
    "        glfw3.3版本,cmake 安装\n",
    "    3.使用注意事项：\n",
    "        glut:<GL/glut.h>, glut库\n",
    "        glfw:<GLFW/glfw3.h>,glfw库, 或者glfw3,X11,pthread\n",
    "        \n",
    "        请使用:cat /usr/local/lib/pkgconfig/glfw3.pc 查看他需要那些库的支持\n",
    "   <b>上述头文件要包含在API头文件后面！！！</b>\n",
    "        "
   ]
  },
  {
   "cell_type": "markdown",
   "metadata": {},
   "source": [
    "#### B.API环境的安装 \n",
    "    1.gl3w:包含 <GL/gl3w.h>,gl3w.c\n",
    "    2.glew:glew2.1.0,cmake 安装\n",
    "    3.使用说明：\n",
    "        glew:<GL/glew.h>,GLEW库\n",
    "        gl3w:<GL/gl3w.h>,gl3w.c,dl库\n",
    "<b>上述头文件在最前面，init操作都要在创建窗口后才可以，gl3w由于是动态加载opengl,需要dl库 ！！！</b>   "
   ]
  },
  {
   "cell_type": "markdown",
   "metadata": {},
   "source": [
    "### C.不要忘记GL库"
   ]
  },
  {
   "cell_type": "markdown",
   "metadata": {},
   "source": [
    "### D.编程前注意事项：\n",
    "    1.检查opengl版本，shade 版本,这三行最重要\n",
    "        glxinfo|grep \"OpenGL\"\n",
    "        OpenGL vendor string: Intel Open Source Technology Center\n",
    "        OpenGL version string: 3.0 Mesa 18.0.5\n",
    "        OpenGL core profile shading language version string: 3.30\n",
    "    2.你的shade脚本的版本号码要与上面的OpenGL core profile对应\n",
    "    3.设置环境变量：MESA_GL_VERSION_OVERRIDE=3.3 "
   ]
  }
 ],
 "metadata": {
  "kernelspec": {
   "display_name": "Python 3",
   "language": "python",
   "name": "python3"
  },
  "language_info": {
   "codemirror_mode": {
    "name": "ipython",
    "version": 3
   },
   "file_extension": ".py",
   "mimetype": "text/x-python",
   "name": "python",
   "nbconvert_exporter": "python",
   "pygments_lexer": "ipython3",
   "version": "3.5.2"
  }
 },
 "nbformat": 4,
 "nbformat_minor": 1
}
