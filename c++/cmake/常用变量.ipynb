{
 "cells": [
  {
   "cell_type": "markdown",
   "metadata": {},
   "source": [
    "    //编译器，编译选项\n",
    "    message(\"c compiler:${CMAKE_C_COMPILER}\")\n",
    "    \n",
    "    message(\"cxx compiler:${CMAKE_CXX_COMPILER}\")\n",
    "    \n",
    "    message(\"c compiler flags:${CMAKE_C_FLAGS}\")\n",
    "    \n",
    "    message(\"cxx compiler flags:${CMAKE_CXX_FLAGS}\")\n",
    "    \n",
    "    \n",
    "    //源文件理解  目标文件路径\n",
    "    message(\"source path:${CMAKE_CURRENT_SOURCE_DIR}\")\n",
    "    \n",
    "    message(\"targin BINARY path:${CMAKE_CURRENT_BINARY_DIR}\")\n",
    "    \n",
    "    \n",
    "    //编译类型（release debug）\n",
    "    message(\"build type:${CMAKE_BUILD_TYPE\n",
    "    \n",
    "    //CMAKE_MODULE_PATH,用于find_package,默认是空，回去默认找/usr/share/cmake_x_y/Modlues,下面的Find*文件\n",
    "    message(\"${CMAKE_MODULE_PATH}\")"
   ]
  },
  {
   "cell_type": "markdown",
   "metadata": {},
   "source": [
    "### find_package\n",
    "    1.查看默认支持的模块,就是/usr/share/cmake_x_y/Modlues下面的Find*文件\n",
    "        cmake --help-module-list\n",
    "    2.cmake --help-module FindCUDA可以查看新添加了哪些变量\n",
    "    3.如果模块不再默认/usr/share/cmake_x_y/Modlues下，设在CMAKE_MODULE_PATH路径就可"
   ]
  },
  {
   "cell_type": "markdown",
   "metadata": {
    "collapsed": true
   },
   "source": [
    "###  编译配置命令\n",
    "    头文件名称\n",
    "        include_directories(include_dir)\n",
    "    库搜索路径\n",
    "        link_directories(lib_dir)"
   ]
  },
  {
   "cell_type": "code",
   "execution_count": null,
   "metadata": {
    "collapsed": true
   },
   "outputs": [],
   "source": []
  }
 ],
 "metadata": {
  "kernelspec": {
   "display_name": "Python 3",
   "language": "python",
   "name": "python3"
  },
  "language_info": {
   "codemirror_mode": {
    "name": "ipython",
    "version": 3
   },
   "file_extension": ".py",
   "mimetype": "text/x-python",
   "name": "python",
   "nbconvert_exporter": "python",
   "pygments_lexer": "ipython3",
   "version": "3.5.2"
  }
 },
 "nbformat": 4,
 "nbformat_minor": 0
}
