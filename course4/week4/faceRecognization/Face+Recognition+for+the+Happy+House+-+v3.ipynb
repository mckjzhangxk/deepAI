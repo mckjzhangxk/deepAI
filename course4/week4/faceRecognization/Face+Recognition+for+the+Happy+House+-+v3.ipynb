{
 "cells": [
  {
   "cell_type": "markdown",
   "metadata": {},
   "source": [
    "# Face Recognition for the Happy House\n",
    "\n",
    "Welcome to the first assignment of week 4! Here you will build a face recognition system. Many of the ideas presented here are from [FaceNet](https://arxiv.org/pdf/1503.03832.pdf). In lecture, we also talked about [DeepFace](https://research.fb.com/wp-content/uploads/2016/11/deepface-closing-the-gap-to-human-level-performance-in-face-verification.pdf). \n",
    "\n",
    "Face recognition problems commonly fall into two categories: \n",
    "\n",
    "- **Face Verification** - \"is this the claimed person?\". For example, at some airports, you can pass through customs by letting a system scan your passport and then verifying that you (the person carrying the passport) are the correct person. A mobile phone that unlocks using your face is also using face verification. This is a 1:1 matching problem. \n",
    "- **Face Recognition** - \"who is this person?\". For example, the video lecture showed a face recognition video (https://www.youtube.com/watch?v=wr4rx0Spihs) of Baidu employees entering the office without needing to otherwise identify themselves. This is a 1:K matching problem. \n",
    "\n",
    "FaceNet learns a neural network that encodes a face image into a vector of 128 numbers. By comparing two such vectors, you can then determine if two pictures are of the same person.\n",
    "    \n",
    "**In this assignment, you will:**\n",
    "- Implement the triplet loss function\n",
    "- Use a pretrained model to map face images into 128-dimensional encodings\n",
    "- Use these encodings to perform face verification and face recognition\n",
    "\n",
    "In this exercise, we will be using a pre-trained model which represents ConvNet activations using a \"channels first\" convention, as opposed to the \"channels last\" convention used in lecture and previous programming assignments. In other words, a batch of images will be of shape $(m, n_C, n_H, n_W)$ instead of $(m, n_H, n_W, n_C)$. Both of these conventions have a reasonable amount of traction among open-source implementations; there isn't a uniform standard yet within the deep learning community. \n",
    "\n",
    "Let's load the required packages. \n"
   ]
  },
  {
   "cell_type": "code",
   "execution_count": 1,
   "metadata": {
    "collapsed": false
   },
   "outputs": [
    {
     "name": "stderr",
     "output_type": "stream",
     "text": [
      "Using TensorFlow backend.\n"
     ]
    }
   ],
   "source": [
    "import binascii\n",
    "from keras.models import Sequential,load_model\n",
    "from keras.layers import Conv2D, ZeroPadding2D, Activation, Input, concatenate\n",
    "from keras.models import Model\n",
    "from keras.layers.normalization import BatchNormalization\n",
    "from keras.layers.pooling import MaxPooling2D, AveragePooling2D\n",
    "from keras.layers.merge import Concatenate\n",
    "from keras.layers.core import Lambda, Flatten, Dense\n",
    "from keras.initializers import glorot_uniform\n",
    "from keras.engine.topology import Layer\n",
    "from keras import backend as K\n",
    "from keras.utils import CustomObjectScope\n",
    "K.set_image_data_format('channels_first')\n",
    "import cv2\n",
    "import os\n",
    "import numpy as np\n",
    "from numpy import genfromtxt\n",
    "import pandas as pd\n",
    "import tensorflow as tf\n",
    "from fr_utils import *\n",
    "from inception_blocks_v2 import *\n",
    "import time\n",
    "%matplotlib inline\n",
    "%load_ext autoreload\n",
    "%autoreload 2\n",
    "\n",
    "np.set_printoptions(threshold=np.nan)"
   ]
  },
  {
   "cell_type": "markdown",
   "metadata": {},
   "source": [
    "## 0 - Naive Face Verification\n",
    "\n",
    "In Face Verification, you're given two images and you have to tell if they are of the same person. The simplest way to do this is to compare the two images pixel-by-pixel. If the distance between the raw images are less than a chosen threshold, it may be the same person! \n",
    "\n",
    "<img src=\"images/pixel_comparison.png\" style=\"width:380px;height:150px;\">\n",
    "<caption><center> <u> <font color='purple'> **Figure 1** </u></center></caption>"
   ]
  },
  {
   "cell_type": "markdown",
   "metadata": {
    "collapsed": true
   },
   "source": [
    "Of course, this algorithm performs really poorly, since the pixel values change dramatically due to variations in lighting, orientation of the person's face, even minor changes in head position, and so on. \n",
    "\n",
    "You'll see that rather than using the raw image, you can learn an encoding $f(img)$ so that element-wise comparisons of this encoding gives more accurate judgements as to whether two pictures are of the same person."
   ]
  },
  {
   "cell_type": "markdown",
   "metadata": {},
   "source": [
    "## 1 - Encoding face images into a 128-dimensional vector \n",
    "\n",
    "### 1.1 - Using an ConvNet  to compute encodings\n",
    "\n",
    "The FaceNet model takes a lot of data and a long time to train. So following common practice in applied deep learning settings, let's just load weights that someone else has already trained. The network architecture follows the Inception model from [Szegedy *et al.*](https://arxiv.org/abs/1409.4842). We have provided an inception network implementation. You can look in the file `inception_blocks.py` to see how it is implemented (do so by going to \"File->Open...\" at the top of the Jupyter notebook).  \n"
   ]
  },
  {
   "cell_type": "markdown",
   "metadata": {},
   "source": [
    "The key things you need to know are:\n",
    "\n",
    "- This network uses 96x96 dimensional RGB images as its input. Specifically, inputs a face image (or batch of $m$ face images) as a tensor of shape $(m, n_C, n_H, n_W) = (m, 3, 96, 96)$ \n",
    "- It outputs a matrix of shape $(m, 128)$ that encodes each input face image into a 128-dimensional vector\n",
    "\n",
    "Run the cell below to create the model for face images."
   ]
  },
  {
   "cell_type": "code",
   "execution_count": 3,
   "metadata": {
    "collapsed": false
   },
   "outputs": [],
   "source": [
    "FRmodel = faceRecoModel(input_shape=(3, 96, 96))"
   ]
  },
  {
   "cell_type": "code",
   "execution_count": 37,
   "metadata": {
    "collapsed": false
   },
   "outputs": [
    {
     "name": "stdout",
     "output_type": "stream",
     "text": [
      "Total Params: 3743280\n",
      "<keras.engine.training.Model object at 0x7f9c3eb16240>\n"
     ]
    }
   ],
   "source": [
    "print(\"Total Params:\", FRmodel.count_params())\n",
    "print(FRmodel)"
   ]
  },
  {
   "cell_type": "markdown",
   "metadata": {},
   "source": [
    "** Expected Output **\n",
    "<table>\n",
    "<center>\n",
    "Total Params: 3743280\n",
    "</center>\n",
    "</table>\n"
   ]
  },
  {
   "cell_type": "code",
   "execution_count": 38,
   "metadata": {
    "collapsed": true
   },
   "outputs": [],
   "source": [
    "from keras.utils import plot_model\n",
    "plot_model(FRmodel, to_file='zhangxk_model.png',show_shapes=True)"
   ]
  },
  {
   "cell_type": "markdown",
   "metadata": {},
   "source": [
    "By using a 128-neuron fully connected layer as its last layer, the model ensures that the output is an encoding vector of size 128. You then use the encodings the compare two face images as follows:\n",
    "\n",
    "<img src=\"images/distance_kiank.png\" style=\"width:680px;height:250px;\">\n",
    "<caption><center> <u> <font color='purple'> **Figure 2**: <br> </u> <font color='purple'> By computing a distance between two encodings and thresholding, you can determine if the two pictures represent the same person</center></caption>\n",
    "\n",
    "So, an encoding is a good one if: \n",
    "- The encodings of two images of the same person are quite similar to each other \n",
    "- The encodings of two images of different persons are very different\n",
    "\n",
    "The triplet loss function formalizes this, and tries to \"push\" the encodings of two images of the same person (Anchor and Positive) closer together, while \"pulling\" the encodings of two images of different persons (Anchor, Negative) further apart. \n",
    "\n",
    "<img src=\"images/triplet_comparison.png\" style=\"width:280px;height:150px;\">\n",
    "<br>\n",
    "<caption><center> <u> <font color='purple'> **Figure 3**: <br> </u> <font color='purple'> In the next part, we will call the pictures from left to right: Anchor (A), Positive (P), Negative (N)  </center></caption>"
   ]
  },
  {
   "cell_type": "markdown",
   "metadata": {},
   "source": [
    "\n",
    "\n",
    "### 1.2 - The Triplet Loss\n",
    "\n",
    "For an image $x$, we denote its encoding $f(x)$, where $f$ is the function computed by the neural network.\n",
    "\n",
    "<img src=\"images/f_x.png\" style=\"width:380px;height:150px;\">\n",
    "\n",
    "<!--\n",
    "We will also add a normalization step at the end of our model so that $\\mid \\mid f(x) \\mid \\mid_2 = 1$ (means the vector of encoding should be of norm 1).\n",
    "!-->\n",
    "\n",
    "Training will use triplets of images $(A, P, N)$:  \n",
    "\n",
    "- A is an \"Anchor\" image--a picture of a person. \n",
    "- P is a \"Positive\" image--a picture of the same person as the Anchor image.\n",
    "- N is a \"Negative\" image--a picture of a different person than the Anchor image.\n",
    "\n",
    "These triplets are picked from our training dataset. We will write $(A^{(i)}, P^{(i)}, N^{(i)})$ to denote the $i$-th training example. \n",
    "\n",
    "You'd like to make sure that an image $A^{(i)}$ of an individual is closer to the Positive $P^{(i)}$ than to the Negative image $N^{(i)}$) by at least a margin $\\alpha$:\n",
    "\n",
    "$$\\mid \\mid f(A^{(i)}) - f(P^{(i)}) \\mid \\mid_2^2 + \\alpha < \\mid \\mid f(A^{(i)}) - f(N^{(i)}) \\mid \\mid_2^2$$\n",
    "\n",
    "You would thus like to minimize the following \"triplet cost\":\n",
    "\n",
    "$$\\mathcal{J} = \\sum^{m}_{i=1} \\large[ \\small \\underbrace{\\mid \\mid f(A^{(i)}) - f(P^{(i)}) \\mid \\mid_2^2}_\\text{(1)} - \\underbrace{\\mid \\mid f(A^{(i)}) - f(N^{(i)}) \\mid \\mid_2^2}_\\text{(2)} + \\alpha \\large ] \\small_+ \\tag{3}$$\n",
    "\n",
    "Here, we are using the notation \"$[z]_+$\" to denote $max(z,0)$.  \n",
    "\n",
    "Notes:\n",
    "- The term (1) is the squared distance between the anchor \"A\" and the positive \"P\" for a given triplet; you want this to be small. \n",
    "- The term (2) is the squared distance between the anchor \"A\" and the negative \"N\" for a given triplet, you want this to be relatively large, so it thus makes sense to have a minus sign preceding it. \n",
    "- $\\alpha$ is called the margin. It is a hyperparameter that you should pick manually. We will use $\\alpha = 0.2$. \n",
    "\n",
    "Most implementations also normalize the encoding vectors  to have norm equal one (i.e., $\\mid \\mid f(img)\\mid \\mid_2$=1); you won't have to worry about that here.\n",
    "\n",
    "**Exercise**: Implement the triplet loss as defined by formula (3). Here are the 4 steps:\n",
    "1. Compute the distance between the encodings of \"anchor\" and \"positive\": $\\mid \\mid f(A^{(i)}) - f(P^{(i)}) \\mid \\mid_2^2$\n",
    "2. Compute the distance between the encodings of \"anchor\" and \"negative\": $\\mid \\mid f(A^{(i)}) - f(N^{(i)}) \\mid \\mid_2^2$\n",
    "3. Compute the formula per training example: $ \\mid \\mid f(A^{(i)}) - f(P^{(i)}) \\mid - \\mid \\mid f(A^{(i)}) - f(N^{(i)}) \\mid \\mid_2^2 + \\alpha$\n",
    "3. Compute the full formula by taking the max with zero and summing over the training examples:\n",
    "$$\\mathcal{J} = \\sum^{m}_{i=1} \\large[ \\small \\mid \\mid f(A^{(i)}) - f(P^{(i)}) \\mid \\mid_2^2 - \\mid \\mid f(A^{(i)}) - f(N^{(i)}) \\mid \\mid_2^2+ \\alpha \\large ] \\small_+ \\tag{3}$$\n",
    "\n",
    "Useful functions: `tf.reduce_sum()`, `tf.square()`, `tf.subtract()`, `tf.add()`, `tf.maximum()`.\n",
    "For steps 1 and 2, you will need to sum over the entries of $\\mid \\mid f(A^{(i)}) - f(P^{(i)}) \\mid \\mid_2^2$ and $\\mid \\mid f(A^{(i)}) - f(N^{(i)}) \\mid \\mid_2^2$ while for step 4 you will need to sum over the training examples."
   ]
  },
  {
   "cell_type": "code",
   "execution_count": 39,
   "metadata": {
    "collapsed": true
   },
   "outputs": [],
   "source": [
    "# GRADED FUNCTION: triplet_loss\n",
    "\n",
    "def triplet_loss(y_true, y_pred, alpha = 0.2):\n",
    "    \"\"\"\n",
    "    Implementation of the triplet loss as defined by formula (3)\n",
    "    \n",
    "    Arguments:\n",
    "    y_true -- true labels, required when you define a loss in Keras, you don't need it in this function.\n",
    "    y_pred -- python list containing three objects:\n",
    "            anchor -- the encodings for the anchor images, of shape (None, 128)\n",
    "            positive -- the encodings for the positive images, of shape (None, 128)\n",
    "            negative -- the encodings for the negative images, of shape (None, 128)\n",
    "    \n",
    "    Returns:\n",
    "    loss -- real number, value of the loss\n",
    "    \"\"\"\n",
    "    \n",
    "    anchor, positive, negative = y_pred[0], y_pred[1], y_pred[2]\n",
    "    \n",
    "    ### START CODE HERE ### (≈ 4 lines)\n",
    "    # Step 1: Compute the (encoding) distance between the anchor and the positive, you will need to sum over axis=-1\n",
    "    pos_dist = tf.reduce_sum((anchor-positive)**2,axis=-1)\n",
    "    # Step 2: Compute the (encoding) distance between the anchor and the negative, you will need to sum over axis=-1\n",
    "    neg_dist = tf.reduce_sum((anchor-negative)**2,axis=-1)\n",
    "    # Step 3: subtract the two previous distances and add alpha.\n",
    "    basic_loss = pos_dist-neg_dist+alpha\n",
    "    # Step 4: Take the maximum of basic_loss and 0.0. Sum over the training examples.\n",
    "    loss = tf.reduce_sum(tf.maximum(basic_loss,0))\n",
    "    ### END CODE HERE ###\n",
    "    \n",
    "    return loss"
   ]
  },
  {
   "cell_type": "code",
   "execution_count": 40,
   "metadata": {
    "collapsed": false
   },
   "outputs": [
    {
     "name": "stdout",
     "output_type": "stream",
     "text": [
      "loss = 528.1427\n"
     ]
    }
   ],
   "source": [
    "with tf.Session() as test:\n",
    "    tf.set_random_seed(1)\n",
    "    y_true = (None, None, None)\n",
    "    y_pred = (tf.random_normal([3, 128], mean=6, stddev=0.1, seed = 1),\n",
    "              tf.random_normal([3, 128], mean=1, stddev=1, seed = 1),\n",
    "              tf.random_normal([3, 128], mean=3, stddev=4, seed = 1))\n",
    "    loss = triplet_loss(y_true, y_pred)\n",
    "    \n",
    "    print(\"loss = \" + str(loss.eval()))"
   ]
  },
  {
   "cell_type": "code",
   "execution_count": 41,
   "metadata": {
    "collapsed": true
   },
   "outputs": [],
   "source": [
    "#try again\n",
    "# t_d=(np.random.randn(3,128),np.random.randn(3,128),np.random.randn(3,128))\n",
    "# t_loss=triplet_loss(None,t_d)\n",
    "# sess=tf.Session()\n",
    "# print(sess.run(t_loss))"
   ]
  },
  {
   "cell_type": "markdown",
   "metadata": {},
   "source": [
    "**Expected Output**:\n",
    "\n",
    "<table>\n",
    "    <tr>\n",
    "        <td>\n",
    "            **loss**\n",
    "        </td>\n",
    "        <td>\n",
    "           528.143\n",
    "        </td>\n",
    "    </tr>\n",
    "\n",
    "</table>"
   ]
  },
  {
   "cell_type": "markdown",
   "metadata": {},
   "source": [
    "## 2 - Loading the trained model\n",
    "\n",
    "FaceNet is trained by minimizing the triplet loss. But since training requires a lot of data and a lot of computation, we won't train it from scratch here. Instead, we load a previously trained model. Load a model using the following cell; this might take a couple of minutes to run. "
   ]
  },
  {
   "cell_type": "code",
   "execution_count": 42,
   "metadata": {
    "collapsed": false
   },
   "outputs": [],
   "source": [
    "FRmodel.compile(optimizer = 'adam', loss = triplet_loss, metrics = ['accuracy'])\n",
    "load_weights_from_FaceNet(FRmodel)"
   ]
  },
  {
   "cell_type": "markdown",
   "metadata": {},
   "source": [
    "Here're some examples of distances between the encodings between three individuals:\n",
    "\n",
    "<img src=\"images/distance_matrix.png\" style=\"width:380px;height:200px;\">\n",
    "<br>\n",
    "<caption><center> <u> <font color='purple'> **Figure 4**:</u> <br>  <font color='purple'> Example of distance outputs between three individuals' encodings</center></caption>\n",
    "\n",
    "Let's now use this model to perform face verification and face recognition! "
   ]
  },
  {
   "cell_type": "markdown",
   "metadata": {},
   "source": [
    "## 3 - Applying the model"
   ]
  },
  {
   "cell_type": "markdown",
   "metadata": {},
   "source": [
    "Back to the Happy House! Residents are living blissfully since you implemented happiness recognition for the house in an earlier assignment.  \n",
    "\n",
    "However, several issues keep coming up: The Happy House became so happy that every happy person in the neighborhood is coming to hang out in your living room. It is getting really crowded, which is having a negative impact on the residents of the house. All these random happy people are also eating all your food. \n",
    "\n",
    "So, you decide to change the door entry policy, and not just let random happy people enter anymore, even if they are happy! Instead, you'd like to build a **Face verification** system so as to only let people from a specified list come in. To get admitted, each person has to swipe an ID card (identification card) to identify themselves at the door. The face recognition system then checks that they are who they claim to be. "
   ]
  },
  {
   "cell_type": "markdown",
   "metadata": {},
   "source": [
    "### 3.1 - Face Verification\n",
    "\n",
    "Let's build a database containing one encoding vector for each person allowed to enter the happy house. To generate the encoding we use `img_to_encoding(image_path, model)` which basically runs the forward propagation of the model on the specified image. \n",
    "\n",
    "Run the following code to build the database (represented as a python dictionary). This database maps each person's name to a 128-dimensional encoding of their face."
   ]
  },
  {
   "cell_type": "code",
   "execution_count": 43,
   "metadata": {
    "collapsed": true
   },
   "outputs": [],
   "source": [
    "database = {}\n",
    "database[\"danielle\"] = img_to_encoding(\"images/danielle.png\", FRmodel)\n",
    "database[\"younes\"] = img_to_encoding(\"images/younes.jpg\", FRmodel)\n",
    "database[\"tian\"] = img_to_encoding(\"images/tian.jpg\", FRmodel)\n",
    "database[\"andrew\"] = img_to_encoding(\"images/andrew.jpg\", FRmodel)\n",
    "database[\"kian\"] = img_to_encoding(\"images/kian.jpg\", FRmodel)\n",
    "database[\"dan\"] = img_to_encoding(\"images/dan.jpg\", FRmodel)\n",
    "database[\"sebastiano\"] = img_to_encoding(\"images/sebastiano.jpg\", FRmodel)\n",
    "database[\"bertrand\"] = img_to_encoding(\"images/bertrand.jpg\", FRmodel)\n",
    "database[\"kevin\"] = img_to_encoding(\"images/kevin.jpg\", FRmodel)\n",
    "database[\"felix\"] = img_to_encoding(\"images/felix.jpg\", FRmodel)\n",
    "database[\"benoit\"] = img_to_encoding(\"images/benoit.jpg\", FRmodel)\n",
    "database[\"arnaud\"] = img_to_encoding(\"images/arnaud.jpg\", FRmodel)"
   ]
  },
  {
   "cell_type": "code",
   "execution_count": 44,
   "metadata": {
    "collapsed": false
   },
   "outputs": [
    {
     "name": "stdout",
     "output_type": "stream",
     "text": [
      "Using CPU,average speed is 0.072989 second per image\n"
     ]
    }
   ],
   "source": [
    "#How fast does the algrithem?\n",
    "# Using GPU,average speed is 0.014998 second per image\n",
    "# Using CPU,average seed is 0.078846 second per image\n",
    "start=time.time()\n",
    "N=10\n",
    "for i in range(N):img_to_encoding(\"images/arnaud.jpg\", FRmodel)\n",
    "end=time.time()\n",
    "if(tf.test.is_gpu_available()):\n",
    "    print('Using GPU,average speed is %f second per image'%((end-start)/N))\n",
    "else:\n",
    "    print('Using CPU,average speed is %f second per image'%((end-start)/N))"
   ]
  },
  {
   "cell_type": "code",
   "execution_count": 45,
   "metadata": {
    "collapsed": false
   },
   "outputs": [],
   "source": [
    "model_path='FaceRecognizationDataset/nn4.small2.v1.h5'\n",
    "# with CustomObjectScope({'tf': tf}):\n",
    "#     FRmodel= load_model(model_path)\n",
    "# FRmodel=load_model(model_path,custom_objects={'tf':tf})\n",
    "FRmodel.save(model_path)"
   ]
  },
  {
   "cell_type": "markdown",
   "metadata": {},
   "source": [
    "Now, when someone shows up at your front door and swipes their ID card (thus giving you their name), you can look up their encoding in the database, and use it to check if the person standing at the front door matches the name on the ID.\n",
    "\n",
    "**Exercise**: Implement the verify() function which checks if the front-door camera picture (`image_path`) is actually the person called \"identity\". You will have to go through the following steps:\n",
    "1. Compute the encoding of the image from image_path\n",
    "2. Compute the distance about this encoding and the encoding of the identity image stored in the database\n",
    "3. Open the door if the distance is less than 0.7, else do not open.\n",
    "\n",
    "As presented above, you should use the L2 distance (np.linalg.norm). (Note: In this implementation, compare the L2 distance, not the square of the L2 distance, to the threshold 0.7.) "
   ]
  },
  {
   "cell_type": "code",
   "execution_count": 46,
   "metadata": {
    "collapsed": true
   },
   "outputs": [],
   "source": [
    "# GRADED FUNCTION: verify\n",
    "\n",
    "def verify(image_path, identity, database, model):\n",
    "    \"\"\"\n",
    "    Function that verifies if the person on the \"image_path\" image is \"identity\".\n",
    "    \n",
    "    Arguments:\n",
    "    image_path -- path to an image\n",
    "    identity -- string, name of the person you'd like to verify the identity. Has to be a resident of the Happy house.\n",
    "    database -- python dictionary mapping names of allowed people's names (strings) to their encodings (vectors).\n",
    "    model -- your Inception model instance in Keras\n",
    "    \n",
    "    Returns:\n",
    "    dist -- distance between the image_path and the image of \"identity\" in the database.\n",
    "    door_open -- True, if the door should open. False otherwise.\n",
    "    \"\"\"\n",
    "    \n",
    "    ### START CODE HERE ###\n",
    "    \n",
    "    # Step 1: Compute the encoding for the image. Use img_to_encoding() see example above. (≈ 1 line)\n",
    "    encoding = img_to_encoding(image_path,model)\n",
    "    \n",
    "    # Step 2: Compute distance with identity's image (≈ 1 line)\n",
    "    dist = np.sqrt(np.sum((encoding-database[identity])**2))\n",
    "    \n",
    "    # Step 3: Open the door if dist < 0.7, else don't open (≈ 3 lines)\n",
    "    if dist<0.7:\n",
    "        print(\"It's \" + str(identity) + \", welcome home!\")\n",
    "        door_open = True\n",
    "    else:\n",
    "        print(\"It's not \" + str(identity) + \", please go away\")\n",
    "        door_open = False\n",
    "        \n",
    "    ### END CODE HERE ###\n",
    "        \n",
    "    return dist, door_open"
   ]
  },
  {
   "cell_type": "markdown",
   "metadata": {},
   "source": [
    "Younes is trying to enter the Happy House and the camera takes a picture of him (\"images/camera_0.jpg\"). Let's run your verification algorithm on this picture:\n",
    "\n",
    "<img src=\"images/camera_0.jpg\" style=\"width:100px;height:100px;\">"
   ]
  },
  {
   "cell_type": "code",
   "execution_count": 47,
   "metadata": {
    "collapsed": false
   },
   "outputs": [
    {
     "name": "stdout",
     "output_type": "stream",
     "text": [
      "It's not arnaud, please go away\n",
      "(0.83424777, False)\n",
      "It's not bertrand, please go away\n",
      "(0.7703464, False)\n",
      "It's not andrew, please go away\n",
      "(0.99733216, False)\n",
      "It's not tian, please go away\n",
      "(1.2178241, False)\n",
      "It's not kian, please go away\n",
      "(0.8584249, False)\n",
      "It's not kevin, please go away\n",
      "(0.87247974, False)\n",
      "It's not benoit, please go away\n",
      "(0.8985909, False)\n",
      "It's not danielle, please go away\n",
      "(1.2086715, False)\n",
      "It's not sebastiano, please go away\n",
      "(0.85477823, False)\n",
      "It's younes, welcome home!\n",
      "(0.67100745, True)\n",
      "It's not felix, please go away\n",
      "(1.2057526, False)\n",
      "It's not dan, please go away\n",
      "(0.7680196, False)\n"
     ]
    }
   ],
   "source": [
    "for person in database:\n",
    "    print(verify(\"images/camera_0.jpg\", person, database, FRmodel))"
   ]
  },
  {
   "cell_type": "markdown",
   "metadata": {
    "collapsed": true
   },
   "source": [
    "**Expected Output**:\n",
    "\n",
    "<table>\n",
    "    <tr>\n",
    "        <td>\n",
    "            **It's younes, welcome home!**\n",
    "        </td>\n",
    "        <td>\n",
    "           (0.65939283, True)\n",
    "        </td>\n",
    "    </tr>\n",
    "\n",
    "</table>"
   ]
  },
  {
   "cell_type": "markdown",
   "metadata": {
    "collapsed": true
   },
   "source": [
    "Benoit, who broke the aquarium last weekend, has been banned from the house and removed from the database. He stole Kian's ID card and came back to the house to try to present himself as Kian. The front-door camera took a picture of Benoit (\"images/camera_2.jpg). Let's run the verification algorithm to check if benoit can enter.\n",
    "<img src=\"images/camera_2.jpg\" style=\"width:100px;height:100px;\">"
   ]
  },
  {
   "cell_type": "code",
   "execution_count": 48,
   "metadata": {
    "collapsed": false
   },
   "outputs": [
    {
     "name": "stdout",
     "output_type": "stream",
     "text": [
      "It's not kian, please go away\n"
     ]
    },
    {
     "data": {
      "text/plain": [
       "(0.8584249, False)"
      ]
     },
     "execution_count": 48,
     "metadata": {},
     "output_type": "execute_result"
    }
   ],
   "source": [
    "verify(\"images/camera_0.jpg\", \"kian\", database, FRmodel)"
   ]
  },
  {
   "cell_type": "markdown",
   "metadata": {},
   "source": [
    "**Expected Output**:\n",
    "\n",
    "<table>\n",
    "    <tr>\n",
    "        <td>\n",
    "            **It's not kian, please go away**\n",
    "        </td>\n",
    "        <td>\n",
    "           (0.86224014, False)\n",
    "        </td>\n",
    "    </tr>\n",
    "\n",
    "</table>"
   ]
  },
  {
   "cell_type": "markdown",
   "metadata": {},
   "source": [
    "### 3.2 - Face Recognition\n",
    "\n",
    "Your face verification system is mostly working well. But since Kian got his ID card stolen, when he came back to the house that evening he couldn't get in! \n",
    "\n",
    "To reduce such shenanigans, you'd like to change your face verification system to a face recognition system. This way, no one has to carry an ID card anymore. An authorized person can just walk up to the house, and the front door will unlock for them! \n",
    "\n",
    "You'll implement a face recognition system that takes as input an image, and figures out if it is one of the authorized persons (and if so, who). Unlike the previous face verification system, we will no longer get a person's name as another input. \n",
    "\n",
    "**Exercise**: Implement `who_is_it()`. You will have to go through the following steps:\n",
    "1. Compute the target encoding of the image from image_path\n",
    "2. Find the encoding from the database that has smallest distance with the target encoding. \n",
    "    - Initialize the `min_dist` variable to a large enough number (100). It will help you keep track of what is the closest encoding to the input's encoding.\n",
    "    - Loop over the database dictionary's names and encodings. To loop use `for (name, db_enc) in database.items()`.\n",
    "        - Compute L2 distance between the target \"encoding\" and the current \"encoding\" from the database.\n",
    "        - If this distance is less than the min_dist, then set min_dist to dist, and identity to name."
   ]
  },
  {
   "cell_type": "code",
   "execution_count": 49,
   "metadata": {
    "collapsed": true
   },
   "outputs": [],
   "source": [
    "# GRADED FUNCTION: who_is_it\n",
    "\n",
    "def who_is_it(image_path, database, model):\n",
    "    \"\"\"\n",
    "    Implements face recognition for the happy house by finding who is the person on the image_path image.\n",
    "    \n",
    "    Arguments:\n",
    "    image_path -- path to an image\n",
    "    database -- database containing image encodings along with the name of the person on the image\n",
    "    model -- your Inception model instance in Keras\n",
    "    \n",
    "    Returns:\n",
    "    min_dist -- the minimum distance between image_path encoding and the encodings from the database\n",
    "    identity -- string, the name prediction for the person on image_path\n",
    "    \"\"\"\n",
    "    \n",
    "    ### START CODE HERE ### \n",
    "    \n",
    "    ## Step 1: Compute the target \"encoding\" for the image. Use img_to_encoding() see example above. ## (≈ 1 line)\n",
    "    encoding = img_to_encoding(image_path,model)\n",
    "    \n",
    "    ## Step 2: Find the closest encoding ##\n",
    "    \n",
    "    # Initialize \"min_dist\" to a large value, say 100 (≈1 line)\n",
    "    min_dist = 100\n",
    "    \n",
    "    # Loop over the database dictionary's names and encodings.\n",
    "    for (name, db_enc) in database.items():\n",
    "        \n",
    "        # Compute L2 distance between the target \"encoding\" and the current \"emb\" from the database. (≈ 1 line)\n",
    "        dist = np.sqrt(np.sum((encoding-db_enc)**2))\n",
    "\n",
    "        # If this distance is less than the min_dist, then set min_dist to dist, and identity to name. (≈ 3 lines)\n",
    "        if dist<min_dist:\n",
    "            min_dist = dist\n",
    "            identity = name\n",
    "\n",
    "    ### END CODE HERE ###\n",
    "    \n",
    "    if min_dist > 0.7:\n",
    "        print(\"Not in the database.\")\n",
    "    else:\n",
    "        print (\"it's \" + str(identity) + \", the distance is \" + str(min_dist))\n",
    "        \n",
    "    return min_dist, identity"
   ]
  },
  {
   "cell_type": "markdown",
   "metadata": {},
   "source": [
    "Younes is at the front-door and the camera takes a picture of him (\"images/camera_0.jpg\"). Let's see if your who_it_is() algorithm identifies Younes. "
   ]
  },
  {
   "cell_type": "code",
   "execution_count": 50,
   "metadata": {
    "collapsed": false,
    "scrolled": false
   },
   "outputs": [
    {
     "name": "stdout",
     "output_type": "stream",
     "text": [
      "it's younes, the distance is 0.67100745\n"
     ]
    },
    {
     "data": {
      "text/plain": [
       "(0.67100745, 'younes')"
      ]
     },
     "execution_count": 50,
     "metadata": {},
     "output_type": "execute_result"
    }
   ],
   "source": [
    "who_is_it(\"images/camera_0.jpg\", database, FRmodel)"
   ]
  },
  {
   "cell_type": "markdown",
   "metadata": {},
   "source": [
    "**Expected Output**:\n",
    "\n",
    "<table>\n",
    "    <tr>\n",
    "        <td>\n",
    "            **it's younes, the distance is 0.659393**\n",
    "        </td>\n",
    "        <td>\n",
    "           (0.65939283, 'younes')\n",
    "        </td>\n",
    "    </tr>\n",
    "\n",
    "</table>"
   ]
  },
  {
   "cell_type": "markdown",
   "metadata": {},
   "source": [
    "You can change \"`camera_0.jpg`\" (picture of younes) to \"`camera_1.jpg`\" (picture of bertrand) and see the result."
   ]
  },
  {
   "cell_type": "markdown",
   "metadata": {},
   "source": [
    "Your Happy House is running well. It only lets in authorized persons, and people don't need to carry an ID card around anymore! \n",
    "\n",
    "You've now seen how a state-of-the-art face recognition system works.\n",
    "\n",
    "Although we won't implement it here, here're some ways to further improve the algorithm:\n",
    "- Put more images of each person (under different lighting conditions, taken on different days, etc.) into the database. Then given a new image, compare the new face to multiple pictures of the person. This would increae accuracy.\n",
    "- Crop the images to just contain the face, and less of the \"border\" region around the face. This preprocessing removes some of the irrelevant pixels around the face, and also makes the algorithm more robust.\n"
   ]
  },
  {
   "cell_type": "markdown",
   "metadata": {},
   "source": [
    "<font color='blue'>\n",
    "**What you should remember**:\n",
    "- Face verification solves an easier 1:1 matching problem; face recognition addresses a harder 1:K matching problem. \n",
    "- The triplet loss is an effective loss function for training a neural network to learn an encoding of a face image.\n",
    "- The same encoding can be used for verification and recognition. Measuring distances between two images' encodings allows you to determine whether they are pictures of the same person. "
   ]
  },
  {
   "cell_type": "markdown",
   "metadata": {},
   "source": [
    "Congrats on finishing this assignment! \n"
   ]
  },
  {
   "cell_type": "markdown",
   "metadata": {},
   "source": [
    "### References:\n",
    "\n",
    "- Florian Schroff, Dmitry Kalenichenko, James Philbin (2015). [FaceNet: A Unified Embedding for Face Recognition and Clustering](https://arxiv.org/pdf/1503.03832.pdf)\n",
    "- Yaniv Taigman, Ming Yang, Marc'Aurelio Ranzato, Lior Wolf (2014). [DeepFace: Closing the gap to human-level performance in face verification](https://research.fb.com/wp-content/uploads/2016/11/deepface-closing-the-gap-to-human-level-performance-in-face-verification.pdf) \n",
    "- The pretrained model we use is inspired by Victor Sy Wang's implementation and was loaded using his code: https://github.com/iwantooxxoox/Keras-OpenFace.\n",
    "- Our implementation also took a lot of inspiration from the official FaceNet github repository: https://github.com/davidsandberg/facenet \n"
   ]
  },
  {
   "cell_type": "markdown",
   "metadata": {},
   "source": [
    "## challenage :Compare to Model 1"
   ]
  },
  {
   "cell_type": "code",
   "execution_count": 3,
   "metadata": {
    "collapsed": true
   },
   "outputs": [],
   "source": [
    "import itertools\n",
    "import pickle\n",
    "from sklearn import metrics\n",
    "import numpy as np\n",
    "import dlib\n",
    "import PIL.Image as Image\n",
    "import PIL.ImageDraw as ImageDraw\n",
    "import PIL.ImageFont as ImageFont"
   ]
  },
  {
   "cell_type": "code",
   "execution_count": 18,
   "metadata": {
    "collapsed": false
   },
   "outputs": [
    {
     "data": {
      "text/plain": [
       "<matplotlib.image.AxesImage at 0x7fb3f559a0b8>"
      ]
     },
     "execution_count": 18,
     "metadata": {},
     "output_type": "execute_result"
    },
    {
     "data": {
      "image/png": "[encoded data removed]",
      "text/plain": [
       "<matplotlib.figure.Figure at 0x7fb3f56291d0>"
      ]
     },
     "metadata": {},
     "output_type": "display_data"
    }
   ],
   "source": [
    "def proprocessImage(image_path,upsamplenum=3,interp=cv2.INTER_LANCZOS4,pad=1):\n",
    "    detector = dlib.get_frontal_face_detector()\n",
    "    img1 = dlib.load_rgb_image(image_path)\n",
    "    dets = detector(img1,upsamplenum)\n",
    "    ret=None\n",
    "    if len(dets)>0:\n",
    "        d=dets[0]\n",
    "        left=max(d.left()-pad,0)\n",
    "        top=max(d.top()-pad,0)\n",
    "        right=min(d.right()+pad,img1.shape[1])\n",
    "        bottom=min(d.bottom()+pad,img1.shape[0])\n",
    "        \n",
    "        #crop image\n",
    "        img1=img1[top:bottom,left:right,:]\n",
    "        img1=cv2.resize(img1,(96,96),interpolation=interp)\n",
    "        ret = np.around(np.transpose(img1, (2,0,1))/255.0, decimals=12)\n",
    "    return ret\n",
    "image_path='../../../daily/8/facedb/bill gates/187.jpg'\n",
    "# image_path='/home/zxk/facetest/4.jpeg'\n",
    "img1=proprocessImage(image_path,pad=2)\n",
    "plt.imshow(img1.transpose(1,2,0))"
   ]
  },
  {
   "cell_type": "code",
   "execution_count": 19,
   "metadata": {
    "collapsed": true
   },
   "outputs": [],
   "source": [
    "def _loadDataset(path):\n",
    "    '''\n",
    "    \n",
    "    \n",
    "    :param \n",
    "    :return:return a dict with name(key),encoder code for names(a numpy array) \n",
    "    '''\n",
    "    ret={}\n",
    "    for name in os.listdir(path):\n",
    "        ret[name]=[]\n",
    "        db=ret[name]\n",
    "\n",
    "        path_name=os.path.join(path,name)\n",
    "        for filename in os.listdir(path_name):\n",
    "            if filename.rfind('.jpg')==-1 \\\n",
    "                    and filename.rfind('.png')==-1 \\\n",
    "                    and filename.rfind('.jpeg')==-1:continue\n",
    "            samples_path=os.path.join(path_name, filename)\n",
    "            encodes=img_to_encoding(samples_path,FRmodel,preprocessing=proprocessImage)\n",
    "            \n",
    "            if encodes is not None:\n",
    "                encode=encodes[0]\n",
    "                db.append(encode)\n",
    "            else:\n",
    "                print(samples_path,',fail to recognize')\n",
    "        db=np.array(db)\n",
    "        ret[name]=db\n",
    "        print('finish %s,data size %d'%(name,len(db)))\n",
    "        print('------------------------------------------------------')\n",
    "    return ret\n",
    "\n",
    "def getFaceDB(path_encode='FaceRecognizationDataset/faces_db_test_model2.pickle',\n",
    "               path_image='../../../daily/8/facedb'):\n",
    "    db = _loadDataset(path_image)\n",
    "    with open(path_encode, 'wb') as handle:\n",
    "        pickle.dump(db, handle, protocol=pickle.HIGHEST_PROTOCOL)\n",
    "    return db\n",
    "\n",
    "#########################################################################\n",
    "def createValidationDataset(db,p_samples=500,n_samples=500):\n",
    "    names=[name for name in db]\n",
    "    n_classes = len(names)\n",
    "    classesIdx = list(range(n_classes))\n",
    "    Y = [1] * p_samples + [0] * n_samples\n",
    "    Y=np.array(Y)\n",
    "\n",
    "\n",
    "    positive_sample_classes=np.random.randint(0,n_classes,p_samples)\n",
    "    #using Xa compare Xb\n",
    "    Xa,Xb=[],[]\n",
    "    for c in positive_sample_classes:\n",
    "        name=names[c]\n",
    "        db_c=db[name]\n",
    "        chioceIdx=np.random.choice(list(range(len(db_c))),2,False)\n",
    "        Xa.append(db_c[chioceIdx[0]])\n",
    "        Xb.append(db_c[chioceIdx[1]])\n",
    "\n",
    "    def _chioceFromDB(dset):\n",
    "        id=np.random.choice(list(range(len(dset))),1)[0]\n",
    "        return dset[id]\n",
    "\n",
    "    for n in range(n_samples):\n",
    "        chioceClasses=np.random.choice(classesIdx,2,False)\n",
    "        c1,c2=chioceClasses[0],chioceClasses[1]\n",
    "\n",
    "        db_c1,db_c2=db[names[c1]],db[names[c2]]\n",
    "        Xa.append(_chioceFromDB(db_c1))\n",
    "        Xb.append(_chioceFromDB(db_c2))\n",
    "    Xa=np.array(Xa)\n",
    "    Xb=np.array(Xb)\n",
    "\n",
    "    return Xa,Xb,Y\n",
    "def getValidateSet(path='FaceRecognizationDataset/face_validate_set_model2.pickle',\n",
    "                   path_encode='FaceRecognizationDataset/faces_db_test_model2.pickle'):\n",
    "    if os.path.exists(path):\n",
    "        with open(path, 'rb') as handle:\n",
    "            validset = pickle.load(handle)\n",
    "    else:\n",
    "        with open(path_encode, 'rb') as handle:\n",
    "            db = pickle.load(handle)\n",
    "        Xa, Xb, Y = createValidationDataset(db)\n",
    "        validset={'Xa':Xa,'Xb':Xb,'Y':Y}\n",
    "        with open(path,'wb') as  handle:\n",
    "                pickle.dump(validset,handle,protocol=pickle.HIGHEST_PROTOCOL)\n",
    "    return validset"
   ]
  },
  {
   "cell_type": "code",
   "execution_count": 83,
   "metadata": {
    "collapsed": false
   },
   "outputs": [
    {
     "name": "stdout",
     "output_type": "stream",
     "text": [
      "../../../daily/8/facedb/steve jobs/292.jpg ,fail to recognize\n",
      "../../../daily/8/facedb/steve jobs/423.jpg ,fail to recognize\n",
      "../../../daily/8/facedb/steve jobs/88.jpg ,fail to recognize\n",
      "../../../daily/8/facedb/steve jobs/385.jpg ,fail to recognize\n",
      "finish steve jobs,data size 152\n",
      "------------------------------------------------------\n",
      "../../../daily/8/facedb/liv tyler/354.jpg ,fail to recognize\n",
      "../../../daily/8/facedb/liv tyler/483.jpg ,fail to recognize\n",
      "../../../daily/8/facedb/liv tyler/517.jpg ,fail to recognize\n",
      "../../../daily/8/facedb/liv tyler/523.jpg ,fail to recognize\n",
      "../../../daily/8/facedb/liv tyler/4.jpg ,fail to recognize\n",
      "../../../daily/8/facedb/liv tyler/509.jpg ,fail to recognize\n",
      "../../../daily/8/facedb/liv tyler/631.jpg ,fail to recognize\n",
      "../../../daily/8/facedb/liv tyler/149.jpg ,fail to recognize\n",
      "../../../daily/8/facedb/liv tyler/185.jpg ,fail to recognize\n",
      "../../../daily/8/facedb/liv tyler/783.jpg ,fail to recognize\n",
      "../../../daily/8/facedb/liv tyler/767.jpg ,fail to recognize\n",
      "../../../daily/8/facedb/liv tyler/380.jpg ,fail to recognize\n",
      "../../../daily/8/facedb/liv tyler/40.jpg ,fail to recognize\n",
      "../../../daily/8/facedb/liv tyler/191.jpg ,fail to recognize\n",
      "../../../daily/8/facedb/liv tyler/530.jpg ,fail to recognize\n",
      "../../../daily/8/facedb/liv tyler/190.jpg ,fail to recognize\n",
      "../../../daily/8/facedb/liv tyler/543.jpg ,fail to recognize\n",
      "../../../daily/8/facedb/liv tyler/30.jpg ,fail to recognize\n",
      "../../../daily/8/facedb/liv tyler/404.jpg ,fail to recognize\n",
      "../../../daily/8/facedb/liv tyler/574.jpg ,fail to recognize\n",
      "../../../daily/8/facedb/liv tyler/70.jpg ,fail to recognize\n",
      "../../../daily/8/facedb/liv tyler/702.jpg ,fail to recognize\n",
      "../../../daily/8/facedb/liv tyler/634.jpg ,fail to recognize\n",
      "../../../daily/8/facedb/liv tyler/215.jpg ,fail to recognize\n",
      "../../../daily/8/facedb/liv tyler/616.jpg ,fail to recognize\n",
      "../../../daily/8/facedb/liv tyler/416.jpg ,fail to recognize\n",
      "../../../daily/8/facedb/liv tyler/728.jpg ,fail to recognize\n",
      "../../../daily/8/facedb/liv tyler/744.jpg ,fail to recognize\n",
      "../../../daily/8/facedb/liv tyler/253.jpg ,fail to recognize\n",
      "../../../daily/8/facedb/liv tyler/638.jpg ,fail to recognize\n",
      "../../../daily/8/facedb/liv tyler/57.jpg ,fail to recognize\n",
      "../../../daily/8/facedb/liv tyler/66.jpg ,fail to recognize\n",
      "../../../daily/8/facedb/liv tyler/731.jpg ,fail to recognize\n",
      "../../../daily/8/facedb/liv tyler/558.jpg ,fail to recognize\n",
      "../../../daily/8/facedb/liv tyler/452.jpg ,fail to recognize\n",
      "../../../daily/8/facedb/liv tyler/748.jpg ,fail to recognize\n",
      "finish liv tyler,data size 357\n",
      "------------------------------------------------------\n",
      "../../../daily/8/facedb/aishwarya rai/1615.jpg ,fail to recognize\n",
      "../../../daily/8/facedb/aishwarya rai/118.jpg ,fail to recognize\n",
      "../../../daily/8/facedb/aishwarya rai/655.jpg ,fail to recognize\n",
      "../../../daily/8/facedb/aishwarya rai/1566.jpg ,fail to recognize\n",
      "../../../daily/8/facedb/aishwarya rai/1814.jpg ,fail to recognize\n",
      "../../../daily/8/facedb/aishwarya rai/806.jpg ,fail to recognize\n",
      "../../../daily/8/facedb/aishwarya rai/859.jpg ,fail to recognize\n",
      "../../../daily/8/facedb/aishwarya rai/1808.jpg ,fail to recognize\n",
      "../../../daily/8/facedb/aishwarya rai/502.jpg ,fail to recognize\n",
      "../../../daily/8/facedb/aishwarya rai/649.jpg ,fail to recognize\n",
      "../../../daily/8/facedb/aishwarya rai/1215.jpg ,fail to recognize\n",
      "../../../daily/8/facedb/aishwarya rai/111.jpg ,fail to recognize\n",
      "../../../daily/8/facedb/aishwarya rai/711.jpg ,fail to recognize\n",
      "../../../daily/8/facedb/aishwarya rai/1106.jpg ,fail to recognize\n",
      "../../../daily/8/facedb/aishwarya rai/911.jpg ,fail to recognize\n",
      "../../../daily/8/facedb/aishwarya rai/247.jpg ,fail to recognize\n",
      "../../../daily/8/facedb/aishwarya rai/965.jpg ,fail to recognize\n",
      "../../../daily/8/facedb/aishwarya rai/947.jpg ,fail to recognize\n",
      "../../../daily/8/facedb/aishwarya rai/1287.jpg ,fail to recognize\n",
      "../../../daily/8/facedb/aishwarya rai/771.jpg ,fail to recognize\n",
      "../../../daily/8/facedb/aishwarya rai/418.jpg ,fail to recognize\n",
      "../../../daily/8/facedb/aishwarya rai/957.jpg ,fail to recognize\n",
      "../../../daily/8/facedb/aishwarya rai/1685.jpg ,fail to recognize\n",
      "../../../daily/8/facedb/aishwarya rai/1894.jpg ,fail to recognize\n",
      "../../../daily/8/facedb/aishwarya rai/853.jpg ,fail to recognize\n",
      "../../../daily/8/facedb/aishwarya rai/10.jpg ,fail to recognize\n",
      "../../../daily/8/facedb/aishwarya rai/1944.jpg ,fail to recognize\n",
      "../../../daily/8/facedb/aishwarya rai/162.jpg ,fail to recognize\n",
      "finish aishwarya rai,data size 753\n",
      "------------------------------------------------------\n",
      "../../../daily/8/facedb/adrien brody/86.jpg ,fail to recognize\n",
      "../../../daily/8/facedb/adrien brody/67.jpg ,fail to recognize\n",
      "../../../daily/8/facedb/adrien brody/59.jpg ,fail to recognize\n",
      "../../../daily/8/facedb/adrien brody/3.jpg ,fail to recognize\n",
      "../../../daily/8/facedb/adrien brody/0.jpg ,fail to recognize\n",
      "../../../daily/8/facedb/adrien brody/28.jpg ,fail to recognize\n",
      "../../../daily/8/facedb/adrien brody/10.jpg ,fail to recognize\n",
      "../../../daily/8/facedb/adrien brody/76.jpg ,fail to recognize\n",
      "../../../daily/8/facedb/adrien brody/100.jpg ,fail to recognize\n",
      "../../../daily/8/facedb/adrien brody/39.jpg ,fail to recognize\n",
      "../../../daily/8/facedb/adrien brody/16.jpg ,fail to recognize\n",
      "finish adrien brody,data size 65\n",
      "------------------------------------------------------\n",
      "../../../daily/8/facedb/martina hingis/1.jpg ,fail to recognize\n",
      "../../../daily/8/facedb/martina hingis/15.jpg ,fail to recognize\n",
      "../../../daily/8/facedb/martina hingis/10.jpg ,fail to recognize\n",
      "finish martina hingis,data size 48\n",
      "------------------------------------------------------\n",
      "../../../daily/8/facedb/bill gates/482.jpg ,fail to recognize\n",
      "../../../daily/8/facedb/bill gates/475.jpg ,fail to recognize\n",
      "../../../daily/8/facedb/bill gates/113.jpg ,fail to recognize\n",
      "../../../daily/8/facedb/bill gates/105.jpg ,fail to recognize\n",
      "../../../daily/8/facedb/bill gates/563.jpg ,fail to recognize\n",
      "../../../daily/8/facedb/bill gates/429.jpg ,fail to recognize\n",
      "../../../daily/8/facedb/bill gates/263.jpg ,fail to recognize\n",
      "../../../daily/8/facedb/bill gates/686.jpg ,fail to recognize\n",
      "../../../daily/8/facedb/bill gates/441.jpg ,fail to recognize\n",
      "../../../daily/8/facedb/bill gates/255.jpg ,fail to recognize\n",
      "finish bill gates,data size 278\n",
      "------------------------------------------------------\n",
      "../../../daily/8/facedb/aaron carter/44.jpg ,fail to recognize\n",
      "finish aaron carter,data size 47\n",
      "------------------------------------------------------\n",
      "../../../daily/8/facedb/michelle obama/72.jpg ,fail to recognize\n",
      "../../../daily/8/facedb/michelle obama/63.jpg ,fail to recognize\n",
      "../../../daily/8/facedb/michelle obama/208.jpg ,fail to recognize\n",
      "../../../daily/8/facedb/michelle obama/282.jpg ,fail to recognize\n",
      "finish michelle obama,data size 119\n",
      "------------------------------------------------------\n",
      "../../../daily/8/facedb/adam brody/123.jpg ,fail to recognize\n",
      "../../../daily/8/facedb/adam brody/90.jpg ,fail to recognize\n",
      "../../../daily/8/facedb/adam brody/76.jpg ,fail to recognize\n",
      "finish adam brody,data size 80\n",
      "------------------------------------------------------\n"
     ]
    }
   ],
   "source": [
    "_=getFaceDB()"
   ]
  },
  {
   "cell_type": "code",
   "execution_count": 64,
   "metadata": {
    "collapsed": true
   },
   "outputs": [],
   "source": [
    "def ROC_AUC(y,y_score,flag='multi'):\n",
    "    '''\n",
    "    when Flag is multi,return micro ROC and ROC for every classes\n",
    "    m_fp,m_tp,m_thresholds:1-D array,the fpr,tpr,threshold,auc \n",
    "    fp,tp,thresholds,auc:fp[i],tp[i] is for i'th classes\n",
    "    \n",
    "    \n",
    "    '''\n",
    "    if flag=='multi':\n",
    "        n_class=y_score.shape[1]\n",
    "        fp,tp,thresholds,auc={},{},{},{}\n",
    "        for i in range(n_class):\n",
    "            fp[i],tp[i],thresholds[i]=metrics.roc_curve(y[:,i],y_score[:,i],drop_intermediate=False)\n",
    "            auc[i]=metrics.auc(fp[i],tp[i])\n",
    "            m_fp,m_tp,m_thresholds=metrics.roc_curve(y.ravel(),y_score.ravel())\n",
    "            m_auc=metrics.auc(m_fp,m_tp)\n",
    "            \n",
    "            return (m_fp,m_tp,m_thresholds,m_auc , fp,tp,thresholds,auc)\n",
    "    else:\n",
    "        m_fp,m_tp,m_thresholds=metrics.roc_curve(y,y_score)\n",
    "        m_auc=metrics.auc(m_fp,m_tp)\n",
    "        return (m_fp,m_tp,m_thresholds,m_auc )\n",
    "    \n",
    "def plot_confusion_matrix(cm, classes,\n",
    "                          normalize=False,\n",
    "                          title='Confusion matrix',\n",
    "                          cmap=plt.cm.Blues):\n",
    "    \"\"\"\n",
    "    This function prints and plots the confusion matrix.\n",
    "    Normalization can be applied by setting `normalize=True`.\n",
    "    \"\"\"\n",
    "    if normalize:\n",
    "        cm = cm.astype('float') / cm.sum(axis=1)[:, np.newaxis]\n",
    "        print(\"Normalized confusion matrix\")\n",
    "    else:\n",
    "        print('Confusion matrix, without normalization')\n",
    "\n",
    "#     print(cm)\n",
    "\n",
    "    plt.imshow(cm, interpolation='nearest', cmap=cmap)\n",
    "    plt.title(title)\n",
    "    plt.colorbar()\n",
    "    tick_marks = np.arange(len(classes))\n",
    "    plt.xticks(tick_marks, classes)\n",
    "    plt.yticks(tick_marks, classes)\n",
    "\n",
    "    fmt = '.2f' if normalize else '.2f'\n",
    "    thresh = cm.max() / 2.\n",
    "    for i, j in itertools.product(range(cm.shape[0]), range(cm.shape[1])):\n",
    "        plt.text(j, i, format(cm[i, j], fmt),\n",
    "                 horizontalalignment=\"center\",\n",
    "                 color=\"white\" if cm[i, j] > thresh else \"black\")\n",
    "\n",
    "    plt.tight_layout()\n",
    "    plt.ylabel('Image X')\n",
    "    plt.xlabel('Image Y')\n",
    "def plotROC(fp,tp,auc,thresholds,ratio=0.01):\n",
    "    plt.figure(facecolor='w')\n",
    "    plt.plot(fp,tp,label='ROC Curve,Auc:%f'%(auc))\n",
    "    bestIndex=np.argwhere(fp<=ratio)[-1][0]\n",
    "    c_fp,c_tp=fp[bestIndex],tp[bestIndex]\n",
    "    print('best rule is score<=%f,under this rule,TPR is %f,FPR is %f'%(1-thresholds[bestIndex],c_tp,c_fp))\n",
    "    plt.plot([c_fp],[c_tp],'ro',label='chioce with fpr <=%.3f'%ratio)\n",
    "    plt.xlabel('fpr')\n",
    "    plt.ylabel('tpr')\n",
    "    plt.title('ROC analysis')\n",
    "    plt.grid()\n",
    "    plt.legend()"
   ]
  },
  {
   "cell_type": "code",
   "execution_count": 66,
   "metadata": {
    "collapsed": false
   },
   "outputs": [
    {
     "ename": "FileNotFoundError",
     "evalue": "[Errno 2] No such file or directory: '/home/zhangxk/mysite/webapp/facedb1'",
     "output_type": "error",
     "traceback": [
      "\u001b[0;31m---------------------------------------------------------------------------\u001b[0m",
      "\u001b[0;31mFileNotFoundError\u001b[0m                         Traceback (most recent call last)",
      "\u001b[0;32m<ipython-input-66-65104eea3e70>\u001b[0m in \u001b[0;36m<module>\u001b[0;34m()\u001b[0m\n\u001b[1;32m      1\u001b[0m \u001b[0mpath\u001b[0m\u001b[0;34m=\u001b[0m\u001b[0;34m'/home/zhangxk/mysite/webapp/facedb1'\u001b[0m\u001b[0;34m\u001b[0m\u001b[0m\n\u001b[1;32m      2\u001b[0m \u001b[0mX\u001b[0m\u001b[0;34m=\u001b[0m\u001b[0;34m[\u001b[0m\u001b[0;34m]\u001b[0m\u001b[0;34m\u001b[0m\u001b[0m\n\u001b[0;32m----> 3\u001b[0;31m \u001b[0;32mfor\u001b[0m \u001b[0mf\u001b[0m \u001b[0;32min\u001b[0m \u001b[0mos\u001b[0m\u001b[0;34m.\u001b[0m\u001b[0mlistdir\u001b[0m\u001b[0;34m(\u001b[0m\u001b[0mpath\u001b[0m\u001b[0;34m)\u001b[0m\u001b[0;34m:\u001b[0m\u001b[0;34m\u001b[0m\u001b[0m\n\u001b[0m\u001b[1;32m      4\u001b[0m     \u001b[0mcodes\u001b[0m\u001b[0;34m=\u001b[0m\u001b[0mimg_to_encoding\u001b[0m\u001b[0;34m(\u001b[0m\u001b[0mos\u001b[0m\u001b[0;34m.\u001b[0m\u001b[0mpath\u001b[0m\u001b[0;34m.\u001b[0m\u001b[0mjoin\u001b[0m\u001b[0;34m(\u001b[0m\u001b[0mpath\u001b[0m\u001b[0;34m,\u001b[0m\u001b[0mf\u001b[0m\u001b[0;34m)\u001b[0m\u001b[0;34m,\u001b[0m\u001b[0mFRmodel\u001b[0m\u001b[0;34m,\u001b[0m\u001b[0mscale\u001b[0m\u001b[0;34m=\u001b[0m\u001b[0;32mTrue\u001b[0m\u001b[0;34m)\u001b[0m\u001b[0;34m[\u001b[0m\u001b[0;36m0\u001b[0m\u001b[0;34m]\u001b[0m\u001b[0;34m\u001b[0m\u001b[0m\n\u001b[1;32m      5\u001b[0m     \u001b[0mX\u001b[0m\u001b[0;34m.\u001b[0m\u001b[0mappend\u001b[0m\u001b[0;34m(\u001b[0m\u001b[0mcodes\u001b[0m\u001b[0;34m)\u001b[0m\u001b[0;34m\u001b[0m\u001b[0m\n",
      "\u001b[0;31mFileNotFoundError\u001b[0m: [Errno 2] No such file or directory: '/home/zhangxk/mysite/webapp/facedb1'"
     ]
    }
   ],
   "source": [
    "path='/home/zhangxk/mysite/webapp/facedb1'\n",
    "X=[]\n",
    "for f in os.listdir(path):\n",
    "    codes=img_to_encoding(os.path.join(path,f),FRmodel,scale=True)[0]\n",
    "    X.append(codes)\n",
    "X=np.array(X)\n",
    "\n",
    "classes=range(X.shape[0])\n",
    "normX=np.linalg.norm(X,axis=1,keepdims=True)**2\n",
    "cm1=(normX+normX.T-2*X.dot(X.T))**.5\n",
    "plot_confusion_matrix(cm1,classes,normalize=False)"
   ]
  },
  {
   "cell_type": "code",
   "execution_count": 21,
   "metadata": {
    "collapsed": false
   },
   "outputs": [
    {
     "name": "stdout",
     "output_type": "stream",
     "text": [
      "The valid data set(thumbnails) for chioce Thresold have size 1000\n",
      "+ num:500\n",
      "- num:500\n"
     ]
    }
   ],
   "source": [
    "##ROC AUC\n",
    "\n",
    "vs=getValidateSet()\n",
    "Xa,Xb,Y=vs['Xa'],vs['Xb'],vs['Y']\n",
    "Xa=Xa/np.linalg.norm(Xa,axis=1,keepdims=True)\n",
    "Xb=Xb/np.linalg.norm(Xa,axis=1,keepdims=True)\n",
    "\n",
    "m,numPos=len(Y),np.sum(Y)\n",
    "\n",
    "print('The valid data set(thumbnails) for chioce Thresold have size %d'%m)\n",
    "print('+ num:%d'%numPos)\n",
    "print('- num:%d'%(m-numPos))"
   ]
  },
  {
   "cell_type": "code",
   "execution_count": 22,
   "metadata": {
    "collapsed": true
   },
   "outputs": [],
   "source": [
    "#simility function\n",
    "yhat=np.linalg.norm(Xa-Xb,ord=2,axis=1)\n",
    "yhat=np.max(yhat)-yhat \n",
    "#I want positive example have large score,so I reverst yhat.\n",
    "# I set identicial to positive because I think that  2 person is identical is more important\n",
    "# than 2 person are different\n",
    "# yhat=np.diag(Xa.dot(Xb.T))\n",
    "m_fp,m_tp,m_thresholds,m_auc=ROC_AUC(Y,yhat,'binary')"
   ]
  },
  {
   "cell_type": "code",
   "execution_count": 23,
   "metadata": {
    "collapsed": false
   },
   "outputs": [
    {
     "name": "stdout",
     "output_type": "stream",
     "text": [
      "best rule is score<=0.229674,under this rule,TPR is 0.448000,FPR is 0.198000\n"
     ]
    },
    {
     "data": {
      "image/png": "[encoded data removed]",
      "text/plain": [
       "<matplotlib.figure.Figure at 0x7fb3f556b668>"
      ]
     },
     "metadata": {},
     "output_type": "display_data"
    }
   ],
   "source": [
    "plotROC(m_fp,m_tp,m_auc,m_thresholds,ratio=0.2)"
   ]
  },
  {
   "cell_type": "markdown",
   "metadata": {
    "collapsed": true
   },
   "source": [
    "## Evaluation ON LFW DATASET"
   ]
  },
  {
   "cell_type": "code",
   "execution_count": 2,
   "metadata": {
    "collapsed": true
   },
   "outputs": [],
   "source": [
    "from lfw import read_pairs,get_paths,evaluate\n",
    "import numpy as np\n",
    "import facenet\n",
    "import os"
   ]
  },
  {
   "cell_type": "markdown",
   "metadata": {},
   "source": [
    "### #Being familar to  your <a href='http://vis-www.cs.umass.edu/lfw/'>LFW</a> dataset ,and the model information<a href='https://github.com/cmusatyalab/openface/blob/master/docs/models-and-accuracies.md'>nn4.small</a>"
   ]
  },
  {
   "cell_type": "code",
   "execution_count": 5,
   "metadata": {
    "collapsed": false
   },
   "outputs": [
    {
     "name": "stdout",
     "output_type": "stream",
     "text": [
      "There are 5749 person in dataset,total 531488 images,92 images per person\n",
      "Split into 6000 pairs\n",
      "Skipped 45 image pairs\n",
      "\t\tPositive example 2981\n",
      "\t\tNegative example 2974\n"
     ]
    }
   ],
   "source": [
    "#First Your shold formilar your LFW dataset \n",
    "# pair_dir='datasets/pairs.txt'\n",
    "# lfw_dir='datasets/dlib-affine-sz'\n",
    "pair_dir='/home/zhangxk/projects/course4/week4/faceRecognization/datasets/pairs.txt'\n",
    "lfw_dir='/home/zhangxk/projects/course4/week4/faceRecognization/datasets/dlib-affine-sz'\n",
    "cnt,examples=0,0\n",
    "for f in os.listdir(lfw_dir):\n",
    "    cnt+=1\n",
    "    for person in os.path.join(lfw_dir,f):\n",
    "        examples+=1\n",
    "        \n",
    "print('There are %d person in dataset,total %d images,%d images per person'%(cnt,examples,examples/cnt))\n",
    "pairs=read_pairs(pair_dir)\n",
    "print('Split into %d pairs'%len(pairs))\n",
    "\n",
    "path_list, issame_list=get_paths(lfw_dir,pairs,'png')\n",
    "print('\\t\\tPositive example %d'%(np.sum(issame_list)))\n",
    "print('\\t\\tNegative example %d'%(len(issame_list)-np.sum(issame_list)))"
   ]
  },
  {
   "cell_type": "code",
   "execution_count": 58,
   "metadata": {
    "collapsed": false
   },
   "outputs": [
    {
     "name": "stdout",
     "output_type": "stream",
     "text": [
      "batch:  0  time:  11.98073673248291\n",
      "batch:  1  time:  12.071483373641968\n",
      "batch:  2  time:  12.368743181228638\n",
      "batch:  3  time:  13.28314757347107\n",
      "batch:  4  time:  12.753531217575073\n",
      "batch:  5  time:  13.736069202423096\n",
      "batch:  6  time:  14.926401138305664\n",
      "batch:  7  time:  14.064927816390991\n",
      "batch:  8  time:  15.099435567855835\n",
      "batch:  9  time:  15.165204763412476\n",
      "batch:  10  time:  15.446340322494507\n",
      "batch:  11  time:  15.595892667770386\n",
      "batch:  12  time:  13.31227159500122\n",
      "batch:  13  time:  14.789470672607422\n",
      "batch:  14  time:  14.686739683151245\n",
      "batch:  15  time:  14.507471084594727\n",
      "batch:  16  time:  14.595237493515015\n",
      "batch:  17  time:  14.569730281829834\n",
      "batch:  18  time:  14.404569864273071\n",
      "batch:  19  time:  13.257582902908325\n",
      "batch:  20  time:  14.577053785324097\n",
      "batch:  21  time:  14.511138677597046\n",
      "batch:  22  time:  14.411708354949951\n",
      "batch:  23  time:  13.351032257080078\n",
      "batch:  24  time:  14.615964412689209\n",
      "batch:  25  time:  14.646876096725464\n",
      "batch:  26  time:  14.549577236175537\n",
      "batch:  27  time:  14.508398532867432\n",
      "batch:  28  time:  14.580731868743896\n",
      "batch:  29  time:  14.98009991645813\n",
      "batch:  30  time:  14.912410259246826\n",
      "batch:  31  time:  15.55601167678833\n",
      "batch:  32  time:  15.667178869247437\n",
      "batch:  33  time:  15.589006423950195\n",
      "batch:  34  time:  15.33814811706543\n",
      "batch:  35  time:  15.441787958145142\n",
      "batch:  36  time:  14.639509916305542\n",
      "batch:  37  time:  15.280255794525146\n",
      "batch:  38  time:  14.455008506774902\n",
      "batch:  39  time:  14.39298963546753\n",
      "batch:  40  time:  14.545965671539307\n",
      "batch:  41  time:  14.856557846069336\n",
      "batch:  42  time:  14.223226547241211\n",
      "batch:  43  time:  13.348098278045654\n",
      "batch:  44  time:  14.44495940208435\n",
      "batch:  45  time:  14.499695539474487\n",
      "batch:  46  time:  14.144234418869019\n",
      "batch:  47  time:  14.152652025222778\n",
      "batch:  48  time:  14.652862310409546\n",
      "batch:  49  time:  14.60360074043274\n",
      "batch:  50  time:  14.426824808120728\n",
      "batch:  51  time:  14.424086809158325\n",
      "batch:  52  time:  15.5057373046875\n",
      "batch:  53  time:  16.21192193031311\n",
      "batch:  54  time:  16.235053300857544\n",
      "batch:  55  time:  15.012516498565674\n",
      "batch:  56  time:  15.982089042663574\n",
      "batch:  57  time:  15.292598724365234\n",
      "batch:  58  time:  15.314363718032837\n",
      "batch:  59  time:  15.249897956848145\n",
      "batch:  60  time:  15.407358169555664\n",
      "batch:  61  time:  15.144427061080933\n",
      "batch:  62  time:  15.244996070861816\n",
      "batch:  63  time:  15.10260558128357\n",
      "batch:  64  time:  15.182980298995972\n",
      "batch:  65  time:  15.534954071044922\n",
      "batch:  66  time:  15.26986312866211\n",
      "batch:  67  time:  14.600642204284668\n",
      "batch:  68  time:  14.63048505783081\n",
      "batch:  69  time:  14.618635416030884\n",
      "batch:  70  time:  14.577879667282104\n",
      "batch:  71  time:  14.538949012756348\n",
      "batch:  72  time:  14.581086158752441\n",
      "batch:  73  time:  14.3346426486969\n",
      "batch:  74  time:  13.556317806243896\n",
      "batch:  75  time:  14.677824974060059\n",
      "batch:  76  time:  14.831198692321777\n",
      "batch:  77  time:  14.681977272033691\n",
      "batch:  78  time:  14.710514307022095\n",
      "batch:  79  time:  14.662441492080688\n",
      "batch:  80  time:  14.709085464477539\n",
      "batch:  81  time:  14.70061707496643\n",
      "batch:  82  time:  14.549848079681396\n",
      "batch:  83  time:  13.568208456039429\n",
      "batch:  84  time:  14.873903274536133\n",
      "batch:  85  time:  14.85882306098938\n",
      "batch:  86  time:  14.66911506652832\n",
      "batch:  87  time:  14.595340251922607\n",
      "batch:  88  time:  14.749570369720459\n",
      "batch:  89  time:  14.591328144073486\n",
      "batch:  90  time:  14.61893367767334\n",
      "batch:  91  time:  14.624935626983643\n",
      "batch:  92  time:  15.021547555923462\n",
      "batch:  93  time:  14.49795913696289\n",
      "batch:  94  time:  13.560315370559692\n",
      "batch:  95  time:  14.653321027755737\n",
      "batch:  96  time:  14.749343872070312\n",
      "batch:  97  time:  14.631432056427002\n",
      "batch:  98  time:  14.77274775505066\n",
      "batch:  99  time:  14.676777601242065\n",
      "batch:  100  time:  14.724921226501465\n",
      "batch:  101  time:  14.622130155563354\n",
      "batch:  102  time:  14.60381555557251\n",
      "batch:  103  time:  13.556682586669922\n",
      "batch:  104  time:  14.641134977340698\n",
      "batch:  105  time:  14.754800796508789\n",
      "batch:  106  time:  14.632614612579346\n",
      "batch:  107  time:  14.59277892112732\n",
      "batch:  108  time:  14.563972473144531\n",
      "batch:  109  time:  13.621567487716675\n",
      "batch:  110  time:  14.678958177566528\n",
      "batch:  111  time:  14.647463083267212\n",
      "batch:  112  time:  14.84246301651001\n",
      "batch:  113  time:  14.784633874893188\n",
      "batch:  114  time:  14.682267427444458\n",
      "batch:  115  time:  14.685317516326904\n",
      "batch:  116  time:  14.719980478286743\n",
      "batch:  117  time:  14.799017906188965\n",
      "batch:  118  time:  14.499044418334961\n",
      "batch:  119  time:  1.448378562927246\n"
     ]
    }
   ],
   "source": [
    "#load the images and encode it into emb_array(m,128)\n",
    "batch_size=100\n",
    "embedding_size=128\n",
    "nrof_images = len(path_list)\n",
    "nrof_batches = int(np.ceil(1.0*nrof_images / batch_size))\n",
    "emb_array = np.zeros((nrof_images, embedding_size))\n",
    "\n",
    "\n",
    "for i in range(nrof_batches):\n",
    "    start_index = i*batch_size\n",
    "    end_index = min((i+1)*batch_size, nrof_images)\n",
    "    paths_batch = path_list[start_index:end_index]\n",
    "    images = facenet.load_data(paths_batch, False, False, 96)\n",
    "    \n",
    "#     images=np.transpose(images, (0,3,1,2))\n",
    "    \n",
    "    t0 = time.time()\n",
    "    y = FRmodel.predict_on_batch(images)\n",
    "    emb_array[start_index:end_index,:] = y\n",
    "    t1 = time.time()\n",
    "  \n",
    "    print('batch: ', i, ' time: ', t1-t0)"
   ]
  },
  {
   "cell_type": "code",
   "execution_count": 62,
   "metadata": {
    "collapsed": false
   },
   "outputs": [
    {
     "name": "stdout",
     "output_type": "stream",
     "text": [
      "Accuracy: 0.924+-0.014\n",
      "Validation rate: 0.31236+-0.05441 @ FAR=0.00168\n",
      "Area Under Curve (AUC): 0.975\n",
      "Equal Error Rate (EER): 0.000\n"
     ]
    },
    {
     "name": "stderr",
     "output_type": "stream",
     "text": [
      "/usr/local/lib/python3.5/dist-packages/scipy/interpolate/interpolate.py:465: RuntimeWarning: divide by zero encountered in true_divide\n",
      "  slope = (y_hi - y_lo) / (x_hi - x_lo)[:, None]\n",
      "/usr/local/lib/python3.5/dist-packages/scipy/interpolate/interpolate.py:468: RuntimeWarning: invalid value encountered in multiply\n",
      "  y_new = slope*(x_new - x_lo)[:, None] + y_lo\n"
     ]
    }
   ],
   "source": [
    "#get accuracy,fpr,tpr,auc\n",
    "\n",
    "from sklearn import metrics\n",
    "from scipy.optimize import brentq\n",
    "from scipy import interpolate\n",
    "\n",
    "lfw_nrof_folds=10\n",
    "tpr, fpr, accuracy, val, val_std, far =evaluate(emb_array,issame_list, nrof_folds=lfw_nrof_folds)\n",
    "\n",
    "print('Accuracy: %1.3f+-%1.3f' % (np.mean(accuracy), np.std(accuracy)))\n",
    "print('Validation rate: %2.5f+-%2.5f @ FAR=%2.5f' % (val, val_std, far))\n",
    "auc = metrics.auc(fpr, tpr)\n",
    "print('Area Under Curve (AUC): %1.3f' % auc)\n",
    "\n",
    "eer = brentq(lambda x: 1. - x - interpolate.interp1d(fpr, tpr)(x), 0., 1.)\n",
    "print('Equal Error Rate (EER): %1.3f' % eer)"
   ]
  },
  {
   "cell_type": "code",
   "execution_count": 66,
   "metadata": {
    "collapsed": false
   },
   "outputs": [
    {
     "name": "stdout",
     "output_type": "stream",
     "text": [
      "best rule is score<=0.190000,under this rule,TPR is 0.850389,FPR is 0.029918\n"
     ]
    },
    {
     "data": {
      "image/png": "[encoded data removed]",
      "text/plain": [
       "<matplotlib.figure.Figure at 0x7f9c3e6bcfd0>"
      ]
     },
     "metadata": {},
     "output_type": "display_data"
    }
   ],
   "source": [
    "#best rule is score<=0.190000,under this rule,TPR is 0.850389,FPR is 0.029918\n",
    "thresholds = np.arange(0, 4, 0.01)\n",
    "plotROC(fpr,tpr,auc,thresholds,0.03)"
   ]
  },
  {
   "cell_type": "code",
   "execution_count": null,
   "metadata": {
    "collapsed": true
   },
   "outputs": [],
   "source": []
  }
 ],
 "metadata": {
  "coursera": {
   "course_slug": "convolutional-neural-networks",
   "graded_item_id": "IaknP",
   "launcher_item_id": "5UMr4"
  },
  "kernelspec": {
   "display_name": "Python 3",
   "language": "python",
   "name": "python3"
  },
  "language_info": {
   "codemirror_mode": {
    "name": "ipython",
    "version": 3
   },
   "file_extension": ".py",
   "mimetype": "text/x-python",
   "name": "python",
   "nbconvert_exporter": "python",
   "pygments_lexer": "ipython3",
   "version": "3.5.2"
  }
 },
 "nbformat": 4,
 "nbformat_minor": 2
}
