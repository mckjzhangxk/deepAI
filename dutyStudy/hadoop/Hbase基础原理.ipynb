{
 "cells": [
  {
   "cell_type": "markdown",
   "metadata": {},
   "source": [
    "## 1.Hbase 简单介绍\n",
    "    1)面向列数据库,存储结构,版结构,非结构数据.\n",
    "    2)存储基于HDFS,利用MAPRECUDE处理数据,使用ZOOKEEPER作为分布式协同服务.\n",
    "  ![ss](images/jiagou.jpg)\n",
    " ### 1.1.Hbase 数据模型\n",
    "     1)以列族(column Family)为最小单位,\n",
    "         a)列族对应HDFS下的一个目录,数据存储在目录下的一个或多个文件,\n",
    "         b)列族下面有多个列(qualifier)\n",
    "         c)一个表可以有多个列族\n",
    "     2)时间戳\n",
    "         a)也就是啥时候往这个CELL写的数据.cell=(rowkey,CF,qualifier,timestamp)标识.\n",
    "         b)每个cell存储单元对同一份数据有多个版本，用时间戳来区分每个版本之间的差异\n",
    "         c)在cell 从memory->file的时候,旧版本数据丢弃(版本合并)\n",
    "     3) 单元格(cell):\n",
    "         a)cell=(rowkey,CF,qualifier,timestamp)标识.\n",
    "         b)cell的存储没用类型,都是字节吗\n",
    "     4)rowkey:决定一行数据,按照字典顺序排序的\n",
    "     5)HLog(WAL log)\n",
    "         保存日志操作与数据,可以用于数据恢复\n",
    "   ![ss](images/hbase.png)"
   ]
  },
  {
   "cell_type": "markdown",
   "metadata": {},
   "source": [
    "### 1.2Hbase构架\n",
    "![ss](images/hbase1.jpg)"
   ]
  },
  {
   "cell_type": "markdown",
   "metadata": {},
   "source": [
    "    1.zookper:\n",
    "        a)负载HMASTER的主备切换\n",
    "        b)监控HRegionServer的心跳,报告给HMASTER\n",
    "        c)负载客户端寻址(所有region的寻址入口).\n",
    "        d)保存表的metastore信息,Hbase的schema\n",
    "    2.hmaster:负载均衡(HRgionServers),数据恢复,管理HRgionServers\n",
    "    3.HRgionServers上面维护列许多Region(表的存储单元)\n",
    "    4.Region:\n",
    "        a)表过大,HBase水平把表分割成多个Regions,Region里保存table中按rowkey排序的连续数据\n",
    "        b)当table中的行不断增多，就会有越来越多的region。这样一张完整的表被保存在多个Regionserver 上。\n",
    "    5.store:一个Region维护多个store,对应CF\n",
    "        memstore:写缓存区域,触发阈值后转化成storeFiles,进行版本合并操作\n",
    "        storeFile:hdfs文件,\n",
    "            a)文件数量到达阈值后,会合并小文件为大文件:\n",
    "                minor,major合并方法\n",
    "![ss](images/hbase2.jpg)\n",
    "![ss](images/hbase3.jpg)"
   ]
  },
  {
   "cell_type": "markdown",
   "metadata": {},
   "source": [
    "## 2.HBASE 部署\n",
    "      使用2.0.3版本\n",
    "      1.tar xzvf hbase-3.0.0-SNAPSHOT-bin.tar.gz\n",
    "      2.环境变量\n",
    "             export HBASE_HOME=/root/hbase-2.0.3\n",
    "             export PATH=$PATH:$HBASE_HOME/bin"
   ]
  },
  {
   "cell_type": "markdown",
   "metadata": {},
   "source": [
    "### 2.1伪分布部署\n",
    "\n",
    "    1. conf/hbase-env.sh:\n",
    "        设置 JAVA_HOME=/root/jdk1.8.0_131\n",
    "    2. conf/hbase-site.xml:\n",
    "            <configuration>\n",
    "                <!--hbase的本机文件存储-->\n",
    "              <property>\n",
    "                <name>hbase.rootdir</name>\n",
    "                <value>file:///home/testuser/hbase</value>\n",
    "              </property>\n",
    "                  <!--hbase的自带zookeeper保存元数据信息-->\n",
    "              <property>\n",
    "                <name>hbase.zookeeper.property.dataDir</name>\n",
    "                <value>/home/testuser/zookeeper</value>\n",
    "              </property>\n",
    "              <property>\n",
    "                <name>hbase.unsafe.stream.capability.enforce</name>\n",
    "                <value>false</value>\n",
    "                <description>\n",
    "                  Controls whether HBase will check for stream capabilities (hflush/hsync).\n",
    "\n",
    "                  Disable this if you intend to run on LocalFileSystem, denoted by a rootdir\n",
    "                  with the 'file://' scheme, but be mindful of the NOTE below.\n",
    "\n",
    "                  WARNING: Setting this to false blinds you to potential data loss and\n",
    "                  inconsistent system state in the event of process and/or node failures. If\n",
    "                  HBase is complaining of an inability to use hsync or hflush it's most\n",
    "                  likely not a false positive.\n",
    "                </description>\n",
    "              </property>\n",
    "            </configuration>\n",
    "     3.启动:bin/start-hbase.sh \n",
    "           bin/stop-hbase.sh\n",
    "     4.WEB控制台:http://node5:16010 "
   ]
  },
  {
   "cell_type": "markdown",
   "metadata": {},
   "source": [
    "### 2.2基本操作:\n",
    "    1.hbase shell\n",
    "    \n",
    "    2.建表:\n",
    "        create 'psn','cf1','cf2'\n",
    "        discribe 'psn'    //查看表结构\n",
    "        ///home/testuser/hbase/data/default/psn/fa07ab32a716549f076f918e348b7184 表示region\n",
    "        disable 'psn'\n",
    "        enable 'psn'\n",
    "        drop 'psn'\n",
    "    3.添加记录:\n",
    "        put 'psn','row1','cf1:name','zhangxiaokai'\n",
    "        put 'psn', 'row1' ,'cf1:age',29\n",
    "        \n",
    "        put 'psn' ,'row2' ,'cf1:name' ,'zhuxin'\n",
    "        put 'psn' ,'row2' ,'cf1:age' ,'29'\n",
    "    4.查询记录:\n",
    "        get 'psn','row1'\n",
    "        scan 'psn'   //查询所有\n",
    "    5.修改记录:\n",
    "        put 'psn','row1','cf1:name','zxk'\n",
    "        scan 'psn'   //查询所有\n",
    "        get 'psn' ,'row1'\n",
    "        \n",
    "        flush 'psn'\n",
    "    6.删除表:\n",
    "        delete 'psn' 'row1' 'cf1:age'\n",
    "        truncate 'psn' //清空记录\n",
    "    5.其他命令:list,status, version, whoami"
   ]
  },
  {
   "cell_type": "markdown",
   "metadata": {},
   "source": [
    "## 3全集群搭建\n",
    " ### 3.1准备工作:\n",
    "        1.yum -y install ntp\n",
    "          ntpdate ntp1.aliyun.com\n",
    "        2.主备Hbase服务器需要免密设置\n",
    "            ssh-keygen  //生成密钥\n",
    "            ssh-copy-id -i .ssh/id_rsa.pub node3  //让node3添加信任\n",
    "        3.规划:\n",
    "        4.启动高可用+yarn+zookeeper\n",
    "            zkService.sh start\n",
    "            start-dfs.sh\n",
    "            start-yarn.sh\n",
    "        5.所有机器都配置环境变量:HBASE_HOME,PATH\n",
    "        6.备份好伪分布部署\n",
    "<table>\n",
    "    <tr><th>服务器</th><th>NN/ZKFC</th><th>DN/NM</th><th>RM</th><th>JN</th><th>ZOOKEEPER</th><th>HBase-Master</th><th>HBase-standby</th><th>HBase-region-server</th><th>hive-client</th><th>hive-server</th></tr>\n",
    "   \n",
    "   <tr><th>Node1</th><td>*</td><td></td><td></td><td>*</td><td></td><td></td><td>*</td><td></td><td>*</td><td></td></tr>\n",
    "   <tr><th>Node2</th><td>*</td><td>*</td><td></td><td>*</td><td>*</td><td></td><td></td><td>*</td><td></td><td>*</td></tr>\n",
    "   <tr><th>Node3</th><td></td><td>*</td><td>*</td><td>*</td><td>*</td><td></td><td></td><td>*</td><td></td><td></td></tr>\n",
    "   <tr><th>Node4</th><td></td><td>*</td><td>*</td><td></td><td>*</td><td></td><td></td><td>*</td><td></td><td></td></tr>\n",
    "   <tr><th>Node5</th><td></td><td></td><td></td><td></td><td></td><td>*</td><td></td><td></td><td></td><td></td></tr>\n",
    "</table>\n"
   ]
  },
  {
   "cell_type": "markdown",
   "metadata": {},
   "source": [
    "### 3.2[全分布配置 ](https://hbase.apache.org/book.html#standalone_dist)\n",
    "    \n",
    "    1.conf/hbase-env.sh:\n",
    "        设置 JAVA_HOME=/root/jdk1.8.0_131\n",
    "        HBASE_MANAGES_ZK=false\n",
    "    2.conf/hbase-site.xml\n",
    "        <configuration>\n",
    "            <!--hdfs路径,相当于客户端访问hdfs-->\n",
    "          <property>\n",
    "            <name>hbase.rootdir</name>\n",
    "            <value>hdfs://myzxk/hbase</value>\n",
    "          </property>\n",
    "          <!--全分布式-->\n",
    "          <property>\n",
    "            <name>hbase.cluster.distributed</name>\n",
    "            <value>true</value>\n",
    "          </property>\n",
    "          <!--zookeeper服务器地址-->\n",
    "          <property>\n",
    "            <name>hbase.zookeeper.quorum</name>\n",
    "            <value>node2,node3,node4</value>\n",
    "          </property>\n",
    "        </configuration>\n",
    "    3.配置regionservers:\n",
    "           conf/regionservers:node2 node3 node4 \n",
    "    4.配置MASTER备份节点:\n",
    "            conf/backup-masters:node1\n",
    "    5.告诉你的HBASE你的HDFS客户端是怎么配置的,尤其是当你设置hdfs地址重定向\n",
    "        在 conf 目录下面:\n",
    "            ln -s /root/hadoop-3.1.1/etc/hadoop/hdfs-site.xml\n",
    "    6.分发:scp -r hbase-2.0.3 node1:`pwd`\n",
    "    \n",
    "    启动:bin/start-hbase.sh \n",
    "       bin/stop-hbase.sh\n",
    "       WEB控制台:http://node5:16010 "
   ]
  },
  {
   "cell_type": "code",
   "execution_count": null,
   "metadata": {
    "collapsed": true
   },
   "outputs": [],
   "source": []
  }
 ],
 "metadata": {
  "kernelspec": {
   "display_name": "Python 3",
   "language": "python",
   "name": "python3"
  },
  "language_info": {
   "codemirror_mode": {
    "name": "ipython",
    "version": 3
   },
   "file_extension": ".py",
   "mimetype": "text/x-python",
   "name": "python",
   "nbconvert_exporter": "python",
   "pygments_lexer": "ipython3",
   "version": "3.5.2"
  }
 },
 "nbformat": 4,
 "nbformat_minor": 2
}
