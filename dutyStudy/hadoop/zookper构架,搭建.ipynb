{
 "cells": [
  {
   "cell_type": "markdown",
   "metadata": {},
   "source": [
    "![ss](images/zookeeper.png)"
   ]
  },
  {
   "cell_type": "markdown",
   "metadata": {},
   "source": [
    "## zookeeper工作原理\n",
    "###  ZOOKEEPER集群做这么一件事,保证ZOOKEEPER对外提供统一的信息, 解决集群中所有结点数据不统一的问题!!\n",
    "\n",
    "    NN 高可用场景:\n",
    "    ------------------------------------------------------------------------------------------------>t\n",
    "      (NN1 通知zk1为是主NN)    (NN2 通知zk3为是主NN)   (zk1,zk2,zk3 同意NN1主,因为投票结果是(1,1,0),更新同步zkid=1)\n",
    "    ------------------------------------------------------------------------------------------------>t\n",
    "        (zk1征求所有zk的意见:缓存自己的zkid=1)   (zk2征求主zk的意见,缓存自己的zkid=1))       (zk1,zk2,zk3 拒绝zkid=1,NN2主,因为(0,0,1))\n",
    "  \n",
    "  \n",
    "  NN1,NN2\n",
    "  zk1,zk2,zk3\n",
    "  \n",
    "\n",
    "\n",
    "  ### 1.对外提供服务\n",
    "    1.客户端相zookper注册(任意的节点),例如插入一个节点,非主节点要相主节点发起通知,主节点广播给所有的节点:\n",
    "        A)汇集所有节点的\"意见\"(新的事物事物编号是不是线性增长的,是同意,不是,反对),反馈给其他从节点\n",
    "        B)如果\"同意\",通知节点执行,并且所有节点保持相同结果(MESSAGE QUEUE)\n",
    "    2.监听客户端.\n",
    "    3.回调客户端的回调函数!\n",
    "  ### 2.对内集群管理\n",
    "  \n",
    "      主节点选举的依据:\n",
    "          A)事物ID,zxid,线性增长\n",
    "          B)服务ID,severid\n",
    "          zxid>severid\n",
    "       当某个主节点挂掉后,从节点通过\"过半选举\"的方式,快速选举出新的主节点,zxid大的,severid大的从节点会被选为主节点!\n",
    "  ### 2.zookeeper角色:\n",
    "      leader,follower,observer\n",
    "          follower和observer的区别是follow参与进选,observer不参与\n",
    " "
   ]
  },
  {
   "cell_type": "markdown",
   "metadata": {},
   "source": [
    "## ZOOKER 集群搭建\n",
    "\n",
    "    conf/zoo.cfg文件:\n",
    "        tickTime=2000   //心跳 基本单位=2s\n",
    "        dataDir=/Users/zdandljb/zookeeper/data   //数据目录下要指定myid\n",
    "        dataLogDir=/Users/zdandljb/zookeeper/dataLog  \n",
    "        clientPort=2181                  //客户端通信端口\n",
    "        initLimit=5                      //从节点在initLimit*tickTime=10s 不和主保持心跳通信,主 认为 从 当机..\n",
    "        syncLimit=2                      //主与从发送消息,相应时长 不能超过syncLimit*tickTime=4s\n",
    "        server.1=server1:2888:3888       //2888是主从  通信端口\n",
    "        server.2=server2:2888:3888       //3888是选举  通信端口\n",
    "        server.3=server3:2888:3888\n",
    "##  基本命令:\n",
    "    create /myzxk zxkdata     //创建持久化节点\n",
    "    create -e /myzxk zxkdata  //创建临时节点,czxid\n",
    "    set /myzxk zxk            //更新节点,更新后观察,mzxid\n",
    "    create /myzxk/home zxkhose //观察pzxid\n",
    "    \n",
    "    create -s /myzxk zxkdata  //创建序列 节点\n",
    "    get /myzxk\n",
    "    \n",
    "    持久化(persistent) 临时(emphemeral)节点\n",
    "    持久化:重启后还存在,保存在文件上面\n",
    "    临时:随客户端 session失效而失效"
   ]
  }
 ],
 "metadata": {
  "kernelspec": {
   "display_name": "Python 3",
   "language": "python",
   "name": "python3"
  },
  "language_info": {
   "codemirror_mode": {
    "name": "ipython",
    "version": 3
   },
   "file_extension": ".py",
   "mimetype": "text/x-python",
   "name": "python",
   "nbconvert_exporter": "python",
   "pygments_lexer": "ipython3",
   "version": "3.5.2"
  }
 },
 "nbformat": 4,
 "nbformat_minor": 0
}
