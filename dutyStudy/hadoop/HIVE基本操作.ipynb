{
 "cells": [
  {
   "cell_type": "markdown",
   "metadata": {},
   "source": [
    "## 3. <a href='https://cwiki.apache.org/confluence/display/Hive/LanguageManual+DDL#LanguageManualDDL-CreateTableCreate/Drop/TruncateTable'>创建表</a>,<a href='https://cwiki.apache.org/confluence/display/Hive/LanguageManual+DDL#LanguageManualDDL-CreateTableCreate/Drop/TruncateTable'>加载数据</a>\n"
   ]
  },
  {
   "cell_type": "markdown",
   "metadata": {},
   "source": [
    "#### 创建内部表表,创内部表,在删除表结构的时候,表数据也会被删除.\n",
    "    create table psn(\n",
    "            id int,\n",
    "            name string,\n",
    "            habit array<string>,\n",
    "            address map<string,string>\n",
    "        ) \n",
    "        ROW FORMAT DELIMITED \n",
    "            FIELDS TERMINATED BY ',' \n",
    "            COLLECTION ITEMS TERMINATED BY '-'\n",
    "            MAP KEYS TERMINATED BY ':'  \n",
    "            LINES TERMINATED BY '\\n';\n",
    "#### 加载文件    \n",
    "    LOAD DATA [LOCAL] INPATH '/data/mydata'  INTO TABLE psn;\n",
    "#### 查看描述\n",
    "    desc formated psn;"
   ]
  },
  {
   "cell_type": "markdown",
   "metadata": {},
   "source": [
    "#### 创建外部表,创建的时候要加入LOCATION,HIVE只维护表结构,不会动表数据\n",
    "     CREATE EXTERNAL TABLE page_view(\n",
    "         viewTime INT, \n",
    "         userid BIGINT,\n",
    "         page_url STRING, \n",
    "         referrer_url STRING,\n",
    "         ip STRING COMMENT 'IP Address of the User',\n",
    "         country STRING COMMENT 'country of origination'\n",
    "         )\n",
    "     COMMENT 'This is the staging page view table'\n",
    "         ROW FORMAT DELIMITED FIELDS TERMINATED BY '\\054'\n",
    "         STORED AS TEXTFILE\n",
    "     LOCATION '<hdfs_location>';\n",
    "     \n",
    "     \n",
    "     CREATE EXTERNAL TABLE psn(\n",
    "         id INT, \n",
    "         name STRING,\n",
    "         habit ARRAY<STRING>,\n",
    "         address MAP<STRING,STRING>, \n",
    "     )\n",
    "     ROW FORMAT DELIMITED \n",
    "         FIELDS TERMINATED BY ','\n",
    "         COLLECTION ITEMS TERMINATED BY '-'\n",
    "         MAP KEYS TERMINATED BY ':'  \n",
    "         LINES TERMINATED BY '\\n';\n",
    "     LOCATION '/usr';\n",
    "\n",
    "#### 加载文件    \n",
    "    LOAD DATA [LOCAL] INPATH '/data/mydata'  INTO TABLE psn;"
   ]
  },
  {
   "cell_type": "markdown",
   "metadata": {},
   "source": [
    "## 4.分区\n",
    "\n",
    "###                       a.创建分区\n",
    " #### 创建一个分区\n",
    "     create table psn(\n",
    "            id int,\n",
    "            name string,\n",
    "            habit array<string>,\n",
    "            address map<string,string>\n",
    "        ) \n",
    "        PARTITIONED BY (age int)\n",
    "        ROW FORMAT DELIMITED \n",
    "            FIELDS TERMINATED BY ',' \n",
    "            COLLECTION ITEMS TERMINATED BY '-'\n",
    "            MAP KEYS TERMINATED BY ':'  \n",
    "            LINES TERMINATED BY '\\n';\n",
    " #### 创建两个个分区\n",
    "      create table psn(\n",
    "            id int,\n",
    "            name string,\n",
    "            habit array<string>,\n",
    "            address map<string,string>\n",
    "        ) \n",
    "        PARTITIONED BY (age INT),(set,STRING)\n",
    "        ROW FORMAT DELIMITED \n",
    "            FIELDS TERMINATED BY ',' \n",
    "            COLLECTION ITEMS TERMINATED BY '-'\n",
    "            MAP KEYS TERMINATED BY ':'  \n",
    "            LINES TERMINATED BY '\\n';\n",
    "#### 加载文件    \n",
    "    LOAD DATA [LOCAL] INPATH '/data/mydata'  INTO TABLE psn PARTITION (age=20, sex='M');\n",
    "#### 添加分区<a href='https://cwiki.apache.org/confluence/display/Hive/LanguageManual+DDL#LanguageManualDDL-AddPartitions'>help</a>:注意这个不是添加分区字段,是添加字段分区值\n",
    "    ALTER TABLE psn add PARTITION (age=10,sex='WM')\n",
    "#### 删除分区<a href='https://cwiki.apache.org/confluence/display/Hive/LanguageManual+DDL#LanguageManualDDL-DropPartitions'>help</a>\n",
    "    ALTER TABLE psn DROP PARTITION (sex='WM')\n",
    "#### 问题:外部表drop后会不会删除数据?"
   ]
  },
  {
   "cell_type": "markdown",
   "metadata": {},
   "source": [
    "## 5.从其他表导入数据\n",
    "    FROM psn\n",
    "        INSERT OVERWRITE TABLE psn1   //插入第一个表\n",
    "        SELECT id,name,habit\n",
    "        INSERT OVERWRITE TABLE psn2   //插入第二个表\n",
    "        SELECT id,name\n"
   ]
  },
  {
   "cell_type": "markdown",
   "metadata": {},
   "source": [
    "## 6.Hive Beeline(新的客户端) \n",
    "    需要配合server2服务使用,不用hive --service metastore &\n",
    "    1.在node2上面,启动服务 hiveserver2\n",
    "    2.beeline -u jdbc:hive2://node2:10000/default -n root\n",
    "    \n",
    "    命令以!开头\n",
    "    (2)、beeline\n",
    "    beeline> !connect jdbc:hive2://<host>:<port>/<db>;auth=noSasl root 123"
   ]
  }
 ],
 "metadata": {
  "kernelspec": {
   "display_name": "Python 3",
   "language": "python",
   "name": "python3"
  },
  "language_info": {
   "codemirror_mode": {
    "name": "ipython",
    "version": 3
   },
   "file_extension": ".py",
   "mimetype": "text/x-python",
   "name": "python",
   "nbconvert_exporter": "python",
   "pygments_lexer": "ipython3",
   "version": "3.5.2"
  }
 },
 "nbformat": 4,
 "nbformat_minor": 0
}
