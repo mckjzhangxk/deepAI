{
 "cells": [
  {
   "cell_type": "code",
   "execution_count": null,
   "metadata": {
    "collapsed": true
   },
   "outputs": [],
   "source": [
    "rpm -ivh package.rpm\n",
    "rpm -e software\n",
    "rpm -qa //查询所有安装的软件\n",
    "rpm -q  software //查询软件是否安装\n",
    "rpm -qf /sbin/ifconfig  //查看ifconfig是那个文件包 的 命令!"
   ]
  },
  {
   "cell_type": "markdown",
   "metadata": {},
   "source": [
    "### yum:rpm的管理工具,解决依赖关系(https://opsx.alibaba.com/mirror)\n",
    "    备份 /etc/yum.repo.d/ 下的软件仓库\n",
    "    wget -O /etc/yum.repos.d/CentOS-Base.repo http://mirrors.aliyun.com/repo/Centos-6.repo\n",
    "    yum clean all //清空老的依赖文件\n",
    "    yum makecache //下载新的依赖关系"
   ]
  },
  {
   "cell_type": "markdown",
   "metadata": {},
   "source": [
    "### 配置本地源\n",
    "      挂在到/mnt\n",
    "    [repoID]\n",
    "        baseurl=\n",
    "        http://\n",
    "        file:///mnt\n",
    "        ftp://   \n",
    "        gpgcheck=1/0  //设在为1\n",
    "        enable=0/  1  //设在为1"
   ]
  },
  {
   "cell_type": "code",
   "execution_count": 1,
   "metadata": {
    "collapsed": false
   },
   "outputs": [
    {
     "ename": "SyntaxError",
     "evalue": "invalid syntax (<ipython-input-1-de8d6f0f1abf>, line 1)",
     "output_type": "error",
     "traceback": [
      "\u001b[1;36m  File \u001b[1;32m\"<ipython-input-1-de8d6f0f1abf>\"\u001b[1;36m, line \u001b[1;32m1\u001b[0m\n\u001b[1;33m    yum命令:\u001b[0m\n\u001b[1;37m         ^\u001b[0m\n\u001b[1;31mSyntaxError\u001b[0m\u001b[1;31m:\u001b[0m invalid syntax\n"
     ]
    }
   ],
   "source": [
    "yum命令:\n",
    "库信息:\n",
    "    yum repolist //查看软件库\n",
    "    yum makecache\n",
    "    yum clean all\n",
    "    yum update\n",
    "查询:\n",
    "    yum search\n",
    "    yum info\n",
    "    yum list //列举所有软件\n",
    "分组:一组软件\n",
    "    yum groupinfo \n",
    "    yum groupinstall\n",
    "    yum grouplist\n",
    "    yum groupremove\n",
    "    yum groupinstall \"Chinese Support\""
   ]
  },
  {
   "cell_type": "code",
   "execution_count": null,
   "metadata": {
    "collapsed": true
   },
   "outputs": [],
   "source": []
  }
 ],
 "metadata": {
  "kernelspec": {
   "display_name": "Python 3",
   "language": "python",
   "name": "python3"
  },
  "language_info": {
   "codemirror_mode": {
    "name": "ipython",
    "version": 3
   },
   "file_extension": ".py",
   "mimetype": "text/x-python",
   "name": "python",
   "nbconvert_exporter": "python",
   "pygments_lexer": "ipython3",
   "version": "3.5.2"
  }
 },
 "nbformat": 4,
 "nbformat_minor": 0
}
