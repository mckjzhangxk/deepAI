{
 "cells": [
  {
   "cell_type": "markdown",
   "metadata": {},
   "source": [
    "<img src='images/hive.png'>"
   ]
  },
  {
   "cell_type": "markdown",
   "metadata": {},
   "source": [
    "## 1.MYSQL 安装与配置\n",
    "    1.安装:\n",
    "        在centos: yum -y install mysql-server\n",
    "    2.本机登录:\n",
    "        service mysqld start\n",
    "        mysql -uroot -p\n",
    "    3.基本命令:\n",
    "        show databases;use mysql;show tables;desc user;\n",
    "    4.查看用户权限:\n",
    "        select host,user,authentication_string from user;\n",
    "    5.更改权限:\n",
    "        GRANT ALL ON <database>.* TO '<user>'@'%' IDENTIFIED BY '<password>';\n",
    "        GRANT ALL ON *.* TO 'root'@'%' IDENTIFIED BY '123' WITH GRANT OPTION;\n",
    "        flush privileges;\n",
    "        delete from user where user='root' and host='localhost'; //删除root其他权限\n",
    "        "
   ]
  },
  {
   "cell_type": "markdown",
   "metadata": {},
   "source": [
    "## 2.HIVE安装\n",
    "    1.tar -xvf apache-hive-3.1.1-bin.tar.gz,上传mysql.jar 到lib\n",
    "    2.export HIVE_HOME=/root/apache-hive-3.1.1\n",
    "      export PATH=$PATH:$HIVE_HOME/bin\n",
    "    3.mv hive-default.xml.template hive-site.xml\n",
    "    4.配置项目:https://cwiki.apache.org/confluence/display/Hive/Configuration+Properties\n",
    "    5.启动服务器:hive --service metastore\n",
    "      启动客户端:hive"
   ]
  },
  {
   "cell_type": "code",
   "execution_count": 1,
   "metadata": {
    "collapsed": false
   },
   "outputs": [
    {
     "ename": "SyntaxError",
     "evalue": "invalid syntax (<ipython-input-1-bea3a6519072>, line 1)",
     "output_type": "error",
     "traceback": [
      "\u001b[1;36m  File \u001b[1;32m\"<ipython-input-1-bea3a6519072>\"\u001b[1;36m, line \u001b[1;32m1\u001b[0m\n\u001b[1;33m    <!--hdfs目录-->\u001b[0m\n\u001b[1;37m    ^\u001b[0m\n\u001b[1;31mSyntaxError\u001b[0m\u001b[1;31m:\u001b[0m invalid syntax\n"
     ]
    }
   ],
   "source": [
    "单击模式配置\n",
    "https://blog.csdn.net/yuyanhsf/article/details/81000522\n",
    "    https://www.youtube.com/watch?v=75JGC7Iq4FQ&list=PLdt_D5CEL_e4Y9dIS5CBHpPbuqfY4S6aS&index=9\n",
    "<!--hdfs目录-->\n",
    "<property>  \n",
    "  <name>hive.metastore.warehouse.dir</name>  \n",
    "  <value>/user/hive_remote/warehouse</value>  \n",
    "</property>  \n",
    "\n",
    "<property>  \n",
    "  <name>hive.metastore.local</name>  \n",
    "  <value>false</value>  \n",
    "</property>  \n",
    "<!--链接mysql url-->   \n",
    "<property>  \n",
    "  <name>javax.jdo.option.ConnectionURL</name>  \n",
    "  <value>jdbc:mysql://node1/hive_remote?createDatabaseIfNotExist=true</value>  \n",
    "</property>  \n",
    "<!--链接driver-->\n",
    "<property>  \n",
    "  <name>javax.jdo.option.ConnectionDriverName</name>  \n",
    "  <value>com.mysql.jdbc.Driver</value>  \n",
    "</property>  \n",
    "<!--mysql 用户名-->\n",
    "<property>  \n",
    "  <name>javax.jdo.option.ConnectionUserName</name>  \n",
    "  <value>root</value>  \n",
    "</property>  \n",
    "<!--mysql 密码-->\n",
    "<property>  \n",
    "  <name>javax.jdo.option.ConnectionPassword</name>  \n",
    "  <value>123</value>  \n",
    "</property>  "
   ]
  },
  {
   "cell_type": "code",
   "execution_count": 2,
   "metadata": {
    "collapsed": false
   },
   "outputs": [
    {
     "ename": "SyntaxError",
     "evalue": "invalid syntax (<ipython-input-2-29ff5947939f>, line 1)",
     "output_type": "error",
     "traceback": [
      "\u001b[1;36m  File \u001b[1;32m\"<ipython-input-2-29ff5947939f>\"\u001b[1;36m, line \u001b[1;32m1\u001b[0m\n\u001b[1;33m    多用户模式:服务器\u001b[0m\n\u001b[1;37m         ^\u001b[0m\n\u001b[1;31mSyntaxError\u001b[0m\u001b[1;31m:\u001b[0m invalid syntax\n"
     ]
    }
   ],
   "source": [
    "多用户模式:服务器\n",
    "\n",
    "<property>  \n",
    "  <name>hive.metastore.warehouse.dir</name>  \n",
    "  <value>/user/hive/warehouse</value>  \n",
    "</property>  \n",
    "<property>  \n",
    "  <name>javax.jdo.option.ConnectionURL</name>  \n",
    "  <value>jdbc:mysql://node1:3306/hive?createDatabaseIfNotExist=true</value>  \n",
    "</property>  \n",
    "<property>  \n",
    "  <name>javax.jdo.option.ConnectionDriverName</name>  \n",
    "  <value>com.mysql.jdbc.Driver</value>  \n",
    "</property>     \n",
    "<property>  \n",
    "  <name>javax.jdo.option.ConnectionUserName</name>  \n",
    "  <value>root</value>  \n",
    "</property>  \n",
    "<property>  \n",
    "  <name>javax.jdo.option.ConnectionPassword</name>  \n",
    "  <value>123</value>  \n",
    "</property> "
   ]
  },
  {
   "cell_type": "code",
   "execution_count": 3,
   "metadata": {
    "collapsed": false
   },
   "outputs": [
    {
     "ename": "SyntaxError",
     "evalue": "invalid syntax (<ipython-input-3-5848815d6dab>, line 1)",
     "output_type": "error",
     "traceback": [
      "\u001b[1;36m  File \u001b[1;32m\"<ipython-input-3-5848815d6dab>\"\u001b[1;36m, line \u001b[1;32m1\u001b[0m\n\u001b[1;33m    多用户模式:客户端\u001b[0m\n\u001b[1;37m         ^\u001b[0m\n\u001b[1;31mSyntaxError\u001b[0m\u001b[1;31m:\u001b[0m invalid syntax\n"
     ]
    }
   ],
   "source": [
    "多用户模式:客户端\n",
    "<property>  \n",
    "  <name>hive.metastore.warehouse.dir</name>  \n",
    "  <value>/user/hive/warehouse</value>  \n",
    "</property>  \n",
    "   \n",
    "<property>  \n",
    "  <name>hive.metastore.local</name>  \n",
    "  <value>false</value>  \n",
    "</property>  \n",
    "  \n",
    "<property>  \n",
    "  <name>hive.metastore.uris</name>  \n",
    "  <value>thrift://node2:9083</value>  \n",
    "</property>"
   ]
  },
  {
   "cell_type": "markdown",
   "metadata": {},
   "source": [
    "## 3. <a href='https://cwiki.apache.org/confluence/display/Hive/LanguageManual+DDL#LanguageManualDDL-CreateTableCreate/Drop/TruncateTable'>创建表</a>,<a href='https://cwiki.apache.org/confluence/display/Hive/LanguageManual+DDL#LanguageManualDDL-CreateTableCreate/Drop/TruncateTable'>加载数据</a>\n"
   ]
  },
  {
   "cell_type": "code",
   "execution_count": 4,
   "metadata": {
    "collapsed": false
   },
   "outputs": [
    {
     "ename": "SyntaxError",
     "evalue": "invalid syntax (<ipython-input-4-6b4a4087ccd9>, line 1)",
     "output_type": "error",
     "traceback": [
      "\u001b[1;36m  File \u001b[1;32m\"<ipython-input-4-6b4a4087ccd9>\"\u001b[1;36m, line \u001b[1;32m1\u001b[0m\n\u001b[1;33m    create table psn(id int,name string,habit array<string>,address map<string,string>)\u001b[0m\n\u001b[1;37m               ^\u001b[0m\n\u001b[1;31mSyntaxError\u001b[0m\u001b[1;31m:\u001b[0m invalid syntax\n"
     ]
    }
   ],
   "source": [
    "#创建表\n",
    "create table psn(id int,name string,habit array<string>,address map<string,string>) \n",
    "    ROW FORMAT DELIMITED FIELDS TERMINATED BY ',' COLLECTION ITEMS TERMINATED BY '-'\n",
    "    MAP KEYS TERMINATED BY ':'  LINES TERMINATED BY '\\n';\n",
    "#加载文件    \n",
    "LOAD DATA [LOCAL] INPATH '/data/mydata'  INTO TABLE psn;\n",
    "#查看描述\n",
    "desc formated psn;"
   ]
  },
  {
   "cell_type": "code",
   "execution_count": null,
   "metadata": {
    "collapsed": true
   },
   "outputs": [],
   "source": []
  }
 ],
 "metadata": {
  "kernelspec": {
   "display_name": "Python 3",
   "language": "python",
   "name": "python3"
  },
  "language_info": {
   "codemirror_mode": {
    "name": "ipython",
    "version": 3
   },
   "file_extension": ".py",
   "mimetype": "text/x-python",
   "name": "python",
   "nbconvert_exporter": "python",
   "pygments_lexer": "ipython3",
   "version": "3.5.2"
  }
 },
 "nbformat": 4,
 "nbformat_minor": 0
}
