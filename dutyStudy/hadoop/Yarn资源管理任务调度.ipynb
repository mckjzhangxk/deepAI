{
 "cells": [
  {
   "cell_type": "markdown",
   "metadata": {},
   "source": [
    "## yarn是复杂资源管理的平台,独立出来用于管理DN上的资源,给调度程序提供资源信息.\n",
    "## yarn由resourceManager和NodeManager组成,NodeManager分布于每个节点,\n",
    "## resourceManager汇集NodeManager提交的本地信息\n",
    "\n",
    "<a href='https://hadoop.apache.org/docs/r3.1.1/hadoop-project-dist/hadoop-common/SingleCluster.html#YARN_on_a_Single_Node'>help</a>\n",
    "\n",
    "![ss](images/yarn.png)"
   ]
  },
  {
   "cell_type": "markdown",
   "metadata": {},
   "source": [
    "1.基础配置,让MAP_reduce on Yarn\n",
    "\n",
    "       /hadoop/mapred-site.xml:\n",
    "        <property>\n",
    "            <name>mapreduce.framework.name</name>\n",
    "            <value>yarn</value>\n",
    "        </property>\n",
    "        \n",
    "    /hadoop/yarn-site.xml:\n",
    "    <property>\n",
    "        <name>yarn.nodemanager.aux-services</name>\n",
    "        <value>mapreduce_shuffle</value>\n",
    "    </property>\n",
    "    \n",
    "  "
   ]
  },
  {
   "cell_type": "markdown",
   "metadata": {},
   "source": [
    "##  2.<a href='https://hadoop.apache.org/docs/r3.1.1/hadoop-yarn/hadoop-yarn-site/ResourceManagerHA.html#Configurations'>resourceManager高可用配置<a>\n",
    "    \n",
    "    "
   ]
  },
  {
   "cell_type": "code",
   "execution_count": null,
   "metadata": {
    "collapsed": true
   },
   "outputs": [],
   "source": [
    "    /hadoop/yarn-site.xml:   \n",
    "    <!--启用yarn的高可用-->\n",
    "    <property>\n",
    "        <name>yarn.resourcemanager.ha.enabled</name>\n",
    "        <value>true</value>\n",
    "    </property>\n",
    "        <!--设在yarn的集群ID-->\n",
    "    <property>\n",
    "        <name>yarn.resourcemanager.cluster-id</name>\n",
    "        <value>cluster1</value>\n",
    "    </property>\n",
    "        <!--对ResourceManager节点起别名-->\n",
    "    <property>\n",
    "        <name>yarn.resourcemanager.ha.rm-ids</name>\n",
    "        <value>rm1,rm2</value>\n",
    "    </property>\n",
    "\n",
    "        <!--逻辑对物理节点映射-->\n",
    "    <property>\n",
    "        <name>yarn.resourcemanager.hostname.rm1</name>\n",
    "        <value>node3</value>\n",
    "    </property>\n",
    "    <property>\n",
    "        <name>yarn.resourcemanager.hostname.rm2</name>\n",
    "        <value>node4</value>\n",
    "    </property>\n",
    "\n",
    "    <property>\n",
    "        <name>yarn.resourcemanager.webapp.address.rm1</name>\n",
    "        <value>node3:8088</value>\n",
    "    </property>\n",
    "    <property>\n",
    "        <name>yarn.resourcemanager.webapp.address.rm2</name>\n",
    "        <value>node4:8088</value>\n",
    "    </property>\n",
    "        <!--告诉yarnzookeeper在哪里,用于协调主备yarn-->\n",
    "    <property>\n",
    "        <name>yarn.resourcemanager.zk-address</name>\n",
    "        <value>node2:2181,node3:2181,node4:2181</value>\n",
    "    </property>\n",
    "\n",
    "    <!--使用jdk1.8的时候要加入如下,不然浪费时间-->\n",
    "    <property>\n",
    "    <name>yarn.nodemanager.pmem-check-enabled</name>\n",
    "    <value>false</value>\n",
    "</property>\n",
    "<property>\n",
    "    <name>yarn.nodemanager.vmem-check-enabled</name>\n",
    "    <value>false</value>\n",
    "</property>"
   ]
  },
  {
   "cell_type": "code",
   "execution_count": null,
   "metadata": {
    "collapsed": true
   },
   "outputs": [],
   "source": [
    "3.hadoop-env.sh:\n",
    "    export YARN_RESOURCEMANAGER_ROOT=root\n",
    "    export YARN_NODEMANAGER_ROOT=root"
   ]
  },
  {
   "cell_type": "markdown",
   "metadata": {
    "collapsed": true
   },
   "source": [
    "      3.启动yarn,start-yarn.sh\n",
    "        yarn-daemon.sh --config /root/mybigdata/hadoop-2.6.5/etc/hadoop  start resourcemanager 单独启动RS\n",
    "        yarn-daemon.sh start resourcemanager //也可以不指定config\n",
    "    http://node1:8088/"
   ]
  },
  {
   "cell_type": "code",
   "execution_count": null,
   "metadata": {
    "collapsed": true
   },
   "outputs": [],
   "source": []
  }
 ],
 "metadata": {
  "kernelspec": {
   "display_name": "Python 3",
   "language": "python",
   "name": "python3"
  },
  "language_info": {
   "codemirror_mode": {
    "name": "ipython",
    "version": 3
   },
   "file_extension": ".py",
   "mimetype": "text/x-python",
   "name": "python",
   "nbconvert_exporter": "python",
   "pygments_lexer": "ipython3",
   "version": "3.5.2"
  }
 },
 "nbformat": 4,
 "nbformat_minor": 0
}
