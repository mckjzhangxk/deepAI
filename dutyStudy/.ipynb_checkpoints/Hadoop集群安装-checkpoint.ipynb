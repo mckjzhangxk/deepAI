{
 "cells": [
  {
   "cell_type": "markdown",
   "metadata": {},
   "source": [
    "<a href='https://hadoop.apache.org/docs/r3.1.1/hadoop-project-dist/hadoop-common/SingleCluster.html#Pseudo-Distributed_Operation'>伪集群安装</a>\n",
    "\n",
    "\n"
   ]
  },
  {
   "cell_type": "markdown",
   "metadata": {},
   "source": [
    "* 1.安装必备.\n",
    "    * -jdK\n",
    "    * -SSH 免密码登录"
   ]
  },
  {
   "cell_type": "code",
   "execution_count": null,
   "metadata": {
    "collapsed": true
   },
   "outputs": [],
   "source": []
  },
  {
   "cell_type": "markdown",
   "metadata": {},
   "source": [
    "1.配置etc/hadoop/hadoop-env.sh\n",
    "    * 加入export JAVA_HOME=/usr/java/latest\n",
    "     *   export HDFS_NAMENODE_USER=root\n",
    "      *  export HDFS_DATANODE_USER=root\n",
    "       * export HDFS_SECONDARYNAMENODE_USER=root\n",
    "2.配置免密码登录:\n",
    "   注意，你要把你的namenode节点的公共密钥导入其他节点\n",
    "   \n",
    "  * ssh-keygen -t rsa -P '' -f ~/.ssh/id_rsa  //生成密钥文件\n",
    "  * scp -p ~/.ssh/id_rsa.pub >>  node2:~/.ssh/authorized_keys  //这个才是应该输入的命令，下面2只是理解用/\n",
    "  \n",
    "  \n",
    "  * cat ~/.ssh/id_rsa.pub >> ~/.ssh/authorized_keys //导入公钥,所有的集群机器密钥\n",
    "  * chmod 0600 ~/.ssh/authorized_keys"
   ]
  },
  {
   "cell_type": "code",
   "execution_count": 2,
   "metadata": {},
   "outputs": [
    {
     "ename": "SyntaxError",
     "evalue": "invalid syntax (<ipython-input-2-b7332b511cf7>, line 1)",
     "output_type": "error",
     "traceback": [
      "\u001b[1;36m  File \u001b[1;32m\"<ipython-input-2-b7332b511cf7>\"\u001b[1;36m, line \u001b[1;32m1\u001b[0m\n\u001b[1;33m    3.配置文件\u001b[0m\n\u001b[1;37m         ^\u001b[0m\n\u001b[1;31mSyntaxError\u001b[0m\u001b[1;31m:\u001b[0m invalid syntax\n"
     ]
    }
   ],
   "source": [
    "3.配置文件\n",
    "A.etc/hadoop/core-site.xml:，主要针对NAMENODE\n",
    "<configuration>\n",
    "    <property>\n",
    "        <name>fs.defaultFS</name>\n",
    "        <value>hdfs://node1:9820</value>\n",
    "    </property>\n",
    "    <property>\n",
    "        <name>hadoop.tmp.dir</name>\n",
    "        <value>/root/tmp</value>\n",
    "    </property>\n",
    "</configuration>\n",
    "\n",
    "B.etc/hadoop/hdfs-site.xml:    \n",
    "<configuration>\n",
    "    <property>\n",
    "        <name>dfs.replication</name>\n",
    "        <value>1</value>\n",
    "    </property>\n",
    "    <property>\n",
    "        <name>dfs.namenode.secondary.http-address</name>\n",
    "        <value>node1:9868</value>\n",
    "    </property>\n",
    "</configuration>\n",
    "c.修改worker,localhost改成node1"
   ]
  },
  {
   "cell_type": "code",
   "execution_count": null,
   "metadata": {
    "collapsed": true
   },
   "outputs": [],
   "source": [
    "4.启动\n",
    "    1.格式化,会生成clusterId:bin/hdfs namenode -format\n",
    "    2.sbin/start-dfs.sh,启动所有节点(NAME,DATA,SECONDARY)\n",
    "    3.http://localhost:9870/客户端管理工具\n",
    "    4.ss -nsl查看端口信息"
   ]
  },
  {
   "cell_type": "code",
   "execution_count": null,
   "metadata": {
    "collapsed": true
   },
   "outputs": [],
   "source": []
  },
  {
   "cell_type": "code",
   "execution_count": null,
   "metadata": {
    "collapsed": true
   },
   "outputs": [],
   "source": [
    "集群的配置\n",
    "A.把hadoop 拷贝到其他的机器下:\n",
    "    scp -r hadoop_dir node2:`pwd`\n",
    "B.etc/hadoop/hdfs-site.xml: \n",
    "    <configuration>\n",
    "    <property>\n",
    "        <name>dfs.replication</name>\n",
    "        <value>3</value>\n",
    "    </property>\n",
    "    <property>\n",
    "        <name>dfs.namenode.secondary.http-address</name>\n",
    "        <value>node2:9868</value>\n",
    "    </property>\n",
    "</configuration>\n",
    "c.修改worker,localhost改成node2,node3，node4\n",
    "\n",
    "启动操作:\n",
    "    格式化:hdfs namenode -format //在hadoop.tmp.dir下面生成的fsImage就是namenode的metadata\n",
    "    启动:start-dfs.sh\n",
    "    jps可以查看java进程"
   ]
  }
 ],
 "metadata": {
  "kernelspec": {
   "display_name": "Python 3",
   "language": "python",
   "name": "python3"
  },
  "language_info": {
   "codemirror_mode": {
    "name": "ipython",
    "version": 3
   },
   "file_extension": ".py",
   "mimetype": "text/x-python",
   "name": "python",
   "nbconvert_exporter": "python",
   "pygments_lexer": "ipython3",
   "version": "3.5.2"
  }
 },
 "nbformat": 4,
 "nbformat_minor": 1
}
