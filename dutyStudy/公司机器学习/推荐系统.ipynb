{
 "cells": [
  {
   "cell_type": "markdown",
   "metadata": {},
   "source": [
    "### 数据类型 #https://www.postgresql.org/docs/9.2/datatype.html\n"
   ]
  },
  {
   "cell_type": "code",
   "execution_count": null,
   "metadata": {
    "collapsed": true
   },
   "outputs": [],
   "source": [
    "###创建关系数据表与 \"用户,音乐\" 字典数据表\n",
    "\n",
    "\n",
    "drop table if exists tbl_user;\n",
    "drop table if exists tbl_music;\n",
    "drop table if exists tbl_lmf_data;\n",
    "\n",
    "create table tbl_user(id bigserial,userid varchar(10));\n",
    "create table tbl_music(id bigserial,musicid varchar(10));\n",
    "create table tbl_lmf_data(row integer,col integer,val float8);\n",
    "\n",
    "##插入数据\n",
    "insert into tbl_user(userid) values ('u0'),('u1'),('u2'),('u3'),('u4'),('u5'),('u6'),('u7'),('u8'),('u9'),('u10');\n",
    "insert into tbl_music(musicid) values ('m1'),('m2'),('m3'),('m4'),('m5'),('m6'),('m7'),\n",
    "('m8'),('m9'),('m10'),('m11'),('m12'),('m13'),('m14'),('m15');\n",
    "#插入评论关系\n",
    "insert into tbl_lmf_data values (1,1,5),(1,6,-5),(1,9,5),(1,11,3),(1,12,1),(1,13,5);\n",
    "insert into tbl_lmf_data values (2,4,3),(2,9,3),(2,13,4);\n",
    "insert into tbl_lmf_data values (3,3,1),(3,4,2),(3,6,-5),(3,7,4),(3,11,-2),(3,12,-2),(3,13,-2);\n",
    "insert into tbl_lmf_data values (4,2,4),(4,3,4),(4,4,3),(4,7,-2),(4,9,-5),(4,12,3);\n",
    "insert into tbl_lmf_data values (6,2,5),(6,3,-5),(6,5,-5),(6,7,4),(6,8,3),(6,11,4);\n",
    "insert into tbl_lmf_data values (7,3,4),(7,6,3),(7,9,4);\n",
    "insert into tbl_lmf_data values (8,2,-2),(8,6,5),(8,11,4),(8,12,4),(8,13,-2);\n",
    "insert into tbl_lmf_data values (9,2,-2),(9,6,5),(9,8,5),(9,11,4),(9,13,-2);"
   ]
  },
  {
   "cell_type": "markdown",
   "metadata": {},
   "source": [
    "### 矩阵分解https://madlib.apache.org/docs/latest/group__grp__lmf.html"
   ]
  },
  {
   "cell_type": "code",
   "execution_count": null,
   "metadata": {
    "collapsed": true
   },
   "outputs": [],
   "source": [
    "select madlib.lmf_igd_run( \n",
    "             'tbl_lmf_model',\n",
    "             'tbl_lmf_data',\n",
    "             'row',\n",
    "             'col',\n",
    "             'val',\n",
    "             11,\n",
    "             16,\n",
    "             7,\n",
    "             0.1,\n",
    "             1,\n",
    "             10,\n",
    "             1e-9\n",
    "           );"
   ]
  },
  {
   "cell_type": "markdown",
   "metadata": {},
   "source": [
    "### 矩阵转表 https://madlib.apache.org/docs/latest/group__grp__vec2cols.html"
   ]
  },
  {
   "cell_type": "code",
   "execution_count": null,
   "metadata": {
    "collapsed": true
   },
   "outputs": [],
   "source": [
    "create table tbl_U as \n",
    "select d1,d2,matrix_u[d1][d2] val from \n",
    "    (select matrix_u,generate_series(1,array_upper(matrix_u,1)) d1 from tbl_lmf_model) t1 ,\n",
    "    (select generate_series(1,array_upper(matrix_u,2)) d2 from tbl_lmf_model) t2;\n",
    "    \n",
    "create table tbl_V as \n",
    "select d1,d2,matrix_v[d1][d2] val from \n",
    "    (select matrix_v,generate_series(1,array_upper(matrix_v,1)) d1 from tbl_lmf_model) t1 ,\n",
    "    (select generate_series(1,array_upper(matrix_v,2)) d2 from tbl_lmf_model) t2;"
   ]
  },
  {
   "cell_type": "markdown",
   "metadata": {},
   "source": [
    "### 矩阵乘法 https://madlib.apache.org/docs/latest/group__grp__matrix.html#operations"
   ]
  },
  {
   "cell_type": "code",
   "execution_count": null,
   "metadata": {
    "collapsed": true
   },
   "outputs": [],
   "source": [
    "select madlib.matrix_mult('tbl_U','row=d1,col=d2,val=val',\n",
    "                          'tbl_V','row=d1,col=d2,val=val,trans=true',\n",
    "                          'tbl_result','row=row,col=col');\n",
    "#在转为稀疏矩阵\n",
    "select madlib.matrix_sparsify('tbl_result','row=row,val=val','tbl_sparsify_result','row=rowid,col=colid,val=val');"
   ]
  },
  {
   "cell_type": "code",
   "execution_count": null,
   "metadata": {
    "collapsed": true
   },
   "outputs": [],
   "source": [
    "##查询出 人对电影 的喜欢程度\n",
    "\n",
    "select u.userid,m.musicid,a.rn,a.val from\n",
    "(select rowid,colid,row_number() over (partition by rowid order by val desc) rn,val \n",
    "from tbl_sparsify_result t1 \n",
    " where not exists (select 1 from tbl_lmf_data t2 where t2.row=t1.rowid and t2.col=t1.colid)) a,\n",
    "tbl_user u,\n",
    "tbl_music m\n",
    "where u.uid=a.rowid and m.id=a.colid\n",
    "order by u.userid,a.val desc;"
   ]
  }
 ],
 "metadata": {
  "kernelspec": {
   "display_name": "Python 3",
   "language": "python",
   "name": "python3"
  },
  "language_info": {
   "codemirror_mode": {
    "name": "ipython",
    "version": 3
   },
   "file_extension": ".py",
   "mimetype": "text/x-python",
   "name": "python",
   "nbconvert_exporter": "python",
   "pygments_lexer": "ipython3",
   "version": "3.5.2"
  }
 },
 "nbformat": 4,
 "nbformat_minor": 0
}
