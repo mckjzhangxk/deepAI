{
 "cells": [
  {
   "cell_type": "markdown",
   "metadata": {},
   "source": [
    "### 数据格式"
   ]
  },
  {
   "cell_type": "markdown",
   "metadata": {},
   "source": [
    "    DROP TABLE IF EXISTS dt_golf CASCADE;\n",
    "    CREATE TABLE dt_golf (\n",
    "        id integer NOT NULL,\n",
    "        outside text,\n",
    "        temperature double precision,\n",
    "        humidity double precision,\n",
    "        windy boolean,\n",
    "        class text\n",
    "    );\n",
    "    INSERT INTO dt_golf VALUES (1,'sunny', 85, 85,'false','Don''t Play'),\n",
    "    (2, 'sunny', 80, 90,'true', 'Don''t Play'),\n",
    "    (3, 'overcast', 83, 78, 'false', 'Play'),\n",
    "    (4, 'rain', 70, 96, 'false', 'Play'),\n",
    "    (5, 'rain', 68, 80, 'false', 'Play'),\n",
    "    (6, 'rain', 65, 70, 'true', 'Don''t Play'),\n",
    "    (7, 'overcast', 64, 65, 'true', 'Play'),\n",
    "    (8, 'sunny', 72, 95, 'false', 'Don''t Play'),\n",
    "    (9, 'sunny', 69, 70, 'false', 'Play'),\n",
    "    (10, 'rain', 75, 80, 'false', 'Play'),\n",
    "    (11, 'sunny', 75, 70, 'true', 'Play'),\n",
    "    (12, 'overcast', 72, 90, 'true', 'Play'),\n",
    "    (13, 'overcast', 81, 75,'false', 'Play'),\n",
    "    (14, 'rain', 71, 80, 'true', 'Don''t Play');"
   ]
  },
  {
   "cell_type": "markdown",
   "metadata": {},
   "source": [
    "### 训练数据\n",
    "http://madlib.apache.org/docs/latest/group__grp__decision__tree.html#train"
   ]
  },
  {
   "cell_type": "markdown",
   "metadata": {},
   "source": [
    "    select madlib.tree_train(\n",
    "        'dt_golf',  --输入训练集合\n",
    "        'dt_golf_model',  --输出模型表名\n",
    "        'id',       --表必须有id,为了交叉验证\n",
    "        'class', --因变量\n",
    "        'outside,temperature,humidity,windy',--自变量\n",
    "        null::text,\n",
    "        'gini', --分割准则,默认基尼系数,产生最小 \"基尼系数\" 的特征被选为 分割点 进行分割\n",
    "        null,\n",
    "        null,\n",
    "        5,  --最大树的深度,不要超过\"自变量\"数量\n",
    "        3, --最小分割数,节点中样本小于这个数不会 被分割,min_split\n",
    "        1, --\"叶子节点层\" 最小的样本数,一般是min_bucket/3\n",
    "        10,--连续 变量 离散化 的分割区间,\n",
    "        'cp=0,n_folds=6'  --n_folds交叉验证的折数,cp??\n",
    "        );"
   ]
  },
  {
   "cell_type": "markdown",
   "metadata": {},
   "source": [
    "## 决策数的显示 \n",
    "    select madlib.tree_display('dt_golf_model',true); --输入为dot文件,读取后保存为文件(my.dot)\n",
    "    dot -Tjpg my.dot -o my.jpg\n",
    " <img src='img/my.jpg' />"
   ]
  },
  {
   "cell_type": "markdown",
   "metadata": {},
   "source": [
    "## 使用决策数预测"
   ]
  },
  {
   "cell_type": "markdown",
   "metadata": {},
   "source": [
    "### 1.数据表 结构同训练数据集一样\n",
    "    DROP TABLE IF EXISTS dt_golf_new CASCADE;\n",
    "    CREATE TABLE dt_golf_new (\n",
    "        id integer NOT NULL,\n",
    "        outside text,\n",
    "        temperature double precision,\n",
    "        humidity double precision,\n",
    "        windy boolean\n",
    "    );\n",
    "    INSERT INTO dt_golf_new VALUES (1,'sunny', 32, 85,'false'),\n",
    "    (2, 'sunny', 80, 90,'true'),\n",
    "    (3, 'overcast', 83, 78, 'true');"
   ]
  },
  {
   "cell_type": "markdown",
   "metadata": {},
   "source": [
    "### 2.预测结果\n",
    "\n",
    "    select madlib.tree_predict('dt_golf_model',  --模型表\n",
    "                  'dt_golf_new', --要预测的数据\n",
    "                 'dt_golf_new_result', --结果表 \n",
    "                 'response'); --输入的type,response表示分类结果,prob表示每个类别的概率\n",
    "                 \n",
    "    select * from dt_golf_new_result;--查看结果\n",
    "<img src='img/rf1.png'>"
   ]
  },
  {
   "cell_type": "markdown",
   "metadata": {},
   "source": [
    "## 随机森林"
   ]
  },
  {
   "cell_type": "markdown",
   "metadata": {},
   "source": [
    "### 1.数据格式与随机树一直"
   ]
  },
  {
   "cell_type": "markdown",
   "metadata": {},
   "source": [
    "### 2.训练\n",
    "\n",
    "    select madlib.forest_train('dt_golf',  --输入训练集合\n",
    "                 'dt_golf_forest_model',  --输出模型表名\n",
    "                 'id',       --表必须有id,为了交叉验证\n",
    "                 'class', --因变量\n",
    "                 'outside,temperature,humidity,windy',--自变量\n",
    "                 null::text, --排除的变量,例如排除 windy,humidity\n",
    "                 null,\n",
    "                 10, --num_trees\n",
    "                 2,--随机选择的特征,不同于决策树,为了防止过拟合,每一次分裂的特征随机选取,一般sqrt(num features)\n",
    "                 true::boolean,--是否计算特征  重要性\n",
    "                 1,--1\n",
    "                 8,--最大树的深度,不要超过\"自变量\"数量\n",
    "                 3, --最小分割数,节点中样本小于这个数不会 被分割,min_split\n",
    "                 1, --\"叶子节点层\" 最小的样本数,一般是min_split/3\n",
    "                 10 --连续 变量 离散化 的分割区间,\n",
    "                 );\n",
    "     模型参数表dt_golf_forest_model有gid,sample_id,tree组成,分别代表分组id,森林中的决策树id,生成的树"
   ]
  },
  {
   "cell_type": "markdown",
   "metadata": {},
   "source": [
    "### 3.随机森林显示\n",
    "    select madlib.get_tree( 'dt_golf_forest_model',1,2,true); --输出第二棵树,dot格式"
   ]
  },
  {
   "cell_type": "markdown",
   "metadata": {},
   "source": [
    "### 2.预测结果\n",
    "\n",
    "    select madlib.forest_predict('dt_golf_forest_model',  --模型表\n",
    "                  'dt_golf_new', --要预测的数据\n",
    "                 'dt_golf_forest_new_result', --结果表 \n",
    "                 'response'); --输入的type,response表示分类结果,prob表示每个类别的概率\n",
    "                 \n",
    "    select * from dt_golf_forest_new_result;--查看结果\n",
    "<img src='img/rf1.png'>"
   ]
  },
  {
   "cell_type": "markdown",
   "metadata": {
    "collapsed": true
   },
   "source": [
    "## KNN(K临近值)"
   ]
  },
  {
   "cell_type": "markdown",
   "metadata": {},
   "source": [
    "### 1.训练数据集:\n",
    "    1.类别的字段需要one-hot编码,这里省略了...\n",
    "    2.数值字段要缩放到[0,1],这里省略了..."
   ]
  },
  {
   "cell_type": "markdown",
   "metadata": {},
   "source": [
    "    DROP TABLE IF EXISTS dt_golf_train CASCADE;\n",
    "    CREATE TABLE dt_golf_train(\n",
    "        id integer NOT NULL,\n",
    "        data float8[],  ---不同于决策树,这里要使用数组\n",
    "        class int\n",
    "    );\n",
    "    \n",
    "    INSERT INTO dt_golf_train VALUES (1,'{0,85,85,0}',0),\n",
    "    (2, '{0,80,90,1}', 0),\n",
    "    (3, '{1,83,78,0}', 1),\n",
    "    (4, '{2,70,96,0}', 1),\n",
    "    (5, '{2,68,80,0}', 1),\n",
    "    (6, '{2,65,70,1}', 0),\n",
    "    (7, '{1,64,65,1}', 1),\n",
    "    (8, '{0,72,95,0}', 0),\n",
    "    (9,  '{0,69,70,0}',1),\n",
    "    (10, '{2,75,80,0}',1);"
   ]
  },
  {
   "cell_type": "markdown",
   "metadata": {},
   "source": [
    "    DROP TABLE IF EXISTS dt_golf_test CASCADE;\n",
    "    CREATE TABLE dt_golf_test(\n",
    "        id integer NOT NULL,\n",
    "        data float8[],  ---不同于决策树,这里要使用数组\n",
    "        class text\n",
    "    );\n",
    "    INSERT INTO dt_golf_test VALUES (1, '{0,75,70,1}',1),\n",
    "    (2, '{1,72,90,1}', 1),\n",
    "    (3, '{1,72,90,1}', 1),\n",
    "    (4, '{2,71,80,1}', 0);"
   ]
  },
  {
   "cell_type": "markdown",
   "metadata": {},
   "source": [
    "### 预测数据"
   ]
  },
  {
   "cell_type": "markdown",
   "metadata": {},
   "source": [
    "    select madlib.knn(\n",
    "        'dt_golf_train',--源表\n",
    "        'data', --特征变量\n",
    "        'id',\n",
    "        'class',--自变量\n",
    "        'dt_golf_test',--测试表\n",
    "        'data', --特征变量\n",
    "        'id',\n",
    "        'dt_golf_knn',--输出表\n",
    "        3 --K值\n",
    "    );\n",
    "    select * from dt_golf_test;"
   ]
  }
 ],
 "metadata": {
  "kernelspec": {
   "display_name": "Python 3",
   "language": "python",
   "name": "python3"
  },
  "language_info": {
   "codemirror_mode": {
    "name": "ipython",
    "version": 3
   },
   "file_extension": ".py",
   "mimetype": "text/x-python",
   "name": "python",
   "nbconvert_exporter": "python",
   "pygments_lexer": "ipython3",
   "version": "3.5.2"
  }
 },
 "nbformat": 4,
 "nbformat_minor": 0
}
