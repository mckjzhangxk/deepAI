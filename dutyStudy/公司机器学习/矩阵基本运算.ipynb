{
 "cells": [
  {
   "cell_type": "markdown",
   "metadata": {},
   "source": [
    "### 矩阵表示(稀疏与密集)"
   ]
  },
  {
   "cell_type": "markdown",
   "metadata": {},
   "source": [
    "     #a:创建mat_a\n",
    "    drop table if exists mat_a;\n",
    "    create table mat_a(\n",
    "     rowid integer,\n",
    "     vectors integer[]\n",
    "    );\n",
    "    insert into mat_a values(1,'{9,6,5,8}');\n",
    "    insert into mat_a values(2,'{8,2,2,6}');\n",
    "    insert into mat_a values(3,'{3,9,9,9}');\n",
    "    insert into mat_a values(4,'{6,4,2,2}');\n",
    "    #b,创建mat_b\n",
    "    drop table if exists mat_b;\n",
    "    create table mat_b(\n",
    "     rowid integer,\n",
    "     vectors integer[]\n",
    "    );\n",
    "    insert into mat_b values(1,'{9,10,2,4}');\n",
    "    insert into mat_b values(2,'{5,3,5,2}');\n",
    "    insert into mat_b values(3,'{0,1,2,3}');\n",
    "    insert into mat_b values(4,'{2,9,0,4}');\n",
    "    insert into mat_b values(5,'{3,8,7,7}');\n",
    "    \n",
    "    #创建稀疏矩阵\n",
    "    drop table if exists mat_sparisify_a;\n",
    "    select madlib.matrix_sparsify('mat_a','row=rowid,val=vectors','mat_sparisify_a','row=rowid,col=colid,val=val');\n",
    "    drop table if exists mat_sparisify_b;\n",
    "    select madlib.matrix_sparsify('mat_b','row=rowid,val=vectors','mat_sparisify_b','row=rowid,col=colid,val=val');\n",
    "     #维度展示\n",
    "    select madlib.matrix_ndims('mat_a','row=rowid,val=vectors');\n",
    "    select madlib.matrix_ndims('mat_sparisify_a','row=rowid,col=colid');"
   ]
  },
  {
   "cell_type": "markdown",
   "metadata": {},
   "source": [
    "### 创建矩阵\n",
    "\n",
    "    ##创建0,1,I矩阵\n",
    "    select madlib.matrix_zeros(2,3,'mat_zero','row=rowid,col=colid');\n",
    "    select madlib.matrix_ones(2,3,'mat_one','row=rowid,col=colid');\n",
    "    select madlib.matrix_identity(3,'mat_i','row=rowid,col=colid');\n",
    "    #创建对角元素\n",
    "    select madlib.matrix_diag(array[1,2,3,4],'mat_diag_a','row=rowid,val=vectors');\n",
    "    "
   ]
  },
  {
   "cell_type": "markdown",
   "metadata": {},
   "source": [
    "### 矩阵元素提取\n",
    "    #提取行 或者 列 或者\n",
    "    select madlib.matrix_extract_row('mat_a','row=rowid,val=vectors',3);\n",
    "    select madlib.matrix_extract_col('mat_a','row=rowid,val=vectors',3);\n",
    "    select madlib.matrix_extract_diag('mat_a','row=rowid,val=vectors');"
   ]
  },
  {
   "cell_type": "markdown",
   "metadata": {},
   "source": [
    "### 矩阵的基本运算\n",
    "    select madlib.matrix_add('mat_a','row=rowid,val=vectors','mat_a','row=rowid,val=vectors','mat_add_a','row=rowid,val=vectors');\n",
    "    \n",
    "    select madlib.matrix_sub('mat_a','row=rowid,val=vectors','mat_a','row=rowid,val=vectors','mat_sub_a','row=rowid,val=vectors');\n",
    "    \n",
    "    select madlib.matrix_scalar_mult('mat_a','row=rowid,val=vectors',3,'mat_scalar_a','row=rowid,val=vectors');\n",
    "    \n",
    "    \n",
    "    select madlib.matrix_elem_mult('mat_a','row=rowid,val=vectors','mat_a','row=rowid,val=vectors','mat_elem_a','row=rowid,val=vectors');\n",
    "    \n",
    "    #矩阵转制\n",
    "    select madlib.matrix_trans('mat_a','row=rowid,val=vectors','mat_trans_a','row=rowid,val=vectors');\n",
    "    \n",
    "    #矩阵乘法,可以在需要转制的矩阵参数后加上trans=true\n",
    "    select madlib.matrix_mult('mat_a','row=rowid,val=vectors,trans=true','mat_b','row=rowid,val=vectors','mat_mul_ab','row=rowid,val=vectors');\n",
    "    \n",
    "    #矩阵与向量\n",
    "    select madlib.matrix_vec_mult('mat_a','row=rowid,val=vectors',array[1,1,1,1]);"
   ]
  },
  {
   "cell_type": "markdown",
   "metadata": {},
   "source": [
    "### 矩阵的聚合函数\n",
    "    select madlib.matrix_sum('mat_a','row=rowid,val=vectors',1);\n",
    "    select madlib.matrix_mean('mat_a','row=rowid,val=vectors',1);\n",
    "    #返回数据表mat_a_min,columns=(index along dim=1,min value)\n",
    "    select madlib.matrix_min('mat_a','row=rowid,val=vectors',1,'mat_a_min',true);"
   ]
  },
  {
   "cell_type": "code",
   "execution_count": null,
   "metadata": {
    "collapsed": true
   },
   "outputs": [],
   "source": []
  }
 ],
 "metadata": {
  "kernelspec": {
   "display_name": "Python 3",
   "language": "python",
   "name": "python3"
  },
  "language_info": {
   "codemirror_mode": {
    "name": "ipython",
    "version": 3
   },
   "file_extension": ".py",
   "mimetype": "text/x-python",
   "name": "python",
   "nbconvert_exporter": "python",
   "pygments_lexer": "ipython3",
   "version": "3.5.2"
  }
 },
 "nbformat": 4,
 "nbformat_minor": 0
}
