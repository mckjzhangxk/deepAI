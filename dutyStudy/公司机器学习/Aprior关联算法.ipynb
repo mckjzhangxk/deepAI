{
 "cells": [
  {
   "cell_type": "markdown",
   "metadata": {},
   "source": [
    "## 1.算法使用场景:\n",
    "https://www.youtube.com/watch?v=-5Uia2a5jxc&list=PLea0WJq13cnCS4LLMeUuZmTxqsqlhwUoe&index=36\n",
    "\n",
    "    分析在事物交易中,商品之间的管理,例如经典的\"啤酒与尿布\",买了 \"尿布\" 的人 很有可能 购买 \"啤酒\"\n",
    "    \n",
    "$\"尿布 \\to \"啤酒\"$"
   ]
  },
  {
   "cell_type": "markdown",
   "metadata": {},
   "source": [
    "## 2.算法常有的指标\n",
    "$support(x)=p(x)$,支持度\n",
    "\n",
    "$support(x \\to y)=p(x,y)$,规则支持度\n",
    "\n",
    "$conf(x \\to y)=p(y|x)$,规则置信度\n",
    "\n",
    "$list(x \\to y)=p(y|x)/p(y)$,规则提升度\n",
    "\n",
    "$conviction(x \\to y)=\\frac{1-p(y)}{1-p(y|x)}$,规则确信度\n",
    "\n",
    "\n",
    "\n",
    "设置阈值:min_sup,min_conf\n",
    "\n",
    "强关联:$support(x \\to y)>min\\_sup$,$conf(x \\to y)>min\\_conf$\n",
    "\n",
    "有效强关联:$support(x \\to y)>min\\_sup$,$conf(x \\to y)>min\\_conf,$list(x \\to y)>1$"
   ]
  },
  {
   "cell_type": "markdown",
   "metadata": {},
   "source": [
    "## 3.数据源\n",
    "    1.事务ID,相同的事物ID一样\n",
    "    2.itemname:购买的物品名 \n",
    "    \n",
    "    DROP TABLE IF EXISTS test_data;\n",
    "    CREATE TABLE test_data (\n",
    "        trans_id INT,\n",
    "        product TEXT\n",
    "    );\n",
    "    INSERT INTO test_data VALUES (1, 'beer');\n",
    "    INSERT INTO test_data VALUES (1, 'diapers');\n",
    "    INSERT INTO test_data VALUES (1, 'chips');\n",
    "    INSERT INTO test_data VALUES (2, 'beer');\n",
    "    INSERT INTO test_data VALUES (2, 'diapers');\n",
    "    INSERT INTO test_data VALUES (3, 'beer');\n",
    "    INSERT INTO test_data VALUES (3, 'diapers');\n",
    "    INSERT INTO test_data VALUES (4, 'beer');\n",
    "    INSERT INTO test_data VALUES (4, 'chips');\n",
    "    INSERT INTO test_data VALUES (5, 'beer');\n",
    "    INSERT INTO test_data VALUES (6, 'beer');\n",
    "    INSERT INTO test_data VALUES (6, 'diapers');\n",
    "    INSERT INTO test_data VALUES (6, 'chips');\n",
    "    INSERT INTO test_data VALUES (7, 'beer');\n",
    "    INSERT INTO test_data VALUES (7, 'diapers');"
   ]
  },
  {
   "cell_type": "markdown",
   "metadata": {},
   "source": [
    "## 4.运行算法,生成规则\n",
    "    SELECT * FROM madlib.assoc_rules( .25,            -- min_sup最小支持度\n",
    "                                      .5,             -- min_conf最小置信度\n",
    "                                      'trans_id',     -- 事务ID名\n",
    "                                      'product',      -- 关联事项名\n",
    "                                      'test_data',    -- 输入数据表\n",
    "                                      NULL           -- Output schema\n",
    "                                   );\n",
    "    #算法总会生成\"assoc_rules\"的关系表,如果要保存,要马上备份,不然下一次执行算法会覆盖上一个表\n",
    "    create table my_rule as select * from assoc_rules;--备份表"
   ]
  },
  {
   "cell_type": "markdown",
   "metadata": {},
   "source": [
    "## 5.根据需要过滤规则...\n",
    "    #select * from my_rule where array_upper(pre,1)=1; --只选择 pre 数组长度是1的显示\n",
    "<img src='img/aprior1.png' />"
   ]
  }
 ],
 "metadata": {
  "kernelspec": {
   "display_name": "Python 3",
   "language": "python",
   "name": "python3"
  },
  "language_info": {
   "codemirror_mode": {
    "name": "ipython",
    "version": 3
   },
   "file_extension": ".py",
   "mimetype": "text/x-python",
   "name": "python",
   "nbconvert_exporter": "python",
   "pygments_lexer": "ipython3",
   "version": "3.5.2"
  }
 },
 "nbformat": 4,
 "nbformat_minor": 0
}
