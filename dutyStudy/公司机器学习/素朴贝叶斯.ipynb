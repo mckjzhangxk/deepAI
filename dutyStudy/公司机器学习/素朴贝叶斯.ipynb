{
 "cells": [
  {
   "cell_type": "markdown",
   "metadata": {},
   "source": [
    "### 1.数据源\n",
    "    1.特征数据要使用数组保存\n",
    "    2.数据表必须有主键"
   ]
  },
  {
   "cell_type": "markdown",
   "metadata": {},
   "source": [
    "    DROP TABLE IF EXISTS dt_golf_nb_train CASCADE;\n",
    "    CREATE TABLE dt_golf_nb_train(\n",
    "        id integer NOT NULL,\n",
    "        data float8[],  ---不同于决策树,这里要使用数组\n",
    "        class int\n",
    "    );\n",
    "    \n",
    "    INSERT INTO dt_golf_nb_train VALUES (1,'{0,85,85,0}',0),\n",
    "    (2, '{0,80,90,1}', 0),\n",
    "    (3, '{1,83,78,0}', 1),\n",
    "    (4, '{2,70,96,0}', 1),\n",
    "    (5, '{2,68,80,0}', 1),\n",
    "    (6, '{2,65,70,1}', 0),\n",
    "    (7, '{1,64,65,1}', 1),\n",
    "    (8, '{0,72,95,0}', 0),\n",
    "    (9,  '{0,69,70,0}',1),\n",
    "    (10, '{2,75,80,0}',1);"
   ]
  },
  {
   "cell_type": "markdown",
   "metadata": {},
   "source": [
    "### 2.数据训练 \n",
    "    http://madlib.apache.org/docs/latest/bayes_8sql__in.html#a3ed5ddbc4cab1013db8604be58a6da3d\n",
    "    注意事项:\n",
    "        要对数据源特征数据进行划分\n",
    "        1.了解哪些是离散特征,哪些是连续特征,例如上面的特征2,3(温度,湿度)是连续的,1,4(天气,是否有风)是离散的\n",
    "        2.连续特征 的 离散特征 调用的函数签名不一样,要区别对待. \n",
    "        3.调用函数后会生成3张表(模型表)"
   ]
  },
  {
   "cell_type": "markdown",
   "metadata": {},
   "source": [
    "    select madlib.create_nb_prepared_data_tables(\n",
    "        'dt_golf_nb_train', --源数据表\n",
    "        'class',  --因变量的列名\n",
    "        'data',  --自变量的列名\n",
    "        'array[2,3]',--自变量中哪些字段是连续的,这里写上索引,如果自变量中没有连续字段,不要传入此参数\n",
    "        4, --自变量的数量\n",
    "        'dt_golf_nb_feature',--生成 表1 名\n",
    "        'dt_golf_nb_num_feature',--生成 表2 名,如果自变量中没有连续字段,不要传入此参数\n",
    "        'dt_golf_nb_class'----生成 表3 名\n",
    "    );"
   ]
  },
  {
   "cell_type": "markdown",
   "metadata": {},
   "source": [
    "### 3. 使用模型预测新数据"
   ]
  },
  {
   "cell_type": "markdown",
   "metadata": {},
   "source": [
    "### 3.1 数据源\n",
    "    DROP TABLE IF EXISTS dt_golf_nb_test CASCADE;\n",
    "    CREATE TABLE dt_golf_nb_test(\n",
    "        id integer NOT NULL,\n",
    "        data float8[]  ---不同于决策树,这里要使用数组\n",
    "    );\n",
    "    INSERT INTO dt_golf_nb_test VALUES (1, '{0,75,70,1}'),\n",
    "    (2, '{1,72,90,1}'),\n",
    "    (3, '{1,72,90,1}'),\n",
    "    (4, '{2,71,80,1}');"
   ]
  },
  {
   "cell_type": "markdown",
   "metadata": {},
   "source": [
    "### 3.2 调用函数\n",
    "    #可以得到预测 结果 和对于的概率\n",
    "    select madlib.create_nb_probs_view(\n",
    "        'dt_golf_nb_feature', --上面生成的表1\n",
    "        'dt_golf_nb_class', --上面生成的表3\n",
    "        'dt_golf_nb_test',  --输入表\n",
    "        'id',               --主键名\n",
    "        'data',             --自变量名\n",
    "        4,                  --自变量数量\n",
    "        'dt_golf_nb_num_feature',--上面生成的表2\n",
    "        'dt_golf_nb_test_result_probs'\n",
    "    );\n",
    "    \n",
    "    #只有预测结果,没有概率\n",
    "    select madlib.create_nb_classify_view(\n",
    "        'dt_golf_nb_feature', --上面生成的表1\n",
    "        'dt_golf_nb_class', --上面生成的表3\n",
    "        'dt_golf_nb_test',  --输入表\n",
    "        'id',               --主键名\n",
    "        'data',             --自变量名\n",
    "        4,                  --自变量数量\n",
    "        'dt_golf_nb_num_feature',--上面生成的表2\n",
    "        'dt_golf_nb_test_result_cls'\n",
    "    );"
   ]
  }
 ],
 "metadata": {
  "kernelspec": {
   "display_name": "Python 3",
   "language": "python",
   "name": "python3"
  },
  "language_info": {
   "codemirror_mode": {
    "name": "ipython",
    "version": 3
   },
   "file_extension": ".py",
   "mimetype": "text/x-python",
   "name": "python",
   "nbconvert_exporter": "python",
   "pygments_lexer": "ipython3",
   "version": "3.5.2"
  }
 },
 "nbformat": 4,
 "nbformat_minor": 0
}
