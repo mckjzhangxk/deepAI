{
 "cells": [
  {
   "cell_type": "markdown",
   "metadata": {},
   "source": [
    "### 算法简介:\n",
    "    用于计算\"图\" 中节点的排名,根据边的权重,使用如下公式迭代,最终得到最后的排名\n",
    "$\\begin{bmatrix}\n",
    "    v_1^{k+1} \\\\\n",
    "    v_2^{k+1} \n",
    "\\end{bmatrix}\n",
    "=\\alpha+(1-\\alpha)\\begin{bmatrix}\n",
    "p_{11} & p_{12} \\\\\n",
    "p_{21} & p_{22} \n",
    "\\end{bmatrix}\n",
    "\\begin{bmatrix}\n",
    "    v_1^{k} \\\\\n",
    "    v_2^{k} \n",
    "\\end{bmatrix}\n",
    "$"
   ]
  },
  {
   "cell_type": "markdown",
   "metadata": {},
   "source": [
    "### 数据结构\n",
    "1.一张 \"节点\" 表\n",
    "2.一张 \"节点关联\" 表\n",
    "\n",
    "    DROP TABLE IF EXISTS vertex, edge;\n",
    "    CREATE TABLE vertex(\n",
    "            id INTEGER\n",
    "            );\n",
    "    CREATE TABLE edge(\n",
    "            src INTEGER,\n",
    "            dest INTEGER,\n",
    "            user_id INTEGER\n",
    "            );\n",
    "    INSERT INTO vertex VALUES\n",
    "    (0),\n",
    "    (1),\n",
    "    (2),\n",
    "    (3),\n",
    "    (4),\n",
    "    (5),\n",
    "    (6);\n",
    "    INSERT INTO edge VALUES\n",
    "    (0, 1, 1),\n",
    "    (0, 2, 1),\n",
    "    (0, 4, 1),\n",
    "    (1, 2, 1),\n",
    "    (1, 3, 1),\n",
    "    (2, 3, 1),\n",
    "    (2, 5, 1),\n",
    "    (2, 6, 1),\n",
    "    (3, 0, 1),\n",
    "    (4, 0, 1),\n",
    "    (5, 6, 1),\n",
    "    (6, 3, 1),\n",
    "    (0, 1, 2),\n",
    "    (0, 2, 2),\n",
    "    (0, 4, 2),\n",
    "    (1, 2, 2),\n",
    "    (1, 3, 2),\n",
    "    (2, 3, 2),\n",
    "    (3, 0, 2),\n",
    "    (4, 0, 2),\n",
    "    (5, 6, 2),\n",
    "    (6, 3, 2);"
   ]
  },
  {
   "cell_type": "markdown",
   "metadata": {},
   "source": [
    "### 执行算法得到排名\n",
    "\n",
    "    DROP TABLE IF EXISTS pagerank_out, pagerank_out_summary;\n",
    "    SELECT madlib.pagerank(\n",
    "                           'vertex',             -- 节点表\n",
    "                           'id',                 -- 节点表的主键\n",
    "                           'edge',               -- 关系表\n",
    "                           'src=src, dest=dest', -- 关系表中的源 与 目标 字段\n",
    "                           'pagerank_out',\n",
    "                           0.85,                  --damping_factor,公式的alpha\n",
    "                           100,                  --最大迭代次数\n",
    "                           NULL,                --threshold\n",
    "                           'user_id'             --分组id,相同\"组(user_id)\"的节点 进行排名计算\n",
    "                           );      -- 输出表\n",
    "    SELECT * FROM pagerank_out ORDER BY pagerank DESC;\n",
    "<img src='img/pagerank.png' />"
   ]
  },
  {
   "cell_type": "markdown",
   "metadata": {},
   "source": [
    "### 单元最短路径\n",
    "    计算从图的 指定\"节点\" 出发 到其他节点的最短路径"
   ]
  },
  {
   "cell_type": "markdown",
   "metadata": {},
   "source": [
    "### 数据结构\n",
    "      DROP TABLE IF EXISTS vertex, edge;\n",
    "        CREATE TABLE vertex(\n",
    "                id INTEGER\n",
    "                );\n",
    "        CREATE TABLE edge(\n",
    "                src INTEGER,\n",
    "                dest INTEGER,\n",
    "                weight FLOAT8 --边的权重\n",
    "                );\n",
    "        INSERT INTO vertex VALUES\n",
    "        (0),\n",
    "        (1),\n",
    "        (2),\n",
    "        (3),\n",
    "        (4),\n",
    "        (5),\n",
    "        (6),\n",
    "        (7);\n",
    "        INSERT INTO edge VALUES\n",
    "        (0, 1, 1.0),\n",
    "        (0, 2, 1.0),\n",
    "        (0, 4, 10.0),\n",
    "        (1, 2, 2.0),\n",
    "        (1, 3, 10.0),\n",
    "        (2, 3, 1.0),\n",
    "        (2, 5, 1.0),\n",
    "        (2, 6, 3.0),\n",
    "        (3, 0, 1.0),\n",
    "        (4, 0, -2.0),\n",
    "        (5, 6, 1.0),\n",
    "        (6, 7, 1.0);"
   ]
  },
  {
   "cell_type": "markdown",
   "metadata": {},
   "source": [
    "### 执行计算从 \"0\" 开始出发 的 最短路径\n",
    "    DROP TABLE IF EXISTS out, out_summary;\n",
    "    SELECT madlib.graph_sssp(\n",
    "                             'vertex',      -- 节点 表\n",
    "                             'id',          -- 节点 表 的主键\n",
    "                             'edge',        -- 节点关联  表\n",
    "                             'src=src,dest=dest,weight=weight', --指定 源 目标 权重 字段\n",
    "                             0,        --起点 \n",
    "                             'out');        --输出表\n",
    "    SELECT * FROM out ORDER BY id;"
   ]
  },
  {
   "cell_type": "markdown",
   "metadata": {},
   "source": [
    "###  查询0->5的最短路径\n",
    "    SELECT madlib.graph_sssp_get_path('out',5,'out_path');\n",
    "    select * from out_path\n",
    "<img src='img/sp.png' />"
   ]
  }
 ],
 "metadata": {
  "kernelspec": {
   "display_name": "Python 3",
   "language": "python",
   "name": "python3"
  },
  "language_info": {
   "codemirror_mode": {
    "name": "ipython",
    "version": 3
   },
   "file_extension": ".py",
   "mimetype": "text/x-python",
   "name": "python",
   "nbconvert_exporter": "python",
   "pygments_lexer": "ipython3",
   "version": "3.7.3"
  }
 },
 "nbformat": 4,
 "nbformat_minor": 2
}
