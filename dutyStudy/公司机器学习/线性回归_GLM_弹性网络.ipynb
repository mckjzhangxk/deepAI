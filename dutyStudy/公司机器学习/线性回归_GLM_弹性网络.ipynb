{
 "cells": [
  {
   "cell_type": "markdown",
   "metadata": {},
   "source": [
    "### 数据表,数据录入"
   ]
  },
  {
   "cell_type": "markdown",
   "metadata": {
    "collapsed": false
   },
   "source": [
    "    drop table if exists Advertising;\n",
    "    create table Advertising(\n",
    "        id bigserial,\n",
    "        tv float8,\n",
    "        radio float8,\n",
    "        newpaper float8,\n",
    "        sales float8\n",
    "    );"
   ]
  },
  {
   "cell_type": "code",
   "execution_count": null,
   "metadata": {
    "collapsed": false
   },
   "outputs": [],
   "source": [
    "#录入数据\n",
    "import pandas\n",
    "df=pandas.read_csv('data/Advertising.csv')\n",
    "sqls=''\n",
    "for i in range(len(df)):\n",
    "    d=df.iloc[i]\n",
    "    sql=\"insert into Advertising(tv,radio,newpaper,sales) values('%.2f','%.2f','%.2f','%.2f');\"%(d['TV'],d['Radio'],d['Newspaper'],d['Sales'])\n",
    "    sqls=sqls+sql+'\\n'\n",
    "with open('data/Advertising.sql','w') as fs:\n",
    "    fs.write(sqls)\n",
    "#执行脚本命令\n",
    "#\\i ..../Advertising.sql"
   ]
  },
  {
   "cell_type": "markdown",
   "metadata": {},
   "source": [
    "### $Y=f(X_1,X_2,X_3...X_n)$\n",
    "$X_1,X_2,X_3...X_n是因变量,Y是自编量$\n",
    "\n",
    " 输入x,输出Y"
   ]
  },
  {
   "cell_type": "markdown",
   "metadata": {},
   "source": [
    "## A.使用线性模型 训练数据\n",
    "    目的:$sales=F(tv,radio,newpaper)$\n",
    "$Y=\\beta_1X_1+\\beta_2X_2+\\beta_3X_3...+\\beta_nX_n$"
   ]
  },
  {
   "cell_type": "markdown",
   "metadata": {},
   "source": [
    "    select madlib.linregr_train(\n",
    "        'Advertising',   --源表 \n",
    "        'Advertising_param',--输出表\n",
    "        'sales', --因变量 Y\n",
    "        'array[1,tv,radio,newpaper]' --自编量变量X\n",
    "        );\n",
    "\n",
    "      select coef,r2 from advertising_param; --#查看参数,R2"
   ]
  },
  {
   "cell_type": "markdown",
   "metadata": {},
   "source": [
    "### #sale=2.93+0.04576*tv+0.18853*radio+-0.001*newpaper,R2=0.89,说明线性模型效果不是很好\n",
    "<img src='img/linear_result.png'>\n",
    "\n"
   ]
  },
  {
   "cell_type": "markdown",
   "metadata": {},
   "source": [
    "##  使用训练好的程序预测"
   ]
  },
  {
   "cell_type": "markdown",
   "metadata": {},
   "source": [
    "    select t1.tv,        --参与计算的属性tv\n",
    "           t1.radio,     --参与计算的属性radio\n",
    "           t1.newpaper , --参与计算的属性newpaper\n",
    "           madlib.linregr_predict(m.coef,array[1,tv,radio,newpaper]) as predict, --使用训练好的参数预测sale\n",
    "           sales --真正的sales,对比使用\n",
    "           from \n",
    "                Advertising t1,  --需要预测的数据,\n",
    "                Advertising_param m; --参数表\n",
    "\n",
    "<img src='img/l2.png'/>"
   ]
  },
  {
   "cell_type": "markdown",
   "metadata": {},
   "source": [
    "## B.使用广义线性模型(GLM)训练数据,做数据拟合\n",
    "[API]http://madlib.apache.org/docs/latest/group__grp__glm.html"
   ]
  },
  {
   "cell_type": "markdown",
   "metadata": {},
   "source": [
    "    select madlib.glm('Advertising',  --源表\n",
    "                      'Advertising_glm_result', --目标表\n",
    "                      'sales',  --因变量\n",
    "                      'array[1,tv,radio,newpaper]', --自编量\n",
    "                      'family=gamma,link=log' --不同于linear regress,这里Y假设服从gamma分布,使用log作为链接函数\n",
    "                     );\n",
    "$log(E[Y|X])=X^T\\beta=\\beta_1X_1+\\beta_2X_2+\\beta_3X_3...+\\beta_nX_n$"
   ]
  },
  {
   "cell_type": "markdown",
   "metadata": {},
   "source": [
    "##  使用训练好的GLM预测"
   ]
  },
  {
   "cell_type": "markdown",
   "metadata": {},
   "source": [
    "    select t1.tv,        --参与计算的属性tv\n",
    "           t1.radio,     --参与计算的属性radio\n",
    "           t1.newpaper , --参与计算的属性newpaper\n",
    "           madlib.glm_predict(m.coef,array[1,tv,radio,newpaper],'log') as predict, --使用训练好的参数预测sale\n",
    "           sales --真正的sales,对比使用\n",
    "           from \n",
    "                Advertising t1,  --需要预测的数据,\n",
    "                Advertising_glm_result m; --参数表"
   ]
  },
  {
   "cell_type": "markdown",
   "metadata": {},
   "source": [
    "<img src='img/l3.png'>"
   ]
  },
  {
   "cell_type": "markdown",
   "metadata": {},
   "source": [
    "## C.弹性回归\n",
    "https://madlib.apache.org/docs/latest/group__grp__elasticnet.html#additional_example\n",
    "\n",
    "$l(\\beta)=\\sum_{1}^{N}(X_i^T\\beta-y_i)^2+\\lambda(\\alpha*\\|\\beta\\|_1+(1-\\alpha)+\\|\\beta\\|_2^2)$"
   ]
  },
  {
   "cell_type": "markdown",
   "metadata": {},
   "source": [
    "1.上述的线性回归+正则化\n",
    "\n",
    "2.$\\alpha=1$是lasso回归,$\\alpha=0$是岭回归"
   ]
  },
  {
   "cell_type": "markdown",
   "metadata": {},
   "source": [
    "## 训练函数\n",
    "    drop table if exists Advertising_elastic,Advertising_elastic_summary ;\n",
    "    select madlib.elastic_net_train('Advertising',--输入数据表\n",
    "                       'Advertising_elastic',--输出模型表\n",
    "                       'sales',--因变量\n",
    "                       'array[tv,radio,newpaper]',--自变量\n",
    "                       'gaussian',--回归问题是gaussian,分类问题是binomial\n",
    "                       0.5,--上面的alpha\n",
    "                       0.1,--上面的lambda\n",
    "                       true--列是否标准化,缩放到[0,1]\n",
    "                     );\n",
    "      # select * from Advertising_elastic;--查看模型表\n",
    "<img src='img/elastic1.png' />"
   ]
  },
  {
   "cell_type": "markdown",
   "metadata": {},
   "source": [
    "## 预测数据"
   ]
  },
  {
   "cell_type": "markdown",
   "metadata": {},
   "source": [
    "    select madlib.elastic_net_gaussian_predict(\n",
    "                        m.coef_nonzero, --模型的系数\n",
    "                        m.intercept,--模型的截距\n",
    "                        array[tv,radio,newpaper]--自变量名称\n",
    "                       )\n",
    "        from Advertising,     --输入数据表\n",
    "        Advertising_elastic m --模型表;\n",
    "<img src='img/elastic2.png' />"
   ]
  }
 ],
 "metadata": {
  "kernelspec": {
   "display_name": "Python 3",
   "language": "python",
   "name": "python3"
  },
  "language_info": {
   "codemirror_mode": {
    "name": "ipython",
    "version": 3
   },
   "file_extension": ".py",
   "mimetype": "text/x-python",
   "name": "python",
   "nbconvert_exporter": "python",
   "pygments_lexer": "ipython3",
   "version": "3.5.2"
  }
 },
 "nbformat": 4,
 "nbformat_minor": 0
}
