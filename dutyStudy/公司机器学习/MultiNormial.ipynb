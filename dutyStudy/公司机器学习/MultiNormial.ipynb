{
 "cells": [
  {
   "cell_type": "markdown",
   "metadata": {},
   "source": [
    "### 数据(鸢尾数据的类别预测)\n",
    "    特征:\n",
    "        sepal length（花萼长度）\n",
    "        sepal width（花萼宽度）\n",
    "        petal length（花瓣长度）\n",
    "        petal width（花瓣宽度）\n",
    "    结果:\n",
    "        Iris-setosa,Iris-versicolor,Iris-virginica"
   ]
  },
  {
   "cell_type": "markdown",
   "metadata": {
    "collapsed": true
   },
   "source": [
    "    #数据表创建\n",
    "        drop table if exists Iris_train;\n",
    "        drop table if exists Iris_eval;\n",
    "        create table Iris_train(\n",
    "            id bigserial,\n",
    "            sepalH float8,\n",
    "            sepalW float8,\n",
    "            petalH float8,\n",
    "            petalW float8,\n",
    "            label integer\n",
    "        );\n",
    "        create table Iris_eval(\n",
    "            id bigserial,\n",
    "            sepalH float8,\n",
    "            sepalW float8,\n",
    "            petalH float8,\n",
    "            petalW float8,\n",
    "            label integer\n",
    "        );"
   ]
  },
  {
   "cell_type": "code",
   "execution_count": 13,
   "metadata": {
    "collapsed": false
   },
   "outputs": [],
   "source": [
    "##数据录入\n",
    "import pandas\n",
    "import numpy as np\n",
    "\n",
    "df=pandas.read_csv('data/iris.data',names=['sepalH','sepalW','petalH','petalW','label'])\n",
    "df.head()\n",
    "\n",
    "train_sqls,eval_sqls='',''\n",
    "trainindex=np.random.choice(len(df),size=180)\n",
    "\n",
    "labelfunc={'Iris-setosa':0,'Iris-versicolor':1,'Iris-virginica':2}\n",
    "for i in range(len(df)):\n",
    "    d=df.iloc[i]\n",
    "    if i in trainindex:\n",
    "        sql=\"insert into Iris_train(sepalH,sepalW,petalH,petalW,label) values('%.2f','%.2f','%.2f','%.2f','%s');\"%(d['sepalH'],d['sepalW'],d['petalH'],d['petalW'],labelfunc[d['label']])\n",
    "        train_sqls=train_sqls+sql+'\\n'\n",
    "    else:\n",
    "        sql=\"insert into Iris_eval(sepalH,sepalW,petalH,petalW,label) values('%.2f','%.2f','%.2f','%.2f','%s');\"%(d['sepalH'],d['sepalW'],d['petalH'],d['petalW'],labelfunc[d['label']])\n",
    "        \n",
    "        eval_sqls=eval_sqls+sql+'\\n'\n",
    "with open('data/iris_train.sql','w') as fs:\n",
    "    fs.write(train_sqls)\n",
    "with open('data/iris_eval.sql','w') as fs:\n",
    "    fs.write(eval_sqls)\n",
    "    "
   ]
  },
  {
   "cell_type": "markdown",
   "metadata": {},
   "source": [
    "### 使用multiNormial 在 训练数据集上面 \"训练\"\n",
    "http://madlib.apache.org/docs/latest/group__grp__multinom.html"
   ]
  },
  {
   "cell_type": "markdown",
   "metadata": {},
   "source": [
    "    select madlib.multinom(\n",
    "             'Iris_train',  --源表\n",
    "             'Iris_train_param', --生成参数表\n",
    "             'label', --label,因变量\n",
    "             'array[sepalH,sepalW]',--自变量,只选择前2个变量\n",
    "             '0',\n",
    "             'logit'\n",
    "            );\n",
    "    select * from Iris_train_param;\n",
    "<img src='img/cl1.png' />\n",
    "def train(param:Map):\n",
    "    param:\n",
    "        src:String\n",
    "        label:String\n",
    "        features:String[]\n",
    "        ref_category:String\n",
    "    return \n",
    "        "
   ]
  },
  {
   "cell_type": "code",
   "execution_count": null,
   "metadata": {
    "collapsed": true
   },
   "outputs": [],
   "source": [
    "class MultiClassifier():\n",
    "    def __init__(taskId):\n",
    "        self.taskId\n",
    "    def train(param:dict):\n",
    "        '''\n",
    "            param包含如下字段,分别对于sql函数的参数\n",
    "                    src:String\n",
    "                    label:String\n",
    "                    features:String[]\n",
    "                    ref_category:String\n",
    "                    task:String 任务表名称 \n",
    "        1.根据taskId,src源表名,本分类器名,生成tgt表名\n",
    "        2.根据参数param,调用相应的方法multino\n",
    "        3.方法执行完成后,要把\"任务记录表\"中taskId=self.taskId的state置为finish\n",
    "        4.程序报错要捕捉,并把捕捉信息记录到 \"任务记录表\" taskId=self.taskId的error info字段\n",
    "        \n",
    "        返回:dict\n",
    "            传入的param里面添加2个字段\n",
    "                state:String success,fail\n",
    "                error:String,有错显示捕捉的错误\n",
    "                model:生成的tgt模型表\n",
    "        '''\n",
    "    def predict(param:dict):\n",
    "        '''\n",
    "            param:\n",
    "                src:String 输入源表名\n",
    "                model:String,模型参数名\n",
    "                response:\n",
    "            \n",
    "            根据src,model,taskId生成输出表名,执行multinom_predict方法.\n",
    "            \n",
    "            返回:dict\n",
    "                state:\n",
    "                error:\n",
    "                out:String 输出的表\n",
    "        '''"
   ]
  },
  {
   "cell_type": "markdown",
   "metadata": {},
   "source": [
    "$\\beta1=[6.45,-11.47]$,$\\beta2=[6.94,-12.43]$\n",
    "\n",
    "$score1=\\beta1^T *x$ \n",
    "\n",
    "$score2=\\beta2^T *x$\n",
    "\n",
    "$P(x==1)=\\frac{exp(score1)}{exp(score1)+exp(score2)+1}$\n",
    "\n",
    "$P(x==2)=\\frac{exp(score2)}{exp(score1)+exp(score2)+1}$\n",
    "\n",
    "$P(x==3)=\\frac{1}{exp(score1)+exp(score2)+1}$"
   ]
  },
  {
   "cell_type": "markdown",
   "metadata": {},
   "source": [
    "### 在 \"测试数集\" 预测"
   ]
  },
  {
   "cell_type": "markdown",
   "metadata": {},
   "source": [
    "    select madlib.multinom_predict(\n",
    "                     'Iris_train_param',  --模型参数表\n",
    "                     'iris_eval',     --输入要预测数据\n",
    "                     'iris_eval_result',  --输出结果\n",
    "                     'response' --输出类型,response表示只输出结果,probability输出所有的概率\n",
    "                    );"
   ]
  },
  {
   "cell_type": "markdown",
   "metadata": {},
   "source": [
    "    select * from iris_eval_result --查看结果\n",
    "<img src='img/cl2.png'>"
   ]
  },
  {
   "cell_type": "markdown",
   "metadata": {},
   "source": [
    "    select avg(cast(r as int)) from (select (a.label=cast(b.category as int)) as r  from iris_eval a,iris_eval_result b where a.id=b.id) t; --查看准且率\n",
    "<img src='img/cl3.png'>"
   ]
  }
 ],
 "metadata": {
  "kernelspec": {
   "display_name": "Python 3",
   "language": "python",
   "name": "python3"
  },
  "language_info": {
   "codemirror_mode": {
    "name": "ipython",
    "version": 3
   },
   "file_extension": ".py",
   "mimetype": "text/x-python",
   "name": "python",
   "nbconvert_exporter": "python",
   "pygments_lexer": "ipython3",
   "version": "3.5.2"
  }
 },
 "nbformat": 4,
 "nbformat_minor": 0
}
