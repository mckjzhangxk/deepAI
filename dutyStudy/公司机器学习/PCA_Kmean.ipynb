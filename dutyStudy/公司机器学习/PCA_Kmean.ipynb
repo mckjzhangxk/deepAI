{
 "cells": [
  {
   "cell_type": "markdown",
   "metadata": {},
   "source": [
    "### PCA概述\n",
    "    作用:高维度数据 降维度,\n",
    "    1.便于显示\n",
    "    2.可以剔除数据中的 \"干扰\""
   ]
  },
  {
   "cell_type": "markdown",
   "metadata": {},
   "source": [
    "### 数据源\n",
    "    1.矩阵格式,2个字段(id,data)\n",
    "    2.自变量(data)必须是数组\n",
    "    \n",
    "    \n",
    "    DROP TABLE IF EXISTS mat;\n",
    "    CREATE TABLE mat (id integer,\n",
    "                      row_vec double precision[]\n",
    "    #3维数据                  );\n",
    "    INSERT INTO mat VALUES\n",
    "    (1, '{1,2,3}'),\n",
    "    (2, '{2,1,2}'),\n",
    "    (3, '{3,2,1}');"
   ]
  },
  {
   "cell_type": "markdown",
   "metadata": {},
   "source": [
    "## 训练 生成 \"投影轴\""
   ]
  },
  {
   "cell_type": "markdown",
   "metadata": {},
   "source": [
    "    DROP TABLE IF EXISTS result_table, result_table_mean;\n",
    "    SELECT madlib.pca_train('mat',             -- 输入的数据表(矩阵)\n",
    "                            'result_table',    -- 输出的表名\n",
    "                            'id',              -- 输入表的主键\n",
    "                             2);               -- 降到多少维度\n",
    "    SELECT * FROM result_table ORDER BY row_id;\n",
    "<img src='img/pca1.png'/>"
   ]
  },
  {
   "cell_type": "markdown",
   "metadata": {},
   "source": [
    "## 数据投影到 \"投影轴\"\n",
    "\n",
    "    DROP TABLE IF EXISTS residual_table, result_summary_table, out_table;\n",
    "    SELECT madlib.pca_project( 'mat',  --需要投影的数据表,格式如上\n",
    "                               'result_table',--投影轴的 表\n",
    "                               'out_table', --输出表\n",
    "                               'id', --输入的主键\n",
    "                               'residual_table',--近似参与信息表\n",
    "                               'result_summary_table'\n",
    "                               );\n",
    "    SELECT * FROM out_table ORDER BY row_id;\n",
    "<img src='img/pca2.png' />"
   ]
  },
  {
   "cell_type": "markdown",
   "metadata": {},
   "source": [
    "# KMean 聚类\n",
    "\n",
    "    根据特征,把数据聚合成为K个组\n",
    "    1.聚类算法使用之前 一般需要对数据做\"预处理\",PCA降为,列缩放到[0,1]区间,这里省略...."
   ]
  },
  {
   "cell_type": "markdown",
   "metadata": {},
   "source": [
    "### 1.数据格式(矩阵格式)\n",
    "    DROP TABLE IF EXISTS km_sample;\n",
    "    CREATE TABLE km_sample(pid int, points double precision[]);\n",
    "    INSERT INTO km_sample VALUES\n",
    "    (1,  '{14.23, 1.71, 2.43, 15.6, 127, 2.8, 3.0600, 0.2800, 2.29, 5.64, 1.04, 3.92, 1065}'),\n",
    "    (2,  '{13.2, 1.78, 2.14, 11.2, 1, 2.65, 2.76, 0.26, 1.28, 4.38, 1.05, 3.49, 1050}'),\n",
    "    (3,  '{13.16, 2.36,  2.67, 18.6, 101, 2.8,  3.24, 0.3, 2.81, 5.6799, 1.03, 3.17, 1185}'),\n",
    "    (4,  '{14.37, 1.95, 2.5, 16.8, 113, 3.85, 3.49, 0.24, 2.18, 7.8, 0.86, 3.45, 1480}'),\n",
    "    (5,  '{13.24, 2.59, 2.87, 21, 118, 2.8, 2.69, 0.39, 1.82, 4.32, 1.04, 2.93, 735}'),\n",
    "    (6,  '{14.2, 1.76, 2.45, 15.2, 112, 3.27, 3.39, 0.34, 1.97, 6.75, 1.05, 2.85, 1450}'),\n",
    "    (7,  '{14.39, 1.87, 2.45, 14.6, 96, 2.5, 2.52, 0.3, 1.98, 5.25, 1.02, 3.58, 1290}'),\n",
    "    (8,  '{14.06, 2.15, 2.61, 17.6, 121, 2.6, 2.51, 0.31, 1.25, 5.05, 1.06, 3.58, 1295}'),\n",
    "    (9,  '{14.83, 1.64, 2.17, 14, 97, 2.8, 2.98, 0.29, 1.98, 5.2, 1.08, 2.85, 1045}'),\n",
    "    (10, '{13.86, 1.35, 2.27, 16, 98, 2.98, 3.15, 0.22, 1.8500, 7.2199, 1.01, 3.55, 1045}');"
   ]
  },
  {
   "cell_type": "markdown",
   "metadata": {},
   "source": [
    "### 2.训练生成 组 的\"中心\"\n",
    "\n",
    "    DROP TABLE IF EXISTS km_result;\n",
    "    -- Run kmeans algorithm\n",
    "    \n",
    "    \n",
    "    CREATE TABLE km_result AS  --这里把中心 保存到了 km_result;表中\n",
    "    SELECT * FROM madlib.kmeanspp(\n",
    "        'km_sample',--输入表 \n",
    "        'points', --聚类的自变量名\n",
    "         2,--聚类数K\n",
    "        'madlib.squared_dist_norm2',--度量函数,有dist_norm1: ,dist_norm2,squared_dist_norm2,dist_angle四种\n",
    "        'madlib.avg', --中心聚合函数\n",
    "         20,--算法迭代次数,应该与数据量成比例 \n",
    "         0.001);\n",
    "     #生成了 km_result 表,查看可以看到中心,(中心可用于显示每个分类的判定依据)\n",
    "<img src='img/kmean1.png' />"
   ]
  },
  {
   "cell_type": "markdown",
   "metadata": {},
   "source": [
    "## 3.对\"新数据\" 进行分类\n",
    "\n",
    "    SELECT \n",
    "        (madlib.closest_column(centroids, points)).column_id --分类的结果,传入要分类的列,中心\n",
    "    FROM \n",
    "         km_sample, --输入表 \n",
    "         km_result; --中心表"
   ]
  }
 ],
 "metadata": {
  "kernelspec": {
   "display_name": "Python 3",
   "language": "python",
   "name": "python3"
  },
  "language_info": {
   "codemirror_mode": {
    "name": "ipython",
    "version": 3
   },
   "file_extension": ".py",
   "mimetype": "text/x-python",
   "name": "python",
   "nbconvert_exporter": "python",
   "pygments_lexer": "ipython3",
   "version": "3.5.2"
  }
 },
 "nbformat": 4,
 "nbformat_minor": 0
}
