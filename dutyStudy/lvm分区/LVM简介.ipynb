{
 "cells": [
  {
   "cell_type": "markdown",
   "metadata": {},
   "source": [
    "![ss](images/lvm1.png)\n",
    "\n",
    "    上图表示物理分区转化成分区组,分区组在划分分区卷\n",
    "    \n",
    "![ss](images/lvm2.png)"
   ]
  },
  {
   "cell_type": "markdown",
   "metadata": {},
   "source": [
    "### 1.对于一个新的磁盘,你要清空分区表\n",
    "    dd if=/dev/zero of=/dev/sdb bs=512 count=1\n",
    "![ss](images/lvs1.png)   \n",
    "\n",
    "### 2.创建物理卷\n",
    "    pvcreate /dev/sdb\n",
    "    pvs\n",
    "    pvremove /dev/sdb\n",
    "    ![ss](images/lvs2.png) \n",
    "![ss](images/lvs2.png)  "
   ]
  },
  {
   "cell_type": "markdown",
   "metadata": {},
   "source": [
    "### 3.创建并且扩展VG\n",
    "    当需要创建新的VG组时候:\n",
    "        vgcreate [groupname] /dev/sdb\n",
    "    然后扩展VG,或者直接扩展VG\n",
    "        vgextend [groupname] /dev/sdb /dev/sdc......\n",
    "    \n",
    "    vgremove [groupname]\n",
    "    \n",
    "    vgs\n",
    "![ss](images/lvs3.png)  \n",
    "\n",
    "\n",
    "### 4.创建或者扩展LV\n",
    "    当需要创建新的lv时候:\n",
    "        lvcreate -L 10G -n [lvname ][groupname]\n",
    "     当需要扩展的lv时候:   \n",
    "        lvextend-L +10G  [lv path]\n",
    "    lvremove /dev/cc/lv\n",
    "    lvs\n",
    "![ss](images/lvs4.png)  "
   ]
  },
  {
   "cell_type": "markdown",
   "metadata": {},
   "source": [
    "### 5.格式化新的逻辑卷,并且挂在\n",
    "\n",
    "![ss](images/lvs5.png)  \n",
    "\n",
    "        mkfs -t ext4 /dev/vggroupname/lvname\n",
    "    或者:\n",
    "        mkfs.ext4 /dev/vg0/lv0 \n",
    "    然后\n",
    "    mount /dev/vggroupname/lvname /mnt"
   ]
  },
  {
   "cell_type": "markdown",
   "metadata": {},
   "source": [
    "### 6.后续步骤\n",
    "    1.更新df显示:\n",
    "        resize2fs /dev/centos/root     #针对ext文件系统\n",
    "        xfs_growfs  /dev/centos/root   #针对xfs文件系统\n",
    "    2.如果新的LV,需要开机加载\n",
    "    vim /etc/fstab\n",
    "![ss](images/final.png)"
   ]
  }
 ],
 "metadata": {
  "kernelspec": {
   "display_name": "Python 3",
   "language": "python",
   "name": "python3"
  },
  "language_info": {
   "codemirror_mode": {
    "name": "ipython",
    "version": 3
   },
   "file_extension": ".py",
   "mimetype": "text/x-python",
   "name": "python",
   "nbconvert_exporter": "python",
   "pygments_lexer": "ipython3",
   "version": "3.5.2"
  }
 },
 "nbformat": 4,
 "nbformat_minor": 0
}
