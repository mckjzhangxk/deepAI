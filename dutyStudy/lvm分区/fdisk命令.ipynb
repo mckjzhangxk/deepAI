{
 "cells": [
  {
   "cell_type": "markdown",
   "metadata": {},
   "source": [
    "\n",
    "    fdisk是对磁盘进行逻辑分区的\n",
    "           比如:sda(10G)-->sda1(3G),sda2(3G),sda3(4G)\n",
    "    \n",
    "    A.第一件事情:查看本地磁盘分区\n",
    "        fdisk /dev/sda\n",
    "              选择p打印出分区表\n",
    "    B.分区:\n",
    "        F-查看没有分区空间\n",
    "        d删除分区\n",
    "        l:显示 所有 的分区类型,注意(lvm 8e,Linux 扩展 85...)\n",
    "        t:更改分区类型!t ->分区id-> 8e"
   ]
  }
 ],
 "metadata": {
  "kernelspec": {
   "display_name": "Python 3",
   "language": "python",
   "name": "python3"
  },
  "language_info": {
   "codemirror_mode": {
    "name": "ipython",
    "version": 3
   },
   "file_extension": ".py",
   "mimetype": "text/x-python",
   "name": "python",
   "nbconvert_exporter": "python",
   "pygments_lexer": "ipython3",
   "version": "3.5.2"
  }
 },
 "nbformat": 4,
 "nbformat_minor": 0
}
