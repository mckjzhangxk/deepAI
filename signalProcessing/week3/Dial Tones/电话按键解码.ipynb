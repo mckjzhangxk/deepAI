{
 "cells": [
  {
   "cell_type": "markdown",
   "metadata": {},
   "source": [
    "# Dual-tone multi-frequency (DTMF) signaling\n",
    "\n",
    "DTMF signaling is the way analog phones send the number dialed by a user over to the central phone office. This was in the day before all-digital networks and cell phones were the norm, but the method is still used for in-call option selection (\"press 4 to talk to customer service\"...).\n",
    "\n",
    "The mechanism is rather clever: the phone's keypad is arranged in a $4\\times 3$ grid and each button is associated to *two* frequencies according to this table:\n",
    "\n",
    "\n",
    "|            | **1209 Hz** | **1336 Hz** | **1477 Hz** |\n",
    "|------------|:-----------:|:-----------:|:-----------:|\n",
    "| **697 Hz** |      1      |      2      |      3      |\n",
    "| **770 Hz** |      4      |      5      |      6      |\n",
    "| **852 Hz** |      7      |      8      |      9      |\n",
    "| **941 Hz** |      *      |      0      |      #      |\n",
    "\n",
    "\n",
    "The  frequencies in the table have been chosen so that they are \"coprime\"; in other words, no frequency is a multiple of any other, which reduces the probability of erroneously detecting the received signals due to interference. When a button is pressed, the two corresponding frequencies are generated simultaneously and sent over the line. For instance, if the digit '1' is pressed, the generated signal will be:\n",
    "\n",
    "$$\n",
    "    x(t) = \\sin(2\\pi\\cdot 1209\\cdot t) + \\sin(2\\pi\\cdot697\\cdot t)\n",
    "$$\n",
    "\n",
    "\n",
    "The official specifications for the DTMF standard further stipulate that:\n",
    "\n",
    " * each tone should be at least 65ms long\n",
    " * tones corresponding to successive digits should be separated by a silent gap of at least 65ms\n",
    "\n",
    "\n",
    "In this notebook we will build a DTMF decoder based on the Discrete Fourier Transform. \n",
    "Of course here we will use discrete-time signals exclusively so, if the clock of the system is $F_s$, each DTMF tone will be of the form:\n",
    "$$\n",
    "    x[n] = \\sin(2\\pi\\,(f_l/F_s)\\, n) + \\sin(2\\pi\\,(f_h/F_s)\\,n)\n",
    "$$\n",
    "\n",
    "The first thing to do is to write a DTMF encoder."
   ]
  },
  {
   "cell_type": "code",
   "execution_count": 110,
   "metadata": {
    "collapsed": true
   },
   "outputs": [],
   "source": [
    "import numpy as np\n",
    "import matplotlib.pyplot as plt\n",
    "%matplotlib inline"
   ]
  },
  {
   "cell_type": "code",
   "execution_count": 111,
   "metadata": {
    "collapsed": false
   },
   "outputs": [],
   "source": [
    "class PhoneClient():\n",
    "    def __init__(self,Fs=24000):\n",
    "        '''\n",
    "        Fs是系统采样率，默认是24K,一秒采集24K个样本点\n",
    "        '''\n",
    "        self.key2signal={\n",
    "            '1':(697,1209),\n",
    "            '2':(697,1336),\n",
    "            '3':(697,1477),\n",
    "            '4':(770,1209),\n",
    "            '5':(770,1336),\n",
    "            '6':(770,1477),\n",
    "            '7':(852,1209),\n",
    "            '8':(852,1336),\n",
    "            '9':(852,1477),\n",
    "            '*':(941,1209),\n",
    "            '0':(941,1336),\n",
    "            '#':(941,1477),\n",
    "        }\n",
    "        self.Fs=Fs\n",
    "        self.interval=int(Fs/10) #产生信号的时间0.01s\n",
    "        self.gap=int(Fs/10) #产生gap的时间0.01s\n",
    "    def diag(self,number):\n",
    "        '''\n",
    "        number:一串数字\n",
    "        返回:数字对于的信号(1D)\n",
    "        '''\n",
    "        ret=[]\n",
    "        for d in number:\n",
    "            f1,f2=self.key2signal[d]\n",
    "            n=np.arange(self.interval)\n",
    "            signal=np.sin(2*np.pi*f1*n/self.Fs)+np.sin(2*np.pi*f2*n/self.Fs)\n",
    "            idle_signal=np.zeros(self.gap)\n",
    "            ret.append(np.concatenate((signal,idle_signal)))\n",
    "        r=np.concatenate(ret)\n",
    "        assert len(r)==len(number)*(self.interval+self.gap)\n",
    "        return r"
   ]
  },
  {
   "cell_type": "code",
   "execution_count": 112,
   "metadata": {
    "collapsed": false
   },
   "outputs": [
    {
     "data": {
      "text/plain": [
       "[<matplotlib.lines.Line2D at 0x7f2fdea64630>]"
      ]
     },
     "execution_count": 112,
     "metadata": {},
     "output_type": "execute_result"
    },
    {
     "data": {
      "image/png": "[encoded data removed]",
      "text/plain": [
       "<Figure size 600x400 with 1 Axes>"
      ]
     },
     "metadata": {},
     "output_type": "display_data"
    }
   ],
   "source": [
    "Fs=24000\n",
    "phone=PhoneClient(Fs)\n",
    "x=phone.diag('123##45')\n",
    "plt.plot(x)"
   ]
  },
  {
   "cell_type": "markdown",
   "metadata": {},
   "source": [
    "### 设计算法，用于分离 拨号信号\n",
    "    1.设在窗口变量window size,每一个窗口计算一下energy,\n",
    "    2.取大于 阈值 之间的窗口信号"
   ]
  },
  {
   "cell_type": "code",
   "execution_count": 113,
   "metadata": {
    "collapsed": false
   },
   "outputs": [],
   "source": [
    "def window_split(x,windowSize):\n",
    "    '''\n",
    "    每windowSize个样本当成一个窗口，计算所有窗口的能量返回\n",
    "    '''\n",
    "    x=x[:windowSize*(len(x)//windowSize)]\n",
    "    energy=[]\n",
    "    for i in range(0,len(x),windowSize):\n",
    "        e=(x[i:i+windowSize]**2).sum()\n",
    "        energy.append(e)\n",
    "    return np.array(energy)\n",
    "def dtmf_split(x,windowsize,thread=220):\n",
    "    '''\n",
    "    使用window分析的的方法，把 信号x 分割成 不同的片段，\n",
    "    每个片段认为代表 一个按键 对于 的信号，返回\n",
    "    \n",
    "    list of tuple, tuple(start,end)\n",
    "    '''\n",
    "    energy=window_split(x,windowsize)\n",
    "    start=0\n",
    "    \n",
    "    mask=energy>thread\n",
    "    edges=[]\n",
    "    for i in range(1,len(energy)):\n",
    "        if(mask[i-1]==0 and mask[i]==1):\n",
    "            start=i\n",
    "        if(mask[i-1]==1 and mask[i]==0):\n",
    "            end=i\n",
    "            edges.append((start*windowsize,end*windowsize))\n",
    "    \n",
    "    return edges"
   ]
  },
  {
   "cell_type": "code",
   "execution_count": 115,
   "metadata": {
    "collapsed": false
   },
   "outputs": [
    {
     "data": {
      "image/png": "[encoded data removed]",
      "text/plain": [
       "<Figure size 600x400 with 1 Axes>"
      ]
     },
     "metadata": {},
     "output_type": "display_data"
    }
   ],
   "source": [
    "energy=window_split(x,240)\n",
    "plt.plot(energy)\n",
    "_=dtmf_split(x,240,100)"
   ]
  },
  {
   "cell_type": "markdown",
   "metadata": {},
   "source": [
    "###  创建 解析器"
   ]
  },
  {
   "cell_type": "code",
   "execution_count": 142,
   "metadata": {
    "collapsed": true
   },
   "outputs": [],
   "source": [
    "class PhoneServer():\n",
    "    def __init__(self,Fs):\n",
    "        self.LOWFREQ=np.array([697,770,852,941])\n",
    "        self.HIGHFREQ=np.array([1209,1336,1477])\n",
    "        self.KEYS=[['1','2','3'],['4','5','6'],['7','8','9'],['*','0','#']]\n",
    "        self.Fs=Fs\n",
    "    def freq2Index(self,freq,N):\n",
    "        '''\n",
    "        把 freq转换成索引，换句话说就是一个线性转换\n",
    "        [0,Fs/2]--->[0,N//2]\n",
    "        index=f/Fs*N\n",
    "        返回lisf of index\n",
    "        '''\n",
    "        return np.array([np.round(N*f/self.Fs,1) for f in freq]).astype(np.int32)\n",
    "        \n",
    "    def lowIndex(self,X):\n",
    "        fs_index=self.freq2Index(self.LOWFREQ,len(X))\n",
    "        a,b=fs_index[0],fs_index[-1]\n",
    "        kmax_in_ab=a+X[a:b].argmax()\n",
    "        return np.abs(fs_index-kmax_in_ab).argmin()\n",
    "    def highIndex(self,X):\n",
    "        fs_index=self.freq2Index(self.HIGHFREQ,len(X))\n",
    "        a,b=fs_index[0],fs_index[-1]\n",
    "        kmax_in_ab=a+X[a:b].argmax()\n",
    "        return np.abs(fs_index-kmax_in_ab).argmin()\n",
    "    \n",
    "    def getKey(self,lowindex,highindex):\n",
    "        return self.KEYS[lowindex][highindex]\n",
    "    def decode(self,x,windowsize=None,thread=220):\n",
    "        if windowsize==None:\n",
    "            windowsize=self.Fs//100\n",
    "        edges=dtmf_split(x,windowsize,thread)\n",
    "        ret=[]\n",
    "        for edge in edges:\n",
    "            s=x[edge[0]:edge[1]]\n",
    "            Xs=np.abs(np.fft.fft(s))\n",
    "            key=self.getKey(self.lowIndex(Xs),self.highIndex(Xs))\n",
    "            ret.append(key)\n",
    "        return ret"
   ]
  },
  {
   "cell_type": "code",
   "execution_count": 143,
   "metadata": {
    "collapsed": false
   },
   "outputs": [
    {
     "data": {
      "text/plain": [
       "['1', '2', '3', '#', '#', '4', '5']"
      ]
     },
     "execution_count": 143,
     "metadata": {},
     "output_type": "execute_result"
    }
   ],
   "source": [
    "server=PhoneServer(Fs)\n",
    "server.decode(x)"
   ]
  }
 ],
 "metadata": {
  "kernelspec": {
   "display_name": "Python 3",
   "language": "python",
   "name": "python3"
  },
  "language_info": {
   "codemirror_mode": {
    "name": "ipython",
    "version": 3
   },
   "file_extension": ".py",
   "mimetype": "text/x-python",
   "name": "python",
   "nbconvert_exporter": "python",
   "pygments_lexer": "ipython3",
   "version": "3.5.2"
  }
 },
 "nbformat": 4,
 "nbformat_minor": 0
}
