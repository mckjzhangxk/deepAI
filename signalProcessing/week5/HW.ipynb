{
 "cells": [
  {
   "cell_type": "code",
   "execution_count": 18,
   "metadata": {
    "collapsed": true
   },
   "outputs": [],
   "source": [
    "import numpy as np\n",
    "import matplotlib.pyplot as plt\n",
    "%matplotlib inline"
   ]
  },
  {
   "cell_type": "markdown",
   "metadata": {},
   "source": [
    "## 4.2"
   ]
  },
  {
   "cell_type": "code",
   "execution_count": 146,
   "metadata": {
    "collapsed": false
   },
   "outputs": [],
   "source": [
    "def showSignal(x):\n",
    "    plt.figure()\n",
    "    u,v=x()\n",
    "    plt.stem(u,v)\n",
    "    plt.xticks(u)\n",
    "    plt.yticks(v)\n",
    "    plt.axis('equal')\n",
    "class Signal():\n",
    "    def __init__(self,begin,end,val=None):\n",
    "        self.begin=begin\n",
    "        self.end=end\n",
    "        self.val=val\n",
    "    def __call__(self):\n",
    "        x=np.arange(self.begin,self.end)\n",
    "        y=np.array([self.__getitem__(k) for k in x])\n",
    "        return x,y\n",
    "    def __getitem__(self,k):\n",
    "        if k>=self.begin and k<self.end:\n",
    "            if self.val is None:\n",
    "                return 1\n",
    "            else:\n",
    "                return self.val[k-self.begin]\n",
    "        else:return 0\n",
    "    def __len__(self):\n",
    "        return self.end-self.begin\n",
    "    def flip(self):\n",
    "        return Signal(-self.end+1,-self.end+1+self.__len__())\n",
    "    def dot(self,other):\n",
    "        assert isinstance(other,Signal)\n",
    "        s=[self.__getitem__(i)*other[i] for i in range(self.begin,self.end)]\n",
    "        return sum(s)\n",
    "    def shift(self,offset=1):\n",
    "        return Signal(self.begin+offset,self.end+offset)\n",
    "    def __str__(self):\n",
    "        return \"%d,%d\"%(self.begin,self.end-1)\n",
    "    def __add__(self,other):\n",
    "        s=min(self.begin,other.begin)\n",
    "        t=max(self.end,other.end)\n",
    "        val=[self.__getitem__(k)+other[k] for k in range(s,t)]\n",
    "        return Signal(s,t,val)\n",
    "        \n",
    "    def conv(self,other):\n",
    "        assert isinstance(other,Signal)\n",
    "        other=other.flip()\n",
    "    \n",
    "        kstart=self.begin-other.end\n",
    "        kend=kstart+self.__len__()+len(other)+1\n",
    "        \n",
    "        val=[]\n",
    "        for k in range(kstart,kend):\n",
    "            o=other.shift(k)\n",
    "            v=self.dot(o)\n",
    "            val.append(v)\n",
    "        return Signal(kstart,kend,val)"
   ]
  },
  {
   "cell_type": "code",
   "execution_count": 147,
   "metadata": {
    "collapsed": false
   },
   "outputs": [
    {
     "data": {
      "image/png": "[encoded data removed]",
      "text/plain": [
       "<Figure size 600x400 with 1 Axes>"
      ]
     },
     "metadata": {},
     "output_type": "display_data"
    },
    {
     "data": {
      "image/png": "[encoded data removed]",
      "text/plain": [
       "<Figure size 600x400 with 1 Axes>"
      ]
     },
     "metadata": {},
     "output_type": "display_data"
    }
   ],
   "source": [
    "M=3\n",
    "xval=[M-np.abs(k) for k in range(-M,M+1)]\n",
    "x=Signal(-M,M+1,xval)\n",
    "x1=Signal(0,M)\n",
    "x2=Signal(-M+1,1)\n",
    "xnew=x1.conv(x2)\n",
    "# showSignal(x)\n",
    "# showSignal(x1)\n",
    "# showSignal(x2)\n",
    "showSignal(xnew)\n",
    "showSignal(x)"
   ]
  },
  {
   "cell_type": "code",
   "execution_count": 148,
   "metadata": {
    "collapsed": false
   },
   "outputs": [
    {
     "data": {
      "text/plain": [
       "[<matplotlib.lines.Line2D at 0x7f2cff55a0b8>]"
      ]
     },
     "execution_count": 148,
     "metadata": {},
     "output_type": "execute_result"
    },
    {
     "data": {
      "image/png": "[encoded data removed]",
      "text/plain": [
       "<Figure size 600x400 with 1 Axes>"
      ]
     },
     "metadata": {},
     "output_type": "display_data"
    }
   ],
   "source": [
    "w=np.linspace(-np.pi,np.pi,1000)\n",
    "mag=np.sin(w*M/2)/np.sin(w/2)\n",
    "plt.plot(w,mag)"
   ]
  },
  {
   "cell_type": "markdown",
   "metadata": {},
   "source": [
    "## 4.3"
   ]
  },
  {
   "cell_type": "code",
   "execution_count": 156,
   "metadata": {
    "collapsed": false
   },
   "outputs": [
    {
     "data": {
      "image/png": "[encoded data removed]",
      "text/plain": [
       "<Figure size 600x400 with 1 Axes>"
      ]
     },
     "metadata": {},
     "output_type": "display_data"
    }
   ],
   "source": [
    "hn=Signal(0,6,[1,1,1,1,-2,-2])\n",
    "r=Signal(0,1)\n",
    "K=10\n",
    "for i in range(-K,K+1):\n",
    "    hs=hn.shift(i)\n",
    "    r=r+hs\n",
    "showSignal(r)"
   ]
  },
  {
   "cell_type": "code",
   "execution_count": null,
   "metadata": {
    "collapsed": true
   },
   "outputs": [],
   "source": []
  }
 ],
 "metadata": {
  "kernelspec": {
   "display_name": "Python 3",
   "language": "python",
   "name": "python3"
  },
  "language_info": {
   "codemirror_mode": {
    "name": "ipython",
    "version": 3
   },
   "file_extension": ".py",
   "mimetype": "text/x-python",
   "name": "python",
   "nbconvert_exporter": "python",
   "pygments_lexer": "ipython3",
   "version": "3.5.2"
  }
 },
 "nbformat": 4,
 "nbformat_minor": 0
}
