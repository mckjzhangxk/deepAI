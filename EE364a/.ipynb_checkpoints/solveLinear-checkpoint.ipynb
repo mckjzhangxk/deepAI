{
 "cells": [
  {
   "cell_type": "markdown",
   "metadata": {},
   "source": [
    "解决$(A+BC)x=b$的问题\n",
    "\n",
    "$$x=A^{-1}b-A^{-1}B(I+CA^{-1}B)^{-1}CA^{-1}b$$\n",
    "\n",
    "1.$z=A^{-1}b,Z=A^{-1}B.$\n",
    "$$x=z-Z(I+CZ)^{-1}Cz$$\n",
    "2.$d=Cz,D=CZ.$\n",
    "$$x=z-Z(I+D)^{-1}d$$\n",
    "3.$y=(I+D)^{-1}d$\n",
    "$$x=z-Zy$$"
   ]
  },
  {
   "cell_type": "code",
   "execution_count": 196,
   "metadata": {},
   "outputs": [],
   "source": [
    "import numpy as np\n",
    "import scipy.sparse as sparse"
   ]
  },
  {
   "cell_type": "code",
   "execution_count": 252,
   "metadata": {},
   "outputs": [],
   "source": [
    "def solver(A,B,C,b,format='csc'):\n",
    "    from scipy.sparse.linalg import spsolve\n",
    "    from scipy.sparse import eye,hstack,csc_matrix\n",
    "    \n",
    "    n=A.shape[0]\n",
    "    k=B.shape[1]\n",
    "    \n",
    "    assert A.shape==(n,n)\n",
    "    assert B.shape==(n,k)\n",
    "    assert C.shape==(k,n)\n",
    "    assert b.shape[0]==n\n",
    "    \n",
    "    A=A if type(A) is csc_matrix else csc_matrix(A)\n",
    "    B=B if type(B) is csc_matrix else csc_matrix(B)\n",
    "    C=C if type(C) is csc_matrix else csc_matrix(C)\n",
    "    \n",
    "    if(type(b)==np.ndarray):\n",
    "        b=csc_matrix(b) if b.ndim!=1 else csc_matrix(b[:,np.newaxis])\n",
    "    ntarget=b.shape[1]\n",
    "\n",
    "    Z=spsolve(A,hstack([b,B],format=format))\n",
    "    \n",
    "    H=C.dot(Z)\n",
    "    y=spsolve(H[:,ntarget:]+eye(k,format=format),H[:,0:ntarget])\n",
    "    if(ntarget==1):\n",
    "        y=y[:,np.newaxis]\n",
    "        y=csc_matrix(y)\n",
    "    x=Z[:,:ntarget]-Z[:,ntarget:].dot(y)\n",
    "    return x"
   ]
  },
  {
   "cell_type": "code",
   "execution_count": 254,
   "metadata": {},
   "outputs": [],
   "source": [
    "def native_solver(A,B,C,b):\n",
    "    return np.linalg.solve(A+B.dot(C),b)"
   ]
  },
  {
   "cell_type": "code",
   "execution_count": 297,
   "metadata": {},
   "outputs": [],
   "source": [
    "n,k=10000000,40\n",
    "delta,eta=1,1\n",
    "e=np.ones((n))\n",
    "A=np.random.rand(k,n)\n",
    "b=np.random.randn(k,3)\n",
    "\n",
    "D=sparse.spdiags([-e,2*e,e],[-1,0,1],n,n,format='csc')\n",
    "D[0,0]=1\n",
    "D[-1,-1]=1\n",
    "\n",
    "I=sparse.eye(n)"
   ]
  },
  {
   "cell_type": "code",
   "execution_count": 277,
   "metadata": {},
   "outputs": [],
   "source": [
    "x=solver(delta*D+eta*I,A.T,A,A.T.dot(b))\n",
    "xt=native_solver(delta*D+eta*I,A.T,A,A.T.dot(b))\n",
    "np.testing.assert_allclose(np.array(delta*D+eta*I+A.T.dot(A)).dot(x.toarray()),A.T.dot(b))\n",
    "np.testing.assert_allclose(x.toarray(),xt)"
   ]
  },
  {
   "cell_type": "markdown",
   "metadata": {},
   "source": [
    "## 效率对比"
   ]
  },
  {
   "cell_type": "code",
   "execution_count": 298,
   "metadata": {},
   "outputs": [
    {
     "name": "stdout",
     "output_type": "stream",
     "text": [
      "CPU times: user 3min 21s, sys: 50.2 s, total: 4min 11s\n",
      "Wall time: 3min 59s\n"
     ]
    }
   ],
   "source": [
    "_=%time solver(delta*D+eta*I,A.T,A,A.T.dot(b))"
   ]
  },
  {
   "cell_type": "code",
   "execution_count": 292,
   "metadata": {},
   "outputs": [
    {
     "ename": "MemoryError",
     "evalue": "",
     "output_type": "error",
     "traceback": [
      "\u001b[0;31m---------------------------------------------------------------------------\u001b[0m",
      "\u001b[0;31mMemoryError\u001b[0m                               Traceback (most recent call last)",
      "\u001b[0;32m<timed eval>\u001b[0m in \u001b[0;36m<module>\u001b[0;34m()\u001b[0m\n",
      "\u001b[0;32m<ipython-input-254-fc51fbccfb4d>\u001b[0m in \u001b[0;36mnative_solver\u001b[0;34m(A, B, C, b)\u001b[0m\n\u001b[1;32m      1\u001b[0m \u001b[0;32mdef\u001b[0m \u001b[0mnative_solver\u001b[0m\u001b[0;34m(\u001b[0m\u001b[0mA\u001b[0m\u001b[0;34m,\u001b[0m\u001b[0mB\u001b[0m\u001b[0;34m,\u001b[0m\u001b[0mC\u001b[0m\u001b[0;34m,\u001b[0m\u001b[0mb\u001b[0m\u001b[0;34m)\u001b[0m\u001b[0;34m:\u001b[0m\u001b[0;34m\u001b[0m\u001b[0m\n\u001b[0;32m----> 2\u001b[0;31m     \u001b[0;32mreturn\u001b[0m \u001b[0mnp\u001b[0m\u001b[0;34m.\u001b[0m\u001b[0mlinalg\u001b[0m\u001b[0;34m.\u001b[0m\u001b[0msolve\u001b[0m\u001b[0;34m(\u001b[0m\u001b[0mA\u001b[0m\u001b[0;34m+\u001b[0m\u001b[0mB\u001b[0m\u001b[0;34m.\u001b[0m\u001b[0mdot\u001b[0m\u001b[0;34m(\u001b[0m\u001b[0mC\u001b[0m\u001b[0;34m)\u001b[0m\u001b[0;34m,\u001b[0m\u001b[0mb\u001b[0m\u001b[0;34m)\u001b[0m\u001b[0;34m\u001b[0m\u001b[0m\n\u001b[0m",
      "\u001b[0;31mMemoryError\u001b[0m: "
     ]
    }
   ],
   "source": [
    "_=%time native_solver(delta*D+eta*I,A.T,A,A.T.dot(b))"
   ]
  },
  {
   "cell_type": "code",
   "execution_count": null,
   "metadata": {},
   "outputs": [],
   "source": []
  }
 ],
 "metadata": {
  "kernelspec": {
   "display_name": "Python 3",
   "language": "python",
   "name": "python3"
  },
  "language_info": {
   "codemirror_mode": {
    "name": "ipython",
    "version": 3
   },
   "file_extension": ".py",
   "mimetype": "text/x-python",
   "name": "python",
   "nbconvert_exporter": "python",
   "pygments_lexer": "ipython3",
   "version": "3.5.2"
  }
 },
 "nbformat": 4,
 "nbformat_minor": 2
}
