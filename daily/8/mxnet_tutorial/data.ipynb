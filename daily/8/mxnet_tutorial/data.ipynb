{
 "cells": [
  {
   "cell_type": "markdown",
   "metadata": {},
   "source": [
    "<!--- Licensed to the Apache Software Foundation (ASF) under one -->\n",
    "<!--- or more contributor license agreements.  See the NOTICE file -->\n",
    "<!--- distributed with this work for additional information -->\n",
    "<!--- regarding copyright ownership.  The ASF licenses this file -->\n",
    "<!--- to you under the Apache License, Version 2.0 (the -->\n",
    "<!--- \"License\"); you may not use this file except in compliance -->\n",
    "<!--- with the License.  You may obtain a copy of the License at -->\n",
    "\n",
    "<!---   http://www.apache.org/licenses/LICENSE-2.0 -->\n",
    "\n",
    "<!--- Unless required by applicable law or agreed to in writing, -->\n",
    "<!--- software distributed under the License is distributed on an -->\n",
    "<!--- \"AS IS\" BASIS, WITHOUT WARRANTIES OR CONDITIONS OF ANY -->\n",
    "<!--- KIND, either express or implied.  See the License for the -->\n",
    "<!--- specific language governing permissions and limitations -->\n",
    "<!--- under the License. -->\n",
    "\n",
    "# Iterators - Loading data\n",
    "In this tutorial, we focus on how to feed data into a training or inference program.\n",
    "Most training and inference modules in MXNet accept data iterators,\n",
    "which simplifies this procedure, especially when reading large datasets.\n",
    "Here we discuss the API conventions and several provided iterators.\n",
    "\n",
    "## Prerequisites\n",
    "\n",
    "To complete this tutorial, we need:  \n",
    "\n",
    "- MXNet. See the instructions for your operating system in [Setup and Installation](http://mxnet.io/install/index.html).  \n",
    "\n",
    "- [OpenCV Python library](http://opencv.org/opencv-3-2.html),  [Python Requests](http://docs.python-requests.org/en/master/), [Matplotlib](https://matplotlib.org/) and [Jupyter Notebook](http://jupyter.org/index.html).\n",
    "\n",
    "```\n",
    "$ pip install opencv-python requests matplotlib jupyter\n",
    "```\n",
    "\n",
    "## MXNet Data Iterator\n",
    "\n",
    "Data Iterators in *MXNet* are similar to Python iterator objects.\n",
    "In Python, the function `iter` allows fetching items sequentially by calling  `next()` on\n",
    " iterable objects such as a Python `list`.\n",
    "Iterators provide an abstract interface for traversing various types of iterable collections\n",
    " without needing to expose details about the underlying data source.\n",
    "\n",
    "In MXNet, data iterators return a batch of data as `DataBatch` on each call to `next`.\n",
    "A `DataBatch` often contains *n* training examples and their corresponding labels. Here *n* is the `batch_size` of the iterator. At the end of the data stream when there is no more data to read, the iterator raises ``StopIteration`` exception like Python `iter`. \n",
    "The structure of `DataBatch` is defined [here](http://mxnet.io/api/python/io/io.html#mxnet.io.DataBatch).\n",
    "\n",
    "Information such as name, shape, type and layout on each training example and their corresponding label can be provided as `DataDesc` data descriptor objects via the `provide_data` and `provide_label` properties in `DataBatch`.\n",
    "The structure of `DataDesc` is defined [here](http://mxnet.io/api/python/io/io.html#mxnet.io.DataDesc).\n",
    "\n",
    "All IO in MXNet is handled via `mx.io.DataIter` and its subclasses. In this tutorial, we'll discuss a few commonly used iterators provided by MXNet.\n",
    "\n",
    "Before diving into the details let's setup the environment by importing some required packages:"
   ]
  },
  {
   "cell_type": "code",
   "execution_count": 1,
   "metadata": {
    "collapsed": true
   },
   "outputs": [],
   "source": [
    "import mxnet as mx\n",
    "%matplotlib inline\n",
    "import os\n",
    "import sys\n",
    "import subprocess\n",
    "import numpy as np\n",
    "import matplotlib.pyplot as plt\n",
    "import tarfile\n",
    "\n",
    "import warnings\n",
    "warnings.filterwarnings(\"ignore\", category=DeprecationWarning)"
   ]
  },
  {
   "cell_type": "markdown",
   "metadata": {},
   "source": [
    "## Reading data in memory\n",
    "When data is stored in memory, backed by either an `NDArray` or ``numpy`` `ndarray`,\n",
    "we can use the [__`NDArrayIter`__](http://mxnet.io/api/python/io/io.html#mxnet.io.NDArrayIter) to read data as below:"
   ]
  },
  {
   "cell_type": "code",
   "execution_count": 33,
   "metadata": {
    "collapsed": false
   },
   "outputs": [
    {
     "name": "stdout",
     "output_type": "stream",
     "text": [
      "(5, 3)\n"
     ]
    }
   ],
   "source": [
    "import numpy as np\n",
    "\n",
    "# fix the seed\n",
    "np.random.seed(42)\n",
    "mx.random.seed(42)\n",
    "#这是全部的数据源\n",
    "data = np.random.rand(100,3)\n",
    "#标注\n",
    "label = np.random.randint(0, 10, (100,))\n",
    "# data_iter = mx.io.NDArrayIter(data=data, label=label, batch_size=30)\n",
    "# 告诉迭代器 你的 data 和 label batch size\n",
    "data_iter=mx.io.NDArrayIter(data=data,label=label,batch_size=5)\n",
    "for batch in data_iter:\n",
    "#     print([batch.data, batch.label, batch.pad])\n",
    "    print(batch.data[0].shape)\n",
    "    break"
   ]
  },
  {
   "cell_type": "code",
   "execution_count": 32,
   "metadata": {
    "collapsed": false
   },
   "outputs": [
    {
     "name": "stdout",
     "output_type": "stream",
     "text": [
      "(20, 3)\n",
      "(20, 3)\n",
      "(20, 3)\n",
      "(20, 3)\n",
      "(20, 3)\n"
     ]
    }
   ],
   "source": [
    "'''\n",
    "练习：\n",
    "数据可以以 数组，dict,或者直接numpy 提供给NDArrayIter\n",
    "'''\n",
    "d1=np.random.gamma(1,size=(100,3))\n",
    "d2=np.random.gamma(1,size=(100,2))\n",
    "bs=20\n",
    "# loader=mx.io.NDArrayIter(data=[d1,d2],batch_size=bs)\n",
    "loader=mx.io.NDArrayIter(data={'d1':d1,'d2':d2},batch_size=bs)\n",
    "for x in loader:\n",
    "    print(x.data[0].shape)\n",
    "# loader.provide_data"
   ]
  },
  {
   "cell_type": "code",
   "execution_count": 25,
   "metadata": {
    "collapsed": false
   },
   "outputs": [
    {
     "name": "stdout",
     "output_type": "stream",
     "text": [
      "data label pad\n",
      "(32, 28, 28, 3) (32,) 0\n",
      "(32, 28, 28, 3) (32,) 0\n",
      "(32, 28, 28, 3) (32,) 0\n",
      "(32, 28, 28, 3) (32,) 28\n"
     ]
    }
   ],
   "source": [
    "images=np.random.randn(100,28,28,3)\n",
    "label=np.random.randint(0,10,(100,))\n",
    "data_iter=mx.io.NDArrayIter(data=images,label=label,batch_size=32)\n",
    "print('data','label','pad')\n",
    "for batch in data_iter:\n",
    "    print(batch.data[0].shape,batch.label[0].shape,batch.pad)"
   ]
  },
  {
   "cell_type": "markdown",
   "metadata": {},
   "source": [
    "## Reading data from CSV files\n",
    "MXNet provides [`CSVIter`](http://mxnet.io/api/python/io/io.html#mxnet.io.CSVIter)\n",
    "to read from CSV files and can be used as below:"
   ]
  },
  {
   "cell_type": "code",
   "execution_count": 34,
   "metadata": {
    "collapsed": false
   },
   "outputs": [
    {
     "name": "stdout",
     "output_type": "stream",
     "text": [
      "(30, 3) 0\n",
      "(30, 3) 0\n",
      "(30, 3) 0\n",
      "(30, 3) 20\n"
     ]
    }
   ],
   "source": [
    "#lets save `data` into a csv file first and try reading it back\n",
    "np.savetxt('data.csv', data, delimiter=',')\n",
    "data_iter = mx.io.CSVIter(data_csv='data.csv', data_shape=(3,), batch_size=30)\n",
    "for batch in data_iter:\n",
    "    print(batch.data[0].shape, batch.pad)"
   ]
  },
  {
   "cell_type": "markdown",
   "metadata": {},
   "source": [
    "## Custom Iterator\n",
    "When the built-in iterators do not suit your application needs,\n",
    "you can create your own custom data iterator.\n",
    "\n",
    "An iterator in _MXNet_ should\n",
    "1. Implement `next()` in ``Python2`` or `__next()__` in ``Python3``,\n",
    "   returning a `DataBatch` or raising a `StopIteration` exception if at the end of the data stream.\n",
    "2. Implement the `reset()` method to restart reading from the beginning.\n",
    "3. Have a `provide_data` attribute, consisting of a list of `DataDesc` objects that store the name, shape, type and layout information of the data (more info [here](http://mxnet.io/api/python/io/io.html#mxnet.io.DataBatch)).\n",
    "4. Have a `provide_label` attribute consisting of a list of `DataDesc` objects that store the name, shape, type and layout information of the label.\n",
    "\n",
    "When creating a new iterator, you can either start from scratch and define an iterator or reuse one of the existing iterators.\n",
    "For example, in the image captioning application, the input example is an image while the label is a sentence.\n",
    "Thus we can create a new iterator by:\n",
    "- creating a `image_iter` by using `ImageRecordIter` which provides multithreaded pre-fetch and augmentation.\n",
    "- creating a `caption_iter` by using `NDArrayIter` or the bucketing iterator provided in the *rnn* package.\n",
    "- `next()` returns the combined result of `image_iter.next()` and `caption_iter.next()`\n",
    "\n",
    "The example below shows how to create a Simple iterator."
   ]
  },
  {
   "cell_type": "code",
   "execution_count": 35,
   "metadata": {
    "collapsed": false
   },
   "outputs": [
    {
     "data": {
      "text/plain": [
       "[('image', (32, 32, 3)), ('bbox', 4)]"
      ]
     },
     "execution_count": 35,
     "metadata": {},
     "output_type": "execute_result"
    }
   ],
   "source": [
    "names=['image','bbox']\n",
    "shapes=[(32,32,3),(4)]\n",
    "c=zip(names,shapes)\n",
    "list(c)"
   ]
  },
  {
   "cell_type": "code",
   "execution_count": 36,
   "metadata": {
    "collapsed": true
   },
   "outputs": [],
   "source": [
    "class SimpleIter(mx.io.DataIter):\n",
    "    def __init__(self, data_names, data_shapes, data_gen,\n",
    "                 label_names, label_shapes, label_gen, num_batches=10):\n",
    "        self._provide_data = list(zip(data_names, data_shapes))\n",
    "        self._provide_label = list(zip(label_names, label_shapes))\n",
    "        self.num_batches = num_batches\n",
    "        self.data_gen = data_gen\n",
    "        self.label_gen = label_gen\n",
    "        self.cur_batch = 0\n",
    "\n",
    "    def __iter__(self):\n",
    "        return self\n",
    "\n",
    "    def reset(self):\n",
    "        self.cur_batch = 0\n",
    "\n",
    "    def __next__(self):\n",
    "        return self.next()\n",
    "\n",
    "    @property\n",
    "    def provide_data(self):\n",
    "        return self._provide_data\n",
    "\n",
    "    @property\n",
    "    def provide_label(self):\n",
    "        return self._provide_label\n",
    "\n",
    "    def next(self):\n",
    "        if self.cur_batch < self.num_batches:\n",
    "            self.cur_batch += 1\n",
    "            data = [mx.nd.array(g(d[1])) for d,g in zip(self._provide_data, self.data_gen)]\n",
    "            label = [mx.nd.array(g(d[1])) for d,g in zip(self._provide_label, self.label_gen)]\n",
    "            return mx.io.DataBatch(data, label)\n",
    "        else:\n",
    "            raise StopIteration"
   ]
  },
  {
   "cell_type": "markdown",
   "metadata": {},
   "source": [
    "We can use the above defined `SimpleIter` to train a simple MLP program below:"
   ]
  },
  {
   "cell_type": "code",
   "execution_count": 37,
   "metadata": {
    "collapsed": false
   },
   "outputs": [
    {
     "name": "stdout",
     "output_type": "stream",
     "text": [
      "['data', 'fc1_weight', 'fc1_bias', 'fc2_weight', 'fc2_bias', 'softmax_label']\n",
      "['softmax_output']\n"
     ]
    }
   ],
   "source": [
    "import mxnet as mx\n",
    "num_classes = 10\n",
    "net = mx.sym.Variable('data')\n",
    "net = mx.sym.FullyConnected(data=net, name='fc1', num_hidden=64)\n",
    "net = mx.sym.Activation(data=net, name='relu1', act_type=\"relu\")\n",
    "net = mx.sym.FullyConnected(data=net, name='fc2', num_hidden=num_classes)\n",
    "net = mx.sym.SoftmaxOutput(data=net, name='softmax')\n",
    "print(net.list_arguments())\n",
    "print(net.list_outputs())"
   ]
  },
  {
   "cell_type": "markdown",
   "metadata": {},
   "source": [
    "Here, there are four variables that are learnable parameters:\n",
    "the *weights* and *biases* of FullyConnected layers *fc1* and *fc2*,\n",
    "two variables for input data: *data* for the training examples\n",
    "and *softmax_label* contains the respective labels and the *softmax_output*.\n",
    "\n",
    "The *data* variables are called free variables in MXNet's Symbol API.\n",
    "To execute a Symbol, they need to be bound with data.\n",
    "[Click here learn more about Symbol](http://mxnet.io/tutorials/basic/symbol.html).\n",
    "\n",
    "We use the data iterator to feed examples to a neural network via MXNet's `module` API.\n",
    "[Click here to learn more about Module](http://mxnet.io/tutorials/basic/module.html)."
   ]
  },
  {
   "cell_type": "code",
   "execution_count": 39,
   "metadata": {
    "collapsed": true
   },
   "outputs": [],
   "source": [
    "import logging\n",
    "logging.basicConfig(level=logging.INFO)\n",
    "\n",
    "n = 32\n",
    "data_iter = SimpleIter(['data'], [(n, 100)],\n",
    "                  [lambda s: np.random.uniform(-1, 1, s)],\n",
    "                  ['softmax_label'], [(n,)],\n",
    "                  [lambda s: np.random.randint(0, num_classes, s)])\n",
    "\n",
    "mod = mx.mod.Module(symbol=net)\n",
    "mod.fit(data_iter, num_epoch=5)"
   ]
  },
  {
   "cell_type": "markdown",
   "metadata": {},
   "source": [
    "### 练习，自己设计一个自定义 的数据集"
   ]
  },
  {
   "cell_type": "code",
   "execution_count": 94,
   "metadata": {
    "collapsed": false
   },
   "outputs": [],
   "source": [
    "# 比如 我做人脸识别，某个目录下面文件夹 是人脸id,文件夹下面是具体的图片，\n",
    "# 要求图片 是 120,120, \n",
    "# 返回 data=图片(3,h,w)\n",
    "# label=landmark(10),bbox(4),classlabel=()\n",
    "import os\n",
    "from pathlib import Path\n",
    "class MyFaceIter(mx.io.DataIter):\n",
    "    def __init__(self,batch_size,path=None,imgsize=112):\n",
    "        self.imgpath=[]\n",
    "        self.imglabel=[]\n",
    "        self.batch_size=batch_size\n",
    "        self.imgsize=imgsize\n",
    "        path='/home/zhangxk/AIProject/数据集与模型/arcface_dataset/faces_umd/db'\n",
    "        for id in os.listdir(path):\n",
    "            labelpath=os.path.join(path,id)\n",
    "            for imgfile in os.listdir(labelpath):\n",
    "                _f=os.path.join(labelpath,imgfile)\n",
    "                self.imgpath.append(_f)\n",
    "                self.imglabel.append(id)\n",
    "        self._datainfo=[('image',(batch_size,3,imgsize,imgsize),'float')]\n",
    "        self._labelinfo=[('label',(batch_size,),'float'),\n",
    "                         ('bbox',(batch_size,4),'float'),\n",
    "                         ('landmark',(batch_size,10),'float'),\n",
    "                        ]\n",
    "        self.cur=0\n",
    "    def __next__(self):\n",
    "        if self.cur>=len(self.imglabel):\n",
    "            raise StopIteration\n",
    "        rg=range(self.cur,min(self.cur+self.batch_size,len(self.imglabel)))\n",
    "        \n",
    "        data={}\n",
    "        imgs=[]\n",
    "        bbox=[]\n",
    "        landmark=[]\n",
    "        \n",
    "        label=[]\n",
    "        for ii in rg:\n",
    "            img=np.random.randn(3,self.imgsize,self.imgsize)\n",
    "            box=np.random.randn(4)\n",
    "            land=np.random.randn(10)\n",
    "            \n",
    "            imgs.append(img)\n",
    "            label.append(str(self.imglabel[ii]))\n",
    "            bbox.append(box)\n",
    "            landmark.append(land)\n",
    "            \n",
    "        imgs=mx.nd.array(imgs)\n",
    "        bbox=mx.nd.array(bbox)\n",
    "        landmark=mx.nd.array(landmark)\n",
    "        label=mx.nd.array(label)\n",
    "        \n",
    "        \n",
    "        labels=[label,bbox,landmark]\n",
    "        self.cur+=self.batch_size\n",
    "        return mx.io.DataBatch(data=[imgs],label=labels)\n",
    "        \n",
    "    @property\n",
    "    def provide_data(self):\n",
    "        return self._datainfo\n",
    "    @property\n",
    "    def provide_label(self):\n",
    "        return self._labelinfo"
   ]
  },
  {
   "cell_type": "code",
   "execution_count": 95,
   "metadata": {
    "collapsed": false
   },
   "outputs": [
    {
     "ename": "IndexError",
     "evalue": "list index out of range",
     "output_type": "error",
     "traceback": [
      "\u001b[1;31m---------------------------------------------------------------------------\u001b[0m",
      "\u001b[1;31mIndexError\u001b[0m                                Traceback (most recent call last)",
      "\u001b[1;32m<ipython-input-95-d81c60df95b7>\u001b[0m in \u001b[0;36m<module>\u001b[1;34m()\u001b[0m\n\u001b[0;32m      3\u001b[0m \u001b[1;31m# db.provide_label\u001b[0m\u001b[1;33m\u001b[0m\u001b[1;33m\u001b[0m\u001b[0m\n\u001b[0;32m      4\u001b[0m \u001b[1;32mfor\u001b[0m \u001b[0mx\u001b[0m \u001b[1;32min\u001b[0m \u001b[0mdb\u001b[0m\u001b[1;33m:\u001b[0m\u001b[1;33m\u001b[0m\u001b[0m\n\u001b[1;32m----> 5\u001b[1;33m     \u001b[0mprint\u001b[0m\u001b[1;33m(\u001b[0m\u001b[0mx\u001b[0m\u001b[1;33m.\u001b[0m\u001b[0mlabel\u001b[0m\u001b[1;33m[\u001b[0m\u001b[1;36m2\u001b[0m\u001b[1;33m]\u001b[0m\u001b[1;33m.\u001b[0m\u001b[0mshape\u001b[0m\u001b[1;33m)\u001b[0m\u001b[1;33m\u001b[0m\u001b[0m\n\u001b[0m\u001b[0;32m      6\u001b[0m     \u001b[1;32mbreak\u001b[0m\u001b[1;33m\u001b[0m\u001b[0m\n",
      "\u001b[1;31mIndexError\u001b[0m: list index out of range"
     ]
    }
   ],
   "source": [
    "p='/home/zhangxk/AIProject/数据集与模型/arcface_dataset/faces_umd/db'\n",
    "db=MyFaceIter(5,p,112)\n",
    "# db.provide_label\n",
    "for x in db:\n",
    "    print(x.label[2].shape)\n",
    "    break"
   ]
  },
  {
   "cell_type": "markdown",
   "metadata": {},
   "source": [
    "A note on python 3 usage: Lot of the methods in mxnet use string for python2 and bytes for python3. \n",
    "In order to keep this tutorial readable, we are going to define a utility function that converts\n",
    "string to bytes in python 3 environment"
   ]
  },
  {
   "cell_type": "code",
   "execution_count": 35,
   "metadata": {
    "collapsed": true
   },
   "outputs": [],
   "source": [
    "def str_or_bytes(str):\n",
    "    \"\"\"\n",
    "    A utility function for this tutorial that helps us convert string \n",
    "    to bytes if we are using python3.\n",
    "\n",
    "    Parameters\n",
    "    ----------\n",
    "    str : string\n",
    "\n",
    "    Returns\n",
    "    -------\n",
    "    string (python2) or bytes (python3)\n",
    "    \"\"\"\n",
    "    if sys.version_info[0] < 3:\n",
    "        return str\n",
    "    else:\n",
    "        return bytes(str, 'utf-8')"
   ]
  },
  {
   "cell_type": "markdown",
   "metadata": {},
   "source": [
    "## Record IO\n",
    "Record IO is a file format used by MXNet for data IO.\n",
    "It compactly packs the data for efficient read and writes from distributed file system like Hadoop HDFS and AWS S3.\n",
    "You can learn more about the design of `RecordIO` [here](http://mxnet.io/architecture/note_data_loading.html).\n",
    "\n",
    "MXNet provides [__`MXRecordIO`__](http://mxnet.io/api/python/io/io.html#mxnet.recordio.MXRecordIO)\n",
    "and [__`MXIndexedRecordIO`__](http://mxnet.io/api/python/io/io.html#mxnet.recordio.MXIndexedRecordIO)\n",
    "for sequential access of data and random access of the data.\n",
    "\n",
    "### MXRecordIO\n",
    "First, let's look at an example on how to read and write sequentially\n",
    "using `MXRecordIO`. The files are named with a `.rec` extension."
   ]
  },
  {
   "cell_type": "code",
   "execution_count": 37,
   "metadata": {
    "collapsed": false
   },
   "outputs": [],
   "source": [
    "record = mx.recordio.MXRecordIO('tmp.rec', 'w')\n",
    "for i in range(5):\n",
    "    record.write(str_or_bytes('record_%d'%i))\n",
    "\n",
    "record.close()"
   ]
  },
  {
   "cell_type": "markdown",
   "metadata": {},
   "source": [
    "We can read the data back by opening the file with an option `r` as below:"
   ]
  },
  {
   "cell_type": "code",
   "execution_count": 38,
   "metadata": {
    "collapsed": false
   },
   "outputs": [
    {
     "name": "stdout",
     "output_type": "stream",
     "text": [
      "b'record_0'\n",
      "b'record_1'\n",
      "b'record_2'\n",
      "b'record_3'\n",
      "b'record_4'\n"
     ]
    }
   ],
   "source": [
    "record = mx.recordio.MXRecordIO('tmp.rec', 'r')\n",
    "while True:\n",
    "    item = record.read()\n",
    "    if not item:\n",
    "        break\n",
    "    print (item)\n",
    "record.close()"
   ]
  },
  {
   "cell_type": "code",
   "execution_count": 42,
   "metadata": {
    "collapsed": false
   },
   "outputs": [],
   "source": [
    "record=mx.recordio.MXRecordIO('myzxk.rec','w')\n",
    "for i in range(10):\n",
    "    record.write(bytes('hello %d'%i,'utf-8'))\n",
    "record.close()"
   ]
  },
  {
   "cell_type": "code",
   "execution_count": 48,
   "metadata": {
    "collapsed": false
   },
   "outputs": [
    {
     "name": "stdout",
     "output_type": "stream",
     "text": [
      "hello 0\n",
      "hello 1\n",
      "hello 2\n",
      "hello 3\n",
      "hello 4\n",
      "hello 5\n",
      "hello 6\n",
      "hello 7\n",
      "hello 8\n",
      "hello 9\n"
     ]
    }
   ],
   "source": [
    "record=mx.recordio.MXRecordIO('myzxk.rec','r')\n",
    "while True:\n",
    "    s=record.read()\n",
    "    if s is None:break\n",
    "    print(s.decode('utf-8'))\n",
    "record.close()"
   ]
  },
  {
   "cell_type": "markdown",
   "metadata": {},
   "source": [
    "### MXIndexedRecordIO\n",
    "`MXIndexedRecordIO` supports random or indexed access to the data.\n",
    "We will create an indexed record file and a corresponding index file as below:"
   ]
  },
  {
   "cell_type": "code",
   "execution_count": 49,
   "metadata": {
    "collapsed": true
   },
   "outputs": [],
   "source": [
    "record = mx.recordio.MXIndexedRecordIO('tmp.idx', 'tmp.rec', 'w')\n",
    "for i in range(5):\n",
    "    record.write_idx(i, str_or_bytes('record_%d'%i))\n",
    "record.close()"
   ]
  },
  {
   "cell_type": "markdown",
   "metadata": {},
   "source": [
    "Now, we can access the individual records using the keys"
   ]
  },
  {
   "cell_type": "code",
   "execution_count": 50,
   "metadata": {
    "collapsed": false
   },
   "outputs": [
    {
     "data": {
      "text/plain": [
       "b'record_3'"
      ]
     },
     "execution_count": 50,
     "metadata": {},
     "output_type": "execute_result"
    }
   ],
   "source": [
    "record = mx.recordio.MXIndexedRecordIO('tmp.idx', 'tmp.rec', 'r')\n",
    "record.read_idx(3)"
   ]
  },
  {
   "cell_type": "code",
   "execution_count": 52,
   "metadata": {
    "collapsed": false
   },
   "outputs": [
    {
     "data": {
      "text/plain": [
       "b'record_4'"
      ]
     },
     "execution_count": 52,
     "metadata": {},
     "output_type": "execute_result"
    }
   ],
   "source": [
    "record.read_idx(4)"
   ]
  },
  {
   "cell_type": "markdown",
   "metadata": {},
   "source": [
    "You can also list all the keys in the file."
   ]
  },
  {
   "cell_type": "code",
   "execution_count": 53,
   "metadata": {
    "collapsed": false
   },
   "outputs": [
    {
     "data": {
      "text/plain": [
       "[0, 1, 2, 3, 4]"
      ]
     },
     "execution_count": 53,
     "metadata": {},
     "output_type": "execute_result"
    }
   ],
   "source": [
    "record.keys"
   ]
  },
  {
   "cell_type": "code",
   "execution_count": 69,
   "metadata": {
    "collapsed": true
   },
   "outputs": [],
   "source": [
    "# mx.recordio.MXRecordIO()\n",
    "record=mx.recordio.MXIndexedRecordIO('my.idx','my.rec','w')\n",
    "for i in range(6):\n",
    "    record.write_idx(2-i,str_or_bytes('record_%d'%i))\n",
    "record.close()"
   ]
  },
  {
   "cell_type": "code",
   "execution_count": 72,
   "metadata": {
    "collapsed": false
   },
   "outputs": [
    {
     "name": "stdout",
     "output_type": "stream",
     "text": [
      "b'record_5'\n",
      "[2, 1, 0, -1, -2, -3] <class 'int'>\n"
     ]
    }
   ],
   "source": [
    "# 顺序读取\n",
    "# record=mx.recordio.MXRecordIO('my.rec','r')\n",
    "# while True:\n",
    "#     s=record.read()\n",
    "#     if s is None:break\n",
    "#     print(s.decode('utf-8'))\n",
    "#随机读取\n",
    "record=mx.recordio.MXIndexedRecordIO('my.idx','my.rec','r')\n",
    "\n",
    "print(record.read_idx(-3))\n",
    "# print(record.read_idx(3))\n",
    "# print(record.read_idx(0))\n",
    "print(record.keys,record.key_type)\n",
    "record.close()"
   ]
  },
  {
   "cell_type": "markdown",
   "metadata": {},
   "source": [
    "### Packing and Unpacking data\n",
    "\n",
    "Each record in a .rec file can contain arbitrary binary data. However, most deep learning tasks require data to be input in label/data format.\n",
    "The `mx.recordio` package provides a few utility functions for such operations, namely: `pack`, `unpack`, `pack_img`, and `unpack_img`.\n",
    "\n",
    "#### Packing/Unpacking Binary Data\n",
    "\n",
    "[__`pack`__](http://mxnet.io/api/python/io/io.html#mxnet.recordio.pack) and [__`unpack`__](http://mxnet.io/api/python/io/io.html#mxnet.recordio.unpack) are used for storing float (or 1d array of float) label and binary data. The data is packed along with a header. The header structure is defined [here](http://mxnet.io/api/python/io/io.html#mxnet.recordio.IRHeader)."
   ]
  },
  {
   "cell_type": "code",
   "execution_count": 73,
   "metadata": {
    "collapsed": true
   },
   "outputs": [],
   "source": [
    "# pack\n",
    "data = 'data'\n",
    "label1 = 1.0\n",
    "header1 = mx.recordio.IRHeader(flag=0, label=label1, id=1, id2=0)\n",
    "s1 = mx.recordio.pack(header1, str_or_bytes(data))\n",
    "\n",
    "label2 = [1.0, 2.0, 3.0]\n",
    "header2 = mx.recordio.IRHeader(flag=3, label=label2, id=2, id2=0)\n",
    "s2 = mx.recordio.pack(header2, str_or_bytes(data))"
   ]
  },
  {
   "cell_type": "code",
   "execution_count": 74,
   "metadata": {
    "collapsed": false
   },
   "outputs": [
    {
     "name": "stdout",
     "output_type": "stream",
     "text": [
      "(HEADER(flag=0, label=1.0, id=1, id2=0), b'data')\n",
      "(HEADER(flag=3, label=array([1., 2., 3.], dtype=float32), id=2, id2=0), b'data')\n"
     ]
    }
   ],
   "source": [
    "# unpack\n",
    "print(mx.recordio.unpack(s1))\n",
    "print(mx.recordio.unpack(s2))"
   ]
  },
  {
   "cell_type": "markdown",
   "metadata": {},
   "source": [
    "### 简单的说就是数据/标注格式"
   ]
  },
  {
   "cell_type": "code",
   "execution_count": 104,
   "metadata": {
    "collapsed": false
   },
   "outputs": [
    {
     "name": "stdout",
     "output_type": "stream",
     "text": [
      "[0.461523   0.70125458]\n",
      "[0.19198944 0.78224499]\n",
      "[0.22229003 0.31159534]\n"
     ]
    }
   ],
   "source": [
    "record=mx.recordio.MXRecordIO('zxk.rec','w')\n",
    "#生成数据记录\n",
    "for i in range(3):\n",
    "    data=np.random.rand(2)\n",
    "    print(data)\n",
    "    header=mx.recordio.IRHeader(flag=0,label=i%4,id=i+1,id2=0)\n",
    "    r=mx.recordio.pack(header,data.tobytes())\n",
    "\n",
    "    record.write(r)\n",
    "record.close()"
   ]
  },
  {
   "cell_type": "code",
   "execution_count": 105,
   "metadata": {
    "collapsed": false
   },
   "outputs": [
    {
     "name": "stdout",
     "output_type": "stream",
     "text": [
      "1 [0.461523   0.70125458]\n",
      "2 [0.19198944 0.78224499]\n",
      "3 [0.22229003 0.31159534]\n"
     ]
    }
   ],
   "source": [
    "record=mx.recordio.MXRecordIO('zxk.rec','r')\n",
    "while True:\n",
    "    s=record.read()\n",
    "    if s is None:break\n",
    "    r=mx.recordio.unpack(s)\n",
    "    d=np.fromstring(r[1])\n",
    "    print(r[0].id,d)\n",
    "    \n",
    "record.close()"
   ]
  },
  {
   "cell_type": "markdown",
   "metadata": {},
   "source": [
    "#### Packing/Unpacking Image Data\n",
    "\n",
    "MXNet provides [__`pack_img`__](http://mxnet.io/api/python/io/io.html#mxnet.recordio.pack_img) and [__`unpack_img`__](http://mxnet.io/api/python/io/io.html#mxnet.recordio.unpack_img) to pack/unpack image data.\n",
    "Records packed by `pack_img` can be loaded by `mx.io.ImageRecordIter`."
   ]
  },
  {
   "cell_type": "code",
   "execution_count": 106,
   "metadata": {
    "collapsed": true
   },
   "outputs": [],
   "source": [
    "data = np.ones((3,3,1), dtype=np.uint8)\n",
    "label = 1.0\n",
    "header = mx.recordio.IRHeader(flag=0, label=label, id=0, id2=0)\n",
    "s = mx.recordio.pack_img(header, data, quality=100, img_fmt='.jpg')"
   ]
  },
  {
   "cell_type": "code",
   "execution_count": 107,
   "metadata": {
    "collapsed": false
   },
   "outputs": [
    {
     "name": "stdout",
     "output_type": "stream",
     "text": [
      "(HEADER(flag=0, label=1.0, id=0, id2=0), array([[1, 1, 1],\n",
      "       [1, 1, 1],\n",
      "       [1, 1, 1]], dtype=uint8))\n"
     ]
    }
   ],
   "source": [
    "# unpack_img\n",
    "print(mx.recordio.unpack_img(s))"
   ]
  },
  {
   "cell_type": "markdown",
   "metadata": {},
   "source": [
    "#### Using tools/im2rec.py\n",
    "You can also convert raw images into *RecordIO* format using the [__im2rec.py__](https://github.com/apache/incubator-mxnet/blob/master/tools/im2rec.py) utility script that is provided in the MXNet [src/tools](https://github.com/dmlc/mxnet/tree/master/tools) folder.\n",
    "An example of how to use the script for converting to *RecordIO* format is shown in the `Image IO` section below.\n",
    "\n",
    "* Note that there is a C++ API implementation of [im2rec](https://github.com/dmlc/mxnet/blob/master/tools/im2rec.cc), please refer to [RecordIO FAQ](https://mxnet.incubator.apache.org/faq/recordio.html) for more information.\n",
    "\n",
    "## Image IO\n",
    "\n",
    "In this section, we will learn how to preprocess and load image data in MXNet.\n",
    "\n",
    "There are 4 ways of loading image data in MXNet.\n",
    "   1. Using [__mx.image.imdecode__](http://mxnet.io/api/python/io/io.html#mxnet.image.imdecode) to load raw image files.\n",
    "   2. Using [__`mx.img.ImageIter`__](http://mxnet.io/api/python/io/io.html#mxnet.image.ImageIter) implemented in Python which is very flexible to customization. It can read from .rec(`RecordIO`) files and raw image files.\n",
    "   3. Using [__`mx.io.ImageRecordIter`__](http://mxnet.io/api/python/io/io.html#mxnet.io.ImageRecordIter) implemented on the MXNet backend in C++. This is less flexible to customization but provides various language bindings.\n",
    "   4. Creating a Custom iterator inheriting `mx.io.DataIter`\n",
    "\n",
    "\n",
    "### Preprocessing Images\n",
    "Images can be preprocessed in different ways. We list some of them below:\n",
    "- Using `mx.io.ImageRecordIter` which is fast but not very flexible. It is great for simple tasks like image recognition but won't work for more complex tasks like detection and segmentation.\n",
    "- Using `mx.recordio.unpack_img` (or `cv2.imread`, `skimage`, etc) + `numpy` is flexible but slow due to Python Global Interpreter Lock (GIL).\n",
    "- Using MXNet provided `mx.image` package. It stores images in [__`NDArray`__](http://mxnet.io/tutorials/basic/ndarray.html) format and leverages MXNet's [dependency engine](http://mxnet.io/architecture/note_engine.html) to automatically parallelize processing and circumvent GIL.\n",
    "\n",
    "Below, we demonstrate some of the frequently used preprocessing routines provided by the `mx.image` package.\n",
    "\n",
    "Let's download sample images that we can work with."
   ]
  },
  {
   "cell_type": "code",
   "execution_count": null,
   "metadata": {
    "collapsed": true
   },
   "outputs": [],
   "source": [
    "fname = mx.test_utils.download(url='http://data.mxnet.io/data/test_images.tar.gz', dirname='data', overwrite=False)\n",
    "tar = tarfile.open(fname)\n",
    "tar.extractall(path=os.path.join('.','data'))\n",
    "tar.close()"
   ]
  },
  {
   "cell_type": "markdown",
   "metadata": {},
   "source": [
    "#### Loading raw images\n",
    "`mx.image.imdecode` lets us load the images. `imdecode` provides a similar interface to ``OpenCV``.  \n",
    "\n",
    "**Note:** You will still need ``OpenCV``(not the CV2 Python library) installed to use `mx.image.imdecode`."
   ]
  },
  {
   "cell_type": "code",
   "execution_count": null,
   "metadata": {
    "collapsed": true
   },
   "outputs": [],
   "source": [
    "img = mx.image.imdecode(open(os.path.join('data','test_images','ILSVRC2012_val_00000001.JPEG'), 'rb').read())\n",
    "plt.imshow(img.asnumpy()); plt.show()"
   ]
  },
  {
   "cell_type": "markdown",
   "metadata": {},
   "source": [
    "#### Image Transformations"
   ]
  },
  {
   "cell_type": "code",
   "execution_count": null,
   "metadata": {
    "collapsed": true
   },
   "outputs": [],
   "source": [
    "# resize to w x h\n",
    "tmp = mx.image.imresize(img, 100, 70)\n",
    "plt.imshow(tmp.asnumpy()); plt.show()"
   ]
  },
  {
   "cell_type": "code",
   "execution_count": null,
   "metadata": {
    "collapsed": true
   },
   "outputs": [],
   "source": [
    "# crop a random w x h region from image\n",
    "tmp, coord = mx.image.random_crop(img, (150, 200))\n",
    "print(coord)\n",
    "plt.imshow(tmp.asnumpy()); plt.show()"
   ]
  },
  {
   "cell_type": "markdown",
   "metadata": {},
   "source": [
    "### Loading Data using Image Iterators\n",
    "\n",
    "Before we see how to read data using the two built-in Image iterators,\n",
    " lets get a sample __Caltech 101__ dataset\n",
    " that contains 101 classes of objects and converts them into record io format.\n",
    "Download and unzip"
   ]
  },
  {
   "cell_type": "code",
   "execution_count": null,
   "metadata": {
    "collapsed": true
   },
   "outputs": [],
   "source": [
    "fname = mx.test_utils.download(url='http://www.vision.caltech.edu/Image_Datasets/Caltech101/101_ObjectCategories.tar.gz', dirname='data', overwrite=False)\n",
    "tar = tarfile.open(fname)\n",
    "tar.extractall(path=os.path.join('.','data'))\n",
    "tar.close()"
   ]
  },
  {
   "cell_type": "markdown",
   "metadata": {},
   "source": [
    "Let's take a look at the data. As you can see, under the root folder (./data/101_ObjectCategories) every category has a subfolder(./data/101_ObjectCategories/yin_yang).\n",
    "\n",
    "Now let's convert them into record io format using the `im2rec.py` utility script.\n",
    "First, we need to make a list that contains all the image files and their categories:"
   ]
  },
  {
   "cell_type": "code",
   "execution_count": null,
   "metadata": {
    "collapsed": true
   },
   "outputs": [],
   "source": [
    "im2rec_path = mx.test_utils.get_im2rec_path()\n",
    "data_path = os.path.join('data','101_ObjectCategories')\n",
    "prefix_path = os.path.join('data','caltech')\n",
    "\n",
    "with open(os.devnull, 'wb') as devnull:\n",
    "    subprocess.check_call(['python', im2rec_path, '--list', '--recursive', '--test-ratio=0.2', prefix_path, data_path],\n",
    "                          stdout=devnull)"
   ]
  },
  {
   "cell_type": "markdown",
   "metadata": {},
   "source": [
    "The resulting list file (./data/caltech_train.lst) is in the format `index\\t(one or more label)\\tpath`. In this case, there is only one label for each image but you can modify the list to add in more for multi-label training.\n",
    "\n",
    "Then we can use this list to create our record io file:"
   ]
  },
  {
   "cell_type": "code",
   "execution_count": null,
   "metadata": {
    "collapsed": true
   },
   "outputs": [],
   "source": [
    "with open(os.devnull, 'wb') as devnull:\n",
    "    subprocess.check_call(['python', im2rec_path, '--num-thread=4', '--pass-through', '--test-ratio=0.2', prefix_path, data_path],\n",
    "                          stdout=devnull)"
   ]
  },
  {
   "cell_type": "markdown",
   "metadata": {},
   "source": [
    "The record io files are now saved at here (./data)\n",
    "\n",
    "#### Using ImageRecordIter\n",
    "[__`ImageRecordIter`__](http://mxnet.io/api/python/io/io.html#mxnet.io.ImageRecordIter) can be used for loading image data saved in record io format. To use ImageRecordIter, simply create an instance by loading your record file:"
   ]
  },
  {
   "cell_type": "code",
   "execution_count": null,
   "metadata": {
    "collapsed": true
   },
   "outputs": [],
   "source": [
    "data_iter = mx.io.ImageRecordIter(\n",
    "    path_imgrec=os.path.join('.','data','caltech.rec'),\n",
    "    data_shape=(3, 227, 227), # output data shape. An 227x227 region will be cropped from the original image.\n",
    "    batch_size=4, # number of samples per batch\n",
    "    resize=256 # resize the shorter edge to 256 before cropping\n",
    "    # ... you can add more augmentation options as defined in ImageRecordIter.\n",
    "    )\n",
    "data_iter.reset()\n",
    "batch = data_iter.next()\n",
    "data = batch.data[0]\n",
    "for i in range(4):\n",
    "    plt.subplot(1,4,i+1)\n",
    "    plt.imshow(data[i].asnumpy().astype(np.uint8).transpose((1,2,0)))\n",
    "plt.show()"
   ]
  },
  {
   "cell_type": "markdown",
   "metadata": {},
   "source": [
    "#### Using ImageIter\n",
    "[__ImageIter__](http://mxnet.io/api/python/io/io.html#mxnet.io.ImageIter) is a flexible interface that supports loading of images in both RecordIO and Raw format."
   ]
  },
  {
   "cell_type": "code",
   "execution_count": null,
   "metadata": {
    "collapsed": true
   },
   "outputs": [],
   "source": [
    "data_iter = mx.image.ImageIter(batch_size=4, data_shape=(3, 227, 227),\n",
    "                              path_imgrec=os.path.join('.','data','caltech.rec'),\n",
    "                              path_imgidx=os.path.join('.','data','caltech.idx') )\n",
    "data_iter.reset()\n",
    "batch = data_iter.next()\n",
    "data = batch.data[0]\n",
    "for i in range(4):\n",
    "    plt.subplot(1,4,i+1)\n",
    "    plt.imshow(data[i].asnumpy().astype(np.uint8).transpose((1,2,0)))\n",
    "plt.show()"
   ]
  },
  {
   "cell_type": "markdown",
   "metadata": {},
   "source": [
    "####  练习"
   ]
  },
  {
   "cell_type": "markdown",
   "metadata": {},
   "source": [
    "\n",
    "<!-- INSERT SOURCE DOWNLOAD BUTTONS -->\n",
    "\n"
   ]
  },
  {
   "cell_type": "code",
   "execution_count": 5,
   "metadata": {
    "collapsed": false
   },
   "outputs": [
    {
     "name": "stdout",
     "output_type": "stream",
     "text": [
      "header0 label [367889. 376166.]\n"
     ]
    }
   ],
   "source": [
    "path_imgidx, path_imgrec='/home/zhangxk/AIProject/数据集与模型/arcface_dataset/faces_umd/train.idx','/home/zhangxk/AIProject/数据集与模型/arcface_dataset/faces_umd/train.rec'\n",
    "reader=mx.recordio.MXIndexedRecordIO(path_imgidx, path_imgrec, 'r')\n",
    "s=reader.read_idx(0)\n",
    "header, _ = mx.recordio.unpack(s)\n",
    "print('header0 label', header.label)"
   ]
  },
  {
   "cell_type": "code",
   "execution_count": 11,
   "metadata": {
    "collapsed": false
   },
   "outputs": [],
   "source": [
    "#类别的索引\n",
    "header0 = (int(header.label[0]), int(header.label[1]))\n",
    "seq_identity = range(int(header.label[0]), int(header.label[1]))"
   ]
  },
  {
   "cell_type": "code",
   "execution_count": 18,
   "metadata": {
    "collapsed": false
   },
   "outputs": [],
   "source": [
    "#类别\n",
    "cls=seq_identity[0]\n",
    "s=reader.read_idx(cls)\n",
    "_hearer,_=mx.recordio.unpack(s)\n",
    "a,b = int(_hearer.label[0]), int(_hearer.label[1])"
   ]
  },
  {
   "cell_type": "code",
   "execution_count": 19,
   "metadata": {
    "collapsed": false
   },
   "outputs": [
    {
     "data": {
      "text/plain": [
       "1"
      ]
     },
     "execution_count": 19,
     "metadata": {},
     "output_type": "execute_result"
    }
   ],
   "source": [
    "a"
   ]
  },
  {
   "cell_type": "code",
   "execution_count": 20,
   "metadata": {
    "collapsed": false
   },
   "outputs": [
    {
     "data": {
      "text/plain": [
       "25"
      ]
     },
     "execution_count": 20,
     "metadata": {},
     "output_type": "execute_result"
    }
   ],
   "source": [
    "b"
   ]
  },
  {
   "cell_type": "code",
   "execution_count": 21,
   "metadata": {
    "collapsed": false
   },
   "outputs": [
    {
     "data": {
      "text/plain": [
       "HEADER(flag=2, label=array([ 1., 25.], dtype=float32), id=367889, id2=0)"
      ]
     },
     "execution_count": 21,
     "metadata": {},
     "output_type": "execute_result"
    }
   ],
   "source": [
    "_hearer"
   ]
  },
  {
   "cell_type": "code",
   "execution_count": 24,
   "metadata": {
    "collapsed": true
   },
   "outputs": [],
   "source": [
    "a=range(3,5)"
   ]
  },
  {
   "cell_type": "code",
   "execution_count": 25,
   "metadata": {
    "collapsed": false
   },
   "outputs": [],
   "source": [
    "b=[]\n",
    "b+=range(99,102)"
   ]
  },
  {
   "cell_type": "code",
   "execution_count": 29,
   "metadata": {
    "collapsed": false
   },
   "outputs": [],
   "source": [
    "b+=range(11,22)"
   ]
  },
  {
   "cell_type": "code",
   "execution_count": 30,
   "metadata": {
    "collapsed": false
   },
   "outputs": [
    {
     "data": {
      "text/plain": [
       "[99, 100, 101, 99, 100, 101, 11, 12, 13, 14, 15, 16, 17, 18, 19, 20, 21]"
      ]
     },
     "execution_count": 30,
     "metadata": {},
     "output_type": "execute_result"
    }
   ],
   "source": [
    "b"
   ]
  },
  {
   "cell_type": "code",
   "execution_count": null,
   "metadata": {
    "collapsed": true
   },
   "outputs": [],
   "source": []
  }
 ],
 "metadata": {
  "display_name": "",
  "kernelspec": {
   "display_name": "Python 3",
   "language": "python",
   "name": "python3"
  },
  "language_info": {
   "codemirror_mode": {
    "name": "ipython",
    "version": 3
   },
   "file_extension": ".py",
   "mimetype": "text/x-python",
   "name": "python",
   "nbconvert_exporter": "python",
   "pygments_lexer": "ipython3",
   "version": "3.5.2"
  },
  "name": ""
 },
 "nbformat": 4,
 "nbformat_minor": 2
}
