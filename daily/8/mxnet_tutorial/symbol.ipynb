{
 "cells": [
  {
   "cell_type": "markdown",
   "metadata": {},
   "source": [
    "<!--- Licensed to the Apache Software Foundation (ASF) under one -->\n",
    "<!--- or more contributor license agreements.  See the NOTICE file -->\n",
    "<!--- distributed with this work for additional information -->\n",
    "<!--- regarding copyright ownership.  The ASF licenses this file -->\n",
    "<!--- to you under the Apache License, Version 2.0 (the -->\n",
    "<!--- \"License\"); you may not use this file except in compliance -->\n",
    "<!--- with the License.  You may obtain a copy of the License at -->\n",
    "\n",
    "<!---   http://www.apache.org/licenses/LICENSE-2.0 -->\n",
    "\n",
    "<!--- Unless required by applicable law or agreed to in writing, -->\n",
    "<!--- software distributed under the License is distributed on an -->\n",
    "<!--- \"AS IS\" BASIS, WITHOUT WARRANTIES OR CONDITIONS OF ANY -->\n",
    "<!--- KIND, either express or implied.  See the License for the -->\n",
    "<!--- specific language governing permissions and limitations -->\n",
    "<!--- under the License. -->\n",
    "\n",
    "# Symbol - Neural network graphs\n",
    "\n",
    "In the [previous tutorial](http://mxnet.io/tutorials/basic/ndarray.html), we introduced [`NDArray`](https://mxnet.incubator.apache.org/api/python/ndarray/ndarray.html), the basic data structure for manipulating data in MXNet.\n",
    "Just using `NDArray` by itself, we can execute a wide range of mathematical operations. In fact, we could define and update a full neural network just by using `NDArray`.\n",
    "\n",
    "`NDArray` allows you to write programs for scientific computation in an imperative fashion, making full use of the native control of any front-end language. Gluon API uses this approach under the hood (before hybridization) to allow for flexible and debugable networks. So you might wonder, why don't we just use `NDArray` for all computation?\n",
    "\n",
    "MXNet also provides the `Symbol API`, an interface for symbolic programming. With symbolic programming, rather than executing operations step by step, we first define a [computation graph](https://mxnet.incubator.apache.org/versions/master/faq/visualize_graph.html). This graph contains placeholders for inputs and designated outputs. We can then compile the graph, yielding a function that can be bound to `NDArray`s and run. MXNet's `Symbol API` is similar to the network configurations used by [Caffe](http://caffe.berkeleyvision.org/) and the symbolic programming in [Theano](http://deeplearning.net/software/theano/). Gluon API takes advantage of this approach under the hood after the network has been hybridized.\n",
    "\n",
    "Another advantage conferred by symbolic approach is that we can optimize our functions before using them. For example, when we execute mathematical computations in imperative fashion, we don't know at the time that we run each operation, which values will be needed later on. But with symbolic programming, we declare the required outputs in advance. This means that we can recycle memory allocated in intermediate steps, as by performing operations in place. Symbolic API also uses less memory for the\n",
    "same network. Refer to [How To](http://mxnet.io/faq/index.html) and [Architecture](http://mxnet.io/architecture/index.html) section to know more.\n",
    "\n",
    "In our design notes, we present [a more thorough discussion on the comparative strengths of imperative and symbolic programing](http://mxnet.io/architecture/program_model.html). In this document, however, we'll focus on explaining how to use MXNet's `Symbol API`.\n",
    "\n",
    "In MXNet, we can compose Symbols from other Symbols, using operators, such as simple matrix operations (e.g. `+`), or whole neural network layers (e.g. convolution layer). Operator can take multiple input variables, can produce multiple output symbols and can maintain internal state symbols. For a visual explanation of these concepts, see [Symbolic Configuration and Execution in Pictures](http://mxnet.io/api/python/symbol_in_pictures/symbol_in_pictures.html).\n",
    "\n",
    "To make things concrete, let's take a hands-on look at the `Symbol API`. There are a few different ways to compose a [`Symbol`](http://mxnet.incubator.apache.org/api/python/symbol/symbol.html).\n",
    "\n",
    "## Prerequisites\n",
    "\n",
    "To complete this tutorial, we need:\n",
    "\n",
    "- MXNet. See the instructions for your operating system in [Setup and Installation](http://mxnet.io/install/index.html)\n",
    "- [Jupyter](http://jupyter.org/)\n",
    "    ```\n",
    "    pip install jupyter\n",
    "    ```\n",
    "- GPUs (optional). A section of this tutorial uses GPUs, if one is available. If not, the code will automatically switch to CPU.\n",
    "\n",
    "## Basic Symbol Composition\n",
    "\n",
    "### Basic Operators\n",
    "\n",
    "The following example builds a simple expression: `a + b`. First, we create two placeholders with `mx.sym.Variable`,\n",
    "giving them the names `a` and `b`. We then construct the desired symbol by using the operator `+`. We don't need to name our variables while creating them, MXNet will automatically generate a unique name for each. In the example below, `c` is assigned a unique name automatically."
   ]
  },
  {
   "cell_type": "code",
   "execution_count": 2,
   "metadata": {
    "collapsed": false
   },
   "outputs": [
    {
     "data": {
      "image/svg+xml": [
       "<?xml version=\"1.0\" encoding=\"UTF-8\" standalone=\"no\"?>\n",
       "<!DOCTYPE svg PUBLIC \"-//W3C//DTD SVG 1.1//EN\"\n",
       " \"http://www.w3.org/Graphics/SVG/1.1/DTD/svg11.dtd\">\n",
       "<!-- Generated by graphviz version 2.38.0 (20140413.2041)\n",
       " -->\n",
       "<!-- Title: plot Pages: 1 -->\n",
       "<svg width=\"214pt\" height=\"160pt\"\n",
       " viewBox=\"0.00 0.00 214.00 160.00\" xmlns=\"http://www.w3.org/2000/svg\" xmlns:xlink=\"http://www.w3.org/1999/xlink\">\n",
       "<g id=\"graph0\" class=\"graph\" transform=\"scale(1 1) rotate(0) translate(4 156)\">\n",
       "<title>plot</title>\n",
       "<polygon fill=\"white\" stroke=\"none\" points=\"-4,4 -4,-156 210,-156 210,4 -4,4\"/>\n",
       "<!-- a -->\n",
       "<g id=\"node1\" class=\"node\"><title>a</title>\n",
       "<ellipse fill=\"#8dd3c7\" stroke=\"black\" cx=\"47\" cy=\"-29\" rx=\"47\" ry=\"29\"/>\n",
       "<text text-anchor=\"middle\" x=\"47\" y=\"-25.3\" font-family=\"Times,serif\" font-size=\"14.00\">a</text>\n",
       "</g>\n",
       "<!-- b -->\n",
       "<g id=\"node2\" class=\"node\"><title>b</title>\n",
       "<ellipse fill=\"#8dd3c7\" stroke=\"black\" cx=\"159\" cy=\"-29\" rx=\"47\" ry=\"29\"/>\n",
       "<text text-anchor=\"middle\" x=\"159\" y=\"-25.3\" font-family=\"Times,serif\" font-size=\"14.00\">b</text>\n",
       "</g>\n",
       "<!-- _plus0 -->\n",
       "<g id=\"node3\" class=\"node\"><title>_plus0</title>\n",
       "<polygon fill=\"#fccde5\" stroke=\"black\" points=\"150,-152 56,-152 56,-94 150,-94 150,-152\"/>\n",
       "<text text-anchor=\"middle\" x=\"103\" y=\"-119.3\" font-family=\"Times,serif\" font-size=\"14.00\">_plus0</text>\n",
       "</g>\n",
       "<!-- _plus0&#45;&gt;a -->\n",
       "<g id=\"edge1\" class=\"edge\"><title>_plus0&#45;&gt;a</title>\n",
       "<path fill=\"none\" stroke=\"black\" d=\"M80.6228,-85.2374C74.7433,-75.5783 68.5189,-65.3525 63.045,-56.3597\"/>\n",
       "<polygon fill=\"black\" stroke=\"black\" points=\"85.8939,-93.8971 76.8505,-87.6949 83.2941,-89.6261 80.6944,-85.3551 80.6944,-85.3551 80.6944,-85.3551 83.2941,-89.6261 84.5383,-83.0153 85.8939,-93.8971 85.8939,-93.8971\"/>\n",
       "</g>\n",
       "<!-- _plus0&#45;&gt;b -->\n",
       "<g id=\"edge2\" class=\"edge\"><title>_plus0&#45;&gt;b</title>\n",
       "<path fill=\"none\" stroke=\"black\" d=\"M125.377,-85.2374C131.257,-75.5783 137.481,-65.3525 142.955,-56.3597\"/>\n",
       "<polygon fill=\"black\" stroke=\"black\" points=\"120.106,-93.8971 121.462,-83.0153 122.706,-89.6261 125.306,-85.3551 125.306,-85.3551 125.306,-85.3551 122.706,-89.6261 129.15,-87.6949 120.106,-93.8971 120.106,-93.8971\"/>\n",
       "</g>\n",
       "</g>\n",
       "</svg>\n"
      ],
      "text/plain": [
       "<graphviz.dot.Digraph at 0x7f7a308d4dd8>"
      ]
     },
     "execution_count": 2,
     "metadata": {},
     "output_type": "execute_result"
    }
   ],
   "source": [
    "import mxnet as mx\n",
    "a = mx.sym.Variable('a')\n",
    "b = mx.sym.Variable('b')\n",
    "c = a + b\n",
    "(a, b, c)\n",
    "mx.viz.plot_network(c)"
   ]
  },
  {
   "cell_type": "markdown",
   "metadata": {},
   "source": [
    "Most operators supported by `NDArray` are also supported by `Symbol`, for example:"
   ]
  },
  {
   "cell_type": "code",
   "execution_count": 3,
   "metadata": {
    "collapsed": false
   },
   "outputs": [
    {
     "data": {
      "image/svg+xml": [
       "<?xml version=\"1.0\" encoding=\"UTF-8\" standalone=\"no\"?>\n",
       "<!DOCTYPE svg PUBLIC \"-//W3C//DTD SVG 1.1//EN\"\n",
       " \"http://www.w3.org/Graphics/SVG/1.1/DTD/svg11.dtd\">\n",
       "<!-- Generated by graphviz version 2.38.0 (20140413.2041)\n",
       " -->\n",
       "<!-- Title: plot Pages: 1 -->\n",
       "<svg width=\"214pt\" height=\"442pt\"\n",
       " viewBox=\"0.00 0.00 214.00 442.00\" xmlns=\"http://www.w3.org/2000/svg\" xmlns:xlink=\"http://www.w3.org/1999/xlink\">\n",
       "<g id=\"graph0\" class=\"graph\" transform=\"scale(1 1) rotate(0) translate(4 438)\">\n",
       "<title>plot</title>\n",
       "<polygon fill=\"white\" stroke=\"none\" points=\"-4,4 -4,-438 210,-438 210,4 -4,4\"/>\n",
       "<!-- a -->\n",
       "<g id=\"node1\" class=\"node\"><title>a</title>\n",
       "<ellipse fill=\"#8dd3c7\" stroke=\"black\" cx=\"47\" cy=\"-29\" rx=\"47\" ry=\"29\"/>\n",
       "<text text-anchor=\"middle\" x=\"47\" y=\"-25.3\" font-family=\"Times,serif\" font-size=\"14.00\">a</text>\n",
       "</g>\n",
       "<!-- b -->\n",
       "<g id=\"node2\" class=\"node\"><title>b</title>\n",
       "<ellipse fill=\"#8dd3c7\" stroke=\"black\" cx=\"159\" cy=\"-29\" rx=\"47\" ry=\"29\"/>\n",
       "<text text-anchor=\"middle\" x=\"159\" y=\"-25.3\" font-family=\"Times,serif\" font-size=\"14.00\">b</text>\n",
       "</g>\n",
       "<!-- _mul0 -->\n",
       "<g id=\"node3\" class=\"node\"><title>_mul0</title>\n",
       "<ellipse fill=\"#fccde5\" stroke=\"black\" cx=\"47\" cy=\"-123\" rx=\"47\" ry=\"29\"/>\n",
       "<text text-anchor=\"middle\" x=\"47\" y=\"-119.3\" font-family=\"Times,serif\" font-size=\"14.00\">_mul0</text>\n",
       "</g>\n",
       "<!-- _mul0&#45;&gt;a -->\n",
       "<g id=\"edge1\" class=\"edge\"><title>_mul0&#45;&gt;a</title>\n",
       "<path fill=\"none\" stroke=\"black\" d=\"M47,-83.7443C47,-75.2043 47,-66.2977 47,-58.2479\"/>\n",
       "<polygon fill=\"black\" stroke=\"black\" points=\"47,-93.8971 42.5001,-83.897 47,-88.8971 47.0001,-83.8971 47.0001,-83.8971 47.0001,-83.8971 47,-88.8971 51.5001,-83.8971 47,-93.8971 47,-93.8971\"/>\n",
       "</g>\n",
       "<!-- _mul0&#45;&gt;b -->\n",
       "<g id=\"edge2\" class=\"edge\"><title>_mul0&#45;&gt;b</title>\n",
       "<path fill=\"none\" stroke=\"black\" d=\"M82.6477,-92.718C98.3661,-79.8064 116.561,-64.861 131.245,-52.7988\"/>\n",
       "<polygon fill=\"black\" stroke=\"black\" points=\"74.6854,-99.2584 79.5563,-89.4337 78.549,-96.0847 82.4127,-92.911 82.4127,-92.911 82.4127,-92.911 78.549,-96.0847 85.269,-96.3883 74.6854,-99.2584 74.6854,-99.2584\"/>\n",
       "</g>\n",
       "<!-- dot0 -->\n",
       "<g id=\"node4\" class=\"node\"><title>dot0</title>\n",
       "<ellipse fill=\"#fccde5\" stroke=\"black\" cx=\"159\" cy=\"-123\" rx=\"47\" ry=\"29\"/>\n",
       "<text text-anchor=\"middle\" x=\"159\" y=\"-119.3\" font-family=\"Times,serif\" font-size=\"14.00\">dot0</text>\n",
       "</g>\n",
       "<!-- dot0&#45;&gt;a -->\n",
       "<g id=\"edge3\" class=\"edge\"><title>dot0&#45;&gt;a</title>\n",
       "<path fill=\"none\" stroke=\"black\" d=\"M123.352,-92.718C107.634,-79.8064 89.4395,-64.861 74.7551,-52.7988\"/>\n",
       "<polygon fill=\"black\" stroke=\"black\" points=\"131.315,-99.2584 120.731,-96.3883 127.451,-96.0847 123.587,-92.911 123.587,-92.911 123.587,-92.911 127.451,-96.0847 126.444,-89.4337 131.315,-99.2584 131.315,-99.2584\"/>\n",
       "</g>\n",
       "<!-- dot0&#45;&gt;b -->\n",
       "<g id=\"edge4\" class=\"edge\"><title>dot0&#45;&gt;b</title>\n",
       "<path fill=\"none\" stroke=\"black\" d=\"M159,-83.7443C159,-75.2043 159,-66.2977 159,-58.2479\"/>\n",
       "<polygon fill=\"black\" stroke=\"black\" points=\"159,-93.8971 154.5,-83.897 159,-88.8971 159,-83.8971 159,-83.8971 159,-83.8971 159,-88.8971 163.5,-83.8971 159,-93.8971 159,-93.8971\"/>\n",
       "</g>\n",
       "<!-- _plus1 -->\n",
       "<g id=\"node5\" class=\"node\"><title>_plus1</title>\n",
       "<ellipse fill=\"#fccde5\" stroke=\"black\" cx=\"103\" cy=\"-217\" rx=\"47\" ry=\"29\"/>\n",
       "<text text-anchor=\"middle\" x=\"103\" y=\"-213.3\" font-family=\"Times,serif\" font-size=\"14.00\">_plus1</text>\n",
       "</g>\n",
       "<!-- _plus1&#45;&gt;_mul0 -->\n",
       "<g id=\"edge5\" class=\"edge\"><title>_plus1&#45;&gt;_mul0</title>\n",
       "<path fill=\"none\" stroke=\"black\" d=\"M81.5753,-180.802C75.4613,-170.758 68.904,-159.985 63.1611,-150.55\"/>\n",
       "<polygon fill=\"black\" stroke=\"black\" points=\"86.8025,-189.39 77.7591,-183.188 84.2027,-185.119 81.603,-180.848 81.603,-180.848 81.603,-180.848 84.2027,-185.119 85.4469,-178.508 86.8025,-189.39 86.8025,-189.39\"/>\n",
       "</g>\n",
       "<!-- _plus1&#45;&gt;dot0 -->\n",
       "<g id=\"edge6\" class=\"edge\"><title>_plus1&#45;&gt;dot0</title>\n",
       "<path fill=\"none\" stroke=\"black\" d=\"M124.425,-180.802C130.539,-170.758 137.096,-159.985 142.839,-150.55\"/>\n",
       "<polygon fill=\"black\" stroke=\"black\" points=\"119.198,-189.39 120.553,-178.508 121.797,-185.119 124.397,-180.848 124.397,-180.848 124.397,-180.848 121.797,-185.119 128.241,-183.188 119.198,-189.39 119.198,-189.39\"/>\n",
       "</g>\n",
       "<!-- reshape0 -->\n",
       "<g id=\"node6\" class=\"node\"><title>reshape0</title>\n",
       "<ellipse fill=\"#fdb462\" stroke=\"black\" cx=\"103\" cy=\"-311\" rx=\"47\" ry=\"29\"/>\n",
       "<text text-anchor=\"middle\" x=\"103\" y=\"-307.3\" font-family=\"Times,serif\" font-size=\"14.00\">reshape0</text>\n",
       "</g>\n",
       "<!-- reshape0&#45;&gt;_plus1 -->\n",
       "<g id=\"edge7\" class=\"edge\"><title>reshape0&#45;&gt;_plus1</title>\n",
       "<path fill=\"none\" stroke=\"black\" d=\"M103,-271.744C103,-263.204 103,-254.298 103,-246.248\"/>\n",
       "<polygon fill=\"black\" stroke=\"black\" points=\"103,-281.897 98.5001,-271.897 103,-276.897 103,-271.897 103,-271.897 103,-271.897 103,-276.897 107.5,-271.897 103,-281.897 103,-281.897\"/>\n",
       "</g>\n",
       "<!-- broadcast_to0 -->\n",
       "<g id=\"node7\" class=\"node\"><title>broadcast_to0</title>\n",
       "<ellipse fill=\"#fccde5\" stroke=\"black\" cx=\"103\" cy=\"-405\" rx=\"50.2167\" ry=\"29\"/>\n",
       "<text text-anchor=\"middle\" x=\"103\" y=\"-401.3\" font-family=\"Times,serif\" font-size=\"14.00\">broadcast_to0</text>\n",
       "</g>\n",
       "<!-- broadcast_to0&#45;&gt;reshape0 -->\n",
       "<g id=\"edge8\" class=\"edge\"><title>broadcast_to0&#45;&gt;reshape0</title>\n",
       "<path fill=\"none\" stroke=\"black\" d=\"M103,-365.744C103,-357.204 103,-348.298 103,-340.248\"/>\n",
       "<polygon fill=\"black\" stroke=\"black\" points=\"103,-375.897 98.5001,-365.897 103,-370.897 103,-365.897 103,-365.897 103,-365.897 103,-370.897 107.5,-365.897 103,-375.897 103,-375.897\"/>\n",
       "</g>\n",
       "</g>\n",
       "</svg>\n"
      ],
      "text/plain": [
       "<graphviz.dot.Digraph at 0x7f06ba6c9c18>"
      ]
     },
     "execution_count": 3,
     "metadata": {},
     "output_type": "execute_result"
    }
   ],
   "source": [
    "# element-wise multiplication\n",
    "d = a * b\n",
    "# matrix multiplication\n",
    "e = mx.sym.dot(a, b)\n",
    "# reshape\n",
    "f = mx.sym.reshape(d+e, shape=(1,4))\n",
    "# broadcast\n",
    "g = mx.sym.broadcast_to(f, shape=(2,4))\n",
    "# plot\n",
    "mx.viz.plot_network(symbol=g,\n",
    "                    node_attrs={\"shape\": \"oval\", \"fixedsize\": \"false\"})"
   ]
  },
  {
   "cell_type": "markdown",
   "metadata": {},
   "source": [
    "The computations declared in the above examples can be bound to the input data for evaluation by using `bind` method. We discuss this further in the [Symbol Manipulation](#symbol-manipulation) section.\n",
    "\n",
    "### Basic Neural Networks\n",
    "\n",
    "Besides the basic operators, `Symbol` also supports a rich set of neural network layers.\n",
    "The following example constructs a two layer fully connected neural network\n",
    "and then visualizes the structure of that network given the input data shape."
   ]
  },
  {
   "cell_type": "code",
   "execution_count": 161,
   "metadata": {
    "collapsed": false
   },
   "outputs": [
    {
     "data": {
      "text/plain": [
       "['data',\n",
       " 'conv1_weight',\n",
       " 'conv1_bias',\n",
       " 'conv2_weight',\n",
       " 'conv2_bias',\n",
       " 'fc1_weight',\n",
       " 'fc1_bias',\n",
       " 'fc2_weight',\n",
       " 'fc2_bias',\n",
       " 'myout_label']"
      ]
     },
     "execution_count": 161,
     "metadata": {},
     "output_type": "execute_result"
    }
   ],
   "source": [
    "net=mx.sym.Variable('data')\n",
    "\n",
    "net=mx.sym.Convolution(net,num_filter=12,kernel=(5,5),stride=(1,1),name='conv1')\n",
    "net=mx.sym.Activation(net,'relu')\n",
    "net=mx.sym.Pooling(net,stride=(2,2),kernel=(3,3),pool_type='max')\n",
    "\n",
    "\n",
    "net=mx.sym.Convolution(net,num_filter=36,kernel=(3,3),stride=(1,1),name='conv2')\n",
    "net=mx.sym.Activation(net,'relu')\n",
    "net=mx.sym.Pooling(net,stride=(2,2),kernel=(3,3),pool_type='max')\n",
    "\n",
    "net=mx.sym.FullyConnected(net,num_hidden=128,name='fc1')\n",
    "fc2=mx.sym.FullyConnected(net,num_hidden=10,name='fc2')\n",
    "net=mx.sym.SoftmaxOutput(fc2,name='myout')\n",
    "# mx.viz.plot_network(net,\n",
    "#                     shape={'data':(1,3,28,28)},\n",
    "#                     node_attrs={\"shape\": \"oval\", \"fixedsize\": \"false\"}\n",
    "#                    )\n",
    "net.list_arguments()"
   ]
  },
  {
   "cell_type": "code",
   "execution_count": 160,
   "metadata": {
    "collapsed": false
   },
   "outputs": [
    {
     "ename": "ValueError",
     "evalue": "key `conv1_weight` is missing in `args`",
     "output_type": "error",
     "traceback": [
      "\u001b[1;31m---------------------------------------------------------------------------\u001b[0m",
      "\u001b[1;31mValueError\u001b[0m                                Traceback (most recent call last)",
      "\u001b[1;32m<ipython-input-160-14798e90ed87>\u001b[0m in \u001b[0;36m<module>\u001b[1;34m()\u001b[0m\n\u001b[0;32m      1\u001b[0m \u001b[1;31m##假设我要提取一个图片的特征,报错的原因是 不光要给出输入，神经网络的所有参数都要给\u001b[0m\u001b[1;33m\u001b[0m\u001b[1;33m\u001b[0m\u001b[0m\n\u001b[0;32m      2\u001b[0m \u001b[0mX\u001b[0m\u001b[1;33m=\u001b[0m\u001b[0mmx\u001b[0m\u001b[1;33m.\u001b[0m\u001b[0mnd\u001b[0m\u001b[1;33m.\u001b[0m\u001b[0mrandom\u001b[0m\u001b[1;33m.\u001b[0m\u001b[0muniform\u001b[0m\u001b[1;33m(\u001b[0m\u001b[1;33m-\u001b[0m\u001b[1;36m1\u001b[0m\u001b[1;33m,\u001b[0m\u001b[1;36m1\u001b[0m\u001b[1;33m,\u001b[0m\u001b[0mshape\u001b[0m\u001b[1;33m=\u001b[0m\u001b[1;33m(\u001b[0m\u001b[1;36m32\u001b[0m\u001b[1;33m,\u001b[0m\u001b[1;36m1\u001b[0m\u001b[1;33m,\u001b[0m\u001b[1;36m28\u001b[0m\u001b[1;33m,\u001b[0m\u001b[1;36m28\u001b[0m\u001b[1;33m)\u001b[0m\u001b[1;33m)\u001b[0m\u001b[1;33m\u001b[0m\u001b[0m\n\u001b[1;32m----> 3\u001b[1;33m \u001b[0mex\u001b[0m\u001b[1;33m=\u001b[0m\u001b[0mfc2\u001b[0m\u001b[1;33m.\u001b[0m\u001b[0mbind\u001b[0m\u001b[1;33m(\u001b[0m\u001b[0mctx\u001b[0m\u001b[1;33m=\u001b[0m\u001b[0mmx\u001b[0m\u001b[1;33m.\u001b[0m\u001b[0mcpu\u001b[0m\u001b[1;33m(\u001b[0m\u001b[1;33m)\u001b[0m\u001b[1;33m,\u001b[0m\u001b[0margs\u001b[0m\u001b[1;33m=\u001b[0m\u001b[1;33m{\u001b[0m\u001b[1;34m'data'\u001b[0m\u001b[1;33m:\u001b[0m\u001b[0mX\u001b[0m\u001b[1;33m}\u001b[0m\u001b[1;33m)\u001b[0m\u001b[1;33m\u001b[0m\u001b[0m\n\u001b[0m\u001b[0;32m      4\u001b[0m \u001b[0mout\u001b[0m\u001b[1;33m=\u001b[0m\u001b[0mex\u001b[0m\u001b[1;33m.\u001b[0m\u001b[0mforward\u001b[0m\u001b[1;33m(\u001b[0m\u001b[1;33m)\u001b[0m\u001b[1;33m\u001b[0m\u001b[0m\n",
      "\u001b[1;32m/home/zhangxk/AIProject/incubator-mxnet/python/mxnet/symbol/symbol.py\u001b[0m in \u001b[0;36mbind\u001b[1;34m(self, ctx, args, args_grad, grad_req, aux_states, group2ctx, shared_exec)\u001b[0m\n\u001b[0;32m   1749\u001b[0m \u001b[1;33m\u001b[0m\u001b[0m\n\u001b[0;32m   1750\u001b[0m         \u001b[0mlisted_arguments\u001b[0m \u001b[1;33m=\u001b[0m \u001b[0mself\u001b[0m\u001b[1;33m.\u001b[0m\u001b[0mlist_arguments\u001b[0m\u001b[1;33m(\u001b[0m\u001b[1;33m)\u001b[0m\u001b[1;33m\u001b[0m\u001b[0m\n\u001b[1;32m-> 1751\u001b[1;33m         \u001b[0margs_handle\u001b[0m\u001b[1;33m,\u001b[0m \u001b[0margs\u001b[0m \u001b[1;33m=\u001b[0m \u001b[0mself\u001b[0m\u001b[1;33m.\u001b[0m\u001b[0m_get_ndarray_inputs\u001b[0m\u001b[1;33m(\u001b[0m\u001b[1;34m'args'\u001b[0m\u001b[1;33m,\u001b[0m \u001b[0margs\u001b[0m\u001b[1;33m,\u001b[0m \u001b[0mlisted_arguments\u001b[0m\u001b[1;33m,\u001b[0m \u001b[1;32mFalse\u001b[0m\u001b[1;33m)\u001b[0m\u001b[1;33m\u001b[0m\u001b[0m\n\u001b[0m\u001b[0;32m   1752\u001b[0m         \u001b[1;31m# setup args gradient\u001b[0m\u001b[1;33m\u001b[0m\u001b[1;33m\u001b[0m\u001b[0m\n\u001b[0;32m   1753\u001b[0m         \u001b[1;32mif\u001b[0m \u001b[0margs_grad\u001b[0m \u001b[1;32mis\u001b[0m \u001b[1;32mNone\u001b[0m\u001b[1;33m:\u001b[0m\u001b[1;33m\u001b[0m\u001b[0m\n",
      "\u001b[1;32m/home/zhangxk/AIProject/incubator-mxnet/python/mxnet/symbol/symbol.py\u001b[0m in \u001b[0;36m_get_ndarray_inputs\u001b[1;34m(arg_key, args, arg_names, allow_missing)\u001b[0m\n\u001b[0;32m   1379\u001b[0m                         \u001b[0marg_arrays\u001b[0m\u001b[1;33m.\u001b[0m\u001b[0mappend\u001b[0m\u001b[1;33m(\u001b[0m\u001b[1;32mNone\u001b[0m\u001b[1;33m)\u001b[0m\u001b[1;33m\u001b[0m\u001b[0m\n\u001b[0;32m   1380\u001b[0m                     \u001b[1;32melse\u001b[0m\u001b[1;33m:\u001b[0m\u001b[1;33m\u001b[0m\u001b[0m\n\u001b[1;32m-> 1381\u001b[1;33m                         \u001b[1;32mraise\u001b[0m \u001b[0mValueError\u001b[0m\u001b[1;33m(\u001b[0m\u001b[1;34m'key `%s` is missing in `%s`'\u001b[0m \u001b[1;33m%\u001b[0m \u001b[1;33m(\u001b[0m\u001b[0mname\u001b[0m\u001b[1;33m,\u001b[0m \u001b[0marg_key\u001b[0m\u001b[1;33m)\u001b[0m\u001b[1;33m)\u001b[0m\u001b[1;33m\u001b[0m\u001b[0m\n\u001b[0m\u001b[0;32m   1382\u001b[0m         \u001b[1;32melse\u001b[0m\u001b[1;33m:\u001b[0m\u001b[1;33m\u001b[0m\u001b[0m\n\u001b[0;32m   1383\u001b[0m             \u001b[1;32mraise\u001b[0m \u001b[0mTypeError\u001b[0m\u001b[1;33m(\u001b[0m\u001b[1;34m'Only accept list of NDArrays or dict of str to NDArray'\u001b[0m\u001b[1;33m)\u001b[0m\u001b[1;33m\u001b[0m\u001b[0m\n",
      "\u001b[1;31mValueError\u001b[0m: key `conv1_weight` is missing in `args`"
     ]
    }
   ],
   "source": [
    "##假设我要提取一个图片的特征,报错的原因是 不光要给出输入，神经网络的所有参数都要给\n",
    "X=mx.nd.random.uniform(-1,1,shape=(32,1,28,28))\n",
    "ex=fc2.bind(ctx=mx.cpu(),args={'data':X})\n",
    "out=ex.forward()"
   ]
  },
  {
   "cell_type": "code",
   "execution_count": 124,
   "metadata": {
    "collapsed": false
   },
   "outputs": [
    {
     "data": {
      "text/plain": [
       "[\n",
       " [[[[ 0.69630075 -0.89498365  0.87166417 ... -0.8068742  -0.66194916\n",
       "      0.96986663]\n",
       "    [ 0.7191616   0.79316247 -0.88293016 ... -0.75231117 -0.31056374\n",
       "      0.7135105 ]\n",
       "    [ 0.42753375 -0.20066524  0.27837384 ...  0.13710845 -0.47690088\n",
       "      0.21288359]\n",
       "    ...\n",
       "    [ 0.6199442  -0.47336912  0.6095458  ... -0.34200084 -0.6593443\n",
       "     -0.42797524]\n",
       "    [-0.41145414  0.23743677  0.79192305 ... -0.8633542  -0.42676258\n",
       "     -0.41481584]\n",
       "    [-0.5107957   0.25488818  0.64261866 ... -0.06767911  0.27274096\n",
       "      0.5160016 ]]]\n",
       " \n",
       " \n",
       "  [[[ 0.75994015 -0.04824042  0.17390883 ... -0.6222601  -0.78107905\n",
       "      0.2089845 ]\n",
       "    [-0.09266192  0.64204085  0.22414672 ...  0.24132788  0.31928217\n",
       "     -0.20270061]\n",
       "    [-0.44691855  0.35155344  0.3658179  ... -0.16626608 -0.74561745\n",
       "      0.8422862 ]\n",
       "    ...\n",
       "    [ 0.9470278  -0.2285642   0.614344   ... -0.38765383 -0.22872853\n",
       "     -0.29198664]\n",
       "    [-0.07673442 -0.99498487 -0.34077865 ...  0.15067232  0.7649764\n",
       "      0.30045342]\n",
       "    [ 0.47366405 -0.30154675 -0.4070496  ...  0.67658484 -0.8244675\n",
       "     -0.23574662]]]\n",
       " \n",
       " \n",
       "  [[[-0.38577175 -0.03977853  0.96379924 ...  0.07975173  0.20724821\n",
       "     -0.31963545]\n",
       "    [-0.90455437 -0.16417849 -0.7804876  ... -0.16456217  0.9476626\n",
       "      0.45852423]\n",
       "    [ 0.06948018  0.3711151   0.87500215 ... -0.7685124  -0.25163078\n",
       "      0.29221177]\n",
       "    ...\n",
       "    [-0.9149273   0.6051533  -0.5697049  ...  0.8349794   0.24333227\n",
       "      0.83189845]\n",
       "    [ 0.2005043  -0.53573704 -0.32726473 ... -0.5103027  -0.43969107\n",
       "      0.38243473]\n",
       "    [-0.17155379  0.35471117  0.82037306 ...  0.5337918  -0.35015273\n",
       "      0.18664372]]]\n",
       " \n",
       " \n",
       "  ...\n",
       " \n",
       " \n",
       "  [[[-0.14119506 -0.84677565 -0.2015025  ...  0.00776052  0.86671376\n",
       "     -0.4170419 ]\n",
       "    [ 0.81341887  0.9886496  -0.08977842 ...  0.67323685  0.2327677\n",
       "     -0.4450057 ]\n",
       "    [-0.47615665  0.96895385 -0.49695742 ... -0.65272075 -0.5557513\n",
       "      0.97062314]\n",
       "    ...\n",
       "    [-0.43684852  0.2719761   0.516124   ...  0.59720683  0.07568717\n",
       "     -0.76917875]\n",
       "    [ 0.1882689   0.8227174   0.14934528 ...  0.4540764   0.06637788\n",
       "      0.08563459]\n",
       "    [-0.99344736 -0.11893034 -0.845579   ... -0.20746255 -0.76614535\n",
       "      0.8365258 ]]]\n",
       " \n",
       " \n",
       "  [[[ 0.6459464  -0.92746043  0.0049926  ...  0.26043987  0.21745837\n",
       "     -0.06010026]\n",
       "    [ 0.00959468  0.416301   -0.6214787  ...  0.41552746 -0.38426495\n",
       "     -0.2556259 ]\n",
       "    [-0.25350267 -0.59153855  0.15854764 ...  0.89776015 -0.5664544\n",
       "      0.14488292]\n",
       "    ...\n",
       "    [-0.1166026   0.29845905  0.00662661 ... -0.20655894 -0.9864043\n",
       "      0.34322202]\n",
       "    [ 0.48060155  0.24047995  0.654883   ... -0.5958109  -0.02229655\n",
       "      0.41620386]\n",
       "    [ 0.6809263   0.59126866  0.01804686 ... -0.8827188  -0.6824149\n",
       "      0.89983   ]]]\n",
       " \n",
       " \n",
       "  [[[-0.09322262 -0.02634132  0.9715984  ... -0.00427294  0.9423106\n",
       "      0.12711167]\n",
       "    [-0.77589107 -0.4251833   0.76075256 ...  0.2734158   0.5918362\n",
       "     -0.820391  ]\n",
       "    [-0.41462994  0.7357844  -0.77203953 ... -0.6770469   0.9121926\n",
       "      0.94154036]\n",
       "    ...\n",
       "    [ 0.76185787 -0.38773572 -0.9376137  ... -0.8656374  -0.46575826\n",
       "     -0.79264927]\n",
       "    [ 0.71429205  0.6098734   0.8105825  ... -0.83678985  0.3288002\n",
       "      0.6797303 ]\n",
       "    [-0.8988336  -0.59644306 -0.17992222 ...  0.63512504  0.19168818\n",
       "     -0.991666  ]]]]\n",
       " <NDArray 32x1x28x28 @cpu(0)>, \n",
       " [[[[0. 0. 0. 0. 0.]\n",
       "    [0. 0. 0. 0. 0.]\n",
       "    [0. 0. 0. 0. 0.]\n",
       "    [0. 0. 0. 0. 0.]\n",
       "    [0. 0. 0. 0. 0.]]]\n",
       " \n",
       " \n",
       "  [[[0. 0. 0. 0. 0.]\n",
       "    [0. 0. 0. 0. 0.]\n",
       "    [0. 0. 0. 0. 0.]\n",
       "    [0. 0. 0. 0. 0.]\n",
       "    [0. 0. 0. 0. 0.]]]\n",
       " \n",
       " \n",
       "  [[[0. 0. 0. 0. 0.]\n",
       "    [0. 0. 0. 0. 0.]\n",
       "    [0. 0. 0. 0. 0.]\n",
       "    [0. 0. 0. 0. 0.]\n",
       "    [0. 0. 0. 0. 0.]]]\n",
       " \n",
       " \n",
       "  [[[0. 0. 0. 0. 0.]\n",
       "    [0. 0. 0. 0. 0.]\n",
       "    [0. 0. 0. 0. 0.]\n",
       "    [0. 0. 0. 0. 0.]\n",
       "    [0. 0. 0. 0. 0.]]]\n",
       " \n",
       " \n",
       "  [[[0. 0. 0. 0. 0.]\n",
       "    [0. 0. 0. 0. 0.]\n",
       "    [0. 0. 0. 0. 0.]\n",
       "    [0. 0. 0. 0. 0.]\n",
       "    [0. 0. 0. 0. 0.]]]\n",
       " \n",
       " \n",
       "  [[[0. 0. 0. 0. 0.]\n",
       "    [0. 0. 0. 0. 0.]\n",
       "    [0. 0. 0. 0. 0.]\n",
       "    [0. 0. 0. 0. 0.]\n",
       "    [0. 0. 0. 0. 0.]]]\n",
       " \n",
       " \n",
       "  [[[0. 0. 0. 0. 0.]\n",
       "    [0. 0. 0. 0. 0.]\n",
       "    [0. 0. 0. 0. 0.]\n",
       "    [0. 0. 0. 0. 0.]\n",
       "    [0. 0. 0. 0. 0.]]]\n",
       " \n",
       " \n",
       "  [[[0. 0. 0. 0. 0.]\n",
       "    [0. 0. 0. 0. 0.]\n",
       "    [0. 0. 0. 0. 0.]\n",
       "    [0. 0. 0. 0. 0.]\n",
       "    [0. 0. 0. 0. 0.]]]\n",
       " \n",
       " \n",
       "  [[[0. 0. 0. 0. 0.]\n",
       "    [0. 0. 0. 0. 0.]\n",
       "    [0. 0. 0. 0. 0.]\n",
       "    [0. 0. 0. 0. 0.]\n",
       "    [0. 0. 0. 0. 0.]]]\n",
       " \n",
       " \n",
       "  [[[0. 0. 0. 0. 0.]\n",
       "    [0. 0. 0. 0. 0.]\n",
       "    [0. 0. 0. 0. 0.]\n",
       "    [0. 0. 0. 0. 0.]\n",
       "    [0. 0. 0. 0. 0.]]]\n",
       " \n",
       " \n",
       "  [[[0. 0. 0. 0. 0.]\n",
       "    [0. 0. 0. 0. 0.]\n",
       "    [0. 0. 0. 0. 0.]\n",
       "    [0. 0. 0. 0. 0.]\n",
       "    [0. 0. 0. 0. 0.]]]\n",
       " \n",
       " \n",
       "  [[[0. 0. 0. 0. 0.]\n",
       "    [0. 0. 0. 0. 0.]\n",
       "    [0. 0. 0. 0. 0.]\n",
       "    [0. 0. 0. 0. 0.]\n",
       "    [0. 0. 0. 0. 0.]]]]\n",
       " <NDArray 12x1x5x5 @cpu(0)>, \n",
       " [0. 0. 0. 0. 0. 0. 0. 0. 0. 0. 0. 0.]\n",
       " <NDArray 12 @cpu(0)>, \n",
       " [[[[0. 0. 0.]\n",
       "    [0. 0. 0.]\n",
       "    [0. 0. 0.]]\n",
       " \n",
       "   [[0. 0. 0.]\n",
       "    [0. 0. 0.]\n",
       "    [0. 0. 0.]]\n",
       " \n",
       "   [[0. 0. 0.]\n",
       "    [0. 0. 0.]\n",
       "    [0. 0. 0.]]\n",
       " \n",
       "   ...\n",
       " \n",
       "   [[0. 0. 0.]\n",
       "    [0. 0. 0.]\n",
       "    [0. 0. 0.]]\n",
       " \n",
       "   [[0. 0. 0.]\n",
       "    [0. 0. 0.]\n",
       "    [0. 0. 0.]]\n",
       " \n",
       "   [[0. 0. 0.]\n",
       "    [0. 0. 0.]\n",
       "    [0. 0. 0.]]]\n",
       " \n",
       " \n",
       "  [[[0. 0. 0.]\n",
       "    [0. 0. 0.]\n",
       "    [0. 0. 0.]]\n",
       " \n",
       "   [[0. 0. 0.]\n",
       "    [0. 0. 0.]\n",
       "    [0. 0. 0.]]\n",
       " \n",
       "   [[0. 0. 0.]\n",
       "    [0. 0. 0.]\n",
       "    [0. 0. 0.]]\n",
       " \n",
       "   ...\n",
       " \n",
       "   [[0. 0. 0.]\n",
       "    [0. 0. 0.]\n",
       "    [0. 0. 0.]]\n",
       " \n",
       "   [[0. 0. 0.]\n",
       "    [0. 0. 0.]\n",
       "    [0. 0. 0.]]\n",
       " \n",
       "   [[0. 0. 0.]\n",
       "    [0. 0. 0.]\n",
       "    [0. 0. 0.]]]\n",
       " \n",
       " \n",
       "  [[[0. 0. 0.]\n",
       "    [0. 0. 0.]\n",
       "    [0. 0. 0.]]\n",
       " \n",
       "   [[0. 0. 0.]\n",
       "    [0. 0. 0.]\n",
       "    [0. 0. 0.]]\n",
       " \n",
       "   [[0. 0. 0.]\n",
       "    [0. 0. 0.]\n",
       "    [0. 0. 0.]]\n",
       " \n",
       "   ...\n",
       " \n",
       "   [[0. 0. 0.]\n",
       "    [0. 0. 0.]\n",
       "    [0. 0. 0.]]\n",
       " \n",
       "   [[0. 0. 0.]\n",
       "    [0. 0. 0.]\n",
       "    [0. 0. 0.]]\n",
       " \n",
       "   [[0. 0. 0.]\n",
       "    [0. 0. 0.]\n",
       "    [0. 0. 0.]]]\n",
       " \n",
       " \n",
       "  ...\n",
       " \n",
       " \n",
       "  [[[0. 0. 0.]\n",
       "    [0. 0. 0.]\n",
       "    [0. 0. 0.]]\n",
       " \n",
       "   [[0. 0. 0.]\n",
       "    [0. 0. 0.]\n",
       "    [0. 0. 0.]]\n",
       " \n",
       "   [[0. 0. 0.]\n",
       "    [0. 0. 0.]\n",
       "    [0. 0. 0.]]\n",
       " \n",
       "   ...\n",
       " \n",
       "   [[0. 0. 0.]\n",
       "    [0. 0. 0.]\n",
       "    [0. 0. 0.]]\n",
       " \n",
       "   [[0. 0. 0.]\n",
       "    [0. 0. 0.]\n",
       "    [0. 0. 0.]]\n",
       " \n",
       "   [[0. 0. 0.]\n",
       "    [0. 0. 0.]\n",
       "    [0. 0. 0.]]]\n",
       " \n",
       " \n",
       "  [[[0. 0. 0.]\n",
       "    [0. 0. 0.]\n",
       "    [0. 0. 0.]]\n",
       " \n",
       "   [[0. 0. 0.]\n",
       "    [0. 0. 0.]\n",
       "    [0. 0. 0.]]\n",
       " \n",
       "   [[0. 0. 0.]\n",
       "    [0. 0. 0.]\n",
       "    [0. 0. 0.]]\n",
       " \n",
       "   ...\n",
       " \n",
       "   [[0. 0. 0.]\n",
       "    [0. 0. 0.]\n",
       "    [0. 0. 0.]]\n",
       " \n",
       "   [[0. 0. 0.]\n",
       "    [0. 0. 0.]\n",
       "    [0. 0. 0.]]\n",
       " \n",
       "   [[0. 0. 0.]\n",
       "    [0. 0. 0.]\n",
       "    [0. 0. 0.]]]\n",
       " \n",
       " \n",
       "  [[[0. 0. 0.]\n",
       "    [0. 0. 0.]\n",
       "    [0. 0. 0.]]\n",
       " \n",
       "   [[0. 0. 0.]\n",
       "    [0. 0. 0.]\n",
       "    [0. 0. 0.]]\n",
       " \n",
       "   [[0. 0. 0.]\n",
       "    [0. 0. 0.]\n",
       "    [0. 0. 0.]]\n",
       " \n",
       "   ...\n",
       " \n",
       "   [[0. 0. 0.]\n",
       "    [0. 0. 0.]\n",
       "    [0. 0. 0.]]\n",
       " \n",
       "   [[0. 0. 0.]\n",
       "    [0. 0. 0.]\n",
       "    [0. 0. 0.]]\n",
       " \n",
       "   [[0. 0. 0.]\n",
       "    [0. 0. 0.]\n",
       "    [0. 0. 0.]]]]\n",
       " <NDArray 36x12x3x3 @cpu(0)>, \n",
       " [0. 0. 0. 0. 0. 0. 0. 0. 0. 0. 0. 0. 0. 0. 0. 0. 0. 0. 0. 0. 0. 0. 0. 0.\n",
       "  0. 0. 0. 0. 0. 0. 0. 0. 0. 0. 0. 0.]\n",
       " <NDArray 36 @cpu(0)>, \n",
       " [[0. 0. 0. ... 0. 0. 0.]\n",
       "  [0. 0. 0. ... 0. 0. 0.]\n",
       "  [0. 0. 0. ... 0. 0. 0.]\n",
       "  ...\n",
       "  [0. 0. 0. ... 0. 0. 0.]\n",
       "  [0. 0. 0. ... 0. 0. 0.]\n",
       "  [0. 0. 0. ... 0. 0. 0.]]\n",
       " <NDArray 128x576 @cpu(0)>, \n",
       " [0. 0. 0. 0. 0. 0. 0. 0. 0. 0. 0. 0. 0. 0. 0. 0. 0. 0. 0. 0. 0. 0. 0. 0.\n",
       "  0. 0. 0. 0. 0. 0. 0. 0. 0. 0. 0. 0. 0. 0. 0. 0. 0. 0. 0. 0. 0. 0. 0. 0.\n",
       "  0. 0. 0. 0. 0. 0. 0. 0. 0. 0. 0. 0. 0. 0. 0. 0. 0. 0. 0. 0. 0. 0. 0. 0.\n",
       "  0. 0. 0. 0. 0. 0. 0. 0. 0. 0. 0. 0. 0. 0. 0. 0. 0. 0. 0. 0. 0. 0. 0. 0.\n",
       "  0. 0. 0. 0. 0. 0. 0. 0. 0. 0. 0. 0. 0. 0. 0. 0. 0. 0. 0. 0. 0. 0. 0. 0.\n",
       "  0. 0. 0. 0. 0. 0. 0. 0.]\n",
       " <NDArray 128 @cpu(0)>, \n",
       " [[0. 0. 0. ... 0. 0. 0.]\n",
       "  [0. 0. 0. ... 0. 0. 0.]\n",
       "  [0. 0. 0. ... 0. 0. 0.]\n",
       "  ...\n",
       "  [0. 0. 0. ... 0. 0. 0.]\n",
       "  [0. 0. 0. ... 0. 0. 0.]\n",
       "  [0. 0. 0. ... 0. 0. 0.]]\n",
       " <NDArray 10x128 @cpu(0)>, \n",
       " [0. 0. 0. 0. 0. 0. 0. 0. 0. 0.]\n",
       " <NDArray 10 @cpu(0)>]"
      ]
     },
     "execution_count": 124,
     "metadata": {},
     "output_type": "execute_result"
    }
   ],
   "source": [
    "##使用simple_bind就会字段创建变量\n",
    "X=mx.nd.random.uniform(-1,1,shape=(32,1,28,28))\n",
    "ex=fc2.simple_bind(ctx=mx.cpu(),data=(32,1,28,28),grad_req='null')\n",
    "out=ex.forward(False,data=X)\n",
    "# out[0].asnumpy()\n",
    "# ex.arg_arrays"
   ]
  },
  {
   "cell_type": "code",
   "execution_count": 9,
   "metadata": {
    "collapsed": false
   },
   "outputs": [
    {
     "data": {
      "image/svg+xml": [
       "<?xml version=\"1.0\" encoding=\"UTF-8\" standalone=\"no\"?>\n",
       "<!DOCTYPE svg PUBLIC \"-//W3C//DTD SVG 1.1//EN\"\n",
       " \"http://www.w3.org/Graphics/SVG/1.1/DTD/svg11.dtd\">\n",
       "<!-- Generated by graphviz version 2.38.0 (20140413.2041)\n",
       " -->\n",
       "<!-- Title: plot Pages: 1 -->\n",
       "<svg width=\"256pt\" height=\"502pt\"\n",
       " viewBox=\"0.00 0.00 256.17 502.00\" xmlns=\"http://www.w3.org/2000/svg\" xmlns:xlink=\"http://www.w3.org/1999/xlink\">\n",
       "<g id=\"graph0\" class=\"graph\" transform=\"scale(1 1) rotate(0) translate(4 498)\">\n",
       "<title>plot</title>\n",
       "<polygon fill=\"white\" stroke=\"none\" points=\"-4,4 -4,-498 252.169,-498 252.169,4 -4,4\"/>\n",
       "<!-- data -->\n",
       "<g id=\"node1\" class=\"node\"><title>data</title>\n",
       "<ellipse fill=\"#8dd3c7\" stroke=\"black\" cx=\"68.1686\" cy=\"-29\" rx=\"47\" ry=\"29\"/>\n",
       "<text text-anchor=\"middle\" x=\"68.1686\" y=\"-25.3\" font-family=\"Times,serif\" font-size=\"14.00\">data</text>\n",
       "</g>\n",
       "<!-- fc1 -->\n",
       "<g id=\"node2\" class=\"node\"><title>fc1</title>\n",
       "<ellipse fill=\"#fb8072\" stroke=\"black\" cx=\"68.1686\" cy=\"-138\" rx=\"68.3377\" ry=\"29\"/>\n",
       "<text text-anchor=\"middle\" x=\"68.1686\" y=\"-141.8\" font-family=\"Times,serif\" font-size=\"14.00\">FullyConnected</text>\n",
       "<text text-anchor=\"middle\" x=\"68.1686\" y=\"-126.8\" font-family=\"Times,serif\" font-size=\"14.00\">128</text>\n",
       "</g>\n",
       "<!-- fc1&#45;&gt;data -->\n",
       "<g id=\"edge1\" class=\"edge\"><title>fc1&#45;&gt;data</title>\n",
       "<path fill=\"none\" stroke=\"black\" d=\"M68.1686,-98.5824C68.1686,-85.2841 68.1686,-70.632 68.1686,-58.2967\"/>\n",
       "<polygon fill=\"black\" stroke=\"black\" points=\"68.1686,-108.887 63.6687,-98.887 68.1687,-103.887 68.1687,-98.887 68.1687,-98.887 68.1687,-98.887 68.1687,-103.887 72.6687,-98.8871 68.1686,-108.887 68.1686,-108.887\"/>\n",
       "<text text-anchor=\"middle\" x=\"78.6686\" y=\"-79.8\" font-family=\"Times,serif\" font-size=\"14.00\">200</text>\n",
       "</g>\n",
       "<!-- relu1 -->\n",
       "<g id=\"node3\" class=\"node\"><title>relu1</title>\n",
       "<ellipse fill=\"#ffffb3\" stroke=\"black\" cx=\"68.1686\" cy=\"-247\" rx=\"48.9511\" ry=\"29\"/>\n",
       "<text text-anchor=\"middle\" x=\"68.1686\" y=\"-250.8\" font-family=\"Times,serif\" font-size=\"14.00\">Activation</text>\n",
       "<text text-anchor=\"middle\" x=\"68.1686\" y=\"-235.8\" font-family=\"Times,serif\" font-size=\"14.00\">relu</text>\n",
       "</g>\n",
       "<!-- relu1&#45;&gt;fc1 -->\n",
       "<g id=\"edge2\" class=\"edge\"><title>relu1&#45;&gt;fc1</title>\n",
       "<path fill=\"none\" stroke=\"black\" d=\"M68.1686,-207.582C68.1686,-194.284 68.1686,-179.632 68.1686,-167.297\"/>\n",
       "<polygon fill=\"black\" stroke=\"black\" points=\"68.1686,-217.887 63.6687,-207.887 68.1687,-212.887 68.1687,-207.887 68.1687,-207.887 68.1687,-207.887 68.1687,-212.887 72.6687,-207.887 68.1686,-217.887 68.1686,-217.887\"/>\n",
       "<text text-anchor=\"middle\" x=\"78.6686\" y=\"-188.8\" font-family=\"Times,serif\" font-size=\"14.00\">128</text>\n",
       "</g>\n",
       "<!-- fc2 -->\n",
       "<g id=\"node4\" class=\"node\"><title>fc2</title>\n",
       "<ellipse fill=\"#fb8072\" stroke=\"black\" cx=\"68.1686\" cy=\"-356\" rx=\"68.3377\" ry=\"29\"/>\n",
       "<text text-anchor=\"middle\" x=\"68.1686\" y=\"-359.8\" font-family=\"Times,serif\" font-size=\"14.00\">FullyConnected</text>\n",
       "<text text-anchor=\"middle\" x=\"68.1686\" y=\"-344.8\" font-family=\"Times,serif\" font-size=\"14.00\">10</text>\n",
       "</g>\n",
       "<!-- fc2&#45;&gt;relu1 -->\n",
       "<g id=\"edge3\" class=\"edge\"><title>fc2&#45;&gt;relu1</title>\n",
       "<path fill=\"none\" stroke=\"black\" d=\"M68.1686,-316.582C68.1686,-303.284 68.1686,-288.632 68.1686,-276.297\"/>\n",
       "<polygon fill=\"black\" stroke=\"black\" points=\"68.1686,-326.887 63.6687,-316.887 68.1687,-321.887 68.1687,-316.887 68.1687,-316.887 68.1687,-316.887 68.1687,-321.887 72.6687,-316.887 68.1686,-326.887 68.1686,-326.887\"/>\n",
       "<text text-anchor=\"middle\" x=\"78.6686\" y=\"-297.8\" font-family=\"Times,serif\" font-size=\"14.00\">128</text>\n",
       "</g>\n",
       "<!-- out_label -->\n",
       "<g id=\"node5\" class=\"node\"><title>out_label</title>\n",
       "<ellipse fill=\"#8dd3c7\" stroke=\"black\" cx=\"201.169\" cy=\"-356\" rx=\"47\" ry=\"29\"/>\n",
       "<text text-anchor=\"middle\" x=\"201.169\" y=\"-352.3\" font-family=\"Times,serif\" font-size=\"14.00\">out_label</text>\n",
       "</g>\n",
       "<!-- out -->\n",
       "<g id=\"node6\" class=\"node\"><title>out</title>\n",
       "<ellipse fill=\"#fccde5\" stroke=\"black\" cx=\"160.169\" cy=\"-465\" rx=\"47\" ry=\"29\"/>\n",
       "<text text-anchor=\"middle\" x=\"160.169\" y=\"-461.3\" font-family=\"Times,serif\" font-size=\"14.00\">out</text>\n",
       "</g>\n",
       "<!-- out&#45;&gt;fc2 -->\n",
       "<g id=\"edge4\" class=\"edge\"><title>out&#45;&gt;fc2</title>\n",
       "<path fill=\"none\" stroke=\"black\" d=\"M131.947,-431.176C118.77,-415.852 103.294,-397.853 90.8872,-383.423\"/>\n",
       "<polygon fill=\"black\" stroke=\"black\" points=\"138.599,-438.913 128.667,-434.265 135.339,-435.122 132.079,-431.331 132.079,-431.331 132.079,-431.331 135.339,-435.122 135.491,-428.397 138.599,-438.913 138.599,-438.913\"/>\n",
       "<text text-anchor=\"middle\" x=\"127.169\" y=\"-406.8\" font-family=\"Times,serif\" font-size=\"14.00\">10</text>\n",
       "</g>\n",
       "<!-- out&#45;&gt;out_label -->\n",
       "<g id=\"edge5\" class=\"edge\"><title>out&#45;&gt;out_label</title>\n",
       "<path fill=\"none\" stroke=\"black\" d=\"M174.211,-427.354C179.578,-413.347 185.602,-397.624 190.593,-384.6\"/>\n",
       "<polygon fill=\"black\" stroke=\"black\" points=\"170.621,-436.723 169.997,-425.774 172.41,-432.054 174.199,-427.385 174.199,-427.385 174.199,-427.385 172.41,-432.054 178.401,-428.995 170.621,-436.723 170.621,-436.723\"/>\n",
       "</g>\n",
       "</g>\n",
       "</svg>\n"
      ],
      "text/plain": [
       "<graphviz.dot.Digraph at 0x7f06ba66ecc0>"
      ]
     },
     "execution_count": 9,
     "metadata": {},
     "output_type": "execute_result"
    }
   ],
   "source": [
    "net = mx.sym.Variable('data')\n",
    "net = mx.sym.FullyConnected(data=net, name='fc1', num_hidden=128)\n",
    "net = mx.sym.Activation(data=net, name='relu1', act_type=\"relu\")\n",
    "net = mx.sym.FullyConnected(data=net, name='fc2', num_hidden=10)\n",
    "net = mx.sym.SoftmaxOutput(data=net, name='out')\n",
    "mx.viz.plot_network(net,\n",
    "                    shape={'data':(100, 200)},\n",
    "                    node_attrs={\"shape\": \"oval\", \"fixedsize\": \"false\"}\n",
    "                   )"
   ]
  },
  {
   "cell_type": "markdown",
   "metadata": {},
   "source": [
    "Each `Symbol` takes a unique string name. `NDArray` and `Symbol` both represent a single tensor. *Operators* represent the computation between tensors. Operators take `Symbol` or `NDArray` as inputs and might also additionally accept other hyperparameters such as the number of hidden neurons (`num_hidden`) or the activation type (`act_type`) and produce the output.\n",
    "\n",
    "We can view a `Symbol` simply as a function taking several arguments. And we can retrieve those arguments with the following method call:"
   ]
  },
  {
   "cell_type": "code",
   "execution_count": 10,
   "metadata": {
    "collapsed": false
   },
   "outputs": [
    {
     "data": {
      "text/plain": [
       "['data', 'fc1_weight', 'fc1_bias', 'fc2_weight', 'fc2_bias', 'out_label']"
      ]
     },
     "execution_count": 10,
     "metadata": {},
     "output_type": "execute_result"
    }
   ],
   "source": [
    "net.list_arguments()"
   ]
  },
  {
   "cell_type": "markdown",
   "metadata": {},
   "source": [
    "These arguments are the parameters and inputs needed by each `Symbol`:\n",
    "\n",
    "- *data*: Input data needed by the variable *data*.\n",
    "- *fc1_weight* and *fc1_bias*: The weight and bias for the first fully connected layer *fc1*.\n",
    "- *fc2_weight* and *fc2_bias*: The weight and bias for the second fully connected layer *fc2*.\n",
    "- *out_label*: The label needed by the loss.\n",
    "\n",
    "We can also specify the names explicitly:"
   ]
  },
  {
   "cell_type": "code",
   "execution_count": 13,
   "metadata": {
    "collapsed": false
   },
   "outputs": [
    {
     "data": {
      "text/plain": [
       "['data', 'myweight', 'fc1_bias']"
      ]
     },
     "execution_count": 13,
     "metadata": {},
     "output_type": "execute_result"
    }
   ],
   "source": [
    "net = mx.symbol.Variable('data')\n",
    "w = mx.symbol.Variable('myweight')\n",
    "net = mx.symbol.FullyConnected(data=net, weight=w, name='fc1', num_hidden=128)\n",
    "net.list_arguments()"
   ]
  },
  {
   "cell_type": "code",
   "execution_count": 14,
   "metadata": {
    "collapsed": false
   },
   "outputs": [
    {
     "data": {
      "text/plain": [
       "['cv1_data', 'cv1_weight', 'cv1_bias']"
      ]
     },
     "execution_count": 14,
     "metadata": {},
     "output_type": "execute_result"
    }
   ],
   "source": [
    "conv=mx.symbol.Convolution(name='cv1',num_filter=32,kernel=(3,3),stride=(2,2))\n",
    "conv.list_arguments()"
   ]
  },
  {
   "cell_type": "markdown",
   "metadata": {},
   "source": [
    "### 练习 Parameter relu"
   ]
  },
  {
   "cell_type": "code",
   "execution_count": 17,
   "metadata": {
    "collapsed": false
   },
   "outputs": [
    {
     "data": {
      "text/plain": [
       "['my', 'leakyrelu0_gamma']"
      ]
     },
     "execution_count": 17,
     "metadata": {},
     "output_type": "execute_result"
    }
   ],
   "source": [
    "indata=mx.symbol.Variable(name='my',shape=(100,3,32,32))\n",
    "ac=mx.symbol.LeakyReLU(data=indata,act_type='prelu')\n",
    "ac.list_arguments()\n",
    "# mx.viz.plot_network(ac,node_attrs={'shape':'oval'},shape={'my':(100,3,32,32)})"
   ]
  },
  {
   "cell_type": "markdown",
   "metadata": {},
   "source": [
    "In the above example, `FullyConnected` layer has 3 inputs: data, weight, bias. When any input is not specified, a variable will be automatically generated for it.\n",
    "\n",
    "## More Complicated Composition\n",
    "\n",
    "MXNet provides well-optimized Symbols for layers commonly used in deep learning (see [src/operator](https://github.com/dmlc/mxnet/tree/master/src/operator)). We can also define new operators in Python. The following example first\n",
    "performs an element-wise add between two Symbols, then feeds them to the fully connected operator:"
   ]
  },
  {
   "cell_type": "code",
   "execution_count": 18,
   "metadata": {
    "collapsed": false
   },
   "outputs": [
    {
     "data": {
      "text/plain": [
       "['data1', 'data2', 'fc1_weight', 'fc1_bias']"
      ]
     },
     "execution_count": 18,
     "metadata": {},
     "output_type": "execute_result"
    }
   ],
   "source": [
    "lhs = mx.symbol.Variable('data1')\n",
    "rhs = mx.symbol.Variable('data2')\n",
    "net = mx.symbol.FullyConnected(data=lhs + rhs, name='fc1', num_hidden=128)\n",
    "net.list_arguments()\n",
    "# mx.viz.plot_network(net,node_attrs={'shape':'oval'})"
   ]
  },
  {
   "cell_type": "markdown",
   "metadata": {},
   "source": [
    "We can also construct a `Symbol` in a more flexible way than the single forward composition depicted in the preceding example:"
   ]
  },
  {
   "cell_type": "code",
   "execution_count": 10,
   "metadata": {
    "collapsed": false
   },
   "outputs": [
    {
     "data": {
      "image/svg+xml": [
       "<?xml version=\"1.0\" encoding=\"UTF-8\" standalone=\"no\"?>\n",
       "<!DOCTYPE svg PUBLIC \"-//W3C//DTD SVG 1.1//EN\"\n",
       " \"http://www.w3.org/Graphics/SVG/1.1/DTD/svg11.dtd\">\n",
       "<!-- Generated by graphviz version 2.38.0 (20140413.2041)\n",
       " -->\n",
       "<!-- Title: plot Pages: 1 -->\n",
       "<svg width=\"102pt\" height=\"254pt\"\n",
       " viewBox=\"0.00 0.00 102.00 254.00\" xmlns=\"http://www.w3.org/2000/svg\" xmlns:xlink=\"http://www.w3.org/1999/xlink\">\n",
       "<g id=\"graph0\" class=\"graph\" transform=\"scale(1 1) rotate(0) translate(4 250)\">\n",
       "<title>plot</title>\n",
       "<polygon fill=\"white\" stroke=\"none\" points=\"-4,4 -4,-250 98,-250 98,4 -4,4\"/>\n",
       "<!-- data -->\n",
       "<g id=\"node1\" class=\"node\"><title>data</title>\n",
       "<ellipse fill=\"#8dd3c7\" stroke=\"black\" cx=\"47\" cy=\"-29\" rx=\"47\" ry=\"29\"/>\n",
       "<text text-anchor=\"middle\" x=\"47\" y=\"-25.3\" font-family=\"Times,serif\" font-size=\"14.00\">data</text>\n",
       "</g>\n",
       "<!-- fc1 -->\n",
       "<g id=\"node2\" class=\"node\"><title>fc1</title>\n",
       "<ellipse fill=\"#fb8072\" stroke=\"black\" cx=\"47\" cy=\"-123\" rx=\"47\" ry=\"29\"/>\n",
       "<text text-anchor=\"middle\" x=\"47\" y=\"-126.8\" font-family=\"Times,serif\" font-size=\"14.00\">FullyConnected</text>\n",
       "<text text-anchor=\"middle\" x=\"47\" y=\"-111.8\" font-family=\"Times,serif\" font-size=\"14.00\">10</text>\n",
       "</g>\n",
       "<!-- fc1&#45;&gt;data -->\n",
       "<g id=\"edge1\" class=\"edge\"><title>fc1&#45;&gt;data</title>\n",
       "<path fill=\"none\" stroke=\"black\" d=\"M47,-83.7443C47,-75.2043 47,-66.2977 47,-58.2479\"/>\n",
       "<polygon fill=\"black\" stroke=\"black\" points=\"47,-93.8971 42.5001,-83.897 47,-88.8971 47.0001,-83.8971 47.0001,-83.8971 47.0001,-83.8971 47,-88.8971 51.5001,-83.8971 47,-93.8971 47,-93.8971\"/>\n",
       "</g>\n",
       "<!-- composed -->\n",
       "<g id=\"node3\" class=\"node\"><title>composed</title>\n",
       "<ellipse fill=\"#fb8072\" stroke=\"black\" cx=\"47\" cy=\"-217\" rx=\"47\" ry=\"29\"/>\n",
       "<text text-anchor=\"middle\" x=\"47\" y=\"-220.8\" font-family=\"Times,serif\" font-size=\"14.00\">FullyConnected</text>\n",
       "<text text-anchor=\"middle\" x=\"47\" y=\"-205.8\" font-family=\"Times,serif\" font-size=\"14.00\">10</text>\n",
       "</g>\n",
       "<!-- composed&#45;&gt;fc1 -->\n",
       "<g id=\"edge2\" class=\"edge\"><title>composed&#45;&gt;fc1</title>\n",
       "<path fill=\"none\" stroke=\"black\" d=\"M47,-177.744C47,-169.204 47,-160.298 47,-152.248\"/>\n",
       "<polygon fill=\"black\" stroke=\"black\" points=\"47,-187.897 42.5001,-177.897 47,-182.897 47.0001,-177.897 47.0001,-177.897 47.0001,-177.897 47,-182.897 51.5001,-177.897 47,-187.897 47,-187.897\"/>\n",
       "</g>\n",
       "</g>\n",
       "</svg>\n"
      ],
      "text/plain": [
       "<graphviz.dot.Digraph at 0x7fe650846048>"
      ]
     },
     "execution_count": 10,
     "metadata": {},
     "output_type": "execute_result"
    }
   ],
   "source": [
    "data = mx.symbol.Variable('data')\n",
    "net1 = mx.symbol.FullyConnected(data=data, name='fc1', num_hidden=10)\n",
    "net1.list_arguments()\n",
    "net2 = mx.symbol.Variable('data2')\n",
    "net2 = mx.symbol.FullyConnected(data=net2, name='fc2', num_hidden=10)\n",
    "composed = net2(data2=net1, name='composed')\n",
    "composed.list_arguments()\n",
    "mx.viz.plot_network(composed,node_attrs={'shape':'oval'})"
   ]
  },
  {
   "cell_type": "code",
   "execution_count": 22,
   "metadata": {
    "collapsed": false
   },
   "outputs": [
    {
     "data": {
      "image/svg+xml": [
       "<?xml version=\"1.0\" encoding=\"UTF-8\" standalone=\"no\"?>\n",
       "<!DOCTYPE svg PUBLIC \"-//W3C//DTD SVG 1.1//EN\"\n",
       " \"http://www.w3.org/Graphics/SVG/1.1/DTD/svg11.dtd\">\n",
       "<!-- Generated by graphviz version 2.38.0 (20140413.2041)\n",
       " -->\n",
       "<!-- Title: plot Pages: 1 -->\n",
       "<svg width=\"102pt\" height=\"254pt\"\n",
       " viewBox=\"0.00 0.00 102.00 254.00\" xmlns=\"http://www.w3.org/2000/svg\" xmlns:xlink=\"http://www.w3.org/1999/xlink\">\n",
       "<g id=\"graph0\" class=\"graph\" transform=\"scale(1 1) rotate(0) translate(4 250)\">\n",
       "<title>plot</title>\n",
       "<polygon fill=\"white\" stroke=\"none\" points=\"-4,4 -4,-250 98,-250 98,4 -4,4\"/>\n",
       "<!-- d1 -->\n",
       "<g id=\"node1\" class=\"node\"><title>d1</title>\n",
       "<ellipse fill=\"#8dd3c7\" stroke=\"black\" cx=\"47\" cy=\"-29\" rx=\"47\" ry=\"29\"/>\n",
       "<text text-anchor=\"middle\" x=\"47\" y=\"-25.3\" font-family=\"Times,serif\" font-size=\"14.00\">d1</text>\n",
       "</g>\n",
       "<!-- fullyconnected18 -->\n",
       "<g id=\"node2\" class=\"node\"><title>fullyconnected18</title>\n",
       "<polygon fill=\"#fb8072\" stroke=\"black\" points=\"94,-152 -7.10543e-15,-152 -7.10543e-15,-94 94,-94 94,-152\"/>\n",
       "<text text-anchor=\"middle\" x=\"47\" y=\"-126.8\" font-family=\"Times,serif\" font-size=\"14.00\">FullyConnected</text>\n",
       "<text text-anchor=\"middle\" x=\"47\" y=\"-111.8\" font-family=\"Times,serif\" font-size=\"14.00\">32</text>\n",
       "</g>\n",
       "<!-- fullyconnected18&#45;&gt;d1 -->\n",
       "<g id=\"edge1\" class=\"edge\"><title>fullyconnected18&#45;&gt;d1</title>\n",
       "<path fill=\"none\" stroke=\"black\" d=\"M47,-83.7443C47,-75.2043 47,-66.2977 47,-58.2479\"/>\n",
       "<polygon fill=\"black\" stroke=\"black\" points=\"47,-93.8971 42.5001,-83.897 47,-88.8971 47.0001,-83.8971 47.0001,-83.8971 47.0001,-83.8971 47,-88.8971 51.5001,-83.8971 47,-93.8971 47,-93.8971\"/>\n",
       "</g>\n",
       "<!-- compose -->\n",
       "<g id=\"node3\" class=\"node\"><title>compose</title>\n",
       "<polygon fill=\"#fb8072\" stroke=\"black\" points=\"94,-246 -7.10543e-15,-246 -7.10543e-15,-188 94,-188 94,-246\"/>\n",
       "<text text-anchor=\"middle\" x=\"47\" y=\"-220.8\" font-family=\"Times,serif\" font-size=\"14.00\">FullyConnected</text>\n",
       "<text text-anchor=\"middle\" x=\"47\" y=\"-205.8\" font-family=\"Times,serif\" font-size=\"14.00\">64</text>\n",
       "</g>\n",
       "<!-- compose&#45;&gt;fullyconnected18 -->\n",
       "<g id=\"edge2\" class=\"edge\"><title>compose&#45;&gt;fullyconnected18</title>\n",
       "<path fill=\"none\" stroke=\"black\" d=\"M47,-177.744C47,-169.204 47,-160.298 47,-152.248\"/>\n",
       "<polygon fill=\"black\" stroke=\"black\" points=\"47,-187.897 42.5001,-177.897 47,-182.897 47.0001,-177.897 47.0001,-177.897 47.0001,-177.897 47,-182.897 51.5001,-177.897 47,-187.897 47,-187.897\"/>\n",
       "</g>\n",
       "</g>\n",
       "</svg>\n"
      ],
      "text/plain": [
       "<graphviz.dot.Digraph at 0x7f06ba66ee48>"
      ]
     },
     "execution_count": 22,
     "metadata": {},
     "output_type": "execute_result"
    }
   ],
   "source": [
    "#合成操作，假设有2个不 相关  的网络\n",
    "netA=mx.sym.Variable('d1')\n",
    "netA=mx.sym.FullyConnected(data=netA,num_hidden=32)\n",
    "\n",
    "netB=mx.sym.Variable('d2')\n",
    "netB=mx.sym.FullyConnected(data=netB,num_hidden=64)\n",
    "\n",
    "C=netB(d2=netA,name='compose')\n",
    "mx.viz.plot_network(C)"
   ]
  },
  {
   "cell_type": "markdown",
   "metadata": {},
   "source": [
    "In this example, `net2` is used as a function to apply to an existing `Symbol` `net1`, and the resulting *composed* `Symbol` will have all the attributes of `net1` and `net2`.\n",
    "\n",
    "Once you start building some bigger networks, you might want to name some symbols with a common prefix to outline the structure of your network. You can use the [Prefix class](https://github.com/apache/incubator-mxnet/blob/master/python/mxnet/name.py#L93) as follows:"
   ]
  },
  {
   "cell_type": "code",
   "execution_count": 27,
   "metadata": {
    "collapsed": false
   },
   "outputs": [
    {
     "data": {
      "text/plain": [
       "['input',\n",
       " 'stage1_convolution0_weight',\n",
       " 'stage1_convolution0_bias',\n",
       " 'stage1_batchnorm0_gamma',\n",
       " 'stage1_batchnorm0_beta',\n",
       " 'stage2_convolution0_weight',\n",
       " 'stage2_convolution0_bias',\n",
       " 'stage2_batchnorm0_gamma',\n",
       " 'stage2_batchnorm0_beta',\n",
       " 'stage3_convolution0_weight',\n",
       " 'stage3_convolution0_bias',\n",
       " 'stage3_batchnorm0_gamma',\n",
       " 'stage3_batchnorm0_beta']"
      ]
     },
     "execution_count": 27,
     "metadata": {},
     "output_type": "execute_result"
    }
   ],
   "source": [
    "stages=[1,2,3]\n",
    "net=mx.sym.Variable('input')\n",
    "for s in stages:\n",
    "    with mx.name.Prefix('stage%d_'%(s)):\n",
    "        net=mx.sym.Convolution(net,kernel=(3,3),stride=(2,2),num_filter=(s)*32)\n",
    "        net=mx.sym.Activation(net,act_type='relu')\n",
    "        net=mx.sym.BatchNorm(net)\n",
    "net.list_arguments()"
   ]
  },
  {
   "cell_type": "code",
   "execution_count": 28,
   "metadata": {
    "collapsed": false
   },
   "outputs": [
    {
     "data": {
      "text/plain": [
       "['data',\n",
       " 'layer1_fc_weight',\n",
       " 'layer1_fc_bias',\n",
       " 'layer2_fc_weight',\n",
       " 'layer2_fc_bias']"
      ]
     },
     "execution_count": 28,
     "metadata": {},
     "output_type": "execute_result"
    }
   ],
   "source": [
    "data = mx.sym.Variable(\"data\")\n",
    "net = data\n",
    "n_layer = 2\n",
    "for i in range(n_layer):\n",
    "    with mx.name.Prefix(\"layer%d_\" % (i + 1)):\n",
    "        net = mx.sym.FullyConnected(data=net, name=\"fc\", num_hidden=100)\n",
    "net.list_arguments()"
   ]
  },
  {
   "cell_type": "markdown",
   "metadata": {},
   "source": [
    "### Modularized Construction for Deep Networks\n",
    "\n",
    "Constructing a *deep* network layer by layer, (like the Google Inception network), can be tedious owing to the large number of layers. So, for such networks, we often modularize the construction.\n",
    "\n",
    "For example, in Google Inception network, we can first define a factory function which chains the convolution, batch normalization and rectified linear unit (ReLU) activation layers together."
   ]
  },
  {
   "cell_type": "code",
   "execution_count": 29,
   "metadata": {
    "collapsed": false
   },
   "outputs": [
    {
     "data": {
      "image/svg+xml": [
       "<?xml version=\"1.0\" encoding=\"UTF-8\" standalone=\"no\"?>\n",
       "<!DOCTYPE svg PUBLIC \"-//W3C//DTD SVG 1.1//EN\"\n",
       " \"http://www.w3.org/Graphics/SVG/1.1/DTD/svg11.dtd\">\n",
       "<!-- Generated by graphviz version 2.38.0 (20140413.2041)\n",
       " -->\n",
       "<!-- Title: plot Pages: 1 -->\n",
       "<svg width=\"122pt\" height=\"393pt\"\n",
       " viewBox=\"0.00 0.00 122.38 393.00\" xmlns=\"http://www.w3.org/2000/svg\" xmlns:xlink=\"http://www.w3.org/1999/xlink\">\n",
       "<g id=\"graph0\" class=\"graph\" transform=\"scale(1 1) rotate(0) translate(4 389)\">\n",
       "<title>plot</title>\n",
       "<polygon fill=\"white\" stroke=\"none\" points=\"-4,4 -4,-389 118.378,-389 118.378,4 -4,4\"/>\n",
       "<!-- Previous Output -->\n",
       "<g id=\"node1\" class=\"node\"><title>Previous Output</title>\n",
       "<ellipse fill=\"#8dd3c7\" stroke=\"black\" cx=\"57.1888\" cy=\"-29\" rx=\"57.3782\" ry=\"29\"/>\n",
       "<text text-anchor=\"middle\" x=\"57.1888\" y=\"-25.3\" font-family=\"Times,serif\" font-size=\"14.00\">Previous Output</text>\n",
       "</g>\n",
       "<!-- conv_None -->\n",
       "<g id=\"node2\" class=\"node\"><title>conv_None</title>\n",
       "<ellipse fill=\"#fb8072\" stroke=\"black\" cx=\"57.1888\" cy=\"-138\" rx=\"55.6878\" ry=\"29\"/>\n",
       "<text text-anchor=\"middle\" x=\"57.1888\" y=\"-141.8\" font-family=\"Times,serif\" font-size=\"14.00\">Convolution</text>\n",
       "<text text-anchor=\"middle\" x=\"57.1888\" y=\"-126.8\" font-family=\"Times,serif\" font-size=\"14.00\">7x7/2x2, 64</text>\n",
       "</g>\n",
       "<!-- conv_None&#45;&gt;Previous Output -->\n",
       "<g id=\"edge1\" class=\"edge\"><title>conv_None&#45;&gt;Previous Output</title>\n",
       "<path fill=\"none\" stroke=\"black\" d=\"M57.1888,-98.5824C57.1888,-85.2841 57.1888,-70.632 57.1888,-58.2967\"/>\n",
       "<polygon fill=\"black\" stroke=\"black\" points=\"57.1888,-108.887 52.6889,-98.887 57.1888,-103.887 57.1889,-98.887 57.1889,-98.887 57.1889,-98.887 57.1888,-103.887 61.6889,-98.8871 57.1888,-108.887 57.1888,-108.887\"/>\n",
       "<text text-anchor=\"middle\" x=\"81.1888\" y=\"-79.8\" font-family=\"Times,serif\" font-size=\"14.00\">3x28x28</text>\n",
       "</g>\n",
       "<!-- bn_None -->\n",
       "<g id=\"node3\" class=\"node\"><title>bn_None</title>\n",
       "<ellipse fill=\"#bebada\" stroke=\"black\" cx=\"57.1888\" cy=\"-247\" rx=\"47\" ry=\"29\"/>\n",
       "<text text-anchor=\"middle\" x=\"57.1888\" y=\"-243.3\" font-family=\"Times,serif\" font-size=\"14.00\">bn_None</text>\n",
       "</g>\n",
       "<!-- bn_None&#45;&gt;conv_None -->\n",
       "<g id=\"edge2\" class=\"edge\"><title>bn_None&#45;&gt;conv_None</title>\n",
       "<path fill=\"none\" stroke=\"black\" d=\"M57.1888,-207.582C57.1888,-194.284 57.1888,-179.632 57.1888,-167.297\"/>\n",
       "<polygon fill=\"black\" stroke=\"black\" points=\"57.1888,-217.887 52.6889,-207.887 57.1888,-212.887 57.1889,-207.887 57.1889,-207.887 57.1889,-207.887 57.1888,-212.887 61.6889,-207.887 57.1888,-217.887 57.1888,-217.887\"/>\n",
       "<text text-anchor=\"middle\" x=\"84.6888\" y=\"-188.8\" font-family=\"Times,serif\" font-size=\"14.00\">64x11x11</text>\n",
       "</g>\n",
       "<!-- relu_None -->\n",
       "<g id=\"node4\" class=\"node\"><title>relu_None</title>\n",
       "<ellipse fill=\"#ffffb3\" stroke=\"black\" cx=\"57.1888\" cy=\"-356\" rx=\"48.9511\" ry=\"29\"/>\n",
       "<text text-anchor=\"middle\" x=\"57.1888\" y=\"-359.8\" font-family=\"Times,serif\" font-size=\"14.00\">Activation</text>\n",
       "<text text-anchor=\"middle\" x=\"57.1888\" y=\"-344.8\" font-family=\"Times,serif\" font-size=\"14.00\">relu</text>\n",
       "</g>\n",
       "<!-- relu_None&#45;&gt;bn_None -->\n",
       "<g id=\"edge3\" class=\"edge\"><title>relu_None&#45;&gt;bn_None</title>\n",
       "<path fill=\"none\" stroke=\"black\" d=\"M57.1888,-316.582C57.1888,-303.284 57.1888,-288.632 57.1888,-276.297\"/>\n",
       "<polygon fill=\"black\" stroke=\"black\" points=\"57.1888,-326.887 52.6889,-316.887 57.1888,-321.887 57.1889,-316.887 57.1889,-316.887 57.1889,-316.887 57.1888,-321.887 61.6889,-316.887 57.1888,-326.887 57.1888,-326.887\"/>\n",
       "<text text-anchor=\"middle\" x=\"84.6888\" y=\"-297.8\" font-family=\"Times,serif\" font-size=\"14.00\">64x11x11</text>\n",
       "</g>\n",
       "</g>\n",
       "</svg>\n"
      ],
      "text/plain": [
       "<graphviz.dot.Digraph at 0x7f06ba676908>"
      ]
     },
     "execution_count": 29,
     "metadata": {},
     "output_type": "execute_result"
    }
   ],
   "source": [
    "def ConvFactory(data, num_filter, kernel,\n",
    "                stride=(1, 1), pad=(0, 0), name=None, suffix=''):\n",
    "    conv = mx.sym.Convolution(data=data, num_filter=num_filter,\n",
    "                              kernel=kernel, stride=stride, pad=pad,\n",
    "                              name='conv_%s%s' % (name, suffix))\n",
    "\n",
    "    bn = mx.sym.BatchNorm(data=conv, name='bn_%s%s' % (name, suffix))\n",
    "\n",
    "    act = mx.sym.Activation(data=bn, act_type='relu',\n",
    "                            name='relu_%s%s' % (name, suffix))\n",
    "    return act\n",
    "\n",
    "prev = mx.sym.Variable(name=\"Previous Output\")\n",
    "conv_comp = ConvFactory(data=prev, num_filter=64, kernel=(7, 7), stride=(2, 2))\n",
    "shape = {\"Previous Output\" : (128, 3, 28, 28)}\n",
    "mx.viz.plot_network(symbol=conv_comp, shape=shape,\n",
    "                    node_attrs={\"shape\": \"oval\", \"fixedsize\": \"false\"})"
   ]
  },
  {
   "cell_type": "markdown",
   "metadata": {},
   "source": [
    "Then we can define a function that constructs an inception module based on factory function `ConvFactory`."
   ]
  },
  {
   "cell_type": "code",
   "execution_count": 30,
   "metadata": {
    "collapsed": false
   },
   "outputs": [],
   "source": [
    "def InceptionFactoryA(data, num_1x1, num_3x3red, num_3x3, num_d3x3red,\n",
    "                      num_d3x3, pool, proj, name):\n",
    "    # 1x1\n",
    "    c1x1 = ConvFactory(data=data, num_filter=num_1x1, kernel=(1, 1),\n",
    "                       name=('%s_1x1' % name))\n",
    "\n",
    "    # 3x3 reduce + 3x3\n",
    "    c3x3r = ConvFactory(data=data, num_filter=num_3x3red, kernel=(1, 1),\n",
    "                        name=('%s_3x3' % name), suffix='_reduce')\n",
    "    c3x3 = ConvFactory(data=c3x3r, num_filter=num_3x3, kernel=(3, 3),\n",
    "                       pad=(1, 1), name=('%s_3x3' % name))\n",
    "\n",
    "    # double 3x3 reduce + double 3x3\n",
    "    cd3x3r = ConvFactory(data=data, num_filter=num_d3x3red, kernel=(1, 1),\n",
    "                         name=('%s_double_3x3' % name), suffix='_reduce')\n",
    "    cd3x3 = ConvFactory(data=cd3x3r, num_filter=num_d3x3, kernel=(3, 3),\n",
    "                        pad=(1, 1), name=('%s_double_3x3_0' % name))\n",
    "    cd3x3 = ConvFactory(data=cd3x3, num_filter=num_d3x3, kernel=(3, 3),\n",
    "                        pad=(1, 1), name=('%s_double_3x3_1' % name))\n",
    "\n",
    "    # pool + proj\n",
    "    pooling = mx.sym.Pooling(data=data, kernel=(3, 3), stride=(1, 1),\n",
    "                             pad=(1, 1), pool_type=pool,\n",
    "                             name=('%s_pool_%s_pool' % (pool, name)))\n",
    "    cproj = ConvFactory(data=pooling, num_filter=proj, kernel=(1, 1),\n",
    "                        name=('%s_proj' %  name))\n",
    "\n",
    "    # concat\n",
    "    concat = mx.sym.Concat(*[c1x1, c3x3, cd3x3, cproj],\n",
    "                           name='ch_concat_%s_chconcat' % name)\n",
    "    return concat\n",
    "\n",
    "prev = mx.sym.Variable(name=\"Previous Output\")\n",
    "in3a = InceptionFactoryA(prev, 64, 64, 64, 64, 96, \"avg\", 32, name=\"in3a\")\n",
    "# mx.viz.plot_network(symbol=in3a, shape=shape,\n",
    "#                     node_attrs={\"shape\": \"oval\", \"fixedsize\": \"false\"})"
   ]
  },
  {
   "cell_type": "markdown",
   "metadata": {},
   "source": [
    "### 模块化\n",
    "##### 公共方法模块化"
   ]
  },
  {
   "cell_type": "code",
   "execution_count": 88,
   "metadata": {
    "collapsed": false
   },
   "outputs": [
    {
     "name": "stdout",
     "output_type": "stream",
     "text": [
      "[(128, 131, 14, 14)]\n"
     ]
    }
   ],
   "source": [
    "def convBase(data,filters,kernel,stride,pad):\n",
    "    c=mx.sym.Convolution(data,num_filter=filters,kernel=kernel,stride=stride,pad=pad)\n",
    "    a=mx.sym.Activation(c,act_type='relu')\n",
    "    r=mx.sym.BatchNorm(a)\n",
    "    return r\n",
    "def inception(data,d1,d3,d3_reduce,d5,d5_reduce):\n",
    "    with mx.name.Prefix('route1_'):\n",
    "        route1=convBase(data,d1,kernel=(1,1),stride=(2,2),pad=(0,0))\n",
    "    with mx.name.Prefix('route2_'):\n",
    "        route2=convBase(data,d3_reduce,kernel=(1,1),stride=(2,2),pad=(0,0))\n",
    "        route2=convBase(route2,d3_reduce,kernel=(3,3),stride=(1,1),pad=(1,1))\n",
    "        route2=convBase(route2,d3,kernel=(1,1),stride=(1,1),pad=(0,0))\n",
    "    with mx.name.Prefix('route3_'):\n",
    "        route3=convBase(data,d5_reduce,kernel=(1,1),stride=(2,2),pad=(0,0))\n",
    "        route3=convBase(route3,d5_reduce,kernel=(3,3),stride=(1,1),pad=(1,1))\n",
    "        route3=convBase(route3,d5_reduce,kernel=(3,3),stride=(1,1),pad=(1,1))\n",
    "        route3=convBase(route3,d5,kernel=(1,1),stride=(1,1),pad=(0,0))\n",
    "    with mx.name.Prefix('route4_'):\n",
    "        route4=mx.sym.Pooling(data,pool_type='max',kernel=(3,3),stride=(2,2),pad=(1,1))\n",
    "    \n",
    "    \n",
    "    cat=mx.sym.Concat(*(route1,route2,route3,route4),dim=1)\n",
    "    \n",
    "    return cat\n",
    "X=mx.sym.Variable('data')\n",
    "mynet=inception(X,32,64,32,32,16)\n",
    "# mx.viz.plot_network(mynet,shape={'data':(1,3,28,28)})\n",
    "argname=mynet.list_arguments()\n",
    "outname=mynet.list_outputs()\n",
    "shape,outshape,_=mynet.infer_shape(data=(128,3,28,28))\n",
    "dict(zip(argname,shape))\n",
    "print(outshape)"
   ]
  },
  {
   "cell_type": "markdown",
   "metadata": {},
   "source": [
    "Finally, we can obtain the whole network by chaining multiple inception modules. See a complete example [here](https://github.com/dmlc/mxnet/blob/master/example/image-classification/symbols/inception-bn.py).\n",
    "\n",
    "### Group Multiple Symbols\n",
    "\n",
    "To construct neural networks with multiple loss layers, we can use `mxnet.sym.Group` to group multiple Symbols together. The following example groups two outputs:"
   ]
  },
  {
   "cell_type": "code",
   "execution_count": 47,
   "metadata": {
    "collapsed": false
   },
   "outputs": [
    {
     "data": {
      "image/svg+xml": [
       "<?xml version=\"1.0\" encoding=\"UTF-8\" standalone=\"no\"?>\n",
       "<!DOCTYPE svg PUBLIC \"-//W3C//DTD SVG 1.1//EN\"\n",
       " \"http://www.w3.org/Graphics/SVG/1.1/DTD/svg11.dtd\">\n",
       "<!-- Generated by graphviz version 2.38.0 (20140413.2041)\n",
       " -->\n",
       "<!-- Title: plot Pages: 1 -->\n",
       "<svg width=\"326pt\" height=\"348pt\"\n",
       " viewBox=\"0.00 0.00 326.00 348.00\" xmlns=\"http://www.w3.org/2000/svg\" xmlns:xlink=\"http://www.w3.org/1999/xlink\">\n",
       "<g id=\"graph0\" class=\"graph\" transform=\"scale(1 1) rotate(0) translate(4 344)\">\n",
       "<title>plot</title>\n",
       "<polygon fill=\"white\" stroke=\"none\" points=\"-4,4 -4,-344 322,-344 322,4 -4,4\"/>\n",
       "<!-- data -->\n",
       "<g id=\"node1\" class=\"node\"><title>data</title>\n",
       "<ellipse fill=\"#8dd3c7\" stroke=\"black\" cx=\"159\" cy=\"-29\" rx=\"47\" ry=\"29\"/>\n",
       "<text text-anchor=\"middle\" x=\"159\" y=\"-25.3\" font-family=\"Times,serif\" font-size=\"14.00\">data</text>\n",
       "</g>\n",
       "<!-- fc1 -->\n",
       "<g id=\"node2\" class=\"node\"><title>fc1</title>\n",
       "<polygon fill=\"#fb8072\" stroke=\"black\" points=\"206,-152 112,-152 112,-94 206,-94 206,-152\"/>\n",
       "<text text-anchor=\"middle\" x=\"159\" y=\"-126.8\" font-family=\"Times,serif\" font-size=\"14.00\">FullyConnected</text>\n",
       "<text text-anchor=\"middle\" x=\"159\" y=\"-111.8\" font-family=\"Times,serif\" font-size=\"14.00\">128</text>\n",
       "</g>\n",
       "<!-- fc1&#45;&gt;data -->\n",
       "<g id=\"edge1\" class=\"edge\"><title>fc1&#45;&gt;data</title>\n",
       "<path fill=\"none\" stroke=\"black\" d=\"M159,-83.7443C159,-75.2043 159,-66.2977 159,-58.2479\"/>\n",
       "<polygon fill=\"black\" stroke=\"black\" points=\"159,-93.8971 154.5,-83.897 159,-88.8971 159,-83.8971 159,-83.8971 159,-83.8971 159,-88.8971 163.5,-83.8971 159,-93.8971 159,-93.8971\"/>\n",
       "</g>\n",
       "<!-- relu1 -->\n",
       "<g id=\"node3\" class=\"node\"><title>relu1</title>\n",
       "<polygon fill=\"#ffffb3\" stroke=\"black\" points=\"206,-246 112,-246 112,-188 206,-188 206,-246\"/>\n",
       "<text text-anchor=\"middle\" x=\"159\" y=\"-220.8\" font-family=\"Times,serif\" font-size=\"14.00\">Activation</text>\n",
       "<text text-anchor=\"middle\" x=\"159\" y=\"-205.8\" font-family=\"Times,serif\" font-size=\"14.00\">relu</text>\n",
       "</g>\n",
       "<!-- relu1&#45;&gt;fc1 -->\n",
       "<g id=\"edge2\" class=\"edge\"><title>relu1&#45;&gt;fc1</title>\n",
       "<path fill=\"none\" stroke=\"black\" d=\"M159,-177.744C159,-169.204 159,-160.298 159,-152.248\"/>\n",
       "<polygon fill=\"black\" stroke=\"black\" points=\"159,-187.897 154.5,-177.897 159,-182.897 159,-177.897 159,-177.897 159,-177.897 159,-182.897 163.5,-177.897 159,-187.897 159,-187.897\"/>\n",
       "</g>\n",
       "<!-- softmax_label -->\n",
       "<g id=\"node4\" class=\"node\"><title>softmax_label</title>\n",
       "<ellipse fill=\"#8dd3c7\" stroke=\"black\" cx=\"47\" cy=\"-217\" rx=\"47\" ry=\"29\"/>\n",
       "<text text-anchor=\"middle\" x=\"47\" y=\"-213.3\" font-family=\"Times,serif\" font-size=\"14.00\">softmax_label</text>\n",
       "</g>\n",
       "<!-- softmax -->\n",
       "<g id=\"node5\" class=\"node\"><title>softmax</title>\n",
       "<polygon fill=\"#fccde5\" stroke=\"black\" points=\"122,-340 28,-340 28,-282 122,-282 122,-340\"/>\n",
       "<text text-anchor=\"middle\" x=\"75\" y=\"-307.3\" font-family=\"Times,serif\" font-size=\"14.00\">softmax</text>\n",
       "</g>\n",
       "<!-- softmax&#45;&gt;relu1 -->\n",
       "<g id=\"edge3\" class=\"edge\"><title>softmax&#45;&gt;relu1</title>\n",
       "<path fill=\"none\" stroke=\"black\" d=\"M107.627,-274.266C116.11,-264.974 125.132,-255.094 133.208,-246.248\"/>\n",
       "<polygon fill=\"black\" stroke=\"black\" points=\"100.659,-281.897 104.079,-271.478 104.031,-278.205 107.402,-274.512 107.402,-274.512 107.402,-274.512 104.031,-278.205 110.725,-277.546 100.659,-281.897 100.659,-281.897\"/>\n",
       "</g>\n",
       "<!-- softmax&#45;&gt;softmax_label -->\n",
       "<g id=\"edge4\" class=\"edge\"><title>softmax&#45;&gt;softmax_label</title>\n",
       "<path fill=\"none\" stroke=\"black\" d=\"M63.4722,-272.123C60.7698,-263.244 57.9405,-253.948 55.4045,-245.615\"/>\n",
       "<polygon fill=\"black\" stroke=\"black\" points=\"66.4469,-281.897 59.2302,-273.641 64.9911,-277.114 63.5352,-272.33 63.5352,-272.33 63.5352,-272.33 64.9911,-277.114 67.8403,-271.02 66.4469,-281.897 66.4469,-281.897\"/>\n",
       "</g>\n",
       "<!-- regression_label -->\n",
       "<g id=\"node6\" class=\"node\"><title>regression_label</title>\n",
       "<ellipse fill=\"#8dd3c7\" stroke=\"black\" cx=\"271\" cy=\"-217\" rx=\"47\" ry=\"29\"/>\n",
       "<text text-anchor=\"middle\" x=\"271\" y=\"-213.3\" font-family=\"Times,serif\" font-size=\"14.00\">regression_label</text>\n",
       "</g>\n",
       "<!-- regression -->\n",
       "<g id=\"node7\" class=\"node\"><title>regression</title>\n",
       "<polygon fill=\"#fccde5\" stroke=\"black\" points=\"290,-340 196,-340 196,-282 290,-282 290,-340\"/>\n",
       "<text text-anchor=\"middle\" x=\"243\" y=\"-307.3\" font-family=\"Times,serif\" font-size=\"14.00\">regression</text>\n",
       "</g>\n",
       "<!-- regression&#45;&gt;relu1 -->\n",
       "<g id=\"edge5\" class=\"edge\"><title>regression&#45;&gt;relu1</title>\n",
       "<path fill=\"none\" stroke=\"black\" d=\"M210.373,-274.266C201.89,-264.974 192.868,-255.094 184.792,-246.248\"/>\n",
       "<polygon fill=\"black\" stroke=\"black\" points=\"217.341,-281.897 207.275,-277.546 213.969,-278.205 210.598,-274.512 210.598,-274.512 210.598,-274.512 213.969,-278.205 213.921,-271.478 217.341,-281.897 217.341,-281.897\"/>\n",
       "</g>\n",
       "<!-- regression&#45;&gt;regression_label -->\n",
       "<g id=\"edge6\" class=\"edge\"><title>regression&#45;&gt;regression_label</title>\n",
       "<path fill=\"none\" stroke=\"black\" d=\"M254.528,-272.123C257.23,-263.244 260.059,-253.948 262.596,-245.615\"/>\n",
       "<polygon fill=\"black\" stroke=\"black\" points=\"251.553,-281.897 250.16,-271.02 253.009,-277.114 254.465,-272.33 254.465,-272.33 254.465,-272.33 253.009,-277.114 258.77,-273.641 251.553,-281.897 251.553,-281.897\"/>\n",
       "</g>\n",
       "</g>\n",
       "</svg>\n"
      ],
      "text/plain": [
       "<graphviz.dot.Digraph at 0x7f06ba515ac8>"
      ]
     },
     "execution_count": 47,
     "metadata": {},
     "output_type": "execute_result"
    }
   ],
   "source": [
    "net = mx.sym.Variable('data')\n",
    "fc1 = mx.sym.FullyConnected(data=net, name='fc1', num_hidden=128)\n",
    "net = mx.sym.Activation(data=fc1, name='relu1', act_type=\"relu\")\n",
    "out1 = mx.sym.SoftmaxOutput(data=net, name='softmax')\n",
    "out2 = mx.sym.LinearRegressionOutput(data=net, name='regression')\n",
    "group = mx.sym.Group([out1, out2])\n",
    "group.list_outputs()\n",
    "mx.viz.plot_network(group)"
   ]
  },
  {
   "cell_type": "code",
   "execution_count": 54,
   "metadata": {
    "collapsed": false
   },
   "outputs": [],
   "source": [
    "from mxnet.symbol import *"
   ]
  },
  {
   "cell_type": "code",
   "execution_count": 63,
   "metadata": {
    "collapsed": false
   },
   "outputs": [
    {
     "data": {
      "image/svg+xml": [
       "<?xml version=\"1.0\" encoding=\"UTF-8\" standalone=\"no\"?>\n",
       "<!DOCTYPE svg PUBLIC \"-//W3C//DTD SVG 1.1//EN\"\n",
       " \"http://www.w3.org/Graphics/SVG/1.1/DTD/svg11.dtd\">\n",
       "<!-- Generated by graphviz version 2.38.0 (20140413.2041)\n",
       " -->\n",
       "<!-- Title: plot Pages: 1 -->\n",
       "<svg width=\"438pt\" height=\"160pt\"\n",
       " viewBox=\"0.00 0.00 438.00 160.00\" xmlns=\"http://www.w3.org/2000/svg\" xmlns:xlink=\"http://www.w3.org/1999/xlink\">\n",
       "<g id=\"graph0\" class=\"graph\" transform=\"scale(1 1) rotate(0) translate(4 156)\">\n",
       "<title>plot</title>\n",
       "<polygon fill=\"white\" stroke=\"none\" points=\"-4,4 -4,-156 434,-156 434,4 -4,4\"/>\n",
       "<!-- x -->\n",
       "<g id=\"node1\" class=\"node\"><title>x</title>\n",
       "<ellipse fill=\"#8dd3c7\" stroke=\"black\" cx=\"159\" cy=\"-29\" rx=\"47\" ry=\"29\"/>\n",
       "<text text-anchor=\"middle\" x=\"159\" y=\"-25.3\" font-family=\"Times,serif\" font-size=\"14.00\">x</text>\n",
       "</g>\n",
       "<!-- sm_label -->\n",
       "<g id=\"node2\" class=\"node\"><title>sm_label</title>\n",
       "<ellipse fill=\"#8dd3c7\" stroke=\"black\" cx=\"47\" cy=\"-29\" rx=\"47\" ry=\"29\"/>\n",
       "<text text-anchor=\"middle\" x=\"47\" y=\"-25.3\" font-family=\"Times,serif\" font-size=\"14.00\">sm_label</text>\n",
       "</g>\n",
       "<!-- sm -->\n",
       "<g id=\"node3\" class=\"node\"><title>sm</title>\n",
       "<polygon fill=\"#fccde5\" stroke=\"black\" points=\"108,-152 14,-152 14,-94 108,-94 108,-152\"/>\n",
       "<text text-anchor=\"middle\" x=\"61\" y=\"-119.3\" font-family=\"Times,serif\" font-size=\"14.00\">sm</text>\n",
       "</g>\n",
       "<!-- sm&#45;&gt;x -->\n",
       "<g id=\"edge1\" class=\"edge\"><title>sm&#45;&gt;x</title>\n",
       "<path fill=\"none\" stroke=\"black\" d=\"M98.5376,-86.7606C110.36,-75.6622 123.125,-63.6785 133.866,-53.5952\"/>\n",
       "<polygon fill=\"black\" stroke=\"black\" points=\"90.9357,-93.8971 95.1465,-83.7718 94.5811,-90.4749 98.2265,-87.0527 98.2265,-87.0527 98.2265,-87.0527 94.5811,-90.4749 101.306,-90.3335 90.9357,-93.8971 90.9357,-93.8971\"/>\n",
       "</g>\n",
       "<!-- sm&#45;&gt;sm_label -->\n",
       "<g id=\"edge2\" class=\"edge\"><title>sm&#45;&gt;sm_label</title>\n",
       "<path fill=\"none\" stroke=\"black\" d=\"M55.2069,-83.931C53.8816,-75.2221 52.4968,-66.122 51.2503,-57.9308\"/>\n",
       "<polygon fill=\"black\" stroke=\"black\" points=\"56.7235,-93.8971 50.7702,-84.6879 55.9712,-88.954 55.219,-84.0109 55.219,-84.0109 55.219,-84.0109 55.9712,-88.954 59.6677,-83.3339 56.7235,-93.8971 56.7235,-93.8971\"/>\n",
       "</g>\n",
       "<!-- lg_label -->\n",
       "<g id=\"node4\" class=\"node\"><title>lg_label</title>\n",
       "<ellipse fill=\"#8dd3c7\" stroke=\"black\" cx=\"271\" cy=\"-29\" rx=\"47\" ry=\"29\"/>\n",
       "<text text-anchor=\"middle\" x=\"271\" y=\"-25.3\" font-family=\"Times,serif\" font-size=\"14.00\">lg_label</text>\n",
       "</g>\n",
       "<!-- lg -->\n",
       "<g id=\"node5\" class=\"node\"><title>lg</title>\n",
       "<polygon fill=\"#fccde5\" stroke=\"black\" points=\"248,-152 154,-152 154,-94 248,-94 248,-152\"/>\n",
       "<text text-anchor=\"middle\" x=\"201\" y=\"-119.3\" font-family=\"Times,serif\" font-size=\"14.00\">lg</text>\n",
       "</g>\n",
       "<!-- lg&#45;&gt;x -->\n",
       "<g id=\"edge3\" class=\"edge\"><title>lg&#45;&gt;x</title>\n",
       "<path fill=\"none\" stroke=\"black\" d=\"M183.93,-84.6086C179.759,-75.4714 175.373,-65.8643 171.463,-57.2995\"/>\n",
       "<polygon fill=\"black\" stroke=\"black\" points=\"188.17,-93.8971 179.924,-86.669 186.094,-89.3486 184.017,-84.8002 184.017,-84.8002 184.017,-84.8002 186.094,-89.3486 188.111,-82.9313 188.17,-93.8971 188.17,-93.8971\"/>\n",
       "</g>\n",
       "<!-- lg&#45;&gt;lg_label -->\n",
       "<g id=\"edge4\" class=\"edge\"><title>lg&#45;&gt;lg_label</title>\n",
       "<path fill=\"none\" stroke=\"black\" d=\"M228.633,-85.6819C236.251,-75.6697 244.357,-65.0166 251.417,-55.738\"/>\n",
       "<polygon fill=\"black\" stroke=\"black\" points=\"222.383,-93.8971 224.857,-83.2139 225.41,-89.9179 228.438,-85.9388 228.438,-85.9388 228.438,-85.9388 225.41,-89.9179 232.019,-88.6636 222.383,-93.8971 222.383,-93.8971\"/>\n",
       "</g>\n",
       "<!-- la_label -->\n",
       "<g id=\"node6\" class=\"node\"><title>la_label</title>\n",
       "<ellipse fill=\"#8dd3c7\" stroke=\"black\" cx=\"383\" cy=\"-29\" rx=\"47\" ry=\"29\"/>\n",
       "<text text-anchor=\"middle\" x=\"383\" y=\"-25.3\" font-family=\"Times,serif\" font-size=\"14.00\">la_label</text>\n",
       "</g>\n",
       "<!-- la -->\n",
       "<g id=\"node7\" class=\"node\"><title>la</title>\n",
       "<polygon fill=\"#fccde5\" stroke=\"black\" points=\"416,-152 322,-152 322,-94 416,-94 416,-152\"/>\n",
       "<text text-anchor=\"middle\" x=\"369\" y=\"-119.3\" font-family=\"Times,serif\" font-size=\"14.00\">la</text>\n",
       "</g>\n",
       "<!-- la&#45;&gt;x -->\n",
       "<g id=\"edge5\" class=\"edge\"><title>la&#45;&gt;x</title>\n",
       "<path fill=\"none\" stroke=\"black\" d=\"M312.155,-99.4815C282.913,-87.6191 246.82,-72.5455 215,-58 208.278,-54.9271 201.175,-51.511 194.369,-48.151\"/>\n",
       "<polygon fill=\"black\" stroke=\"black\" points=\"321.794,-103.376 310.836,-103.802 317.158,-101.503 312.522,-99.6295 312.522,-99.6295 312.522,-99.6295 317.158,-101.503 314.208,-95.4572 321.794,-103.376 321.794,-103.376\"/>\n",
       "</g>\n",
       "<!-- la&#45;&gt;la_label -->\n",
       "<g id=\"edge6\" class=\"edge\"><title>la&#45;&gt;la_label</title>\n",
       "<path fill=\"none\" stroke=\"black\" d=\"M374.793,-83.931C376.118,-75.2221 377.503,-66.122 378.75,-57.9308\"/>\n",
       "<polygon fill=\"black\" stroke=\"black\" points=\"373.277,-93.8971 370.332,-83.3339 374.029,-88.954 374.781,-84.0109 374.781,-84.0109 374.781,-84.0109 374.029,-88.954 379.23,-84.6879 373.277,-93.8971 373.277,-93.8971\"/>\n",
       "</g>\n",
       "</g>\n",
       "</svg>\n"
      ],
      "text/plain": [
       "<graphviz.dot.Digraph at 0x7f06ba544198>"
      ]
     },
     "execution_count": 63,
     "metadata": {},
     "output_type": "execute_result"
    }
   ],
   "source": [
    "v=Variable('x')\n",
    "L1=softmax_cross_entropy(v,name='sm')\n",
    "L2=LinearRegressionOutput(v,name='lg')\n",
    "L3=MAERegressionOutput(v,name='la')\n",
    "group=Group((L1,L2,L3))\n",
    "mx.viz.plot_network(group)"
   ]
  },
  {
   "cell_type": "markdown",
   "metadata": {},
   "source": [
    "## Relations to NDArray\n",
    "\n",
    "As you can see now, both `Symbol` and `NDArray` provide multi-dimensional array operations, such as `c = a + b` in MXNet. We briefly clarify the differences here.\n",
    "\n",
    "The `NDArray` provides an imperative programming alike interface, in which the computations are evaluated sentence by sentence. While `Symbol` is closer to declarative programming, in which we first declare the computation and then evaluate with data. Examples in this category include regular expressions and SQL.\n",
    "\n",
    "The pros for `NDArray`:\n",
    "\n",
    "- Straightforward.\n",
    "- Easy to work with native language features (for loop, if-else condition, ..) and libraries (numpy, ..).\n",
    "- Easy step-by-step code debugging.\n",
    "\n",
    "The pros for `Symbol`:\n",
    "\n",
    "- Provides almost all functionalities of NDArray, such as `+`, `*`, `sin`, `reshape` etc.\n",
    "- Easy to save, load and visualize.\n",
    "- Easy for the backend to optimize the computation and memory usage.\n",
    "\n",
    "## Symbol Manipulation\n",
    "\n",
    "One important difference of `Symbol` compared to `NDArray` is that we first declare the computation and then bind the computation with data to run. In this section, we introduce the functions to manipulate a `Symbol` directly. But note that, most of them are wrapped by the high-level packages: [`Module`](https://mxnet.incubator.apache.org/api/python/module/module.html) and [`Gluon`](https://mxnet.incubator.apache.org/api/python/gluon/gluon.html).\n",
    "\n",
    "### Shape and Type Inference\n",
    "\n",
    "For each `Symbol`, we can query its arguments, auxiliary states and outputs. We can also infer the output shape and type of the `Symbol` given the known input shape or type of some arguments, which facilitates memory allocation."
   ]
  },
  {
   "cell_type": "code",
   "execution_count": 15,
   "metadata": {
    "collapsed": false
   },
   "outputs": [],
   "source": [
    "# c.infer_shape(a=(2,3),b=(2,3))"
   ]
  },
  {
   "cell_type": "code",
   "execution_count": 64,
   "metadata": {
    "collapsed": false
   },
   "outputs": [
    {
     "data": {
      "text/plain": [
       "{'input': {'a': (2, 3), 'b': (2, 3)}, 'output': {'_plus0_output': (2, 3)}}"
      ]
     },
     "execution_count": 64,
     "metadata": {},
     "output_type": "execute_result"
    }
   ],
   "source": [
    "arg_name = c.list_arguments()  # get the names of the inputs\n",
    "out_name = c.list_outputs()    # get the names of the outputs\n",
    "# infers output shape given the shape of input arguments\n",
    "arg_shape, out_shape, _ = c.infer_shape(a=(2, 3), b=(2, 3))\n",
    "# infers output type given the type of input arguments\n",
    "arg_type, out_type, _ = c.infer_type(a='float32', b='float32')\n",
    "{'input' : dict(zip(arg_name, arg_shape)),\n",
    " 'output' : dict(zip(out_name, out_shape))}\n",
    "# {'input' : dict(zip(arg_name, arg_type)),\n",
    "#  'output' : dict(zip(out_name, out_type))}"
   ]
  },
  {
   "cell_type": "code",
   "execution_count": 71,
   "metadata": {
    "collapsed": false
   },
   "outputs": [
    {
     "name": "stdout",
     "output_type": "stream",
     "text": [
      "['a', 'b']\n",
      "['_plus0_output']\n"
     ]
    },
    {
     "data": {
      "text/plain": [
       "{'_plus0_output': (3,)}"
      ]
     },
     "execution_count": 71,
     "metadata": {},
     "output_type": "execute_result"
    }
   ],
   "source": [
    "argname=c.list_arguments()\n",
    "print(argname)\n",
    "out_name=c.list_outputs()\n",
    "print(out_name)\n",
    "shape_info,out_shape_info,_=c.infer_shape(a=(3,),b=(3,))\n",
    "dict(zip(arg_name,shape_info))\n",
    "dict(zip(out_name,out_shape_info))"
   ]
  },
  {
   "cell_type": "markdown",
   "metadata": {},
   "source": [
    "### Bind with Data and Evaluate\n",
    "\n",
    "The `Symbol` `c` constructed above declares what computation should be run. To evaluate it, we first need to feed the arguments, namely free variables, with data.\n",
    "\n",
    "We can do it by using the [`bind`](https://mxnet.incubator.apache.org/api/python/symbol/symbol.html#mxnet.symbol.Symbol.bind) method, which accepts device context and a `dict` mapping free variable names to `NDArray`s as arguments and returns an [`Executor`](https://mxnet.incubator.apache.org/api/python/executor/executor.html#mxnet.executor.Executor). The `Executor` provides [`forward`](https://mxnet.incubator.apache.org/api/python/executor/executor.html#mxnet.executor.Executor.forward) method for evaluation and an attribute `outputs` to get all the results."
   ]
  },
  {
   "cell_type": "code",
   "execution_count": 89,
   "metadata": {
    "collapsed": false
   },
   "outputs": [
    {
     "name": "stdout",
     "output_type": "stream",
     "text": [
      "number of outputs = 1\n",
      "the first output = \n",
      "[[2. 2. 2.]\n",
      " [2. 2. 2.]]\n"
     ]
    }
   ],
   "source": [
    "ex = c.bind(ctx=mx.cpu(), args={'a' : mx.nd.ones([2,3]),\n",
    "                                'b' : mx.nd.ones([2,3])})\n",
    "ex.forward()\n",
    "print('number of outputs = %d\\nthe first output = \\n%s' % (\n",
    "           len(ex.outputs), ex.outputs[0].asnumpy()))"
   ]
  },
  {
   "cell_type": "markdown",
   "metadata": {},
   "source": [
    "We can evaluate the same `Symbol` on GPU with different data."
   ]
  },
  {
   "cell_type": "code",
   "execution_count": 93,
   "metadata": {
    "collapsed": false
   },
   "outputs": [
    {
     "data": {
      "text/plain": [
       "array([[5., 5., 5., 5.],\n",
       "       [5., 5., 5., 5.],\n",
       "       [5., 5., 5., 5.]], dtype=float32)"
      ]
     },
     "execution_count": 93,
     "metadata": {},
     "output_type": "execute_result"
    }
   ],
   "source": [
    "gpu_device = mx.gpu() if mx.test_utils.list_gpus() else mx.cpu()\n",
    "\n",
    "ex_gpu = c.bind(ctx=gpu_device, args={'a' : mx.nd.ones([3,4], gpu_device)*2,\n",
    "                                      'b' : mx.nd.ones([3,4], gpu_device)*3})\n",
    "ex_gpu.forward()\n",
    "ex_gpu.outputs[0].asnumpy()"
   ]
  },
  {
   "cell_type": "markdown",
   "metadata": {},
   "source": [
    "We can also use [eval](https://mxnet.incubator.apache.org/api/python/symbol/symbol.html#mxnet.symbol.Symbol.eval) method to evaluate the `Symbol`. It combines calls to `bind` and `forward` methods."
   ]
  },
  {
   "cell_type": "code",
   "execution_count": 94,
   "metadata": {
    "collapsed": false
   },
   "outputs": [
    {
     "name": "stdout",
     "output_type": "stream",
     "text": [
      "number of outputs = 1\n",
      "the first output = \n",
      "[[2. 2. 2.]\n",
      " [2. 2. 2.]]\n"
     ]
    }
   ],
   "source": [
    "ex = c.eval(ctx = mx.cpu(), a = mx.nd.ones([2,3]), b = mx.nd.ones([2,3]))\n",
    "print('number of outputs = %d\\nthe first output = \\n%s' % (\n",
    "            len(ex), ex[0].asnumpy()))"
   ]
  },
  {
   "cell_type": "markdown",
   "metadata": {},
   "source": [
    "For neural nets, a more commonly used pattern is [simple_bind](https://mxnet.incubator.apache.org/api/python/symbol/symbol.html#mxnet.symbol.Symbol.simple_bind), which creates all of the argument arrays for you. Then you can call `forward`, and [`backward`](https://mxnet.incubator.apache.org/api/python/executor/executor.html#mxnet.executor.Executor.backward) to get gradients if needed.\n",
    "\n",
    "### Load and Save\n",
    "\n",
    "Logically Symbols correspond to NDArrays. They both represent a tensor. They both are inputs/outputs of operators. We can either serialize a `Symbol` object by using `pickle`, or by using `save` and `load` methods directly as it is explained in [this NDArray tutorial](http://mxnet.io/tutorials/basic/ndarray.html#serialize-from-to-distributed-filesystems).\n",
    "\n",
    "When serializing `NDArray`, we serialize the tensor data in it and directly dump to disk in binary format. But `Symbol` uses a concept of graph. Graphs are composed by chaining operators. They are implicitly represented by output Symbols. So, when serializing a `Symbol`, we serialize the graph of which the `Symbol` is an output. While serialization, `Symbol` uses more readable `json` format for serialization. To convert `Symbol` to `json` string, use [`tojson`](https://mxnet.incubator.apache.org/api/python/symbol/symbol.html#mxnet.symbol.Symbol.tojson) method."
   ]
  },
  {
   "cell_type": "code",
   "execution_count": 125,
   "metadata": {
    "collapsed": false
   },
   "outputs": [
    {
     "name": "stdout",
     "output_type": "stream",
     "text": [
      "{\n",
      "  \"nodes\": [\n",
      "    {\n",
      "      \"op\": \"null\", \n",
      "      \"name\": \"a\", \n",
      "      \"inputs\": []\n",
      "    }, \n",
      "    {\n",
      "      \"op\": \"null\", \n",
      "      \"name\": \"b\", \n",
      "      \"inputs\": []\n",
      "    }, \n",
      "    {\n",
      "      \"op\": \"elemwise_add\", \n",
      "      \"name\": \"_plus0\", \n",
      "      \"inputs\": [[0, 0, 0], [1, 0, 0]]\n",
      "    }\n",
      "  ], \n",
      "  \"arg_nodes\": [0, 1], \n",
      "  \"node_row_ptr\": [0, 1, 2, 3], \n",
      "  \"heads\": [[2, 0, 0]], \n",
      "  \"attrs\": {\"mxnet_version\": [\"int\", 10500]}\n",
      "}\n"
     ]
    },
    {
     "data": {
      "text/plain": [
       "True"
      ]
     },
     "execution_count": 125,
     "metadata": {},
     "output_type": "execute_result"
    }
   ],
   "source": [
    "print(c.tojson())\n",
    "c.save('symbol-c.json')\n",
    "c2 = mx.sym.load('symbol-c.json')\n",
    "c.tojson() == c2.tojson()"
   ]
  },
  {
   "cell_type": "markdown",
   "metadata": {},
   "source": [
    "## Customized Symbol\n",
    "\n",
    "Most operators such as [`mx.sym.Convolution`](https://mxnet.incubator.apache.org/api/python/symbol/symbol.html#mxnet.symbol.Convolution) and [`mx.sym.Reshape`](https://mxnet.incubator.apache.org/api/python/symbol/symbol.html#mxnet.symbol.reshape) are implemented in C++ for better performance. MXNet also allows users to write new operators using any front-end language such as Python. It often makes the developing and debugging much easier. To implement an operator in Python, refer to [How to create new operators](http://mxnet.io/faq/new_op.html).\n",
    "\n",
    "## Advanced Usages\n",
    "\n",
    "### Type Cast\n",
    "\n",
    "By default, MXNet uses 32-bit floats. But for better accuracy-performance, we can also use a lower precision data type.\n",
    "For example, The NVIDIA Tesla Pascal GPUs (e.g. P100) have improved 16-bit float performance, while GTX Pascal GPUs (e.g. GTX 1080) are fast on 8-bit integers.\n",
    "\n",
    "To convert the data type as per the requirements, we can use [`mx.sym.cast`](https://mxnet.incubator.apache.org/api/python/symbol/symbol.html#mxnet.symbol.cast) operator as follows:"
   ]
  },
  {
   "cell_type": "code",
   "execution_count": 126,
   "metadata": {
    "collapsed": false
   },
   "outputs": [
    {
     "name": "stdout",
     "output_type": "stream",
     "text": [
      "{'output': [<class 'numpy.float16'>], 'input': [<class 'numpy.float32'>]}\n",
      "{'output': [<class 'numpy.uint8'>], 'input': [<class 'numpy.int32'>]}\n"
     ]
    }
   ],
   "source": [
    "a = mx.sym.Variable('data')\n",
    "b = mx.sym.cast(data=a, dtype='float16')\n",
    "arg, out, _ = b.infer_type(data='float32')\n",
    "print({'input':arg, 'output':out})\n",
    "\n",
    "c = mx.sym.cast(data=a, dtype='uint8')\n",
    "arg, out, _ = c.infer_type(data='int32')\n",
    "print({'input':arg, 'output':out})"
   ]
  },
  {
   "cell_type": "code",
   "execution_count": 132,
   "metadata": {
    "collapsed": false
   },
   "outputs": [
    {
     "name": "stdout",
     "output_type": "stream",
     "text": [
      "[<class 'numpy.float64'>]\n",
      "[<class 'numpy.float16'>]\n"
     ]
    }
   ],
   "source": [
    "#类型转换 与infer type\n",
    "W=mx.sym.Variable(name='my',shape=(64,3,3,128))\n",
    "W1=mx.sym.cast(W,'float16')\n",
    "intype,outtype,_=W1.infer_type(my='float64')\n",
    "print(intype)\n",
    "print(outtype)"
   ]
  },
  {
   "cell_type": "markdown",
   "metadata": {},
   "source": [
    "### Variable Sharing\n",
    "\n",
    "To share the contents between several Symbols, we can bind these Symbols with the same array as follows:"
   ]
  },
  {
   "cell_type": "code",
   "execution_count": 133,
   "metadata": {
    "collapsed": false
   },
   "outputs": [
    {
     "data": {
      "text/plain": [
       "array([[6., 6., 6.],\n",
       "       [6., 6., 6.]], dtype=float32)"
      ]
     },
     "execution_count": 133,
     "metadata": {},
     "output_type": "execute_result"
    }
   ],
   "source": [
    "a = mx.sym.Variable('a')\n",
    "b = mx.sym.Variable('b')\n",
    "b = a + a * a\n",
    "\n",
    "data = mx.nd.ones((2,3)) * 2\n",
    "ex = b.bind(ctx=mx.cpu(), args={'a':data, 'b':data})\n",
    "ex.forward()\n",
    "ex.outputs[0].asnumpy()"
   ]
  },
  {
   "cell_type": "markdown",
   "metadata": {},
   "source": [
    "### Weight tying\n",
    "\n",
    "You can use same principle to tie weights of different layers. In the example below two `FullyConnected` layers share same weights and biases, but process different data. Let's demonstrate how we can do it.\n",
    "\n",
    "In this example we first create training and evaluation datasets. Both of them consist of two individual `NDArray`s. We are using `NDArrayIter` to iterate over all of them."
   ]
  },
  {
   "cell_type": "code",
   "execution_count": 187,
   "metadata": {
    "collapsed": false
   },
   "outputs": [],
   "source": [
    "import numpy as np\n",
    "import mxnet as mx\n",
    "\n",
    "# Training data\n",
    "train_data_size = 4\n",
    "train_data1 = mx.random.uniform(shape=(train_data_size, 2))\n",
    "train_data2 = mx.random.uniform(shape=(train_data_size, 2))\n",
    "train_label = mx.nd.array([i % 2 for i in range(train_data_size)])\n",
    "batch_size = 3\n",
    "\n",
    "# Evaluation Data\n",
    "eval_data_size = 3\n",
    "eval_data1 = mx.random.uniform(shape=(eval_data_size, 2))\n",
    "eval_data2 = mx.random.uniform(shape=(eval_data_size, 2))\n",
    "eval_label = np.array([i % 2 for i in range(eval_data_size)])\n",
    "\n",
    "train_iter = mx.io.NDArrayIter({'inputs_left': train_data1,\n",
    "                                'inputs_right': train_data2},\n",
    "                               train_label, batch_size, shuffle=True,\n",
    "                               label_name='labels', last_batch_handle='pad')\n",
    "\n",
    "eval_iter = mx.io.NDArrayIter({'inputs_left': eval_data1,\n",
    "                               'inputs_right': eval_data2},\n",
    "                              eval_label, batch_size, shuffle=False, \n",
    "                              label_name='labels',\n",
    "                              last_batch_handle='pad')"
   ]
  },
  {
   "cell_type": "markdown",
   "metadata": {},
   "source": [
    "We define a `Symbol` for both `inputs_left` and `inputs_right` variables, and separate symbols for `shared_weight` and `shared_bias`. We use `shared_weight` and `shared_bias` symbols in both `FullyConnected` layers, making sure that they are using the same data underlying the symbols. This is where weight tying is happening."
   ]
  },
  {
   "cell_type": "code",
   "execution_count": 188,
   "metadata": {
    "collapsed": true
   },
   "outputs": [],
   "source": [
    "num_hidden_nodes = 2\n",
    "\n",
    "# Assume the left and right inputs have the same shape as each other\n",
    "inputs_left = mx.sym.var('inputs_left')\n",
    "inputs_right = mx.sym.var('inputs_right')\n",
    "labels = mx.symbol.Variable('labels')\n",
    "\n",
    "shared_weight = mx.symbol.Variable('shared_weight')\n",
    "shared_bias = mx.symbol.Variable('shared_bias')\n",
    "\n",
    "fc_left_sym = mx.sym.FullyConnected(data=inputs_left, weight=shared_weight,\n",
    "                                    bias=shared_bias,\n",
    "                                    num_hidden=num_hidden_nodes, name='fc_left')\n",
    "\n",
    "fc_right_sym = mx.sym.FullyConnected(data=inputs_right, weight=shared_weight,\n",
    "                                     bias=shared_bias,\n",
    "                                     num_hidden=num_hidden_nodes, name='fc_right')\n",
    "\n",
    "combined = mx.sym.concat(fc_left_sym, fc_right_sym)\n",
    "output = mx.sym.SoftmaxOutput(data=combined, label=labels, name='softmax')"
   ]
  },
  {
   "cell_type": "markdown",
   "metadata": {},
   "source": [
    "In the next lines of the code, we use `Module API` to start the training. We first create a `Module` object and then call `fit` providing data iterators. To use trained model for prediction, we use `predict` method, providing evaluation data iterator.  "
   ]
  },
  {
   "cell_type": "code",
   "execution_count": 147,
   "metadata": {
    "collapsed": false
   },
   "outputs": [
    {
     "name": "stdout",
     "output_type": "stream",
     "text": [
      "[[0.291116   0.32002792 0.2712963  0.11755978]\n",
      " [0.27977595 0.11511725 0.32859477 0.27651194]\n",
      " [0.2853557  0.11130549 0.38418412 0.2191547 ]]\n"
     ]
    }
   ],
   "source": [
    "model = mx.mod.Module(\n",
    "    symbol=output,\n",
    "    data_names=['inputs_left', 'inputs_right'],\n",
    "    label_names=['labels']\n",
    ")\n",
    "\n",
    "model.fit(train_iter, eval_iter,\n",
    "          optimizer_params={'learning_rate': 0.01, 'momentum': 0.9},\n",
    "          num_epoch=100,\n",
    "          eval_metric='acc')\n",
    "\n",
    "result = model.predict(eval_iter).asnumpy()\n",
    "print(result)"
   ]
  },
  {
   "cell_type": "markdown",
   "metadata": {},
   "source": [
    "### 如何准备数据源？"
   ]
  },
  {
   "cell_type": "code",
   "execution_count": 4,
   "metadata": {
    "collapsed": false
   },
   "outputs": [],
   "source": [
    "from mxnet import nd\n",
    "N=30\n",
    "traindata,trainlabel=nd.random.uniform(-1,1,shape=(N,3,28,28)),nd.random.randint(0,10,shape=(N,)).astype('float32')\n",
    "evaldata,evallabel=nd.random.uniform(-1,1,shape=(N//2,3,28,28)),nd.random.randint(0,10,shape=(N//2,)).astype('float32')\n",
    "\n",
    "bs=8\n",
    "trainset=mx.io.NDArrayIter({'data':traindata},trainlabel,batch_size=bs,label_name='labels')\n",
    "evalset=mx.io.NDArrayIter({'data':evaldata},evallabel,batch_size=bs,label_name='labels')"
   ]
  },
  {
   "cell_type": "markdown",
   "metadata": {},
   "source": [
    "### 定义你的网络结构"
   ]
  },
  {
   "cell_type": "code",
   "execution_count": 8,
   "metadata": {
    "collapsed": false
   },
   "outputs": [
    {
     "name": "stderr",
     "output_type": "stream",
     "text": [
      "INFO:root:Epoch[0] Train-accuracy=0.156250\n",
      "INFO:root:Epoch[0] Time cost=0.100\n",
      "INFO:root:Epoch[0] Validation-accuracy=0.062500\n",
      "INFO:root:Epoch[1] Train-accuracy=0.187500\n",
      "INFO:root:Epoch[1] Time cost=0.068\n",
      "INFO:root:Epoch[1] Validation-accuracy=0.062500\n",
      "INFO:root:Epoch[2] Train-accuracy=0.187500\n",
      "INFO:root:Epoch[2] Time cost=0.074\n",
      "INFO:root:Epoch[2] Validation-accuracy=0.062500\n",
      "INFO:root:Epoch[3] Train-accuracy=0.187500\n",
      "INFO:root:Epoch[3] Time cost=0.081\n",
      "INFO:root:Epoch[3] Validation-accuracy=0.062500\n",
      "INFO:root:Epoch[4] Train-accuracy=0.187500\n",
      "INFO:root:Epoch[4] Time cost=0.090\n",
      "INFO:root:Epoch[4] Validation-accuracy=0.062500\n",
      "INFO:root:Epoch[5] Train-accuracy=0.187500\n",
      "INFO:root:Epoch[5] Time cost=0.088\n",
      "INFO:root:Epoch[5] Validation-accuracy=0.062500\n",
      "INFO:root:Epoch[6] Train-accuracy=0.187500\n",
      "INFO:root:Epoch[6] Time cost=0.095\n",
      "INFO:root:Epoch[6] Validation-accuracy=0.062500\n",
      "INFO:root:Epoch[7] Train-accuracy=0.187500\n",
      "INFO:root:Epoch[7] Time cost=0.104\n",
      "INFO:root:Epoch[7] Validation-accuracy=0.062500\n",
      "INFO:root:Epoch[8] Train-accuracy=0.187500\n",
      "INFO:root:Epoch[8] Time cost=0.073\n",
      "INFO:root:Epoch[8] Validation-accuracy=0.062500\n",
      "INFO:root:Epoch[9] Train-accuracy=0.187500\n",
      "INFO:root:Epoch[9] Time cost=0.075\n",
      "INFO:root:Epoch[9] Validation-accuracy=0.062500\n",
      "INFO:root:Epoch[10] Train-accuracy=0.187500\n",
      "INFO:root:Epoch[10] Time cost=0.086\n",
      "INFO:root:Epoch[10] Validation-accuracy=0.062500\n",
      "INFO:root:Epoch[11] Train-accuracy=0.187500\n",
      "INFO:root:Epoch[11] Time cost=0.121\n",
      "INFO:root:Epoch[11] Validation-accuracy=0.062500\n",
      "INFO:root:Epoch[12] Train-accuracy=0.187500\n",
      "INFO:root:Epoch[12] Time cost=0.143\n",
      "INFO:root:Epoch[12] Validation-accuracy=0.062500\n",
      "INFO:root:Epoch[13] Train-accuracy=0.187500\n",
      "INFO:root:Epoch[13] Time cost=0.119\n",
      "INFO:root:Epoch[13] Validation-accuracy=0.062500\n",
      "INFO:root:Epoch[14] Train-accuracy=0.187500\n",
      "INFO:root:Epoch[14] Time cost=0.124\n",
      "INFO:root:Epoch[14] Validation-accuracy=0.062500\n",
      "INFO:root:Epoch[15] Train-accuracy=0.187500\n",
      "INFO:root:Epoch[15] Time cost=0.092\n",
      "INFO:root:Epoch[15] Validation-accuracy=0.062500\n",
      "INFO:root:Epoch[16] Train-accuracy=0.187500\n",
      "INFO:root:Epoch[16] Time cost=0.284\n",
      "INFO:root:Epoch[16] Validation-accuracy=0.062500\n",
      "INFO:root:Epoch[17] Train-accuracy=0.187500\n",
      "INFO:root:Epoch[17] Time cost=0.078\n",
      "INFO:root:Epoch[17] Validation-accuracy=0.062500\n",
      "INFO:root:Epoch[18] Train-accuracy=0.187500\n",
      "INFO:root:Epoch[18] Time cost=0.094\n",
      "INFO:root:Epoch[18] Validation-accuracy=0.062500\n",
      "INFO:root:Epoch[19] Train-accuracy=0.187500\n",
      "INFO:root:Epoch[19] Time cost=0.076\n",
      "INFO:root:Epoch[19] Validation-accuracy=0.062500\n"
     ]
    }
   ],
   "source": [
    "import logging\n",
    "logging.getLogger().setLevel(logging.INFO)\n",
    "# logging.getLogger().setLevel(logging.INFO)\n",
    "net=mx.sym.Variable('data')\n",
    "labels=mx.sym.Variable('labels')\n",
    "\n",
    "\n",
    "net=mx.sym.Convolution(net,num_filter=12,kernel=(5,5),stride=(1,1),name='conv1')\n",
    "net=mx.sym.Activation(net,'relu')\n",
    "net=mx.sym.Pooling(net,stride=(2,2),kernel=(3,3),pool_type='max')\n",
    "\n",
    "\n",
    "net=mx.sym.Convolution(net,num_filter=36,kernel=(3,3),stride=(1,1),name='conv2')\n",
    "net=mx.sym.Activation(net,'relu')\n",
    "net=mx.sym.Pooling(net,stride=(2,2),kernel=(3,3),pool_type='max')\n",
    "\n",
    "net=mx.sym.FullyConnected(net,num_hidden=128,name='fc1')\n",
    "net=mx.sym.FullyConnected(net,num_hidden=10,name='fc2')\n",
    "net=mx.sym.SoftmaxOutput(net,name='myout',label=labels)\n",
    "\n",
    "model = mx.mod.Module(\n",
    "    symbol=net,\n",
    "    data_names=['data'],\n",
    "    label_names=['labels']\n",
    ")\n",
    "model.fit(trainset,\n",
    "          evalset,\n",
    "          'acc',\n",
    "          optimizer='sgd',\n",
    "          optimizer_params={'learning_rate':1e-2},\n",
    "          num_epoch=20)"
   ]
  },
  {
   "cell_type": "markdown",
   "metadata": {},
   "source": [
    "\n",
    "## Recommended Next Steps\n",
    "\n",
    "- Learn how to [use Module API to train neural network](https://mxnet.incubator.apache.org/versions/master/tutorials/basic/module.html).\n",
    "\n",
    "- Explore ways you can [load data using Data Iterators](https://mxnet.incubator.apache.org/versions/master/tutorials/basic/data.html).\n",
    "\n",
    "- [Use pretrained models](https://mxnet.incubator.apache.org/versions/master/tutorials/python/predict_image.html) for image object detection.\n",
    "\n",
    "- [Hybridize your models](https://mxnet.incubator.apache.org/versions/master/tutorials/gluon/hybrid.html) to get the best from both `Gluon` and `Symbol API`.\n",
    "\n",
    "- Convert your existing `Module API` code to `Gluon` as it is explained [here](https://mxnet.incubator.apache.org/versions/master/tutorials/python/module_to_gluon.html). \n",
    "\n",
    "<!-- INSERT SOURCE DOWNLOAD BUTTONS -->\n",
    "\n"
   ]
  },
  {
   "cell_type": "code",
   "execution_count": 48,
   "metadata": {
    "collapsed": false
   },
   "outputs": [
    {
     "name": "stdout",
     "output_type": "stream",
     "text": [
      "out [\n",
      "[4. 6.]\n",
      "<NDArray 2 @cpu(0)>]\n",
      "grad\n",
      "[\n",
      "[1. 1.]\n",
      "<NDArray 2 @cpu(0)>, \n",
      "[0. 0.]\n",
      "<NDArray 2 @cpu(0)>]\n"
     ]
    }
   ],
   "source": [
    "a=mx.sym.Variable('a')\n",
    "b=mx.sym.Variable('b')\n",
    "c=mx.sym.make_loss(a+mx.sym.BlockGrad(b))\n",
    "ex=c.simple_bind(mx.cpu(),a=(2,),b=(2,))\n",
    "ex.forward(is_train=True,a=mx.nd.array([1,2]),b=mx.nd.array([3,4]))\n",
    "print('out',ex.outputs)\n",
    "ex.backward()\n",
    "print('grad')\n",
    "print(ex.grad_arrays)"
   ]
  },
  {
   "cell_type": "code",
   "execution_count": 57,
   "metadata": {
    "collapsed": false
   },
   "outputs": [
    {
     "data": {
      "text/plain": [
       "[\n",
       " [[1. 5.]]\n",
       " <NDArray 1x2 @cpu(0)>]"
      ]
     },
     "execution_count": 57,
     "metadata": {},
     "output_type": "execute_result"
    }
   ],
   "source": [
    "v1 = mx.nd.array([[1.,2.]])\n",
    "v2 = mx.nd.array([[0.,1.]])\n",
    "a = mx.sym.Variable('a')\n",
    "b = mx.sym.Variable('b')\n",
    "b_stop_grad = mx.sym.stop_gradient(3 * b)\n",
    "loss = mx.sym.MakeLoss(a+b_stop_grad)\n",
    "\n",
    "executor = loss.simple_bind(ctx=mx.cpu(), a=(1,2), b=(1,2))\n",
    "executor.forward(is_train=True, a=v1, b=v2)\n",
    "executor.outputs\n",
    "# [ 1.  5.]\n",
    "\n",
    "# executor.backward()\n",
    "# executor.grad_arrays\n",
    "# [ 0.  0.]\n",
    "# [ 1.  1.]"
   ]
  },
  {
   "cell_type": "code",
   "execution_count": 58,
   "metadata": {
    "collapsed": false
   },
   "outputs": [
    {
     "data": {
      "text/plain": [
       "[\n",
       " [[1. 1.]]\n",
       " <NDArray 1x2 @cpu(0)>, \n",
       " [[0. 0.]]\n",
       " <NDArray 1x2 @cpu(0)>]"
      ]
     },
     "execution_count": 58,
     "metadata": {},
     "output_type": "execute_result"
    }
   ],
   "source": [
    "executor.backward()\n",
    "executor.grad_arrays"
   ]
  },
  {
   "cell_type": "code",
   "execution_count": null,
   "metadata": {
    "collapsed": true
   },
   "outputs": [],
   "source": []
  },
  {
   "cell_type": "code",
   "execution_count": 68,
   "metadata": {
    "collapsed": false
   },
   "outputs": [
    {
     "data": {
      "text/plain": [
       "[\n",
       " [0.6862904  0.35496104]\n",
       " <NDArray 2 @cpu(0)>, \n",
       " [1.0731696  0.12017461]\n",
       " <NDArray 2 @cpu(0)>]"
      ]
     },
     "execution_count": 68,
     "metadata": {},
     "output_type": "execute_result"
    }
   ],
   "source": [
    "a=mx.sym.Variable('a')\n",
    "b=mx.sym.Variable('b')\n",
    "g=mx.sym.Group((a,b))\n",
    "ex=g.simple_bind(mx.cpu(),a=(2,),b=(2,))\n",
    "ex.forward(a=mx.nd.normal(shape=(2,)),\n",
    "           b=mx.nd.normal(shape=(2,))\n",
    "          )"
   ]
  },
  {
   "cell_type": "code",
   "execution_count": 69,
   "metadata": {
    "collapsed": false
   },
   "outputs": [
    {
     "data": {
      "text/plain": [
       "[\n",
       " [0.6862904  0.35496104]\n",
       " <NDArray 2 @cpu(0)>, \n",
       " [1.0731696  0.12017461]\n",
       " <NDArray 2 @cpu(0)>]"
      ]
     },
     "execution_count": 69,
     "metadata": {},
     "output_type": "execute_result"
    }
   ],
   "source": [
    "ex.outputs"
   ]
  },
  {
   "cell_type": "code",
   "execution_count": null,
   "metadata": {
    "collapsed": true
   },
   "outputs": [],
   "source": []
  }
 ],
 "metadata": {
  "display_name": "",
  "kernelspec": {
   "display_name": "Python 3",
   "language": "python",
   "name": "python3"
  },
  "language_info": {
   "codemirror_mode": {
    "name": "ipython",
    "version": 3
   },
   "file_extension": ".py",
   "mimetype": "text/x-python",
   "name": "python",
   "nbconvert_exporter": "python",
   "pygments_lexer": "ipython3",
   "version": "3.5.2"
  },
  "name": ""
 },
 "nbformat": 4,
 "nbformat_minor": 2
}
