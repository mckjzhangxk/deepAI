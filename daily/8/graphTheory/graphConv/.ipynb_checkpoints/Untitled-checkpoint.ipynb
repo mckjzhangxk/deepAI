{
 "cells": [
  {
   "cell_type": "code",
   "execution_count": 1,
   "metadata": {},
   "outputs": [],
   "source": [
    "import torch\n",
    "import torch.nn as nn"
   ]
  },
  {
   "cell_type": "code",
   "execution_count": 12,
   "metadata": {},
   "outputs": [],
   "source": [
    "N=5\n",
    "a=torch.zeros((N,N))"
   ]
  },
  {
   "cell_type": "code",
   "execution_count": 21,
   "metadata": {},
   "outputs": [
    {
     "data": {
      "text/plain": [
       "tensor([0.8724, 0.3015, 0.8750, 0.7785, 0.1643, 0.6597, 0.5827, 0.9486, 0.6903,\n",
       "        0.0097, 0.1527, 0.1791, 0.0162, 0.0066, 0.4326, 0.4892, 0.2918, 0.2774,\n",
       "        0.3073, 0.2785])"
      ]
     },
     "execution_count": 21,
     "metadata": {},
     "output_type": "execute_result"
    }
   ],
   "source": [
    "net=nn.Dropout(0.1).train()\n",
    "A=torch.rand(20)\n",
    "A"
   ]
  },
  {
   "cell_type": "code",
   "execution_count": 22,
   "metadata": {},
   "outputs": [
    {
     "data": {
      "text/plain": [
       "tensor([0.9693, 0.3350, 0.9722, 0.8650, 0.1826, 0.0000, 0.6475, 1.0540, 0.0000,\n",
       "        0.0107, 0.1697, 0.1990, 0.0180, 0.0073, 0.4806, 0.0000, 0.3242, 0.3082,\n",
       "        0.0000, 0.3094])"
      ]
     },
     "execution_count": 22,
     "metadata": {},
     "output_type": "execute_result"
    }
   ],
   "source": [
    "C=net(A)\n",
    "C"
   ]
  },
  {
   "cell_type": "code",
   "execution_count": 23,
   "metadata": {},
   "outputs": [
    {
     "data": {
      "text/plain": [
       "tensor([0.9693, 0.3350, 0.9722, 0.8650, 0.1826, 0.7330, 0.6475, 1.0540, 0.7670,\n",
       "        0.0107, 0.1697, 0.1990, 0.0180, 0.0073, 0.4806, 0.5435, 0.3242, 0.3082,\n",
       "        0.3414, 0.3094])"
      ]
     },
     "execution_count": 23,
     "metadata": {},
     "output_type": "execute_result"
    }
   ],
   "source": [
    "A/0.9"
   ]
  },
  {
   "cell_type": "code",
   "execution_count": 13,
   "metadata": {},
   "outputs": [
    {
     "data": {
      "text/plain": [
       "tensor([[-0.3113, -0.9595,  0.5120,  1.8250, -0.4307],\n",
       "        [-0.9336, -0.1742,  0.8696,  0.5671, -0.1617],\n",
       "        [ 0.0911, -0.6219,  0.7780,  0.6191, -0.3274],\n",
       "        [-0.4159,  0.5683, -0.1470,  0.3903, -0.7419],\n",
       "        [ 0.2815, -0.8318,  0.2108, -0.0999, -0.4160]])"
      ]
     },
     "execution_count": 13,
     "metadata": {},
     "output_type": "execute_result"
    }
   ],
   "source": [
    "nn.init.xavier_normal_(a,)"
   ]
  },
  {
   "cell_type": "code",
   "execution_count": 14,
   "metadata": {},
   "outputs": [
    {
     "data": {
      "text/plain": [
       "tensor([[-0.3113, -0.9595,  0.5120,  1.8250, -0.4307],\n",
       "        [-0.9336, -0.1742,  0.8696,  0.5671, -0.1617],\n",
       "        [ 0.0911, -0.6219,  0.7780,  0.6191, -0.3274],\n",
       "        [-0.4159,  0.5683, -0.1470,  0.3903, -0.7419],\n",
       "        [ 0.2815, -0.8318,  0.2108, -0.0999, -0.4160]])"
      ]
     },
     "execution_count": 14,
     "metadata": {},
     "output_type": "execute_result"
    }
   ],
   "source": [
    "a"
   ]
  },
  {
   "cell_type": "code",
   "execution_count": 15,
   "metadata": {},
   "outputs": [
    {
     "data": {
      "text/plain": [
       "tensor(0.0056)"
      ]
     },
     "execution_count": 15,
     "metadata": {},
     "output_type": "execute_result"
    }
   ],
   "source": [
    "a.mean()"
   ]
  },
  {
   "cell_type": "code",
   "execution_count": 16,
   "metadata": {},
   "outputs": [
    {
     "data": {
      "text/plain": [
       "tensor(0.6618)"
      ]
     },
     "execution_count": 16,
     "metadata": {},
     "output_type": "execute_result"
    }
   ],
   "source": [
    "a.std()"
   ]
  },
  {
   "cell_type": "code",
   "execution_count": 17,
   "metadata": {},
   "outputs": [
    {
     "data": {
      "text/plain": [
       "0.4472135954999579"
      ]
     },
     "execution_count": 17,
     "metadata": {},
     "output_type": "execute_result"
    }
   ],
   "source": [
    "(2/(N+N))**0.5"
   ]
  },
  {
   "cell_type": "code",
   "execution_count": 18,
   "metadata": {},
   "outputs": [],
   "source": [
    "    import numpy as np \n",
    "    from scipy.sparse import coo_matrix\n",
    "    \n",
    "    device='cuda'\n",
    "\n",
    "    row=np.array([1,2,3,4])\n",
    "    col=np.array([4,3,2,1])\n",
    "    val=np.array([1,1,1,1])\n",
    "\n",
    "    ii=torch.Tensor(np.vstack((row,col))).long().to(device)\n",
    "    val=torch.from_numpy(val).float().to(device)\n",
    "    A=torch.sparse.FloatTensor(indices=ii,values=val,device='cpu',size=(5,5))\n",
    "\n",
    "    X=torch.rand(5,3).to(device)"
   ]
  },
  {
   "cell_type": "code",
   "execution_count": 21,
   "metadata": {},
   "outputs": [
    {
     "data": {
      "text/plain": [
       "tensor(indices=tensor([[1, 2, 3, 4],\n",
       "                       [4, 3, 2, 1]]),\n",
       "       values=tensor([1., 1., 1., 1.]),\n",
       "       device='cuda:0', size=(5, 5), nnz=4, layout=torch.sparse_coo)"
      ]
     },
     "execution_count": 21,
     "metadata": {},
     "output_type": "execute_result"
    }
   ],
   "source": [
    "A"
   ]
  },
  {
   "cell_type": "code",
   "execution_count": 5,
   "metadata": {},
   "outputs": [
    {
     "data": {
      "text/plain": [
       "tensor([[0.0000, 0.0000, 0.0000],\n",
       "        [0.6224, 0.4722, 0.6317],\n",
       "        [0.2579, 0.4307, 0.9966],\n",
       "        [0.6842, 0.0370, 0.9827],\n",
       "        [0.9041, 0.6171, 0.6159]], device='cuda:0')"
      ]
     },
     "execution_count": 5,
     "metadata": {},
     "output_type": "execute_result"
    }
   ],
   "source": [
    "torch.spmm(A,X)"
   ]
  },
  {
   "cell_type": "code",
   "execution_count": 9,
   "metadata": {},
   "outputs": [],
   "source": [
    "A1=A.to_dense().cpu().numpy()\n",
    "X1=X.cpu().numpy()"
   ]
  },
  {
   "cell_type": "code",
   "execution_count": 10,
   "metadata": {},
   "outputs": [
    {
     "data": {
      "text/plain": [
       "array([[0.        , 0.        , 0.        ],\n",
       "       [0.622388  , 0.47223055, 0.63168806],\n",
       "       [0.2579484 , 0.43066078, 0.9965666 ],\n",
       "       [0.68423325, 0.03697932, 0.9827291 ],\n",
       "       [0.9040876 , 0.6170724 , 0.6159161 ]], dtype=float32)"
      ]
     },
     "execution_count": 10,
     "metadata": {},
     "output_type": "execute_result"
    }
   ],
   "source": [
    "A1.dot(X1)"
   ]
  },
  {
   "cell_type": "code",
   "execution_count": null,
   "metadata": {},
   "outputs": [],
   "source": [
    "nn.Parameter()"
   ]
  }
 ],
 "metadata": {
  "kernelspec": {
   "display_name": "Python 3",
   "language": "python",
   "name": "python3"
  },
  "language_info": {
   "codemirror_mode": {
    "name": "ipython",
    "version": 3
   },
   "file_extension": ".py",
   "mimetype": "text/x-python",
   "name": "python",
   "nbconvert_exporter": "python",
   "pygments_lexer": "ipython3",
   "version": "3.5.2"
  }
 },
 "nbformat": 4,
 "nbformat_minor": 1
}
