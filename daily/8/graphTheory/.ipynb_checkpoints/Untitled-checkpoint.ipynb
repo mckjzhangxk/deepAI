{
 "cells": [
  {
   "cell_type": "code",
   "execution_count": 3,
   "metadata": {
    "collapsed": true
   },
   "outputs": [],
   "source": [
    "import numpy as np\n",
    "from scipy.linalg import  eigh"
   ]
  },
  {
   "cell_type": "code",
   "execution_count": 9,
   "metadata": {
    "collapsed": true
   },
   "outputs": [],
   "source": [
    "def makeLaplacion(N):\n",
    "    '''\n",
    "    创建laplacian matrix,对角是2,off 对角是-1，左上和右下都是-1，\n",
    "    '''\n",
    "    M=np.eye(N,N)*2\n",
    "    i,j=np.diag_indices_from(M)\n",
    "    M[i[:-1],(j+1)[:-1]]=-1\n",
    "    M[i[1:],j[1:]-1]=-1\n",
    "    \n",
    "    M[0][-1]=-1\n",
    "    M[-1][0]=-1\n",
    "    return M\n",
    "def makeFourBasic(N):\n",
    "    r=np.arange(N)\n",
    "    power=np.outer(r,r)\n",
    "    F=np.exp((2*np.pi*1j/N)*power)\n",
    "    return F\n",
    "def validate(R):\n",
    "    '''\n",
    "    分别打印实和虚， 把1e-6的变成0\n",
    "    '''\n",
    "    I=R.imag\n",
    "    R=R.real\n",
    "    \n",
    "    mask=np.abs(R)<1e-6\n",
    "    R[mask]=0\n",
    "    \n",
    "\n",
    "    mask=np.abs(I)<1e-6\n",
    "    I[mask]=0\n",
    "    \n",
    "    \n",
    "    print(R)\n",
    "    assert np.all(I)==0"
   ]
  },
  {
   "cell_type": "code",
   "execution_count": 10,
   "metadata": {
    "collapsed": false,
    "scrolled": true
   },
   "outputs": [],
   "source": [
    "N=5\n",
    "M=makeLaplacion(N)\n",
    "S,V=eigh(M)"
   ]
  },
  {
   "cell_type": "markdown",
   "metadata": {},
   "source": [
    "### 傅立叶 basic是那个laplician matrix的 eigfunction?\n",
    "\n",
    "$$w_j={}_\\{ exp(\\frac{2\\pi i j k}{N})\\}_{k}$$"
   ]
  },
  {
   "cell_type": "code",
   "execution_count": 17,
   "metadata": {
    "collapsed": false
   },
   "outputs": [
    {
     "name": "stdout",
     "output_type": "stream",
     "text": [
      "[[1. 0. 0. 0. 0. 0. 0. 0.]\n",
      " [0. 1. 0. 0. 0. 0. 0. 0.]\n",
      " [0. 0. 1. 0. 0. 0. 0. 0.]\n",
      " [0. 0. 0. 1. 0. 0. 0. 0.]\n",
      " [0. 0. 0. 0. 1. 0. 0. 0.]\n",
      " [0. 0. 0. 0. 0. 1. 0. 0.]\n",
      " [0. 0. 0. 0. 0. 0. 1. 0.]\n",
      " [0. 0. 0. 0. 0. 0. 0. 1.]]\n"
     ]
    }
   ],
   "source": [
    "N=8\n",
    "F=makeFourBasic(N)\n",
    "FH=F.conj().T\n",
    "Finv=FH/N\n",
    "\n",
    "R=F.dot(Finv)\n",
    "validate(R)\n",
    "# D=np.diag(np.arange(N))\n",
    "\n",
    "# R=F.dot(FH)\n",
    "# validate(R)\n",
    "# M=F.dot(D).dot(FH)\n",
    "# validate(M)"
   ]
  },
  {
   "cell_type": "code",
   "execution_count": 19,
   "metadata": {
    "collapsed": false
   },
   "outputs": [
    {
     "name": "stdout",
     "output_type": "stream",
     "text": [
      "[[28. -4. -4. -4. -4. -4. -4. -4.]\n",
      " [-4. 28. -4. -4. -4. -4. -4. -4.]\n",
      " [-4. -4. 28. -4. -4. -4. -4. -4.]\n",
      " [-4. -4. -4. 28. -4. -4. -4. -4.]\n",
      " [-4. -4. -4. -4. 28. -4. -4. -4.]\n",
      " [-4. -4. -4. -4. -4. 28. -4. -4.]\n",
      " [-4. -4. -4. -4. -4. -4. 28. -4.]\n",
      " [-4. -4. -4. -4. -4. -4. -4. 28.]]\n"
     ]
    }
   ],
   "source": [
    "# 我的目的是构造一个 对称矩阵 L=W A Wh,\n",
    "# 开始猜想是使用 A=diag([0,....N-1])\n",
    "D=np.diag(np.arange(N))\n",
    "R=F.dot(D).dot(FH)\n",
    "validate(R)"
   ]
  },
  {
   "cell_type": "markdown",
   "metadata": {},
   "source": [
    "# 可以看出规律来\n",
    "#  $$D_{ii}=\\frac{n(n-1)}{2}$$\n",
    "#  $$D_{ij}=\\frac{n}{2}$$\n",
    "\n",
    "# 如果加上 off diag=-1的限制，A 应该取如下\n",
    "\n",
    "$$A=\\{0,1,2,3,.....N-1\\}* \\frac{2}{N}$$"
   ]
  },
  {
   "cell_type": "code",
   "execution_count": 26,
   "metadata": {
    "collapsed": false
   },
   "outputs": [
    {
     "name": "stdout",
     "output_type": "stream",
     "text": [
      "[[ 9. -1. -1. -1. -1. -1. -1. -1. -1. -1.]\n",
      " [-1.  9. -1. -1. -1. -1. -1. -1. -1. -1.]\n",
      " [-1. -1.  9. -1. -1. -1. -1. -1. -1. -1.]\n",
      " [-1. -1. -1.  9. -1. -1. -1. -1. -1. -1.]\n",
      " [-1. -1. -1. -1.  9. -1. -1. -1. -1. -1.]\n",
      " [-1. -1. -1. -1. -1.  9. -1. -1. -1. -1.]\n",
      " [-1. -1. -1. -1. -1. -1.  9. -1. -1. -1.]\n",
      " [-1. -1. -1. -1. -1. -1. -1.  9. -1. -1.]\n",
      " [-1. -1. -1. -1. -1. -1. -1. -1.  9. -1.]\n",
      " [-1. -1. -1. -1. -1. -1. -1. -1. -1.  9.]]\n"
     ]
    }
   ],
   "source": [
    "N=10\n",
    "F=makeFourBasic(N)\n",
    "FH=F.conj().T\n",
    "\n",
    "D=np.diag(np.arange(N))*2/N\n",
    "R=F.dot(D).dot(FH)\n",
    "validate(R)"
   ]
  },
  {
   "cell_type": "code",
   "execution_count": null,
   "metadata": {
    "collapsed": true
   },
   "outputs": [],
   "source": []
  }
 ],
 "metadata": {
  "kernelspec": {
   "display_name": "Python 3",
   "language": "python",
   "name": "python3"
  },
  "language_info": {
   "codemirror_mode": {
    "name": "ipython",
    "version": 3
   },
   "file_extension": ".py",
   "mimetype": "text/x-python",
   "name": "python",
   "nbconvert_exporter": "python",
   "pygments_lexer": "ipython3",
   "version": "3.5.2"
  }
 },
 "nbformat": 4,
 "nbformat_minor": 2
}
