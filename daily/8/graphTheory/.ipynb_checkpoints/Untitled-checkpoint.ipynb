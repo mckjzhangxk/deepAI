{
 "cells": [
  {
   "cell_type": "code",
   "execution_count": 1,
   "metadata": {},
   "outputs": [],
   "source": [
    "import numpy as np"
   ]
  },
  {
   "cell_type": "code",
   "execution_count": 174,
   "metadata": {},
   "outputs": [],
   "source": [
    "def makeLaplacion(N):\n",
    "    M=np.eye(N,N)*2\n",
    "    i,j=np.diag_indices_from(M)\n",
    "    M[i[:-1],(j+1)[:-1]]=-1\n",
    "    M[i[1:],j[1:]-1]=-1\n",
    "    \n",
    "    M[0][-1]=-1\n",
    "    M[-1][0]=-1\n",
    "    return M\n",
    "def makeFourBasic(N):\n",
    "    r=np.arange(N)\n",
    "    power=np.outer(r,r)\n",
    "    F=np.exp((2*np.pi*1j/N)*power)\n",
    "    return F\n",
    "def validate(R):\n",
    "    I=R.imag\n",
    "    R=R.real\n",
    "    \n",
    "    mask=np.abs(R)<1e-6\n",
    "    R[mask]=0\n",
    "    \n",
    "\n",
    "    mask=np.abs(I)<1e-6\n",
    "    I[mask]=0\n",
    "    \n",
    "    \n",
    "    print(R)\n",
    "    assert np.all(I)==0"
   ]
  },
  {
   "cell_type": "code",
   "execution_count": 175,
   "metadata": {
    "scrolled": true
   },
   "outputs": [],
   "source": [
    "N=5\n",
    "M=makeLaplacion(N)\n",
    "S,V=np.linalg.eig(M)\n",
    "index=np.argsort(S)\n",
    "S=S[index]\n",
    "V=V[:,index]"
   ]
  },
  {
   "cell_type": "code",
   "execution_count": 180,
   "metadata": {},
   "outputs": [
    {
     "name": "stdout",
     "output_type": "stream",
     "text": [
      "[[10.  0.  0.  0.  0.  0.  0.  0.  0.  0.]\n",
      " [ 0. 10.  0.  0.  0.  0.  0.  0.  0.  0.]\n",
      " [ 0.  0. 10.  0.  0.  0.  0.  0.  0.  0.]\n",
      " [ 0.  0.  0. 10.  0.  0.  0.  0.  0.  0.]\n",
      " [ 0.  0.  0.  0. 10.  0.  0.  0.  0.  0.]\n",
      " [ 0.  0.  0.  0.  0. 10.  0.  0.  0.  0.]\n",
      " [ 0.  0.  0.  0.  0.  0. 10.  0.  0.  0.]\n",
      " [ 0.  0.  0.  0.  0.  0.  0. 10.  0.  0.]\n",
      " [ 0.  0.  0.  0.  0.  0.  0.  0. 10.  0.]\n",
      " [ 0.  0.  0.  0.  0.  0.  0.  0.  0. 10.]]\n",
      "[[45. -5. -5. -5. -5. -5. -5. -5. -5. -5.]\n",
      " [-5. 45. -5. -5. -5. -5. -5. -5. -5. -5.]\n",
      " [-5. -5. 45. -5. -5. -5. -5. -5. -5. -5.]\n",
      " [-5. -5. -5. 45. -5. -5. -5. -5. -5. -5.]\n",
      " [-5. -5. -5. -5. 45. -5. -5. -5. -5. -5.]\n",
      " [-5. -5. -5. -5. -5. 45. -5. -5. -5. -5.]\n",
      " [-5. -5. -5. -5. -5. -5. 45. -5. -5. -5.]\n",
      " [-5. -5. -5. -5. -5. -5. -5. 45. -5. -5.]\n",
      " [-5. -5. -5. -5. -5. -5. -5. -5. 45. -5.]\n",
      " [-5. -5. -5. -5. -5. -5. -5. -5. -5. 45.]]\n"
     ]
    }
   ],
   "source": [
    "N=10\n",
    "F=makeFourBasic(N)\n",
    "FH=F.conj()\n",
    "\n",
    "D=np.diag(np.arange(N))\n",
    "\n",
    "R=F.dot(FH)\n",
    "validate(R)\n",
    "M=F.dot(D).dot(FH)\n",
    "validate(M)"
   ]
  },
  {
   "cell_type": "code",
   "execution_count": 171,
   "metadata": {},
   "outputs": [
    {
     "data": {
      "text/plain": [
       "array([ 3.53553391e-01+5.27355937e-16j,  2.50000000e-01+2.50000000e-01j,\n",
       "        1.94289029e-16+3.53553391e-01j, -2.50000000e-01+2.50000000e-01j,\n",
       "       -3.53553391e-01-5.55111512e-17j, -2.50000000e-01-2.50000000e-01j,\n",
       "       -3.05311332e-16-3.53553391e-01j,  2.50000000e-01-2.50000000e-01j])"
      ]
     },
     "execution_count": 171,
     "metadata": {},
     "output_type": "execute_result"
    }
   ],
   "source": [
    "M.dot(F[1,:])"
   ]
  },
  {
   "cell_type": "code",
   "execution_count": 165,
   "metadata": {},
   "outputs": [],
   "source": [
    "S,CC=np.linalg.eig(M)"
   ]
  },
  {
   "cell_type": "code",
   "execution_count": 166,
   "metadata": {},
   "outputs": [
    {
     "data": {
      "text/plain": [
       "array([-6.19710387e-16+1.20423021e-16j,  7.00000000e+00+8.94772653e-17j,\n",
       "        1.00000000e+00+2.15373081e-16j,  6.00000000e+00-4.86251745e-16j,\n",
       "        2.00000000e+00+4.22481470e-16j,  3.00000000e+00-3.70895663e-16j,\n",
       "        5.00000000e+00+6.24379784e-17j,  4.00000000e+00-2.75090012e-16j])"
      ]
     },
     "execution_count": 166,
     "metadata": {},
     "output_type": "execute_result"
    }
   ],
   "source": [
    "S"
   ]
  },
  {
   "cell_type": "code",
   "execution_count": 160,
   "metadata": {},
   "outputs": [
    {
     "data": {
      "text/plain": [
       "array([[-0.        ,  0.        ,  0.        ,  0.        ,  0.        ,\n",
       "         0.        ,  0.        ,  0.        ],\n",
       "       [-0.        ,  0.01785714,  0.        ,  0.        ,  0.        ,\n",
       "         0.        ,  0.        ,  0.        ],\n",
       "       [-0.        ,  0.        ,  0.25      ,  0.        ,  0.        ,\n",
       "         0.        ,  0.        ,  0.        ],\n",
       "       [-0.        ,  0.        ,  0.        ,  0.0625    ,  0.        ,\n",
       "         0.        ,  0.        ,  0.        ],\n",
       "       [-0.        ,  0.        ,  0.        ,  0.        ,  0.25      ,\n",
       "         0.        ,  0.        ,  0.        ],\n",
       "       [-0.        ,  0.        ,  0.        ,  0.        ,  0.        ,\n",
       "         0.20833333,  0.        ,  0.        ],\n",
       "       [-0.        ,  0.        ,  0.        ,  0.        ,  0.        ,\n",
       "         0.        ,  0.15      ,  0.        ],\n",
       "       [-0.        ,  0.        ,  0.        ,  0.        ,  0.        ,\n",
       "         0.        ,  0.        ,  0.21875   ]])"
      ]
     },
     "execution_count": 160,
     "metadata": {},
     "output_type": "execute_result"
    }
   ],
   "source": [
    "(D/S).real"
   ]
  },
  {
   "cell_type": "code",
   "execution_count": null,
   "metadata": {},
   "outputs": [],
   "source": []
  }
 ],
 "metadata": {
  "kernelspec": {
   "display_name": "Python 3",
   "language": "python",
   "name": "python3"
  },
  "language_info": {
   "codemirror_mode": {
    "name": "ipython",
    "version": 3
   },
   "file_extension": ".py",
   "mimetype": "text/x-python",
   "name": "python",
   "nbconvert_exporter": "python",
   "pygments_lexer": "ipython3",
   "version": "3.5.2"
  }
 },
 "nbformat": 4,
 "nbformat_minor": 2
}
