{
 "cells": [
  {
   "cell_type": "code",
   "execution_count": 33,
   "metadata": {},
   "outputs": [],
   "source": [
    "import numpy as np\n",
    "import cv2\n",
    "from collections import defaultdict\n",
    "import matplotlib.pyplot as plt\n",
    "%matplotlib inline"
   ]
  },
  {
   "cell_type": "code",
   "execution_count": 92,
   "metadata": {},
   "outputs": [],
   "source": [
    "class MoFang():\n",
    "    def __init__(self,d,desc=['top','bottom','left','right','front','back']):\n",
    "        self._d=np.array(d).copy()\n",
    "        self._desc=desc\n",
    "        self._check_()\n",
    "    def _check_(self):\n",
    "        colors=defaultdict(int)\n",
    "        for row in self._d:\n",
    "            for col in row:\n",
    "                colors[col]+=1\n",
    "        for k,v in colors.items():\n",
    "            assert v==4\n",
    "    def getDesc(self):\n",
    "        return self._desc\n",
    "    def getConfig(self):\n",
    "        return self._d\n",
    "def draw(model):\n",
    "    def getFace(faceconf):\n",
    "        color={\n",
    "            'R':(1,0,0),\n",
    "            'G':(0,1,0),\n",
    "            'B':(0,0,1),\n",
    "            'Y':(1,1,0),\n",
    "            'W':(1,1,1),\n",
    "            'O':(1,0.4,0)\n",
    "        }\n",
    "        pad=2\n",
    "        size=64+2*pad\n",
    "        r=np.zeros((size,size,3))\n",
    "        P=size//2\n",
    "        \n",
    "        r[pad:P-pad,pad:P-pad]=color[faceconf[3]] #(0,0)\n",
    "        r[P:-pad,pad:P-pad]=color[faceconf[0]]  #(1,0)\n",
    "        r[pad:P-pad,P:-pad]=color[faceconf[2]] #(0,1)\n",
    "        r[P:-pad,P:-pad]=color[faceconf[1]]\n",
    "        return r\n",
    "    plt.figure(figsize=(10,10))\n",
    "    for i,(faceconf,name) in enumerate(zip(model.getConfig(),model.getDesc())):\n",
    "        I=getFace(faceconf)\n",
    "        plt.subplot(3,2,i+1)\n",
    "        plt.imshow(I)\n",
    "        plt.title(name)\n",
    "        plt.axis('off')"
   ]
  },
  {
   "cell_type": "code",
   "execution_count": 93,
   "metadata": {},
   "outputs": [
    {
     "data": {
      "image/png": "[encoded data removed]",
      "text/plain": [
       "<Figure size 720x720 with 6 Axes>"
      ]
     },
     "metadata": {
      "needs_background": "light"
     },
     "output_type": "display_data"
    }
   ],
   "source": [
    "config=[\n",
    "    ['B','Y','G','W'], #top\n",
    "    ['Y','W','G','B'], #bottom\n",
    "    ['G','O','R','B'], #left\n",
    "    ['R','O','W','G'], #right\n",
    "    ['Y','W','R','Y'], #front\n",
    "    ['B','O','R','O'], #back\n",
    "]\n",
    "model=MoFang(config)\n",
    "draw(model)"
   ]
  },
  {
   "cell_type": "code",
   "execution_count": null,
   "metadata": {},
   "outputs": [],
   "source": []
  }
 ],
 "metadata": {
  "kernelspec": {
   "display_name": "Python 3",
   "language": "python",
   "name": "python3"
  },
  "language_info": {
   "codemirror_mode": {
    "name": "ipython",
    "version": 3
   },
   "file_extension": ".py",
   "mimetype": "text/x-python",
   "name": "python",
   "nbconvert_exporter": "python",
   "pygments_lexer": "ipython3",
   "version": "3.7.3"
  }
 },
 "nbformat": 4,
 "nbformat_minor": 2
}
