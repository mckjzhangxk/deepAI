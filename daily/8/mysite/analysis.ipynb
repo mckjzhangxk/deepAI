{
 "cells": [
  {
   "cell_type": "code",
   "execution_count": 1,
   "metadata": {
    "collapsed": false
   },
   "outputs": [
    {
     "name": "stdout",
     "output_type": "stream",
     "text": [
      "/home/zhangxk/projects/deepAI/daily/8/mysite/facenet/align\n",
      "load model from /home/zhangxk/projects/deepAI/daily/8/mysite/recognition_facenet/model"
     ]
    },
    {
     "name": "stderr",
     "output_type": "stream",
     "text": [
      "WARNING:tensorflow:From /usr/local/lib/python3.5/dist-packages/tensorflow/python/training/queue_runner_impl.py:391: QueueRunner.__init__ (from tensorflow.python.training.queue_runner_impl) is deprecated and will be removed in a future version.\n",
      "Instructions for updating:\n",
      "To construct input pipelines, use the `tf.data` module.\n"
     ]
    },
    {
     "name": "stdout",
     "output_type": "stream",
     "text": [
      "\n",
      "Model directory: /home/zhangxk/projects/deepAI/daily/8/mysite/recognition_facenet/model\n",
      "Metagraph file: model-20180402-114759.meta\n",
      "Checkpoint file: model-20180402-114759.ckpt-275\n"
     ]
    }
   ],
   "source": [
    "from recognition_facenet.recognition import face_encodings,model,_detectSingleFace,pnet_fun,rnet_fun,onet_fun\n",
    "import cv2\n",
    "import numpy as np\n",
    "from scipy.misc import imread,imresize\n",
    "import matplotlib.pyplot as plt\n",
    "import os\n",
    "from facenet.align.detect_face import detect_face,create_mtcnn\n",
    "from common import ROC_AUC,plotROC\n",
    "from recognition_facenet.ImageProcess import equalization,modify_autoContract\n",
    "%matplotlib inline"
   ]
  },
  {
   "cell_type": "code",
   "execution_count": 2,
   "metadata": {
    "collapsed": false
   },
   "outputs": [
    {
     "name": "stdout",
     "output_type": "stream",
     "text": [
      "(16, 512)\n"
     ]
    }
   ],
   "source": [
    "dbFile='./webapp/facedb1'\n",
    "dbs=[]\n",
    "fnames=[]\n",
    "for f in os.listdir(dbFile):\n",
    "#     face=_detectSingleFace(os.path.join(dbFile,f),pad=22,preprocsingFunc=equalization)\n",
    "#     face_encode=model.predict([face])[0]\n",
    "    face_encode=face_encodings(os.path.join(dbFile,f),pad=22,prefunc=modify_autoContract)[0]\n",
    "#     face_encode=face_encodings(os.path.join(dbFile,f))[0]\n",
    "    dbs.append(face_encode)\n",
    "    fnames.append(f)\n",
    "dbs=np.array(dbs)\n",
    "print(dbs.shape)"
   ]
  },
  {
   "cell_type": "code",
   "execution_count": 4,
   "metadata": {
    "collapsed": false
   },
   "outputs": [
    {
     "data": {
      "text/plain": [
       "array([-0.06402157,  0.04419756, -0.0109132 ,  0.02123769], dtype=float32)"
      ]
     },
     "execution_count": 4,
     "metadata": {},
     "output_type": "execute_result"
    }
   ],
   "source": [
    "# array([-0.06402157,  0.04419756, -0.0109132 ,  0.02123769], dtype=float32)\n",
    "dbs[0][[0,3,5,6]]"
   ]
  },
  {
   "cell_type": "code",
   "execution_count": 5,
   "metadata": {
    "collapsed": false
   },
   "outputs": [
    {
     "name": "stderr",
     "output_type": "stream",
     "text": [
      "/usr/local/lib/python3.5/dist-packages/ipykernel/__main__.py:7: DeprecationWarning: `imread` is deprecated!\n",
      "`imread` is deprecated in SciPy 1.0.0, and will be removed in 1.2.0.\n",
      "Use ``imageio.imread`` instead.\n",
      "/usr/local/lib/python3.5/dist-packages/ipykernel/__main__.py:28: DeprecationWarning: `imresize` is deprecated!\n",
      "`imresize` is deprecated in SciPy 1.0.0, and will be removed in 1.2.0.\n",
      "Use ``skimage.transform.resize`` instead.\n"
     ]
    },
    {
     "name": "stdout",
     "output_type": "stream",
     "text": [
      "# of faces: 252\n",
      "# of align faces: 250\n"
     ]
    }
   ],
   "source": [
    "def readDetectFile(fs='./webapp/detect/'):\n",
    "    '''\n",
    "    read files under fs,return a list of images[HxWxC]\n",
    "    '''\n",
    "    images=[]\n",
    "    for f in os.listdir(fs):\n",
    "        I=imread(os.path.join(fs,f),mode='RGB')\n",
    "        I=modify_autoContract(I)\n",
    "        images.append(I)\n",
    "    return images\n",
    "def alignImage(images,minsize=50, threshold = [0.6, 0.7, 0.7], factor=0.709,pad=0,image_size=160,savePath=None):\n",
    "    '''\n",
    "        images is a list of images,I want to find the face of each image using MTCNN\n",
    "        return a align verson of images,some face may fail to detect,so len(ret)<=len(images)\n",
    "    '''\n",
    "    ret=[]\n",
    "    for i,I in enumerate(images):\n",
    "        box, point=detect_face(I,minsize,pnet_fun,rnet_fun,onet_fun,threshold,factor)\n",
    "\n",
    "        if len(box)==0:continue\n",
    "\n",
    "        h,w=I.shape[0:2]\n",
    "        x1, y1, x2, y2, acc = box[0]\n",
    "        x1, y1, x2, y2 = max(x1-pad, 0), max(y1-pad, 0), min(x2+pad, w), min(y2+pad, h)\n",
    "        x1, y1, x2, y2 = int(x1), int(y1), int(x2), int(y2)\n",
    "\n",
    "        cropped=I[y1:y2,x1:x2]\n",
    "        aligned = imresize(cropped, (image_size, image_size), interp='bilinear')\n",
    "        if savePath:\n",
    "            plt.imsave(os.path.join(savePath,str(i)+'.png'),cropped)\n",
    "            plt.imsave(os.path.join(savePath,str(i)+'_align.png'),aligned)\n",
    "        ret.append(aligned)\n",
    "    return ret\n",
    "\n",
    "detectImages      =readDetectFile()\n",
    "print('# of faces:',len(detectImages))\n",
    "align_detectImages=alignImage(detectImages,savePath='./webapp/detect_align',pad=22)\n",
    "print('# of align faces:',len(align_detectImages))"
   ]
  },
  {
   "cell_type": "code",
   "execution_count": 6,
   "metadata": {
    "collapsed": true
   },
   "outputs": [],
   "source": [
    "def writenface(images): \n",
    "    '''\n",
    "        set mean=0,std=1,do not care about spatial imformation\n",
    "    '''\n",
    "    images=np.array(images)\n",
    "    \n",
    "    m,h,w,c=images.shape\n",
    "    images.shape=(m,h*w*c)\n",
    "    \n",
    "    u=np.mean(images,axis=1,keepdims=True)\n",
    "    s=np.std(images,axis=1,keepdims=True)\n",
    "    images= (images-u)/s\n",
    "    images.shape=(m,h,w,c)\n",
    "    return images\n",
    "writen_faces=writenface(align_detectImages)\n",
    "#after writen,I compute feature of each face\n",
    "batch=32\n",
    "batchcodes=[]\n",
    "m=len(writen_faces)\n",
    "steps= int(np.ceil(m/batch))\n",
    "for s in range(steps):\n",
    "    code=model.predict(writen_faces[s*batch:(s+1)*batch])\n",
    "    batchcodes.append(code)\n",
    "batchcodes=np.concatenate(batchcodes,axis=0)"
   ]
  },
  {
   "cell_type": "code",
   "execution_count": 7,
   "metadata": {
    "collapsed": true
   },
   "outputs": [],
   "source": [
    "#I want be cool ,so I using this fancy policy to compute disi<Xi,Bj>\n",
    "def computeSimiliary(s,b):\n",
    "    '''\n",
    "        s mxn\n",
    "        b kxn\n",
    "        return sb have shape mxk\n",
    "        sb[i,j]=|si-bj|\n",
    "    '''\n",
    "    s,b=s.copy(),b.copy()\n",
    "    s=np.expand_dims(s,axis=1) #mx1xn\n",
    "    b=np.expand_dims(b,axis=0) #1xk*n\n",
    "    sb=np.linalg.norm(s-b,axis=2)\n",
    "    return sb\n",
    "MK=computeSimiliary(batchcodes,dbs)"
   ]
  },
  {
   "cell_type": "code",
   "execution_count": 8,
   "metadata": {
    "collapsed": false
   },
   "outputs": [
    {
     "name": "stdout",
     "output_type": "stream",
     "text": [
      "  michelle obama.jpg:mean=1.4395 ,std=0.0395\n",
      "               3.png:mean=0.8192 ,std=0.0667\n",
      "      steve jobs.jpg:mean=1.5239 ,std=0.0328\n",
      "       liv tyler.jpg:mean=1.4464 ,std=0.0345\n",
      "  martina hingis.jpg:mean=1.4861 ,std=0.0327\n",
      "               1.png:mean=1.0766 ,std=0.0507\n",
      "               2.png:mean=0.9905 ,std=0.0549\n",
      "               8.jpg:mean=1.0421 ,std=0.0575\n",
      "            bill.jpg:mean=1.3118 ,std=0.0406\n",
      "    aaron carter.jpg:mean=1.3054 ,std=0.0480\n",
      "               6.png:mean=0.7712 ,std=0.0613\n",
      "         zhangxk.png:mean=0.5237 ,std=0.0936\n",
      "    adrien brody.jpg:mean=1.3781 ,std=0.0452\n",
      "               4.png:mean=1.0904 ,std=0.0509\n",
      "      adam brody.jpg:mean=1.3421 ,std=0.0450\n",
      "               5.png:mean=1.0275 ,std=0.0507\n"
     ]
    },
    {
     "data": {
      "image/png": "[encoded data removed]",
      "text/plain": [
       "<matplotlib.figure.Figure at 0x7f33af646cc0>"
      ]
     },
     "metadata": {},
     "output_type": "display_data"
    }
   ],
   "source": [
    "#for zhangxk.png\n",
    "# u=0.5150 ,std=0.0932\n",
    "# zhangxk.png:mean=0.5271 ,std=0.0911\n",
    "# zhangxk.png:mean=0.5020 ,std=0.0905 with equalization\n",
    "# [0.44967447966337204 0.6741776540875435]\n",
    "for k in range(MK.shape[1]):\n",
    "    dists=MK[:,k]\n",
    "    u,s=np.mean(dists),np.std(dists)\n",
    "    plt.hist(dists)\n",
    "    print('%20s:mean=%.4f ,std=%.4f'%(fnames[k],u,s))\n",
    "#     print(u-1*s,u+1*s)"
   ]
  },
  {
   "cell_type": "code",
   "execution_count": 9,
   "metadata": {
    "collapsed": false
   },
   "outputs": [
    {
     "name": "stdout",
     "output_type": "stream",
     "text": [
      "best rule is score<=0.680630,under this rule,TPR is 0.952000,FPR is 0.004533\n",
      "accuracy is 0.9928\n"
     ]
    },
    {
     "data": {
      "image/png": "[encoded data removed]",
      "text/plain": [
       "<matplotlib.figure.Figure at 0x7f33af5440b8>"
      ]
     },
     "metadata": {},
     "output_type": "display_data"
    }
   ],
   "source": [
    "from sklearn.metrics import roc_auc_score,auc\n",
    "K=fnames.index('zhangxk.png') #I am cheat\n",
    "y=np.zeros(MK.shape)\n",
    "y[:,K]=1\n",
    "y=y.astype(np.bool8)\n",
    "\n",
    "thresold=np.linspace(0.01,2,1000,endpoint=False)\n",
    "TPR,FPR,acc=[],[],[]\n",
    "for t in thresold:\n",
    "    yhat=(MK<=t)\n",
    "    TP=np.sum(y*yhat)\n",
    "    FP=np.sum((~y)*yhat)\n",
    "    TN=np.sum((~y)*(~yhat))\n",
    "    FN=np.sum(y*(~yhat))\n",
    "    TPR.append((TP)/(TP+FN))\n",
    "    FPR.append((FP)/(FP+TN))\n",
    "    acc.append((TP+TN)/(TP+TN+FP+FN))\n",
    "TPR,FPR=np.array(TPR),np.array(FPR)\n",
    "# best rule is score<=0.702520,under this rule,TPR is 0.892000,FPR is 0.009067\n",
    "# best rule is score<=0.666700,under this rule,TPR is 0.948000,FPR is 0.004800\n",
    "# best rule is score<=0.680630,under this rule,TPR is 0.952000,FPR is 0.004533,using auto_contract\n",
    "# best rule is score<=0.670680,under this rule,TPR is 0.944444,FPR is 0.004233,using equalization\n",
    "\n",
    "plotROC(FPR,TPR,auc(FPR,TPR),thresold,0.005,acc)\n",
    "# the criteria is if yhat<=t  then y=1 for ROC_AUC rule,and also is my policy\n",
    "#something wrong with it\n",
    "# fp,tp,thresolds,auc=ROC_AUC(y.ravel(),yhat.ravel(),flag='binary')\n",
    "# plotROC(fp,tp,auc,thresolds,.1)\n",
    "\n",
    "# print(acc)"
   ]
  },
  {
   "cell_type": "markdown",
   "metadata": {},
   "source": [
    "### I will show that the jagged result between same person,My goal is to reduce mean and stand diveratoin!"
   ]
  },
  {
   "cell_type": "code",
   "execution_count": 10,
   "metadata": {
    "collapsed": false
   },
   "outputs": [
    {
     "name": "stdout",
     "output_type": "stream",
     "text": [
      "sample size is : 31125\n",
      "true answer is , 31125.0\n",
      "0.5480021 0.11324994\n",
      "0.3215022385120392 0.7745020091533661\n"
     ]
    },
    {
     "data": {
      "text/plain": [
       "[<matplotlib.lines.Line2D at 0x7f339da7b278>]"
      ]
     },
     "execution_count": 10,
     "metadata": {},
     "output_type": "execute_result"
    },
    {
     "data": {
      "image/png": "[encoded data removed]",
      "text/plain": [
       "<matplotlib.figure.Figure at 0x7f339da7b2b0>"
      ]
     },
     "metadata": {},
     "output_type": "display_data"
    }
   ],
   "source": [
    "\n",
    "D=batchcodes.dot(batchcodes.T)\n",
    "A=np.diag(D)\n",
    "A.shape=(-1,1)\n",
    "nsquare=A+A.T-2*D\n",
    "dists=nsquare**(0.5)\n",
    "# dists[i,j] is distance between xi,xj,so I only want upper triangle part\n",
    "dists=np.triu(dists,1)\n",
    "dists=dists[dists>0]\n",
    "print('sample size is :',len(dists))\n",
    "print('true answer is ,',(m*m-m)/2)\n",
    "plt.hist(dists,40,normed=True)\n",
    "u,s=np.mean(dists),np.std(dists)\n",
    "# sample size is : 31125\n",
    "# true answer is , 31125.0\n",
    "# 0.60630655 0.12857589\n",
    "# 0.4777306616306305 0.7348824441432953\n",
    "print(u,s)\n",
    "print(u-2*s,u+2*s)\n",
    "\n",
    "def pdf(x,u,sigma):\n",
    "    return np.exp(-((x-u)**2) /(2*sigma*sigma))/(np.sqrt(2*np.pi)*sigma)\n",
    "x=np.linspace(0,1,1000)\n",
    "y=pdf(x,u,s)\n",
    "plt.plot(x,y)"
   ]
  },
  {
   "cell_type": "code",
   "execution_count": null,
   "metadata": {
    "collapsed": true
   },
   "outputs": [],
   "source": []
  },
  {
   "cell_type": "code",
   "execution_count": null,
   "metadata": {
    "collapsed": true
   },
   "outputs": [],
   "source": []
  }
 ],
 "metadata": {
  "kernelspec": {
   "display_name": "Python 3",
   "language": "python",
   "name": "python3"
  },
  "language_info": {
   "codemirror_mode": {
    "name": "ipython",
    "version": 3
   },
   "file_extension": ".py",
   "mimetype": "text/x-python",
   "name": "python",
   "nbconvert_exporter": "python",
   "pygments_lexer": "ipython3",
   "version": "3.5.2"
  }
 },
 "nbformat": 4,
 "nbformat_minor": 1
}
