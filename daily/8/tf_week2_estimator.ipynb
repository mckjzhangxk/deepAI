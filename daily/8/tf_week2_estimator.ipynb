{
 "cells": [
  {
   "cell_type": "code",
   "execution_count": 19,
   "metadata": {
    "collapsed": true
   },
   "outputs": [],
   "source": [
    "import numpy as np\n",
    "import pandas as pd\n",
    "import tensorflow as tf"
   ]
  },
  {
   "cell_type": "markdown",
   "metadata": {},
   "source": [
    "## In this notebook,I will learn the high level of tensorflow API invoke :\n",
    "    1.using predefine Model\n",
    "    2.create dataset out of memory\n",
    "    3.distribution train\n",
    "    4.monitor training processing\n",
    "    5.deploy your model"
   ]
  },
  {
   "cell_type": "markdown",
   "metadata": {},
   "source": [
    "## 1. PreDefine Model\n",
    "<a href='https://www.tensorflow.org/api_docs/python/tf/estimator/LinearRegressor#train'>LinearRegressor</a>"
   ]
  },
  {
   "cell_type": "code",
   "execution_count": 3,
   "metadata": {
    "collapsed": false
   },
   "outputs": [],
   "source": [
    "class MyModel():\n",
    "    def __init__(self,filename='outputs/tf_week2/model1'):\n",
    "        self.columns=['pickuplon','pickuplat','dropofflon','dropofflat','passengers']\n",
    "        features=[tf.feature_column.numeric_column(f) for f in self.columns]\n",
    "        self.model=tf.estimator.LinearRegressor(feature_columns=features,model_dir=filename)\n",
    "        tf.logging.set_verbosity(tf.logging.INFO)\n",
    "    def make_train_input_fn(self,epochs):\n",
    "        df_train=pd.read_csv('../AI_database/trips/taxi-train.csv')\n",
    "        return tf.estimator.inputs.pandas_input_fn(x=df_train,\n",
    "                                        y=df_train['fare_amount'],\n",
    "                                        batch_size=128,\n",
    "                                        num_epochs=epochs,\n",
    "                                        shuffle=True,\n",
    "                                        queue_capacity=1000)\n",
    "    def make_valid_input_fn(self):\n",
    "        df_dev=pd.read_csv('../AI_database/trips/taxi-valid.csv')\n",
    "        return tf.estimator.inputs.pandas_input_fn(x=df_dev,\n",
    "                                              y=df_dev[\"fare_amount\"],\n",
    "                                              batch_size=128,\n",
    "                                              num_epochs=1,\n",
    "                                              shuffle=True,\n",
    "                                              queue_capacity=1000)\n",
    "    def make_predict_input_fn(self):\n",
    "        df_test=pd.read_csv('../AI_database/trips/taxi-test.csv')\n",
    "        return tf.estimator.inputs.pandas_input_fn(x=df_test,y=None,\n",
    "                                              batch_size=128,num_epochs=1,\n",
    "                                              shuffle=False)\n",
    "    def fit(self,epochs=10):\n",
    "        self.model.train(self.make_train_input_fn(epochs))\n",
    "    def evaluate(self):\n",
    "        result=self.model.evaluate(self.make_valid_input_fn())\n",
    "        print('Eval rms is {}'.format(np.sqrt(result['average_loss'])))\n",
    "    def predict(self):\n",
    "        return self.model.predict(self.make_predict_input_fn())"
   ]
  },
  {
   "cell_type": "code",
   "execution_count": 4,
   "metadata": {
    "collapsed": false
   },
   "outputs": [
    {
     "name": "stderr",
     "output_type": "stream",
     "text": [
      "INFO:tensorflow:Calling model_fn.\n",
      "INFO:tensorflow:Done calling model_fn.\n",
      "INFO:tensorflow:Create CheckpointSaverHook.\n",
      "INFO:tensorflow:Graph was finalized.\n",
      "INFO:tensorflow:Restoring parameters from outputs/tf_week2/model1/model.ckpt-2973\n",
      "INFO:tensorflow:Running local_init_op.\n",
      "INFO:tensorflow:Done running local_init_op.\n",
      "INFO:tensorflow:Saving checkpoints for 2974 into outputs/tf_week2/model1/model.ckpt.\n",
      "INFO:tensorflow:loss = 2080.8, step = 2974\n",
      "INFO:tensorflow:global_step/sec: 382.047\n",
      "INFO:tensorflow:loss = 240.499, step = 3074 (0.263 sec)\n",
      "INFO:tensorflow:global_step/sec: 524.864\n",
      "INFO:tensorflow:loss = 1500.62, step = 3174 (0.192 sec)\n",
      "INFO:tensorflow:global_step/sec: 633.036\n",
      "INFO:tensorflow:loss = 84.3914, step = 3274 (0.157 sec)\n",
      "INFO:tensorflow:global_step/sec: 481.793\n",
      "INFO:tensorflow:loss = 9.38618, step = 3374 (0.209 sec)\n",
      "INFO:tensorflow:global_step/sec: 648\n",
      "INFO:tensorflow:loss = 54372.4, step = 3474 (0.152 sec)\n",
      "INFO:tensorflow:Saving checkpoints for 3546 into outputs/tf_week2/model1/model.ckpt.\n",
      "INFO:tensorflow:Loss for final step: 5587.53.\n"
     ]
    },
    {
     "name": "stdout",
     "output_type": "stream",
     "text": [
      "Train  Step:\n",
      "Evaluatuin Step:"
     ]
    },
    {
     "name": "stderr",
     "output_type": "stream",
     "text": [
      "INFO:tensorflow:Calling model_fn.\n",
      "INFO:tensorflow:Done calling model_fn.\n",
      "INFO:tensorflow:Starting evaluation at 2018-09-11-03:26:59\n",
      "INFO:tensorflow:Graph was finalized.\n",
      "INFO:tensorflow:Restoring parameters from outputs/tf_week2/model1/model.ckpt-3546\n",
      "INFO:tensorflow:Running local_init_op.\n",
      "INFO:tensorflow:Done running local_init_op.\n",
      "INFO:tensorflow:Finished evaluation at 2018-09-11-03:26:59\n",
      "INFO:tensorflow:Saving dict for global step 3546: average_loss = 111.996, global_step = 3546, loss = 14317.8\n"
     ]
    },
    {
     "name": "stdout",
     "output_type": "stream",
     "text": [
      "\n",
      "Eval rms is 10.582818984985352\n"
     ]
    }
   ],
   "source": [
    "model=MyModel('outputs/tf_week2/model1')\n",
    "print('Train  Step:')\n",
    "model.fit(1)\n",
    "print('Evaluatuin Step:')\n",
    "model.evaluate()"
   ]
  },
  {
   "cell_type": "code",
   "execution_count": 5,
   "metadata": {
    "collapsed": false
   },
   "outputs": [
    {
     "name": "stdout",
     "output_type": "stream",
     "text": [
      "({'fare_amount': <tf.Tensor 'random_shuffle_queue_DequeueUpTo:1' shape=(?,) dtype=float64>, 'pickuplon': <tf.Tensor 'random_shuffle_queue_DequeueUpTo:2' shape=(?,) dtype=float64>, 'passengers': <tf.Tensor 'random_shuffle_queue_DequeueUpTo:6' shape=(?,) dtype=float64>, 'dropofflat': <tf.Tensor 'random_shuffle_queue_DequeueUpTo:5' shape=(?,) dtype=float64>, 'key': <tf.Tensor 'random_shuffle_queue_DequeueUpTo:7' shape=(?,) dtype=int64>, 'pickuplat': <tf.Tensor 'random_shuffle_queue_DequeueUpTo:3' shape=(?,) dtype=float64>, 'dropofflon': <tf.Tensor 'random_shuffle_queue_DequeueUpTo:4' shape=(?,) dtype=float64>}, <tf.Tensor 'random_shuffle_queue_DequeueUpTo:8' shape=(?,) dtype=float64>)\n",
      "--------------------------------------\n",
      "({'fare_amount': <tf.Tensor 'random_shuffle_queue_DequeueUpTo_1:1' shape=(?,) dtype=float64>, 'pickuplon': <tf.Tensor 'random_shuffle_queue_DequeueUpTo_1:2' shape=(?,) dtype=float64>, 'passengers': <tf.Tensor 'random_shuffle_queue_DequeueUpTo_1:6' shape=(?,) dtype=float64>, 'dropofflat': <tf.Tensor 'random_shuffle_queue_DequeueUpTo_1:5' shape=(?,) dtype=float64>, 'key': <tf.Tensor 'random_shuffle_queue_DequeueUpTo_1:7' shape=(?,) dtype=int64>, 'pickuplat': <tf.Tensor 'random_shuffle_queue_DequeueUpTo_1:3' shape=(?,) dtype=float64>, 'dropofflon': <tf.Tensor 'random_shuffle_queue_DequeueUpTo_1:4' shape=(?,) dtype=float64>}, <tf.Tensor 'random_shuffle_queue_DequeueUpTo_1:8' shape=(?,) dtype=float64>)\n",
      "--------------------------------------\n",
      "{'fare_amount': <tf.Tensor 'fifo_queue_DequeueUpTo:1' shape=(?,) dtype=float64>, 'pickuplon': <tf.Tensor 'fifo_queue_DequeueUpTo:2' shape=(?,) dtype=float64>, 'passengers': <tf.Tensor 'fifo_queue_DequeueUpTo:6' shape=(?,) dtype=float64>, 'dropofflat': <tf.Tensor 'fifo_queue_DequeueUpTo:5' shape=(?,) dtype=float64>, 'key': <tf.Tensor 'fifo_queue_DequeueUpTo:7' shape=(?,) dtype=int64>, 'pickuplat': <tf.Tensor 'fifo_queue_DequeueUpTo:3' shape=(?,) dtype=float64>, 'dropofflon': <tf.Tensor 'fifo_queue_DequeueUpTo:4' shape=(?,) dtype=float64>}\n"
     ]
    }
   ],
   "source": [
    "#take a look at train,valid,test input function\n",
    "print(model.make_train_input_fn(1)()) #give 2 node, features(map) and label(a tensor)\n",
    "print('--------------------------------------')\n",
    "print(model.make_valid_input_fn()()) #give 2 node, features(map) and label(a tensor)\n",
    "print('--------------------------------------')\n",
    "print(model.make_predict_input_fn()())"
   ]
  },
  {
   "cell_type": "markdown",
   "metadata": {},
   "source": [
    "## 2. training on large dataset,using tf.data.* instead of  tf.estimator.input.pandas_input_fn "
   ]
  },
  {
   "cell_type": "code",
   "execution_count": 6,
   "metadata": {
    "collapsed": false
   },
   "outputs": [],
   "source": [
    "#input a raw line,return features and labels\n",
    "def decoder(row):\n",
    "    cols=tf.decode_csv(row,[[0.0],[0.0],[0.0],[0.0],[0.0],[0.0],[0.0]])\n",
    "    features={'pickuplon':cols[1],'pockuplat':cols[2]}\n",
    "    label=cols[0]\n",
    "    return features,label"
   ]
  },
  {
   "cell_type": "markdown",
   "metadata": {},
   "source": [
    "### first let's see how dataset tensor work"
   ]
  },
  {
   "cell_type": "code",
   "execution_count": 7,
   "metadata": {
    "collapsed": false
   },
   "outputs": [
    {
     "name": "stdout",
     "output_type": "stream",
     "text": [
      "fare_amount,pickuplon,pickuplat,dropofflon,dropofflat,passengers,key\r\n",
      "2.5,-74.005559,40.740673,-73.956682,40.663655,2.0,0\r\n",
      "2.5,-73.970619,40.764209,-73.965857,40.789753,2.0,1\r\n",
      "2.5,-74.005465,40.740818,-73.973177,40.752603,2.0,2\r\n",
      "2.5,-73.966332,40.758127,-73.966482,40.75808,2.0,3\r\n",
      "2.5,-73.977088,40.774907,-73.977378,40.77444,2.0,4\r\n",
      "2.5,-73.966111,40.762474,-73.945065,40.782581,2.0,5\r\n",
      "2.5,-73.993483,40.72108,-73.993397,40.720987,2.0,6\r\n",
      "2.5,-73.864043,40.765769,-73.864043,40.765769,2.0,7\r\n",
      "2.5,-73.987632,40.702428,-73.987548,40.702332,2.0,8\r\n",
      "2.5,-73.790031,40.645675,-73.789944,40.644809,2.0,9\r\n"
     ]
    }
   ],
   "source": [
    "! head ../AI_database/trips/taxi-train.csv -n11"
   ]
  },
  {
   "cell_type": "code",
   "execution_count": 8,
   "metadata": {
    "collapsed": false
   },
   "outputs": [
    {
     "name": "stdout",
     "output_type": "stream",
     "text": [
      "({'pockuplat': array([ 40.74067307,  40.76420975,  40.74081802], dtype=float32), 'pickuplon': array([-74.00556183, -73.9706192 , -74.00546265], dtype=float32)}, array([ 2.5,  2.5,  2.5], dtype=float32))\n",
      "({'pockuplat': array([ 40.75812531,  40.77490616,  40.76247406], dtype=float32), 'pickuplon': array([-73.96633148, -73.97708893, -73.96611023], dtype=float32)}, array([ 2.5,  2.5,  2.5], dtype=float32))\n",
      "({'pockuplat': array([ 40.72108078,  40.76576996,  40.70242691], dtype=float32), 'pickuplon': array([-73.9934845 , -73.86404419, -73.98763275], dtype=float32)}, array([ 2.5,  2.5,  2.5], dtype=float32))\n",
      "({'pockuplat': array([ 40.64567566,  40.72658539,  40.76021576], dtype=float32), 'pickuplon': array([-73.79003143, -73.98907471, -73.97946167], dtype=float32)}, array([ 2.5,  2.5,  3. ], dtype=float32))\n",
      "({'pockuplat': array([ 40.77260971,  40.7104187 ,  40.76414871], dtype=float32), 'pickuplon': array([-73.96065521, -73.95875549, -73.97486877], dtype=float32)}, array([ 3.,  3.,  3.], dtype=float32))\n"
     ]
    }
   ],
   "source": [
    "#the workflow look like follow:\n",
    "'''\n",
    "    filename->TextDataset->shuffle->batch->repeat->map->iterator->next\n",
    "    all about are node or tensor in TF\n",
    "    \n",
    "    the output should have the format for model.train()\n",
    "    {featurename:tensor},label tensor\n",
    "'''\n",
    "dataset=tf.data.TextLineDataset('../AI_database/trips/taxi-train.csv')\n",
    "dataset=dataset.skip(1)\n",
    "\n",
    "dataset=dataset.map(decoder)\n",
    "dataset=dataset.batch(3)\n",
    "dataset.shuffle(1000)\n",
    "mynext=dataset.make_one_shot_iterator().get_next()\n",
    "with tf.Session() as sess:\n",
    "    for i in range(5):\n",
    "        print(sess.run(mynext))"
   ]
  },
  {
   "cell_type": "code",
   "execution_count": 9,
   "metadata": {
    "collapsed": false
   },
   "outputs": [],
   "source": [
    "class MyModel2(MyModel):\n",
    "    def decoder_line(self,row):\n",
    "        DEFAULTS = [[0.0], [-74.0], [40.0], [-74.0], [40.7], [1.0], ['nokey']]\n",
    "        cols=tf.decode_csv(row,DEFAULTS)\n",
    "        features={self.columns[i]:cols[i+1] for i in range(0,len(self.columns))}\n",
    "        labels=cols[0]\n",
    "        return features,labels\n",
    "    def _getDataset(self,filename,epochs):\n",
    "        def ret_func():\n",
    "            dataset=tf.data.Dataset.list_files(filename)\n",
    "            dataset=dataset.flat_map(tf.data.TextLineDataset)\n",
    "            dataset=dataset.skip(1)\n",
    "            dataset=dataset.shuffle(1000)\n",
    "            dataset=dataset.batch(128)\n",
    "            dataset=dataset.repeat(epochs)\n",
    "            dataset=dataset.map(lambda r:self.decoder_line(r))   \n",
    "            features,labels=dataset.make_one_shot_iterator().get_next()\n",
    "            return features,labels\n",
    "        return ret_func\n",
    "    \n",
    "    def make_train_input_fn(self,epochs):\n",
    "        print('======================Model 2 using large dataset======================')\n",
    "        return self._getDataset('../AI_database/trips/taxi-train.csv',epochs)\n",
    "    def make_valid_input_fn(self):\n",
    "        print('======================Model 2 using large dataset======================')\n",
    "        return self._getDataset('../AI_database/trips/taxi-valid.csv',1)\n",
    "    def make_predict_input_fn(self):\n",
    "        print('======================Model 2 using large dataset======================')\n",
    "        return self._getDataset('../AI_database/trips/taxi-test.csv',1)"
   ]
  },
  {
   "cell_type": "code",
   "execution_count": 10,
   "metadata": {
    "collapsed": false
   },
   "outputs": [
    {
     "name": "stderr",
     "output_type": "stream",
     "text": [
      "INFO:tensorflow:Using default config.\n",
      "INFO:tensorflow:Using config: {'_keep_checkpoint_max': 5, '_evaluation_master': '', '_save_checkpoints_secs': 600, '_task_id': 0, '_tf_random_seed': None, '_session_config': None, '_master': '', '_model_dir': 'outputs/tf_week2/model2', '_cluster_spec': <tensorflow.python.training.server_lib.ClusterSpec object at 0x7fb93abd6b70>, '_service': None, '_is_chief': True, '_task_type': 'worker', '_num_ps_replicas': 0, '_log_step_count_steps': 100, '_save_summary_steps': 100, '_num_worker_replicas': 1, '_keep_checkpoint_every_n_hours': 10000, '_save_checkpoints_steps': None, '_global_id_in_cluster': 0}\n",
      "INFO:tensorflow:Calling model_fn.\n",
      "INFO:tensorflow:Done calling model_fn.\n",
      "INFO:tensorflow:Create CheckpointSaverHook.\n",
      "INFO:tensorflow:Graph was finalized.\n",
      "INFO:tensorflow:Restoring parameters from outputs/tf_week2/model2/model.ckpt-21777\n",
      "INFO:tensorflow:Running local_init_op.\n",
      "INFO:tensorflow:Done running local_init_op.\n",
      "INFO:tensorflow:Saving checkpoints for 21778 into outputs/tf_week2/model2/model.ckpt.\n",
      "INFO:tensorflow:loss = 7996.69, step = 21778\n",
      "INFO:tensorflow:global_step/sec: 387.259\n",
      "INFO:tensorflow:loss = 15871.9, step = 21878 (0.259 sec)\n",
      "INFO:tensorflow:global_step/sec: 473.691\n",
      "INFO:tensorflow:loss = 30.2792, step = 21978 (0.211 sec)\n",
      "INFO:tensorflow:global_step/sec: 461.109\n",
      "INFO:tensorflow:loss = 72.9083, step = 22078 (0.217 sec)\n",
      "INFO:tensorflow:global_step/sec: 460.499\n",
      "INFO:tensorflow:loss = 21523.8, step = 22178 (0.217 sec)\n",
      "INFO:tensorflow:global_step/sec: 465.777\n",
      "INFO:tensorflow:loss = 2243.39, step = 22278 (0.215 sec)\n",
      "INFO:tensorflow:Saving checkpoints for 22350 into outputs/tf_week2/model2/model.ckpt.\n",
      "INFO:tensorflow:Loss for final step: 525.717.\n"
     ]
    },
    {
     "name": "stdout",
     "output_type": "stream",
     "text": [
      "Train step:\n",
      "======================Model 2 using large dataset======================\n",
      "Evaluation step:"
     ]
    },
    {
     "name": "stderr",
     "output_type": "stream",
     "text": [
      "INFO:tensorflow:Calling model_fn.\n",
      "INFO:tensorflow:Done calling model_fn.\n",
      "INFO:tensorflow:Starting evaluation at 2018-09-11-03:27:02\n",
      "INFO:tensorflow:Graph was finalized.\n",
      "INFO:tensorflow:Restoring parameters from outputs/tf_week2/model2/model.ckpt-22350\n",
      "INFO:tensorflow:Running local_init_op.\n",
      "INFO:tensorflow:Done running local_init_op.\n",
      "INFO:tensorflow:Finished evaluation at 2018-09-11-03:27:02\n",
      "INFO:tensorflow:Saving dict for global step 22350: average_loss = 95.8433, global_step = 22350, loss = 12252.8\n"
     ]
    },
    {
     "name": "stdout",
     "output_type": "stream",
     "text": [
      "\n",
      "======================Model 2 using large dataset======================\n",
      "Eval rms is 9.789959907531738\n"
     ]
    }
   ],
   "source": [
    "model=MyModel2('outputs/tf_week2/model2')\n",
    "print('Train step:')\n",
    "model.fit(1)\n",
    "print('Evaluation step:')\n",
    "model.evaluate()"
   ]
  },
  {
   "cell_type": "code",
   "execution_count": 11,
   "metadata": {
    "collapsed": false
   },
   "outputs": [
    {
     "name": "stderr",
     "output_type": "stream",
     "text": [
      "INFO:tensorflow:Calling model_fn.\n",
      "INFO:tensorflow:Done calling model_fn.\n",
      "INFO:tensorflow:Graph was finalized.\n",
      "INFO:tensorflow:Restoring parameters from outputs/tf_week2/model2/model.ckpt-22350\n",
      "INFO:tensorflow:Running local_init_op.\n",
      "INFO:tensorflow:Done running local_init_op.\n"
     ]
    },
    {
     "name": "stdout",
     "output_type": "stream",
     "text": [
      "======================Model 2 using large dataset======================\n",
      "{'predictions': array([ 12.69274139], dtype=float32)}\n",
      "{'predictions': array([ 12.69482231], dtype=float32)}\n",
      "{'predictions': array([ 12.69048882], dtype=float32)}\n",
      "{'predictions': array([ 12.69081974], dtype=float32)}\n",
      "{'predictions': array([ 12.69208717], dtype=float32)}\n"
     ]
    }
   ],
   "source": [
    "gen=model.predict()\n",
    "for i in range(5):\n",
    "    print(next(gen))"
   ]
  },
  {
   "cell_type": "code",
   "execution_count": 12,
   "metadata": {
    "collapsed": false
   },
   "outputs": [
    {
     "name": "stdout",
     "output_type": "stream",
     "text": [
      "global_step : 22350\n",
      "linear/linear_model/bias_weights : [ 0.07966512]\n",
      "linear/linear_model/bias_weights/part_0/Ftrl : [  7.45741568e+09]\n",
      "linear/linear_model/bias_weights/part_0/Ftrl_1 : [-34397.93359375]\n",
      "linear/linear_model/dropofflat/weights : [[ 0.0561062]]\n",
      "linear/linear_model/dropofflat/weights/part_0/Ftrl : [[  1.23824589e+13]]\n",
      "linear/linear_model/dropofflat/weights/part_0/Ftrl_1 : [[-987152.5625]]\n",
      "linear/linear_model/dropofflon/weights : [[-0.04978582]]\n",
      "linear/linear_model/dropofflon/weights/part_0/Ftrl : [[  4.08025710e+13]]\n",
      "linear/linear_model/dropofflon/weights/part_0/Ftrl_1 : [[ 1590081.5]]\n",
      "linear/linear_model/passengers/weights : [[ 0.91197729]]\n",
      "linear/linear_model/passengers/weights/part_0/Ftrl : [[  2.66309734e+10]]\n",
      "linear/linear_model/passengers/weights/part_0/Ftrl_1 : [[-744127.8125]]\n",
      "linear/linear_model/pickuplat/weights : [[ 0.05218478]]\n",
      "linear/linear_model/pickuplat/weights/part_0/Ftrl : [[  1.23815173e+13]]\n",
      "linear/linear_model/pickuplat/weights/part_0/Ftrl_1 : [[-918122.8125]]\n",
      "linear/linear_model/pickuplon/weights : [[-0.03637711]]\n",
      "linear/linear_model/pickuplon/weights/part_0/Ftrl : [[  4.07963508e+13]]\n",
      "linear/linear_model/pickuplon/weights/part_0/Ftrl_1 : [[ 1161739.875]]\n"
     ]
    }
   ],
   "source": [
    "for v_name in model.model.get_variable_names():\n",
    "    print('{} : {}'.format(v_name,model.model.get_variable_value(v_name)))"
   ]
  },
  {
   "cell_type": "code",
   "execution_count": 13,
   "metadata": {
    "collapsed": false
   },
   "outputs": [
    {
     "data": {
      "text/html": [
       "<div>\n",
       "<style scoped>\n",
       "    .dataframe tbody tr th:only-of-type {\n",
       "        vertical-align: middle;\n",
       "    }\n",
       "\n",
       "    .dataframe tbody tr th {\n",
       "        vertical-align: top;\n",
       "    }\n",
       "\n",
       "    .dataframe thead th {\n",
       "        text-align: right;\n",
       "    }\n",
       "</style>\n",
       "<table border=\"1\" class=\"dataframe\">\n",
       "  <thead>\n",
       "    <tr style=\"text-align: right;\">\n",
       "      <th></th>\n",
       "      <th>fare_amount</th>\n",
       "      <th>pickuplon</th>\n",
       "      <th>pickuplat</th>\n",
       "      <th>dropofflon</th>\n",
       "      <th>dropofflat</th>\n",
       "      <th>passengers</th>\n",
       "      <th>key</th>\n",
       "    </tr>\n",
       "  </thead>\n",
       "  <tbody>\n",
       "    <tr>\n",
       "      <th>0</th>\n",
       "      <td>2.5</td>\n",
       "      <td>-73.988954</td>\n",
       "      <td>40.758612</td>\n",
       "      <td>-73.952118</td>\n",
       "      <td>40.776227</td>\n",
       "      <td>2.0</td>\n",
       "      <td>0</td>\n",
       "    </tr>\n",
       "  </tbody>\n",
       "</table>\n",
       "</div>"
      ],
      "text/plain": [
       "   fare_amount  pickuplon  pickuplat  dropofflon  dropofflat  passengers  key\n",
       "0          2.5 -73.988954  40.758612  -73.952118   40.776227         2.0    0"
      ]
     },
     "execution_count": 13,
     "metadata": {},
     "output_type": "execute_result"
    }
   ],
   "source": [
    "pd.read_csv('../AI_database/trips/taxi-valid.csv').head(1)"
   ]
  },
  {
   "cell_type": "code",
   "execution_count": 14,
   "metadata": {
    "collapsed": false
   },
   "outputs": [
    {
     "data": {
      "text/plain": [
       "12.843309126564572"
      ]
     },
     "execution_count": 14,
     "metadata": {},
     "output_type": "execute_result"
    }
   ],
   "source": [
    "-73.988954*-0.03677155+40.758612*0.05220714+-73.952118*-0.04987059+40.776227*0.05605096*2*0.92487079+0.07902358"
   ]
  },
  {
   "cell_type": "markdown",
   "metadata": {
    "collapsed": true
   },
   "source": [
    "## 3.big jobs distribution training\n",
    "        1.define a run_config \n",
    "        2.define your model LinearRegression\n",
    "        3.Define trainSpec  <a href='http://ss'>TrainSpec</a>\n",
    "        4.Define evalSpec <a href=''>EvalSpec</a>\n",
    "        5.call tf.estimator.train_and_eval(model,train_spec,eval_spec)\n",
    "<a href='https://www.tensorflow.org/api_docs/python/tf/estimator/RunConfig'>RunConfig</a> <a href='https://www.tensorflow.org/api_docs/python/tf/estimator/TrainSpec'>TrainSpec</a> <a href='https://www.tensorflow.org/api_docs/python/tf/estimator/EvalSpec#__new__'>EvalSpec</a>\n",
    " <a href='https://www.tensorflow.org/api_docs/python/tf/estimator/export/ServingInputReceiver#__new__'>ServingInputReceiver</a>\n",
    "  <a href='https://www.tensorflow.org/api_docs/python/tf/estimator/LatestExporter'>LatestExporter</a>"
   ]
  },
  {
   "cell_type": "code",
   "execution_count": 15,
   "metadata": {
    "collapsed": true
   },
   "outputs": [],
   "source": [
    "class MyModel3(MyModel2):\n",
    "    def __init__(self,filename='outputs/tf_week2/model1'):\n",
    "        self.columns=['pickuplon','pickuplat','dropofflon','dropofflat','passengers']\n",
    "        features=[tf.feature_column.numeric_column(f) for f in self.columns]\n",
    "        runconfig=tf.estimator.RunConfig(filename,save_summary_steps=100,save_checkpoints_steps=1000)\n",
    "        self.model=tf.estimator.LinearRegressor(feature_columns=features,config=runconfig)\n",
    "    \n",
    "    def fit(self,epoch):\n",
    "        # Defines the expected shape of the JSON feed that the model,will receive once \n",
    "        #deployed behind a REST API in production.\n",
    "        def serving_input_fn():\n",
    "            feature_placeholders = {\n",
    "                'pickuplon' : tf.placeholder(tf.float32, [None]),\n",
    "                'pickuplat' : tf.placeholder(tf.float32, [None]),\n",
    "                'dropofflat' : tf.placeholder(tf.float32, [None]),\n",
    "                'dropofflon' : tf.placeholder(tf.float32, [None]),\n",
    "                'passengers' : tf.placeholder(tf.float32, [None])\n",
    "            }\n",
    "            #You can transforma data here from the input format to the format expected by your model.\n",
    "            features = feature_placeholders # no transformation needed\n",
    "            return tf.estimator.export.ServingInputReceiver(features, feature_placeholders)\n",
    "\n",
    "        train_spec=tf.estimator.TrainSpec(input_fn=self.make_train_input_fn(epoch),max_steps=5000)\n",
    "        \n",
    "        eval_spec=tf.estimator.EvalSpec(input_fn=self.make_valid_input_fn(),\n",
    "                                        steps=572,\n",
    "                                        exporters=tf.estimator.LatestExporter('exporter',serving_input_fn),\n",
    "                                        throttle_secs=600)\n",
    "        tf.estimator.train_and_evaluate(self.model,train_spec,eval_spec)"
   ]
  },
  {
   "cell_type": "code",
   "execution_count": 17,
   "metadata": {
    "collapsed": false
   },
   "outputs": [
    {
     "name": "stderr",
     "output_type": "stream",
     "text": [
      "INFO:tensorflow:Using config: {'_keep_checkpoint_max': 5, '_num_ps_replicas': 0, '_evaluation_master': '', '_save_checkpoints_secs': None, '_log_step_count_steps': 100, '_save_summary_steps': 100, '_tf_random_seed': None, '_keep_checkpoint_every_n_hours': 10000, '_is_chief': True, '_session_config': None, '_task_id': 0, '_master': '', '_num_worker_replicas': 1, '_model_dir': 'outputs/tf_week2/model3', '_cluster_spec': <tensorflow.python.training.server_lib.ClusterSpec object at 0x7fb93aa3e780>, '_global_id_in_cluster': 0, '_service': None, '_save_checkpoints_steps': 1000, '_task_type': 'worker'}\n"
     ]
    }
   ],
   "source": [
    "model=MyModel3('outputs/tf_week2/model3')"
   ]
  },
  {
   "cell_type": "code",
   "execution_count": 18,
   "metadata": {
    "collapsed": false
   },
   "outputs": [
    {
     "name": "stderr",
     "output_type": "stream",
     "text": [
      "INFO:tensorflow:Running training and evaluation locally (non-distributed).\n",
      "INFO:tensorflow:Start train and evaluate loop. The evaluate will happen after 600 secs (eval_spec.throttle_secs) or training is finished.\n",
      "INFO:tensorflow:Calling model_fn.\n",
      "INFO:tensorflow:Done calling model_fn.\n",
      "INFO:tensorflow:Create CheckpointSaverHook.\n",
      "INFO:tensorflow:Graph was finalized.\n",
      "INFO:tensorflow:Running local_init_op.\n",
      "INFO:tensorflow:Done running local_init_op.\n",
      "INFO:tensorflow:Saving checkpoints for 1 into outputs/tf_week2/model3/model.ckpt.\n",
      "INFO:tensorflow:loss = 2964.75, step = 1\n",
      "INFO:tensorflow:global_step/sec: 372.574\n",
      "INFO:tensorflow:loss = 8987.67, step = 101 (0.269 sec)\n",
      "INFO:tensorflow:global_step/sec: 382.489\n",
      "INFO:tensorflow:loss = 22.9861, step = 201 (0.262 sec)\n",
      "INFO:tensorflow:global_step/sec: 468.161\n",
      "INFO:tensorflow:loss = 45.6097, step = 301 (0.213 sec)\n",
      "INFO:tensorflow:global_step/sec: 455.339\n",
      "INFO:tensorflow:loss = 14534.3, step = 401 (0.220 sec)\n",
      "INFO:tensorflow:global_step/sec: 434.32\n",
      "INFO:tensorflow:loss = 7301.55, step = 501 (0.230 sec)\n",
      "INFO:tensorflow:Saving checkpoints for 573 into outputs/tf_week2/model3/model.ckpt.\n",
      "INFO:tensorflow:Loss for final step: 746.06.\n",
      "INFO:tensorflow:Calling model_fn.\n",
      "INFO:tensorflow:Done calling model_fn.\n",
      "INFO:tensorflow:Starting evaluation at 2018-09-11-03:28:35\n",
      "INFO:tensorflow:Graph was finalized.\n",
      "INFO:tensorflow:Restoring parameters from outputs/tf_week2/model3/model.ckpt-573\n",
      "INFO:tensorflow:Running local_init_op.\n",
      "INFO:tensorflow:Done running local_init_op.\n",
      "INFO:tensorflow:Evaluation [57/572]\n",
      "INFO:tensorflow:Evaluation [114/572]\n",
      "INFO:tensorflow:Finished evaluation at 2018-09-11-03:28:36\n",
      "INFO:tensorflow:Saving dict for global step 573: average_loss = 95.7626, global_step = 573, loss = 12242.5\n",
      "INFO:tensorflow:Calling model_fn.\n",
      "INFO:tensorflow:Done calling model_fn.\n",
      "INFO:tensorflow:Signatures INCLUDED in export for Classify: None\n",
      "INFO:tensorflow:Signatures INCLUDED in export for Regress: None\n",
      "INFO:tensorflow:Signatures INCLUDED in export for Predict: ['predict']\n",
      "INFO:tensorflow:Signatures EXCLUDED from export because they cannot be be served via TensorFlow Serving APIs:\n",
      "INFO:tensorflow:'serving_default' : Regression input must be a single string Tensor; got {'dropofflat': <tf.Tensor 'Placeholder_2:0' shape=(?,) dtype=float32>, 'pickuplat': <tf.Tensor 'Placeholder_1:0' shape=(?,) dtype=float32>, 'pickuplon': <tf.Tensor 'Placeholder:0' shape=(?,) dtype=float32>, 'passengers': <tf.Tensor 'Placeholder_4:0' shape=(?,) dtype=float32>, 'dropofflon': <tf.Tensor 'Placeholder_3:0' shape=(?,) dtype=float32>}\n",
      "INFO:tensorflow:'regression' : Regression input must be a single string Tensor; got {'dropofflat': <tf.Tensor 'Placeholder_2:0' shape=(?,) dtype=float32>, 'pickuplat': <tf.Tensor 'Placeholder_1:0' shape=(?,) dtype=float32>, 'pickuplon': <tf.Tensor 'Placeholder:0' shape=(?,) dtype=float32>, 'passengers': <tf.Tensor 'Placeholder_4:0' shape=(?,) dtype=float32>, 'dropofflon': <tf.Tensor 'Placeholder_3:0' shape=(?,) dtype=float32>}\n",
      "WARNING:tensorflow:Export includes no default signature!\n",
      "INFO:tensorflow:Restoring parameters from outputs/tf_week2/model3/model.ckpt-573\n",
      "INFO:tensorflow:Assets added to graph.\n",
      "INFO:tensorflow:No assets to write.\n",
      "INFO:tensorflow:SavedModel written to: b\"outputs/tf_week2/model3/export/exporter/temp-b'1536636516'/saved_model.pb\"\n",
      "INFO:tensorflow:Calling model_fn.\n",
      "INFO:tensorflow:Done calling model_fn.\n",
      "INFO:tensorflow:Create CheckpointSaverHook.\n",
      "INFO:tensorflow:Graph was finalized.\n",
      "INFO:tensorflow:Restoring parameters from outputs/tf_week2/model3/model.ckpt-573\n",
      "INFO:tensorflow:Running local_init_op.\n",
      "INFO:tensorflow:Done running local_init_op.\n",
      "INFO:tensorflow:Saving checkpoints for 574 into outputs/tf_week2/model3/model.ckpt.\n",
      "INFO:tensorflow:loss = 8599.92, step = 574\n",
      "INFO:tensorflow:global_step/sec: 380.848\n",
      "INFO:tensorflow:loss = 11297.2, step = 674 (0.263 sec)\n",
      "INFO:tensorflow:global_step/sec: 459.575\n",
      "INFO:tensorflow:loss = 147.279, step = 774 (0.218 sec)\n",
      "INFO:tensorflow:global_step/sec: 456.975\n",
      "INFO:tensorflow:loss = 58.5976, step = 874 (0.219 sec)\n",
      "INFO:tensorflow:global_step/sec: 472.944\n",
      "INFO:tensorflow:loss = 21733.9, step = 974 (0.211 sec)\n",
      "INFO:tensorflow:global_step/sec: 462.122\n",
      "INFO:tensorflow:loss = 4287.19, step = 1074 (0.216 sec)\n",
      "INFO:tensorflow:Saving checkpoints for 1146 into outputs/tf_week2/model3/model.ckpt.\n",
      "INFO:tensorflow:Loss for final step: 1552.75.\n",
      "INFO:tensorflow:Calling model_fn.\n",
      "INFO:tensorflow:Done calling model_fn.\n",
      "INFO:tensorflow:Starting evaluation at 2018-09-11-03:28:38\n",
      "INFO:tensorflow:Graph was finalized.\n",
      "INFO:tensorflow:Restoring parameters from outputs/tf_week2/model3/model.ckpt-1146\n",
      "INFO:tensorflow:Running local_init_op.\n",
      "INFO:tensorflow:Done running local_init_op.\n",
      "INFO:tensorflow:Evaluation [57/572]\n",
      "INFO:tensorflow:Evaluation [114/572]\n",
      "INFO:tensorflow:Finished evaluation at 2018-09-11-03:28:38\n",
      "INFO:tensorflow:Saving dict for global step 1146: average_loss = 94.9899, global_step = 1146, loss = 12143.7\n",
      "INFO:tensorflow:Calling model_fn.\n",
      "INFO:tensorflow:Done calling model_fn.\n",
      "INFO:tensorflow:Signatures INCLUDED in export for Classify: None\n",
      "INFO:tensorflow:Signatures INCLUDED in export for Regress: None\n",
      "INFO:tensorflow:Signatures INCLUDED in export for Predict: ['predict']\n",
      "INFO:tensorflow:Signatures EXCLUDED from export because they cannot be be served via TensorFlow Serving APIs:\n",
      "INFO:tensorflow:'serving_default' : Regression input must be a single string Tensor; got {'dropofflat': <tf.Tensor 'Placeholder_2:0' shape=(?,) dtype=float32>, 'pickuplat': <tf.Tensor 'Placeholder_1:0' shape=(?,) dtype=float32>, 'pickuplon': <tf.Tensor 'Placeholder:0' shape=(?,) dtype=float32>, 'passengers': <tf.Tensor 'Placeholder_4:0' shape=(?,) dtype=float32>, 'dropofflon': <tf.Tensor 'Placeholder_3:0' shape=(?,) dtype=float32>}\n",
      "INFO:tensorflow:'regression' : Regression input must be a single string Tensor; got {'dropofflat': <tf.Tensor 'Placeholder_2:0' shape=(?,) dtype=float32>, 'pickuplat': <tf.Tensor 'Placeholder_1:0' shape=(?,) dtype=float32>, 'pickuplon': <tf.Tensor 'Placeholder:0' shape=(?,) dtype=float32>, 'passengers': <tf.Tensor 'Placeholder_4:0' shape=(?,) dtype=float32>, 'dropofflon': <tf.Tensor 'Placeholder_3:0' shape=(?,) dtype=float32>}\n",
      "WARNING:tensorflow:Export includes no default signature!\n",
      "INFO:tensorflow:Restoring parameters from outputs/tf_week2/model3/model.ckpt-1146\n",
      "INFO:tensorflow:Assets added to graph.\n",
      "INFO:tensorflow:No assets to write.\n",
      "INFO:tensorflow:SavedModel written to: b\"outputs/tf_week2/model3/export/exporter/temp-b'1536636518'/saved_model.pb\"\n",
      "INFO:tensorflow:Calling model_fn.\n",
      "INFO:tensorflow:Done calling model_fn.\n",
      "INFO:tensorflow:Create CheckpointSaverHook.\n",
      "INFO:tensorflow:Graph was finalized.\n",
      "INFO:tensorflow:Restoring parameters from outputs/tf_week2/model3/model.ckpt-1146\n",
      "INFO:tensorflow:Running local_init_op.\n",
      "INFO:tensorflow:Done running local_init_op.\n",
      "INFO:tensorflow:Saving checkpoints for 1147 into outputs/tf_week2/model3/model.ckpt.\n",
      "INFO:tensorflow:loss = 8073.02, step = 1147\n",
      "INFO:tensorflow:global_step/sec: 396.986\n",
      "INFO:tensorflow:loss = 16484.2, step = 1247 (0.252 sec)\n",
      "INFO:tensorflow:global_step/sec: 456.667\n",
      "INFO:tensorflow:loss = 34.4021, step = 1347 (0.219 sec)\n",
      "INFO:tensorflow:global_step/sec: 460.952\n",
      "INFO:tensorflow:loss = 33.8979, step = 1447 (0.218 sec)\n",
      "INFO:tensorflow:global_step/sec: 451.599\n",
      "INFO:tensorflow:loss = 21061.0, step = 1547 (0.221 sec)\n",
      "INFO:tensorflow:global_step/sec: 456.841\n",
      "INFO:tensorflow:loss = 3509.69, step = 1647 (0.219 sec)\n",
      "INFO:tensorflow:Saving checkpoints for 1719 into outputs/tf_week2/model3/model.ckpt.\n",
      "INFO:tensorflow:Loss for final step: 4422.76.\n",
      "INFO:tensorflow:Calling model_fn.\n",
      "INFO:tensorflow:Done calling model_fn.\n",
      "INFO:tensorflow:Starting evaluation at 2018-09-11-03:28:40\n",
      "INFO:tensorflow:Graph was finalized.\n",
      "INFO:tensorflow:Restoring parameters from outputs/tf_week2/model3/model.ckpt-1719\n",
      "INFO:tensorflow:Running local_init_op.\n",
      "INFO:tensorflow:Done running local_init_op.\n",
      "INFO:tensorflow:Evaluation [57/572]\n",
      "INFO:tensorflow:Evaluation [114/572]\n",
      "INFO:tensorflow:Finished evaluation at 2018-09-11-03:28:41\n",
      "INFO:tensorflow:Saving dict for global step 1719: average_loss = 97.4897, global_step = 1719, loss = 12463.3\n",
      "INFO:tensorflow:Calling model_fn.\n",
      "INFO:tensorflow:Done calling model_fn.\n",
      "INFO:tensorflow:Signatures INCLUDED in export for Classify: None\n",
      "INFO:tensorflow:Signatures INCLUDED in export for Regress: None\n",
      "INFO:tensorflow:Signatures INCLUDED in export for Predict: ['predict']\n",
      "INFO:tensorflow:Signatures EXCLUDED from export because they cannot be be served via TensorFlow Serving APIs:\n",
      "INFO:tensorflow:'serving_default' : Regression input must be a single string Tensor; got {'dropofflat': <tf.Tensor 'Placeholder_2:0' shape=(?,) dtype=float32>, 'pickuplat': <tf.Tensor 'Placeholder_1:0' shape=(?,) dtype=float32>, 'pickuplon': <tf.Tensor 'Placeholder:0' shape=(?,) dtype=float32>, 'passengers': <tf.Tensor 'Placeholder_4:0' shape=(?,) dtype=float32>, 'dropofflon': <tf.Tensor 'Placeholder_3:0' shape=(?,) dtype=float32>}\n",
      "INFO:tensorflow:'regression' : Regression input must be a single string Tensor; got {'dropofflat': <tf.Tensor 'Placeholder_2:0' shape=(?,) dtype=float32>, 'pickuplat': <tf.Tensor 'Placeholder_1:0' shape=(?,) dtype=float32>, 'pickuplon': <tf.Tensor 'Placeholder:0' shape=(?,) dtype=float32>, 'passengers': <tf.Tensor 'Placeholder_4:0' shape=(?,) dtype=float32>, 'dropofflon': <tf.Tensor 'Placeholder_3:0' shape=(?,) dtype=float32>}\n",
      "WARNING:tensorflow:Export includes no default signature!\n",
      "INFO:tensorflow:Restoring parameters from outputs/tf_week2/model3/model.ckpt-1719\n",
      "INFO:tensorflow:Assets added to graph.\n",
      "INFO:tensorflow:No assets to write.\n",
      "INFO:tensorflow:SavedModel written to: b\"outputs/tf_week2/model3/export/exporter/temp-b'1536636521'/saved_model.pb\"\n",
      "INFO:tensorflow:Calling model_fn.\n",
      "INFO:tensorflow:Done calling model_fn.\n",
      "INFO:tensorflow:Create CheckpointSaverHook.\n",
      "INFO:tensorflow:Graph was finalized.\n",
      "INFO:tensorflow:Restoring parameters from outputs/tf_week2/model3/model.ckpt-1719\n",
      "INFO:tensorflow:Running local_init_op.\n",
      "INFO:tensorflow:Done running local_init_op.\n",
      "INFO:tensorflow:Saving checkpoints for 1720 into outputs/tf_week2/model3/model.ckpt.\n",
      "INFO:tensorflow:loss = 9677.21, step = 1720\n",
      "INFO:tensorflow:global_step/sec: 394.724\n",
      "INFO:tensorflow:loss = 9073.08, step = 1820 (0.254 sec)\n",
      "INFO:tensorflow:global_step/sec: 447.068\n",
      "INFO:tensorflow:loss = 129.528, step = 1920 (0.224 sec)\n",
      "INFO:tensorflow:global_step/sec: 448.439\n",
      "INFO:tensorflow:loss = 35.4763, step = 2020 (0.224 sec)\n",
      "INFO:tensorflow:global_step/sec: 374.483\n",
      "INFO:tensorflow:loss = 10823.0, step = 2120 (0.266 sec)\n",
      "INFO:tensorflow:global_step/sec: 418.368\n",
      "INFO:tensorflow:loss = 7187.23, step = 2220 (0.240 sec)\n",
      "INFO:tensorflow:Saving checkpoints for 2292 into outputs/tf_week2/model3/model.ckpt.\n",
      "INFO:tensorflow:Loss for final step: 1817.94.\n",
      "INFO:tensorflow:Calling model_fn.\n",
      "INFO:tensorflow:Done calling model_fn.\n",
      "INFO:tensorflow:Starting evaluation at 2018-09-11-03:28:43\n",
      "INFO:tensorflow:Graph was finalized.\n",
      "INFO:tensorflow:Restoring parameters from outputs/tf_week2/model3/model.ckpt-2292\n",
      "INFO:tensorflow:Running local_init_op.\n",
      "INFO:tensorflow:Done running local_init_op.\n",
      "INFO:tensorflow:Evaluation [57/572]\n",
      "INFO:tensorflow:Evaluation [114/572]\n",
      "INFO:tensorflow:Finished evaluation at 2018-09-11-03:28:44\n",
      "INFO:tensorflow:Saving dict for global step 2292: average_loss = 96.8266, global_step = 2292, loss = 12378.5\n",
      "INFO:tensorflow:Calling model_fn.\n",
      "INFO:tensorflow:Done calling model_fn.\n",
      "INFO:tensorflow:Signatures INCLUDED in export for Classify: None\n",
      "INFO:tensorflow:Signatures INCLUDED in export for Regress: None\n",
      "INFO:tensorflow:Signatures INCLUDED in export for Predict: ['predict']\n",
      "INFO:tensorflow:Signatures EXCLUDED from export because they cannot be be served via TensorFlow Serving APIs:\n",
      "INFO:tensorflow:'serving_default' : Regression input must be a single string Tensor; got {'dropofflat': <tf.Tensor 'Placeholder_2:0' shape=(?,) dtype=float32>, 'pickuplat': <tf.Tensor 'Placeholder_1:0' shape=(?,) dtype=float32>, 'pickuplon': <tf.Tensor 'Placeholder:0' shape=(?,) dtype=float32>, 'passengers': <tf.Tensor 'Placeholder_4:0' shape=(?,) dtype=float32>, 'dropofflon': <tf.Tensor 'Placeholder_3:0' shape=(?,) dtype=float32>}\n",
      "INFO:tensorflow:'regression' : Regression input must be a single string Tensor; got {'dropofflat': <tf.Tensor 'Placeholder_2:0' shape=(?,) dtype=float32>, 'pickuplat': <tf.Tensor 'Placeholder_1:0' shape=(?,) dtype=float32>, 'pickuplon': <tf.Tensor 'Placeholder:0' shape=(?,) dtype=float32>, 'passengers': <tf.Tensor 'Placeholder_4:0' shape=(?,) dtype=float32>, 'dropofflon': <tf.Tensor 'Placeholder_3:0' shape=(?,) dtype=float32>}\n",
      "WARNING:tensorflow:Export includes no default signature!\n",
      "INFO:tensorflow:Restoring parameters from outputs/tf_week2/model3/model.ckpt-2292\n",
      "INFO:tensorflow:Assets added to graph.\n",
      "INFO:tensorflow:No assets to write.\n",
      "INFO:tensorflow:SavedModel written to: b\"outputs/tf_week2/model3/export/exporter/temp-b'1536636524'/saved_model.pb\"\n",
      "INFO:tensorflow:Calling model_fn.\n",
      "INFO:tensorflow:Done calling model_fn.\n",
      "INFO:tensorflow:Create CheckpointSaverHook.\n",
      "INFO:tensorflow:Graph was finalized.\n",
      "INFO:tensorflow:Restoring parameters from outputs/tf_week2/model3/model.ckpt-2292\n",
      "INFO:tensorflow:Running local_init_op.\n",
      "INFO:tensorflow:Done running local_init_op.\n",
      "INFO:tensorflow:Saving checkpoints for 2293 into outputs/tf_week2/model3/model.ckpt.\n",
      "INFO:tensorflow:loss = 9285.83, step = 2293\n",
      "INFO:tensorflow:global_step/sec: 371.938\n",
      "INFO:tensorflow:loss = 13711.0, step = 2393 (0.269 sec)\n",
      "INFO:tensorflow:global_step/sec: 379.646\n",
      "INFO:tensorflow:loss = 29.1921, step = 2493 (0.264 sec)\n",
      "INFO:tensorflow:global_step/sec: 417.546\n",
      "INFO:tensorflow:loss = 41.5286, step = 2593 (0.239 sec)\n",
      "INFO:tensorflow:global_step/sec: 371.694\n",
      "INFO:tensorflow:loss = 21641.9, step = 2693 (0.269 sec)\n",
      "INFO:tensorflow:global_step/sec: 463.365\n",
      "INFO:tensorflow:loss = 3677.37, step = 2793 (0.216 sec)\n",
      "INFO:tensorflow:Saving checkpoints for 2865 into outputs/tf_week2/model3/model.ckpt.\n",
      "INFO:tensorflow:Loss for final step: 2284.21.\n",
      "INFO:tensorflow:Calling model_fn.\n",
      "INFO:tensorflow:Done calling model_fn.\n",
      "INFO:tensorflow:Starting evaluation at 2018-09-11-03:28:46\n",
      "INFO:tensorflow:Graph was finalized.\n",
      "INFO:tensorflow:Restoring parameters from outputs/tf_week2/model3/model.ckpt-2865\n",
      "INFO:tensorflow:Running local_init_op.\n",
      "INFO:tensorflow:Done running local_init_op.\n",
      "INFO:tensorflow:Evaluation [57/572]\n",
      "INFO:tensorflow:Evaluation [114/572]\n",
      "INFO:tensorflow:Finished evaluation at 2018-09-11-03:28:46\n",
      "INFO:tensorflow:Saving dict for global step 2865: average_loss = 97.8665, global_step = 2865, loss = 12511.4\n",
      "INFO:tensorflow:Calling model_fn.\n",
      "INFO:tensorflow:Done calling model_fn.\n",
      "INFO:tensorflow:Signatures INCLUDED in export for Classify: None\n",
      "INFO:tensorflow:Signatures INCLUDED in export for Regress: None\n",
      "INFO:tensorflow:Signatures INCLUDED in export for Predict: ['predict']\n",
      "INFO:tensorflow:Signatures EXCLUDED from export because they cannot be be served via TensorFlow Serving APIs:\n",
      "INFO:tensorflow:'serving_default' : Regression input must be a single string Tensor; got {'dropofflat': <tf.Tensor 'Placeholder_2:0' shape=(?,) dtype=float32>, 'pickuplat': <tf.Tensor 'Placeholder_1:0' shape=(?,) dtype=float32>, 'pickuplon': <tf.Tensor 'Placeholder:0' shape=(?,) dtype=float32>, 'passengers': <tf.Tensor 'Placeholder_4:0' shape=(?,) dtype=float32>, 'dropofflon': <tf.Tensor 'Placeholder_3:0' shape=(?,) dtype=float32>}\n",
      "INFO:tensorflow:'regression' : Regression input must be a single string Tensor; got {'dropofflat': <tf.Tensor 'Placeholder_2:0' shape=(?,) dtype=float32>, 'pickuplat': <tf.Tensor 'Placeholder_1:0' shape=(?,) dtype=float32>, 'pickuplon': <tf.Tensor 'Placeholder:0' shape=(?,) dtype=float32>, 'passengers': <tf.Tensor 'Placeholder_4:0' shape=(?,) dtype=float32>, 'dropofflon': <tf.Tensor 'Placeholder_3:0' shape=(?,) dtype=float32>}\n",
      "WARNING:tensorflow:Export includes no default signature!\n",
      "INFO:tensorflow:Restoring parameters from outputs/tf_week2/model3/model.ckpt-2865\n",
      "INFO:tensorflow:Assets added to graph.\n",
      "INFO:tensorflow:No assets to write.\n",
      "INFO:tensorflow:SavedModel written to: b\"outputs/tf_week2/model3/export/exporter/temp-b'1536636527'/saved_model.pb\"\n",
      "INFO:tensorflow:Calling model_fn.\n",
      "INFO:tensorflow:Done calling model_fn.\n",
      "INFO:tensorflow:Create CheckpointSaverHook.\n",
      "INFO:tensorflow:Graph was finalized.\n",
      "INFO:tensorflow:Restoring parameters from outputs/tf_week2/model3/model.ckpt-2865\n",
      "INFO:tensorflow:Running local_init_op.\n",
      "INFO:tensorflow:Done running local_init_op.\n",
      "INFO:tensorflow:Saving checkpoints for 2866 into outputs/tf_week2/model3/model.ckpt.\n",
      "INFO:tensorflow:loss = 9899.38, step = 2866\n",
      "INFO:tensorflow:global_step/sec: 392.661\n",
      "INFO:tensorflow:loss = 7097.46, step = 2966 (0.255 sec)\n",
      "INFO:tensorflow:global_step/sec: 465.249\n",
      "INFO:tensorflow:loss = 31.2061, step = 3066 (0.215 sec)\n",
      "INFO:tensorflow:global_step/sec: 465.018\n",
      "INFO:tensorflow:loss = 33.5529, step = 3166 (0.215 sec)\n",
      "INFO:tensorflow:global_step/sec: 450.994\n",
      "INFO:tensorflow:loss = 11931.0, step = 3266 (0.222 sec)\n",
      "INFO:tensorflow:global_step/sec: 459.358\n",
      "INFO:tensorflow:loss = 1205.56, step = 3366 (0.218 sec)\n",
      "INFO:tensorflow:Saving checkpoints for 3438 into outputs/tf_week2/model3/model.ckpt.\n",
      "INFO:tensorflow:Loss for final step: 1140.01.\n",
      "INFO:tensorflow:Calling model_fn.\n",
      "INFO:tensorflow:Done calling model_fn.\n",
      "INFO:tensorflow:Starting evaluation at 2018-09-11-03:28:49\n",
      "INFO:tensorflow:Graph was finalized.\n",
      "INFO:tensorflow:Restoring parameters from outputs/tf_week2/model3/model.ckpt-3438\n",
      "INFO:tensorflow:Running local_init_op.\n",
      "INFO:tensorflow:Done running local_init_op.\n",
      "INFO:tensorflow:Evaluation [57/572]\n",
      "INFO:tensorflow:Evaluation [114/572]\n",
      "INFO:tensorflow:Finished evaluation at 2018-09-11-03:28:49\n",
      "INFO:tensorflow:Saving dict for global step 3438: average_loss = 97.0632, global_step = 3438, loss = 12408.7\n",
      "INFO:tensorflow:Calling model_fn.\n",
      "INFO:tensorflow:Done calling model_fn.\n",
      "INFO:tensorflow:Signatures INCLUDED in export for Classify: None\n",
      "INFO:tensorflow:Signatures INCLUDED in export for Regress: None\n",
      "INFO:tensorflow:Signatures INCLUDED in export for Predict: ['predict']\n",
      "INFO:tensorflow:Signatures EXCLUDED from export because they cannot be be served via TensorFlow Serving APIs:\n",
      "INFO:tensorflow:'serving_default' : Regression input must be a single string Tensor; got {'dropofflat': <tf.Tensor 'Placeholder_2:0' shape=(?,) dtype=float32>, 'pickuplat': <tf.Tensor 'Placeholder_1:0' shape=(?,) dtype=float32>, 'pickuplon': <tf.Tensor 'Placeholder:0' shape=(?,) dtype=float32>, 'passengers': <tf.Tensor 'Placeholder_4:0' shape=(?,) dtype=float32>, 'dropofflon': <tf.Tensor 'Placeholder_3:0' shape=(?,) dtype=float32>}\n",
      "INFO:tensorflow:'regression' : Regression input must be a single string Tensor; got {'dropofflat': <tf.Tensor 'Placeholder_2:0' shape=(?,) dtype=float32>, 'pickuplat': <tf.Tensor 'Placeholder_1:0' shape=(?,) dtype=float32>, 'pickuplon': <tf.Tensor 'Placeholder:0' shape=(?,) dtype=float32>, 'passengers': <tf.Tensor 'Placeholder_4:0' shape=(?,) dtype=float32>, 'dropofflon': <tf.Tensor 'Placeholder_3:0' shape=(?,) dtype=float32>}\n",
      "WARNING:tensorflow:Export includes no default signature!\n",
      "INFO:tensorflow:Restoring parameters from outputs/tf_week2/model3/model.ckpt-3438\n",
      "INFO:tensorflow:Assets added to graph.\n",
      "INFO:tensorflow:No assets to write.\n",
      "INFO:tensorflow:SavedModel written to: b\"outputs/tf_week2/model3/export/exporter/temp-b'1536636529'/saved_model.pb\"\n",
      "INFO:tensorflow:Calling model_fn.\n",
      "INFO:tensorflow:Done calling model_fn.\n",
      "INFO:tensorflow:Create CheckpointSaverHook.\n",
      "INFO:tensorflow:Graph was finalized.\n",
      "INFO:tensorflow:Restoring parameters from outputs/tf_week2/model3/model.ckpt-3438\n",
      "INFO:tensorflow:Running local_init_op.\n",
      "INFO:tensorflow:Done running local_init_op.\n",
      "INFO:tensorflow:Saving checkpoints for 3439 into outputs/tf_week2/model3/model.ckpt.\n",
      "INFO:tensorflow:loss = 9270.82, step = 3439\n",
      "INFO:tensorflow:global_step/sec: 394.087\n",
      "INFO:tensorflow:loss = 9790.29, step = 3539 (0.254 sec)\n",
      "INFO:tensorflow:global_step/sec: 461.419\n",
      "INFO:tensorflow:loss = 23.7306, step = 3639 (0.217 sec)\n",
      "INFO:tensorflow:global_step/sec: 439.744\n",
      "INFO:tensorflow:loss = 37.1073, step = 3739 (0.227 sec)\n",
      "INFO:tensorflow:global_step/sec: 432.489\n",
      "INFO:tensorflow:loss = 18097.5, step = 3839 (0.233 sec)\n",
      "INFO:tensorflow:global_step/sec: 395.303\n",
      "INFO:tensorflow:loss = 6258.49, step = 3939 (0.251 sec)\n",
      "INFO:tensorflow:Saving checkpoints for 4011 into outputs/tf_week2/model3/model.ckpt.\n",
      "INFO:tensorflow:Loss for final step: 1667.73.\n",
      "INFO:tensorflow:Calling model_fn.\n",
      "INFO:tensorflow:Done calling model_fn.\n",
      "INFO:tensorflow:Starting evaluation at 2018-09-11-03:28:51\n",
      "INFO:tensorflow:Graph was finalized.\n",
      "INFO:tensorflow:Restoring parameters from outputs/tf_week2/model3/model.ckpt-4011\n",
      "INFO:tensorflow:Running local_init_op.\n",
      "INFO:tensorflow:Done running local_init_op.\n",
      "INFO:tensorflow:Evaluation [57/572]\n",
      "INFO:tensorflow:Evaluation [114/572]\n",
      "INFO:tensorflow:Finished evaluation at 2018-09-11-03:28:52\n",
      "INFO:tensorflow:Saving dict for global step 4011: average_loss = 98.3476, global_step = 4011, loss = 12572.9\n",
      "INFO:tensorflow:Calling model_fn.\n",
      "INFO:tensorflow:Done calling model_fn.\n",
      "INFO:tensorflow:Signatures INCLUDED in export for Classify: None\n",
      "INFO:tensorflow:Signatures INCLUDED in export for Regress: None\n",
      "INFO:tensorflow:Signatures INCLUDED in export for Predict: ['predict']\n",
      "INFO:tensorflow:Signatures EXCLUDED from export because they cannot be be served via TensorFlow Serving APIs:\n",
      "INFO:tensorflow:'serving_default' : Regression input must be a single string Tensor; got {'dropofflat': <tf.Tensor 'Placeholder_2:0' shape=(?,) dtype=float32>, 'pickuplat': <tf.Tensor 'Placeholder_1:0' shape=(?,) dtype=float32>, 'pickuplon': <tf.Tensor 'Placeholder:0' shape=(?,) dtype=float32>, 'passengers': <tf.Tensor 'Placeholder_4:0' shape=(?,) dtype=float32>, 'dropofflon': <tf.Tensor 'Placeholder_3:0' shape=(?,) dtype=float32>}\n",
      "INFO:tensorflow:'regression' : Regression input must be a single string Tensor; got {'dropofflat': <tf.Tensor 'Placeholder_2:0' shape=(?,) dtype=float32>, 'pickuplat': <tf.Tensor 'Placeholder_1:0' shape=(?,) dtype=float32>, 'pickuplon': <tf.Tensor 'Placeholder:0' shape=(?,) dtype=float32>, 'passengers': <tf.Tensor 'Placeholder_4:0' shape=(?,) dtype=float32>, 'dropofflon': <tf.Tensor 'Placeholder_3:0' shape=(?,) dtype=float32>}\n",
      "WARNING:tensorflow:Export includes no default signature!\n",
      "INFO:tensorflow:Restoring parameters from outputs/tf_week2/model3/model.ckpt-4011\n",
      "INFO:tensorflow:Assets added to graph.\n",
      "INFO:tensorflow:No assets to write.\n",
      "INFO:tensorflow:SavedModel written to: b\"outputs/tf_week2/model3/export/exporter/temp-b'1536636532'/saved_model.pb\"\n",
      "INFO:tensorflow:Calling model_fn.\n",
      "INFO:tensorflow:Done calling model_fn.\n",
      "INFO:tensorflow:Create CheckpointSaverHook.\n",
      "INFO:tensorflow:Graph was finalized.\n",
      "INFO:tensorflow:Restoring parameters from outputs/tf_week2/model3/model.ckpt-4011\n",
      "INFO:tensorflow:Running local_init_op.\n",
      "INFO:tensorflow:Done running local_init_op.\n",
      "INFO:tensorflow:Saving checkpoints for 4012 into outputs/tf_week2/model3/model.ckpt.\n",
      "INFO:tensorflow:loss = 10137.9, step = 4012\n",
      "INFO:tensorflow:global_step/sec: 350.654\n",
      "INFO:tensorflow:loss = 12006.2, step = 4112 (0.285 sec)\n",
      "INFO:tensorflow:global_step/sec: 397.893\n",
      "INFO:tensorflow:loss = 36.2139, step = 4212 (0.252 sec)\n",
      "INFO:tensorflow:global_step/sec: 430.104\n",
      "INFO:tensorflow:loss = 48.6782, step = 4312 (0.231 sec)\n",
      "INFO:tensorflow:global_step/sec: 408.918\n",
      "INFO:tensorflow:loss = 27211.8, step = 4412 (0.246 sec)\n",
      "INFO:tensorflow:global_step/sec: 408.026\n",
      "INFO:tensorflow:loss = 4174.22, step = 4512 (0.243 sec)\n",
      "INFO:tensorflow:Saving checkpoints for 4584 into outputs/tf_week2/model3/model.ckpt.\n",
      "INFO:tensorflow:Loss for final step: 1024.14.\n",
      "INFO:tensorflow:Calling model_fn.\n",
      "INFO:tensorflow:Done calling model_fn.\n",
      "INFO:tensorflow:Starting evaluation at 2018-09-11-03:28:54\n",
      "INFO:tensorflow:Graph was finalized.\n",
      "INFO:tensorflow:Restoring parameters from outputs/tf_week2/model3/model.ckpt-4584\n",
      "INFO:tensorflow:Running local_init_op.\n",
      "INFO:tensorflow:Done running local_init_op.\n",
      "INFO:tensorflow:Evaluation [57/572]\n",
      "INFO:tensorflow:Evaluation [114/572]\n",
      "INFO:tensorflow:Finished evaluation at 2018-09-11-03:28:55\n",
      "INFO:tensorflow:Saving dict for global step 4584: average_loss = 99.1472, global_step = 4584, loss = 12675.1\n",
      "INFO:tensorflow:Calling model_fn.\n",
      "INFO:tensorflow:Done calling model_fn.\n",
      "INFO:tensorflow:Signatures INCLUDED in export for Classify: None\n",
      "INFO:tensorflow:Signatures INCLUDED in export for Regress: None\n",
      "INFO:tensorflow:Signatures INCLUDED in export for Predict: ['predict']\n",
      "INFO:tensorflow:Signatures EXCLUDED from export because they cannot be be served via TensorFlow Serving APIs:\n",
      "INFO:tensorflow:'serving_default' : Regression input must be a single string Tensor; got {'dropofflat': <tf.Tensor 'Placeholder_2:0' shape=(?,) dtype=float32>, 'pickuplat': <tf.Tensor 'Placeholder_1:0' shape=(?,) dtype=float32>, 'pickuplon': <tf.Tensor 'Placeholder:0' shape=(?,) dtype=float32>, 'passengers': <tf.Tensor 'Placeholder_4:0' shape=(?,) dtype=float32>, 'dropofflon': <tf.Tensor 'Placeholder_3:0' shape=(?,) dtype=float32>}\n",
      "INFO:tensorflow:'regression' : Regression input must be a single string Tensor; got {'dropofflat': <tf.Tensor 'Placeholder_2:0' shape=(?,) dtype=float32>, 'pickuplat': <tf.Tensor 'Placeholder_1:0' shape=(?,) dtype=float32>, 'pickuplon': <tf.Tensor 'Placeholder:0' shape=(?,) dtype=float32>, 'passengers': <tf.Tensor 'Placeholder_4:0' shape=(?,) dtype=float32>, 'dropofflon': <tf.Tensor 'Placeholder_3:0' shape=(?,) dtype=float32>}\n",
      "WARNING:tensorflow:Export includes no default signature!\n",
      "INFO:tensorflow:Restoring parameters from outputs/tf_week2/model3/model.ckpt-4584\n",
      "INFO:tensorflow:Assets added to graph.\n",
      "INFO:tensorflow:No assets to write.\n",
      "INFO:tensorflow:SavedModel written to: b\"outputs/tf_week2/model3/export/exporter/temp-b'1536636535'/saved_model.pb\"\n",
      "INFO:tensorflow:Calling model_fn.\n",
      "INFO:tensorflow:Done calling model_fn.\n",
      "INFO:tensorflow:Create CheckpointSaverHook.\n",
      "INFO:tensorflow:Graph was finalized.\n",
      "INFO:tensorflow:Restoring parameters from outputs/tf_week2/model3/model.ckpt-4584\n",
      "INFO:tensorflow:Running local_init_op.\n",
      "INFO:tensorflow:Done running local_init_op.\n",
      "INFO:tensorflow:Saving checkpoints for 4585 into outputs/tf_week2/model3/model.ckpt.\n",
      "INFO:tensorflow:loss = 10178.8, step = 4585\n",
      "INFO:tensorflow:global_step/sec: 344.578\n",
      "INFO:tensorflow:loss = 23065.1, step = 4685 (0.290 sec)\n",
      "INFO:tensorflow:global_step/sec: 456.404\n",
      "INFO:tensorflow:loss = 105.355, step = 4785 (0.219 sec)\n",
      "INFO:tensorflow:global_step/sec: 438.469\n",
      "INFO:tensorflow:loss = 44.4487, step = 4885 (0.228 sec)\n",
      "INFO:tensorflow:global_step/sec: 427.407\n",
      "INFO:tensorflow:loss = 33196.8, step = 4985 (0.235 sec)\n",
      "INFO:tensorflow:Saving checkpoints for 5000 into outputs/tf_week2/model3/model.ckpt.\n",
      "INFO:tensorflow:Loss for final step: 651.176.\n",
      "INFO:tensorflow:Calling model_fn.\n",
      "INFO:tensorflow:Done calling model_fn.\n",
      "INFO:tensorflow:Starting evaluation at 2018-09-11-03:28:57\n",
      "INFO:tensorflow:Graph was finalized.\n",
      "INFO:tensorflow:Restoring parameters from outputs/tf_week2/model3/model.ckpt-5000\n",
      "INFO:tensorflow:Running local_init_op.\n",
      "INFO:tensorflow:Done running local_init_op.\n",
      "INFO:tensorflow:Evaluation [57/572]\n",
      "INFO:tensorflow:Evaluation [114/572]\n",
      "INFO:tensorflow:Finished evaluation at 2018-09-11-03:28:57\n",
      "INFO:tensorflow:Saving dict for global step 5000: average_loss = 101.137, global_step = 5000, loss = 12929.5\n",
      "INFO:tensorflow:Calling model_fn.\n",
      "INFO:tensorflow:Done calling model_fn.\n",
      "INFO:tensorflow:Signatures INCLUDED in export for Classify: None\n",
      "INFO:tensorflow:Signatures INCLUDED in export for Regress: None\n",
      "INFO:tensorflow:Signatures INCLUDED in export for Predict: ['predict']\n",
      "INFO:tensorflow:Signatures EXCLUDED from export because they cannot be be served via TensorFlow Serving APIs:\n",
      "INFO:tensorflow:'serving_default' : Regression input must be a single string Tensor; got {'dropofflat': <tf.Tensor 'Placeholder_2:0' shape=(?,) dtype=float32>, 'pickuplat': <tf.Tensor 'Placeholder_1:0' shape=(?,) dtype=float32>, 'pickuplon': <tf.Tensor 'Placeholder:0' shape=(?,) dtype=float32>, 'passengers': <tf.Tensor 'Placeholder_4:0' shape=(?,) dtype=float32>, 'dropofflon': <tf.Tensor 'Placeholder_3:0' shape=(?,) dtype=float32>}\n",
      "INFO:tensorflow:'regression' : Regression input must be a single string Tensor; got {'dropofflat': <tf.Tensor 'Placeholder_2:0' shape=(?,) dtype=float32>, 'pickuplat': <tf.Tensor 'Placeholder_1:0' shape=(?,) dtype=float32>, 'pickuplon': <tf.Tensor 'Placeholder:0' shape=(?,) dtype=float32>, 'passengers': <tf.Tensor 'Placeholder_4:0' shape=(?,) dtype=float32>, 'dropofflon': <tf.Tensor 'Placeholder_3:0' shape=(?,) dtype=float32>}\n",
      "WARNING:tensorflow:Export includes no default signature!\n",
      "INFO:tensorflow:Restoring parameters from outputs/tf_week2/model3/model.ckpt-5000\n",
      "INFO:tensorflow:Assets added to graph.\n",
      "INFO:tensorflow:No assets to write.\n",
      "INFO:tensorflow:SavedModel written to: b\"outputs/tf_week2/model3/export/exporter/temp-b'1536636537'/saved_model.pb\"\n"
     ]
    },
    {
     "name": "stdout",
     "output_type": "stream",
     "text": [
      "======================Model 2 using large dataset======================\n",
      "======================Model 2 using large dataset======================\n"
     ]
    }
   ],
   "source": [
    "model.fit(1)"
   ]
  },
  {
   "cell_type": "code",
   "execution_count": null,
   "metadata": {
    "collapsed": true
   },
   "outputs": [],
   "source": []
  }
 ],
 "metadata": {
  "kernelspec": {
   "display_name": "Python 3",
   "language": "python",
   "name": "python3"
  },
  "language_info": {
   "codemirror_mode": {
    "name": "ipython",
    "version": 3
   },
   "file_extension": ".py",
   "mimetype": "text/x-python",
   "name": "python",
   "nbconvert_exporter": "python",
   "pygments_lexer": "ipython3",
   "version": "3.5.2"
  }
 },
 "nbformat": 4,
 "nbformat_minor": 0
}
