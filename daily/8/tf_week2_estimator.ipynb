{
 "cells": [
  {
   "cell_type": "code",
   "execution_count": 1,
   "metadata": {},
   "outputs": [
    {
     "name": "stderr",
     "output_type": "stream",
     "text": [
      "/usr/lib/python3.5/importlib/_bootstrap.py:222: RuntimeWarning: numpy.dtype size changed, may indicate binary incompatibility. Expected 96, got 88\n",
      "  return f(*args, **kwds)\n",
      "/usr/lib/python3.5/importlib/_bootstrap.py:222: RuntimeWarning: numpy.dtype size changed, may indicate binary incompatibility. Expected 96, got 88\n",
      "  return f(*args, **kwds)\n",
      "/usr/lib/python3.5/importlib/_bootstrap.py:222: RuntimeWarning: numpy.dtype size changed, may indicate binary incompatibility. Expected 96, got 88\n",
      "  return f(*args, **kwds)\n",
      "/usr/lib/python3.5/importlib/_bootstrap.py:222: RuntimeWarning: numpy.dtype size changed, may indicate binary incompatibility. Expected 96, got 88\n",
      "  return f(*args, **kwds)\n",
      "/usr/lib/python3.5/importlib/_bootstrap.py:222: RuntimeWarning: numpy.dtype size changed, may indicate binary incompatibility. Expected 96, got 88\n",
      "  return f(*args, **kwds)\n"
     ]
    }
   ],
   "source": [
    "import numpy as np\n",
    "import pandas as pd\n",
    "import tensorflow as tf\n",
    "%matplotlib inline"
   ]
  },
  {
   "cell_type": "markdown",
   "metadata": {},
   "source": [
    "## In this notebook,I will learn the high level of tensorflow API invoke :\n",
    "    1.using predefine Model\n",
    "    2.create dataset out of memory\n",
    "    3.distribution train\n",
    "    4.monitor training processing\n",
    "    5.deploy your model"
   ]
  },
  {
   "cell_type": "markdown",
   "metadata": {},
   "source": [
    "## 1. PreDefine Model\n",
    "<a href='https://www.tensorflow.org/api_docs/python/tf/estimator/LinearRegressor#train'>LinearRegressor</a>"
   ]
  },
  {
   "cell_type": "code",
   "execution_count": null,
   "metadata": {},
   "outputs": [],
   "source": [
    "class MyModel():\n",
    "    def __init__(self,filename='outputs/tf_week2/model1'):\n",
    "        self.columns=['pickuplon','pickuplat','dropofflon','dropofflat','passengers']\n",
    "        features=[tf.feature_column.numeric_column(f) for f in self.columns]\n",
    "        self.model=tf.estimator.LinearRegressor(feature_columns=features,model_dir=filename)\n",
    "        tf.logging.set_verbosity(tf.logging.INFO)\n",
    "    def make_train_input_fn(self,epochs):\n",
    "        df_train=pd.read_csv('../AI_database/trips/taxi-train.csv')\n",
    "        return tf.estimator.inputs.pandas_input_fn(x=df_train,\n",
    "                                        y=df_train['fare_amount'],\n",
    "                                        batch_size=128,\n",
    "                                        num_epochs=epochs,\n",
    "                                        shuffle=True,\n",
    "                                        queue_capacity=1000)\n",
    "    def make_valid_input_fn(self):\n",
    "        df_dev=pd.read_csv('../AI_database/trips/taxi-valid.csv')\n",
    "        return tf.estimator.inputs.pandas_input_fn(x=df_dev,\n",
    "                                              y=df_dev[\"fare_amount\"],\n",
    "                                              batch_size=128,\n",
    "                                              num_epochs=1,\n",
    "                                              shuffle=True,\n",
    "                                              queue_capacity=1000)\n",
    "    def make_predict_input_fn(self):\n",
    "        df_test=pd.read_csv('../AI_database/trips/taxi-test.csv')\n",
    "        return tf.estimator.inputs.pandas_input_fn(x=df_test,y=None,\n",
    "                                              batch_size=128,num_epochs=1,\n",
    "                                              shuffle=False)\n",
    "    def fit(self,epochs=10):\n",
    "        self.model.train(self.make_train_input_fn(epochs))\n",
    "    def evaluate(self):\n",
    "        result=self.model.evaluate(self.make_valid_input_fn())\n",
    "        print('Eval rms is {}'.format(np.sqrt(result['average_loss'])))\n",
    "    def predict(self):\n",
    "        return self.model.predict(self.make_predict_input_fn())"
   ]
  },
  {
   "cell_type": "code",
   "execution_count": null,
   "metadata": {},
   "outputs": [],
   "source": [
    "model=MyModel('outputs/tf_week2/model1')\n",
    "print('Train  Step:')\n",
    "model.fit(1)\n",
    "print('Evaluatuin Step:')\n",
    "model.evaluate()"
   ]
  },
  {
   "cell_type": "code",
   "execution_count": null,
   "metadata": {},
   "outputs": [],
   "source": [
    "#take a look at train,valid,test input function\n",
    "print(model.make_train_input_fn(1)()) #give 2 node, features(map) and label(a tensor)\n",
    "print('--------------------------------------')\n",
    "print(model.make_valid_input_fn()()) #give 2 node, features(map) and label(a tensor)\n",
    "print('--------------------------------------')\n",
    "print(model.make_predict_input_fn()())"
   ]
  },
  {
   "cell_type": "markdown",
   "metadata": {},
   "source": [
    "## 2. training on large dataset,using tf.data.* instead of  tf.estimator.input.pandas_input_fn "
   ]
  },
  {
   "cell_type": "code",
   "execution_count": null,
   "metadata": {},
   "outputs": [],
   "source": [
    "#input a raw line,return features and labels\n",
    "def decoder(row):\n",
    "    cols=tf.decode_csv(row,[[0.0],[0.0],[0.0],[0.0],[0.0],[0.0],[0.0]])\n",
    "    features={'pickuplon':cols[1],'pockuplat':cols[2]}\n",
    "    label=cols[0]\n",
    "    return features,label"
   ]
  },
  {
   "cell_type": "markdown",
   "metadata": {},
   "source": [
    "### first let's see how dataset tensor work"
   ]
  },
  {
   "cell_type": "code",
   "execution_count": null,
   "metadata": {},
   "outputs": [],
   "source": [
    "! head ../AI_database/trips/taxi-train.csv -n11"
   ]
  },
  {
   "cell_type": "code",
   "execution_count": null,
   "metadata": {},
   "outputs": [],
   "source": [
    "#the workflow look like follow:\n",
    "'''\n",
    "    filename->TextDataset->shuffle->batch->repeat->map->iterator->next\n",
    "    all about are node or tensor in TF\n",
    "    \n",
    "    the output should have the format for model.train()\n",
    "    {featurename:tensor},label tensor\n",
    "'''\n",
    "dataset=tf.data.TextLineDataset('../AI_database/trips/taxi-train.csv')\n",
    "dataset=dataset.skip(1)\n",
    "\n",
    "dataset=dataset.map(decoder)\n",
    "dataset=dataset.batch(3)\n",
    "dataset.shuffle(1000)\n",
    "mynext=dataset.make_one_shot_iterator().get_next()\n",
    "with tf.Session() as sess:\n",
    "    for i in range(5):\n",
    "        print(sess.run(mynext))"
   ]
  },
  {
   "cell_type": "code",
   "execution_count": null,
   "metadata": {},
   "outputs": [],
   "source": [
    "class MyModel2(MyModel):\n",
    "    def decoder_line(self,row):\n",
    "        DEFAULTS = [[0.0], [-74.0], [40.0], [-74.0], [40.7], [1.0], ['nokey']]\n",
    "        cols=tf.decode_csv(row,DEFAULTS)\n",
    "        features={self.columns[i]:cols[i+1] for i in range(0,len(self.columns))}\n",
    "        labels=cols[0]\n",
    "        return features,labels\n",
    "    def _getDataset(self,filename,epochs):\n",
    "        def ret_func():\n",
    "            dataset=tf.data.Dataset.list_files(filename)\n",
    "            dataset=dataset.flat_map(tf.data.TextLineDataset)\n",
    "            dataset=dataset.skip(1)\n",
    "            dataset=dataset.shuffle(1000)\n",
    "            dataset=dataset.batch(128)\n",
    "            dataset=dataset.repeat(epochs)\n",
    "            dataset=dataset.map(lambda r:self.decoder_line(r))   \n",
    "            features,labels=dataset.make_one_shot_iterator().get_next()\n",
    "            return features,labels\n",
    "        return ret_func\n",
    "    \n",
    "    def make_train_input_fn(self,epochs):\n",
    "        print('======================Model 2 using large dataset======================')\n",
    "        return self._getDataset('../AI_database/trips/taxi-train.csv',epochs)\n",
    "    def make_valid_input_fn(self):\n",
    "        print('======================Model 2 using large dataset======================')\n",
    "        return self._getDataset('../AI_database/trips/taxi-valid.csv',1)\n",
    "    def make_predict_input_fn(self):\n",
    "        print('======================Model 2 using large dataset======================')\n",
    "        return self._getDataset('../AI_database/trips/taxi-test.csv',1)"
   ]
  },
  {
   "cell_type": "code",
   "execution_count": null,
   "metadata": {},
   "outputs": [],
   "source": [
    "model=MyModel2('outputs/tf_week2/model2')\n",
    "print('Train step:')\n",
    "model.fit(1)\n",
    "print('Evaluation step:')\n",
    "model.evaluate()"
   ]
  },
  {
   "cell_type": "code",
   "execution_count": null,
   "metadata": {},
   "outputs": [],
   "source": [
    "gen=model.predict()\n",
    "for i in range(5):\n",
    "    print(next(gen))"
   ]
  },
  {
   "cell_type": "code",
   "execution_count": null,
   "metadata": {},
   "outputs": [],
   "source": [
    "for v_name in model.model.get_variable_names():\n",
    "    print('{} : {}'.format(v_name,model.model.get_variable_value(v_name)))"
   ]
  },
  {
   "cell_type": "code",
   "execution_count": null,
   "metadata": {},
   "outputs": [],
   "source": [
    "pd.read_csv('../AI_database/trips/taxi-valid.csv').head(1)"
   ]
  },
  {
   "cell_type": "code",
   "execution_count": null,
   "metadata": {},
   "outputs": [],
   "source": [
    "-73.988954*-0.03677155+40.758612*0.05220714+-73.952118*-0.04987059+40.776227*0.05605096*2*0.92487079+0.07902358"
   ]
  },
  {
   "cell_type": "markdown",
   "metadata": {
    "collapsed": true
   },
   "source": [
    "## 3.big jobs distribution training\n",
    "        1.define a run_config \n",
    "        2.define your model LinearRegression\n",
    "        3.Define trainSpec  <a href='http://ss'>TrainSpec</a>\n",
    "        4.Define evalSpec <a href=''>EvalSpec</a>\n",
    "        5.call tf.estimator.train_and_eval(model,train_spec,eval_spec)\n",
    "<a href='https://www.tensorflow.org/api_docs/python/tf/estimator/RunConfig'>RunConfig</a> <a href='https://www.tensorflow.org/api_docs/python/tf/estimator/TrainSpec'>TrainSpec</a> <a href='https://www.tensorflow.org/api_docs/python/tf/estimator/EvalSpec#__new__'>EvalSpec</a>\n",
    " <a href='https://www.tensorflow.org/api_docs/python/tf/estimator/export/ServingInputReceiver#__new__'>ServingInputReceiver</a>\n",
    "  <a href='https://www.tensorflow.org/api_docs/python/tf/estimator/LatestExporter'>LatestExporter</a>"
   ]
  },
  {
   "cell_type": "code",
   "execution_count": null,
   "metadata": {},
   "outputs": [],
   "source": [
    "class MyModel3(MyModel2):\n",
    "    def __init__(self,filename='outputs/tf_week2/model1'):\n",
    "        self.columns=['pickuplon','pickuplat','dropofflon','dropofflat','passengers']\n",
    "        features=[tf.feature_column.numeric_column(f) for f in self.columns]\n",
    "        runconfig=tf.estimator.RunConfig(filename,save_summary_steps=100,save_checkpoints_steps=1000)\n",
    "        self.model=tf.estimator.LinearRegressor(feature_columns=features,config=runconfig)\n",
    "    \n",
    "    def fit(self,epoch):\n",
    "        # Defines the expected shape of the JSON feed that the model,will receive once \n",
    "        #deployed behind a REST API in production.\n",
    "        def serving_input_fn():\n",
    "            feature_placeholders = {\n",
    "                'pickuplon' : tf.placeholder(tf.float32, [None]),\n",
    "                'pickuplat' : tf.placeholder(tf.float32, [None]),\n",
    "                'dropofflat' : tf.placeholder(tf.float32, [None]),\n",
    "                'dropofflon' : tf.placeholder(tf.float32, [None]),\n",
    "                'passengers' : tf.placeholder(tf.float32, [None])\n",
    "            }\n",
    "            #You can transforma data here from the input format to the format expected by your model.\n",
    "            features = feature_placeholders # no transformation needed\n",
    "            return tf.estimator.export.ServingInputReceiver(features, feature_placeholders)\n",
    "\n",
    "        train_spec=tf.estimator.TrainSpec(input_fn=self.make_train_input_fn(epoch),max_steps=5000)\n",
    "        \n",
    "        eval_spec=tf.estimator.EvalSpec(input_fn=self.make_valid_input_fn(),\n",
    "                                        steps=572,\n",
    "                                        exporters=tf.estimator.LatestExporter('exporter',serving_input_fn),\n",
    "                                        throttle_secs=600)\n",
    "        tf.estimator.train_and_evaluate(self.model,train_spec,eval_spec)"
   ]
  },
  {
   "cell_type": "code",
   "execution_count": null,
   "metadata": {},
   "outputs": [],
   "source": [
    "model=MyModel3('outputs/tf_week2/model3')"
   ]
  },
  {
   "cell_type": "code",
   "execution_count": null,
   "metadata": {},
   "outputs": [],
   "source": [
    "model.fit(1)"
   ]
  },
  {
   "cell_type": "markdown",
   "metadata": {
    "collapsed": true
   },
   "source": [
    "## Challenge Exercise\n",
    "\n",
    "Create a neural network that is capable of finding the volume of a cylinder given the radius of its base (r) and its height (h). Assume that the radius and height of the cylinder are both in the range 0.5 to 2.0. Simulate the necessary training dataset.\n",
    "<p>\n",
    "The input features will be r and h and the label will be $\\pi r^2 h$\n",
    "Create random values for r and h and compute V.\n",
    "Your dataset will consist of r, h and V.\n",
    "Then, use a DNN regressor.\n",
    "Make sure to generate enough data.\n",
    "</p>"
   ]
  },
  {
   "cell_type": "code",
   "execution_count": 68,
   "metadata": {},
   "outputs": [],
   "source": [
    "#create dateset\n",
    "def newDataset(N=10000,rnd=False):\n",
    "    r_h=np.random.rand(N,2)*1.5+0.5\n",
    "    df=pd.DataFrame(r_h,columns=['r','h'])\n",
    "    df['area']=df['r']**2*df['h']*np.pi\n",
    "    \n",
    "    if rnd:\n",
    "        df=df.round(1)\n",
    "    return df"
   ]
  },
  {
   "cell_type": "code",
   "execution_count": 69,
   "metadata": {},
   "outputs": [
    {
     "data": {
      "text/plain": [
       "<matplotlib.axes._subplots.AxesSubplot at 0x7fbfdc6705c0>"
      ]
     },
     "execution_count": 69,
     "metadata": {},
     "output_type": "execute_result"
    },
    {
     "data": {
      "image/png": "[encoded data removed]",
      "text/plain": [
       "<Figure size 432x288 with 1 Axes>"
      ]
     },
     "metadata": {},
     "output_type": "display_data"
    },
    {
     "data": {
      "image/png": "[encoded data removed]",
      "text/plain": [
       "<Figure size 432x288 with 1 Axes>"
      ]
     },
     "metadata": {},
     "output_type": "display_data"
    }
   ],
   "source": [
    "df=newDataset(10000,True)\n",
    "df.plot(x='r',y='area',kind='scatter')\n",
    "df.plot(x='h',y='area',kind='scatter')"
   ]
  },
  {
   "cell_type": "code",
   "execution_count": 70,
   "metadata": {},
   "outputs": [],
   "source": [
    "def make_input_fn(df):\n",
    "    return tf.estimator.inputs.pandas_input_fn(df,df['area'],128,10,shuffle=True,queue_capacity=1000)\n",
    "def make_eval_input_fn(df):\n",
    "    return tf.estimator.inputs.pandas_input_fn(df,df['area'],1,1,shuffle=False,queue_capacity=1000)\n",
    "def make_predict_input_fn(df):\n",
    "    return tf.estimator.inputs.pandas_input_fn(df,None,128,1,shuffle=False,queue_capacity=1000)"
   ]
  },
  {
   "cell_type": "code",
   "execution_count": 71,
   "metadata": {},
   "outputs": [
    {
     "name": "stdout",
     "output_type": "stream",
     "text": [
      "INFO:tensorflow:Using default config.\n",
      "INFO:tensorflow:Using config: {'_tf_random_seed': None, '_model_dir': 'outputs/tf_week2/challenge1', '_train_distribute': None, '_task_type': 'worker', '_session_config': None, '_cluster_spec': <tensorflow.python.training.server_lib.ClusterSpec object at 0x7fc0b808f588>, '_save_summary_steps': 100, '_keep_checkpoint_every_n_hours': 10000, '_log_step_count_steps': 100, '_num_worker_replicas': 1, '_num_ps_replicas': 0, '_evaluation_master': '', '_is_chief': True, '_device_fn': None, '_service': None, '_task_id': 0, '_global_id_in_cluster': 0, '_master': '', '_save_checkpoints_secs': 600, '_save_checkpoints_steps': None, '_keep_checkpoint_max': 5}\n"
     ]
    }
   ],
   "source": [
    "feature_cols=[tf.feature_column.numeric_column('r'),tf.feature_column.numeric_column('h')]\n",
    "estimator=tf.estimator.DNNRegressor(hidden_units=[64,32],\n",
    "                                    feature_columns=feature_cols,\n",
    "                                    model_dir='outputs/tf_week2/challenge1',\n",
    "                                    optimizer='Adam')"
   ]
  },
  {
   "cell_type": "code",
   "execution_count": 75,
   "metadata": {},
   "outputs": [
    {
     "name": "stdout",
     "output_type": "stream",
     "text": [
      "INFO:tensorflow:Calling model_fn.\n",
      "INFO:tensorflow:Done calling model_fn.\n",
      "INFO:tensorflow:Create CheckpointSaverHook.\n",
      "INFO:tensorflow:Graph was finalized.\n",
      "INFO:tensorflow:Restoring parameters from outputs/tf_week2/challenge1/model.ckpt-2346\n",
      "INFO:tensorflow:Running local_init_op.\n",
      "INFO:tensorflow:Done running local_init_op.\n",
      "INFO:tensorflow:Saving checkpoints for 2346 into outputs/tf_week2/challenge1/model.ckpt.\n",
      "INFO:tensorflow:loss = 32.707115, step = 2346\n",
      "INFO:tensorflow:global_step/sec: 192.687\n",
      "INFO:tensorflow:loss = 50.830605, step = 2446 (0.523 sec)\n",
      "INFO:tensorflow:global_step/sec: 248.042\n",
      "INFO:tensorflow:loss = 16.97633, step = 2546 (0.404 sec)\n",
      "INFO:tensorflow:global_step/sec: 208.153\n",
      "INFO:tensorflow:loss = 15.704245, step = 2646 (0.482 sec)\n",
      "INFO:tensorflow:global_step/sec: 208.497\n",
      "INFO:tensorflow:loss = 26.222275, step = 2746 (0.478 sec)\n",
      "INFO:tensorflow:global_step/sec: 210.661\n",
      "INFO:tensorflow:loss = 14.596633, step = 2846 (0.474 sec)\n",
      "INFO:tensorflow:global_step/sec: 213.893\n",
      "INFO:tensorflow:loss = 17.419369, step = 2946 (0.467 sec)\n",
      "INFO:tensorflow:global_step/sec: 212.982\n",
      "INFO:tensorflow:loss = 19.51616, step = 3046 (0.470 sec)\n",
      "INFO:tensorflow:Saving checkpoints for 3128 into outputs/tf_week2/challenge1/model.ckpt.\n",
      "INFO:tensorflow:Loss for final step: 11.083589.\n"
     ]
    },
    {
     "data": {
      "text/plain": [
       "<tensorflow.python.estimator.canned.dnn.DNNRegressor at 0x7fbfdc6f6b70>"
      ]
     },
     "execution_count": 75,
     "metadata": {},
     "output_type": "execute_result"
    }
   ],
   "source": [
    "estimator.train(make_input_fn(df),steps=5000)"
   ]
  },
  {
   "cell_type": "code",
   "execution_count": 76,
   "metadata": {},
   "outputs": [
    {
     "name": "stdout",
     "output_type": "stream",
     "text": [
      "INFO:tensorflow:Calling model_fn.\n",
      "INFO:tensorflow:Done calling model_fn.\n",
      "INFO:tensorflow:Starting evaluation at 2018-09-11-17:19:16\n",
      "INFO:tensorflow:Graph was finalized.\n",
      "INFO:tensorflow:Restoring parameters from outputs/tf_week2/challenge1/model.ckpt-3128\n",
      "INFO:tensorflow:Running local_init_op.\n",
      "INFO:tensorflow:Done running local_init_op.\n",
      "INFO:tensorflow:Finished evaluation at 2018-09-11-17:19:18\n",
      "INFO:tensorflow:Saving dict for global step 3128: average_loss = 0.28789565, global_step = 3128, loss = 0.28789565\n",
      "INFO:tensorflow:Saving 'checkpoint_path' summary for global step 3128: outputs/tf_week2/challenge1/model.ckpt-3128\n"
     ]
    },
    {
     "data": {
      "text/plain": [
       "{'average_loss': 0.28789565, 'global_step': 3128, 'loss': 0.28789565}"
      ]
     },
     "execution_count": 76,
     "metadata": {},
     "output_type": "execute_result"
    }
   ],
   "source": [
    "df=newDataset(500,True)\n",
    "estimator.evaluate(make_eval_input_fn(df))"
   ]
  },
  {
   "cell_type": "code",
   "execution_count": 67,
   "metadata": {},
   "outputs": [
    {
     "name": "stdout",
     "output_type": "stream",
     "text": [
      "INFO:tensorflow:Calling model_fn.\n",
      "INFO:tensorflow:Done calling model_fn.\n",
      "INFO:tensorflow:Graph was finalized.\n",
      "INFO:tensorflow:Restoring parameters from outputs/tf_week2/challenge1/model.ckpt-9384\n",
      "INFO:tensorflow:Running local_init_op.\n",
      "INFO:tensorflow:Done running local_init_op.\n",
      "label value is 11.4,predict value is 11.324389457702637\n",
      "label value is 13.8,predict value is 14.430193901062012\n",
      "label value is 10.4,predict value is 10.16899299621582\n",
      "label value is 2.0,predict value is 1.9330623149871826\n",
      "label value is 14.8,predict value is 13.811942100524902\n",
      "label value is 3.7,predict value is 3.4170758724212646\n",
      "label value is 3.1,predict value is 2.9977903366088867\n",
      "label value is 1.9,predict value is 2.005169153213501\n",
      "label value is 2.8,predict value is 2.5514650344848633\n",
      "label value is 5.1,predict value is 4.6897149085998535\n",
      "label value is 2.4,predict value is 2.3997652530670166\n",
      "label value is 5.1,predict value is 5.498105525970459\n",
      "label value is 9.6,predict value is 9.916967391967773\n",
      "label value is 2.9,predict value is 2.344268560409546\n",
      "label value is 6.7,predict value is 6.18065881729126\n",
      "label value is 2.6,predict value is 2.3997652530670166\n",
      "label value is 3.3,predict value is 3.0972042083740234\n",
      "label value is 0.7,predict value is 0.27253586053848267\n",
      "label value is 0.8,predict value is 0.6873195171356201\n",
      "label value is 12.9,predict value is 13.635180473327637\n",
      "label value is 12.4,predict value is 11.764816284179688\n",
      "label value is 2.3,predict value is 2.217484712600708\n",
      "label value is 12.8,predict value is 11.9269437789917\n",
      "label value is 4.9,predict value is 4.680949687957764\n",
      "label value is 3.9,predict value is 3.774289131164551\n",
      "label value is 17.8,predict value is 18.194793701171875\n",
      "label value is 2.1,predict value is 1.809056282043457\n",
      "label value is 2.9,predict value is 2.606961727142334\n",
      "label value is 6.7,predict value is 6.216435432434082\n",
      "label value is 1.3,predict value is 0.9727064967155457\n",
      "label value is 1.8,predict value is 1.4168310165405273\n",
      "label value is 21.7,predict value is 21.213279724121094\n",
      "label value is 14.7,predict value is 14.79057502746582\n",
      "label value is 2.6,predict value is 2.344268560409546\n",
      "label value is 14.6,predict value is 13.487693786621094\n",
      "label value is 10.6,predict value is 11.069323539733887\n",
      "label value is 1.5,predict value is 1.5218636989593506\n",
      "label value is 1.6,predict value is 1.4687299728393555\n",
      "label value is 11.8,predict value is 10.872575759887695\n",
      "label value is 9.8,predict value is 9.51171875\n",
      "label value is 10.7,predict value is 11.069323539733887\n",
      "label value is 7.3,predict value is 7.157352924346924\n",
      "label value is 3.9,predict value is 4.02062463760376\n",
      "label value is 9.7,predict value is 9.80975341796875\n",
      "label value is 1.2,predict value is 1.044813871383667\n",
      "label value is 5.7,predict value is 5.024259567260742\n",
      "label value is 13.1,predict value is 13.03156566619873\n",
      "label value is 4.0,predict value is 4.003092288970947\n",
      "label value is 9.0,predict value is 8.56459903717041\n",
      "label value is 13.1,predict value is 13.487693786621094\n"
     ]
    }
   ],
   "source": [
    "db=newDataset(50,True)\n",
    "predict_gen=estimator.predict(make_predict_input_fn(db))\n",
    "for i in range(len(db)):\n",
    "    label=float(db.iloc[i]['area'])\n",
    "    predict_label=next(predict_gen)['predictions'][0]\n",
    "    print('label value is {},predict value is {}'.format(label,predict_label))"
   ]
  },
  {
   "cell_type": "code",
   "execution_count": 31,
   "metadata": {},
   "outputs": [
    {
     "data": {
      "text/plain": [
       "float"
      ]
     },
     "execution_count": 31,
     "metadata": {},
     "output_type": "execute_result"
    }
   ],
   "source": []
  },
  {
   "cell_type": "code",
   "execution_count": null,
   "metadata": {},
   "outputs": [],
   "source": []
  }
 ],
 "metadata": {
  "kernelspec": {
   "display_name": "Python 3",
   "language": "python",
   "name": "python3"
  },
  "language_info": {
   "codemirror_mode": {
    "name": "ipython",
    "version": 3
   },
   "file_extension": ".py",
   "mimetype": "text/x-python",
   "name": "python",
   "nbconvert_exporter": "python",
   "pygments_lexer": "ipython3",
   "version": "3.5.2"
  }
 },
 "nbformat": 4,
 "nbformat_minor": 1
}
