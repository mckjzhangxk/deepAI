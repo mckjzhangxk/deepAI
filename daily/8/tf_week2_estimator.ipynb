{
 "cells": [
  {
   "cell_type": "code",
   "execution_count": 1,
   "metadata": {
    "collapsed": true
   },
   "outputs": [],
   "source": [
    "import numpy as np\n",
    "import pandas as pd\n",
    "import tensorflow as tf"
   ]
  },
  {
   "cell_type": "markdown",
   "metadata": {},
   "source": [
    "## In this notebook,I will learn the high level of tensorflow API invoke :\n",
    "    1.using predefine Model\n",
    "    2.create dataset out of memory\n",
    "    3.distribution train\n",
    "    4.monitor training processing\n",
    "    5.deploy your model"
   ]
  },
  {
   "cell_type": "markdown",
   "metadata": {},
   "source": [
    "## 1. PreDefine Model"
   ]
  },
  {
   "cell_type": "code",
   "execution_count": 2,
   "metadata": {
    "collapsed": false
   },
   "outputs": [],
   "source": [
    "class MyModel():\n",
    "    def __init__(self,filename='outputs/tf_week2/model1'):\n",
    "        self.columns=['pickuplon','pickuplat','dropofflon','dropofflat','passengers']\n",
    "        features=[tf.feature_column.numeric_column(f) for f in self.columns]\n",
    "        self.model=tf.estimator.LinearRegressor(feature_columns=features,model_dir=filename)\n",
    "        tf.logging.set_verbosity(tf.logging.INFO)\n",
    "    def make_train_input_fn(self,epochs):\n",
    "        df_train=pd.read_csv('../AI_database/trips/taxi-train.csv')\n",
    "        return tf.estimator.inputs.pandas_input_fn(x=df_train,\n",
    "                                        y=df_train['fare_amount'],\n",
    "                                        batch_size=128,\n",
    "                                        num_epochs=epochs,\n",
    "                                        shuffle=True,\n",
    "                                        queue_capacity=1000)\n",
    "    def make_valid_input_fn(self):\n",
    "        df_dev=pd.read_csv('../AI_database/trips/taxi-valid.csv')\n",
    "        return tf.estimator.inputs.pandas_input_fn(x=df_dev,\n",
    "                                              y=df_dev[\"fare_amount\"],\n",
    "                                              batch_size=128,\n",
    "                                              num_epochs=1,\n",
    "                                              shuffle=True,\n",
    "                                              queue_capacity=1000)\n",
    "    def make_predict_input_fn(self):\n",
    "        df_test=pd.read_csv('../AI_database/trips/taxi-test.csv')\n",
    "        return tf.estimator.inputs.pandas_input_fn(x=df_test,y=None,\n",
    "                                              batch_size=128,num_epochs=1,\n",
    "                                              shuffle=False)\n",
    "    def fit(self,epochs=10):\n",
    "        self.model.train(self.make_train_input_fn(epochs))\n",
    "    def evaluate(self):\n",
    "        result=self.model.evaluate(self.make_valid_input_fn())\n",
    "        print('Eval rms is {}'.format(np.sqrt(result['average_loss'])))\n",
    "    def predict(self):\n",
    "        return self.model.predict(self.make_predict_input_fn())"
   ]
  },
  {
   "cell_type": "code",
   "execution_count": 3,
   "metadata": {
    "collapsed": false
   },
   "outputs": [
    {
     "name": "stderr",
     "output_type": "stream",
     "text": [
      "INFO:tensorflow:Calling model_fn.\n",
      "INFO:tensorflow:Done calling model_fn.\n",
      "INFO:tensorflow:Create CheckpointSaverHook.\n",
      "INFO:tensorflow:Graph was finalized.\n",
      "INFO:tensorflow:Restoring parameters from outputs/tf_week2/model1/model.ckpt-1146\n",
      "INFO:tensorflow:Running local_init_op.\n",
      "INFO:tensorflow:Done running local_init_op.\n",
      "INFO:tensorflow:Saving checkpoints for 1147 into outputs/tf_week2/model1/model.ckpt.\n",
      "INFO:tensorflow:loss = 2979.67, step = 1147\n",
      "INFO:tensorflow:global_step/sec: 541.478\n",
      "INFO:tensorflow:loss = 6085.03, step = 1247 (0.186 sec)\n",
      "INFO:tensorflow:global_step/sec: 711.187\n",
      "INFO:tensorflow:loss = 1897.96, step = 1347 (0.141 sec)\n",
      "INFO:tensorflow:global_step/sec: 723.77\n",
      "INFO:tensorflow:loss = 15.65, step = 1447 (0.138 sec)\n",
      "INFO:tensorflow:global_step/sec: 706.059\n",
      "INFO:tensorflow:loss = 12761.9, step = 1547 (0.142 sec)\n",
      "INFO:tensorflow:global_step/sec: 697.564\n",
      "INFO:tensorflow:loss = 19814.8, step = 1647 (0.143 sec)\n",
      "INFO:tensorflow:Saving checkpoints for 1719 into outputs/tf_week2/model1/model.ckpt.\n",
      "INFO:tensorflow:Loss for final step: 45.9633.\n"
     ]
    },
    {
     "name": "stdout",
     "output_type": "stream",
     "text": [
      "Train  Step:\n",
      "Evaluatuin Step:"
     ]
    },
    {
     "name": "stderr",
     "output_type": "stream",
     "text": [
      "INFO:tensorflow:Calling model_fn.\n",
      "INFO:tensorflow:Done calling model_fn.\n",
      "INFO:tensorflow:Starting evaluation at 2018-09-10-09:25:57\n",
      "INFO:tensorflow:Graph was finalized.\n",
      "INFO:tensorflow:Restoring parameters from outputs/tf_week2/model1/model.ckpt-1719\n",
      "INFO:tensorflow:Running local_init_op.\n",
      "INFO:tensorflow:Done running local_init_op.\n",
      "INFO:tensorflow:Finished evaluation at 2018-09-10-09:25:57\n",
      "INFO:tensorflow:Saving dict for global step 1719: average_loss = 107.672, global_step = 1719, loss = 13764.9\n"
     ]
    },
    {
     "name": "stdout",
     "output_type": "stream",
     "text": [
      "\n",
      "Eval rms is 10.376500129699707\n"
     ]
    }
   ],
   "source": [
    "model=MyModel('outputs/tf_week2/model1')\n",
    "print('Train  Step:')\n",
    "model.fit(1)\n",
    "print('Evaluatuin Step:')\n",
    "model.evaluate()"
   ]
  },
  {
   "cell_type": "code",
   "execution_count": 5,
   "metadata": {
    "collapsed": false
   },
   "outputs": [
    {
     "name": "stdout",
     "output_type": "stream",
     "text": [
      "({'fare_amount': <tf.Tensor 'random_shuffle_queue_DequeueUpTo:1' shape=(?,) dtype=float64>, 'passengers': <tf.Tensor 'random_shuffle_queue_DequeueUpTo:6' shape=(?,) dtype=float64>, 'dropofflat': <tf.Tensor 'random_shuffle_queue_DequeueUpTo:5' shape=(?,) dtype=float64>, 'key': <tf.Tensor 'random_shuffle_queue_DequeueUpTo:7' shape=(?,) dtype=int64>, 'dropofflon': <tf.Tensor 'random_shuffle_queue_DequeueUpTo:4' shape=(?,) dtype=float64>, 'pickuplat': <tf.Tensor 'random_shuffle_queue_DequeueUpTo:3' shape=(?,) dtype=float64>, 'pickuplon': <tf.Tensor 'random_shuffle_queue_DequeueUpTo:2' shape=(?,) dtype=float64>}, <tf.Tensor 'random_shuffle_queue_DequeueUpTo:8' shape=(?,) dtype=float64>)\n",
      "--------------------------------------\n",
      "({'fare_amount': <tf.Tensor 'random_shuffle_queue_DequeueUpTo_1:1' shape=(?,) dtype=float64>, 'passengers': <tf.Tensor 'random_shuffle_queue_DequeueUpTo_1:6' shape=(?,) dtype=float64>, 'dropofflat': <tf.Tensor 'random_shuffle_queue_DequeueUpTo_1:5' shape=(?,) dtype=float64>, 'key': <tf.Tensor 'random_shuffle_queue_DequeueUpTo_1:7' shape=(?,) dtype=int64>, 'dropofflon': <tf.Tensor 'random_shuffle_queue_DequeueUpTo_1:4' shape=(?,) dtype=float64>, 'pickuplat': <tf.Tensor 'random_shuffle_queue_DequeueUpTo_1:3' shape=(?,) dtype=float64>, 'pickuplon': <tf.Tensor 'random_shuffle_queue_DequeueUpTo_1:2' shape=(?,) dtype=float64>}, <tf.Tensor 'random_shuffle_queue_DequeueUpTo_1:8' shape=(?,) dtype=float64>)\n",
      "--------------------------------------\n",
      "{'fare_amount': <tf.Tensor 'fifo_queue_DequeueUpTo:1' shape=(?,) dtype=float64>, 'passengers': <tf.Tensor 'fifo_queue_DequeueUpTo:6' shape=(?,) dtype=float64>, 'dropofflat': <tf.Tensor 'fifo_queue_DequeueUpTo:5' shape=(?,) dtype=float64>, 'key': <tf.Tensor 'fifo_queue_DequeueUpTo:7' shape=(?,) dtype=int64>, 'dropofflon': <tf.Tensor 'fifo_queue_DequeueUpTo:4' shape=(?,) dtype=float64>, 'pickuplat': <tf.Tensor 'fifo_queue_DequeueUpTo:3' shape=(?,) dtype=float64>, 'pickuplon': <tf.Tensor 'fifo_queue_DequeueUpTo:2' shape=(?,) dtype=float64>}\n"
     ]
    }
   ],
   "source": [
    "#take a look at train,valid,test input function\n",
    "print(model.make_train_input_fn(1)())\n",
    "print('--------------------------------------')\n",
    "print(model.make_valid_input_fn()())\n",
    "print('--------------------------------------')\n",
    "print(model.make_predict_input_fn()())"
   ]
  },
  {
   "cell_type": "markdown",
   "metadata": {},
   "source": [
    "## 2. training on large dataset,using tf.data.* instead of  tf.estimator.input.pandas_input_fn "
   ]
  },
  {
   "cell_type": "code",
   "execution_count": null,
   "metadata": {
    "collapsed": false
   },
   "outputs": [],
   "source": [
    "#input a raw line,return features and labels\n",
    "def decoder(row):\n",
    "    cols=tf.decode_csv(row,[[0.0],[0.0],[0.0],[0.0],[0.0],[0.0],[0.0]])\n",
    "    features={'pickuplon':cols[1],'pockuplat':cols[2]}\n",
    "    label=cols[0]\n",
    "    return features,label"
   ]
  },
  {
   "cell_type": "markdown",
   "metadata": {},
   "source": [
    "### first let's see how dataset tensor work"
   ]
  },
  {
   "cell_type": "code",
   "execution_count": null,
   "metadata": {
    "collapsed": false
   },
   "outputs": [],
   "source": [
    "! head ../AI_database/trips/taxi-train.csv -n11"
   ]
  },
  {
   "cell_type": "code",
   "execution_count": null,
   "metadata": {
    "collapsed": false
   },
   "outputs": [],
   "source": [
    "#the workflow look like follow:\n",
    "'''\n",
    "    filename->TextDataset->shuffle->batch->repeat->map->iterator->next\n",
    "    all about are node or tensor in TF\n",
    "    \n",
    "    the output should have the format for model.train()\n",
    "    {featurename:tensor},label tensor\n",
    "'''\n",
    "dataset=tf.data.TextLineDataset('../AI_database/trips/taxi-train.csv')\n",
    "dataset=dataset.skip(1)\n",
    "\n",
    "# dataset=dataset.map(decoder)\n",
    "dataset=dataset.batch(3)\n",
    "dataset.shuffle(1000)\n",
    "mynext=dataset.make_one_shot_iterator().get_next()\n",
    "with tf.Session() as sess:\n",
    "    for i in range(5):\n",
    "        print(sess.run(mynext))"
   ]
  },
  {
   "cell_type": "code",
   "execution_count": 20,
   "metadata": {
    "collapsed": false
   },
   "outputs": [],
   "source": [
    "class MyModel2(MyModel):\n",
    "    def decoder_line(self,row):\n",
    "        DEFAULTS = [[0.0], [-74.0], [40.0], [-74.0], [40.7], [1.0], ['nokey']]\n",
    "        cols=tf.decode_csv(row,DEFAULTS)\n",
    "        features={self.columns[i]:cols[i+1] for i in range(0,len(self.columns))}\n",
    "        labels=cols[0]\n",
    "        return features,labels\n",
    "    def _getDataset(self,filename,epochs):\n",
    "        def ret_func():\n",
    "            dataset=tf.data.Dataset.list_files(filename)\n",
    "            dataset=dataset.flat_map(tf.data.TextLineDataset)\n",
    "            dataset=dataset.skip(1)\n",
    "            dataset=dataset.shuffle(1000)\n",
    "            dataset=dataset.batch(128)\n",
    "            dataset=dataset.repeat(epochs)\n",
    "            dataset=dataset.map(lambda r:self.decoder_line(r))   \n",
    "            features,labels=dataset.make_one_shot_iterator().get_next()\n",
    "            return features,labels\n",
    "        return ret_func\n",
    "    \n",
    "    def make_train_input_fn(self,epochs):\n",
    "        print('======================Model 2 using large dataset======================')\n",
    "        return self._getDataset('../AI_database/trips/taxi-train.csv',epochs)\n",
    "    def make_valid_input_fn(self):\n",
    "        print('======================Model 2 using large dataset======================')\n",
    "        return self._getDataset('../AI_database/trips/taxi-valid.csv',1)\n",
    "    def make_predict_input_fn(self):\n",
    "        print('======================Model 2 using large dataset======================')\n",
    "        return self._getDataset('../AI_database/trips/taxi-test.csv',1)"
   ]
  },
  {
   "cell_type": "code",
   "execution_count": 21,
   "metadata": {
    "collapsed": false
   },
   "outputs": [
    {
     "name": "stderr",
     "output_type": "stream",
     "text": [
      "INFO:tensorflow:Using default config.\n",
      "INFO:tensorflow:Using config: {'_tf_random_seed': None, '_cluster_spec': <tensorflow.python.training.server_lib.ClusterSpec object at 0x7f0bd33306a0>, '_save_checkpoints_steps': None, '_session_config': None, '_global_id_in_cluster': 0, '_keep_checkpoint_every_n_hours': 10000, '_keep_checkpoint_max': 5, '_master': '', '_task_id': 0, '_num_worker_replicas': 1, '_task_type': 'worker', '_save_checkpoints_secs': 600, '_model_dir': 'outputs/tf_week2/model2', '_log_step_count_steps': 100, '_num_ps_replicas': 0, '_save_summary_steps': 100, '_evaluation_master': '', '_is_chief': True, '_service': None}\n",
      "INFO:tensorflow:Calling model_fn.\n",
      "INFO:tensorflow:Done calling model_fn.\n",
      "INFO:tensorflow:Create CheckpointSaverHook.\n",
      "INFO:tensorflow:Graph was finalized.\n",
      "INFO:tensorflow:Restoring parameters from outputs/tf_week2/model2/model.ckpt-17766\n",
      "INFO:tensorflow:Running local_init_op.\n",
      "INFO:tensorflow:Done running local_init_op.\n",
      "INFO:tensorflow:Saving checkpoints for 17767 into outputs/tf_week2/model2/model.ckpt.\n",
      "INFO:tensorflow:loss = 8670.48, step = 17767\n",
      "INFO:tensorflow:global_step/sec: 391.339\n",
      "INFO:tensorflow:loss = 16475.5, step = 17867 (0.257 sec)\n",
      "INFO:tensorflow:global_step/sec: 452.685\n",
      "INFO:tensorflow:loss = 30.1148, step = 17967 (0.220 sec)\n",
      "INFO:tensorflow:global_step/sec: 462.786\n",
      "INFO:tensorflow:loss = 53.9167, step = 18067 (0.216 sec)\n",
      "INFO:tensorflow:global_step/sec: 463.36\n",
      "INFO:tensorflow:loss = 21012.5, step = 18167 (0.216 sec)\n",
      "INFO:tensorflow:global_step/sec: 467.748\n",
      "INFO:tensorflow:loss = 4197.08, step = 18267 (0.214 sec)\n",
      "INFO:tensorflow:global_step/sec: 445.437\n",
      "INFO:tensorflow:loss = 2478.38, step = 18367 (0.225 sec)\n",
      "INFO:tensorflow:global_step/sec: 460.292\n",
      "INFO:tensorflow:loss = 3665.9, step = 18467 (0.217 sec)\n",
      "INFO:tensorflow:global_step/sec: 445.796\n",
      "INFO:tensorflow:loss = 19.285, step = 18567 (0.224 sec)\n",
      "INFO:tensorflow:global_step/sec: 454.158\n",
      "INFO:tensorflow:loss = 101.53, step = 18667 (0.220 sec)\n",
      "INFO:tensorflow:global_step/sec: 455.432\n",
      "INFO:tensorflow:loss = 21467.3, step = 18767 (0.220 sec)\n",
      "INFO:tensorflow:global_step/sec: 458.853\n",
      "INFO:tensorflow:loss = 10922.4, step = 18867 (0.225 sec)\n",
      "INFO:tensorflow:global_step/sec: 420.372\n",
      "INFO:tensorflow:loss = 19233.8, step = 18967 (0.231 sec)\n",
      "INFO:tensorflow:global_step/sec: 470.83\n",
      "INFO:tensorflow:loss = 10997.7, step = 19067 (0.212 sec)\n",
      "INFO:tensorflow:global_step/sec: 460.902\n",
      "INFO:tensorflow:loss = 46.7773, step = 19167 (0.217 sec)\n",
      "INFO:tensorflow:global_step/sec: 351.215\n",
      "INFO:tensorflow:loss = 2098.33, step = 19267 (0.286 sec)\n",
      "INFO:tensorflow:global_step/sec: 408.472\n",
      "INFO:tensorflow:loss = 1017.65, step = 19367 (0.244 sec)\n",
      "INFO:tensorflow:global_step/sec: 370.445\n",
      "INFO:tensorflow:loss = 2138.58, step = 19467 (0.270 sec)\n",
      "INFO:tensorflow:global_step/sec: 452.33\n",
      "INFO:tensorflow:loss = 6910.71, step = 19567 (0.221 sec)\n",
      "INFO:tensorflow:global_step/sec: 346.552\n",
      "INFO:tensorflow:loss = 1006.74, step = 19667 (0.289 sec)\n",
      "INFO:tensorflow:global_step/sec: 396.815\n",
      "INFO:tensorflow:loss = 23.7101, step = 19767 (0.252 sec)\n",
      "INFO:tensorflow:global_step/sec: 354.228\n",
      "INFO:tensorflow:loss = 28811.9, step = 19867 (0.282 sec)\n",
      "INFO:tensorflow:global_step/sec: 360.42\n",
      "INFO:tensorflow:loss = 28212.7, step = 19967 (0.277 sec)\n",
      "INFO:tensorflow:global_step/sec: 443.702\n",
      "INFO:tensorflow:loss = 388.082, step = 20067 (0.225 sec)\n",
      "INFO:tensorflow:global_step/sec: 364.365\n",
      "INFO:tensorflow:loss = 11216.2, step = 20167 (0.274 sec)\n",
      "INFO:tensorflow:global_step/sec: 457.958\n",
      "INFO:tensorflow:loss = 38.0639, step = 20267 (0.218 sec)\n",
      "INFO:tensorflow:global_step/sec: 463.947\n",
      "INFO:tensorflow:loss = 56.2144, step = 20367 (0.215 sec)\n",
      "INFO:tensorflow:global_step/sec: 470.988\n",
      "INFO:tensorflow:loss = 2483.51, step = 20467 (0.212 sec)\n",
      "INFO:tensorflow:global_step/sec: 468.942\n",
      "INFO:tensorflow:loss = 632.754, step = 20567 (0.213 sec)\n",
      "INFO:tensorflow:Saving checkpoints for 20631 into outputs/tf_week2/model2/model.ckpt.\n",
      "INFO:tensorflow:Loss for final step: 430.921.\n"
     ]
    },
    {
     "name": "stdout",
     "output_type": "stream",
     "text": [
      "Train step:\n",
      "======================Model 2 using large dataset======================\n",
      "Evaluation step:"
     ]
    },
    {
     "name": "stderr",
     "output_type": "stream",
     "text": [
      "INFO:tensorflow:Calling model_fn.\n",
      "INFO:tensorflow:Done calling model_fn.\n",
      "INFO:tensorflow:Starting evaluation at 2018-09-10-09:37:18\n",
      "INFO:tensorflow:Graph was finalized.\n",
      "INFO:tensorflow:Restoring parameters from outputs/tf_week2/model2/model.ckpt-20631\n",
      "INFO:tensorflow:Running local_init_op.\n",
      "INFO:tensorflow:Done running local_init_op.\n",
      "INFO:tensorflow:Finished evaluation at 2018-09-10-09:37:18\n",
      "INFO:tensorflow:Saving dict for global step 20631: average_loss = 96.0239, global_step = 20631, loss = 12275.9\n"
     ]
    },
    {
     "name": "stdout",
     "output_type": "stream",
     "text": [
      "\n",
      "======================Model 2 using large dataset======================\n",
      "Eval rms is 9.799177169799805\n"
     ]
    }
   ],
   "source": [
    "model=MyModel2('outputs/tf_week2/model2')\n",
    "print('Train step:')\n",
    "model.fit(5)\n",
    "print('Evaluation step:')\n",
    "model.evaluate()"
   ]
  },
  {
   "cell_type": "code",
   "execution_count": 22,
   "metadata": {
    "collapsed": false
   },
   "outputs": [
    {
     "name": "stderr",
     "output_type": "stream",
     "text": [
      "INFO:tensorflow:Calling model_fn.\n",
      "INFO:tensorflow:Done calling model_fn.\n",
      "INFO:tensorflow:Graph was finalized.\n",
      "INFO:tensorflow:Restoring parameters from outputs/tf_week2/model2/model.ckpt-20631\n",
      "INFO:tensorflow:Running local_init_op.\n",
      "INFO:tensorflow:Done running local_init_op.\n"
     ]
    },
    {
     "name": "stdout",
     "output_type": "stream",
     "text": [
      "======================Model 2 using large dataset======================\n",
      "{'predictions': array([ 12.75143337], dtype=float32)}\n",
      "{'predictions': array([ 12.75020123], dtype=float32)}\n",
      "{'predictions': array([ 12.75318718], dtype=float32)}\n",
      "{'predictions': array([ 12.75337791], dtype=float32)}\n",
      "{'predictions': array([ 12.74979973], dtype=float32)}\n"
     ]
    }
   ],
   "source": [
    "gen=model.predict()\n",
    "for i in range(5):\n",
    "    print(next(gen))"
   ]
  },
  {
   "cell_type": "code",
   "execution_count": null,
   "metadata": {
    "collapsed": true
   },
   "outputs": [],
   "source": []
  }
 ],
 "metadata": {
  "kernelspec": {
   "display_name": "Python 3",
   "language": "python",
   "name": "python3"
  },
  "language_info": {
   "codemirror_mode": {
    "name": "ipython",
    "version": 3
   },
   "file_extension": ".py",
   "mimetype": "text/x-python",
   "name": "python",
   "nbconvert_exporter": "python",
   "pygments_lexer": "ipython3",
   "version": "3.5.2"
  }
 },
 "nbformat": 4,
 "nbformat_minor": 0
}
