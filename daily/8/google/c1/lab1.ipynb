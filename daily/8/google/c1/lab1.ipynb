{
 "cells": [
  {
   "cell_type": "markdown",
   "metadata": {},
   "source": [
    "## Introduction\n",
    "Duration is 1 min\n",
    "\n",
    "In this lab you spin up a virtual machine, install software on it, and use it to do scientific data processing. We do not recommend that you work with Compute Engine instances at such a low-level, but you can!\n",
    "\n",
    "In this lab, you will use Google Cloud Platform in a manner similar to the way you likely use clusters today. Spinning up a virtual machine and running your jobs on it is the closest you can get to working with the public cloud as simply rented infrastructure. It doesn't take advantage of the other benefits that Google Cloud Platform provides -- namely the ability to forget about infrastructure and work with your scientific computation problems simply as software that requires to be run.\n",
    "\n",
    "You will ingest real-time earthquake data published by the United States Geological Survey (USGS) and create maps that look like this:\n",
    "<img src='https://run-qwiklab-website-prod.s3.amazonaws.com/instructions/documents/61916/original/img/b3b64f0a8d7eedde.png' width=400 />"
   ]
  },
  {
   "cell_type": "markdown",
   "metadata": {},
   "source": [
    "### Create Compute Engine instance with the necessary API access\n",
    "Duration is 4 min\n",
    "\n",
    "To create a Compute Engine instance:\n",
    "\n",
    "Step 1\n",
    "Browse to https://cloud.google.com/\n",
    "\n",
    "Step 2\n",
    "Click on Console.\n",
    "\n",
    "Step 3\n",
    "Click on the Menu (three horizontal lines):\n",
    "<img src='https://run-qwiklab-website-prod.s3.amazonaws.com/instructions/documents/61916/original/img/aab385b15ea9c7f4.png' />\n",
    "\n",
    "Step 4\n",
    "Select Compute Engine.\n",
    "\n",
    "Step 5\n",
    "Click Create Instance and wait for a form to load. You will need to change some options on the form that comes up.\n",
    "\n",
    "Step 6\n",
    "Change Identify and API access for the Compute Engine default service account to Allow full access to all Cloud APIs:\n",
    "<img src='https://run-qwiklab-website-prod.s3.amazonaws.com/instructions/documents/61916/original/img/8ab244f9cffa6198.png' />\n",
    "Step 7\n",
    "Now, click Create"
   ]
  },
  {
   "cell_type": "markdown",
   "metadata": {},
   "source": [
    "### SSH into the instance\n",
    "Duration is 2 min\n",
    "\n",
    "You can remotely access your Compute Engine instance using Secure Shell (SSH):\n",
    "\n",
    "Step 1\n",
    "Click on SSH:\n",
    "<img src='https://run-qwiklab-website-prod.s3.amazonaws.com/instructions/documents/61916/original/img/e4d9f3244db5ba38.png' />\n",
    "\n",
    "\n",
    "Note\n",
    "\n",
    "SSH keys are automatically transferred, and that you can ssh directly from the browser, with no extra software needed.\n",
    "\n",
    "Step 2\n",
    "To find some information about the Compute Engine instance, type the following into the command-line:\n",
    "\n",
    "\n"
   ]
  },
  {
   "cell_type": "markdown",
   "metadata": {},
   "source": [
    "## Create bucket\n",
    "Duration is 2 min\n",
    "\n",
    "Create a bucket using the GCP console:\n",
    "\n",
    "Step 1\n",
    "Browse to the GCP Console by visiting http://cloud.google.com) and clicking on Go To Console\n",
    "\n",
    "Step 2\n",
    "Click on the Menu (3 bars) at the top-left and select Storage\n",
    "\n",
    "Step 3\n",
    "Click on Create Bucket.\n",
    "\n",
    "Step 4\n",
    "Choose a globally unique bucket name (your project name is unique, so you could use that). You can leave it as Multi-Regional, or improve speed and reduce costs by making it Regional . Then, click Create.\n",
    "\n",
    "Note: Please pick a region from the following: us-east1, us-central1, asia-east1, europe-west1. These are the regions that currently support Cloud ML Engine jobs. Please verify here since this list may have changed after this lab was last updated. For example, if you are in the US, you may choose us-east1 as your region.\n",
    "\n",
    "Step 5\n",
    "Note down the name of your bucket: _______________________________\n",
    "\n",
    "In this and future labs, you will insert this whenever the directions ask for <YOUR-BUCKET>.\n",
    "\n",
    "## Store data\n",
    "Duration is 1 min\n",
    "\n",
    "To store the original and transformed data in Cloud Storage\n",
    "\n",
    "Step 1\n",
    "In the SSH window of the Compute Engine instance, type:\n",
    "\n",
    "gsutil cp earthquakes.* gs://<YOUR-BUCKET>/earthquakes/\n",
    "to copy the files to Cloud Storage\n",
    "\n",
    "Step 2\n",
    "On the GCP console, click on your bucket name, and notice there are three new files present in the earthquakes folder."
   ]
  },
  {
   "cell_type": "markdown",
   "metadata": {},
   "source": [
    " ## My Experiment \n",
    " ### (1) using ssh client to connect VM\n",
    " * 1 ssh-keygen -t rsa -f ~/.ssh/my-ssh-key -C [USERNAME]\n",
    " * 2 find external Ip,and paste on clond secrete list\n",
    " * 3 ssh -i ~/.ssh/my-ssh-key [USERNAME]@[EXTERNAL_IP_ADDRESS]\n",
    " <a href='https://cloud.google.com/compute/docs/instances/connecting-to-instance#sshingcloud'>Help</a>\n",
    " \n",
    " \n",
    " \n",
    " ###  (2) using ML version API\n",
    " * 1.get credient file(json) from console API Panel\n",
    " * 2.configure Environment Variable:<br /> \n",
    "           export GOOGLE_APPLICATION_CREDENTIALS=~/gcloudstuff/apikey.json\n",
    " * 3.enable API(from console)\n",
    " * 4.install necessary package:<br />\n",
    "           sudo pip3 install google-cloud\n",
    "  \n",
    " * 5.write below code:"
   ]
  },
  {
   "cell_type": "code",
   "execution_count": null,
   "metadata": {
    "collapsed": false
   },
   "outputs": [],
   "source": [
    "import io\n",
    "from google.cloud import vision\n",
    "\n",
    "vision_client = vision.Client()\n",
    "file_name = '375px-Guido_van_Rossum_OSCON_2006_cropped.png'\n",
    "\n",
    "with io.open(file_name, 'rb') as image_file:\n",
    "    content = image_file.read()\n",
    "    image = vision_client.image(\n",
    "        content=content, )\n",
    "\n",
    "labels = image.detect_labels()\n",
    "for label in labels:\n",
    "    print(label.description)"
   ]
  },
  {
   "cell_type": "code",
   "execution_count": 3,
   "metadata": {
    "collapsed": true
   },
   "outputs": [],
   "source": [
    "from notebook.auth import passwd"
   ]
  },
  {
   "cell_type": "code",
   "execution_count": 4,
   "metadata": {
    "collapsed": false
   },
   "outputs": [
    {
     "name": "stdout",
     "output_type": "stream",
     "text": [
      "Enter password: ········\n",
      "Verify password: ········\n"
     ]
    },
    {
     "data": {
      "text/plain": [
       "'sha1:ac7ad642cea1:b3cc530a7344ce3560ca26ae30bdfd4ac2622c56'"
      ]
     },
     "execution_count": 4,
     "metadata": {},
     "output_type": "execute_result"
    }
   ],
   "source": []
  },
  {
   "cell_type": "code",
   "execution_count": null,
   "metadata": {
    "collapsed": true
   },
   "outputs": [],
   "source": []
  }
 ],
 "metadata": {
  "kernelspec": {
   "display_name": "Python 3",
   "language": "python",
   "name": "python3"
  },
  "language_info": {
   "codemirror_mode": {
    "name": "ipython",
    "version": 3
   },
   "file_extension": ".py",
   "mimetype": "text/x-python",
   "name": "python",
   "nbconvert_exporter": "python",
   "pygments_lexer": "ipython3",
   "version": "3.5.2"
  }
 },
 "nbformat": 4,
 "nbformat_minor": 0
}
