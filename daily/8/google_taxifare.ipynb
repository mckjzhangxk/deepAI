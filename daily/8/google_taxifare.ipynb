{
 "cells": [
  {
   "cell_type": "code",
   "execution_count": 105,
   "metadata": {
    "collapsed": false
   },
   "outputs": [],
   "source": [
    "import numpy as np\n",
    "import pandas as pd\n",
    "import matplotlib.pyplot as plt\n",
    "%matplotlib inline"
   ]
  },
  {
   "cell_type": "markdown",
   "metadata": {},
   "source": [
    "Explore Data,and using a native BenchMark to evaluation your performance"
   ]
  },
  {
   "cell_type": "code",
   "execution_count": 106,
   "metadata": {
    "collapsed": false
   },
   "outputs": [
    {
     "name": "stdout",
     "output_type": "stream",
     "text": [
      "(73245, 7)\n",
      "(17770, 7)\n"
     ]
    }
   ],
   "source": [
    "df_train=pd.read_csv('../AI_database/trips/taxi-train.csv')\n",
    "df_dev=pd.read_csv('../AI_database/trips/taxi-valid.csv')\n",
    "print(df_train.shape)\n",
    "print(df_dev.shape)"
   ]
  },
  {
   "cell_type": "code",
   "execution_count": 107,
   "metadata": {
    "collapsed": false
   },
   "outputs": [
    {
     "data": {
      "text/html": [
       "<div>\n",
       "<style scoped>\n",
       "    .dataframe tbody tr th:only-of-type {\n",
       "        vertical-align: middle;\n",
       "    }\n",
       "\n",
       "    .dataframe tbody tr th {\n",
       "        vertical-align: top;\n",
       "    }\n",
       "\n",
       "    .dataframe thead th {\n",
       "        text-align: right;\n",
       "    }\n",
       "</style>\n",
       "<table border=\"1\" class=\"dataframe\">\n",
       "  <thead>\n",
       "    <tr style=\"text-align: right;\">\n",
       "      <th></th>\n",
       "      <th>fare_amount</th>\n",
       "      <th>pickuplon</th>\n",
       "      <th>pickuplat</th>\n",
       "      <th>dropofflon</th>\n",
       "      <th>dropofflat</th>\n",
       "      <th>passengers</th>\n",
       "      <th>key</th>\n",
       "    </tr>\n",
       "  </thead>\n",
       "  <tbody>\n",
       "    <tr>\n",
       "      <th>0</th>\n",
       "      <td>2.5</td>\n",
       "      <td>-74.005559</td>\n",
       "      <td>40.740673</td>\n",
       "      <td>-73.956682</td>\n",
       "      <td>40.663655</td>\n",
       "      <td>2.0</td>\n",
       "      <td>0</td>\n",
       "    </tr>\n",
       "    <tr>\n",
       "      <th>1</th>\n",
       "      <td>2.5</td>\n",
       "      <td>-73.970619</td>\n",
       "      <td>40.764209</td>\n",
       "      <td>-73.965857</td>\n",
       "      <td>40.789753</td>\n",
       "      <td>2.0</td>\n",
       "      <td>1</td>\n",
       "    </tr>\n",
       "    <tr>\n",
       "      <th>2</th>\n",
       "      <td>2.5</td>\n",
       "      <td>-74.005465</td>\n",
       "      <td>40.740818</td>\n",
       "      <td>-73.973177</td>\n",
       "      <td>40.752603</td>\n",
       "      <td>2.0</td>\n",
       "      <td>2</td>\n",
       "    </tr>\n",
       "    <tr>\n",
       "      <th>3</th>\n",
       "      <td>2.5</td>\n",
       "      <td>-73.966332</td>\n",
       "      <td>40.758127</td>\n",
       "      <td>-73.966482</td>\n",
       "      <td>40.758080</td>\n",
       "      <td>2.0</td>\n",
       "      <td>3</td>\n",
       "    </tr>\n",
       "    <tr>\n",
       "      <th>4</th>\n",
       "      <td>2.5</td>\n",
       "      <td>-73.977088</td>\n",
       "      <td>40.774907</td>\n",
       "      <td>-73.977378</td>\n",
       "      <td>40.774440</td>\n",
       "      <td>2.0</td>\n",
       "      <td>4</td>\n",
       "    </tr>\n",
       "  </tbody>\n",
       "</table>\n",
       "</div>"
      ],
      "text/plain": [
       "   fare_amount  pickuplon  pickuplat  dropofflon  dropofflat  passengers  key\n",
       "0          2.5 -74.005559  40.740673  -73.956682   40.663655         2.0    0\n",
       "1          2.5 -73.970619  40.764209  -73.965857   40.789753         2.0    1\n",
       "2          2.5 -74.005465  40.740818  -73.973177   40.752603         2.0    2\n",
       "3          2.5 -73.966332  40.758127  -73.966482   40.758080         2.0    3\n",
       "4          2.5 -73.977088  40.774907  -73.977378   40.774440         2.0    4"
      ]
     },
     "execution_count": 107,
     "metadata": {},
     "output_type": "execute_result"
    }
   ],
   "source": [
    "df_train.head()"
   ]
  },
  {
   "cell_type": "code",
   "execution_count": 108,
   "metadata": {
    "collapsed": false
   },
   "outputs": [
    {
     "data": {
      "text/html": [
       "<div>\n",
       "<style scoped>\n",
       "    .dataframe tbody tr th:only-of-type {\n",
       "        vertical-align: middle;\n",
       "    }\n",
       "\n",
       "    .dataframe tbody tr th {\n",
       "        vertical-align: top;\n",
       "    }\n",
       "\n",
       "    .dataframe thead th {\n",
       "        text-align: right;\n",
       "    }\n",
       "</style>\n",
       "<table border=\"1\" class=\"dataframe\">\n",
       "  <thead>\n",
       "    <tr style=\"text-align: right;\">\n",
       "      <th></th>\n",
       "      <th>fare_amount</th>\n",
       "      <th>pickuplon</th>\n",
       "      <th>pickuplat</th>\n",
       "      <th>dropofflon</th>\n",
       "      <th>dropofflat</th>\n",
       "      <th>passengers</th>\n",
       "      <th>key</th>\n",
       "    </tr>\n",
       "  </thead>\n",
       "  <tbody>\n",
       "    <tr>\n",
       "      <th>count</th>\n",
       "      <td>73245.000000</td>\n",
       "      <td>73245.000000</td>\n",
       "      <td>73245.000000</td>\n",
       "      <td>73245.000000</td>\n",
       "      <td>73245.000000</td>\n",
       "      <td>73245.000000</td>\n",
       "      <td>73245.00000</td>\n",
       "    </tr>\n",
       "    <tr>\n",
       "      <th>mean</th>\n",
       "      <td>11.310057</td>\n",
       "      <td>-73.975451</td>\n",
       "      <td>40.751146</td>\n",
       "      <td>-73.974351</td>\n",
       "      <td>40.751509</td>\n",
       "      <td>1.681521</td>\n",
       "      <td>36622.00000</td>\n",
       "    </tr>\n",
       "    <tr>\n",
       "      <th>std</th>\n",
       "      <td>9.505616</td>\n",
       "      <td>0.039262</td>\n",
       "      <td>0.030448</td>\n",
       "      <td>0.039810</td>\n",
       "      <td>0.036656</td>\n",
       "      <td>1.303375</td>\n",
       "      <td>21144.15457</td>\n",
       "    </tr>\n",
       "    <tr>\n",
       "      <th>min</th>\n",
       "      <td>2.500000</td>\n",
       "      <td>-75.005102</td>\n",
       "      <td>39.712182</td>\n",
       "      <td>-75.013740</td>\n",
       "      <td>39.721755</td>\n",
       "      <td>1.000000</td>\n",
       "      <td>0.00000</td>\n",
       "    </tr>\n",
       "    <tr>\n",
       "      <th>25%</th>\n",
       "      <td>6.000000</td>\n",
       "      <td>-73.992412</td>\n",
       "      <td>40.736548</td>\n",
       "      <td>-73.991736</td>\n",
       "      <td>40.735476</td>\n",
       "      <td>1.000000</td>\n",
       "      <td>18311.00000</td>\n",
       "    </tr>\n",
       "    <tr>\n",
       "      <th>50%</th>\n",
       "      <td>8.500000</td>\n",
       "      <td>-73.982185</td>\n",
       "      <td>40.753208</td>\n",
       "      <td>-73.980718</td>\n",
       "      <td>40.753817</td>\n",
       "      <td>1.000000</td>\n",
       "      <td>36622.00000</td>\n",
       "    </tr>\n",
       "    <tr>\n",
       "      <th>75%</th>\n",
       "      <td>12.500000</td>\n",
       "      <td>-73.968846</td>\n",
       "      <td>40.767338</td>\n",
       "      <td>-73.965536</td>\n",
       "      <td>40.768372</td>\n",
       "      <td>2.000000</td>\n",
       "      <td>54933.00000</td>\n",
       "    </tr>\n",
       "    <tr>\n",
       "      <th>max</th>\n",
       "      <td>193.000000</td>\n",
       "      <td>-72.580006</td>\n",
       "      <td>41.804528</td>\n",
       "      <td>-72.527735</td>\n",
       "      <td>44.366667</td>\n",
       "      <td>6.000000</td>\n",
       "      <td>73244.00000</td>\n",
       "    </tr>\n",
       "  </tbody>\n",
       "</table>\n",
       "</div>"
      ],
      "text/plain": [
       "        fare_amount     pickuplon     pickuplat    dropofflon    dropofflat  \\\n",
       "count  73245.000000  73245.000000  73245.000000  73245.000000  73245.000000   \n",
       "mean      11.310057    -73.975451     40.751146    -73.974351     40.751509   \n",
       "std        9.505616      0.039262      0.030448      0.039810      0.036656   \n",
       "min        2.500000    -75.005102     39.712182    -75.013740     39.721755   \n",
       "25%        6.000000    -73.992412     40.736548    -73.991736     40.735476   \n",
       "50%        8.500000    -73.982185     40.753208    -73.980718     40.753817   \n",
       "75%       12.500000    -73.968846     40.767338    -73.965536     40.768372   \n",
       "max      193.000000    -72.580006     41.804528    -72.527735     44.366667   \n",
       "\n",
       "         passengers          key  \n",
       "count  73245.000000  73245.00000  \n",
       "mean       1.681521  36622.00000  \n",
       "std        1.303375  21144.15457  \n",
       "min        1.000000      0.00000  \n",
       "25%        1.000000  18311.00000  \n",
       "50%        1.000000  36622.00000  \n",
       "75%        2.000000  54933.00000  \n",
       "max        6.000000  73244.00000  "
      ]
     },
     "execution_count": 108,
     "metadata": {},
     "output_type": "execute_result"
    }
   ],
   "source": [
    "df_train.describe()"
   ]
  },
  {
   "cell_type": "code",
   "execution_count": 109,
   "metadata": {
    "collapsed": false
   },
   "outputs": [],
   "source": [
    "#defina a metrics, Root of mean square error\n",
    "def rmse(y,ypred):\n",
    "    return np.sqrt(np.mean((y-ypred)**2))\n",
    "def distance_between(lat1, lon1, lat2, lon2):\n",
    "# Haversine formula to compute distance \"as the crow flies\".  Taxis can't fly of course.\n",
    "    dist = np.degrees(np.arccos(np.sin(np.radians(lat1)) * np.sin(np.radians(lat2)) + np.cos(np.radians(lat1)) * np.cos(np.radians(lat2)) * \n",
    "                              np.cos(np.radians(lon2 - lon1)))) * 60 * 1.515 * 1.609344\n",
    "    return dist\n",
    "def estimate_distance(df):\n",
    "    return distance_between(df['pickuplat'], df['pickuplon'], df['dropofflat'], df['dropofflon'])"
   ]
  },
  {
   "cell_type": "code",
   "execution_count": 139,
   "metadata": {
    "collapsed": false
   },
   "outputs": [
    {
     "name": "stderr",
     "output_type": "stream",
     "text": [
      "/usr/local/lib/python3.5/dist-packages/ipykernel/__main__.py:7: RuntimeWarning: invalid value encountered in arccos\n"
     ]
    },
    {
     "data": {
      "text/html": [
       "<div>\n",
       "<style scoped>\n",
       "    .dataframe tbody tr th:only-of-type {\n",
       "        vertical-align: middle;\n",
       "    }\n",
       "\n",
       "    .dataframe tbody tr th {\n",
       "        vertical-align: top;\n",
       "    }\n",
       "\n",
       "    .dataframe thead th {\n",
       "        text-align: right;\n",
       "    }\n",
       "</style>\n",
       "<table border=\"1\" class=\"dataframe\">\n",
       "  <thead>\n",
       "    <tr style=\"text-align: right;\">\n",
       "      <th></th>\n",
       "      <th>fare_amount</th>\n",
       "      <th>pickuplon</th>\n",
       "      <th>pickuplat</th>\n",
       "      <th>dropofflon</th>\n",
       "      <th>dropofflat</th>\n",
       "      <th>passengers</th>\n",
       "      <th>key</th>\n",
       "      <th>estimate_distance</th>\n",
       "    </tr>\n",
       "  </thead>\n",
       "  <tbody>\n",
       "    <tr>\n",
       "      <th>count</th>\n",
       "      <td>72640.000000</td>\n",
       "      <td>72640.000000</td>\n",
       "      <td>72640.000000</td>\n",
       "      <td>72640.000000</td>\n",
       "      <td>72640.000000</td>\n",
       "      <td>72640.000000</td>\n",
       "      <td>72640.000000</td>\n",
       "      <td>72640.000000</td>\n",
       "    </tr>\n",
       "    <tr>\n",
       "      <th>mean</th>\n",
       "      <td>11.325780</td>\n",
       "      <td>-73.975770</td>\n",
       "      <td>40.750975</td>\n",
       "      <td>-73.974661</td>\n",
       "      <td>40.751341</td>\n",
       "      <td>1.681980</td>\n",
       "      <td>36610.748224</td>\n",
       "      <td>4.473279</td>\n",
       "    </tr>\n",
       "    <tr>\n",
       "      <th>std</th>\n",
       "      <td>9.511904</td>\n",
       "      <td>0.036338</td>\n",
       "      <td>0.028370</td>\n",
       "      <td>0.036944</td>\n",
       "      <td>0.035001</td>\n",
       "      <td>1.303799</td>\n",
       "      <td>21134.117974</td>\n",
       "      <td>5.396353</td>\n",
       "    </tr>\n",
       "    <tr>\n",
       "      <th>min</th>\n",
       "      <td>2.500000</td>\n",
       "      <td>-75.005102</td>\n",
       "      <td>39.712182</td>\n",
       "      <td>-75.013740</td>\n",
       "      <td>39.721755</td>\n",
       "      <td>1.000000</td>\n",
       "      <td>0.000000</td>\n",
       "      <td>0.000125</td>\n",
       "    </tr>\n",
       "    <tr>\n",
       "      <th>25%</th>\n",
       "      <td>6.000000</td>\n",
       "      <td>-73.992418</td>\n",
       "      <td>40.736565</td>\n",
       "      <td>-73.991738</td>\n",
       "      <td>40.735516</td>\n",
       "      <td>1.000000</td>\n",
       "      <td>18303.750000</td>\n",
       "      <td>1.693090</td>\n",
       "    </tr>\n",
       "    <tr>\n",
       "      <th>50%</th>\n",
       "      <td>8.500000</td>\n",
       "      <td>-73.982205</td>\n",
       "      <td>40.753227</td>\n",
       "      <td>-73.980745</td>\n",
       "      <td>40.753841</td>\n",
       "      <td>1.000000</td>\n",
       "      <td>36618.500000</td>\n",
       "      <td>2.881222</td>\n",
       "    </tr>\n",
       "    <tr>\n",
       "      <th>75%</th>\n",
       "      <td>12.500000</td>\n",
       "      <td>-73.968933</td>\n",
       "      <td>40.767332</td>\n",
       "      <td>-73.965644</td>\n",
       "      <td>40.768369</td>\n",
       "      <td>2.000000</td>\n",
       "      <td>54891.250000</td>\n",
       "      <td>5.238154</td>\n",
       "    </tr>\n",
       "    <tr>\n",
       "      <th>max</th>\n",
       "      <td>193.000000</td>\n",
       "      <td>-72.580006</td>\n",
       "      <td>41.804528</td>\n",
       "      <td>-72.527735</td>\n",
       "      <td>44.366667</td>\n",
       "      <td>6.000000</td>\n",
       "      <td>73244.000000</td>\n",
       "      <td>525.505110</td>\n",
       "    </tr>\n",
       "  </tbody>\n",
       "</table>\n",
       "</div>"
      ],
      "text/plain": [
       "        fare_amount     pickuplon     pickuplat    dropofflon    dropofflat  \\\n",
       "count  72640.000000  72640.000000  72640.000000  72640.000000  72640.000000   \n",
       "mean      11.325780    -73.975770     40.750975    -73.974661     40.751341   \n",
       "std        9.511904      0.036338      0.028370      0.036944      0.035001   \n",
       "min        2.500000    -75.005102     39.712182    -75.013740     39.721755   \n",
       "25%        6.000000    -73.992418     40.736565    -73.991738     40.735516   \n",
       "50%        8.500000    -73.982205     40.753227    -73.980745     40.753841   \n",
       "75%       12.500000    -73.968933     40.767332    -73.965644     40.768369   \n",
       "max      193.000000    -72.580006     41.804528    -72.527735     44.366667   \n",
       "\n",
       "         passengers           key  estimate_distance  \n",
       "count  72640.000000  72640.000000       72640.000000  \n",
       "mean       1.681980  36610.748224           4.473279  \n",
       "std        1.303799  21134.117974           5.396353  \n",
       "min        1.000000      0.000000           0.000125  \n",
       "25%        1.000000  18303.750000           1.693090  \n",
       "50%        1.000000  36618.500000           2.881222  \n",
       "75%        2.000000  54891.250000           5.238154  \n",
       "max        6.000000  73244.000000         525.505110  "
      ]
     },
     "execution_count": 139,
     "metadata": {},
     "output_type": "execute_result"
    }
   ],
   "source": [
    "df_train['estimate_distance']=estimate_distance(df_train)\n",
    "df_dev['estimate_distance']=estimate_distance(df_dev)\n",
    "df_train.describe()"
   ]
  },
  {
   "cell_type": "code",
   "execution_count": 140,
   "metadata": {
    "collapsed": false
   },
   "outputs": [],
   "source": [
    "df_train=df_train[df_train['estimate_distance']>0]\n",
    "df_dev=df_dev[df_dev['estimate_distance']>0]"
   ]
  },
  {
   "cell_type": "markdown",
   "metadata": {},
   "source": [
    "## compute native benchmark"
   ]
  },
  {
   "cell_type": "code",
   "execution_count": 170,
   "metadata": {
    "collapsed": false
   },
   "outputs": [
    {
     "ename": "ValueError",
     "evalue": "Cannot take a larger sample than population when 'replace=False'",
     "output_type": "error",
     "traceback": [
      "\u001b[1;31m---------------------------------------------------------------------------\u001b[0m",
      "\u001b[1;31mValueError\u001b[0m                                Traceback (most recent call last)",
      "\u001b[1;32m<ipython-input-170-d8b8efd65084>\u001b[0m in \u001b[0;36m<module>\u001b[1;34m()\u001b[0m\n\u001b[1;32m----> 1\u001b[1;33m \u001b[0mdf_train\u001b[0m\u001b[1;33m=\u001b[0m\u001b[0mdf_train\u001b[0m\u001b[1;33m.\u001b[0m\u001b[0msample\u001b[0m\u001b[1;33m(\u001b[0m\u001b[0mn\u001b[0m\u001b[1;33m=\u001b[0m\u001b[1;36m100\u001b[0m\u001b[1;33m,\u001b[0m\u001b[0mrandom_state\u001b[0m\u001b[1;33m=\u001b[0m\u001b[1;36m12\u001b[0m\u001b[1;33m)\u001b[0m\u001b[1;33m\u001b[0m\u001b[0m\n\u001b[0m\u001b[0;32m      2\u001b[0m \u001b[0malpha1\u001b[0m\u001b[1;33m=\u001b[0m\u001b[0mdf_train\u001b[0m\u001b[1;33m[\u001b[0m\u001b[1;34m'fare_amount'\u001b[0m\u001b[1;33m]\u001b[0m\u001b[1;33m.\u001b[0m\u001b[0mmean\u001b[0m\u001b[1;33m(\u001b[0m\u001b[1;33m)\u001b[0m\u001b[1;33m/\u001b[0m\u001b[0mdf_train\u001b[0m\u001b[1;33m[\u001b[0m\u001b[1;34m'estimate_distance'\u001b[0m\u001b[1;33m]\u001b[0m\u001b[1;33m.\u001b[0m\u001b[0mmean\u001b[0m\u001b[1;33m(\u001b[0m\u001b[1;33m)\u001b[0m\u001b[1;33m\u001b[0m\u001b[0m\n\u001b[0;32m      3\u001b[0m \u001b[0malpha2\u001b[0m\u001b[1;33m=\u001b[0m\u001b[1;33m(\u001b[0m\u001b[0mdf_train\u001b[0m\u001b[1;33m[\u001b[0m\u001b[1;34m'fare_amount'\u001b[0m\u001b[1;33m]\u001b[0m\u001b[1;33m/\u001b[0m\u001b[0mdf_train\u001b[0m\u001b[1;33m[\u001b[0m\u001b[1;34m'estimate_distance'\u001b[0m\u001b[1;33m]\u001b[0m\u001b[1;33m)\u001b[0m\u001b[1;33m.\u001b[0m\u001b[0mmean\u001b[0m\u001b[1;33m(\u001b[0m\u001b[1;33m)\u001b[0m\u001b[1;33m\u001b[0m\u001b[0m\n\u001b[0;32m      4\u001b[0m \u001b[0malpha3\u001b[0m\u001b[1;33m=\u001b[0m\u001b[1;33m(\u001b[0m\u001b[0mdf_train\u001b[0m\u001b[1;33m[\u001b[0m\u001b[1;34m'fare_amount'\u001b[0m\u001b[1;33m]\u001b[0m\u001b[1;33m*\u001b[0m\u001b[0mdf_train\u001b[0m\u001b[1;33m[\u001b[0m\u001b[1;34m'estimate_distance'\u001b[0m\u001b[1;33m]\u001b[0m\u001b[1;33m)\u001b[0m\u001b[1;33m.\u001b[0m\u001b[0msum\u001b[0m\u001b[1;33m(\u001b[0m\u001b[1;33m)\u001b[0m\u001b[1;33m/\u001b[0m\u001b[1;33m(\u001b[0m\u001b[0mdf_train\u001b[0m\u001b[1;33m[\u001b[0m\u001b[1;34m'estimate_distance'\u001b[0m\u001b[1;33m]\u001b[0m\u001b[1;33m**\u001b[0m\u001b[1;36m2\u001b[0m\u001b[1;33m)\u001b[0m\u001b[1;33m.\u001b[0m\u001b[0msum\u001b[0m\u001b[1;33m(\u001b[0m\u001b[1;33m)\u001b[0m\u001b[1;33m\u001b[0m\u001b[0m\n",
      "\u001b[1;32m/usr/local/lib/python3.5/dist-packages/pandas/core/generic.py\u001b[0m in \u001b[0;36msample\u001b[1;34m(self, n, frac, replace, weights, random_state, axis)\u001b[0m\n\u001b[0;32m   4199\u001b[0m                              \"provide positive value.\")\n\u001b[0;32m   4200\u001b[0m \u001b[1;33m\u001b[0m\u001b[0m\n\u001b[1;32m-> 4201\u001b[1;33m         \u001b[0mlocs\u001b[0m \u001b[1;33m=\u001b[0m \u001b[0mrs\u001b[0m\u001b[1;33m.\u001b[0m\u001b[0mchoice\u001b[0m\u001b[1;33m(\u001b[0m\u001b[0maxis_length\u001b[0m\u001b[1;33m,\u001b[0m \u001b[0msize\u001b[0m\u001b[1;33m=\u001b[0m\u001b[0mn\u001b[0m\u001b[1;33m,\u001b[0m \u001b[0mreplace\u001b[0m\u001b[1;33m=\u001b[0m\u001b[0mreplace\u001b[0m\u001b[1;33m,\u001b[0m \u001b[0mp\u001b[0m\u001b[1;33m=\u001b[0m\u001b[0mweights\u001b[0m\u001b[1;33m)\u001b[0m\u001b[1;33m\u001b[0m\u001b[0m\n\u001b[0m\u001b[0;32m   4202\u001b[0m         \u001b[1;32mreturn\u001b[0m \u001b[0mself\u001b[0m\u001b[1;33m.\u001b[0m\u001b[0mtake\u001b[0m\u001b[1;33m(\u001b[0m\u001b[0mlocs\u001b[0m\u001b[1;33m,\u001b[0m \u001b[0maxis\u001b[0m\u001b[1;33m=\u001b[0m\u001b[0maxis\u001b[0m\u001b[1;33m,\u001b[0m \u001b[0mis_copy\u001b[0m\u001b[1;33m=\u001b[0m\u001b[1;32mFalse\u001b[0m\u001b[1;33m)\u001b[0m\u001b[1;33m\u001b[0m\u001b[0m\n\u001b[0;32m   4203\u001b[0m \u001b[1;33m\u001b[0m\u001b[0m\n",
      "\u001b[1;32mmtrand.pyx\u001b[0m in \u001b[0;36mmtrand.RandomState.choice (numpy/random/mtrand/mtrand.c:12037)\u001b[1;34m()\u001b[0m\n",
      "\u001b[1;31mValueError\u001b[0m: Cannot take a larger sample than population when 'replace=False'"
     ]
    }
   ],
   "source": [
    "df_train=df_train.sample(n=100,random_state=12)\n",
    "alpha1=df_train['fare_amount'].mean()/df_train['estimate_distance'].mean()\n",
    "alpha2=(df_train['fare_amount']/df_train['estimate_distance']).mean()\n",
    "alpha3=(df_train['fare_amount']*df_train['estimate_distance']).sum()/(df_train['estimate_distance']**2).sum()"
   ]
  },
  {
   "cell_type": "code",
   "execution_count": 168,
   "metadata": {
    "collapsed": false
   },
   "outputs": [
    {
     "data": {
      "text/plain": [
       "count    10.000000\n",
       "mean      5.111126\n",
       "std       7.859912\n",
       "min       1.418725\n",
       "25%       2.201965\n",
       "50%       2.878478\n",
       "75%       3.237352\n",
       "max      27.390016\n",
       "dtype: float64"
      ]
     },
     "execution_count": 168,
     "metadata": {},
     "output_type": "execute_result"
    }
   ],
   "source": [
    "(df_train['fare_amount']/df_train['estimate_distance']).describe()"
   ]
  },
  {
   "cell_type": "code",
   "execution_count": 156,
   "metadata": {
    "collapsed": false
   },
   "outputs": [
    {
     "data": {
      "text/plain": [
       "<matplotlib.legend.Legend at 0x7f995c3539e8>"
      ]
     },
     "execution_count": 156,
     "metadata": {},
     "output_type": "execute_result"
    },
    {
     "data": {
      "image/png": "[encoded data removed]",
      "text/plain": [
       "<matplotlib.figure.Figure at 0x7f995c37b748>"
      ]
     },
     "metadata": {},
     "output_type": "display_data"
    }
   ],
   "source": [
    "samples=df_train.sample(n=1000,random_state=0)\n",
    "x=samples['estimate_distance']\n",
    "y=samples['fare_amount']\n",
    "plt.scatter(x,y)\n",
    "plt.scatter(x,alpha1*x)\n",
    "plt.scatter(x,alpha2*x)\n",
    "plt.scatter(x,alpha3*x)\n",
    "# df_train.plot(x='estimate_distance',y='fare_amount',kind='scatter')\n",
    "plt.legend(['samples','native','ptrue','Linear Reg'])"
   ]
  },
  {
   "cell_type": "markdown",
   "metadata": {},
   "source": [
    "## Evaluation On Validation Set"
   ]
  },
  {
   "cell_type": "code",
   "execution_count": 142,
   "metadata": {
    "collapsed": false
   },
   "outputs": [
    {
     "name": "stdout",
     "output_type": "stream",
     "text": [
      "native rmse: 5.845089392542354\n",
      "ptrue rmse: 651.5051302269496\n",
      "Ls rmse: 5.4704348775066345\n"
     ]
    }
   ],
   "source": [
    "error1=rmse(df_dev['fare_amount'],df_dev['estimate_distance']*alpha1)\n",
    "error2=rmse(df_dev['fare_amount'],df_dev['estimate_distance']*alpha2)\n",
    "error3=rmse(df_dev['fare_amount'],df_dev['estimate_distance']*alpha3)\n",
    "print('native rmse: {}'.format(error1))\n",
    "print('ptrue rmse: {}'.format(error2))\n",
    "print('Ls rmse: {}'.format(error3))"
   ]
  },
  {
   "cell_type": "code",
   "execution_count": null,
   "metadata": {
    "collapsed": true
   },
   "outputs": [],
   "source": []
  }
 ],
 "metadata": {
  "kernelspec": {
   "display_name": "Python 3",
   "language": "python",
   "name": "python3"
  },
  "language_info": {
   "codemirror_mode": {
    "name": "ipython",
    "version": 3
   },
   "file_extension": ".py",
   "mimetype": "text/x-python",
   "name": "python",
   "nbconvert_exporter": "python",
   "pygments_lexer": "ipython3",
   "version": "3.5.2"
  }
 },
 "nbformat": 4,
 "nbformat_minor": 0
}
