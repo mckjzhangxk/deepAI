{
 "cells": [
  {
   "cell_type": "code",
   "execution_count": 1,
   "metadata": {
    "collapsed": true
   },
   "outputs": [],
   "source": [
    "import numpy as np\n",
    "import torch\n",
    "import torch.nn as nn\n",
    "import torch.nn.functional as F\n",
    "import torch.optim as optim"
   ]
  },
  {
   "cell_type": "code",
   "execution_count": 2,
   "metadata": {
    "collapsed": false
   },
   "outputs": [],
   "source": [
    "class Net(nn.Module):\n",
    "    def __init__(self):\n",
    "        super().__init__()\n",
    "        self.conv1=nn.Conv2d(1,6,5)\n",
    "        self.conv2=nn.Conv2d(6,20,3)\n",
    "        self.fc1=nn.Linear(20*5*5,104)\n",
    "        self.fc2=nn.Linear(104,32)\n",
    "        self.fc3=nn.Linear(32,10)\n",
    "    def forward(self, X):\n",
    "        X=self.conv1(X)\n",
    "        X=F.relu(X)\n",
    "        X=F.max_pool2d(X,(2,2),2)\n",
    "\n",
    "        X=self.conv2(X)\n",
    "        X=F.relu(X)\n",
    "        X=F.max_pool2d(X,(2,2),2)\n",
    "        X=X.view(-1,np.prod(X.size()[1:]))\n",
    "        X=self.fc1(X)\n",
    "        X=self.fc2(X)\n",
    "        X=self.fc3(X)\n",
    "        return X\n",
    "    def loss(self,yhat,Y):\n",
    "        m=nn.LogSoftmax(1)\n",
    "        ce=nn.NLLLoss()\n",
    "        COST=ce(m(yhat),Y)\n",
    "        return COST"
   ]
  },
  {
   "cell_type": "code",
   "execution_count": null,
   "metadata": {
    "collapsed": false
   },
   "outputs": [],
   "source": [
    "net=Net()\n",
    "params=list(net.parameters())\n",
    "N=8\n",
    "xs=np.random.rand(N,1,28,28).astype(np.float32)\n",
    "ys=np.random.randint(0,2,N)\n",
    "\n",
    "optimizer=optim.Adam(net.parameters(),1e-3)\n",
    "for i in range(1000):\n",
    "    X=torch.from_numpy(xs)\n",
    "    Y=torch.from_numpy(ys)\n",
    "#     X=torch.rand(N,1,28,28)\n",
    "#     Y=torch.randint(0,2,(N,))\n",
    "    yhat=net.forward(X)\n",
    "    COST=net.loss(yhat,Y)\n",
    "\n",
    "    print(COST)\n",
    "    COST.backward()\n",
    "    optimizer.step()\n",
    "    optimizer.zero_grad()\n"
   ]
  },
  {
   "cell_type": "code",
   "execution_count": null,
   "metadata": {
    "collapsed": true
   },
   "outputs": [],
   "source": []
  }
 ],
 "metadata": {
  "kernelspec": {
   "display_name": "Python 3",
   "language": "python",
   "name": "python3"
  },
  "language_info": {
   "codemirror_mode": {
    "name": "ipython",
    "version": 3
   },
   "file_extension": ".py",
   "mimetype": "text/x-python",
   "name": "python",
   "nbconvert_exporter": "python",
   "pygments_lexer": "ipython3",
   "version": "3.5.2"
  }
 },
 "nbformat": 4,
 "nbformat_minor": 0
}
