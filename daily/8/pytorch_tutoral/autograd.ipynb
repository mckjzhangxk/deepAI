{
 "cells": [
  {
   "cell_type": "code",
   "execution_count": 1,
   "metadata": {
    "collapsed": true
   },
   "outputs": [],
   "source": [
    "import numpy as np\n",
    "import torch"
   ]
  },
  {
   "cell_type": "markdown",
   "metadata": {},
   "source": [
    "## more about tensor"
   ]
  },
  {
   "cell_type": "code",
   "execution_count": 26,
   "metadata": {
    "collapsed": false
   },
   "outputs": [
    {
     "name": "stdout",
     "output_type": "stream",
     "text": [
      "tensor([[5.9778, 4.3964, 2.7921],\n",
      "        [0.9371, 3.1909, 3.9492],\n",
      "        [1.4180, 5.1711, 4.9819],\n",
      "        [5.5627, 5.2827, 3.7189],\n",
      "        [0.2117, 0.2405, 3.7115]])\n",
      "tensor([[0.3000, 0.3000, 0.3000],\n",
      "        [0.3000, 0.3000, 0.3000],\n",
      "        [0.3000, 0.3000, 0.3000],\n",
      "        [0.3000, 0.3000, 0.3000],\n",
      "        [0.2117, 0.2405, 0.3000]])\n",
      "tensor([[5.9778, 4.3964, 2.7921],\n",
      "        [0.9371, 3.1909, 3.9492],\n",
      "        [1.4180, 5.1711, 4.9819],\n",
      "        [5.5627, 5.2827, 3.7189],\n",
      "        [0.2117, 0.2405, 3.7115]])\n",
      "tensor([[5, 4, 2],\n",
      "        [0, 3, 3],\n",
      "        [1, 5, 4],\n",
      "        [5, 5, 3],\n",
      "        [0, 0, 3]])\n",
      "5 3 2\n",
      "tensor([[5.9778]])\n",
      "tensor([[4.3964, 2.7921],\n",
      "        [3.1909, 3.9492],\n",
      "        [5.1711, 4.9819],\n",
      "        [5.2827, 3.7189],\n",
      "        [0.2405, 3.7115]])\n"
     ]
    }
   ],
   "source": [
    "#show clap,float,long,narrow,ndimension\n",
    "X=torch.rand((5,3))*6\n",
    "print(X.data)\n",
    "print(X.clamp(min=0.2,max=0.3))\n",
    "print(X.float())\n",
    "print(X.long()) #floor operation\n",
    "print(X.size(0),X.size(1),X.ndimension())\n",
    "print(X[0:1,0:1])\n",
    "print(X.narrow(1,1,2))"
   ]
  },
  {
   "cell_type": "code",
   "execution_count": 35,
   "metadata": {
    "collapsed": false
   },
   "outputs": [
    {
     "name": "stdout",
     "output_type": "stream",
     "text": [
      "torch.Size([10, 4])\n",
      "torch.Size([10, 6])\n",
      "torch.Size([10, 2, 3])\n"
     ]
    }
   ],
   "source": [
    "##math operation!!\n",
    "X=torch.rand(10,3)\n",
    "Y=torch.rand(3,4)\n",
    "print(torch.matmul(X,Y).size())#or mm for short\n",
    "Z=torch.rand(10,3)\n",
    "cat=torch.cat((X,Z),dim=1)\n",
    "print(cat.size())\n",
    "stack=torch.stack([X,Z],dim=1)\n",
    "print(stack.size())"
   ]
  },
  {
   "cell_type": "code",
   "execution_count": 42,
   "metadata": {
    "collapsed": false
   },
   "outputs": [
    {
     "name": "stdout",
     "output_type": "stream",
     "text": [
      "tensor([1.0000, 0.2387, 0.4896])\n",
      "tensor([0.0865, 0.2387, 0.4896])\n",
      "torch.int32\n",
      "False\n"
     ]
    }
   ],
   "source": [
    "#clone\n",
    "X=torch.rand(3)\n",
    "Y=X.data.clone()\n",
    "X[0]=1\n",
    "print(X)\n",
    "print(Y)\n",
    "print(X.new().int().dtype)\n",
    "print(X.requires_grad)"
   ]
  },
  {
   "cell_type": "code",
   "execution_count": 43,
   "metadata": {
    "collapsed": true
   },
   "outputs": [],
   "source": [
    "X=torch.ones((3,2),requires_grad=True) #要设置参数才有倒数\n",
    "Y=torch.sum(X,dim=1)\n",
    "Z=torch.sum(Y)"
   ]
  },
  {
   "cell_type": "code",
   "execution_count": 46,
   "metadata": {
    "collapsed": false
   },
   "outputs": [],
   "source": [
    "Z.backward()"
   ]
  },
  {
   "cell_type": "code",
   "execution_count": 51,
   "metadata": {
    "collapsed": false
   },
   "outputs": [
    {
     "data": {
      "text/plain": [
       "tensor([[2., 2.],\n",
       "        [2., 2.],\n",
       "        [2., 2.]])"
      ]
     },
     "execution_count": 51,
     "metadata": {},
     "output_type": "execute_result"
    }
   ],
   "source": [
    "X.grad"
   ]
  },
  {
   "cell_type": "code",
   "execution_count": 33,
   "metadata": {
    "collapsed": false
   },
   "outputs": [
    {
     "name": "stdout",
     "output_type": "stream",
     "text": [
      "False\n",
      "False\n"
     ]
    }
   ],
   "source": [
    "x = torch.randn(3, requires_grad=True)\n",
    "with torch.no_grad():\n",
    "    y = x * 2\n",
    "print(y.requires_grad)\n",
    "while y.data.norm() < 1000:\n",
    "    y = y * 2\n",
    "\n",
    "print(y.requires_grad)"
   ]
  },
  {
   "cell_type": "code",
   "execution_count": 30,
   "metadata": {
    "collapsed": false
   },
   "outputs": [
    {
     "data": {
      "text/plain": [
       "tensor(720.4920, grad_fn=<NormBackward0>)"
      ]
     },
     "execution_count": 30,
     "metadata": {},
     "output_type": "execute_result"
    }
   ],
   "source": [
    "torch.norm(y/2)"
   ]
  },
  {
   "cell_type": "code",
   "execution_count": 70,
   "metadata": {
    "collapsed": false
   },
   "outputs": [
    {
     "name": "stdout",
     "output_type": "stream",
     "text": [
      "tensor([[0.6672, 0.4121, 0.8875],\n",
      "        [0.4778, 0.2725, 0.7174],\n",
      "        [0.7872, 0.7957, 0.1605]], grad_fn=<SliceBackward>)\n",
      "tensor([[0.0000, 0.0000, 0.0000, 0.0000, 0.0000],\n",
      "        [0.0000, 0.6672, 0.4121, 0.8875, 0.0000],\n",
      "        [0.0000, 0.4778, 0.2725, 0.7174, 0.0000],\n",
      "        [0.0000, 0.7872, 0.7957, 0.1605, 0.0000],\n",
      "        [0.0000, 0.0000, 0.0000, 0.0000, 0.0000]])\n"
     ]
    }
   ],
   "source": [
    "#do a complex example:\n",
    "def roi():\n",
    "    X=torch.rand(5,5,requires_grad=True)\n",
    "    Y=X[1:4,1:4]\n",
    "    print(Y)\n",
    "    Y.backward(Y)\n",
    "#     Z=torch.sum(Y)\n",
    "#     Z.backward(gradient=torch.Tensor([99]))\n",
    "    print(X.grad)\n",
    "roi()"
   ]
  },
  {
   "cell_type": "code",
   "execution_count": null,
   "metadata": {
    "collapsed": true
   },
   "outputs": [],
   "source": []
  }
 ],
 "metadata": {
  "kernelspec": {
   "display_name": "Python 3",
   "language": "python",
   "name": "python3"
  },
  "language_info": {
   "codemirror_mode": {
    "name": "ipython",
    "version": 3
   },
   "file_extension": ".py",
   "mimetype": "text/x-python",
   "name": "python",
   "nbconvert_exporter": "python",
   "pygments_lexer": "ipython3",
   "version": "3.5.2"
  }
 },
 "nbformat": 4,
 "nbformat_minor": 0
}
