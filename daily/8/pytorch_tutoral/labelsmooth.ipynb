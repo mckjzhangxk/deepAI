{
 "cells": [
  {
   "cell_type": "code",
   "execution_count": 2,
   "metadata": {
    "collapsed": true
   },
   "outputs": [],
   "source": [
    "import torch\n",
    "import torch.nn as nn"
   ]
  },
  {
   "cell_type": "code",
   "execution_count": 44,
   "metadata": {
    "collapsed": false
   },
   "outputs": [
    {
     "name": "stdout",
     "output_type": "stream",
     "text": [
      "tensor([[2]])\n",
      "tensor(2)\n",
      "tensor([[0.0000, 0.1333, 0.6000, 0.1333, 0.1333],\n",
      "        [0.0000, 0.6000, 0.1333, 0.1333, 0.1333],\n",
      "        [0.0000, 0.0000, 0.0000, 0.0000, 0.0000]])\n"
     ]
    },
    {
     "name": "stderr",
     "output_type": "stream",
     "text": [
      "/usr/local/lib/python3.5/dist-packages/torch/nn/_reduction.py:49: UserWarning: size_average and reduce args will be deprecated, please use reduction='sum' instead.\n",
      "  warnings.warn(warning.format(ret))\n"
     ]
    }
   ],
   "source": [
    "class LabelSmothing(nn.Module):\n",
    "    def __init__(self,size,padding_idx,smoothing=0.0):\n",
    "        super().__init__()\n",
    "        \n",
    "        self.crterion=nn.KLDivLoss(size_average=False)\n",
    "        self.padding_idx=padding_idx\n",
    "        self.size=size\n",
    "        self.confidence=1-smoothing\n",
    "        self.smoothing=smoothing\n",
    "        self.true_dict=None\n",
    "    def forward(self,x,target):\n",
    "        true_dist=x.data.clone()\n",
    "        true_dist.fill_(self.smoothing/(self.size-2))\n",
    "        true_dist.scatter_(1,target.unsqueeze(1),self.confidence)\n",
    "        true_dist[:,self.padding_idx]=0\n",
    "        mask=torch.nonzero(target.data==self.padding_idx)\n",
    "        print(mask)\n",
    "        if mask.dim()>0:\n",
    "            print(mask.squeeze())\n",
    "            true_dist.index_fill_(0,mask.squeeze(),0.0)\n",
    "        print(true_dist)\n",
    "predict=torch.FloatTensor([[0,0.2,0.7,0.1,0],\n",
    "                           [0,0.2,0.7,0.1,0],\n",
    "                           [0,0.2,0.7,0.1,0]])\n",
    "tgt=torch.LongTensor([2,1,0])\n",
    "crit=LabelSmothing(5,0,0.4)\n",
    "crit(predict.log(),tgt)"
   ]
  },
  {
   "cell_type": "markdown",
   "metadata": {},
   "source": [
    "## show me how kl_div work"
   ]
  },
  {
   "cell_type": "code",
   "execution_count": 60,
   "metadata": {
    "collapsed": false
   },
   "outputs": [
    {
     "name": "stdout",
     "output_type": "stream",
     "text": [
      "tensor(1.8761)\n"
     ]
    },
    {
     "data": {
      "text/plain": [
       "tensor(1.8811)"
      ]
     },
     "execution_count": 60,
     "metadata": {},
     "output_type": "execute_result"
    }
   ],
   "source": [
    "predict=torch.FloatTensor([[0,0.2,0.7,0.1,0],\n",
    "                           [0,0.2,0.7,0.1,0],\n",
    "                           [0,0.2,0.7,0.1,0]])\n",
    "tgt=torch.FloatTensor([[0,0.2,0.5,0.3,0],\n",
    "                           [0,0.6,0.2,0.2,0],\n",
    "                           [0,0.2,0.1,0.7,0]])\n",
    "# tgt=predict\n",
    "kl=nn.KLDivLoss(reduction='sum')\n",
    "loss=kl(predict.log(),tgt)\n",
    "print(loss)\n",
    "\n",
    "\n",
    "pp=1e-9+predict\n",
    "qq=1e-12+tgt\n",
    "torch.sum(pp*(pp/qq).log())"
   ]
  },
  {
   "cell_type": "code",
   "execution_count": 67,
   "metadata": {
    "collapsed": false
   },
   "outputs": [
    {
     "data": {
      "text/plain": [
       "{'xx': 1}"
      ]
     },
     "execution_count": 67,
     "metadata": {},
     "output_type": "execute_result"
    }
   ],
   "source": [
    "class A:pass\n",
    "c=A()\n",
    "c.xx=1\n",
    "vars(c)"
   ]
  },
  {
   "cell_type": "code",
   "execution_count": null,
   "metadata": {
    "collapsed": true
   },
   "outputs": [],
   "source": [
    "nn.parallel.replicate()"
   ]
  }
 ],
 "metadata": {
  "kernelspec": {
   "display_name": "Python 3",
   "language": "python",
   "name": "python3"
  },
  "language_info": {
   "codemirror_mode": {
    "name": "ipython",
    "version": 3
   },
   "file_extension": ".py",
   "mimetype": "text/x-python",
   "name": "python",
   "nbconvert_exporter": "python",
   "pygments_lexer": "ipython3",
   "version": "3.5.2"
  }
 },
 "nbformat": 4,
 "nbformat_minor": 0
}
