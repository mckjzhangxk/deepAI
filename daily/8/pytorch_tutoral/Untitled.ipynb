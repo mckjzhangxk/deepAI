{
 "cells": [
  {
   "cell_type": "code",
   "execution_count": 111,
   "metadata": {
    "collapsed": false
   },
   "outputs": [],
   "source": [
    "import torch\n",
    "from torch.utils.data import Dataset,DataLoader\n",
    "import numpy as np\n",
    "import spacy"
   ]
  },
  {
   "cell_type": "code",
   "execution_count": 167,
   "metadata": {
    "collapsed": false
   },
   "outputs": [],
   "source": [
    "class MyDataSet(Dataset):\n",
    "    def __init__(self,path,exts=('.de','.en'),maxLen=100):\n",
    "        with open(path) as fs:\n",
    "            ds=[]\n",
    "            for line in fs:\n",
    "                ds.append(line.strip())\n",
    "        self._data=list(filter(lambda x:len(x)<maxLen,ds))\n",
    "    def __getitem__(self,idx):\n",
    "        if isinstance(idx,int):\n",
    "            return self._data[idx].strip()\n",
    "        if isinstance(idx,slice):\n",
    "            if idx.start>=len(self._data):\n",
    "                raise StopIteration\n",
    "            return self._data[idx.start:idx.stop]\n",
    "    def __len__(self):\n",
    "        return len(self._data)\n",
    "class MyDataLoader():\n",
    "    def __init__(self,ds,batch_size,batch_size_fn=None):\n",
    "        self.ds=ds\n",
    "        self.batch_size=batch_size\n",
    "        self.pos=0\n",
    "        self.maxqueue=128\n",
    "        self.toSmall=int(self.maxqueue/4)\n",
    "        self.batch_size_fn=batch_size_fn\n",
    "        self.buffer=[]\n",
    "    def __iter__(self):\n",
    "        return self\n",
    "    def __next__(self):        \n",
    "        cnt=1\n",
    "        currentBatchSize=0    \n",
    "        return_example=[]\n",
    "        \n",
    "        if len(self.buffer)<self.toSmall:\n",
    "            if self.pos<len(self.ds):\n",
    "                fill_amount=self.maxqueue-len(self.buffer)\n",
    "                self.buffer.extend(self.ds[self.pos:self.pos+fill_amount])\n",
    "                self.pos+=fill_amount\n",
    "            elif len(self.buffer)==0:\n",
    "                self.pos=0\n",
    "                raise StopIteration\n",
    "                \n",
    "        cnt,currentBatchSize=1,0     \n",
    "        for example in self.buffer:\n",
    "            currentBatchSize=self.batch_size_fn(example,cnt,currentBatchSize)\n",
    "            cnt+=1\n",
    "            if currentBatchSize>self.batch_size:break\n",
    "            return_example.append(example)\n",
    "        for _ in range(len(return_example)):\n",
    "            self.buffer.pop(0)\n",
    "            \n",
    "        return return_example\n",
    "maxSeqLen=0\n",
    "def batch_size_fn(new,count,validbatch):\n",
    "    global maxSeqLen\n",
    "    if count==1:maxSeqLen=0\n",
    "    maxSeqLen=max(maxSeqLen,len(new))\n",
    "    return maxSeqLen*count"
   ]
  },
  {
   "cell_type": "code",
   "execution_count": 168,
   "metadata": {
    "collapsed": false
   },
   "outputs": [
    {
     "name": "stdout",
     "output_type": "stream",
     "text": [
      "887\n"
     ]
    }
   ],
   "source": [
    "ds=MyDataSet('.data/iwslt/de-en/IWSLT16.TED.dev2010.de-en.en',maxLen=100000)\n",
    "loader=MyDataLoader(ds,batch_size=1000,batch_size_fn=batch_size_fn)\n",
    "\n",
    "c=0\n",
    "for x in loader:\n",
    "#     print(x)\n",
    "    c+=len(x)\n",
    "print(c)"
   ]
  },
  {
   "cell_type": "code",
   "execution_count": 169,
   "metadata": {
    "collapsed": false
   },
   "outputs": [
    {
     "name": "stdout",
     "output_type": "stream",
     "text": [
      "887\n",
      "[\"And today, I had time to show you one point in this new design space, and a few of the possibilities that we're working to bring out of the laboratory.\", \"So the thought I want to leave you with is that we're on the cusp of this new generation of tools for interacting with digital media that are going to bring information into our world on our terms.\", 'Thank you very much.', 'I look forward to talking with all of you.']\n"
     ]
    }
   ],
   "source": [
    "c=0\n",
    "for x in loader:\n",
    "#     print(x)\n",
    "    c+=len(x)\n",
    "print(c)\n",
    "print(x)"
   ]
  },
  {
   "cell_type": "code",
   "execution_count": 164,
   "metadata": {
    "collapsed": false
   },
   "outputs": [
    {
     "name": "stdout",
     "output_type": "stream",
     "text": [
      "887 .data/iwslt/de-en/IWSLT16.TED.dev2010.de-en.en\r\n"
     ]
    }
   ],
   "source": [
    "! wc -l .data/iwslt/de-en/IWSLT16.TED.dev2010.de-en.en "
   ]
  },
  {
   "cell_type": "code",
   "execution_count": 121,
   "metadata": {
    "collapsed": false
   },
   "outputs": [],
   "source": [
    "a=slice(10,20)"
   ]
  },
  {
   "cell_type": "code",
   "execution_count": 85,
   "metadata": {
    "collapsed": false
   },
   "outputs": [],
   "source": [
    "a.step"
   ]
  },
  {
   "cell_type": "code",
   "execution_count": null,
   "metadata": {
    "collapsed": true
   },
   "outputs": [],
   "source": []
  }
 ],
 "metadata": {
  "kernelspec": {
   "display_name": "Python 3",
   "language": "python",
   "name": "python3"
  },
  "language_info": {
   "codemirror_mode": {
    "name": "ipython",
    "version": 3
   },
   "file_extension": ".py",
   "mimetype": "text/x-python",
   "name": "python",
   "nbconvert_exporter": "python",
   "pygments_lexer": "ipython3",
   "version": "3.5.2"
  }
 },
 "nbformat": 4,
 "nbformat_minor": 0
}
