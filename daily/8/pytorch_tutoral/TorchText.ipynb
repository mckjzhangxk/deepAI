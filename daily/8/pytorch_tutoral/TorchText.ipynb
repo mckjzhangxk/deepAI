{
 "cells": [
  {
   "cell_type": "markdown",
   "metadata": {},
   "source": [
    "1. How To load Dataset\n",
    "2. How to token?\n",
    "3. How to build vocabulary?\n",
    "4. How to convert word to index\n",
    "5. How to find word's index to reverse transform?"
   ]
  },
  {
   "cell_type": "code",
   "execution_count": 61,
   "metadata": {
    "collapsed": false
   },
   "outputs": [],
   "source": [
    "import torchtext.datasets as datasets\n",
    "import torchtext.data as data"
   ]
  },
  {
   "cell_type": "markdown",
   "metadata": {},
   "source": [
    "### 1. How To load Dataset && 2. How to token?\n",
    "1. for translation task,you need pair of data(src,trg),\n",
    "2. given file path and exts\n",
    "3. given token,which mean you must tell your alg how to convert a string to batch of words"
   ]
  },
  {
   "cell_type": "code",
   "execution_count": 62,
   "metadata": {
    "collapsed": false
   },
   "outputs": [
    {
     "name": "stdout",
     "output_type": "stream",
     "text": [
      "Examples: 859\n",
      "['You', 'know,', 'one', 'of'] ---> ['Wissen', 'Sie,', 'eines', 'der']\n",
      "['And', 'of', 'course,', 'we'] ---> ['Und', 'natürlich', 'teilen', 'wir']\n",
      "[\"We're\", 'all', 'born.', 'We'] ---> ['Wir', 'werden', 'alle', 'geboren.']\n",
      "['We', 'go', 'through', 'initiation'] ---> ['Wir', 'durchlaufen', 'Initiationsrituale.']\n",
      "['We', 'have', 'to', 'deal'] ---> ['Wir', 'müssen', 'uns', 'mit']\n",
      "['But', \"what's\", 'interesting', 'is'] ---> ['Aber', 'interessant', 'ist', 'der']\n",
      "['All', 'of', 'these', 'peoples'] ---> ['All', 'diese', 'Menschen', 'lehren']\n",
      "['And', 'this', 'is', 'an'] ---> ['Und', 'das', 'ist', 'eine']\n",
      "['Now,', 'together', 'the', 'myriad'] ---> ['Zusammen', 'bilden', 'die', 'unzähligen']\n",
      "['And', 'you', 'might', 'think'] ---> ['Man', 'kann', 'sich', 'dieses']\n",
      "['The', 'ethnosphere', 'is', \"humanity's\"] ---> ['Die', 'Ethnosphäre', 'ist', 'das']\n",
      "[\"It's\", 'the', 'symbol', 'of'] ---> ['Sie', 'ist', 'das', 'Symbol']\n",
      "54\n",
      "55\n"
     ]
    }
   ],
   "source": [
    "MAX=56\n",
    "def my_custom_tokenizer(s):\n",
    "    return s.split()\n",
    "SRC= data.Field(tokenize=my_custom_tokenizer,init_token='<s>',eos_token='</s>',unk_token='<unk>',pad_token='<unk>')\n",
    "TGT= data.Field(tokenize=my_custom_tokenizer,init_token='<s>',eos_token='</s>',unk_token='<unk>',pad_token='<unk>')\n",
    "mt_train = datasets.TranslationDataset(\n",
    "    path='.data/iwslt/de-en/IWSLT16.TED.dev2010.de-en', \n",
    "    exts=('.en','.de'),\n",
    "    fields=(SRC, TGT),\n",
    "    filter_pred=lambda x:len(x.src)<MAX and len(x.trg)<MAX)\n",
    "#when you get dataset,you can see info about your set\n",
    "print('Examples:',len(mt_train))\n",
    "#and see how your dataset look like\n",
    "head=10\n",
    "for i ,ex in enumerate(mt_train):\n",
    "    print(ex.src[:4],'--->',ex.trg[:4])\n",
    "    if i> head:break\n",
    "print(len(mt_train.examples[0].src))\n",
    "print(len(mt_train.examples[0].trg))"
   ]
  },
  {
   "cell_type": "markdown",
   "metadata": {},
   "source": [
    "### How to build vocabulary? &&How to convert word to index"
   ]
  },
  {
   "cell_type": "code",
   "execution_count": 63,
   "metadata": {
    "collapsed": false
   },
   "outputs": [
    {
     "name": "stdout",
     "output_type": "stream",
     "text": [
      "num of words: 3933\n",
      "num of words: 4613\n"
     ]
    }
   ],
   "source": [
    "SRC.build_vocab(mt_train.src)\n",
    "print('num of words:',len(SRC.vocab.itos))\n",
    "TGT.build_vocab(mt_train.trg)\n",
    "print('num of words:',len(TGT.vocab.itos))\n"
   ]
  },
  {
   "cell_type": "markdown",
   "metadata": {},
   "source": [
    "### How To Batch?"
   ]
  },
  {
   "cell_type": "code",
   "execution_count": 97,
   "metadata": {
    "collapsed": false
   },
   "outputs": [
    {
     "name": "stdout",
     "output_type": "stream",
     "text": [
      "218\n",
      "218\n",
      "218\n",
      "205\n"
     ]
    }
   ],
   "source": [
    "#once src's word or tgt's words >12000,then stop prefench data into queue\n",
    "#just using that data for your training!\n",
    "global maxSeqLen\n",
    "BATCH=12000\n",
    "def batch_size_fn(new,count,validbatch):\n",
    "    global maxSeqLen\n",
    "    if count==1:maxSeqLen=0\n",
    "    maxSeqLen=max(maxSeqLen,len(new.src),len(new.trg))\n",
    "    return maxSeqLen*count\n",
    "gen=data.batch(mt_train,BATCH,batch_size_fn=batch_size_fn)\n",
    "for x in gen:\n",
    "    print(len(x))"
   ]
  },
  {
   "cell_type": "markdown",
   "metadata": {},
   "source": [
    "### How To convert to tensor"
   ]
  },
  {
   "cell_type": "code",
   "execution_count": 102,
   "metadata": {
    "collapsed": false
   },
   "outputs": [
    {
     "name": "stdout",
     "output_type": "stream",
     "text": [
      "torch.Size([218, 56]) torch.Size([218, 57])\n",
      "torch.Size([218, 57]) torch.Size([218, 57])\n",
      "torch.Size([218, 57]) torch.Size([218, 53])\n",
      "torch.Size([205, 45]) torch.Size([205, 41])\n",
      "<s> But then I remembered Tom talking to the open air and I tried it. </s> <unk> <unk> <unk> <unk> <unk> <unk> <unk> <unk> <unk> <unk> <unk> <unk> <unk> <unk> <unk> <unk> <unk> <unk> <unk> <unk> <unk> <unk> <unk> <unk> <unk> <unk> <unk> <unk> <unk>\n",
      "[   1   53   80 1085   14   78 1055   24  331   10   22 3410  852  652\n",
      "  114    5   14 4373 1099    2    0    0    0    0    0    0    0    0\n",
      "    0    0    0    0    0    0    0    0    0    0    0    0    0]\n",
      "<s> Aber dann erinnerte ich mich daran, wie Tom in den freien Himmel gesprochen hatte und ich versuchte es. </s> <unk> <unk> <unk> <unk> <unk> <unk> <unk> <unk> <unk> <unk> <unk> <unk> <unk> <unk> <unk> <unk> <unk> <unk> <unk> <unk> <unk>\n"
     ]
    }
   ],
   "source": [
    "#以下函数解释:\n",
    "# 默认批次=99,但是由于example的长短不一,\n",
    "#如果这99个example src包含的字数<2.5W并且tgt包含的字数<2.5W,那么一批数量是99\n",
    "#头在返回的批量<99,哪里\n",
    "\n",
    "global maxSeqLen\n",
    "BATCH=12000\n",
    "def batch_size_fn(new,count,validbatch):\n",
    "    global maxSeqLen\n",
    "    if count==1:maxSeqLen=0\n",
    "    maxSeqLen=max(maxSeqLen,len(new.src),len(new.trg))\n",
    "    return maxSeqLen*count\n",
    "gen=data.batch(mt_train,BATCH,batch_size_fn=batch_size_fn)\n",
    "\n",
    "iters=data.Iterator(mt_train,\n",
    "              batch_size=BATCH, \n",
    "              sort_key=lambda x:(len(x.src),len(x.trg)),\n",
    "              train=True, \n",
    "              repeat=False, \n",
    "              shuffle=False,\n",
    "              batch_size_fn=batch_size_fn)\n",
    "\n",
    "def rebatch(data_iter):\n",
    "    for d in data_iter:\n",
    "        yield (d.src.transpose(0,1),d.trg.transpose(0,1))\n",
    "for x,y in rebatch(iters):\n",
    "    print(x.size(),y.size())\n",
    "x,y=x[0].numpy(),y[0].numpy()\n",
    "x=' '.join([SRC.vocab.itos[ii] for ii in x])\n",
    "print(x)\n",
    "print(y)\n",
    "y=' '.join([TGT.vocab.itos[ii] for ii in y])\n",
    "print(y)"
   ]
  },
  {
   "cell_type": "code",
   "execution_count": null,
   "metadata": {
    "collapsed": true
   },
   "outputs": [],
   "source": []
  }
 ],
 "metadata": {
  "kernelspec": {
   "display_name": "Python 3",
   "language": "python",
   "name": "python3"
  },
  "language_info": {
   "codemirror_mode": {
    "name": "ipython",
    "version": 3
   },
   "file_extension": ".py",
   "mimetype": "text/x-python",
   "name": "python",
   "nbconvert_exporter": "python",
   "pygments_lexer": "ipython3",
   "version": "3.5.2"
  }
 },
 "nbformat": 4,
 "nbformat_minor": 0
}
