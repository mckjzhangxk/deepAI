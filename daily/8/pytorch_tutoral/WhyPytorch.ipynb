{
 "cells": [
  {
   "cell_type": "code",
   "execution_count": 2,
   "metadata": {
    "collapsed": true
   },
   "outputs": [],
   "source": [
    "import numpy as np\n",
    "import torch"
   ]
  },
  {
   "cell_type": "markdown",
   "metadata": {},
   "source": [
    "- 1.Basic Function to Create Tensor\n",
    " - rand,zeros,rand_like\n",
    "- 2.property of Tensor\n",
    " - size() dtype\n",
    "- 3.convert between numpy and torch\n",
    " - tensor.numpy()\n",
    " - torch.from_numpy()"
   ]
  },
  {
   "cell_type": "markdown",
   "metadata": {
    "collapsed": false
   },
   "source": [
    "1.Basic Function to Create Tensor\n",
    "------------------------\n",
    "- A.rand,zeros\n",
    "- B.rand_like,new_ones"
   ]
  },
  {
   "cell_type": "code",
   "execution_count": 15,
   "metadata": {
    "collapsed": false
   },
   "outputs": [
    {
     "name": "stdout",
     "output_type": "stream",
     "text": [
      "tensor([[0.0364, 0.4059],\n",
      "        [0.5362, 0.2326],\n",
      "        [0.2987, 0.1356]])\n",
      "tensor([1., 2., 3.])\n",
      "tensor([0.0753, 0.6292, 0.7714])\n",
      "tensor([[1., 1.],\n",
      "        [1., 1.]])\n",
      "tensor([[0., 0., 0.],\n",
      "        [0., 0., 0.]])\n",
      "------------------\n"
     ]
    }
   ],
   "source": [
    "X1=torch.rand(3,2)\n",
    "print(X1)\n",
    "X2=torch.tensor([1.0,2,3])\n",
    "print(X2)\n",
    "X3=torch.rand_like(X2)\n",
    "print(X3)\n",
    "X4=X3.new_ones(2,2)\n",
    "print(X4)\n",
    "X5=torch.zeros(2,3)\n",
    "print(X5)\n",
    "print('------------------')"
   ]
  },
  {
   "cell_type": "markdown",
   "metadata": {
    "collapsed": false
   },
   "source": [
    "2.property of Tensor\n",
    "--------------------------------------"
   ]
  },
  {
   "cell_type": "code",
   "execution_count": 23,
   "metadata": {
    "collapsed": false
   },
   "outputs": [
    {
     "name": "stdout",
     "output_type": "stream",
     "text": [
      "torch.Size([3]) torch.uint8\n"
     ]
    }
   ],
   "source": [
    "X1=torch.Tensor([1,2,3])\n",
    "X1=X1.type(torch.uint8)\n",
    "print(X1.size(),X1.dtype)"
   ]
  },
  {
   "cell_type": "code",
   "execution_count": 20,
   "metadata": {
    "collapsed": true
   },
   "outputs": [],
   "source": [
    "#operation"
   ]
  },
  {
   "cell_type": "code",
   "execution_count": 22,
   "metadata": {
    "collapsed": false
   },
   "outputs": [
    {
     "name": "stdout",
     "output_type": "stream",
     "text": [
      "tensor([[0.4536, 0.8339],\n",
      "        [0.9747, 0.0692],\n",
      "        [0.4857, 0.6335]])\n",
      "tensor([[0.8960, 0.1444]])\n"
     ]
    },
    {
     "data": {
      "text/plain": [
       "tensor([[1.3496, 0.9784],\n",
       "        [1.8706, 0.2137],\n",
       "        [1.3817, 0.7780]])"
      ]
     },
     "execution_count": 22,
     "metadata": {},
     "output_type": "execute_result"
    }
   ],
   "source": [
    "A=torch.rand(3,2)\n",
    "print(A)\n",
    "B=torch.rand(1,2)\n",
    "print(B)\n",
    "A+B"
   ]
  },
  {
   "cell_type": "code",
   "execution_count": 38,
   "metadata": {
    "collapsed": false
   },
   "outputs": [],
   "source": [
    "A=torch.arange(0,9)\n",
    "A=A.view(3,3)\n",
    "B=A"
   ]
  },
  {
   "cell_type": "code",
   "execution_count": 43,
   "metadata": {
    "collapsed": false
   },
   "outputs": [],
   "source": [
    "B[:,:]=0"
   ]
  },
  {
   "cell_type": "code",
   "execution_count": 44,
   "metadata": {
    "collapsed": false
   },
   "outputs": [
    {
     "data": {
      "text/plain": [
       "tensor([[0, 1, 2],\n",
       "        [3, 4, 5],\n",
       "        [6, 7, 8]])"
      ]
     },
     "execution_count": 44,
     "metadata": {},
     "output_type": "execute_result"
    }
   ],
   "source": [
    "A"
   ]
  },
  {
   "cell_type": "code",
   "execution_count": 53,
   "metadata": {
    "collapsed": false
   },
   "outputs": [
    {
     "data": {
      "text/plain": [
       "tensor([[66, 66, 66],\n",
       "        [66, 66, 66],\n",
       "        [66, 66, 66]])"
      ]
     },
     "execution_count": 53,
     "metadata": {},
     "output_type": "execute_result"
    }
   ],
   "source": [
    "B.add_(22)"
   ]
  },
  {
   "cell_type": "code",
   "execution_count": 51,
   "metadata": {
    "collapsed": false
   },
   "outputs": [],
   "source": [
    "C=B.numpy()"
   ]
  },
  {
   "cell_type": "code",
   "execution_count": 54,
   "metadata": {
    "collapsed": false
   },
   "outputs": [
    {
     "data": {
      "text/plain": [
       "array([[66, 66, 66],\n",
       "       [66, 66, 66],\n",
       "       [66, 66, 66]])"
      ]
     },
     "execution_count": 54,
     "metadata": {},
     "output_type": "execute_result"
    }
   ],
   "source": [
    "C"
   ]
  },
  {
   "cell_type": "code",
   "execution_count": 55,
   "metadata": {
    "collapsed": true
   },
   "outputs": [],
   "source": [
    "T=np.random.randn(2,3,4)\n",
    "T=torch.from_numpy(T)"
   ]
  },
  {
   "cell_type": "code",
   "execution_count": 58,
   "metadata": {
    "collapsed": false
   },
   "outputs": [
    {
     "name": "stdout",
     "output_type": "stream",
     "text": [
      "tensor([[[0.9383, 0.7436, 0.0240, 1.6050],\n",
      "         [0.1897, 0.6814, 0.1022, 1.1948],\n",
      "         [1.2908, 0.0459, 0.3254, 2.4225]],\n",
      "\n",
      "        [[0.3525, 0.3212, 0.6038, 0.5200],\n",
      "         [1.2822, 0.0849, 1.6280, 0.3315],\n",
      "         [0.5339, 0.9847, 1.9291, 0.6901]]], dtype=torch.float64)\n"
     ]
    }
   ],
   "source": [
    "print(torch.abs(T))"
   ]
  },
  {
   "cell_type": "code",
   "execution_count": 57,
   "metadata": {
    "collapsed": false
   },
   "outputs": [
    {
     "data": {
      "text/plain": [
       "tensor([[0, 1, 2],\n",
       "        [3, 4, 5],\n",
       "        [6, 7, 8]])"
      ]
     },
     "execution_count": 57,
     "metadata": {},
     "output_type": "execute_result"
    }
   ],
   "source": [
    "A"
   ]
  },
  {
   "cell_type": "code",
   "execution_count": null,
   "metadata": {
    "collapsed": true
   },
   "outputs": [],
   "source": []
  }
 ],
 "metadata": {
  "kernelspec": {
   "display_name": "Python 3",
   "language": "python",
   "name": "python3"
  },
  "language_info": {
   "codemirror_mode": {
    "name": "ipython",
    "version": 3
   },
   "file_extension": ".py",
   "mimetype": "text/x-python",
   "name": "python",
   "nbconvert_exporter": "python",
   "pygments_lexer": "ipython3",
   "version": "3.5.2"
  }
 },
 "nbformat": 4,
 "nbformat_minor": 0
}
