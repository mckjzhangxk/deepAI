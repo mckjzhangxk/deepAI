{
 "cells": [
  {
   "cell_type": "code",
   "execution_count": null,
   "metadata": {},
   "outputs": [],
   "source": [
    "from mylib.detect.detect_face import create_mtcnn,p_stage,r_stage,o_stage,drawLandMarks,drawDectectBox\n",
    "from mylib.db.DataSource import WIDERDATA\n",
    "import tensorflow as tf\n",
    "import numpy as np\n",
    "import os\n",
    "import matplotlib.pyplot as plt\n",
    "import cv2\n",
    "%matplotlib inline"
   ]
  },
  {
   "cell_type": "code",
   "execution_count": 2,
   "metadata": {},
   "outputs": [],
   "source": [
    "def Mybbreg(I,reg):\n",
    "    w,h,_=I.shape\n",
    "    return [int(w*reg[0]),int(h*reg[1]),int(w*reg[2]),int(h*reg[3])]"
   ]
  },
  {
   "cell_type": "code",
   "execution_count": 3,
   "metadata": {},
   "outputs": [],
   "source": [
    "path='/home/zxk/AI/data/widerface/WIDER_train/samples'\n",
    "source=WIDERDATA(path,False)"
   ]
  },
  {
   "cell_type": "code",
   "execution_count": 4,
   "metadata": {},
   "outputs": [
    {
     "name": "stdout",
     "output_type": "stream",
     "text": [
      "load one epochs\n",
      "load one epochs\n",
      "load one epochs\n",
      "load one epochs\n",
      "load one epochs\n",
      "load one epochs\n",
      "load one epochs\n",
      "load one epochs\n",
      "load one epochs\n",
      "load one epochs\n",
      "load one epochs\n",
      "load one epochs\n",
      "load one epochs\n",
      "load one epochs\n",
      "load one epochs\n",
      "load one epochs\n",
      "load one epochs\n",
      "load one epochs\n",
      "load one epochs\n",
      "load one epochs\n",
      "load one epochs\n",
      "load one epochs\n",
      "load one epochs\n",
      "load one epochs\n",
      "load one epochs\n",
      "load one epochs\n",
      "load one epochs\n",
      "load one epochs\n",
      "load one epochs\n",
      "load one epochs\n",
      "load one epochs\n",
      "load one epochs\n"
     ]
    }
   ],
   "source": [
    "px, rx, ox, y, ybox =source.next(128)"
   ]
  },
  {
   "cell_type": "code",
   "execution_count": 11,
   "metadata": {},
   "outputs": [
    {
     "name": "stdout",
     "output_type": "stream",
     "text": [
      "(48, 48, 3)\n",
      "[0. 0. 0. 0.]\n",
      "[0, 0, 0, 0]\n"
     ]
    },
    {
     "data": {
      "text/plain": [
       "<matplotlib.image.AxesImage at 0x7f5426f885f8>"
      ]
     },
     "execution_count": 11,
     "metadata": {},
     "output_type": "execute_result"
    },
    {
     "data": {
      "image/png": "[encoded data removed]",
      "text/plain": [
       "<Figure size 432x288 with 1 Axes>"
      ]
     },
     "metadata": {},
     "output_type": "display_data"
    }
   ],
   "source": [
    "N=5\n",
    "I=ox[N]\n",
    "print(I.shape)\n",
    "regessor=ybox[N]\n",
    "print(regessor)\n",
    "box=Mybbreg(I,regessor)\n",
    "print(box)\n",
    "Ishow=cv2.rectangle(I.copy(),(box[0],box[1]),(box[2],box[3]),(255,0,0),1)\n",
    "plt.imshow(Ishow)"
   ]
  },
  {
   "cell_type": "code",
   "execution_count": null,
   "metadata": {},
   "outputs": [],
   "source": []
  }
 ],
 "metadata": {
  "kernelspec": {
   "display_name": "Python 3",
   "language": "python",
   "name": "python3"
  },
  "language_info": {
   "codemirror_mode": {
    "name": "ipython",
    "version": 3
   },
   "file_extension": ".py",
   "mimetype": "text/x-python",
   "name": "python",
   "nbconvert_exporter": "python",
   "pygments_lexer": "ipython3",
   "version": "3.5.2"
  }
 },
 "nbformat": 4,
 "nbformat_minor": 2
}
