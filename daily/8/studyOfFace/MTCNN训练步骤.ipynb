{
 "cells": [
  {
   "cell_type": "markdown",
   "metadata": {},
   "source": [
    "# 1.处理 并 生成FACE数据\n",
    "gen_12net_data.py,根目录下执行\n",
    "### 输入:\n",
    "\tDATA/WIDER_train/images:人脸图片\n",
    "\tDATA/WIDER_train/wider_face_train.txt:标注文件,格式:\n",
    "\t\timpath,[x1,y1,x2,y2]+ //表示一图多张人脸\n",
    "### 输出:\n",
    "\tDATA/12/positive:包含人脸的图片\n",
    "\tDATA/12/negative:非人脸图片\n",
    "\tDATA/12/part:包含人脸,但是人脸比例不大不小\n",
    "\tDATA/12/pos_12.txt:  DATA/12/positive/0.jpg 1    0.09 -0.19 0.02 -0.05\n",
    "\tDATA/12/neg_12.txt:  DATA/12/negative/0.jpg 0                 //备注:非人脸没必要输出坐标.\n",
    "\tDATA/12/part_12.txt:    DATA/12/part/0.jpg -1    -0.22 -0.28 -0.10 0.08\n",
    "\n",
    "#### 备注:图片左上角(0,0),右下角(1,1),W=1,H=1,pos/part_12.txt 输出的格式是\n",
    "\timpath,(1/-1),regx1,regy1,regx2,regy2\n",
    "\tregx1,regy1是对左上角(0,0)的修正,regx2,regy2是对右下角(1,1)的修正.\n",
    "\n",
    "\t例如,1 0.09 -0.19 0.02 -0.05:表示存在人脸,人脸在(0.09,-0.19),(1.02,0.95)的box(修正(0,0),(1,1))内 \n",
    "### 处理过程:\n",
    "\t每次读入条记录:\n",
    "\t\t1.生成50个负样本(非人脸),大小在 [12,min(w,h)/2]之间,与标注人脸 box IOU<0.3的保存为负样本,\n",
    "\t\t  更新DATA/12/neg_12.txt,DATA/12/negative.\n",
    "\t\t2.在标注人脸box左上角随机选取5个size 在 [12,min(w,h)/2]的区域,与标注box IOU<0.3,保存为负样本,\n",
    "\t\t  更新DATA/12/neg_12.txt,DATA/12/negative.\n",
    "\t\t3.在标注box附近(box的中心随机移动+-0.2w,+-h),随机选取20个 0.8min(w,h)<=size<=1.25max(w,h)的区域,\n",
    "\t\t\t3.1:如果选取的与标注的IOC>0.65,输出为正样本DATA/12/pos_12.txt,DATA/12/positive.\n",
    "\t\t\t3.2:如果选取的与标注的0.4<=IOC<=0.65,输出为part样本,更新DATA/12/part_12.txt,DATA/12/part.\n",
    "### 总结:每读到一张图片,生成55个负例,20(正例+part例)."
   ]
  },
  {
   "cell_type": "markdown",
   "metadata": {},
   "source": [
    "# 2.处理 并 生成五官数据\n",
    "    gen_landmark_aug_12.py,根目录下执行:\n",
    "### 输入:\n",
    "\tDATA/lfw_train/ LFW五官数据集\n",
    "    DATA/lfw_train/trainImageList.txt,人脸的坐标和五官的 绝对 坐标\n",
    "\t格式:\n",
    "\timage1_path left,top,right,bottom,p1.x,p1.y,p2.x,p2.y,p3.x,p3.y,p4.x,p4.y,p5.x,p5.y\n",
    "### 输出:\n",
    "\tDATA/12/train_PNet_landmark_aug:下面经过加强处理的LandMark图片.\n",
    "\tDATA/12/landmark_pnet_aug.txt:输出landmark的标注,格式如下:\n",
    "\t\timage1_path,-2,p1.x,p1.y,p2.x,p2.y,p3.x,p3.y,p4.x,p4.y,p5.x,p5.y\n",
    "\t备注:图片左上角(0,0),右下角(1,1),W=1,H=1,pi.x,pi,y是相对于左上角的坐标!.\n",
    "### 处理过程:\n",
    "\t每次读入条记录:\n",
    "\t\t1.输出切割下的人脸到DATA/12/train_PNet_landmark_aug,五官记录到DATA/12/landmark_pnet_aug.txt.\n",
    "\t\t2.随机把刚才的人脸中心平移(+- 0.2W,+-0.2h),然后取0.8min(w,h)<=size<=1.25max(w,h)的区域,如果这个区域\n",
    "\t\t和原始的IOC>0.65,把这个区域以及五官(相对于这个区域坐标)分别输出train_PNet_landmark_aug,landmark_pnet_aug.txt,这个随机切割迭代10次.\n",
    "\t\t\t2.1:有0.5的概率水平反转2生成的图片,并把人脸,五官信息更新到train_PNet_landmark_aug,train_PNet_landmark_aug.txt.\n",
    "\t\t\t\n",
    "            2.2:有0.5的概率旋转2生成的图片(0-+5C),并且反转生成的图片,更新train_PNet_landmark_aug,train_PNet_landmark_aug.txt\n",
    "\t\t\t\n",
    "            2.3:有0.5的概率旋转2生成的图片(-5-0C),并且反转生成的图片,更新train_PNet_landmark_aug,train_PNet_landmark_aug.txt\n",
    "### 总结:读到一张图片,大约生成 1+10*(1+0.5+0.5 * 2+0.5 * 2)=36张人脸."
   ]
  },
  {
   "cell_type": "markdown",
   "metadata": {},
   "source": [
    "# 3.合并人脸,五官训练数据\n",
    "gen_imglist_pnet.py,根目录下执行\n",
    "### 输入:\n",
    "\tDATA/12/pos_12.txt:  DATA/12/positive/0.jpg 1    0.09 -0.19 0.02 -0.05\n",
    "\tDATA/12/neg_12.txt:  DATA/12/negative/0.jpg 0                 //备注:非人脸没必要输出坐标.\n",
    "\tDATA/12/part_12.txt: DATA/12/part/0.jpg -1       -0.22 -0.28 -0.10 0.08\n",
    "\tDATA/12/landmark_pnet_aug.txt\n",
    "### 输出:\n",
    "\tDATA/imglists/pnet/train_pnet_landmark.txt\n",
    "### 处理过程:\n",
    "    在pos,part,landmark数据集中,各选25W个例子,neg数据集中选75W例,按照pos,neg,part,landmark\n",
    "    的顺序输出DATA/imglists/pnet/train_pnet_landmark.txt.\n",
    "    \n",
    "    1-----(+)\n",
    "    0-----(-)\n",
    "    -1----(part)\n",
    "    -2----(landmark)\n",
    "base_num = 250000\n",
    "### 总结:生成150W个例子.+,landmark,part各占25W,- 占75W"
   ]
  },
  {
   "cell_type": "markdown",
   "metadata": {},
   "source": [
    "# 4.生成训练数据TFRecord\n",
    "gen_PNet_tfrecords.py\n",
    "### 输入:\n",
    "\tDATA/imglists/pnet/train_pnet_landmark.txt\n",
    "\tDATA/12/positive:包含人脸的图片\n",
    "\tDATA/12/negative:非人脸图片\n",
    "\tDATA/12/part:包含人脸,但是人脸比例不大不小\n",
    "### 输出:\n",
    "\tDATA/imglists/PNet/train_PNet_landmark.tfrecord_shuffle\n",
    "### 处理过程:\n",
    "\t把一个numpy表示的属性,序列化后输出成为一条一条TF记录,一个记录表示一个EXAMPLE.\n",
    "\t一个example 4个属性:\n",
    "\t\timage/encoded: bytes数组 类型,表示图像\n",
    "\t\timage/label  :int64数组[1],表示数据类型(+,-,landmark,part)\n",
    "\t\timage/roi    :float 数组[4],表示人脸box\n",
    "\t\timage/landmark:float 数组[10],表示五官\n",
    "### 学习:tf.train.Features,tf.train.Feature,tf.train.Example,tf.is.TFRecordWriter的使用."
   ]
  },
  {
   "cell_type": "markdown",
   "metadata": {},
   "source": [
    "## 5.训练Pnet\n",
    "    train_models/train_PNet.py\n",
    "    \n",
    " ### 输入:\n",
    "     DATA/imglists/PNet/train_PNet_landmark.tfrecord_shuffle\n",
    "     DATA/imglists/pnet/train_pnet_landmark.txt\n",
    " ### 输出:\n",
    "     data/MTCNN_model/PNet_landmark/PNet 下生成PNet的训练模型\n",
    " ### 训练过程:\n",
    "     对class_loss,bbox_loss,landmark_loss,regular_loss进行训练\n",
    "         total_loss=class_loss+0.5*bbox_loss+0.5*landmark_loss+regular_loss\n",
    "     class_loss:70%的正负样本的参与计算.\n",
    "     bbox_loss:正,part样本参与计算\n",
    "     landmark_loss:label=-2的样本参与计算\n",
    " ### 训练参数:\n",
    "     BATCH_SIZE:384\n",
    "     EPOCHS:30\n",
    "     baselr:1e-4\n",
    "     lr_decay:0.9,在6,14,20epoch后,lr=lr_before*0.9\n",
    "     optimizer:momentum(0.9)"
   ]
  },
  {
   "cell_type": "markdown",
   "metadata": {},
   "source": [
    "## 6.生成Rnet的Hard Example\n",
    "### 输入:\n",
    "    DATA/WIDER_train/wider_face_train_bbx_gt.txt //wider数据集的标注文件\n",
    "### 输出:\n",
    "    DATA/no_LM24/positive: Pnet判断正确的正样本,Pnet输出区域与标注IOU>0.65\n",
    "    DATA/no_LM24/negative::Pnet选出来的-样本,Pnet输出区域与标注IOU<0.3\n",
    "    DATA/no_LM24/part: ,Pnet输出区域与标注IOU 在[0.4,0.65] 之间\n",
    "    DATA/no_LM24/RNet/detections.pkl: Pnet对wider数据集检测后的结果保存在detections.pkl,detections是一个list,\n",
    "    长度与wider数据集图片数量相等,每一个元素list[i]是一个numay array,shape[N',4],表示pnet认为,image[i]中存在N'张人脸,\n",
    "    分别记录相对于原图人脸定位的坐标(x1,y1,x2,y2),I[i][y1:y2,x1:x2]是一张pnet认为的人脸!\n",
    "    \n",
    "    //和标注比较后,得出hardexmaple的标注,注意offsetx1,offsety1,offsetx2,offsety2与上面4个点的区别,这里是相对人脸区域的修正,\n",
    "    //而不是人脸在原图的坐标!\n",
    "    DATA/no_LM24/pos_24.txt: 格式-> imgaepath 1 offsetx1,offsety1,offsetx2,offsety2\n",
    "    DATA/no_LM24/neg_24.txt: 格式-> imgaepath 0\n",
    "    DATA/no_LM24/part_24.txt:格式-> imgaepath -1 offsetx1,offsety1,offsetx2,offsety2\n",
    "### 处理过程:\n",
    "    对于每一张图片,初始缩放比例是I1=(H,W)/min*12,然后在这个比例上面每次缩放0.79,直到图片的尺寸小于12x12位置:\n",
    "        备注:PNET是一个可以检测12X12的人脸,第一次用Pnet检测>min大小的人脸,然后检测>min/0.79的,然后min/0.79/0.79,\n",
    "    PNET对于<0.3的区域丢弃,对保留下来的做NMS\n",
    "    汇集完成所有轮的人脸,在做一次NMS\n",
    "    备注:\n",
    "        \n",
    "        第一次NMS:iou>0.5的被淘汰\n",
    "        第二次NMS:iou>0.7的被淘汰\n",
    "        thresold:0.3,小于0.3的淘汰\n",
    "        scaleImageFactor:0.79\n",
    "\n",
    "### 执行命令:\n",
    "    python3 prepare_data/gen_hard_example.py\n",
    "    --test_mode PNet \n",
    "    --prefix data/MTCNN_model/PNet_landmark/PNet data/MTCNN_model/RNet_No_Landmark/RNet data/MTCNN_model/ONet_No_Landmark/ONet"
   ]
  },
  {
   "cell_type": "markdown",
   "metadata": {},
   "source": [
    "## 7.生成RNet网络的五官训练数据\n",
    "    gen_landmark_aug_24.py,根目录下执行:\n",
    "### 输入:\n",
    "\tDATA/lfw_train/ LFW五官数据集\n",
    "    DATA/lfw_train/trainImageList.txt,人脸的坐标和五官的 绝对 坐标\n",
    "\t格式:\n",
    "\timage1_path left,top,right,bottom,p1.x,p1.y,p2.x,p2.y,p3.x,p3.y,p4.x,p4.y,p5.x,p5.y\n",
    "### 输出:\n",
    "\tDATA/24/train_RNet_landmark_aug:下面经过加强处理的LandMark图片.\n",
    "\tDATA/24/landmark_Rnet_aug.txt:输出landmark的标注,格式如下:\n",
    "\t\timage1_path,-2,p1.x,p1.y,p2.x,p2.y,p3.x,p3.y,p4.x,p4.y,p5.x,p5.y\n",
    "\t备注:图片左上角(0,0),右下角(1,1),W=1,H=1,pi.x,pi,y是相对于左上角的坐标!.\n",
    "### 处理过程:\n",
    "    每次读入条记录:\n",
    "        1.把标注的人脸,五官数据(转化相对人脸) 保存样本\n",
    "        2.随机平移中心[-0.2,0.2],size[0.8min,1.25max],重复10次,\n",
    "            所选区域与标注区域 IOU>0.65,认做一个样本\n",
    "                A)0.5的概率 镜像,并保存\n",
    "                B)0.5的概率,正向选择,然后镜像\n",
    "                C)0.5的概率,逆向向选择,然后镜像\n",
    "        3.把选出的图片,标注 分别 输出到DATA/24/train_RNet_landmark_aug,DATA/24/landmark_Rnet_aug.txt\n",
    "          备注:如果五官在图片外,landmark<0 or landmark>1,视为无效的,不会输出\n",
    "    总输出:读取一张,输出 1+10(1+0.5+0.5*2+0.5*2)=36张"
   ]
  },
  {
   "cell_type": "markdown",
   "metadata": {},
   "source": [
    "## 8.合并Rnet的人脸,五官标注数据\n",
    "\n",
    "### 输入:\n",
    "    //人脸标注\n",
    "    DATA/no_LM24/pos_24.txt: 格式-> imgaepath 1 offsetx1,offsety1,offsetx2,offsety2\n",
    "    DATA/no_LM24/neg_24.txt: 格式-> imgaepath 0\n",
    "    DATA/no_LM24/part_24.txt:格式-> imgaepath -1 offsetx1,offsety1,offsetx2,offsety2\n",
    "    //五官标注\n",
    "    DATA/24/landmark_Rnet_aug.txt\n",
    "### 输出:   \n",
    "    DATA/imglists_noLM/RNet/train_RNet_landmark.txt"
   ]
  },
  {
   "cell_type": "markdown",
   "metadata": {},
   "source": [
    "## 9.Rnet的 TFRecord \n",
    "\n",
    "### 输出:\n",
    "    DATA/imglists_noLM/RNet/pos_landmark.tfrecord_shuffle\n",
    "    DATA/imglists_noLM/RNet/neg_landmark.tfrecord_shuffle\n",
    "    DATA/imglists_noLM/RNet/part_landmark.tfrecord_shuffle\n",
    "    DATA/imglists_noLM/RNet/landmark_landmark.tfrecord_shuffle"
   ]
  },
  {
   "cell_type": "markdown",
   "metadata": {},
   "source": [
    "### 10.训练Rnet\n",
    "    train_models/train_RNet.py\n",
    "### 输入:\n",
    "    DATA/imglists_noLM/RNet/pos_landmark.tfrecord_shuffle\n",
    "    DATA/imglists_noLM/RNet/neg_landmark.tfrecord_shuffle\n",
    "    DATA/imglists_noLM/RNet/part_landmark.tfrecord_shuffle\n",
    "    DATA/imglists_noLM/RNet/landmark_landmark.tfrecord_shuffle\n",
    "    DATA/imglists_noLM/RNet/train_RNet_landmark.txt  //不用于训练,只用于计算有多少样本数量\n",
    "### 输出:\n",
    "    data/MTCNN_model/RNet_No_Landmark/RNet/  //训练好的RNet模型\n",
    "    logs/RNet   //训练日志"
   ]
  },
  {
   "cell_type": "code",
   "execution_count": 1,
   "metadata": {
    "collapsed": true
   },
   "outputs": [],
   "source": [
    "import matplotlib.pyplot as plt\n",
    "import cv2\n",
    "%matplotlib inline"
   ]
  },
  {
   "cell_type": "code",
   "execution_count": 5,
   "metadata": {
    "collapsed": false
   },
   "outputs": [
    {
     "data": {
      "text/plain": [
       "<matplotlib.image.AxesImage at 0x7f1cc3531be0>"
      ]
     },
     "execution_count": 5,
     "metadata": {},
     "output_type": "execute_result"
    },
    {
     "data": {
      "image/png": "[encoded data removed]",
      "text/plain": [
       "<matplotlib.figure.Figure at 0x7f1cc35d9a58>"
      ]
     },
     "metadata": {},
     "output_type": "display_data"
    }
   ],
   "source": [
    "img=cv2.imread('/home/zhangxk/mysite/webapp/facedb1/1.png')\n",
    "cv2.flip(img,0,img)\n",
    "plt.imshow(img)"
   ]
  },
  {
   "cell_type": "code",
   "execution_count": 1,
   "metadata": {
    "collapsed": true
   },
   "outputs": [],
   "source": [
    "prefix=['../data/MTCNN_model/PNet_No_Landmark/PNet', '../data/MTCNN_model/RNet_No_Landmark/RNet', '../data/MTCNN_model/ONet_No_Landmark/ONet']\n",
    "epoch=[18,14,16]\n",
    "model_path = ['%s-%s' % (x, y) for x, y in zip(prefix, epoch)]"
   ]
  },
  {
   "cell_type": "code",
   "execution_count": 3,
   "metadata": {
    "collapsed": true
   },
   "outputs": [],
   "source": [
    "model_path=model_path[0]"
   ]
  },
  {
   "cell_type": "code",
   "execution_count": 4,
   "metadata": {
    "collapsed": false
   },
   "outputs": [
    {
     "data": {
      "text/plain": [
       "'../data/MTCNN_model/PNet_No_Landmark/PNet-18'"
      ]
     },
     "execution_count": 4,
     "metadata": {},
     "output_type": "execute_result"
    }
   ],
   "source": [
    "model_path"
   ]
  },
  {
   "cell_type": "code",
   "execution_count": 5,
   "metadata": {
    "collapsed": false
   },
   "outputs": [
    {
     "data": {
      "text/plain": [
       "'../data/MTCNN_model/PNet_No_Landmark'"
      ]
     },
     "execution_count": 5,
     "metadata": {},
     "output_type": "execute_result"
    }
   ],
   "source": [
    " '/'.join(model_path.split('/')[:-1])"
   ]
  },
  {
   "cell_type": "code",
   "execution_count": null,
   "metadata": {
    "collapsed": true
   },
   "outputs": [],
   "source": []
  }
 ],
 "metadata": {
  "kernelspec": {
   "display_name": "Python 3",
   "language": "python",
   "name": "python3"
  },
  "language_info": {
   "codemirror_mode": {
    "name": "ipython",
    "version": 3
   },
   "file_extension": ".py",
   "mimetype": "text/x-python",
   "name": "python",
   "nbconvert_exporter": "python",
   "pygments_lexer": "ipython3",
   "version": "3.5.2"
  }
 },
 "nbformat": 4,
 "nbformat_minor": 1
}
