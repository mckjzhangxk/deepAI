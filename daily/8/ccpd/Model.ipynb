{
 "cells": [
  {
   "cell_type": "code",
   "execution_count": 1,
   "metadata": {},
   "outputs": [],
   "source": [
    "import torch\n",
    "import torch.nn as nn\n",
    "import torch.nn.functional as F"
   ]
  },
  {
   "cell_type": "code",
   "execution_count": 55,
   "metadata": {},
   "outputs": [
    {
     "name": "stdout",
     "output_type": "stream",
     "text": [
      "4703966\n",
      "torch.Size([16, 34])\n",
      "torch.Size([16, 25])\n",
      "torch.Size([16, 35])\n"
     ]
    }
   ],
   "source": [
    "class BlockLayer(nn.Module):\n",
    "    def __init__(self,in_ch,out_ch,stride=1):\n",
    "        super(BlockLayer,self).__init__()\n",
    "        H=out_ch//4\n",
    "        model=nn.Sequential()\n",
    "        model.add_module('conv1',nn.Conv2d(in_ch,H,3,1,1))\n",
    "        model.add_module('bn1',nn.BatchNorm2d(H))\n",
    "        model.add_module('relu1',nn.ReLU())\n",
    "        \n",
    "        model.add_module('conv2',nn.Conv2d(H,H,3,stride,1))\n",
    "        model.add_module('bn2',nn.BatchNorm2d(H))\n",
    "        model.add_module('relu2',nn.ReLU())\n",
    "        \n",
    "        model.add_module('conv3',nn.Conv2d(H,out_ch,3,1,1))\n",
    "        model.add_module('bn3',nn.BatchNorm2d(out_ch))\n",
    "        model.add_module('relu3',nn.ReLU())\n",
    "        if in_ch==out_ch and stride==1:\n",
    "            self.shortcut=nn.Identity()\n",
    "        else:\n",
    "            self.shortcut=nn.Conv2d(in_ch,out_ch,3,stride,1)\n",
    "        self.block=model\n",
    "    def forward(self,X):\n",
    "        route1=self.block(X)\n",
    "        route2=self.shortcut(X)\n",
    "        return route1+route2\n",
    "class GroupLayer(nn.Module):\n",
    "    def __init__(self,in_ch,out_ch,count):\n",
    "        super(GroupLayer,self).__init__()\n",
    "        model=nn.Sequential()\n",
    "        model.add_module('p1',BlockLayer(in_ch,out_ch,2))\n",
    "        for i in range(2,count+1):\n",
    "            model.add_module('p%d'%i,BlockLayer(out_ch,out_ch,1))\n",
    "        self.model=model\n",
    "    def forward(self,X):\n",
    "        return self.model(X)\n",
    "class CNet(nn.Module):\n",
    "    def __init__(self):\n",
    "        super(CNet,self).__init__()\n",
    "        model=nn.Sequential()\n",
    "        \n",
    "        model.add_module('c1',nn.Conv2d(3,64,3,2,1))\n",
    "        model.add_module('b1',nn.BatchNorm2d(64,3,2,1))\n",
    "        model.add_module('r1',nn.ReLU())\n",
    "        \n",
    "        model.add_module('stage1',GroupLayer(64,128,2))\n",
    "        model.add_module('stage2',GroupLayer(128,256,2))\n",
    "        model.add_module('stage3',GroupLayer(256,512,2))\n",
    "        \n",
    "        self.features=model\n",
    "        self.cls1=nn.Linear(512,34)\n",
    "        self.cls2=nn.Linear(512,25)\n",
    "        self.cls3=nn.Linear(512,35)\n",
    "        \n",
    "    def forward(self,X):\n",
    "        Y=self.features(X)\n",
    "        Y=F.adaptive_avg_pool2d(Y,(1,1))\n",
    "        Y=Y.view(-1,512)\n",
    "        \n",
    "        province_logit=self.cls1(Y)\n",
    "        alphabets_logit=self.cls2(Y)\n",
    "        ads_logit=self.cls3(Y)\n",
    "        \n",
    "        return province_logit,alphabets_logit,ads_logit\n",
    "    def pcount(self):\n",
    "        c=0\n",
    "        for x in self.parameters():\n",
    "            c+=x.numel()\n",
    "        return c\n",
    "X=torch.randn(16,3,32,48)\n",
    "# B1=BlockLayer(32,64,2)\n",
    "# Y=B1(X)\n",
    "# print(Y.size()) #16,64,24,32\n",
    "# print()\n",
    "# for x in B1.model.parameters():\n",
    "#     print(x.size())\n",
    "# print()\n",
    "# for x in B1.shortcut.parameters():\n",
    "#     print(x.size())\n",
    "G1=CNet()\n",
    "X1,X2,X3=G1(X)\n",
    "print(G1.pcount())\n",
    "print(X1.shape)\n",
    "print(X2.shape)\n",
    "print(X3.shape)"
   ]
  },
  {
   "cell_type": "code",
   "execution_count": 49,
   "metadata": {},
   "outputs": [
    {
     "data": {
      "text/plain": [
       "544"
      ]
     },
     "execution_count": 49,
     "metadata": {},
     "output_type": "execute_result"
    }
   ],
   "source": [
    "16*34"
   ]
  },
  {
   "cell_type": "code",
   "execution_count": null,
   "metadata": {},
   "outputs": [],
   "source": []
  }
 ],
 "metadata": {
  "kernelspec": {
   "display_name": "Python 3",
   "language": "python",
   "name": "python3"
  },
  "language_info": {
   "codemirror_mode": {
    "name": "ipython",
    "version": 3
   },
   "file_extension": ".py",
   "mimetype": "text/x-python",
   "name": "python",
   "nbconvert_exporter": "python",
   "pygments_lexer": "ipython3",
   "version": "3.5.2"
  }
 },
 "nbformat": 4,
 "nbformat_minor": 2
}
