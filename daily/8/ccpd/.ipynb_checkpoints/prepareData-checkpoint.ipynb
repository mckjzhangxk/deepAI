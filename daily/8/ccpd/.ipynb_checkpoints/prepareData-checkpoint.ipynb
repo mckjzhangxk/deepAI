{
 "cells": [
  {
   "cell_type": "code",
   "execution_count": 1,
   "metadata": {},
   "outputs": [],
   "source": [
    "import os\n",
    "import torch\n",
    "from torch.utils.data import DataLoader,Dataset\n",
    "import torch.nn as nn\n",
    "import torch.nn.functional as F\n",
    "import torch.optim as optim\n",
    "import torchvision.transforms as transforms\n",
    "\n",
    "import PIL.Image as Image\n",
    "import numpy as np\n",
    "import glob\n",
    "import cv2\n",
    "import matplotlib.pyplot as plt\n",
    "%matplotlib inline\n",
    "# from torch.data"
   ]
  },
  {
   "cell_type": "code",
   "execution_count": 2,
   "metadata": {},
   "outputs": [],
   "source": [
    "provinces = [\"皖\", \"沪\", \"津\", \"渝\", \"冀\", \"晋\", \"蒙\", \"辽\", \"吉\", \"黑\", \"苏\", \"浙\", \"京\", \"闽\", \"赣\", \"鲁\", \"豫\", \"鄂\", \"湘\", \"粤\", \"桂\", \"琼\", \"川\", \"贵\", \"云\", \"藏\", \"陕\", \"甘\", \"青\", \"宁\", \"新\", \"警\", \"学\", \"O\"]\n",
    "alphabets = ['A', 'B', 'C', 'D', 'E', 'F', 'G', 'H', 'J', 'K', 'L', 'M', 'N', 'P', 'Q', 'R', 'S', 'T', 'U', 'V', 'W',\n",
    "             'X', 'Y', 'Z', 'O']\n",
    "ads = ['A', 'B', 'C', 'D', 'E', 'F', 'G', 'H', 'J', 'K', 'L', 'M', 'N', 'P', 'Q', 'R', 'S', 'T', 'U', 'V', 'W', 'X',\n",
    "       'Y', 'Z', '0', '1', '2', '3', '4', '5', '6', '7', '8', '9', 'O']\n",
    "def decode(Y):\n",
    "    P=provinces[Y[0]]\n",
    "    S=alphabets[Y[1]]\n",
    "    C=[ads[y] for y in Y[2:]]\n",
    "    return P+S+''.join(C)"
   ]
  },
  {
   "cell_type": "code",
   "execution_count": 5,
   "metadata": {},
   "outputs": [
    {
     "name": "stdout",
     "output_type": "stream",
     "text": [
      "['a', 'c', 'b']\n"
     ]
    }
   ],
   "source": [
    "import random\n",
    "a=['a','b','c']\n",
    "random.shuffle(a)\n",
    "print(a)"
   ]
  },
  {
   "cell_type": "markdown",
   "metadata": {},
   "source": [
    "### generate file for detection task(using darknet)"
   ]
  },
  {
   "cell_type": "code",
   "execution_count": 4,
   "metadata": {},
   "outputs": [
    {
     "name": "stderr",
     "output_type": "stream",
     "text": [
      "\n",
      "processing data,patient!: 0it [00:00, ?it/s]\u001b[A\n",
      "processing data,patient!: 1673it [00:29, 126.47it/s]\u001b[A"
     ]
    }
   ],
   "source": [
    "import shutil\n",
    "from tqdm import tqdm\n",
    "import numpy.random as npr\n",
    "import random\n",
    "def createDetectDataSet(src,tgt,num=None):\n",
    "    imglist=glob.glob(src)\n",
    "#     random.shuffle(imglist)\n",
    "    if num:imglist=imglist[:num]\n",
    "    def decodeBox(imgname):\n",
    "#         I=cv2.imread(imgname)\n",
    "#         H,W,_=I.shape\n",
    "        W,H=Image.open(imgname).size\n",
    "        \n",
    "        basename=os.path.basename(imgname)\n",
    "        sps=basename.split('-')\n",
    "\n",
    "        bbox=sps[2]\n",
    "        bbox=bbox.split('_')\n",
    "        pp1=bbox[0].split('&')\n",
    "        pp2=bbox[1].split('&')\n",
    "        x1,y1,x2,y2=int(pp1[0]),int(pp1[1]),int(pp2[0]),int(pp2[1])\n",
    "        cx,cy,w,h=(x1+x2)/2,(y1+y2)/2,(x2-x1+1),(y2-y1+1)\n",
    "        return cx/W,cy/H,w/W,h/H\n",
    "    for i,imgpath in tqdm(enumerate(imglist),'processing data,patient!'):\n",
    "        ##open file\n",
    "        \n",
    "        cx,cy,w,h=decodeBox(imgpath)\n",
    "        content=' '.join(map(str,[0,cx,cy,w,h]))\n",
    "        \n",
    "        tgt_img=os.path.join(tgt,'%d.jpg'%i)\n",
    "        tgt_label=os.path.join(tgt,'%d.txt'%i)\n",
    "        shutil.copy(imgpath,tgt_img)\n",
    "        with open(tgt_label,'w') as fs:\n",
    "            fs.write(content)\n",
    "def splitDataset(src,tgt,testnum=1000,prefix=''):\n",
    "    imglist=glob.glob(src)\n",
    "    idx=np.arange(len(imglist))\n",
    "    npr.shuffle(idx)\n",
    "    with open(os.path.join(tgt,'train.txt'),'w') as fs:\n",
    "        for index in idx[:-testnum]:\n",
    "            s=imglist[index]\n",
    "            s=os.path.join(prefix,os.path.basename(s))\n",
    "            fs.write(s+'\\n')\n",
    "    with open(os.path.join(tgt,'test.txt'),'w') as fs:\n",
    "        for index in idx[-testnum:]:\n",
    "            s=imglist[index]\n",
    "            s=os.path.join(prefix,os.path.basename(s))\n",
    "            fs.write(s+'\\n')\n",
    "db_src='/home/zxk/AI/data/CCPD2019/ccpd_weather/*.jpg'\n",
    "# db_my='/home/zxk/AI/darknet/mymodel/ccpd/obj/'\n",
    "db_my='my'\n",
    "# db_train_test='/home/zxk/AI/darknet/mymodel/ccpd'\n",
    "# prefix_anno='ccpd/obj'\n",
    "if os.path.exists(db_my):\n",
    "    shutil.rmtree(db_my)\n",
    "os.mkdir(db_my)\n",
    "createDetectDataSet(db_src,db_my,num=100)\n",
    "# splitDataset(db_my+'*.jpg',db_train_test,testnum=2000,prefix=prefix_anno)"
   ]
  },
  {
   "cell_type": "code",
   "execution_count": 14,
   "metadata": {},
   "outputs": [
    {
     "name": "stdout",
     "output_type": "stream",
     "text": [
      "['0', '0.33402777777777776', '0.38232758620689655', '0.3861111111111111', '0.11206896551724138']\n"
     ]
    },
    {
     "data": {
      "text/plain": [
       "<matplotlib.image.AxesImage at 0x7f1cc81ecfd0>"
      ]
     },
     "execution_count": 14,
     "metadata": {},
     "output_type": "execute_result"
    },
    {
     "data": {
      "image/png": "[encoded data removed]",
      "text/plain": [
       "<Figure size 432x288 with 1 Axes>"
      ]
     },
     "metadata": {},
     "output_type": "display_data"
    }
   ],
   "source": [
    "imglist=glob.glob('my/*.jpg')\n",
    "N=99\n",
    "imgpath=imglist[N]\n",
    "lable=imgpath[:-3]+'txt'\n",
    "with open(lable) as fs:\n",
    "    x=fs.readlines()[0]\n",
    "    x=x.split(' ')\n",
    "    cx,cy,w,h=float(x[1]),float(x[2]),float(x[3]),float(x[4])\n",
    "    print(x)\n",
    "I=cv2.imread(imgpath)\n",
    "H,W,_=I.shape\n",
    "cx=W*cx\n",
    "cy=H*cy\n",
    "w=W*w\n",
    "h=H*h\n",
    "x1,x2,y1,y2=int(cx-w/2),int(cx+w/2),int(cy-h/2),int(cy+h/2)\n",
    "I=cv2.rectangle(I,(x1,y1),(x2,y2),(0,0,200),3)\n",
    "plt.imshow(I)"
   ]
  },
  {
   "cell_type": "code",
   "execution_count": 46,
   "metadata": {},
   "outputs": [
    {
     "name": "stdout",
     "output_type": "stream",
     "text": [
      "obj  obj.data  obj.names  test.txt  train.txt  yolov-obj.cfg\r\n"
     ]
    }
   ],
   "source": [
    "! ls /home/zxk/AI/darknet/mymodel/ccpd/"
   ]
  },
  {
   "cell_type": "markdown",
   "metadata": {},
   "source": [
    "### Create DataSet For recognition Task(MyModel)"
   ]
  },
  {
   "cell_type": "code",
   "execution_count": 3,
   "metadata": {},
   "outputs": [
    {
     "name": "stdout",
     "output_type": "stream",
     "text": [
      "trainset: 179993\n",
      "teset: 20000\n",
      "(32, 64)\n",
      "皖AGN328\n",
      "torch.Size([64, 1, 32, 64]) torch.Size([64, 7])\n"
     ]
    },
    {
     "data": {
      "image/png": "[encoded data removed]",
      "text/plain": [
       "<Figure size 432x288 with 1 Axes>"
      ]
     },
     "metadata": {},
     "output_type": "display_data"
    }
   ],
   "source": [
    "class CCPD_Dataset(Dataset):\n",
    "    \n",
    "    def __init__(self,basedir,train,seed=0):\n",
    "        super().__init__()   \n",
    "        db=glob.glob(basedir)\n",
    "        n=len(db)\n",
    "        np.random.seed(seed)\n",
    "        totalidx=set(np.arange(n))\n",
    "        trainidx=set(np.random.choice(n,int(n*0.9),False))\n",
    "        testidx=totalidx-trainidx\n",
    "        \n",
    "        if train:\n",
    "            self._db=[db[idx] for idx in trainidx]\n",
    "        else:\n",
    "            self._db=[db[idx] for idx in testidx]\n",
    "        self._init_processing_fn()\n",
    "    def _init_processing_fn(self):\n",
    "        t1=transforms.FiveCrop((24,24))\n",
    "        t2=transforms.Lambda(lambda imgs:[transforms.RandomHorizontalFlip(0.5)(img) for img in imgs])\n",
    "        t3=transforms.Lambda(lambda crops: torch.stack([transforms.ToTensor()(crop)  for crop in crops]))\n",
    "        \n",
    "        t_affine=transforms.RandomAffine(5,(0.05,0.05),(0.9,1.1))\n",
    "        t_color=transforms.ColorJitter(brightness=.3, contrast=.3)\n",
    "        t_resize=transforms.Resize((32,64))\n",
    "        t_tensor=transforms.ToTensor()\n",
    "        \n",
    "        t_norm=transforms.Lambda(lambda t:(t-0.5)/0.5)\n",
    "        \n",
    "        self.process=transforms.Compose([t_color,t_affine,t_resize,t_tensor])\n",
    "        \n",
    "        \n",
    "#         self._db=['/home/zhangxk/AIProject/CCPD/sample/rotate/025-95_113-154&383_386&473-386&473_177&454_154&383_363&402-0_0_22_27_27_33_16-37-15.jpg']\n",
    "    def __getitem__(self,k):\n",
    "        imagename=self._db[k]  \n",
    "        basename=os.path.basename(imagename)\n",
    "        sps=basename.split('-')\n",
    "        #label\n",
    "        label=sps[4]\n",
    "        labels=label.split('_')\n",
    "        Y=np.array([int(k) for k in labels])\n",
    "        #image\n",
    "#         \"025-95_113-154&383_386&473-386&473_177&454_154&383_363&402-0_0_22_27_27_33_16-37-15.jpg\"\n",
    "        bbox=sps[2]\n",
    "        bbox=bbox.split('_')\n",
    "        pp1=bbox[0].split('&')\n",
    "        pp2=bbox[1].split('&')\n",
    "        x1,y1,x2,y2=int(pp1[0]),int(pp1[1]),int(pp2[0]),int(pp2[1])\n",
    "#         cv2.imread(imagename)\n",
    "        I=Image.open(imagename,mode='r').convert(\"L\")\n",
    "        X=I.crop((x1,y1,x2,y2))\n",
    "#         X=I[y1:y2,x1:x2]\n",
    "#         X=cv2.cvtColor(X,cv2.COLOR_BGR2GRAY)\n",
    "        return self.process(X),torch.tensor(Y)\n",
    "    def __len__(self):\n",
    "        return len(self._db)\n",
    "dbpath='/home/zxk/AI/data/CCPD2019/ccpd_base/*.jpg'\n",
    "trainset=CCPD_Dataset(dbpath,True)\n",
    "testset=CCPD_Dataset(dbpath,False)\n",
    "print('trainset:',len(trainset))\n",
    "print('teset:',len(testset))\n",
    "batch_size=64\n",
    "trainloader=DataLoader(trainset,batch_size,shuffle=True,num_workers=4)\n",
    "testloader=DataLoader(trainset,batch_size,shuffle=False,num_workers=4)\n",
    "#########test code#############\n",
    "N=8765\n",
    "ds=trainset\n",
    "print(ds[N][0].squeeze(0).numpy().shape)\n",
    "plt.imshow(ds[N][0].squeeze(0).numpy(),cmap='gray')\n",
    "print(decode(ds[N][1]))\n",
    "for k in trainloader:\n",
    "    print(k[0].size(),k[1].size())\n",
    "    break"
   ]
  },
  {
   "cell_type": "code",
   "execution_count": 240,
   "metadata": {},
   "outputs": [
    {
     "name": "stdout",
     "output_type": "stream",
     "text": [
      "4771882\n",
      "torch.Size([16, 234])\n"
     ]
    }
   ],
   "source": [
    "class BlockLayer(nn.Module):\n",
    "    def __init__(self,in_ch,out_ch,stride=1):\n",
    "        super(BlockLayer,self).__init__()\n",
    "        H=out_ch//4\n",
    "        model=nn.Sequential()\n",
    "        model.add_module('conv1',nn.Conv2d(in_ch,H,3,1,1,bias=False))\n",
    "        model.add_module('bn1',nn.BatchNorm2d(H))\n",
    "        model.add_module('relu1',nn.ReLU())\n",
    "        \n",
    "        model.add_module('conv2',nn.Conv2d(H,H,3,stride,1,bias=False))\n",
    "        model.add_module('bn2',nn.BatchNorm2d(H))\n",
    "        model.add_module('relu2',nn.ReLU())\n",
    "        \n",
    "        model.add_module('conv3',nn.Conv2d(H,out_ch,3,1,1,bias=False))\n",
    "        model.add_module('bn3',nn.BatchNorm2d(out_ch))\n",
    "        model.add_module('relu3',nn.ReLU())\n",
    "        if in_ch==out_ch and stride==1:\n",
    "            self.shortcut=nn.Identity()\n",
    "        else:\n",
    "            self.shortcut=nn.Conv2d(in_ch,out_ch,3,stride,1)\n",
    "        self.block=model\n",
    "    def forward(self,X):\n",
    "        route1=self.block(X)\n",
    "        route2=self.shortcut(X)\n",
    "        return route1+route2\n",
    "class GroupLayer(nn.Module):\n",
    "    def __init__(self,in_ch,out_ch,count):\n",
    "        super(GroupLayer,self).__init__()\n",
    "        model=nn.Sequential()\n",
    "        model.add_module('p1',BlockLayer(in_ch,out_ch,2))\n",
    "        for i in range(2,count+1):\n",
    "            model.add_module('p%d'%i,BlockLayer(out_ch,out_ch,1))\n",
    "        self.model=model\n",
    "    def forward(self,X):\n",
    "        return self.model(X)\n",
    "class CNet(nn.Module):\n",
    "    def __init__(self):\n",
    "        super(CNet,self).__init__()\n",
    "        model=nn.Sequential()\n",
    "        \n",
    "        model.add_module('c1',nn.Conv2d(1,64,3,2,1,bias=False))\n",
    "        model.add_module('b1',nn.BatchNorm2d(64))\n",
    "        model.add_module('r1',nn.ReLU())\n",
    "        \n",
    "        model.add_module('stage1',GroupLayer(64,128,2))\n",
    "        model.add_module('stage2',GroupLayer(128,256,2))\n",
    "        model.add_module('stage3',GroupLayer(256,512,2))\n",
    "        \n",
    "        self.features=model\n",
    "        self.cls=nn.Linear(512,34+25+35*5)\n",
    "#         self.cls2=nn.Linear(512,25)\n",
    "#         self.cls3=nn.Linear(512,35*5)\n",
    "        \n",
    "    def forward(self,X):\n",
    "        Y=self.features(X)\n",
    "        Y=F.adaptive_avg_pool2d(Y,(1,1))\n",
    "        Y=Y.view(-1,512)\n",
    "        \n",
    "        Yhat=self.cls(Y)\n",
    "#         alphabets_logit=self.cls2(Y)\n",
    "#         ads_logit=self.cls3(Y)\n",
    "        \n",
    "        return Yhat\n",
    "    def pcount(self):\n",
    "        c=0\n",
    "        for x in self.parameters():\n",
    "            c+=x.numel()\n",
    "        return c\n",
    "def compute_loss(Yhat,Y):\n",
    "    Yhats=torch.split(Yhat,[34,25,35,35,35,35,35],1)\n",
    "    Ys=torch.split(Y,1,1)\n",
    "    \n",
    "    loss=[0,0,0,0,0,0,0]\n",
    "    for i,y,yhat in enumerate(Ys,Yhats):\n",
    "        loss[i]+=nn.CrossEntropyLoss()(yhat,y)\n",
    "    total_loss=0\n",
    "    for l in loss:total_loss+=l\n",
    "    return loss,total_loss\n",
    "def get_optimizer(model):\n",
    "    return optim.Adam(model.parameters())\n",
    "\n",
    "X=torch.randn(16,1,32,48)\n",
    "# B1=BlockLayer(32,64,2)\n",
    "# Y=B1(X)\n",
    "# print(Y.size()) #16,64,24,32\n",
    "# print()\n",
    "# for x in B1.model.parameters():\n",
    "#     print(x.size())\n",
    "# print()\n",
    "# for x in B1.shortcut.parameters():\n",
    "#     print(x.size())\n",
    "G1=CNet()\n",
    "X1=G1(X)\n",
    "print(G1.pcount())\n",
    "print(X1.shape)\n",
    "# print(X2.shape)\n",
    "# print(X3.shape)"
   ]
  },
  {
   "cell_type": "code",
   "execution_count": 238,
   "metadata": {},
   "outputs": [
    {
     "name": "stdout",
     "output_type": "stream",
     "text": [
      "torch.Size([129, 34])\n",
      "torch.Size([129, 25])\n",
      "torch.Size([129, 35])\n",
      "torch.Size([129, 35])\n",
      "torch.Size([129, 35])\n",
      "torch.Size([129, 35])\n",
      "torch.Size([129, 35])\n"
     ]
    }
   ],
   "source": [
    "X=torch.rand(129,34+25+35*5)\n",
    "xx=torch.split(X,[34,25,35,35,35,35,35],1)\n",
    "for x in xx:\n",
    "    print(x.shape)\n",
    "# xx=torch.split(X,35,1)\n"
   ]
  },
  {
   "cell_type": "code",
   "execution_count": null,
   "metadata": {},
   "outputs": [],
   "source": []
  }
 ],
 "metadata": {
  "kernelspec": {
   "display_name": "Python 3",
   "language": "python",
   "name": "python3"
  },
  "language_info": {
   "codemirror_mode": {
    "name": "ipython",
    "version": 3
   },
   "file_extension": ".py",
   "mimetype": "text/x-python",
   "name": "python",
   "nbconvert_exporter": "python",
   "pygments_lexer": "ipython3",
   "version": "3.5.2"
  }
 },
 "nbformat": 4,
 "nbformat_minor": 1
}
