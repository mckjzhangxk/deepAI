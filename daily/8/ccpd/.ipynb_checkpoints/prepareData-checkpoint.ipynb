{
 "cells": [
  {
   "cell_type": "code",
   "execution_count": 1,
   "metadata": {},
   "outputs": [],
   "source": [
    "import os\n",
    "import torch\n",
    "from torch.utils.data import DataLoader,Dataset\n",
    "import numpy as np\n",
    "import glob\n",
    "import cv2\n",
    "# from torch.data"
   ]
  },
  {
   "cell_type": "code",
   "execution_count": 2,
   "metadata": {},
   "outputs": [],
   "source": [
    "provinces = [\"皖\", \"沪\", \"津\", \"渝\", \"冀\", \"晋\", \"蒙\", \"辽\", \"吉\", \"黑\", \"苏\", \"浙\", \"京\", \"闽\", \"赣\", \"鲁\", \"豫\", \"鄂\", \"湘\", \"粤\", \"桂\", \"琼\", \"川\", \"贵\", \"云\", \"藏\", \"陕\", \"甘\", \"青\", \"宁\", \"新\", \"警\", \"学\", \"O\"]\n",
    "alphabets = ['A', 'B', 'C', 'D', 'E', 'F', 'G', 'H', 'J', 'K', 'L', 'M', 'N', 'P', 'Q', 'R', 'S', 'T', 'U', 'V', 'W',\n",
    "             'X', 'Y', 'Z', 'O']\n",
    "ads = ['A', 'B', 'C', 'D', 'E', 'F', 'G', 'H', 'J', 'K', 'L', 'M', 'N', 'P', 'Q', 'R', 'S', 'T', 'U', 'V', 'W', 'X',\n",
    "       'Y', 'Z', '0', '1', '2', '3', '4', '5', '6', '7', '8', '9', 'O']"
   ]
  },
  {
   "cell_type": "code",
   "execution_count": 5,
   "metadata": {},
   "outputs": [
    {
     "name": "stdout",
     "output_type": "stream",
     "text": [
      "34\n",
      "25\n",
      "35\n",
      "94\n"
     ]
    }
   ],
   "source": [
    "print(len(provinces))\n",
    "print(len(alphabets))\n",
    "print(len(ads))\n",
    "print(34+25+35)"
   ]
  },
  {
   "cell_type": "code",
   "execution_count": 23,
   "metadata": {},
   "outputs": [
    {
     "name": "stdout",
     "output_type": "stream",
     "text": [
      "/home/zhangxk/AIProject/CCPD/sample/rotate/025-95_113-154&383_386&473-386&473_177&454_154&383_363&402-0_0_22_27_27_33_16-37-15.jpg\n",
      "(array([[[  0,   0,   0],\n",
      "        [  1,   1,   1],\n",
      "        [  0,   0,   0],\n",
      "        ...,\n",
      "        [255, 211, 218],\n",
      "        [255, 211, 218],\n",
      "        [255, 211, 218]],\n",
      "\n",
      "       [[  0,   0,   0],\n",
      "        [  1,   1,   1],\n",
      "        [  0,   0,   0],\n",
      "        ...,\n",
      "        [245, 201, 208],\n",
      "        [255, 211, 218],\n",
      "        [255, 211, 218]],\n",
      "\n",
      "       [[  0,   0,   0],\n",
      "        [  1,   1,   1],\n",
      "        [  0,   0,   0],\n",
      "        ...,\n",
      "        [245, 201, 208],\n",
      "        [255, 211, 218],\n",
      "        [255, 211, 218]],\n",
      "\n",
      "       ...,\n",
      "\n",
      "       [[  0,   3,   6],\n",
      "        [  0,   4,   4],\n",
      "        [  0,   3,   6],\n",
      "        ...,\n",
      "        [  0,   1,   0],\n",
      "        [  0,   0,   0],\n",
      "        [  0,   0,   0]],\n",
      "\n",
      "       [[  2,   0,   1],\n",
      "        [  0,   0,   1],\n",
      "        [  2,   0,   1],\n",
      "        ...,\n",
      "        [  0,   1,   0],\n",
      "        [  0,   0,   0],\n",
      "        [  0,   0,   0]],\n",
      "\n",
      "       [[  1,   1,   1],\n",
      "        [  0,   0,   0],\n",
      "        [  0,   0,   0],\n",
      "        ...,\n",
      "        [  4,   0,   0],\n",
      "        [  2,   0,   0],\n",
      "        [  0,   0,   0]]], dtype=uint8), array([ 0,  0, 22, 27, 27, 33, 16]))\n"
     ]
    }
   ],
   "source": [
    "class DB1(Dataset):\n",
    "    def __init__(self,basedir):\n",
    "        super().__init__()   \n",
    "        self._db=glob.glob(basedir)\n",
    "        self._db=['/home/zhangxk/AIProject/CCPD/sample/rotate/025-95_113-154&383_386&473-386&473_177&454_154&383_363&402-0_0_22_27_27_33_16-37-15.jpg']\n",
    "    def __getitem__(self,k):\n",
    "        imagename=self._db[k]  \n",
    "        print(imagename)\n",
    "        basename=os.path.basename(imagename)\n",
    "        sps=basename.split('-')\n",
    "        #label\n",
    "        label=sps[4]\n",
    "        labels=label.split('_')\n",
    "        Y=np.array([int(k) for k in labels])\n",
    "        #image\n",
    "#         \"025-95_113-154&383_386&473-386&473_177&454_154&383_363&402-0_0_22_27_27_33_16-37-15.jpg\"\n",
    "        bbox=sps[2]\n",
    "        bbox=bbox.split('_')\n",
    "        pp1=bbox[0].split('&')\n",
    "        pp2=bbox[1].split('&')\n",
    "        x1,y1,x2,y2=int(pp1[0]),int(pp1[1]),int(pp2[0]),int(pp2[1])\n",
    "        I=cv2.imread(imagename)\n",
    "        X=I[y1:y2,x1:x2]\n",
    "        \n",
    "        return X,Y\n",
    "    def __len__(self):\n",
    "        return len(self.db)\n",
    "    \n",
    "db=DB1('/home/zhangxk/AIProject/BBox-Label-Tool/Images/001/*.JPEG')\n",
    "for kk in db:\n",
    "    print(kk)"
   ]
  },
  {
   "cell_type": "code",
   "execution_count": 14,
   "metadata": {},
   "outputs": [
    {
     "data": {
      "text/plain": [
       "'*.JPEG'"
      ]
     },
     "execution_count": 14,
     "metadata": {},
     "output_type": "execute_result"
    }
   ],
   "source": [
    "a='/home/zhangxk/AIProject/BBox-Label-Tool/Images/001/*.JPEG'\n",
    "os.path.basename(a)"
   ]
  },
  {
   "cell_type": "code",
   "execution_count": null,
   "metadata": {
    "collapsed": true
   },
   "outputs": [],
   "source": []
  }
 ],
 "metadata": {
  "kernelspec": {
   "display_name": "Python 3",
   "language": "python",
   "name": "python3"
  },
  "language_info": {
   "codemirror_mode": {
    "name": "ipython",
    "version": 3
   },
   "file_extension": ".py",
   "mimetype": "text/x-python",
   "name": "python",
   "nbconvert_exporter": "python",
   "pygments_lexer": "ipython3",
   "version": "3.5.2"
  }
 },
 "nbformat": 4,
 "nbformat_minor": 1
}
