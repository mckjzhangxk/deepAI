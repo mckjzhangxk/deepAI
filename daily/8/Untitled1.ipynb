{
 "cells": [
  {
   "cell_type": "code",
   "execution_count": 34,
   "metadata": {
    "collapsed": true
   },
   "outputs": [],
   "source": [
    "import numpy as np\n",
    "import matplotlib.pyplot as plt\n",
    "%matplotlib inline"
   ]
  },
  {
   "cell_type": "code",
   "execution_count": 2,
   "metadata": {
    "collapsed": true
   },
   "outputs": [],
   "source": [
    "x=np.arange(10)\n",
    "y=np.array([1,1,1,-1,-1,-1,1,1,1,-1])"
   ]
  },
  {
   "cell_type": "code",
   "execution_count": 69,
   "metadata": {
    "collapsed": false
   },
   "outputs": [],
   "source": [
    "G1=lambda x:2*(x<2.5)-1\n",
    "G2=lambda x:2*(x<8.5)-1\n",
    "G3=lambda x:2*(x>5.5)-1\n",
    "L=lambda  y,yhat:y!=yhat\n",
    "LN=lambda y,yhat:2*(y!=yhat)-1\n",
    "coffe=lambda e:0.5*(np.log((1-e)/e))\n",
    "def fnew(Gs,As):\n",
    "    def f(x):\n",
    "        ret=0\n",
    "        for i,a in enumerate(As):\n",
    "            ret+=a*Gs[i](x)\n",
    "        return np.sign(ret)\n",
    "    return f\n",
    "def plotdistribution(x):\n",
    "    plt.figure(facecolor='w')\n",
    "    plt.plot(x,'ro')\n",
    "    plt.tight_layout()"
   ]
  },
  {
   "cell_type": "code",
   "execution_count": 71,
   "metadata": {
    "collapsed": false
   },
   "outputs": [
    {
     "data": {
      "image/png": "[encoded data removed]",
      "text/plain": [
       "<matplotlib.figure.Figure at 0x7fd0c9984c18>"
      ]
     },
     "metadata": {},
     "output_type": "display_data"
    },
    {
     "data": {
      "image/png": "[encoded data removed]",
      "text/plain": [
       "<matplotlib.figure.Figure at 0x7fd0c991cf98>"
      ]
     },
     "metadata": {},
     "output_type": "display_data"
    },
    {
     "data": {
      "image/png": "[encoded data removed]",
      "text/plain": [
       "<matplotlib.figure.Figure at 0x7fd0c992a208>"
      ]
     },
     "metadata": {},
     "output_type": "display_data"
    }
   ],
   "source": [
    "N=10\n",
    "###########################################\n",
    "D1=np.ones(N)/N\n",
    "plotdistribution(D1)\n",
    "Y1_hat=G1(x)\n",
    "E1=np.sum(D1*L(y,Y1_hat))\n",
    "a1=coffe(E1)\n",
    "f1=fnew([G1],[a1])\n",
    "############################################\n",
    "D2=D1*np.exp(a1*LN(y,Y1_hat))\n",
    "D2=D2/np.sum(D2)\n",
    "plotdistribution(D2)\n",
    "Y2_hat=G2(x)\n",
    "E2=np.sum(D2*L(y,Y2_hat))\n",
    "a2=coffe(E2)\n",
    "f2=fnew([G1,G2],[a1,a2])\n",
    "############################################\n",
    "D3=D2*np.exp(a2*LN(y,Y2_hat))\n",
    "D3=D3/np.sum(D3)\n",
    "plotdistribution(D3)\n",
    "Y3_hat=G3(x)\n",
    "E3=np.sum(D3*L(y,Y3_hat))\n",
    "a3=coffe(E3)\n",
    "f3=fnew([G1,G2,G3],[a1,a2,a3])"
   ]
  },
  {
   "cell_type": "code",
   "execution_count": 65,
   "metadata": {
    "collapsed": false
   },
   "outputs": [
    {
     "name": "stdout",
     "output_type": "stream",
     "text": [
      "[ 1  1  1 -1 -1 -1  1  1  1 -1]\n",
      "[ 1.  1.  1. -1. -1. -1. -1. -1. -1. -1.]\n",
      "[ 1.  1.  1.  1.  1.  1.  1.  1.  1. -1.]\n",
      "[ 1.  1.  1. -1. -1. -1.  1.  1.  1. -1.]\n"
     ]
    }
   ],
   "source": [
    "print(y)\n",
    "print(f1(x))\n",
    "print(f2(x))\n",
    "print(f3(x))\n"
   ]
  },
  {
   "cell_type": "code",
   "execution_count": 16,
   "metadata": {
    "collapsed": false
   },
   "outputs": [
    {
     "data": {
      "text/plain": [
       "array([ True,  True,  True, False, False, False,  True,  True,  True,\n",
       "        True])"
      ]
     },
     "execution_count": 16,
     "metadata": {},
     "output_type": "execute_result"
    }
   ],
   "source": [
    "L(y,G2(x))"
   ]
  },
  {
   "cell_type": "code",
   "execution_count": 36,
   "metadata": {
    "collapsed": false
   },
   "outputs": [
    {
     "data": {
      "text/plain": [
       "[<matplotlib.lines.Line2D at 0x7fd0c9b3e8d0>]"
      ]
     },
     "execution_count": 36,
     "metadata": {},
     "output_type": "execute_result"
    },
    {
     "data": {
      "image/png": "[encoded data removed]",
      "text/plain": [
       "<matplotlib.figure.Figure at 0x7fd0d0d678d0>"
      ]
     },
     "metadata": {},
     "output_type": "display_data"
    }
   ],
   "source": [
    "e=np.linspace(1e-3,1-1e-3,100);\n",
    "a=coffe(e)\n",
    "plt.plot(e,a)"
   ]
  },
  {
   "cell_type": "code",
   "execution_count": 61,
   "metadata": {
    "collapsed": false
   },
   "outputs": [
    {
     "data": {
      "text/plain": [
       "array([ 1, -1,  1])"
      ]
     },
     "execution_count": 61,
     "metadata": {},
     "output_type": "execute_result"
    }
   ],
   "source": [
    "np.sign([1,-2,2])"
   ]
  },
  {
   "cell_type": "code",
   "execution_count": null,
   "metadata": {
    "collapsed": true
   },
   "outputs": [],
   "source": []
  }
 ],
 "metadata": {
  "kernelspec": {
   "display_name": "Python 3",
   "language": "python",
   "name": "python3"
  },
  "language_info": {
   "codemirror_mode": {
    "name": "ipython",
    "version": 3
   },
   "file_extension": ".py",
   "mimetype": "text/x-python",
   "name": "python",
   "nbconvert_exporter": "python",
   "pygments_lexer": "ipython3",
   "version": "3.5.2"
  }
 },
 "nbformat": 4,
 "nbformat_minor": 0
}
