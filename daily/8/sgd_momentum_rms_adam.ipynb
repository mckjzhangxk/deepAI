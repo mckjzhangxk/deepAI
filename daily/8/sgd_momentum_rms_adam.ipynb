{
 "cells": [
  {
   "cell_type": "code",
   "execution_count": 1,
   "metadata": {},
   "outputs": [
    {
     "name": "stderr",
     "output_type": "stream",
     "text": [
      "WARNING: Logging before flag parsing goes to stderr.\n",
      "W0213 21:18:34.086276 140384084764416 deprecation_wrapper.py:118] From /usr/local/lib/python3.5/dist-packages/tensorflow/__init__.py:99: The name tf.AUTO_REUSE is deprecated. Please use tf.compat.v1.AUTO_REUSE instead.\n",
      "\n",
      "W0213 21:18:34.089020 140384084764416 deprecation_wrapper.py:118] From /usr/local/lib/python3.5/dist-packages/tensorflow/__init__.py:99: The name tf.AttrValue is deprecated. Please use tf.compat.v1.AttrValue instead.\n",
      "\n",
      "W0213 21:18:34.090649 140384084764416 deprecation_wrapper.py:118] From /usr/local/lib/python3.5/dist-packages/tensorflow/__init__.py:99: The name tf.COMPILER_VERSION is deprecated. Please use tf.version.COMPILER_VERSION instead.\n",
      "\n",
      "W0213 21:18:34.092150 140384084764416 deprecation_wrapper.py:118] From /usr/local/lib/python3.5/dist-packages/tensorflow/__init__.py:99: The name tf.CXX11_ABI_FLAG is deprecated. Please use tf.sysconfig.CXX11_ABI_FLAG instead.\n",
      "\n",
      "W0213 21:18:34.093575 140384084764416 deprecation_wrapper.py:118] From /usr/local/lib/python3.5/dist-packages/tensorflow/__init__.py:99: The name tf.ConditionalAccumulator is deprecated. Please use tf.compat.v1.ConditionalAccumulator instead.\n",
      "\n"
     ]
    }
   ],
   "source": [
    "import numpy as np\n",
    "import tensorflow as tf\n",
    "import matplotlib.pyplot as plt\n",
    "import time\n",
    "import pandas as pd\n",
    "%matplotlib inline\n",
    "plt.rcParams['figure.figsize']=[20,20]"
   ]
  },
  {
   "cell_type": "markdown",
   "metadata": {},
   "source": [
    "## purpose from this tutorial\n",
    "\n",
    "* 1.define a regression loss function using real data.\n",
    "    It's easy to using tensorflow to define loss,parameters,and grad respect to loss\n",
    "* 2.draw the error courtouf\n",
    "* 3.compare your optimizer and tf implement\n",
    "* 4.how differnt alg converge"
   ]
  },
  {
   "cell_type": "code",
   "execution_count": 2,
   "metadata": {},
   "outputs": [],
   "source": [
    "def f(W,fileName='ex1data1.txt'):\n",
    "        '''\n",
    "            load a linear regression data,\n",
    "            then using tensorflow to construct ,loss= mean [(WX-Y)**2] X=[1,x].T Y=[y].T\n",
    "            \n",
    "            W is a input,can be any tensor(PlaceHolder,Variable) need Have shape [?,2]\n",
    "        \n",
    "            return loss,W\n",
    "        '''\n",
    "        df=pd.read_csv(fileName,names=['x','y'])\n",
    "        df=np.array(df)\n",
    "        \n",
    "        \n",
    "        xs,ys=x,y=df[:,0:1].T,df[:,1:2].T #shape [1,m]\n",
    "        xs=np.concatenate([np.ones_like(xs),xs],axis=0) #shape [2,m]\n",
    "        assert(xs.shape[0]==2)\n",
    "        \n",
    "        #convert numpy array 2 tensor\n",
    "        X=tf.constant(value=xs,dtype=tf.float32) #shape (2,m)\n",
    "        Y=tf.constant(value=ys,dtype=tf.float32) #shape (1,m)\n",
    "\n",
    "        Yhat=tf.matmul(W,X)\n",
    "        loss=tf.reduce_mean((Yhat-Y)**2,axis=1)\n",
    "        \n",
    "\n",
    "        return loss\n",
    "def df(loss,W):\n",
    "    #loss is a scalar\n",
    "    dW=tf.gradients(loss,W)[0]\n",
    "    return dW"
   ]
  },
  {
   "cell_type": "markdown",
   "metadata": {},
   "source": [
    "# get a rough range of the optimal W"
   ]
  },
  {
   "cell_type": "code",
   "execution_count": 3,
   "metadata": {},
   "outputs": [
    {
     "name": "stderr",
     "output_type": "stream",
     "text": [
      "W0213 21:18:36.626559 140384084764416 deprecation.py:323] From /usr/local/lib/python3.5/dist-packages/tensorflow_core/python/ops/math_grad.py:1206: add_dispatch_support.<locals>.wrapper (from tensorflow.python.ops.array_ops) is deprecated and will be removed in a future version.\n",
      "Instructions for updating:\n",
      "Use tf.where in 2.0, which has the same broadcast rule as np.where\n"
     ]
    },
    {
     "name": "stdout",
     "output_type": "stream",
     "text": [
      "[[-3.895744   1.1930708]]\n",
      "time consume:6.134\n"
     ]
    }
   ],
   "source": [
    "tf.reset_default_graph()\n",
    "sess=tf.Session()\n",
    "W=tf.get_variable(name='W',shape=[1,2])\n",
    "loss=f(W,'ex1data1.txt')\n",
    "\n",
    "opt=tf.train.AdamOptimizer(0.1).minimize(loss)\n",
    "start=time.time()\n",
    "\n",
    "sess.run(tf.global_variables_initializer())\n",
    "for i in range(10000):\n",
    "    _l,_=sess.run([loss,opt])\n",
    "optimal_W=sess.run(W)\n",
    "\n",
    "print(optimal_W)\n",
    "print('time consume:{:.4}'.format(time.time()-start))\n",
    "sess.close()"
   ]
  },
  {
   "cell_type": "markdown",
   "metadata": {},
   "source": [
    "## The draw the contour graph"
   ]
  },
  {
   "cell_type": "code",
   "execution_count": 4,
   "metadata": {},
   "outputs": [],
   "source": [
    "#define the showing range,and prepare for compute loss \n",
    "w1,w2=optimal_W[0][0],optimal_W[0][1]\n",
    "\n",
    "\n",
    "def cost_hyperplane(r=-1,points=2000):\n",
    "    '''\n",
    "        points:num of point along one axis\n",
    "    '''\n",
    "    w1_range=np.linspace(w1-r,w1+r,points)\n",
    "    w2_range=np.linspace(w2+r,w2-r,points) #notice reverse order\n",
    "    np_W1,np_W2=np.meshgrid(w1_range,w2_range) #shape[400,300]\n",
    "    np_params=np.stack([np_W1.ravel(),np_W2.ravel()],axis=1) #shape (12000,2)\n",
    "    #lanch tensorflow graph\n",
    "    tf.reset_default_graph()\n",
    "    sess=tf.Session()\n",
    "    W=tf.placeholder(shape=[None,2],dtype=tf.float32)\n",
    "    loss=f(W,'ex1data1.txt')\n",
    "\n",
    "    #get loss\n",
    "    np_loss=sess.run(loss,feed_dict={W:np_params})\n",
    "    np_loss=np.reshape(np_loss,np_W1.shape)\n",
    "\n",
    "    plt.contourf(np_W1,np_W2,np_loss)\n",
    "    plt.xlabel('w1')\n",
    "    plt.ylabel('w2')\n",
    "#     plt.colorbar()\n",
    "    sess.close()"
   ]
  },
  {
   "cell_type": "markdown",
   "metadata": {},
   "source": [
    "<a href='https://www.tensorflow.org/api_docs/python/tf/train/RMSPropOptimizer#class_rmspropoptimizer'>rmsprop</a>\n",
    "<a href='https://www.tensorflow.org/api_docs/python/tf/train/MomentumOptimizer'>momentum</a>\n",
    "<a hre='https://www.tensorflow.org/api_docs/python/tf/train/GradientDescentOptimizer'>SGD</a>\n",
    "<a href='http://cs231n.github.io/neural-networks-3/#sgd'>cs231n</a>"
   ]
  },
  {
   "cell_type": "code",
   "execution_count": 5,
   "metadata": {},
   "outputs": [],
   "source": [
    "def update_with_tensorflow(x0,trace,sess,steps,optimizer):\n",
    "    W=tf.Variable(initial_value=x0,dtype=tf.float32)\n",
    "    cost=f(W)\n",
    "    train_step=optimizer.minimize(cost)\n",
    "    sess.run(tf.global_variables_initializer())\n",
    "    for k in range(steps):\n",
    "        _,_w=sess.run([train_step,W])\n",
    "        trace.append(_w)\n",
    "def init_param():\n",
    "    W=tf.placeholder(shape=[1,2],dtype=tf.float32)\n",
    "    cost=f(W)\n",
    "    dW=df(cost,W)\n",
    "    return W,cost,dW\n",
    "\n",
    "def sgd(x0,lr=0.01,steps=10,use_tf=False):\n",
    "    '''\n",
    "        x0 is initial value,have shape [1,2]\n",
    "    '''\n",
    "    tf.reset_default_graph()\n",
    "    sess=tf.Session()\n",
    "    trace=[x0]\n",
    "    \n",
    "    if use_tf:\n",
    "        update_with_tensorflow(x0,trace,sess,steps,tf.train.GradientDescentOptimizer(lr))\n",
    "        return np.squeeze(np.array(trace))\n",
    "    else:\n",
    "        x=x0\n",
    "        W,cost,dW=init_param()\n",
    "        for k in range(steps):\n",
    "            dx=sess.run(dW,feed_dict={W:x})\n",
    "            x=x-lr*dx\n",
    "            trace.append(x)     \n",
    "        return np.squeeze(np.array(trace))\n",
    "\n",
    "def sgd_momentum(x0,lr=0.01,steps=10,beta=0.9,use_tf=False):\n",
    "    tf.reset_default_graph()\n",
    "    sess=tf.Session()\n",
    "    trace=[x0]\n",
    "\n",
    "    \n",
    "    if use_tf:\n",
    "        update_with_tensorflow(x0,trace,sess,steps,tf.train.MomentumOptimizer(lr,momentum=beta))\n",
    "        return np.squeeze(np.array(trace))\n",
    "    else:\n",
    "        x,v=x0,0\n",
    "        W,cost,dW=init_param()\n",
    "        for k in range(steps):\n",
    "            dx=sess.run(dW,feed_dict={W:x})\n",
    "            v=v*beta+dx*(1-beta)\n",
    "            x=x-lr*v\n",
    "            trace.append(x)\n",
    "        return np.squeeze(np.array(trace))\n",
    "\n",
    "def rms_prop(x0,lr=0.01,steps=10,beta=0.9,eps=1e-10,use_tf=False):\n",
    "    tf.reset_default_graph()\n",
    "    sess=tf.Session()\n",
    "    trace=[x0]\n",
    "    \n",
    "    if use_tf:\n",
    "        #you can conbine momentum and decay,decay is the rate of magnitude\n",
    "        update_with_tensorflow(x0,trace,sess,steps,\n",
    "                               tf.train.RMSPropOptimizer(lr,momentum=0,decay=beta,epsilon=eps))\n",
    "        return np.squeeze(np.array(trace))\n",
    "    else:    \n",
    "        x,v=x0,0\n",
    "        W,cost,dW=init_param()\n",
    "        for k in range(steps):\n",
    "            dx=sess.run(dW,feed_dict={W:x})\n",
    "            v=v*beta+(dx**2)*(1-beta)\n",
    "            x=x-lr*dx/(np.sqrt(v)+eps)\n",
    "            trace.append(x)\n",
    "        return np.squeeze(np.array(trace))\n",
    "def adam(x0,lr,steps=10,beta1=0.9,beta2=0.999,eps=1e-8,use_tf=False):\n",
    "    tf.reset_default_graph()\n",
    "    sess=tf.Session()\n",
    "    trace=[x0]\n",
    "    \n",
    "    if use_tf:\n",
    "        update_with_tensorflow(x0,trace,sess,steps,\n",
    "                               tf.train.AdamOptimizer(lr,beta1=beta1,beta2=beta2,epsilon=eps))\n",
    "        return np.squeeze(np.array(trace))\n",
    "    else:\n",
    "        x,m,v=x0,0,0\n",
    "        W,cost,dW=init_param()\n",
    "        for k in range(1,steps+1):\n",
    "            dx=sess.run(dW,feed_dict={W:x})\n",
    "            m=beta1*m+(1-beta1)*dx\n",
    "            v=beta2*v+(1-beta2)*(dx**2)\n",
    "            '''\n",
    "            bias correction mechanism, which compensates for the fact that \n",
    "            in the first few time steps the vectors m,v are both initialized \n",
    "            nd therefore biased at zero, before they fully “warm up”\n",
    "            '''\n",
    "            mt=m/(1-beta1**k)\n",
    "            vt=v/(1-beta2**k)\n",
    "#             mt,vt=m,v\n",
    "            x=x-lr*mt/(np.sqrt(vt)+eps)\n",
    "            trace.append(x)\n",
    "        return np.squeeze(np.array(trace))"
   ]
  },
  {
   "cell_type": "code",
   "execution_count": 6,
   "metadata": {},
   "outputs": [
    {
     "name": "stderr",
     "output_type": "stream",
     "text": [
      "W0213 21:20:32.940804 140384084764416 deprecation_wrapper.py:118] From /usr/local/lib/python3.5/dist-packages/tensorflow_estimator/python/estimator/api/_v1/estimator/__init__.py:10: The name tf.estimator.inputs is deprecated. Please use tf.compat.v1.estimator.inputs instead.\n",
      "\n"
     ]
    },
    {
     "ename": "NameError",
     "evalue": "name 'beta' is not defined",
     "output_type": "error",
     "traceback": [
      "\u001b[0;31m---------------------------------------------------------------------------\u001b[0m",
      "\u001b[0;31mNameError\u001b[0m                                 Traceback (most recent call last)",
      "\u001b[0;32m<ipython-input-6-071e7bcfae37>\u001b[0m in \u001b[0;36m<module>\u001b[0;34m()\u001b[0m\n\u001b[1;32m     36\u001b[0m \u001b[0;31m# plt.plot(path[:,0],path[:,1])\u001b[0m\u001b[0;34m\u001b[0m\u001b[0;34m\u001b[0m\u001b[0m\n\u001b[1;32m     37\u001b[0m \u001b[0;34m\u001b[0m\u001b[0m\n\u001b[0;32m---> 38\u001b[0;31m \u001b[0mpath\u001b[0m\u001b[0;34m=\u001b[0m\u001b[0msgd_momentum\u001b[0m\u001b[0;34m(\u001b[0m\u001b[0mx0\u001b[0m\u001b[0;34m,\u001b[0m\u001b[0mlr\u001b[0m\u001b[0;34m=\u001b[0m\u001b[0mlr\u001b[0m\u001b[0;34m*\u001b[0m\u001b[0;34m(\u001b[0m\u001b[0;36m1\u001b[0m\u001b[0;34m-\u001b[0m\u001b[0mbeta\u001b[0m\u001b[0;34m)\u001b[0m\u001b[0;34m,\u001b[0m\u001b[0msteps\u001b[0m\u001b[0;34m=\u001b[0m\u001b[0msteps\u001b[0m\u001b[0;34m,\u001b[0m\u001b[0mbeta\u001b[0m\u001b[0;34m=\u001b[0m\u001b[0mbeta\u001b[0m\u001b[0;34m,\u001b[0m\u001b[0muse_tf\u001b[0m\u001b[0;34m=\u001b[0m\u001b[0;32mTrue\u001b[0m\u001b[0;34m)\u001b[0m\u001b[0;34m\u001b[0m\u001b[0m\n\u001b[0m\u001b[1;32m     39\u001b[0m \u001b[0mplt\u001b[0m\u001b[0;34m.\u001b[0m\u001b[0mplot\u001b[0m\u001b[0;34m(\u001b[0m\u001b[0mpath\u001b[0m\u001b[0;34m[\u001b[0m\u001b[0;34m:\u001b[0m\u001b[0;34m,\u001b[0m\u001b[0;36m0\u001b[0m\u001b[0;34m]\u001b[0m\u001b[0;34m,\u001b[0m\u001b[0mpath\u001b[0m\u001b[0;34m[\u001b[0m\u001b[0;34m:\u001b[0m\u001b[0;34m,\u001b[0m\u001b[0;36m1\u001b[0m\u001b[0;34m]\u001b[0m\u001b[0;34m)\u001b[0m\u001b[0;34m\u001b[0m\u001b[0m\n\u001b[1;32m     40\u001b[0m \u001b[0;31m###################################################################################\u001b[0m\u001b[0;34m\u001b[0m\u001b[0;34m\u001b[0m\u001b[0m\n",
      "\u001b[0;31mNameError\u001b[0m: name 'beta' is not defined"
     ]
    },
    {
     "data": {
      "image/png": "[encoded data removed]",
      "text/plain": [
       "<Figure size 432x288 with 1 Axes>"
      ]
     },
     "metadata": {},
     "output_type": "display_data"
    }
   ],
   "source": [
    "x0=np.array([[w1-0.3,w2+0.3]]) #upleft conner of optimal value\n",
    "steps=500\n",
    "lr=0.012\n",
    "\n",
    "###################optimal value and initial state###############################\n",
    "cost_hyperplane(r=0.7)\n",
    "plt.plot(x0[0][0],x0[0][1],'o', markersize=12)\n",
    "plt.plot(w1,w2,'x', markersize=12)\n",
    "#################################################################################\n",
    "\n",
    "\n",
    "####################SGD##########################################################\n",
    "# path=sgd(x0,lr=lr,steps=steps)\n",
    "# plt.plot(path[:,0],path[:,1])\n",
    "\n",
    "\n",
    "path=sgd(x0,lr=lr,steps=steps,use_tf=True)\n",
    "plt.plot(path[:,0],path[:,1])\n",
    "##################################################################################\n",
    "\n",
    "'''\n",
    "tensorflow,implemtnt is:\n",
    "    accumulation = menment/(1-menment) * accumulation + gradient\n",
    "    \n",
    "    variable -= learning_rate * accumulation\n",
    "my implement is:\n",
    "    accumulation=beta*accumulation+(1-bata)*grad\n",
    "    variable -= learning_rate * accumulation\n",
    "    \n",
    "    so equiment to tensorflow's menment =beta\n",
    "        lr=lr*(1-beta)\n",
    "'''\n",
    "####################sgd with momentum#############################################\n",
    "# beta=0.9\n",
    "# path=sgd_momentum(x0,lr=lr,steps=steps,beta=beta)\n",
    "# plt.plot(path[:,0],path[:,1])\n",
    "\n",
    "path=sgd_momentum(x0,lr=lr*(1-beta),steps=steps,beta=beta,use_tf=True)\n",
    "plt.plot(path[:,0],path[:,1])\n",
    "###################################################################################\n",
    "\n",
    "\n",
    "####################rmsprop########################################################\n",
    "decay=0.9\n",
    "# path=rms_prop(x0,lr=lr,steps=steps,beta=decay)\n",
    "# plt.plot(path[:,0],path[:,1])\n",
    "\n",
    "path=rms_prop(x0,lr=lr,steps=steps,beta=decay,use_tf=True) #beta is decay argument in tensorflow\n",
    "plt.plot(path[:,0],path[:,1])\n",
    "\n",
    "##################################################################################\n",
    "\n",
    "####################Adam  ########################################################\n",
    "beta,decay=0.9,0.999\n",
    "\n",
    "path=adam(x0,lr=lr,steps=steps,beta1=beta,beta2=decay)\n",
    "plt.plot(path[:,0],path[:,1],'b')\n",
    "\n",
    "# path=adam(x0,lr=lr,steps=steps,beta1=beta,beta2=decay,use_tf=True)\n",
    "# plt.plot(path[:,0],path[:,1],'b')\n",
    "\n",
    "##################################################################################\n",
    "plt.legend(['start point','optimal target'\n",
    "#            ,'sgd'\n",
    "            ,'sgd_tensorflow'\n",
    "#            ,'sgd_moment'\n",
    "            ,'sgd_moment_tensorflow'\n",
    "#             ,'rmsprop'\n",
    "            ,'rmsprop_tensorflow'\n",
    "#             ,'adam'\n",
    "            ,'adam_tensorflow'\n",
    "           ])\n",
    "\n"
   ]
  },
  {
   "cell_type": "code",
   "execution_count": null,
   "metadata": {},
   "outputs": [],
   "source": []
  }
 ],
 "metadata": {
  "kernelspec": {
   "display_name": "Python 3",
   "language": "python",
   "name": "python3"
  },
  "language_info": {
   "codemirror_mode": {
    "name": "ipython",
    "version": 3
   },
   "file_extension": ".py",
   "mimetype": "text/x-python",
   "name": "python",
   "nbconvert_exporter": "python",
   "pygments_lexer": "ipython3",
   "version": "3.5.2"
  }
 },
 "nbformat": 4,
 "nbformat_minor": 2
}
