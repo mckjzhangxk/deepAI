{
 "cells": [
  {
   "cell_type": "code",
   "execution_count": 1,
   "metadata": {},
   "outputs": [
    {
     "name": "stderr",
     "output_type": "stream",
     "text": [
      "/usr/lib/python3.5/importlib/_bootstrap.py:222: RuntimeWarning: numpy.dtype size changed, may indicate binary incompatibility. Expected 96, got 88\n",
      "  return f(*args, **kwds)\n",
      "/usr/lib/python3.5/importlib/_bootstrap.py:222: RuntimeWarning: numpy.dtype size changed, may indicate binary incompatibility. Expected 96, got 88\n",
      "  return f(*args, **kwds)\n",
      "/usr/lib/python3.5/importlib/_bootstrap.py:222: RuntimeWarning: numpy.dtype size changed, may indicate binary incompatibility. Expected 96, got 88\n",
      "  return f(*args, **kwds)\n",
      "/usr/lib/python3.5/importlib/_bootstrap.py:222: RuntimeWarning: numpy.dtype size changed, may indicate binary incompatibility. Expected 96, got 88\n",
      "  return f(*args, **kwds)\n"
     ]
    }
   ],
   "source": [
    "import numpy as np\n",
    "import tensorflow as tf\n",
    "import matplotlib.pyplot as plt\n",
    "import time\n",
    "import pandas as pd\n",
    "%matplotlib inline\n",
    "plt.rcParams['figure.figsize']=[10,10]"
   ]
  },
  {
   "cell_type": "markdown",
   "metadata": {},
   "source": [
    "## purpose from this tutorial\n",
    "\n",
    "* 1.define a regression loss function using real data.\n",
    "    It's easy to using tensorflow to define loss,parameters,and grad respect to loss\n",
    "* 2.draw the error courtouf\n",
    "* 3.compare your optimizer and tf implement\n",
    "* 4.how differnt alg converge"
   ]
  },
  {
   "cell_type": "code",
   "execution_count": 2,
   "metadata": {},
   "outputs": [],
   "source": [
    "def f(W,fileName='ex1data1.txt'):\n",
    "        '''\n",
    "            load a linear regression data,\n",
    "            then using tensorflow to construct ,loss= mean [(WX-Y)**2] X=[1,x].T Y=[y].T\n",
    "            \n",
    "            W is a input,can be any tensor(PlaceHolder,Variable) need Have shape [?,2]\n",
    "        \n",
    "            return loss,W\n",
    "        '''\n",
    "        df=pd.read_csv(fileName,names=['x','y'])\n",
    "        df=np.array(df)\n",
    "        \n",
    "        \n",
    "        xs,ys=x,y=df[:,0:1].T,df[:,1:2].T #shape [1,m]\n",
    "        xs=np.concatenate([np.ones_like(xs),xs],axis=0) #shape [2,m]\n",
    "        assert(xs.shape[0]==2)\n",
    "        \n",
    "        #convert numpy array 2 tensor\n",
    "        X=tf.constant(value=xs,dtype=tf.float32) #shape (2,m)\n",
    "        Y=tf.constant(value=ys,dtype=tf.float32) #shape (1,m)\n",
    "\n",
    "        Yhat=tf.matmul(W,X)\n",
    "        loss=tf.reduce_mean((Yhat-Y)**2,axis=1)\n",
    "        \n",
    "\n",
    "        return loss\n",
    "def df(loss,W):\n",
    "    #loss is a scalar\n",
    "    dW=tf.gradients(loss,W)[0]\n",
    "    return dW"
   ]
  },
  {
   "cell_type": "markdown",
   "metadata": {},
   "source": [
    "# get a rough range of the optimal W"
   ]
  },
  {
   "cell_type": "code",
   "execution_count": 3,
   "metadata": {},
   "outputs": [
    {
     "name": "stdout",
     "output_type": "stream",
     "text": [
      "[[-3.895782   1.1930331]]\n",
      "time consume:10.11\n"
     ]
    }
   ],
   "source": [
    "tf.reset_default_graph()\n",
    "sess=tf.Session()\n",
    "W=tf.get_variable(name='W',shape=[1,2])\n",
    "loss=f(W,'ex1data1.txt')\n",
    "\n",
    "opt=tf.train.AdamOptimizer(0.1).minimize(loss)\n",
    "start=time.time()\n",
    "\n",
    "sess.run(tf.global_variables_initializer())\n",
    "for i in range(10000):\n",
    "    _l,_=sess.run([loss,opt])\n",
    "optimal_W=sess.run(W)\n",
    "\n",
    "print(optimal_W)\n",
    "print('time consume:{:.4}'.format(time.time()-start))\n",
    "sess.close()"
   ]
  },
  {
   "cell_type": "markdown",
   "metadata": {},
   "source": [
    "## The draw the contour graph"
   ]
  },
  {
   "cell_type": "code",
   "execution_count": 23,
   "metadata": {},
   "outputs": [
    {
     "data": {
      "image/png": "[encoded data removed]",
      "text/plain": [
       "<Figure size 432x288 with 2 Axes>"
      ]
     },
     "metadata": {},
     "output_type": "display_data"
    }
   ],
   "source": [
    "#define the showing range,and prepare for compute loss \n",
    "w1,w2=optimal_W[0][0],optimal_W[0][1]\n",
    "w1_range=np.linspace(w1-8000,w1+8000,2000)\n",
    "w2_range=np.linspace(w2+1000,w2-1000,1000) #notice reverse order\n",
    "np_W1,np_W2=np.meshgrid(w1_range,w2_range) #shape[400,300]\n",
    "np_params=np.stack([np_W1.ravel(),np_W2.ravel()],axis=1) #shape (12000,2)\n",
    "\n",
    "#lanch tensorflow graph\n",
    "tf.reset_default_graph()\n",
    "sess=tf.Session()\n",
    "W=tf.placeholder(shape=[None,2],dtype=tf.float32)\n",
    "loss=f(W,'ex1data1.txt')\n",
    "\n",
    "#get loss\n",
    "np_loss=sess.run(loss,feed_dict={W:np_params})\n",
    "np_loss=np.reshape(np_loss,np_W1.shape)\n",
    "\n",
    "plt.contourf(np_W1,np_W2,np_loss)\n",
    "plt.xlabel('w1')\n",
    "plt.ylabel('w2')\n",
    "plt.colorbar()\n",
    "sess.close()"
   ]
  },
  {
   "cell_type": "code",
   "execution_count": null,
   "metadata": {},
   "outputs": [],
   "source": [
    "def sgd(x0,df,lr=0.01,steps=10):\n",
    "    trace=[x0]\n",
    "    x=x0.copy()\n",
    "    for k in range(steps):\n",
    "        x=x-lr*df(x)\n",
    "        trace.append(x)\n",
    "    return np.array(trace)\n",
    "\n",
    "def sgd_momentum(x0,df,lr=0.01,steps=10,beta=0.9):\n",
    "    trace=[x0]\n",
    "    x=x0.copy()\n",
    "    v=0\n",
    "    for k in range(steps):\n",
    "        v=v*beta+df(x)*(1-beta)\n",
    "        x=x-lr*v\n",
    "        trace.append(x)\n",
    "        \n",
    "    return np.array(trace)\n",
    "\n",
    "def rms_prop(x0,df,lr=0.01,steps=10,beta=0.9,eps=1e-9):\n",
    "    trace=[x0]\n",
    "    x=x0.copy()\n",
    "    v=0\n",
    "    for k in range(steps):\n",
    "        dx=df(x)\n",
    "        v=v*beta+(dx**2)*(1-beta)\n",
    "        x=x-lr*dx/(np.sqrt(v)+eps)\n",
    "        trace.append(x)\n",
    "        \n",
    "    return np.array(trace)"
   ]
  },
  {
   "cell_type": "code",
   "execution_count": null,
   "metadata": {},
   "outputs": [],
   "source": [
    "xrange=np.linspace(-9,9,800)\n",
    "yrange=np.linspace(-2,2,300)\n",
    "\n",
    "x,y=np.meshgrid(xrange,yrange)\n",
    "f=lambda x,y:(x**2)/9+10*y**2\n",
    "df=lambda x:np.array([2/9*x[0],20*x[1]])\n",
    "plt.contourf(x,y,f(x,y))\n",
    "\n",
    "lr,steps=0.01,1000\n",
    "x0=np.array([-8,1.6])\n",
    "# for sgd\n",
    "path=sgd(x0,df,lr=lr,steps=steps)\n",
    "plt.plot(path[:,0],path[:,1],'r')\n",
    "\n",
    "#sgd with momentum\n",
    "# path=sgd_momentum(x0,df,lr=lr,steps=steps)\n",
    "# plt.plot(path[:,0],path[:,1],'g')\n",
    "\n",
    "\n",
    "#rmsprop with momentum\n",
    "# path=rms_prop(x0,df,lr=lr,steps=steps)\n",
    "# plt.plot(path[:,0],path[:,1],'b')\n",
    "\n",
    "plt.legend(['sgd','sgd_moment','rmsprop'])\n",
    "\n"
   ]
  }
 ],
 "metadata": {
  "kernelspec": {
   "display_name": "Python 3",
   "language": "python",
   "name": "python3"
  },
  "language_info": {
   "codemirror_mode": {
    "name": "ipython",
    "version": 3
   },
   "file_extension": ".py",
   "mimetype": "text/x-python",
   "name": "python",
   "nbconvert_exporter": "python",
   "pygments_lexer": "ipython3",
   "version": "3.5.2"
  }
 },
 "nbformat": 4,
 "nbformat_minor": 2
}
