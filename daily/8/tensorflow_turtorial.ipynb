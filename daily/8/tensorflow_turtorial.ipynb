{
 "cells": [
  {
   "cell_type": "markdown",
   "metadata": {},
   "source": [
    "problem1  assign value to tensor variable"
   ]
  },
  {
   "cell_type": "code",
   "execution_count": 2,
   "metadata": {
    "collapsed": false
   },
   "outputs": [
    {
     "name": "stderr",
     "output_type": "stream",
     "text": [
      "WARNING:tensorflow:From /usr/local/lib/python3.5/dist-packages/tensorflow/contrib/learn/python/learn/datasets/base.py:198: retry (from tensorflow.contrib.learn.python.learn.datasets.base) is deprecated and will be removed in a future version.\n",
      "Instructions for updating:\n",
      "Use the retry module or similar alternatives.\n"
     ]
    }
   ],
   "source": [
    "import tensorflow as tf\n",
    "from tensorflow.contrib.eager.python import tfe\n",
    "import numpy as np"
   ]
  },
  {
   "cell_type": "markdown",
   "metadata": {},
   "source": [
    "\n",
    "# problem1 :assign value to tensor variable"
   ]
  },
  {
   "cell_type": "code",
   "execution_count": null,
   "metadata": {
    "collapsed": false
   },
   "outputs": [],
   "source": [
    "tf.reset_default_graph()\n",
    "W=tf.get_variable('W',shape=[])\n",
    "\n",
    "sess=tf.Session()\n",
    "sess.run(tf.global_variables_initializer())\n",
    "sess.run(W.assign(2.0))\n",
    "print(sess.run(W))\n",
    "sess.close()"
   ]
  },
  {
   "cell_type": "markdown",
   "metadata": {},
   "source": [
    "# problem2:how to remove trainable variable"
   ]
  },
  {
   "cell_type": "code",
   "execution_count": null,
   "metadata": {
    "collapsed": false
   },
   "outputs": [],
   "source": [
    "tf.reset_default_graph()\n",
    "def nn():\n",
    "    W1=tf.get_variable('W1',shape=[])\n",
    "    W2=tf.get_variable('W2',shape=[])\n",
    "    cost=W1+W2\n",
    "    return (W1,W2,cost)\n",
    "W1,W2,cost=nn()\n",
    "opt=tf.train.GradientDescentOptimizer(1).minimize(cost)\n",
    "\n",
    "\n",
    "sess=tf.InteractiveSession()\n",
    "sess.run(W1.assign(5.0))\n",
    "sess.run(W2.assign(5.0))\n",
    "\n",
    "for i in range(1):\n",
    "    sess.run(opt)\n",
    "print(tf.trainable_variables())\n",
    "print(cost.eval()) #output 8\n",
    "\n",
    "opt=tf.train.GradientDescentOptimizer(1).minimize(cost,var_list=[W2])\n",
    "#train nn again\n",
    "for i in range(1):\n",
    "    sess.run(opt) \n",
    "print(cost.eval()) #output 7"
   ]
  },
  {
   "cell_type": "markdown",
   "metadata": {
    "collapsed": true
   },
   "source": [
    "problem3:share parameter"
   ]
  },
  {
   "cell_type": "code",
   "execution_count": null,
   "metadata": {
    "collapsed": false
   },
   "outputs": [],
   "source": [
    "tf.reset_default_graph()\n",
    "tf.set_random_seed(1)\n",
    "\n",
    "def nn(X):\n",
    "    #create variables if they do not exist, and return them otherwise;\n",
    "    with tf.variable_scope('s1',reuse=tf.AUTO_REUSE):  \n",
    "        W=tf.get_variable('W',shape=[])\n",
    "        out=X*W\n",
    "    return out\n",
    "def compute_cost(f1,f2):\n",
    "    return f1+f2\n",
    "X1=tf.constant(-5.0)\n",
    "X2=tf.constant(3.0)\n",
    "\n",
    "loss=compute_cost(nn(X1),nn(X2)) #loss=-2W,gradient=-2 new loss=-2(w+2)=-2w-4\n",
    "opt=tf.train.GradientDescentOptimizer(1).minimize(loss)\n",
    "\n",
    "sess=tf.InteractiveSession()\n",
    "sess.run(tf.global_variables_initializer())\n",
    "for i in range(3):\n",
    "    sess.run(opt)\n",
    "    _c=sess.run(loss)\n",
    "    #notice grad=X1+X2,cost=X1(W-X1-X2)+X2(W-X1-X2)=cost_old-(X1+X2)**2\n",
    "    print(_c)\n"
   ]
  },
  {
   "cell_type": "markdown",
   "metadata": {
    "collapsed": true
   },
   "source": [
    "# WEEK 1 <a href='https://www.coursera.org/learn/intro-tensorflow/lecture/n691C/tensors'>turtorial 1</a>"
   ]
  },
  {
   "cell_type": "code",
   "execution_count": 13,
   "metadata": {
    "collapsed": true
   },
   "outputs": [],
   "source": [
    "import tensorflow as tf\n",
    "import tensorboard\n",
    "import numpy as np\n",
    "#tensorflow can work on eager mode,notice  tfe.enable_eager_execution() must be call at startup,call only once"
   ]
  },
  {
   "cell_type": "code",
   "execution_count": 14,
   "metadata": {
    "collapsed": false
   },
   "outputs": [
    {
     "name": "stdout",
     "output_type": "stream",
     "text": [
      "Tensor(\"Const_1:0\", shape=(), dtype=float32)\n"
     ]
    }
   ],
   "source": [
    "# tfe.enable_eager_execution()\n",
    "a=tf.constant(1.0)\n",
    "print(a)"
   ]
  },
  {
   "cell_type": "code",
   "execution_count": 15,
   "metadata": {
    "collapsed": false
   },
   "outputs": [
    {
     "name": "stdout",
     "output_type": "stream",
     "text": [
      "1.0\n"
     ]
    }
   ],
   "source": [
    "#evaluate tensor\n",
    "with tf.Session() as sess:\n",
    "    print(a.eval()) #eval mean evaluate a at content of sess,a shortcut of sess.run(a)"
   ]
  },
  {
   "cell_type": "code",
   "execution_count": 7,
   "metadata": {
    "collapsed": true
   },
   "outputs": [],
   "source": [
    "#visualization,using tensorboard\n",
    "\n",
    "x=tf.constant(3.0,name='x')\n",
    "y=tf.constant(3.0,name='y')\n",
    "z=tf.add(x,y,name='z')"
   ]
  },
  {
   "cell_type": "code",
   "execution_count": 12,
   "metadata": {
    "collapsed": false
   },
   "outputs": [],
   "source": [
    "with tf.Session() as sess:\n",
    "    #tensorboard --port 8080 --logdir=/home/zhangxk/PycharmProjects/untitled/deepAI/daily/8/summary\n",
    "    with tf.summary.FileWriter('summary',sess.graph) as writer:\n",
    "        pass\n",
    "    "
   ]
  },
  {
   "cell_type": "markdown",
   "metadata": {},
   "source": [
    "<img src='images/tensor.png' />"
   ]
  },
  {
   "cell_type": "markdown",
   "metadata": {},
   "source": [
    "<a href='https://www.tensorflow.org/api_docs/python/tf/stack'>stack doc</a>"
   ]
  },
  {
   "cell_type": "code",
   "execution_count": 35,
   "metadata": {
    "collapsed": false
   },
   "outputs": [],
   "source": [
    "def tensorEx():\n",
    "    tf.reset_default_graph()\n",
    "    x1=tf.constant([1,2,3],name='x1') #(3,)\n",
    "    x2=tf.stack([x1 ,x1],name='x2') #(2,3)\n",
    "    x3=tf.stack([x2,x2,x2,x2],name='x3') #(4,2,3)\n",
    "    x4=tf.stack([x3,x3],name='x4') #(2,4,2,3)\n",
    "    print('x1 shape:'+str(x1.shape))\n",
    "    print('x2 shape:'+str(x2.shape))\n",
    "    print('x3 shape:'+str(x3.shape))\n",
    "    print('x4 shape:'+str(x4.shape))\n",
    "    \n",
    "    #this is a example of inception implement\n",
    "    conv3=tf.constant(np.random.randn(100,14,14,32),name='3x3')\n",
    "    conv5=tf.constant(np.random.randn(100,14,14,16),name='5x5')\n",
    "    conv7=tf.constant(np.random.randn(100,14,14,8),name='7x7')\n",
    "    out=tf.concat([conv3,conv5,conv7],axis=3,name='out')\n",
    "    print('out shape:'+str(out.shape))\n",
    "    with tf.Session() as sess:\n",
    "        with tf.summary.FileWriter('summary/',sess.graph) as writer:\n",
    "            pass"
   ]
  },
  {
   "cell_type": "code",
   "execution_count": 36,
   "metadata": {
    "collapsed": false
   },
   "outputs": [
    {
     "name": "stdout",
     "output_type": "stream",
     "text": [
      "x1 shape:(3,)\n",
      "x2 shape:(2, 3)\n",
      "x3 shape:(4, 2, 3)\n",
      "x4 shape:(2, 4, 2, 3)\n",
      "out shape:(100, 14, 14, 56)\n"
     ]
    }
   ],
   "source": [
    "tensorEx()"
   ]
  },
  {
   "cell_type": "code",
   "execution_count": null,
   "metadata": {
    "collapsed": true
   },
   "outputs": [],
   "source": []
  }
 ],
 "metadata": {
  "kernelspec": {
   "display_name": "Python 3",
   "language": "python",
   "name": "python3"
  },
  "language_info": {
   "codemirror_mode": {
    "name": "ipython",
    "version": 3
   },
   "file_extension": ".py",
   "mimetype": "text/x-python",
   "name": "python",
   "nbconvert_exporter": "python",
   "pygments_lexer": "ipython3",
   "version": "3.5.2"
  }
 },
 "nbformat": 4,
 "nbformat_minor": 0
}
