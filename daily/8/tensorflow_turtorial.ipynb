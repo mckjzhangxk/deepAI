{
 "cells": [
  {
   "cell_type": "markdown",
   "metadata": {},
   "source": [
    "problem1  assign value to tensor variable"
   ]
  },
  {
   "cell_type": "code",
   "execution_count": 1,
   "metadata": {
    "collapsed": false
   },
   "outputs": [
    {
     "name": "stderr",
     "output_type": "stream",
     "text": [
      "WARNING:tensorflow:From /usr/local/lib/python3.5/dist-packages/tensorflow/contrib/learn/python/learn/datasets/base.py:198: retry (from tensorflow.contrib.learn.python.learn.datasets.base) is deprecated and will be removed in a future version.\n",
      "Instructions for updating:\n",
      "Use the retry module or similar alternatives.\n"
     ]
    }
   ],
   "source": [
    "import tensorflow as tf\n",
    "from tensorflow.contrib.eager.python import tfe\n",
    "import numpy as np"
   ]
  },
  {
   "cell_type": "markdown",
   "metadata": {},
   "source": [
    "\n",
    "# problem1 :assign value to tensor variable"
   ]
  },
  {
   "cell_type": "code",
   "execution_count": null,
   "metadata": {
    "collapsed": false
   },
   "outputs": [],
   "source": [
    "tf.reset_default_graph()\n",
    "W=tf.get_variable('W',shape=[])\n",
    "\n",
    "sess=tf.Session()\n",
    "sess.run(tf.global_variables_initializer())\n",
    "sess.run(W.assign(2.0))\n",
    "print(sess.run(W))\n",
    "sess.close()"
   ]
  },
  {
   "cell_type": "markdown",
   "metadata": {},
   "source": [
    "# problem2:how to remove trainable variable"
   ]
  },
  {
   "cell_type": "code",
   "execution_count": null,
   "metadata": {
    "collapsed": false
   },
   "outputs": [],
   "source": [
    "tf.reset_default_graph()\n",
    "def nn():\n",
    "    W1=tf.get_variable('W1',shape=[])\n",
    "    W2=tf.get_variable('W2',shape=[])\n",
    "    cost=W1+W2\n",
    "    return (W1,W2,cost)\n",
    "W1,W2,cost=nn()\n",
    "opt=tf.train.GradientDescentOptimizer(1).minimize(cost)\n",
    "\n",
    "\n",
    "sess=tf.InteractiveSession()\n",
    "sess.run(W1.assign(5.0))\n",
    "sess.run(W2.assign(5.0))\n",
    "\n",
    "for i in range(1):\n",
    "    sess.run(opt)\n",
    "print(tf.trainable_variables())\n",
    "print(cost.eval()) #output 8\n",
    "\n",
    "opt=tf.train.GradientDescentOptimizer(1).minimize(cost,var_list=[W2])\n",
    "#train nn again\n",
    "for i in range(1):\n",
    "    sess.run(opt) \n",
    "print(cost.eval()) #output 7"
   ]
  },
  {
   "cell_type": "markdown",
   "metadata": {
    "collapsed": true
   },
   "source": [
    "problem3:share parameter"
   ]
  },
  {
   "cell_type": "code",
   "execution_count": null,
   "metadata": {
    "collapsed": false
   },
   "outputs": [],
   "source": [
    "tf.reset_default_graph()\n",
    "tf.set_random_seed(1)\n",
    "\n",
    "def nn(X):\n",
    "    #create variables if they do not exist, and return them otherwise;\n",
    "    with tf.variable_scope('s1',reuse=tf.AUTO_REUSE):  \n",
    "        W=tf.get_variable('W',shape=[])\n",
    "        out=X*W\n",
    "    return out\n",
    "def compute_cost(f1,f2):\n",
    "    return f1+f2\n",
    "X1=tf.constant(-5.0)\n",
    "X2=tf.constant(3.0)\n",
    "\n",
    "loss=compute_cost(nn(X1),nn(X2)) #loss=-2W,gradient=-2 new loss=-2(w+2)=-2w-4\n",
    "opt=tf.train.GradientDescentOptimizer(1).minimize(loss)\n",
    "\n",
    "sess=tf.InteractiveSession()\n",
    "sess.run(tf.global_variables_initializer())\n",
    "for i in range(3):\n",
    "    sess.run(opt)\n",
    "    _c=sess.run(loss)\n",
    "    #notice grad=X1+X2,cost=X1(W-X1-X2)+X2(W-X1-X2)=cost_old-(X1+X2)**2\n",
    "    print(_c)\n"
   ]
  },
  {
   "cell_type": "markdown",
   "metadata": {
    "collapsed": true
   },
   "source": [
    "# WEEK 1 <a href='https://www.coursera.org/learn/intro-tensorflow/lecture/n691C/tensors'>turtorial 1</a>"
   ]
  },
  {
   "cell_type": "code",
   "execution_count": 13,
   "metadata": {
    "collapsed": true
   },
   "outputs": [],
   "source": [
    "import tensorflow as tf\n",
    "import tensorboard\n",
    "import numpy as np\n",
    "#tensorflow can work on eager mode,notice  tfe.enable_eager_execution() must be call at startup,call only once"
   ]
  },
  {
   "cell_type": "code",
   "execution_count": 14,
   "metadata": {
    "collapsed": false
   },
   "outputs": [
    {
     "name": "stdout",
     "output_type": "stream",
     "text": [
      "Tensor(\"Const_1:0\", shape=(), dtype=float32)\n"
     ]
    }
   ],
   "source": [
    "# tfe.enable_eager_execution()\n",
    "a=tf.constant(1.0)\n",
    "print(a)"
   ]
  },
  {
   "cell_type": "code",
   "execution_count": 15,
   "metadata": {
    "collapsed": false
   },
   "outputs": [
    {
     "name": "stdout",
     "output_type": "stream",
     "text": [
      "1.0\n"
     ]
    }
   ],
   "source": [
    "#evaluate tensor\n",
    "with tf.Session() as sess:\n",
    "    print(a.eval()) #eval mean evaluate a at content of sess,a shortcut of sess.run(a)"
   ]
  },
  {
   "cell_type": "code",
   "execution_count": 7,
   "metadata": {
    "collapsed": true
   },
   "outputs": [],
   "source": [
    "#visualization,using tensorboard\n",
    "\n",
    "x=tf.constant(3.0,name='x')\n",
    "y=tf.constant(3.0,name='y')\n",
    "z=tf.add(x,y,name='z')"
   ]
  },
  {
   "cell_type": "code",
   "execution_count": 12,
   "metadata": {
    "collapsed": false
   },
   "outputs": [],
   "source": [
    "with tf.Session() as sess:\n",
    "    #tensorboard --port 8080 --logdir=/home/zhangxk/PycharmProjects/untitled/deepAI/daily/8/summary\n",
    "    with tf.summary.FileWriter('summary',sess.graph) as writer:\n",
    "        pass\n",
    "    "
   ]
  },
  {
   "cell_type": "markdown",
   "metadata": {},
   "source": [
    "<img src='images/tensor.png' />"
   ]
  },
  {
   "cell_type": "markdown",
   "metadata": {},
   "source": [
    "<a href='https://www.tensorflow.org/api_docs/python/tf/stack'>stack doc</a>"
   ]
  },
  {
   "cell_type": "code",
   "execution_count": 35,
   "metadata": {
    "collapsed": false
   },
   "outputs": [],
   "source": [
    "def tensorEx():\n",
    "    tf.reset_default_graph()\n",
    "    x1=tf.constant([1,2,3],name='x1') #(3,)\n",
    "    x2=tf.stack([x1 ,x1],name='x2') #(2,3)\n",
    "    x3=tf.stack([x2,x2,x2,x2],name='x3') #(4,2,3)\n",
    "    x4=tf.stack([x3,x3],name='x4') #(2,4,2,3)\n",
    "    print('x1 shape:'+str(x1.shape))\n",
    "    print('x2 shape:'+str(x2.shape))\n",
    "    print('x3 shape:'+str(x3.shape))\n",
    "    print('x4 shape:'+str(x4.shape))\n",
    "    \n",
    "    #this is a example of inception implement\n",
    "    conv3=tf.constant(np.random.randn(100,14,14,32),name='3x3')\n",
    "    conv5=tf.constant(np.random.randn(100,14,14,16),name='5x5')\n",
    "    conv7=tf.constant(np.random.randn(100,14,14,8),name='7x7')\n",
    "    out=tf.concat([conv3,conv5,conv7],axis=3,name='out')\n",
    "    print('out shape:'+str(out.shape))\n",
    "    with tf.Session() as sess:\n",
    "        with tf.summary.FileWriter('summary/',sess.graph) as writer:\n",
    "            pass"
   ]
  },
  {
   "cell_type": "code",
   "execution_count": 36,
   "metadata": {
    "collapsed": false
   },
   "outputs": [
    {
     "name": "stdout",
     "output_type": "stream",
     "text": [
      "x1 shape:(3,)\n",
      "x2 shape:(2, 3)\n",
      "x3 shape:(4, 2, 3)\n",
      "x4 shape:(2, 4, 2, 3)\n",
      "out shape:(100, 14, 14, 56)\n"
     ]
    }
   ],
   "source": [
    "tensorEx()"
   ]
  },
  {
   "cell_type": "markdown",
   "metadata": {
    "collapsed": true
   },
   "source": [
    "## Common Error\n",
    "### 1.Shape error\n",
    "<a href='https://www.tensorflow.org/api_docs/python/tf/slice'>slice</a> <a href='https://www.tensorflow.org/api_docs/python/tf/squeeze'>squeeze</a> <a href='https://www.tensorflow.org/api_docs/python/tf/expand_dims'>expand_dims</a>"
   ]
  },
  {
   "cell_type": "code",
   "execution_count": 6,
   "metadata": {
    "collapsed": false
   },
   "outputs": [
    {
     "name": "stdout",
     "output_type": "stream",
     "text": [
      "(2, 3)\n"
     ]
    }
   ],
   "source": [
    "def shape_error():\n",
    "    A=tf.constant(shape=[2,3,4],value=1.0)\n",
    "    B=tf.constant(shape=[2,3],value=1.0)\n",
    "    #to fix error\n",
    "    \n",
    "    #1.B need rank 3,so expend [2,3,1] then brost cast\n",
    "    #B=tf.expand_dims(B,axis=2)\n",
    "    \n",
    "    #2.convert A to a (2,3) matrix\n",
    "    A=tf.slice(A,begin=[0,0,0],size=[2,3,1]) #A[0:2,0:3,0:1],shape[2,3,1]\n",
    "    A=tf.squeeze(A,axis=-1)\n",
    "    \n",
    "    C=A+B\n",
    "    \n",
    "    print(C.get_shape())\n",
    "shape_error()"
   ]
  },
  {
   "cell_type": "markdown",
   "metadata": {},
   "source": [
    "### 2.DataType errpr <a href='https://www.tensorflow.org/api_docs/python/tf/cast'>cast</a> "
   ]
  },
  {
   "cell_type": "code",
   "execution_count": 8,
   "metadata": {
    "collapsed": false
   },
   "outputs": [],
   "source": [
    "def dataType_error():\n",
    "    A=tf.constant(shape=[2,3],value=1)\n",
    "    B=tf.constant(shape=[2,3],value=1.0)\n",
    "    \n",
    "    B=tf.cast(B,tf.int32)\n",
    "    C=A+B\n",
    "dataType_error()"
   ]
  },
  {
   "cell_type": "markdown",
   "metadata": {},
   "source": [
    "### 3. USE debuger"
   ]
  },
  {
   "cell_type": "code",
   "execution_count": null,
   "metadata": {
    "collapsed": false
   },
   "outputs": [
    {
     "name": "stdout",
     "output_type": "stream",
     "text": [
      "run-start: run #1: 1 fetch (s_normal:0); 2 feeds\n",
      "\n",
      "TTTTTT FFFF DDD  BBBB   GGG \n",
      "  TT   F    D  D B   B G    \n",
      "  TT   FFF  D  D BBBB  G  GG\n",
      "  TT   F    D  D B   B G   G\n",
      "  TT   F    DDD  BBBB   GGG \n",
      "\n",
      "======================================\n",
      "Session.run() call #1:\n",
      "\n",
      "Fetch(es):\n",
      "  s_normal:0\n",
      "\n",
      "Feed dict:\n",
      "  a:0\n",
      "  b:0\n",
      "======================================\n",
      "\n",
      "Select one of the following commands to proceed ---->\n",
      "  run:\n",
      "    Execute the run() call with debug tensor-watching\n",
      "  run -n:\n",
      "    Execute the run() call without debug tensor-watching\n",
      "  run -t <T>:\n",
      "    Execute run() calls (T - 1) times without debugging, then execute run() once more with debugging and drop back to the CLI\n",
      "  run -f <filter_name>:\n",
      "    Keep executing run() calls until a dumped tensor passes a given, registered filter (conditional breakpoint mode)\n",
      "    Registered filter(s):\n",
      "        * has_inf_or_nan\n",
      "  invoke_stepper:\n",
      "    Use the node-stepper interface, which allows you to interactively step through nodes involved in the graph run() call and inspect/modify their values\n",
      "\n",
      "For more details, see help..\n",
      "\n",
      "\n",
      "tfdbg> run -f has_inf_or_nan\n",
      "run-end: run #1: 1 fetch (s_normal:0); 2 feeds\n",
      "4 dumped tensor(s) passing filter \"has_inf_or_nan\":\n",
      "\n",
      "t (ms)   Size (B) Op type   Tensor name\n",
      "[0.000]  198      RealDiv   a/b:0\n",
      "[0.317]  214      Transpose s_transpose:0\n",
      "[0.389]  202      MatMul    s_normal2:0\n",
      "[0.440]  200      Sqrt      s_normal:0\n",
      "\n",
      "tfdbg> pt a/b\n",
      "Tensor \"a/b:0:DebugIdentity\":\n",
      "  dtype: float32\n",
      "  shape: (2, 3)\n",
      "\n",
      "array([[ 2.5       ,         inf,  1.41999996],\n",
      "       [ 1.14999998,  0.51249999,  0.6857143 ]], dtype=float32)\n",
      "\n",
      "tfdbg> pt s_transpose\n",
      "Tensor \"s_transpose:0:DebugIdentity\":\n",
      "  dtype: float32\n",
      "  shape: (3, 2)\n",
      "\n",
      "array([[ 2.5       ,  1.14999998],\n",
      "       [        inf,  0.51249999],\n",
      "       [ 1.41999996,  0.6857143 ]], dtype=float32)\n",
      "\n",
      "tfdbg> pt_s_normal2:0\n",
      "ERROR: Invalid command prefix \"pt_s_normal2:0\"\n",
      "\n",
      "tfdbg> pt s_normal2:0\n",
      "Tensor \"s_normal2:0:DebugIdentity\":\n",
      "  dtype: float32\n",
      "  shape: (2, 2)\n",
      "\n",
      "array([[        inf,         inf],\n",
      "       [        inf,  2.05536032]], dtype=float32)\n",
      "\n",
      "tfdbg> li a/b\n",
      "Inputs to node \"a/b\" (Depth limit = 1):\n",
      "|- (1) _arg_a_0_0\n",
      "|- (1) _arg_b_0_1\n",
      "\n",
      "Legend:\n",
      "  (d): recursion depth = d.\n",
      "\n",
      "tfdbg> li s_transpose\n",
      "Inputs to node \"s_transpose\" (Depth limit = 1):\n",
      "|- (1) a/b\n",
      "|  |- ...\n",
      "|- (1) s_transpose/sub_1\n",
      "\n",
      "Legend:\n",
      "  (d): recursion depth = d.\n",
      "\n"
     ]
    }
   ],
   "source": [
    "import tensorflow as tf\n",
    "from tensorflow.python import debug as tf_debug\n",
    "\n",
    "def mydiv(a, b):\n",
    "    s = tf.div(a,b,name='a/b')\n",
    "    s2 = tf.matmul(s, tf.transpose(s,name='s_transpose'),name='s_normal2')\n",
    "    return tf.sqrt(s2,name='s_normal')\n",
    "\n",
    "with tf.Session() as sess:\n",
    "    fake_a = [\n",
    "      [5.0, 3.0, 7.1],\n",
    "      [2.3, 4.1, 4.8],\n",
    "    ]\n",
    "    fake_b = [\n",
    "      [2, 0, 5],\n",
    "      [2, 8, 7]\n",
    "    ]\n",
    "    a = tf.placeholder(tf.float32, shape=[2, 3],name='a')\n",
    "    b = tf.placeholder(tf.float32, shape=[2, 3],name='b')\n",
    "    k = mydiv(a, b)\n",
    "  \n",
    "  # Note: won't work without the ui_type=\"readline\" argument because\n",
    "  # Datalab is not an interactive terminal and doesn't support the default \"curses\" ui_type.\n",
    "  # If you are running this a standalone program, omit the ui_type parameter and add --debug\n",
    "  # when invoking the TensorFlow program\n",
    "  #      --debug (e.g: python debugger.py --debug )\n",
    "    sess = tf_debug.LocalCLIDebugWrapperSession(sess, ui_type=\"readline\")\n",
    "    sess.add_tensor_filter(\"has_inf_or_nan\", tf_debug.has_inf_or_nan)\n",
    "    print(sess.run(k, feed_dict = {a: fake_a, b: fake_b}))"
   ]
  },
  {
   "cell_type": "markdown",
   "metadata": {},
   "source": [
    "In the tfdbg> window that comes up, try the following:\n",
    "* run -f has_inf_or_nan\n",
    "* Notice that several tensors are dumped once the filter criterion is met\n",
    "* List the inputs to a specific tensor:\n",
    "* li transpose:0 \n",
    "* Print the value of a tensor\n",
    "* pt transpose:0\n",
    "* Where is the inf?\n",
    "\n",
    "Visit https://www.tensorflow.org/programmers_guide/debugger for usage details of tfdbg"
   ]
  },
  {
   "cell_type": "code",
   "execution_count": null,
   "metadata": {
    "collapsed": true
   },
   "outputs": [],
   "source": []
  }
 ],
 "metadata": {
  "kernelspec": {
   "display_name": "Python 3",
   "language": "python",
   "name": "python3"
  },
  "language_info": {
   "codemirror_mode": {
    "name": "ipython",
    "version": 3
   },
   "file_extension": ".py",
   "mimetype": "text/x-python",
   "name": "python",
   "nbconvert_exporter": "python",
   "pygments_lexer": "ipython3",
   "version": "3.5.2"
  }
 },
 "nbformat": 4,
 "nbformat_minor": 0
}
