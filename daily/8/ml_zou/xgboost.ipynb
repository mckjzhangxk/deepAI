{
 "cells": [
  {
   "cell_type": "code",
   "execution_count": 188,
   "metadata": {
    "collapsed": true
   },
   "outputs": [],
   "source": [
    "import numpy as np\n",
    "import xgboost as xgb\n",
    "import matplotlib.pyplot as plt \n",
    "import pandas as pd\n",
    "from sklearn.model_selection import train_test_split\n",
    "%matplotlib inline"
   ]
  },
  {
   "cell_type": "code",
   "execution_count": 60,
   "metadata": {
    "collapsed": false
   },
   "outputs": [
    {
     "name": "stdout",
     "output_type": "stream",
     "text": [
      "[08:33:10] 6513x126 matrix with 143286 entries loaded from ./12.XGBoost/agaricus_train.txt\n",
      "[08:33:10] 1611x126 matrix with 35442 entries loaded from ./12.XGBoost/agaricus_test.txt\n",
      "\n",
      "there are #6513 in train set,3140 are positive\n",
      "there are #1611 in test set,776 are positive\n",
      "there are 126 cols\n"
     ]
    }
   ],
   "source": [
    "xtrain=xgb.DMatrix('./12.XGBoost/agaricus_train.txt')\n",
    "ytrain=xtrain.get_label()\n",
    "xtest=xgb.DMatrix('./12.XGBoost/agaricus_test.txt')\n",
    "ytest=xtest.get_label()\n",
    "print()\n",
    "print('there are #%d in train set,%d are positive'%(xtrain.num_row(),np.sum(ytrain)))\n",
    "print('there are #%d in test set,%d are positive'%(xtest.num_row(),np.sum(ytest)))\n",
    "print('there are %d cols'%(xtrain.num_col()))\n",
    "watch_list=[(xtrain,'trainSET'),(xtest,'testSET')]"
   ]
  },
  {
   "cell_type": "code",
   "execution_count": 162,
   "metadata": {
    "collapsed": false
   },
   "outputs": [
    {
     "name": "stdout",
     "output_type": "stream",
     "text": [
      "[0]\ttrainSET-error:0.046522\ttestSET-error:0.042831\n",
      "[1]\ttrainSET-error:0.022263\ttestSET-error:0.021726\n",
      "[2]\ttrainSET-error:0.0152\ttestSET-error:0.018001\n",
      "[3]\ttrainSET-error:0.0152\ttestSET-error:0.018001\n",
      "[4]\ttrainSET-error:0.007063\ttestSET-error:0.006207\n"
     ]
    }
   ],
   "source": [
    "def auc_eval(yhat,y):\n",
    "    yhat=yhat>=0.5\n",
    "    y=y.get_label()==1\n",
    "    tp=np.sum(y*yhat)\n",
    "    fp=np.sum((~y)*yhat)\n",
    "    tn=np.sum((~y)*(~yhat))\n",
    "    fn=np.sum(y*(~yhat))\n",
    "    tpr=(tp)/(tp+fn)\n",
    "    fpr=(fp)/(tn+fp)\n",
    "    return 'tpr',tpr\n",
    "def custom_obj(yhat,y):\n",
    "    '''\n",
    "    I set param objective to binary:logitraw,so yhat =logitraw\n",
    "    \n",
    "    Loss=(y,yhat)=-sum( y*log(sigmoid(yhat))+(1-y)*log(1-sigmoid(yhat)) )\n",
    "    \n",
    "    let sigmoid(yhat)=p\n",
    "    dloss/dp=(1-y)/(1-p) -y/p\n",
    "    dloss/dyhat=dloss/dp *p*(1-p)=p-y\n",
    "    \n",
    "    d2_loss/d_yhat2=p(1-p)\n",
    "    '''\n",
    "\n",
    "    y=y.get_label()\n",
    "    p=1/(1+np.exp(-yhat))\n",
    "    g=p-y\n",
    "    h=p*(1-p)\n",
    "    return g,h\n",
    "#https://xgboost.readthedocs.io/en/latest/parameter.html\n",
    "params={'max_depth':2,\n",
    "        'eta':1,\n",
    "        'silent':1,\n",
    "        'objective':'binary:logitraw',\n",
    "        'disable_default_eval_metric':1,\n",
    "#         'eval_metric':['error@0.5','logloss']\n",
    "        'eval_metric':['error@0.5']\n",
    "       }\n",
    "num_round=5\n",
    "eval_result={}\n",
    "# feval return a pair,(metric name,metric value)\n",
    "bst=xgb.train(params,xtrain,num_round,\n",
    "              evals=watch_list,\n",
    "              evals_result=eval_result\n",
    "#              ,feval=auc_eval\n",
    "             ,obj=custom_obj)\n",
    "# [0]\ttrainSET-error:0.482113\ttestSET-error:0.481688\ttrainSET-tpr:1\ttestSET-tpr:1\n",
    "# [1]\ttrainSET-error:0.482113\ttestSET-error:0.481688\ttrainSET-tpr:1\ttestSET-tpr:1\n",
    "# [2]\ttrainSET-error:0.482113\ttestSET-error:0.481688\ttrainSET-tpr:1\ttestSET-tpr:1"
   ]
  },
  {
   "cell_type": "code",
   "execution_count": 163,
   "metadata": {
    "collapsed": false
   },
   "outputs": [
    {
     "data": {
      "text/plain": [
       "<matplotlib.legend.Legend at 0x7fded1902eb8>"
      ]
     },
     "execution_count": 163,
     "metadata": {},
     "output_type": "execute_result"
    },
    {
     "data": {
      "image/png": "[encoded data removed]",
      "text/plain": [
       "<matplotlib.figure.Figure at 0x7fded1906c50>"
      ]
     },
     "metadata": {},
     "output_type": "display_data"
    }
   ],
   "source": [
    "plt.figure()\n",
    "for key,measure in eval_result.items():\n",
    "    plt.plot(measure['error'],label=key)\n",
    "plt.legend()"
   ]
  },
  {
   "cell_type": "markdown",
   "metadata": {},
   "source": [
    "# example 2 iris"
   ]
  },
  {
   "cell_type": "code",
   "execution_count": 269,
   "metadata": {
    "collapsed": false
   },
   "outputs": [
    {
     "name": "stderr",
     "output_type": "stream",
     "text": [
      "/usr/local/lib/python3.5/dist-packages/sklearn/model_selection/_split.py:2069: FutureWarning: From version 0.21, test_size will always complement train_size unless both are specified.\n",
      "  FutureWarning)\n"
     ]
    }
   ],
   "source": [
    "data=pd.read_csv('./8.Regression/iris.data',header=None)\n",
    "data[4]=pd.Categorical(data[4]).codes\n",
    "X,Y=data[[0,1,2,3]],data[4]\n",
    "trainX,testX,trainY,testY=train_test_split(X,Y,train_size=0.8,random_state=0)\n",
    "# Xtrain,Xtest,Ytrain,Ytest=train_test_split(Xdata)\n",
    "trainSet=xgb.DMatrix(trainX,trainY)\n",
    "testSet=xgb.DMatrix(testX,testY)"
   ]
  },
  {
   "cell_type": "code",
   "execution_count": 273,
   "metadata": {
    "collapsed": false
   },
   "outputs": [
    {
     "name": "stdout",
     "output_type": "stream",
     "text": [
      "[0]\ttrainset-merror:0.033333\ttestset-merror:0\n",
      "[1]\ttrainset-merror:0.041667\ttestset-merror:0.033333\n",
      "[2]\ttrainset-merror:0.008333\ttestset-merror:0\n",
      "[3]\ttrainset-merror:0\ttestset-merror:0\n",
      "[4]\ttrainset-merror:0\ttestset-merror:0\n",
      "[5]\ttrainset-merror:0\ttestset-merror:0\n",
      "[6]\ttrainset-merror:0\ttestset-merror:0\n",
      "[7]\ttrainset-merror:0\ttestset-merror:0\n"
     ]
    }
   ],
   "source": [
    "params={'max_depth':3,'eta':1,'silent':1,'objective':'multi:softmax','num_class':3}\n",
    "num_round=8\n",
    "bst=xgb.train(params,trainSet,num_round,evals=[(trainSet,'trainset'),(testSet,'testset')])"
   ]
  },
  {
   "cell_type": "code",
   "execution_count": 268,
   "metadata": {
    "collapsed": false
   },
   "outputs": [
    {
     "name": "stdout",
     "output_type": "stream",
     "text": [
      "0.0\n"
     ]
    }
   ],
   "source": [
    "ypred=bst.predict(testSet)\n",
    "print((ypred!=testSet.get_label()).mean())"
   ]
  },
  {
   "cell_type": "code",
   "execution_count": 263,
   "metadata": {
    "collapsed": false
   },
   "outputs": [
    {
     "data": {
      "text/plain": [
       "array([2., 1., 0., 2., 0., 2., 0., 1., 1., 1., 2., 1., 1., 1., 1., 0., 1.,\n",
       "       1., 0., 0., 2., 1., 0., 0., 2., 0., 0., 1., 1., 0.], dtype=float32)"
      ]
     },
     "execution_count": 263,
     "metadata": {},
     "output_type": "execute_result"
    }
   ],
   "source": [
    "ypred"
   ]
  },
  {
   "cell_type": "code",
   "execution_count": 247,
   "metadata": {
    "collapsed": false
   },
   "outputs": [
    {
     "data": {
      "text/plain": [
       "array([2., 1., 0., 2., 0., 2., 0., 1., 1., 1., 2., 1., 1., 1., 1., 0., 1.,\n",
       "       1., 0., 0., 2., 1., 0., 0., 2., 0., 0., 1., 1., 0.], dtype=float32)"
      ]
     },
     "execution_count": 247,
     "metadata": {},
     "output_type": "execute_result"
    }
   ],
   "source": [
    "testSet.get_label()"
   ]
  },
  {
   "cell_type": "code",
   "execution_count": null,
   "metadata": {
    "collapsed": true
   },
   "outputs": [],
   "source": []
  }
 ],
 "metadata": {
  "kernelspec": {
   "display_name": "Python 3",
   "language": "python",
   "name": "python3"
  },
  "language_info": {
   "codemirror_mode": {
    "name": "ipython",
    "version": 3
   },
   "file_extension": ".py",
   "mimetype": "text/x-python",
   "name": "python",
   "nbconvert_exporter": "python",
   "pygments_lexer": "ipython3",
   "version": "3.5.2"
  }
 },
 "nbformat": 4,
 "nbformat_minor": 0
}
