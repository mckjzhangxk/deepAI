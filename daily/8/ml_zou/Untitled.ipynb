{
 "cells": [
  {
   "cell_type": "code",
   "execution_count": 24,
   "metadata": {
    "collapsed": true
   },
   "outputs": [],
   "source": [
    "import numpy as np\n",
    "import matplotlib.pyplot as plt\n",
    "%matplotlib inline\n",
    "np.set_printoptions(precision=4)"
   ]
  },
  {
   "cell_type": "code",
   "execution_count": 123,
   "metadata": {
    "collapsed": true
   },
   "outputs": [],
   "source": [
    "def entropy(data):\n",
    "    data=np.array(data)\n",
    "    classes=np.unique(data)\n",
    "    \n",
    "    m=len(data)\n",
    "    n=len(classes)\n",
    "    if n<=1:return 0\n",
    "    \n",
    "    #cool part,I dont using for loop\n",
    "    data.shape=(-1,1)\n",
    "    classes.shape=(1,-1)\n",
    "    \n",
    "    dc=(data==classes) #mxn\n",
    "    distribution=np.sum(dc,axis=0)/m\n",
    "    \n",
    "    _entropy=np.sum(distribution*(np.log(1/distribution)))\n",
    "    return _entropy\n",
    "def cond_entropy(y1,y2):\n",
    "    entropy_y1=entropy(y1)\n",
    "    entropy_y2=entropy(y2)\n",
    "    m1,m2=len(y1),len(y2)\n",
    "    m=m1+m2\n",
    "    return (m1/m)*entropy_y1+(m2/m)*entropy_y2\n",
    "\n",
    "# def feature_select(x,y):\n",
    "#     print('original entropy ',entropy(y))\n",
    "#     I=[]\n",
    "#     for i in range(len(x)):\n",
    "#         t=x[i]\n",
    "#         I.append(cond_entropy(y[x<=t],y[x>t]))\n",
    "#     index=np.argmin(I)\n",
    "#     print('entropy after feature select')\n",
    "#     print(np.array(I))\n",
    "#     return x[index]\n",
    "def feature_select(x,y):\n",
    "    print('original entropy ',entropy(y))\n",
    "    asc_index=np.argsort(x)\n",
    "    x=x[asc_index]\n",
    "    y=y[asc_index]\n",
    "    \n",
    "    diff=np.diff(y,n=1)\n",
    "    tindex=np.where(diff!=0)[0]\n",
    "    thresolds=x[tindex]\n",
    "\n",
    "    \n",
    "    x.shape=(-1,1)\n",
    "    thresolds.shape=(1,-1)\n",
    "     \n",
    "    \n",
    "    #cool part\n",
    "    dc=x<=thresolds\n",
    "    m,t=dc.shape\n",
    "    I=[]\n",
    "    for i in range(t):\n",
    "        mask=dc[:,i]\n",
    "        I.append(cond_entropy(y[mask],y[~mask]))\n",
    "    index=np.argmin(I)\n",
    "    \n",
    "    print('entropy after feature select')\n",
    "    print(np.array(I))\n",
    "    x.shape=(-1,)\n",
    "    return x[tindex[index]]"
   ]
  },
  {
   "cell_type": "code",
   "execution_count": 120,
   "metadata": {
    "collapsed": false
   },
   "outputs": [],
   "source": [
    "x=np.arange(10)\n",
    "y=np.array([1,1,1,-1,-1,-1,1,1,1,-1])"
   ]
  },
  {
   "cell_type": "code",
   "execution_count": 122,
   "metadata": {
    "collapsed": false
   },
   "outputs": [
    {
     "name": "stdout",
     "output_type": "stream",
     "text": [
      "original entropy  0.6730116670092565\n",
      "entropy after feature select\n",
      "[0.6183 0.5545 0.478  0.6408 0.673  0.6408 0.669  0.6679 0.5729 0.673 ]\n",
      "[ 1  1  1 -1 -1 -1  1  1  1 -1]\n"
     ]
    }
   ],
   "source": [
    "feature_select(x,y)\n",
    "print(y)"
   ]
  },
  {
   "cell_type": "code",
   "execution_count": 44,
   "metadata": {
    "collapsed": false
   },
   "outputs": [
    {
     "name": "stdout",
     "output_type": "stream",
     "text": [
      "(array([ 0,  1,  2,  3,  4,  6,  7,  8, 10, 11, 12, 13, 15, 16, 17]),)\n"
     ]
    }
   ],
   "source": [
    "arr=np.array([1,1,1,134,45,3,46,45,65,3,23424,234,12,12,3,546,1,2])\n",
    "print(np.where(arr!=3))"
   ]
  },
  {
   "cell_type": "code",
   "execution_count": 48,
   "metadata": {
    "collapsed": false
   },
   "outputs": [],
   "source": [
    "a=np.array([True,False])"
   ]
  },
  {
   "cell_type": "code",
   "execution_count": 49,
   "metadata": {
    "collapsed": false
   },
   "outputs": [
    {
     "data": {
      "text/plain": [
       "array([ True, False])"
      ]
     },
     "execution_count": 49,
     "metadata": {},
     "output_type": "execute_result"
    }
   ],
   "source": [
    "a\n"
   ]
  },
  {
   "cell_type": "code",
   "execution_count": 52,
   "metadata": {
    "collapsed": false
   },
   "outputs": [
    {
     "data": {
      "text/plain": [
       "array([False,  True])"
      ]
     },
     "execution_count": 52,
     "metadata": {},
     "output_type": "execute_result"
    }
   ],
   "source": [
    "~ a"
   ]
  },
  {
   "cell_type": "code",
   "execution_count": null,
   "metadata": {
    "collapsed": true
   },
   "outputs": [],
   "source": []
  }
 ],
 "metadata": {
  "kernelspec": {
   "display_name": "Python 3",
   "language": "python",
   "name": "python3"
  },
  "language_info": {
   "codemirror_mode": {
    "name": "ipython",
    "version": 3
   },
   "file_extension": ".py",
   "mimetype": "text/x-python",
   "name": "python",
   "nbconvert_exporter": "python",
   "pygments_lexer": "ipython3",
   "version": "3.5.2"
  }
 },
 "nbformat": 4,
 "nbformat_minor": 0
}
