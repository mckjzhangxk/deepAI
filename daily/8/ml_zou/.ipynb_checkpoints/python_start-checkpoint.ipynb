{
 "cells": [
  {
   "cell_type": "code",
   "execution_count": 115,
   "metadata": {},
   "outputs": [],
   "source": [
    "import numpy as np\n",
    "import matplotlib.pyplot as plt\n",
    "import scipy as sp\n",
    "from scipy import stats\n",
    "import matplotlib as mtl\n",
    "\n",
    "mtl.rcParams['font.sans-serif']=[u'FangSong']\n",
    "np.set_printoptions(linewidth=120)"
   ]
  },
  {
   "cell_type": "markdown",
   "metadata": {},
   "source": [
    "## 1.1 Numpy 数组构造"
   ]
  },
  {
   "cell_type": "code",
   "execution_count": 2,
   "metadata": {},
   "outputs": [
    {
     "name": "stdout",
     "output_type": "stream",
     "text": [
      "[ 0.   2.5  5.   7.5 10. ]\n",
      "[1.e+00 1.e+01 1.e+02 1.e+03 1.e+04 1.e+05 1.e+06 1.e+07]\n",
      "[[ 0  1  2  3  4  5]\n",
      " [10 11 12 13 14 15]\n",
      " [20 21 22 23 24 25]\n",
      " [30 31 32 33 34 35]\n",
      " [40 41 42 43 44 45]\n",
      " [50 51 52 53 54 55]]\n"
     ]
    }
   ],
   "source": [
    "a=np.linspace(0,10,5) #缺省包括终止值\n",
    "print(a)\n",
    "a=np.logspace(0,7,8) #缺省包括终止值\n",
    "print(a)\n",
    "a=np.arange(0,60,10).reshape((-1,1))+np.arange(0,6,1)\n",
    "print(a)"
   ]
  },
  {
   "cell_type": "code",
   "execution_count": 3,
   "metadata": {},
   "outputs": [
    {
     "name": "stdout",
     "output_type": "stream",
     "text": [
      "[ 97  98  99 100 122]\n"
     ]
    },
    {
     "name": "stderr",
     "output_type": "stream",
     "text": [
      "/usr/local/lib/python3.5/dist-packages/ipykernel_launcher.py:3: DeprecationWarning: The binary mode of fromstring is deprecated, as it behaves surprisingly on unicode inputs. Use frombuffer instead\n",
      "  This is separate from the ipykernel package so we can avoid doing imports until\n"
     ]
    }
   ],
   "source": [
    "# 使用 frombuffer, fromstring, fromfile等函数可以从字节序列创建数组\n",
    "s='abcdz'\n",
    "g=np.fromstring(s,dtype=np.int8)\n",
    "print(g)"
   ]
  },
  {
   "cell_type": "markdown",
   "metadata": {},
   "source": [
    "## 1.2 Numpy 数组切片"
   ]
  },
  {
   "cell_type": "code",
   "execution_count": 4,
   "metadata": {},
   "outputs": [
    {
     "name": "stdout",
     "output_type": "stream",
     "text": [
      "[0 1 2 3 4 5 6 7 8 9]\n",
      "[3 4 5]\n",
      "[0 1 2 3 4]\n",
      "[3 4 5 6 7 8 9]\n",
      "[1 3 5 7]\n",
      "[9 8 7 6 5 4 3 2 1 0]\n"
     ]
    }
   ],
   "source": [
    "a = np.arange(10)\n",
    "print(a)\n",
    "print(a[3:6])\n",
    "print(a[:5])\n",
    "print(a[3:])\n",
    "print(a[1:9:2])\n",
    "print(a[::-1])"
   ]
  },
  {
   "cell_type": "code",
   "execution_count": 5,
   "metadata": {},
   "outputs": [
    {
     "name": "stdout",
     "output_type": "stream",
     "text": [
      "[  1.   4.  16.  64. 256.]\n",
      "a= [  1.   2.   4.   8.  16.  32.  64. 128. 256. 512.]\n",
      "b= [1000.    4.   16.   64.  256.]\n"
     ]
    }
   ],
   "source": [
    "#整数/布尔数组存取,使用整数序列作为下标获得的数组不和原始数组共享数据空间\n",
    "a = np.logspace(0, 9, 10, base=2) #[  1.   2.   4.   8.  16.  32.  64. 128. 256. 512.]\n",
    "i = np.arange(0, 10, 2) #[0 2 4 6 8]\n",
    "b=a[i]\n",
    "print(b)\n",
    "b[0]=1000\n",
    "print('a=',a)\n",
    "print('b=',b)"
   ]
  },
  {
   "cell_type": "code",
   "execution_count": 6,
   "metadata": {},
   "outputs": [
    {
     "name": "stdout",
     "output_type": "stream",
     "text": [
      "[0.94805309 0.89956702 0.7098774  0.71299416 0.44667909 0.01101033 0.54792901 0.0179761  0.75337116 0.48891338]\n",
      "[0.94805309 0.89956702 0.7098774  0.71299416 0.54792901 0.75337116]\n"
     ]
    }
   ],
   "source": [
    "a = np.random.rand(10)\n",
    "print(a)\n",
    "print(a[a>0.5])"
   ]
  },
  {
   "cell_type": "code",
   "execution_count": 7,
   "metadata": {},
   "outputs": [
    {
     "name": "stdout",
     "output_type": "stream",
     "text": [
      "[[ 0  1  2  3  4  5]\n",
      " [10 11 12 13 14 15]\n",
      " [20 21 22 23 24 25]\n",
      " [30 31 32 33 34 35]\n",
      " [40 41 42 43 44 45]\n",
      " [50 51 52 53 54 55]]\n"
     ]
    }
   ],
   "source": [
    "#二维数组的切片\n",
    "a = np.arange(0, 60, 10).reshape((-1, 1)) + np.arange(6)\n",
    "print(a)"
   ]
  },
  {
   "cell_type": "code",
   "execution_count": 8,
   "metadata": {},
   "outputs": [
    {
     "name": "stdout",
     "output_type": "stream",
     "text": [
      "[ 2 13 24]\n",
      "[42 43 44]\n",
      "[[42 43 44]\n",
      " [52 53 54]]\n"
     ]
    }
   ],
   "source": [
    "print(a[[0,1,2],[2,3,4]])\n",
    "print(a[4,[2,3,4]])\n",
    "print(a[4:,[2,3,4]])"
   ]
  },
  {
   "cell_type": "code",
   "execution_count": 9,
   "metadata": {},
   "outputs": [
    {
     "name": "stdout",
     "output_type": "stream",
     "text": [
      "[[ 0  1  2  3  4  5]\n",
      " [20 21 22 23 24 25]\n",
      " [50 51 52 53 54 55]]\n",
      "[ 2 23 54]\n",
      "[ 3 23 53]\n",
      "[[ 3]\n",
      " [23]\n",
      " [53]]\n"
     ]
    }
   ],
   "source": [
    "i = np.array([True, False, True, False, False, True])\n",
    "print(a[i])\n",
    "print(a[i,[2,3,4]])\n",
    "print(a[i,3])#降低维度\n",
    "print(a[i,3:4])#保持维度"
   ]
  },
  {
   "cell_type": "markdown",
   "metadata": {},
   "source": [
    "## 1.3 Numpy 去重复"
   ]
  },
  {
   "cell_type": "code",
   "execution_count": 10,
   "metadata": {},
   "outputs": [
    {
     "name": "stdout",
     "output_type": "stream",
     "text": [
      "原始数组： [1 2 3 4 5 5 7 3 2 2 8 8]\n",
      "去重后： [1 2 3 4 5 7 8]\n"
     ]
    }
   ],
   "source": [
    "a = np.array((1, 2, 3, 4, 5, 5, 7, 3, 2, 2, 8, 8))\n",
    "print('原始数组：', a)\n",
    "b=np.unique(a)\n",
    "print('去重后：', b)"
   ]
  },
  {
   "cell_type": "code",
   "execution_count": 11,
   "metadata": {},
   "outputs": [
    {
     "name": "stdout",
     "output_type": "stream",
     "text": [
      "[[1 2]\n",
      " [3 4]\n",
      " [5 6]\n",
      " [1 3]\n",
      " [3 4]\n",
      " [7 6]]\n"
     ]
    },
    {
     "data": {
      "text/plain": [
       "array([[1, 2],\n",
       "       [7, 6],\n",
       "       [1, 3],\n",
       "       [3, 4],\n",
       "       [5, 6]])"
      ]
     },
     "execution_count": 11,
     "metadata": {},
     "output_type": "execute_result"
    }
   ],
   "source": [
    "#二维数组的去重\n",
    "c = np.array(((1, 2), (3, 4), (5, 6), (1, 3), (3, 4), (7, 6)))\n",
    "print(c)\n",
    "#narray-->tuple->set->list->narray\n",
    "np.array(list(set([tuple(t) for t in c])))"
   ]
  },
  {
   "cell_type": "markdown",
   "metadata": {},
   "source": [
    "## 1.4 Numpy stack and axis"
   ]
  },
  {
   "cell_type": "code",
   "execution_count": 12,
   "metadata": {},
   "outputs": [],
   "source": [
    "a = np.arange(1, 10).reshape((3, 3))\n",
    "b = np.arange(11, 20).reshape((3, 3))\n",
    "c = np.arange(101, 110).reshape((3, 3))"
   ]
  },
  {
   "cell_type": "code",
   "execution_count": 13,
   "metadata": {},
   "outputs": [
    {
     "name": "stdout",
     "output_type": "stream",
     "text": [
      "axis=0 [[[  1   2   3]\n",
      "  [  4   5   6]\n",
      "  [  7   8   9]]\n",
      "\n",
      " [[ 11  12  13]\n",
      "  [ 14  15  16]\n",
      "  [ 17  18  19]]\n",
      "\n",
      " [[101 102 103]\n",
      "  [104 105 106]\n",
      "  [107 108 109]]]\n"
     ]
    }
   ],
   "source": [
    "print('axis=0',np.stack((a,b,c),axis=0))"
   ]
  },
  {
   "cell_type": "code",
   "execution_count": 14,
   "metadata": {},
   "outputs": [
    {
     "name": "stdout",
     "output_type": "stream",
     "text": [
      "axis=1 [[[  1   2   3]\n",
      "  [ 11  12  13]\n",
      "  [101 102 103]]\n",
      "\n",
      " [[  4   5   6]\n",
      "  [ 14  15  16]\n",
      "  [104 105 106]]\n",
      "\n",
      " [[  7   8   9]\n",
      "  [ 17  18  19]\n",
      "  [107 108 109]]]\n"
     ]
    }
   ],
   "source": [
    "print('axis=1',np.stack((a,b,c),axis=1))"
   ]
  },
  {
   "cell_type": "code",
   "execution_count": 15,
   "metadata": {},
   "outputs": [
    {
     "name": "stdout",
     "output_type": "stream",
     "text": [
      "axis=2 [[[  1  11 101]\n",
      "  [  2  12 102]\n",
      "  [  3  13 103]]\n",
      "\n",
      " [[  4  14 104]\n",
      "  [  5  15 105]\n",
      "  [  6  16 106]]\n",
      "\n",
      " [[  7  17 107]\n",
      "  [  8  18 108]\n",
      "  [  9  19 109]]]\n"
     ]
    }
   ],
   "source": [
    "print('axis=2',np.stack((a,b,c),axis=2))"
   ]
  },
  {
   "cell_type": "markdown",
   "metadata": {},
   "source": [
    "## 2.1 绘制高斯曲线"
   ]
  },
  {
   "cell_type": "code",
   "execution_count": 16,
   "metadata": {},
   "outputs": [
    {
     "name": "stderr",
     "output_type": "stream",
     "text": [
      "/usr/local/lib/python3.5/dist-packages/matplotlib/font_manager.py:1328: UserWarning: findfont: Font family ['sans-serif'] not found. Falling back to DejaVu Sans\n",
      "  (prop.get_family(), self.defaultFamily[fontext]))\n"
     ]
    },
    {
     "data": {
      "image/png": "[encoded data removed]",
      "text/plain": [
       "<Figure size 432x288 with 1 Axes>"
      ]
     },
     "metadata": {},
     "output_type": "display_data"
    }
   ],
   "source": [
    "mu,sigma=0,1\n",
    "x=np.linspace(mu-3*sigma,mu+3*sigma,60)\n",
    "y=np.exp(-(x-mu)**2/(2*sigma**2))/(np.sqrt(2*np.pi)*sigma)\n",
    "plt.figure(facecolor='w')\n",
    "plt.plot(x,y,'r-',x,y,'go',linewidth=2,markersize=3)\n",
    "plt.xlabel('x')\n",
    "plt.ylabel('f(x)')\n",
    "plt.title(u'Gauss Distribution')\n",
    "plt.grid()"
   ]
  },
  {
   "cell_type": "markdown",
   "metadata": {},
   "source": [
    "## 2.2 绘制损失函数"
   ]
  },
  {
   "cell_type": "code",
   "execution_count": 17,
   "metadata": {},
   "outputs": [
    {
     "data": {
      "text/plain": [
       "Text(0.5,1,'sigmoid')"
      ]
     },
     "execution_count": 17,
     "metadata": {},
     "output_type": "execute_result"
    },
    {
     "name": "stderr",
     "output_type": "stream",
     "text": [
      "/usr/local/lib/python3.5/dist-packages/matplotlib/font_manager.py:1328: UserWarning: findfont: Font family ['sans-serif'] not found. Falling back to DejaVu Sans\n",
      "  (prop.get_family(), self.defaultFamily[fontext]))\n"
     ]
    },
    {
     "data": {
      "image/png": "[encoded data removed]",
      "text/plain": [
       "<Figure size 432x288 with 1 Axes>"
      ]
     },
     "metadata": {},
     "output_type": "display_data"
    }
   ],
   "source": [
    "def sigmoid(x):return 1/(1+np.exp(-x))\n",
    "x=np.linspace(-5,5,100)\n",
    "y=sigmoid(x)\n",
    "plt.plot(x,y)\n",
    "plt.xlabel('x')\n",
    "plt.xlabel('y')\n",
    "plt.title('sigmoid')"
   ]
  },
  {
   "cell_type": "code",
   "execution_count": 18,
   "metadata": {},
   "outputs": [
    {
     "data": {
      "text/plain": [
       "<matplotlib.legend.Legend at 0x7f40f2b14dd8>"
      ]
     },
     "execution_count": 18,
     "metadata": {},
     "output_type": "execute_result"
    },
    {
     "name": "stderr",
     "output_type": "stream",
     "text": [
      "/usr/local/lib/python3.5/dist-packages/matplotlib/font_manager.py:1328: UserWarning: findfont: Font family ['sans-serif'] not found. Falling back to DejaVu Sans\n",
      "  (prop.get_family(), self.defaultFamily[fontext]))\n"
     ]
    },
    {
     "data": {
      "image/png": "[encoded data removed]",
      "text/plain": [
       "<Figure size 432x288 with 1 Axes>"
      ]
     },
     "metadata": {},
     "output_type": "display_data"
    }
   ],
   "source": [
    "#过（0,1）点\n",
    "x =np.linspace(start=-2, stop=3, num=1001, dtype=np.float)\n",
    "y_logistic=-np.log(sigmoid(x))/np.log(2)\n",
    "plt.plot(x,y_logistic,'r-',label='Logistic Loss')\n",
    "\n",
    "y_01=x<0\n",
    "plt.plot(x,y_01,'g-',label='0/1 Loss')\n",
    "\n",
    "y_hinge=1-x\n",
    "y_hinge[y_hinge<0]=0\n",
    "plt.plot(x,y_hinge,'b-',label='Hinge Loss')\n",
    "\n",
    "plt.xlabel('score')\n",
    "plt.ylabel('loss')\n",
    "plt.legend(loc='upper right')"
   ]
  },
  {
   "cell_type": "markdown",
   "metadata": {},
   "source": [
    "## 2.3 绘制概率分布"
   ]
  },
  {
   "cell_type": "code",
   "execution_count": 21,
   "metadata": {},
   "outputs": [
    {
     "data": {
      "text/plain": [
       "<matplotlib.legend.Legend at 0x7f40f2a91f28>"
      ]
     },
     "execution_count": 21,
     "metadata": {},
     "output_type": "execute_result"
    },
    {
     "name": "stderr",
     "output_type": "stream",
     "text": [
      "/usr/local/lib/python3.5/dist-packages/matplotlib/font_manager.py:1328: UserWarning: findfont: Font family ['sans-serif'] not found. Falling back to DejaVu Sans\n",
      "  (prop.get_family(), self.defaultFamily[fontext]))\n"
     ]
    },
    {
     "data": {
      "image/png": "[encoded data removed]",
      "text/plain": [
       "<Figure size 432x288 with 1 Axes>"
      ]
     },
     "metadata": {},
     "output_type": "display_data"
    }
   ],
   "source": [
    "#均匀分布\n",
    "x=np.random.rand(1000)\n",
    "plt.hist(x,bins=30,color='g',alpha=0.5,label='uniform distribution')\n",
    "plt.legend(loc='upper left')"
   ]
  },
  {
   "cell_type": "code",
   "execution_count": 23,
   "metadata": {},
   "outputs": [
    {
     "data": {
      "text/plain": [
       "[<matplotlib.lines.Line2D at 0x7f40f2971c18>]"
      ]
     },
     "execution_count": 23,
     "metadata": {},
     "output_type": "execute_result"
    },
    {
     "name": "stderr",
     "output_type": "stream",
     "text": [
      "/usr/local/lib/python3.5/dist-packages/matplotlib/font_manager.py:1328: UserWarning: findfont: Font family ['sans-serif'] not found. Falling back to DejaVu Sans\n",
      "  (prop.get_family(), self.defaultFamily[fontext]))\n"
     ]
    },
    {
     "data": {
      "image/png": "[encoded data removed]",
      "text/plain": [
       "<Figure size 432x288 with 1 Axes>"
      ]
     },
     "metadata": {},
     "output_type": "display_data"
    }
   ],
   "source": [
    "t = np.arange(len(x))\n",
    "plt.plot(t, x, 'r.',markersize=2) #均匀分布直观理解"
   ]
  },
  {
   "cell_type": "markdown",
   "metadata": {},
   "source": [
    "## 2.4验证中心极限定理\n",
    "\n",
    ". 中心定理说：来自相同分布，独立试验之和，服从高斯分布，如果正则话，服从N（0,1）分布"
   ]
  },
  {
   "cell_type": "code",
   "execution_count": 46,
   "metadata": {
    "scrolled": true
   },
   "outputs": [
    {
     "name": "stderr",
     "output_type": "stream",
     "text": [
      "/usr/local/lib/python3.5/dist-packages/matplotlib/axes/_axes.py:6462: UserWarning: The 'normed' kwarg is deprecated, and has been replaced by the 'density' kwarg.\n",
      "  warnings.warn(\"The 'normed' kwarg is deprecated, and has been \"\n",
      "/usr/local/lib/python3.5/dist-packages/matplotlib/font_manager.py:1328: UserWarning: findfont: Font family ['sans-serif'] not found. Falling back to DejaVu Sans\n",
      "  (prop.get_family(), self.defaultFamily[fontext]))\n"
     ]
    },
    {
     "data": {
      "image/png": "[encoded data removed]",
      "text/plain": [
       "<Figure size 432x288 with 1 Axes>"
      ]
     },
     "metadata": {},
     "output_type": "display_data"
    }
   ],
   "source": [
    "N=1000\n",
    "#直接取样高斯分布(0,1)\n",
    "x=np.random.randn(N)\n",
    "plt.figure(facecolor='w')\n",
    "plt.hist(x,bins=30,alpha=0.5,color='m',label='gauss sample',normed=True)\n",
    "#理论值\n",
    "d_x=np.linspace(-3,3,N)\n",
    "d_y=np.exp(-d_x**2/(2))/(np.sqrt(2*np.pi))\n",
    "plt.plot(d_x,d_y,label='gauss distribution')\n",
    "plt.legend(loc='upper right')\n",
    "plt.grid()"
   ]
  },
  {
   "cell_type": "code",
   "execution_count": 64,
   "metadata": {},
   "outputs": [
    {
     "name": "stderr",
     "output_type": "stream",
     "text": [
      "/usr/local/lib/python3.5/dist-packages/matplotlib/axes/_axes.py:6462: UserWarning: The 'normed' kwarg is deprecated, and has been replaced by the 'density' kwarg.\n",
      "  warnings.warn(\"The 'normed' kwarg is deprecated, and has been \"\n",
      "/usr/local/lib/python3.5/dist-packages/matplotlib/font_manager.py:1328: UserWarning: findfont: Font family ['sans-serif'] not found. Falling back to DejaVu Sans\n",
      "  (prop.get_family(), self.defaultFamily[fontext]))\n"
     ]
    },
    {
     "data": {
      "image/png": "[encoded data removed]",
      "text/plain": [
       "<Figure size 432x288 with 1 Axes>"
      ]
     },
     "metadata": {},
     "output_type": "display_data"
    }
   ],
   "source": [
    "#均匀分布的叠加\n",
    "t=3000  #X1,X2,..........Xt\n",
    "sum_x=np.zeros(N)\n",
    "for i in range(t):\n",
    "    sum_x+=np.random.rand(N)\n",
    "#sumx=sum(Xi),mu=0.5*t,std=sqrt(1/12)*sqrt(t)\n",
    "sum_x=(sum_x-0.5*t)/np.sqrt(t)/np.sqrt(1/12) #减去均值，除以方差，变成 u=0,std=1的 ”数据“\n",
    "\n",
    "plt.figure(facecolor='w')\n",
    "plt.hist(sum_x,bins=30,alpha=0.5,color='m',label='sum of uniform samples',normed=True)\n",
    "\n",
    "#理论值\n",
    "d_x=np.linspace(-3,3,N)\n",
    "d_y=np.exp(-d_x**2/(2))/(np.sqrt(2*np.pi))\n",
    "plt.plot(d_x,d_y,label='gauss distribution')\n",
    "plt.legend(loc='upper right')\n",
    "plt.grid()\n"
   ]
  },
  {
   "cell_type": "code",
   "execution_count": 70,
   "metadata": {},
   "outputs": [
    {
     "name": "stderr",
     "output_type": "stream",
     "text": [
      "/usr/local/lib/python3.5/dist-packages/matplotlib/axes/_axes.py:6462: UserWarning: The 'normed' kwarg is deprecated, and has been replaced by the 'density' kwarg.\n",
      "  warnings.warn(\"The 'normed' kwarg is deprecated, and has been \"\n",
      "/usr/local/lib/python3.5/dist-packages/matplotlib/font_manager.py:1328: UserWarning: findfont: Font family ['sans-serif'] not found. Falling back to DejaVu Sans\n",
      "  (prop.get_family(), self.defaultFamily[fontext]))\n"
     ]
    },
    {
     "data": {
      "image/png": "[encoded data removed]",
      "text/plain": [
       "<Figure size 432x288 with 1 Axes>"
      ]
     },
     "metadata": {},
     "output_type": "display_data"
    }
   ],
   "source": [
    "#Possion分布的叠加\n",
    "labada=5\n",
    "possion=stats.poisson(labada)\n",
    "sum_x=np.zeros(N)\n",
    "for i in range(t):\n",
    "    sum_x+=possion.rvs(N)\n",
    "#mu=t*labada std=sqrt(t)*sqrt(labada)\n",
    "sum_x=(sum_x-t*labada)/np.sqrt(t)/np.sqrt(labada)\n",
    "plt.hist(sum_x,bins=30,alpha=0.5,color='m',label='sum of possion samples',normed=True)\n",
    "\n",
    "#理论值\n",
    "d_x=np.linspace(-3,3,N)\n",
    "d_y=np.exp(-d_x**2/(2))/(np.sqrt(2*np.pi))\n",
    "plt.plot(d_x,d_y,label='gauss distribution')\n",
    "plt.legend(loc='upper right')\n",
    "plt.grid()"
   ]
  },
  {
   "cell_type": "markdown",
   "metadata": {},
   "source": [
    "## 2.5 Possion 分布"
   ]
  },
  {
   "cell_type": "code",
   "execution_count": 102,
   "metadata": {},
   "outputs": [],
   "source": [
    "def possion_function(rate,K):\n",
    "    factor=np.ones(K+1)\n",
    "    for k in range(1,K+1):\n",
    "        factor[k]=factor[k-1]*k\n",
    "    power=np.power(rate,np.arange(K+1,dtype=np.int))\n",
    "    \n",
    "    return power/factor*np.exp(-rate)"
   ]
  },
  {
   "cell_type": "code",
   "execution_count": 113,
   "metadata": {},
   "outputs": [
    {
     "name": "stderr",
     "output_type": "stream",
     "text": [
      "/usr/local/lib/python3.5/dist-packages/matplotlib/axes/_axes.py:6462: UserWarning: The 'normed' kwarg is deprecated, and has been replaced by the 'density' kwarg.\n",
      "  warnings.warn(\"The 'normed' kwarg is deprecated, and has been \"\n"
     ]
    },
    {
     "data": {
      "text/plain": [
       "<matplotlib.legend.Legend at 0x7f409a3904a8>"
      ]
     },
     "execution_count": 113,
     "metadata": {},
     "output_type": "execute_result"
    },
    {
     "name": "stderr",
     "output_type": "stream",
     "text": [
      "/usr/local/lib/python3.5/dist-packages/matplotlib/font_manager.py:1328: UserWarning: findfont: Font family ['sans-serif'] not found. Falling back to DejaVu Sans\n",
      "  (prop.get_family(), self.defaultFamily[fontext]))\n"
     ]
    },
    {
     "data": {
      "image/png": "[encoded data removed]",
      "text/plain": [
       "<Figure size 432x288 with 1 Axes>"
      ]
     },
     "metadata": {},
     "output_type": "display_data"
    }
   ],
   "source": [
    "K=10\n",
    "lam=3\n",
    "x=np.random.poisson(lam=lam,size=10000)\n",
    "a=plt.hist(x,bins=K,normed=True,alpha=0.5,color='m',label='possion samples')\n",
    "\n",
    "#理论值\n",
    "d_x=np.arange(K+1)\n",
    "d_y=possion_function(lam,K)\n",
    "plt.plot(d_x,d_y,'go',label='possion distribution')\n",
    "\n",
    "plt.legend(loc='upper right')"
   ]
  },
  {
   "cell_type": "markdown",
   "metadata": {},
   "source": [
    "## 3.1直方图的使用"
   ]
  },
  {
   "cell_type": "code",
   "execution_count": 127,
   "metadata": {},
   "outputs": [
    {
     "name": "stderr",
     "output_type": "stream",
     "text": [
      "/usr/local/lib/python3.5/dist-packages/matplotlib/axes/_axes.py:6462: UserWarning: The 'normed' kwarg is deprecated, and has been replaced by the 'density' kwarg.\n",
      "  warnings.warn(\"The 'normed' kwarg is deprecated, and has been \"\n"
     ]
    },
    {
     "data": {
      "text/plain": [
       "[<matplotlib.lines.Line2D at 0x7f409a327128>]"
      ]
     },
     "execution_count": 127,
     "metadata": {},
     "output_type": "execute_result"
    },
    {
     "name": "stderr",
     "output_type": "stream",
     "text": [
      "/usr/local/lib/python3.5/dist-packages/matplotlib/font_manager.py:1328: UserWarning: findfont: Font family ['sans-serif'] not found. Falling back to DejaVu Sans\n",
      "  (prop.get_family(), self.defaultFamily[fontext]))\n"
     ]
    },
    {
     "data": {
      "image/png": "[encoded data removed]",
      "text/plain": [
       "<Figure size 432x288 with 1 Axes>"
      ]
     },
     "metadata": {},
     "output_type": "display_data"
    }
   ],
   "source": [
    "mu,sigma=3,2\n",
    "data=np.random.randn(10000)*sigma+mu\n",
    "h=plt.hist(data,bins=30,normed=True)\n",
    "\n",
    "#理论值\n",
    "x=h[1] #h[1] 是每个bin的坐标\n",
    "y=stats.norm.pdf(h[1],loc=mu,scale=sigma)\n",
    "plt.plot(x,y)"
   ]
  },
  {
   "cell_type": "code",
   "execution_count": null,
   "metadata": {},
   "outputs": [],
   "source": []
  }
 ],
 "metadata": {
  "kernelspec": {
   "display_name": "Python 3",
   "language": "python",
   "name": "python3"
  },
  "language_info": {
   "codemirror_mode": {
    "name": "ipython",
    "version": 3
   },
   "file_extension": ".py",
   "mimetype": "text/x-python",
   "name": "python",
   "nbconvert_exporter": "python",
   "pygments_lexer": "ipython3",
   "version": "3.5.2"
  }
 },
 "nbformat": 4,
 "nbformat_minor": 2
}
