{
 "cells": [
  {
   "cell_type": "code",
   "execution_count": 49,
   "metadata": {
    "collapsed": false
   },
   "outputs": [],
   "source": [
    "import torch\n",
    "from torch_geometric.data import Data,DataLoader\n",
    "from torch_geometric.datasets import Planetoid,TUDataset"
   ]
  },
  {
   "cell_type": "code",
   "execution_count": 51,
   "metadata": {
    "collapsed": true
   },
   "outputs": [],
   "source": [
    "def datainfo(dataset):\n",
    "    print('nodes',dataset.data.num_nodes)\n",
    "    print('node feature',dataset.data.num_features)\n",
    "    print('num of classes',dataset.num_classes)"
   ]
  },
  {
   "cell_type": "code",
   "execution_count": 27,
   "metadata": {
    "collapsed": false
   },
   "outputs": [],
   "source": [
    "x=torch.tensor([[-1],[0],[1],[3]],dtype=torch.float32)\n",
    "edge_index=torch.tensor([[0,1,1,2,1],[1,0,2,1,1]],dtype=torch.long)\n",
    "G=Data(x=x,edge_index=edge_index)"
   ]
  },
  {
   "cell_type": "code",
   "execution_count": 29,
   "metadata": {
    "collapsed": false
   },
   "outputs": [
    {
     "name": "stdout",
     "output_type": "stream",
     "text": [
      "edge_index\n",
      "x\n",
      "nodes: 4\n",
      "feature dim: 1\n",
      "edges: 5\n",
      "Undir Graph: True\n",
      "self-loop True\n",
      "isolation node: True\n"
     ]
    }
   ],
   "source": [
    "#have attr\n",
    "for key in G.keys:\n",
    "    print(key)\n",
    "print(\"nodes:\",G.num_nodes)\n",
    "print(\"feature dim:\",G.num_features)\n",
    "print(\"edges:\",G.num_edges)\n",
    "print(\"Undir Graph:\",G.is_undirected())\n",
    "print(\"self-loop\",G.contains_self_loops())\n",
    "print(\"isolation node:\",G.contains_isolated_nodes())"
   ]
  },
  {
   "cell_type": "code",
   "execution_count": 31,
   "metadata": {
    "collapsed": false
   },
   "outputs": [
    {
     "name": "stdout",
     "output_type": "stream",
     "text": [
      "Downloading https://github.com/kimiyoung/planetoid/raw/master/data/ind.cora.x\n",
      "Downloading https://github.com/kimiyoung/planetoid/raw/master/data/ind.cora.tx\n",
      "Downloading https://github.com/kimiyoung/planetoid/raw/master/data/ind.cora.allx\n",
      "Downloading https://github.com/kimiyoung/planetoid/raw/master/data/ind.cora.y\n",
      "Downloading https://github.com/kimiyoung/planetoid/raw/master/data/ind.cora.ty\n",
      "Downloading https://github.com/kimiyoung/planetoid/raw/master/data/ind.cora.ally\n",
      "Downloading https://github.com/kimiyoung/planetoid/raw/master/data/ind.cora.graph\n",
      "Downloading https://github.com/kimiyoung/planetoid/raw/master/data/ind.cora.test.index\n",
      "Processing...\n",
      "Done!\n"
     ]
    }
   ],
   "source": [
    "#download common dataset\n",
    "dataset=Planetoid(root='Cora',name='Cora')"
   ]
  },
  {
   "cell_type": "code",
   "execution_count": 39,
   "metadata": {
    "collapsed": false
   },
   "outputs": [
    {
     "name": "stdout",
     "output_type": "stream",
     "text": [
      "nodes 2708\n",
      "node feature 1433\n",
      "num of classes 7\n"
     ]
    }
   ],
   "source": [
    "print('nodes',dataset.data.num_nodes)\n",
    "print('node feature',dataset.data.num_features)\n",
    "print('num of classes',dataset.num_classes)"
   ]
  },
  {
   "cell_type": "code",
   "execution_count": 45,
   "metadata": {
    "collapsed": false
   },
   "outputs": [
    {
     "name": "stdout",
     "output_type": "stream",
     "text": [
      "# of train tensor(140)\n",
      "# of train tensor(500)\n",
      "# of train tensor(1000)\n"
     ]
    }
   ],
   "source": [
    "print(\"# of train\",dataset.data.train_mask.sum())\n",
    "print(\"# of train\",dataset.data.val_mask.sum())\n",
    "print(\"# of train\",dataset.data.test_mask.sum())"
   ]
  },
  {
   "cell_type": "code",
   "execution_count": 50,
   "metadata": {
    "collapsed": false
   },
   "outputs": [],
   "source": [
    "#mini batch\n",
    "#TUDataset数据集有600张图，每一张图都由TUDataset.data.x中的部分节点组成，\n",
    "#data.x:(#nodes,21)表示节点的属性\n",
    "#data.y:(600,)每张图的标注\n",
    "dataset = TUDataset(root='/tmp/ENZYMES', name='ENZYMES', use_node_attr=True)\n",
    "loader = DataLoader(dataset, batch_size=32, shuffle=True)"
   ]
  },
  {
   "cell_type": "code",
   "execution_count": 52,
   "metadata": {
    "collapsed": false
   },
   "outputs": [
    {
     "name": "stdout",
     "output_type": "stream",
     "text": [
      "nodes [37, 23, 25, 24, 23, 24, 26, 88, 23, 32, 4, 14, 42, 41, 36, 55, 40, 38, 2, 35, 42, 41, 39, 42, 41, 40, 37, 23, 22, 34, 38, 38, 39, 8, 23, 42, 42, 100, 24, 24, 47, 45, 45, 45, 46, 44, 30, 32, 33, 9, 27, 39, 16, 18, 7, 18, 10, 21, 18, 10, 9, 39, 33, 29, 24, 25, 30, 38, 28, 28, 38, 40, 40, 42, 20, 19, 16, 17, 20, 18, 33, 23, 23, 35, 33, 39, 40, 38, 40, 38, 37, 36, 34, 34, 32, 18, 32, 34, 30, 5, 45, 42, 59, 32, 33, 17, 39, 38, 35, 16, 26, 51, 52, 25, 27, 42, 46, 96, 12, 22, 42, 14, 90, 14, 14, 32, 11, 26, 11, 14, 18, 16, 17, 32, 13, 3, 22, 16, 38, 13, 12, 14, 39, 19, 20, 39, 40, 39, 39, 29, 22, 11, 8, 13, 18, 12, 8, 40, 12, 22, 22, 18, 12, 17, 14, 22, 43, 42, 44, 24, 48, 25, 46, 48, 25, 48, 44, 42, 40, 38, 40, 41, 42, 40, 44, 24, 44, 20, 42, 27, 48, 31, 30, 46, 47, 50, 40, 55, 62, 34, 29, 25, 56, 57, 27, 22, 24, 23, 57, 24, 24, 23, 25, 23, 48, 27, 15, 44, 29, 21, 34, 30, 40, 54, 18, 36, 37, 34, 23, 32, 33, 29, 39, 34, 36, 21, 6, 22, 18, 18, 34, 32, 33, 28, 40, 42, 39, 28, 29, 30, 14, 32, 35, 24, 17, 18, 16, 19, 19, 21, 23, 25, 27, 24, 24, 32, 31, 33, 34, 32, 32, 44, 40, 40, 38, 30, 38, 44, 60, 28, 16, 50, 52, 48, 50, 42, 43, 41, 39, 38, 62, 60, 96, 54, 124, 126, 122, 24, 41, 49, 44, 42, 41, 42, 46, 55, 50, 42, 48, 51, 24, 51, 52, 22, 44, 44, 31, 27, 25, 38, 21, 29, 20, 21, 50, 46, 49, 27, 12, 14, 23, 24, 33, 27, 25, 28, 28, 12, 26, 28, 28, 26, 24, 23, 27, 39, 42, 42, 64, 38, 22, 9, 26, 19, 66, 27, 34, 28, 26, 26, 28, 19, 20, 20, 42, 42, 15, 11, 10, 12, 30, 15, 10, 18, 22, 12, 36, 30, 30, 36, 33, 48, 27, 27, 16, 7, 16, 35, 28, 40, 26, 48, 15, 11, 50, 18, 19, 14, 21, 37, 48, 25, 28, 33, 29, 33, 30, 33, 32, 28, 37, 36, 38, 37, 34, 24, 25, 41, 27, 26, 25, 27, 20, 40, 21, 19, 36, 32, 28, 37, 18, 19, 22, 43, 24, 15, 14, 48, 46, 26, 25, 44, 39, 39, 27, 26, 25, 39, 26, 26, 26, 34, 20, 20, 19, 18, 33, 15, 34, 28, 34, 15, 14, 20, 52, 20, 20, 20, 17, 12, 24, 46, 13, 24, 12, 12, 14, 20, 28, 24, 12, 26, 22, 60, 39, 26, 15, 25, 35, 35, 38, 38, 33, 32, 42, 42, 41, 40, 38, 43, 67, 36, 46, 66, 21, 22, 21, 21, 41, 29, 30, 30, 41, 37, 26, 37, 50, 27, 34, 32, 35, 37, 48, 41, 29, 58, 57, 21, 18, 42, 40, 74, 44, 44, 40, 44, 42, 43, 41, 49, 84, 44, 42, 41, 41, 44, 39, 25, 25, 26, 52, 41, 45, 31, 26, 26, 52, 50, 38, 37, 27, 29, 48, 40, 19, 14, 13, 13, 44, 45, 46, 47, 47, 42, 51, 27, 27, 60, 28, 38, 23, 18, 45, 21, 35, 24, 21, 21, 31, 27, 51, 36, 46, 52, 44, 45, 52, 55, 51, 48]\n",
      "node feature 21\n",
      "num of classes 6\n"
     ]
    }
   ],
   "source": [
    "#nodes表示每张图的大小\n",
    "datainfo(dataset)"
   ]
  },
  {
   "cell_type": "code",
   "execution_count": 72,
   "metadata": {
    "collapsed": false
   },
   "outputs": [
    {
     "name": "stdout",
     "output_type": "stream",
     "text": [
      "Batch(batch=[1110], edge_index=[2, 4398], x=[1110, 21], y=[32])\n",
      "Batch(batch=[1023], edge_index=[2, 3886], x=[1023, 21], y=[32])\n",
      "Batch(batch=[1076], edge_index=[2, 4060], x=[1076, 21], y=[32])\n",
      "Batch(batch=[1171], edge_index=[2, 4372], x=[1171, 21], y=[32])\n",
      "Batch(batch=[902], edge_index=[2, 3604], x=[902, 21], y=[32])\n",
      "Batch(batch=[918], edge_index=[2, 3686], x=[918, 21], y=[32])\n",
      "Batch(batch=[979], edge_index=[2, 3630], x=[979, 21], y=[32])\n",
      "Batch(batch=[1058], edge_index=[2, 4196], x=[1058, 21], y=[32])\n",
      "Batch(batch=[926], edge_index=[2, 3576], x=[926, 21], y=[32])\n",
      "Batch(batch=[1085], edge_index=[2, 4118], x=[1085, 21], y=[32])\n",
      "Batch(batch=[1112], edge_index=[2, 4196], x=[1112, 21], y=[32])\n",
      "Batch(batch=[1024], edge_index=[2, 3650], x=[1024, 21], y=[32])\n",
      "Batch(batch=[1003], edge_index=[2, 3836], x=[1003, 21], y=[32])\n",
      "Batch(batch=[1088], edge_index=[2, 4180], x=[1088, 21], y=[32])\n",
      "Batch(batch=[1088], edge_index=[2, 4050], x=[1088, 21], y=[32])\n",
      "Batch(batch=[1088], edge_index=[2, 4098], x=[1088, 21], y=[32])\n",
      "Batch(batch=[1127], edge_index=[2, 4066], x=[1127, 21], y=[32])\n",
      "Batch(batch=[1167], edge_index=[2, 4514], x=[1167, 21], y=[32])\n",
      "Batch(batch=[635], edge_index=[2, 2448], x=[635, 21], y=[24])\n"
     ]
    }
   ],
   "source": [
    "#每次取出32张图，但是由于每张图边不一样，所以每次节点数量不一样\n",
    "for b in loader:\n",
    "    print(b)"
   ]
  },
  {
   "cell_type": "code",
   "execution_count": 63,
   "metadata": {
    "collapsed": false
   },
   "outputs": [
    {
     "data": {
      "text/plain": [
       "600"
      ]
     },
     "execution_count": 63,
     "metadata": {},
     "output_type": "execute_result"
    }
   ],
   "source": [
    "len(dataset.data.num_nodes)"
   ]
  },
  {
   "cell_type": "code",
   "execution_count": null,
   "metadata": {
    "collapsed": true
   },
   "outputs": [],
   "source": []
  }
 ],
 "metadata": {
  "kernelspec": {
   "display_name": "Python 3",
   "language": "python",
   "name": "python3"
  },
  "language_info": {
   "codemirror_mode": {
    "name": "ipython",
    "version": 3
   },
   "file_extension": ".py",
   "mimetype": "text/x-python",
   "name": "python",
   "nbconvert_exporter": "python",
   "pygments_lexer": "ipython3",
   "version": "3.5.2"
  }
 },
 "nbformat": 4,
 "nbformat_minor": 0
}
