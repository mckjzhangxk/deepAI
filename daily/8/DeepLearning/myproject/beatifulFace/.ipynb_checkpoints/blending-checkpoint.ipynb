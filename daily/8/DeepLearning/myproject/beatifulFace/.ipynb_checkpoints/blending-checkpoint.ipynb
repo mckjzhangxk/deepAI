{
 "cells": [
  {
   "cell_type": "code",
   "execution_count": 1,
   "metadata": {},
   "outputs": [],
   "source": [
    "import dlib\n",
    "import cv2\n",
    "import numpy as np\n",
    "from collections import OrderedDict\n",
    "import matplotlib.pyplot as plt\n",
    "plt.rcParams['figure.figsize']=(10,10)\n",
    "%matplotlib inline\n",
    "\n",
    "def showImages(imgs):\n",
    "    for x in imgs:\n",
    "        plt.figure()\n",
    "        ax=plt.subplot(111)\n",
    "        ax.set_aspect('equal')\n",
    "        plt.imshow(x)"
   ]
  },
  {
   "cell_type": "code",
   "execution_count": 2,
   "metadata": {},
   "outputs": [],
   "source": [
    "img=cv2.imread('data/face1.jpeg')\n",
    "H,W,_=img.shape\n",
    "img=cv2.cvtColor(img,cv2.COLOR_BGR2RGB)\n",
    "# img=cv2.resize(img,(1024,768))"
   ]
  },
  {
   "cell_type": "code",
   "execution_count": 61,
   "metadata": {},
   "outputs": [],
   "source": [
    "def gauss_pyramid(I):\n",
    "    ret=[I]\n",
    "    \n",
    "    n=int(np.log2(min(img.shape[:2])//32))+1\n",
    "    \n",
    "    for i in range(1,n):\n",
    "        ret.append(cv2.pyrDown(ret[i-1]))\n",
    "    return ret\n",
    "def laplacian_pyramid(gs):\n",
    "    L=gs[-1]\n",
    "    ret=[L]\n",
    "    n=len(gs)\n",
    "    for i in range(n-2,-1,-1):\n",
    "        g=gs[i]\n",
    "        H,W=g.shape[:2]\n",
    "        L=cv2.subtract(g,cv2.pyrUp(gs[i+1],dstsize=(W,H)))\n",
    "        ret.append(L)\n",
    "    ret.reverse()\n",
    "    return ret\n",
    "def sum_laplacian_pyramid(ls):\n",
    "    ret=ls[-1]\n",
    "    n=len(ls)\n",
    "    for i in range(n-2,-1,-1):\n",
    "        L=ls[i]\n",
    "        H,W=L.shape[:2]\n",
    "        ret=cv2.add(L,cv2.pyrUp(ret,dstsize=(W,H)))\n",
    "    return ret"
   ]
  }
 ],
 "metadata": {
  "kernelspec": {
   "display_name": "Python 3",
   "language": "python",
   "name": "python3"
  },
  "language_info": {
   "codemirror_mode": {
    "name": "ipython",
    "version": 3
   },
   "file_extension": ".py",
   "mimetype": "text/x-python",
   "name": "python",
   "nbconvert_exporter": "python",
   "pygments_lexer": "ipython3",
   "version": "3.7.6"
  }
 },
 "nbformat": 4,
 "nbformat_minor": 4
}
