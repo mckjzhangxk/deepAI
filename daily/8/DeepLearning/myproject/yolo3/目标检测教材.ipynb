{
 "cells": [
  {
   "cell_type": "markdown",
   "metadata": {},
   "source": [
    "#### 1.准备标注数据项目\n",
    ">>1.下载Yolo_mask项目,git clone https://github.com/AlexeyAB/Yolo_mark.git\n",
    "\n",
    ">>2.运行./yolo_mark my/img my/train.txt my/obj.names 进行标注\n",
    "#### 2.准备分割数据"
   ]
  },
  {
   "cell_type": "code",
   "execution_count": 2,
   "metadata": {},
   "outputs": [],
   "source": [
    "import glob\n",
    "import os\n",
    "import numpy as np\n",
    "import shutil\n",
    "\n",
    "basepath='/home/zxk/AI/Yolo_mark/my/img/*.jpg'\n",
    "filelist=glob.glob(basepath)\n",
    "idx=np.arange(len(filelist))\n",
    "np.random.shuffle(idx)\n",
    "target_path='/home/zxk/AI/darknet/my/'\n",
    "if not os.path.exists(target_path+'obj'):\n",
    "    os.mkdir(target_path+'obj')\n",
    "if not os.path.exists(target_path+'obj/data'):\n",
    "    os.mkdir(target_path+'obj/data')\n",
    "with open(target_path+'train.txt','w') as fs:\n",
    "    for i in range(180):\n",
    "        ii=idx[i]\n",
    "        filename=filelist[ii]\n",
    "        _name=filename[filename.rfind('/')+1:]\n",
    "        \n",
    "        fs.write(target_path+'obj/data/'+_name+'\\n')\n",
    "        shutil.copy(filename,target_path+'obj/data/'+_name)\n",
    "        shutil.copy(filename[:-4]+'.txt',target_path+'obj/data/'+_name[:-4]+'.txt')\n",
    "with open(target_path+'test.txt','w') as fs:\n",
    "    for i in range(20):\n",
    "        ii=idx[i+180]\n",
    "        filename=filelist[ii]\n",
    "        _name=filename[filename.rfind('/')+1:]\n",
    "        \n",
    "        fs.write(target_path+'obj/data/'+_name+'\\n')\n",
    "        shutil.copy(filename,target_path+'obj/data/'+_name)\n",
    "        shutil.copy(filename[:-4]+'.txt',target_path+'obj/data/'+_name[:-4]+'.txt')"
   ]
  },
  {
   "cell_type": "markdown",
   "metadata": {},
   "source": [
    "#### 3.darknet 项目:\n",
    "    1.git clone https://github.com/AlexeyAB/darknet\n",
    "    2.修改Makefile文件\n",
    "    3.<a href='https://github.com/AlexeyAB/darknet#how-to-compile-on-linux'>编译项目</a>\n",
    "    4.创建obj.names,每个类别的名字\n",
    "    5.复制yolov-obj.cfg,修改关于类别的配置,参考<a href='https://github.com/AlexeyAB/darknet#how-to-train-to-detect-your-custom-objects'>how-to-train-to-detect-your-custom-objects</a>\n",
    "    6.配置输入数据(相对darknet程序的地址):\n",
    "        classes= 2\n",
    "        train  = data/train.txt\n",
    "        valid  = data/test.txt\n",
    "        names = data/obj.names\n",
    "        backup = backup/\n",
    "    7.下载预训练模型darknet(https://pjreddie.com/media/files/darknet53.conv.74)\n",
    "    8.终极训练命令:./darknet detector train my/obj.data my/yolov-obj.cfg darknet53.conv.74\n",
    "        "
   ]
  },
  {
   "cell_type": "code",
   "execution_count": null,
   "metadata": {},
   "outputs": [],
   "source": []
  }
 ],
 "metadata": {
  "kernelspec": {
   "display_name": "Python 3",
   "language": "python",
   "name": "python3"
  },
  "language_info": {
   "codemirror_mode": {
    "name": "ipython",
    "version": 3
   },
   "file_extension": ".py",
   "mimetype": "text/x-python",
   "name": "python",
   "nbconvert_exporter": "python",
   "pygments_lexer": "ipython3",
   "version": "3.5.2"
  }
 },
 "nbformat": 4,
 "nbformat_minor": 2
}
