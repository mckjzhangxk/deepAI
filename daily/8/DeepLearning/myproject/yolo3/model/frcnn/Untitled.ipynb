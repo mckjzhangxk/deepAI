{
 "cells": [
  {
   "cell_type": "markdown",
   "metadata": {},
   "source": [
    "1.The way to label rpn target as follow\n",
    "$$U_1=\\{j\\bracevert IOU(y^{(i)},a_{j})\\geq t,for \\  i \\in gt\\}$$\n",
    "$$U_2=\\{argmax_{j}IOU(y^{(i)},a_{j}),for \\  i \\in gt\\}$$\n",
    "$$Lable(i)=1 \\rightarrow i \\in U_1,U_2$$"
   ]
  },
  {
   "cell_type": "code",
   "execution_count": null,
   "metadata": {
    "collapsed": true
   },
   "outputs": [],
   "source": []
  }
 ],
 "metadata": {
  "kernelspec": {
   "display_name": "Python 3",
   "language": "python",
   "name": "python3"
  },
  "language_info": {
   "codemirror_mode": {
    "name": "ipython",
    "version": 3
   },
   "file_extension": ".py",
   "mimetype": "text/x-python",
   "name": "python",
   "nbconvert_exporter": "python",
   "pygments_lexer": "ipython3",
   "version": "3.5.2"
  }
 },
 "nbformat": 4,
 "nbformat_minor": 0
}
