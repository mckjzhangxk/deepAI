{
 "cells": [
  {
   "cell_type": "markdown",
   "metadata": {},
   "source": [
    "1.The way to label rpn target as follow\n",
    "$$U_1=\\{j\\bracevert IOU(y^{(i)},a_{j})\\geq t, \\text{for i is gt }\\}$$\n",
    "\n",
    "$$U_2=\\{argmax_{j}IOU(y^{(i)},a_{j}),\\text{for i is gt }\\}$$\n",
    "\n",
    "$$Lable(i)=1 \\rightarrow i \\in U_1,U_2$$\n",
    "\n",
    "$$\n",
    " lable(i) =\n",
    "  \\begin{cases}\n",
    "    1      & \\quad \\text{if } i \\text{ in U1 or U2}\\\\\n",
    "    0      & \\quad \\text{otherwise }\n",
    "  \\end{cases}\n",
    "$$"
   ]
  },
  {
   "cell_type": "markdown",
   "metadata": {},
   "source": [
    "### 2.create anchor box\n",
    "\n",
    ">First convert between x1y1x2y2 between wh\n",
    "$$cx=\\frac{x_2+x_1}{2}$$\n",
    "\n",
    "$$cy=\\frac{y_2+y_1}{2}$$\n",
    "\n",
    "$$w=x_2-x_1+1$$\n",
    "\n",
    "$$h=y_2-y_1+1$$ \n",
    "\n",
    "$$\\begin{bmatrix}\n",
    "   cx \\\\\n",
    "   cy \\\\\n",
    "   w \\\\\n",
    "   h \\\\\n",
    "\\end{bmatrix}=\n",
    "\\begin{bmatrix}\n",
    "\\frac{1}{2} &0 & \\frac{1}{2} & 0 \\\\\n",
    " 0 & \\frac{1}{2}& 0 & \\frac{1}{2} \\\\\n",
    "-1 &0 & 1& 0 \\\\\n",
    "0 &-1 &0 & 1 \\\\\n",
    "\\end{bmatrix}*\n",
    "\\begin{bmatrix}\n",
    "   x_1 \\\\\n",
    "   y_1 \\\\\n",
    "   x_2 \\\\\n",
    "   y_2\\\\\n",
    "\\end{bmatrix}+\n",
    "\\begin{bmatrix}\n",
    "   0 \\\\\n",
    "   0 \\\\\n",
    "   1 \\\\\n",
    "   1\\\\\n",
    "\\end{bmatrix}\n",
    "$$\n",
    "\n",
    "$$\n",
    "\\begin{bmatrix}\n",
    "   x_1 \\\\\n",
    "   y_1 \\\\\n",
    "   x_2 \\\\\n",
    "   y_2\\\\\n",
    "\\end{bmatrix}=\n",
    "\\begin{bmatrix}\n",
    " 1 &0 & -\\frac{1}{2} & 0 \\\\\n",
    " 0 & 1& 0 & -\\frac{1}{2} \\\\\n",
    " 1 &0 & \\frac{1}{2}& 0 \\\\\n",
    " 0 &1 &0 & \\frac{1}{2} \\\\\n",
    "\\end{bmatrix}*\n",
    "\\begin{bmatrix}\n",
    "   cx \\\\\n",
    "   cy \\\\\n",
    "   w-1 \\\\\n",
    "   h-1\\\\\n",
    "\\end{bmatrix}\n",
    "$$"
   ]
  },
  {
   "cell_type": "code",
   "execution_count": 57,
   "metadata": {
    "collapsed": false
   },
   "outputs": [
    {
     "name": "stdout",
     "output_type": "stream",
     "text": [
      "[[16.5 16.5 32.  32. ]]\n",
      "[[ 1.  1. 32. 32.]]\n"
     ]
    }
   ],
   "source": [
    "import numpy as np\n",
    "def xy2wh(boxes):\n",
    "    '''\n",
    "    boxes:(N,4) x1y1x2y2\n",
    "    '''\n",
    "    boxes=boxes.copy()\n",
    "    M=np.array([[.5,0,.5,0],[0,.5,0,.5],[-1,0,1,0],[0,-1,0,1]]).T\n",
    "    b=np.array([0,0,1,1])\n",
    "    return boxes.dot(M)+b\n",
    "def wh2xy(boxes):\n",
    "    '''\n",
    "    boxes:(N,4) cxcywh\n",
    "    '''\n",
    "    boxes=boxes.copy()\n",
    "    M=np.array([[1,0,-.5,0],[0,1,0,-.5],[1,0,0.5,0],[0,1,0,0.5]]).T\n",
    "    b=np.array([0,0,-1,-1])\n",
    "    return (boxes+b).dot(M)\n",
    "boxes=np.array([[1,1,32,32]])\n",
    "print(xy2wh(boxes))\n",
    "print(wh2xy(xy2wh(boxes)))"
   ]
  },
  {
   "cell_type": "code",
   "execution_count": 58,
   "metadata": {
    "collapsed": false
   },
   "outputs": [
    {
     "name": "stdout",
     "output_type": "stream",
     "text": [
      "[[16.5 16.5 32.  32. ]]\n",
      "[[ 8.  8. 32. 32.]]\n",
      "[[-7.5 -7.5 23.5 23.5]]\n"
     ]
    }
   ],
   "source": [
    "def setCenter(boxes,center):\n",
    "    '''\n",
    "    boxes:cx,cy,w,h,(N,4)\n",
    "    center:X,Y\n",
    "    '''\n",
    "    boxes=boxes.copy()\n",
    "    cx,cy=center\n",
    "    boxes[:,[0,1]]=(cx,cy)\n",
    "    return boxes\n",
    "boxes=np.array([[1,1,32,32]])\n",
    "CCC=xy2wh(boxes)\n",
    "print(CCC)\n",
    "DDD=setCenter(CCC,(8,8))\n",
    "print(DDD)\n",
    "print(wh2xy(DDD))\n",
    "# print(xy2wh(CCC))"
   ]
  },
  {
   "cell_type": "markdown",
   "metadata": {},
   "source": [
    ">Next make boxes with different aspect ratio and same area!"
   ]
  },
  {
   "cell_type": "code",
   "execution_count": 83,
   "metadata": {
    "collapsed": false
   },
   "outputs": [
    {
     "name": "stdout",
     "output_type": "stream",
     "text": [
      "[9604. 9604. 9604.]\n",
      "[[ 34.14823228  68.79646456  69.29646456 138.59292911]\n",
      " [ 48.5         48.5         98.          98.        ]\n",
      " [ 68.79646456  34.14823228 138.59292911  69.29646456]]\n",
      "\n"
     ]
    }
   ],
   "source": [
    "def mkbox(size,ratios):\n",
    "    '''\n",
    "        size:determine output boxes have size s*s\n",
    "        ratio:list of ratio\n",
    "        return:boxes(N,4) (x1,y1,x2,y2) x1,y1=0,0\n",
    "    '''\n",
    "    \n",
    "    ret=[(0,0,size*np.sqrt(r)-1,size/np.sqrt(r)-1) for r in ratios]\n",
    "    return np.array(ret)\n",
    "x=mkbox(98,[.5,1,2])\n",
    "x1=xy2wh(x)\n",
    "print(x1[:,2]*x1[:,3])\n",
    "print(x1)\n",
    "print()"
   ]
  },
  {
   "cell_type": "code",
   "execution_count": 92,
   "metadata": {
    "collapsed": false
   },
   "outputs": [
    {
     "name": "stdout",
     "output_type": "stream",
     "text": [
      "center: [[8. 8.]\n",
      " [8. 8.]\n",
      " [8. 8.]\n",
      " [8. 8.]\n",
      " [8. 8.]\n",
      " [8. 8.]\n",
      " [8. 8.]\n",
      " [8. 8.]\n",
      " [8. 8.]\n",
      " [8. 8.]\n",
      " [8. 8.]\n",
      " [8. 8.]]\n",
      "\n",
      "area: [ 1024.  1024.  1024.  4096.  4096.  4096. 16384. 16384. 16384. 65536.\n",
      " 65536. 65536.]\n"
     ]
    }
   ],
   "source": [
    "def createAnchorBoxes(base,scales,ratios):\n",
    "    anchors=np.concatenate([mkbox(base*s,ratios) for s in scales],axis=0)\n",
    "    anchors=xy2wh(anchors)\n",
    "    anchors=setCenter(anchors,(base//2,base//2))\n",
    "    anchors=wh2xy(anchors)\n",
    "    return anchors\n",
    "X=createAnchorBoxes(16,[2,4,8,16],[.5,1.,2.])\n",
    "X_wh=xy2wh(X)\n",
    "print('center:',X_wh[:,0:2])\n",
    "print()\n",
    "print('area:',X_wh[:,2]*X_wh[:,3])"
   ]
  },
  {
   "cell_type": "code",
   "execution_count": 99,
   "metadata": {
    "collapsed": true
   },
   "outputs": [],
   "source": [
    "import torch"
   ]
  },
  {
   "cell_type": "code",
   "execution_count": 112,
   "metadata": {
    "collapsed": false
   },
   "outputs": [
    {
     "data": {
      "text/plain": [
       "torch.Size([128, 55, 43])"
      ]
     },
     "execution_count": 112,
     "metadata": {},
     "output_type": "execute_result"
    }
   ],
   "source": [
    "a=torch.rand(128,55,4)\n",
    "b=torch.rand(128,43,4)\n",
    "\n",
    "torch.matmul(a,b.transpose(-2,-1)).shape #128,55,43"
   ]
  },
  {
   "cell_type": "code",
   "execution_count": 98,
   "metadata": {
    "collapsed": false
   },
   "outputs": [
    {
     "data": {
      "text/plain": [
       "array([[1., 1., 1.],\n",
       "       [0., 1., 1.],\n",
       "       [0., 0., 1.]])"
      ]
     },
     "execution_count": 98,
     "metadata": {},
     "output_type": "execute_result"
    }
   ],
   "source": [
    "import numpy as np\n",
    "np.triu(np.ones((3,3)),0)"
   ]
  },
  {
   "cell_type": "code",
   "execution_count": 104,
   "metadata": {
    "collapsed": false
   },
   "outputs": [
    {
     "data": {
      "text/plain": [
       "-1000000000.0"
      ]
     },
     "execution_count": 104,
     "metadata": {},
     "output_type": "execute_result"
    }
   ],
   "source": [
    "-1e9"
   ]
  },
  {
   "cell_type": "code",
   "execution_count": null,
   "metadata": {
    "collapsed": true
   },
   "outputs": [],
   "source": []
  }
 ],
 "metadata": {
  "kernelspec": {
   "display_name": "Python 3",
   "language": "python",
   "name": "python3"
  },
  "language_info": {
   "codemirror_mode": {
    "name": "ipython",
    "version": 3
   },
   "file_extension": ".py",
   "mimetype": "text/x-python",
   "name": "python",
   "nbconvert_exporter": "python",
   "pygments_lexer": "ipython3",
   "version": "3.5.2"
  }
 },
 "nbformat": 4,
 "nbformat_minor": 0
}
