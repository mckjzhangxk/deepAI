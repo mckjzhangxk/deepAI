{
 "cells": [
  {
   "cell_type": "code",
   "execution_count": 1,
   "metadata": {
    "collapsed": false
   },
   "outputs": [],
   "source": [
    "import cv2\n",
    "import numpy as np\n",
    "import glob\n",
    "import os\n",
    "def readVideo(filename):\n",
    "    cap=cv2.VideoCapture(filename)\n",
    "\n",
    "    videoinfo={\n",
    "        'frames':int(cap.get(cv2.CAP_PROP_FRAME_COUNT)),\n",
    "        'codec':hex(int(cap.get(cv2.CAP_PROP_FOURCC))),\n",
    "        'rate':cap.get(cv2.CAP_PROP_FPS),\n",
    "        'width':int(cap.get(cv2.CAP_PROP_FRAME_WIDTH)),\n",
    "        'height':int(cap.get(cv2.CAP_PROP_FRAME_HEIGHT)),\n",
    "        'format':cap.get(cv2.CAP_PROP_FORMAT)\n",
    "    }\n",
    "    return cap,videoinfo\n",
    "\n",
    "def videoWriter(output,videoformat='XVID',scale=(480,640),fps=30):\n",
    "    codec=cv2.VideoWriter_fourcc(*videoformat)\n",
    "    vid_writer = cv2.VideoWriter(output,codec,fps,scale)\n",
    "    return vid_writer"
   ]
  },
  {
   "cell_type": "code",
   "execution_count": 11,
   "metadata": {
    "collapsed": false
   },
   "outputs": [],
   "source": [
    "videopath='data/bolt2video/*.jpg'\n",
    "labelpath='data/bolt2'\n",
    "writer=videoWriter('my.avi',scale=(480,270),fps=30)"
   ]
  },
  {
   "cell_type": "code",
   "execution_count": 12,
   "metadata": {
    "collapsed": true
   },
   "outputs": [],
   "source": [
    "def readLabel():\n",
    "    path=os.path.join(labelpath,'groundtruth.txt')\n",
    "    ret=[]\n",
    "    with open(path) as fs:\n",
    "        for line in fs:\n",
    "            sps=line.strip().split(',')\n",
    "\n",
    "            x= np.array([float(x) for x in sps]).reshape(-1,2).astype(np.int)\n",
    "        \n",
    "            ret.append(x)\n",
    "    return ret\n",
    "\n",
    "def readImage():\n",
    "    flist=glob.glob(videopath)\n",
    "    flist=sorted(flist)\n",
    "    labels=readLabel()\n",
    "    for f,gt in zip(flist,labels):\n",
    "        I=cv2.imread(f)\n",
    "        cv2.polylines(I,[gt],True,(0,0,255),10)\n",
    "        writer.write(I)\n",
    "    writer.release()\n"
   ]
  },
  {
   "cell_type": "code",
   "execution_count": 13,
   "metadata": {
    "collapsed": false
   },
   "outputs": [],
   "source": [
    "readImage()"
   ]
  },
  {
   "cell_type": "code",
   "execution_count": 14,
   "metadata": {
    "collapsed": false
   },
   "outputs": [],
   "source": [
    "# readImage()"
   ]
  },
  {
   "cell_type": "code",
   "execution_count": null,
   "metadata": {
    "collapsed": false
   },
   "outputs": [],
   "source": [
    "import matplotlib.pyplot as plt\n",
    "%matplotlib inline\n",
    "A=np.zeros((100,100,3)).astype(np.uint8)\n",
    "# A=cv2.rectangle(A,(30,30),(40,40),(255,0,0))\n",
    "cv2.polylines(A,[np.array([[10,10],[20,10],[20,20],[10,20]])],False,(255,0,0))\n",
    "plt.imshow(A)"
   ]
  },
  {
   "cell_type": "code",
   "execution_count": null,
   "metadata": {
    "collapsed": false
   },
   "outputs": [],
   "source": [
    "import matplotlib.pyplot as plt\n",
    "%matplotlib inline"
   ]
  },
  {
   "cell_type": "code",
   "execution_count": null,
   "metadata": {
    "collapsed": false
   },
   "outputs": [],
   "source": [
    "plt.imshow(A)"
   ]
  },
  {
   "cell_type": "code",
   "execution_count": null,
   "metadata": {
    "collapsed": false
   },
   "outputs": [],
   "source": [
    "img = np.zeros((800, 1000, 3), np.uint8)\n",
    "# points = np.array([[910, 650], [206, 650], [458, 500], [696, 500]])\n",
    "points=np.array([[10,10],[100,10],[100,100],[10,100]])\n",
    "cv2.polylines(img, [points], True, (255, 0, 255),2)\n",
    "\n",
    "plt.imshow(img)\n",
    "plt.show()"
   ]
  },
  {
   "cell_type": "code",
   "execution_count": null,
   "metadata": {
    "collapsed": false
   },
   "outputs": [],
   "source": [
    "a=readLabel()[2]\n",
    "\n",
    "img = np.zeros((800, 1000, 3), np.uint8)\n",
    "# points = np.array([[910, 650], [206, 650], [458, 500], [696, 500]])\n",
    "points=np.array([[10,10],[100,10],[100,100],[10,100]])\n",
    "cv2.polylines(img, [a], True, (255, 0, 0),10)\n",
    "\n",
    "plt.imshow(img)\n",
    "plt.show()"
   ]
  },
  {
   "cell_type": "code",
   "execution_count": null,
   "metadata": {
    "collapsed": false
   },
   "outputs": [],
   "source": [
    "len(a)"
   ]
  },
  {
   "cell_type": "code",
   "execution_count": null,
   "metadata": {
    "collapsed": true
   },
   "outputs": [],
   "source": []
  }
 ],
 "metadata": {
  "kernelspec": {
   "display_name": "Python 3",
   "language": "python",
   "name": "python3"
  },
  "language_info": {
   "codemirror_mode": {
    "name": "ipython",
    "version": 3
   },
   "file_extension": ".py",
   "mimetype": "text/x-python",
   "name": "python",
   "nbconvert_exporter": "python",
   "pygments_lexer": "ipython3",
   "version": "3.5.2"
  }
 },
 "nbformat": 4,
 "nbformat_minor": 0
}
