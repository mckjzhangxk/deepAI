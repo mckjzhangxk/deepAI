{
 "cells": [
  {
   "cell_type": "code",
   "execution_count": 1,
   "metadata": {
    "collapsed": false
   },
   "outputs": [],
   "source": [
    "import torch\n",
    "import torch.nn as nn\n",
    "import torch.nn.functional as F\n",
    "import torch.optim as optim\n",
    "from torchvision.datasets import MNIST\n",
    "import torchvision.transforms as transforms"
   ]
  },
  {
   "cell_type": "code",
   "execution_count": null,
   "metadata": {
    "collapsed": false
   },
   "outputs": [],
   "source": [
    "transform = transforms.Compose(\n",
    "    [transforms.ToTensor(),\n",
    "    #  transforms.Normalize((0.5, 0.5, 0.5), (0.5, 0.5, 0.5))\n",
    "    ])\n",
    "trainset=MNIST('data/mnist',download=True,transform=transform)\n",
    "trainloader = torch.utils.data.DataLoader(trainset, batch_size=64,\n",
    "                                          shuffle=True, num_workers=2)\n",
    "testset=MNIST('data/mnist',download=True,transform=transform)\n",
    "testloader = torch.utils.data.DataLoader(trainset, batch_size=64,\n",
    "                                          shuffle=True, num_workers=2)"
   ]
  },
  {
   "cell_type": "code",
   "execution_count": 2,
   "metadata": {
    "collapsed": false
   },
   "outputs": [],
   "source": [
    "X=torch.rand(128,1,28,28)\n",
    "y=torch.randint(0,10,size=(128,))"
   ]
  },
  {
   "cell_type": "code",
   "execution_count": 24,
   "metadata": {
    "collapsed": false
   },
   "outputs": [],
   "source": [
    "class Head(nn.Module):\n",
    "    def __init__(self):\n",
    "        super().__init__()\n",
    "        self.nn=nn.Linear(1152,10)\n",
    "    def forward(self,x):\n",
    "        return self.nn(x)\n",
    "def flat(x):\n",
    "    return torch.reshape(x,(x.shape[0],-1))\n",
    "class ChainModel(nn.Module):\n",
    "    def __init__(self):\n",
    "        super().__init__()\n",
    "        self.conv1=nn.Conv2d(1,32,kernel_size=3)\n",
    "        self.conv2=nn.Conv2d(32,64,kernel_size=3,padding=1)\n",
    "        self.conv3=nn.Conv2d(64,128,kernel_size=3,padding=1)\n",
    "        \n",
    "    def forward(self,x):\n",
    "        x=self.conv1(x)\n",
    "        x=F.relu(x)\n",
    "       \n",
    "        x=F.max_pool2d(x,2,2)\n",
    "        x=self.conv2(x)\n",
    "        x=F.max_pool2d(x,2,2)\n",
    "        x=F.relu(x)\n",
    "        \n",
    "        x=self.conv3(x)\n",
    "        x=F.relu(x)\n",
    "        x=F.max_pool2d(x,2,2)\n",
    "        return x\n",
    "class Inception(nn.Module):\n",
    "    def __init__(self,D,num=1):\n",
    "        super().__init__()\n",
    "        self.cin=nn.Conv2d(D,D//4,kernel_size=1)\n",
    "        self.middle=nn.Sequential(*[nn.Conv2d(D//4,D//4,kernel_size=3,padding=1) for _ in range(num)])\n",
    "        self.cout=nn.Conv2d(D//4,D,kernel_size=1)\n",
    "    def forward(self,x):\n",
    "        x=F.relu(self.cin(x))\n",
    "        x=F.relu(self.middle(x))\n",
    "        x=F.relu(self.cout(x))\n",
    "        return x\n",
    "class InceptionBlock(nn.Module):\n",
    "    def __init__(self,D):\n",
    "        super().__init__()\n",
    "        self.blk1=Inception(D,1)\n",
    "        self.blk2=Inception(D,2)\n",
    "    def forward(self,x):\n",
    "        branch1=self.blk1(x)\n",
    "        branch2=self.blk2(x)\n",
    "        x=torch.cat((branch1,branch2),dim=1)\n",
    "        return x\n",
    "class NetworkModel(nn.Module):\n",
    "    def __init__(self):\n",
    "        super().__init__()\n",
    "        self.nn1=nn.Conv2d(1,32,kernel_size=3)\n",
    "        self.nn2=InceptionBlock(32)\n",
    "        self.nn3=InceptionBlock(64)\n",
    "    def forward(self,x):\n",
    "        x=self.nn1(x)\n",
    "        x=F.max_pool2d(x,2,2)\n",
    "        x=self.nn2(x)\n",
    "        x=F.max_pool2d(x,2,2)\n",
    "        x=self.nn3(x)\n",
    "        x=F.max_pool2d(x,2,2)\n",
    "        return x\n",
    "def generator(*args):\n",
    "    for model in args:\n",
    "        for param in model.parameters():\n",
    "            yield param\n",
    "\n",
    "def run_graph(model,X,y=None):\n",
    "    x=model(X)\n",
    "    x=flat(x)\n",
    "    logit=proj(x)\n",
    "    if y is not None:\n",
    "      loss=losses(logit,y)\n",
    "      return loss\n",
    "    else:\n",
    "      return logit\n",
    "def run_eval(model):\n",
    "  corr=0\n",
    "  total=0\n",
    "  for X,y in testloader:\n",
    "    logit=run_graph(model,X.to('cuda'))\n",
    "    yhat=torch.argmax(logit,dim=1).cpu()\n",
    "    corr+=(yhat==y).sum()\n",
    "    total+=y.shape[0]\n",
    "  corr=corr.numpy()\n",
    "  return (corr)/(total)"
   ]
  },
  {
   "cell_type": "code",
   "execution_count": 25,
   "metadata": {
    "collapsed": true
   },
   "outputs": [],
   "source": [
    "proj=Head()\n",
    "m1=ChainModel()\n",
    "m2=NetworkModel()\n",
    "losses=nn.CrossEntropyLoss()\n",
    "optimizer_m1 = optim.Adam(generator(m1,proj), lr=1e-3)\n",
    "optimizer_m2 = optim.Adam(generator(m2), lr=1e-3)"
   ]
  },
  {
   "cell_type": "code",
   "execution_count": null,
   "metadata": {
    "collapsed": false
   },
   "outputs": [],
   "source": [
    "for i in range(300):\n",
    "    optimizer_m1.zero_grad()\n",
    "    loss=run_graph(m1,X,y)\n",
    "    loss.backward()\n",
    "    optimizer_m1.step()\n",
    "    print(loss)"
   ]
  }
 ],
 "metadata": {
  "kernelspec": {
   "display_name": "Python 3",
   "language": "python",
   "name": "python3"
  },
  "language_info": {
   "codemirror_mode": {
    "name": "ipython",
    "version": 3
   },
   "file_extension": ".py",
   "mimetype": "text/x-python",
   "name": "python",
   "nbconvert_exporter": "python",
   "pygments_lexer": "ipython3",
   "version": "3.5.2"
  }
 },
 "nbformat": 4,
 "nbformat_minor": 0
}
