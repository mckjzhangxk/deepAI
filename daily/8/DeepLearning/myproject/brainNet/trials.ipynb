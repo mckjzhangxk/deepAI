{
 "cells": [
  {
   "cell_type": "code",
   "execution_count": 1,
   "metadata": {
    "collapsed": false
   },
   "outputs": [],
   "source": [
    "import torch\n",
    "import torch.nn as nn\n",
    "import torch.nn.functional as F\n",
    "import torch.optim as optim\n",
    "from torchvision.datasets import MNIST\n",
    "import torchvision.transforms as transforms"
   ]
  },
  {
   "cell_type": "code",
   "execution_count": null,
   "metadata": {
    "collapsed": false
   },
   "outputs": [],
   "source": [
    "transform = transforms.Compose(\n",
    "    [transforms.ToTensor(),\n",
    "    #  transforms.Normalize((0.5, 0.5, 0.5), (0.5, 0.5, 0.5))\n",
    "    ])\n",
    "trainset=MNIST('data/mnist',download=True,transform=transform)\n",
    "trainloader = torch.utils.data.DataLoader(trainset, batch_size=64,\n",
    "                                          shuffle=True, num_workers=2)\n",
    "testset=MNIST('data/mnist',download=True,transform=transform)\n",
    "testloader = torch.utils.data.DataLoader(trainset, batch_size=64,\n",
    "                                          shuffle=True, num_workers=2)"
   ]
  },
  {
   "cell_type": "code",
   "execution_count": 6,
   "metadata": {
    "collapsed": false
   },
   "outputs": [],
   "source": [
    "X=torch.rand(128,3,32,32)\n",
    "y=torch.randint(0,10,size=(128,))"
   ]
  },
  {
   "cell_type": "code",
   "execution_count": 7,
   "metadata": {
    "collapsed": false
   },
   "outputs": [],
   "source": [
    "class Head(nn.Module):\n",
    "    def __init__(self):\n",
    "        super().__init__()\n",
    "        self.nn=nn.Linear(1152,10)\n",
    "    def forward(self,x):\n",
    "        return self.nn(x)\n",
    "def flat(x):\n",
    "    return torch.reshape(x,(x.shape[0],-1))\n",
    "class ChainModel(nn.Module):\n",
    "    def __init__(self):\n",
    "        super().__init__()\n",
    "        self.conv1=nn.Conv2d(3,32,kernel_size=3)\n",
    "        self.conv2=nn.Conv2d(32,64,kernel_size=3,padding=1)\n",
    "        self.conv3=nn.Conv2d(64,128,kernel_size=3,padding=1)\n",
    "        \n",
    "    def forward(self,x):\n",
    "        x=self.conv1(x)\n",
    "        x=F.relu(x)\n",
    "       \n",
    "        x=F.max_pool2d(x,2,2)\n",
    "        x=self.conv2(x)\n",
    "        x=F.max_pool2d(x,2,2)\n",
    "        x=F.relu(x)\n",
    "        \n",
    "        x=self.conv3(x)\n",
    "        x=F.relu(x)\n",
    "        x=F.max_pool2d(x,2,2)\n",
    "        return x\n",
    "class Inception(nn.Module):\n",
    "    def __init__(self,D,num=1):\n",
    "        super().__init__()\n",
    "        self.cin=nn.Conv2d(D,D//4,kernel_size=1)\n",
    "        self.middle=nn.Sequential(*[nn.Conv2d(D//4,D//4,kernel_size=3,padding=1) for _ in range(num)])\n",
    "        self.cout=nn.Conv2d(D//4,D,kernel_size=1)\n",
    "    def forward(self,x):\n",
    "        x=F.relu(self.cin(x))\n",
    "        x=F.relu(self.middle(x))\n",
    "        x=F.relu(self.cout(x))\n",
    "        return x\n",
    "class InceptionBlock(nn.Module):\n",
    "    def __init__(self,D):\n",
    "        super().__init__()\n",
    "        self.blk1=Inception(D,1)\n",
    "        self.blk2=Inception(D,2)\n",
    "    def forward(self,x):\n",
    "        branch1=self.blk1(x)\n",
    "        branch2=self.blk2(x)\n",
    "        x=torch.cat((branch1,branch2),dim=1)\n",
    "        return x\n",
    "class NetworkModel(nn.Module):\n",
    "    def __init__(self):\n",
    "        super().__init__()\n",
    "        self.nn1=nn.Conv2d(1,32,kernel_size=3)\n",
    "        self.nn2=InceptionBlock(32)\n",
    "        self.nn3=InceptionBlock(64)\n",
    "    def forward(self,x):\n",
    "        x=self.nn1(x)\n",
    "        x=F.max_pool2d(x,2,2)\n",
    "        x=self.nn2(x)\n",
    "        x=F.max_pool2d(x,2,2)\n",
    "        x=self.nn3(x)\n",
    "        x=F.max_pool2d(x,2,2)\n",
    "        return x\n",
    "def generator(*args):\n",
    "    for model in args:\n",
    "        for param in model.parameters():\n",
    "            yield param\n",
    "\n",
    "def run_graph(model,X,y=None):\n",
    "    x=model(X)\n",
    "    x=flat(x)\n",
    "    logit=proj(x)\n",
    "    if y is not None:\n",
    "      loss=losses(logit,y)\n",
    "      return loss\n",
    "    else:\n",
    "      return logit\n",
    "def run_eval(model):\n",
    "  corr=0\n",
    "  total=0\n",
    "  for X,y in testloader:\n",
    "    logit=run_graph(model,X.to('cuda'))\n",
    "    yhat=torch.argmax(logit,dim=1).cpu()\n",
    "    corr+=(yhat==y).sum()\n",
    "    total+=y.shape[0]\n",
    "  corr=corr.numpy()\n",
    "  return (corr)/(total)"
   ]
  },
  {
   "cell_type": "code",
   "execution_count": 8,
   "metadata": {
    "collapsed": true
   },
   "outputs": [],
   "source": [
    "proj=Head()\n",
    "m1=ChainModel()\n",
    "m2=NetworkModel()\n",
    "losses=nn.CrossEntropyLoss()\n",
    "optimizer_m1 = optim.Adam(generator(m1,proj), lr=1e-3)\n",
    "optimizer_m2 = optim.Adam(generator(m2), lr=1e-3)"
   ]
  },
  {
   "cell_type": "code",
   "execution_count": 9,
   "metadata": {
    "collapsed": false
   },
   "outputs": [
    {
     "name": "stdout",
     "output_type": "stream",
     "text": [
      "tensor(2.3071, grad_fn=<NllLossBackward>)\n",
      "tensor(2.2894, grad_fn=<NllLossBackward>)\n",
      "tensor(2.2813, grad_fn=<NllLossBackward>)\n",
      "tensor(2.2789, grad_fn=<NllLossBackward>)\n",
      "tensor(2.2739, grad_fn=<NllLossBackward>)\n",
      "tensor(2.2693, grad_fn=<NllLossBackward>)\n",
      "tensor(2.2650, grad_fn=<NllLossBackward>)\n",
      "tensor(2.2597, grad_fn=<NllLossBackward>)\n",
      "tensor(2.2542, grad_fn=<NllLossBackward>)\n",
      "tensor(2.2485, grad_fn=<NllLossBackward>)\n",
      "tensor(2.2426, grad_fn=<NllLossBackward>)\n",
      "tensor(2.2361, grad_fn=<NllLossBackward>)\n",
      "tensor(2.2288, grad_fn=<NllLossBackward>)\n",
      "tensor(2.2209, grad_fn=<NllLossBackward>)\n",
      "tensor(2.2122, grad_fn=<NllLossBackward>)\n",
      "tensor(2.2027, grad_fn=<NllLossBackward>)\n"
     ]
    },
    {
     "ename": "KeyboardInterrupt",
     "evalue": "",
     "output_type": "error",
     "traceback": [
      "\u001b[1;31m---------------------------------------------------------------------------\u001b[0m",
      "\u001b[1;31mKeyboardInterrupt\u001b[0m                         Traceback (most recent call last)",
      "\u001b[1;32m<ipython-input-9-7e30aab5e904>\u001b[0m in \u001b[0;36m<module>\u001b[1;34m()\u001b[0m\n\u001b[0;32m      2\u001b[0m     \u001b[0moptimizer_m1\u001b[0m\u001b[1;33m.\u001b[0m\u001b[0mzero_grad\u001b[0m\u001b[1;33m(\u001b[0m\u001b[1;33m)\u001b[0m\u001b[1;33m\u001b[0m\u001b[0m\n\u001b[0;32m      3\u001b[0m     \u001b[0mloss\u001b[0m\u001b[1;33m=\u001b[0m\u001b[0mrun_graph\u001b[0m\u001b[1;33m(\u001b[0m\u001b[0mm1\u001b[0m\u001b[1;33m,\u001b[0m\u001b[0mX\u001b[0m\u001b[1;33m,\u001b[0m\u001b[0my\u001b[0m\u001b[1;33m)\u001b[0m\u001b[1;33m\u001b[0m\u001b[0m\n\u001b[1;32m----> 4\u001b[1;33m     \u001b[0mloss\u001b[0m\u001b[1;33m.\u001b[0m\u001b[0mbackward\u001b[0m\u001b[1;33m(\u001b[0m\u001b[1;33m)\u001b[0m\u001b[1;33m\u001b[0m\u001b[0m\n\u001b[0m\u001b[0;32m      5\u001b[0m     \u001b[0moptimizer_m1\u001b[0m\u001b[1;33m.\u001b[0m\u001b[0mstep\u001b[0m\u001b[1;33m(\u001b[0m\u001b[1;33m)\u001b[0m\u001b[1;33m\u001b[0m\u001b[0m\n\u001b[0;32m      6\u001b[0m     \u001b[0mprint\u001b[0m\u001b[1;33m(\u001b[0m\u001b[0mloss\u001b[0m\u001b[1;33m)\u001b[0m\u001b[1;33m\u001b[0m\u001b[0m\n",
      "\u001b[1;32m/usr/local/lib/python3.5/dist-packages/torch/tensor.py\u001b[0m in \u001b[0;36mbackward\u001b[1;34m(self, gradient, retain_graph, create_graph)\u001b[0m\n\u001b[0;32m    116\u001b[0m                 \u001b[0mproducts\u001b[0m\u001b[1;33m.\u001b[0m \u001b[0mDefaults\u001b[0m \u001b[0mto\u001b[0m\u001b[0;31m \u001b[0m\u001b[0;31m`\u001b[0m\u001b[0;31m`\u001b[0m\u001b[1;32mFalse\u001b[0m\u001b[0;31m`\u001b[0m\u001b[0;31m`\u001b[0m\u001b[1;33m.\u001b[0m\u001b[1;33m\u001b[0m\u001b[0m\n\u001b[0;32m    117\u001b[0m         \"\"\"\n\u001b[1;32m--> 118\u001b[1;33m         \u001b[0mtorch\u001b[0m\u001b[1;33m.\u001b[0m\u001b[0mautograd\u001b[0m\u001b[1;33m.\u001b[0m\u001b[0mbackward\u001b[0m\u001b[1;33m(\u001b[0m\u001b[0mself\u001b[0m\u001b[1;33m,\u001b[0m \u001b[0mgradient\u001b[0m\u001b[1;33m,\u001b[0m \u001b[0mretain_graph\u001b[0m\u001b[1;33m,\u001b[0m \u001b[0mcreate_graph\u001b[0m\u001b[1;33m)\u001b[0m\u001b[1;33m\u001b[0m\u001b[0m\n\u001b[0m\u001b[0;32m    119\u001b[0m \u001b[1;33m\u001b[0m\u001b[0m\n\u001b[0;32m    120\u001b[0m     \u001b[1;32mdef\u001b[0m \u001b[0mregister_hook\u001b[0m\u001b[1;33m(\u001b[0m\u001b[0mself\u001b[0m\u001b[1;33m,\u001b[0m \u001b[0mhook\u001b[0m\u001b[1;33m)\u001b[0m\u001b[1;33m:\u001b[0m\u001b[1;33m\u001b[0m\u001b[0m\n",
      "\u001b[1;32m/usr/local/lib/python3.5/dist-packages/torch/autograd/__init__.py\u001b[0m in \u001b[0;36mbackward\u001b[1;34m(tensors, grad_tensors, retain_graph, create_graph, grad_variables)\u001b[0m\n\u001b[0;32m     91\u001b[0m     Variable._execution_engine.run_backward(\n\u001b[0;32m     92\u001b[0m         \u001b[0mtensors\u001b[0m\u001b[1;33m,\u001b[0m \u001b[0mgrad_tensors\u001b[0m\u001b[1;33m,\u001b[0m \u001b[0mretain_graph\u001b[0m\u001b[1;33m,\u001b[0m \u001b[0mcreate_graph\u001b[0m\u001b[1;33m,\u001b[0m\u001b[1;33m\u001b[0m\u001b[0m\n\u001b[1;32m---> 93\u001b[1;33m         allow_unreachable=True)  # allow_unreachable flag\n\u001b[0m\u001b[0;32m     94\u001b[0m \u001b[1;33m\u001b[0m\u001b[0m\n\u001b[0;32m     95\u001b[0m \u001b[1;33m\u001b[0m\u001b[0m\n",
      "\u001b[1;31mKeyboardInterrupt\u001b[0m: "
     ]
    }
   ],
   "source": [
    "for i in range(300):\n",
    "    optimizer_m1.zero_grad()\n",
    "    loss=run_graph(m1,X,y)\n",
    "    loss.backward()\n",
    "    optimizer_m1.step()\n",
    "    print(loss)"
   ]
  },
  {
   "cell_type": "code",
   "execution_count": null,
   "metadata": {
    "collapsed": true
   },
   "outputs": [],
   "source": []
  }
 ],
 "metadata": {
  "kernelspec": {
   "display_name": "Python 3",
   "language": "python",
   "name": "python3"
  },
  "language_info": {
   "codemirror_mode": {
    "name": "ipython",
    "version": 3
   },
   "file_extension": ".py",
   "mimetype": "text/x-python",
   "name": "python",
   "nbconvert_exporter": "python",
   "pygments_lexer": "ipython3",
   "version": "3.5.2"
  }
 },
 "nbformat": 4,
 "nbformat_minor": 0
}
