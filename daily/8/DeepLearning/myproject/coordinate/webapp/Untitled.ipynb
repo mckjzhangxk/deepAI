{
 "cells": [
  {
   "cell_type": "code",
   "execution_count": 55,
   "metadata": {
    "collapsed": true
   },
   "outputs": [],
   "source": [
    "import json\n",
    "import networkx as nx\n",
    "import numpy as np\n",
    "import matplotlib.pyplot as plt\n",
    "%matplotlib inline"
   ]
  },
  {
   "cell_type": "code",
   "execution_count": 56,
   "metadata": {
    "collapsed": true
   },
   "outputs": [],
   "source": [
    "def abc(seed=0,width=100,height=100,offset=20):\n",
    "    with open('json.txt') as fs:\n",
    "        data=json.load(fs)\n",
    "\n",
    "    G=nx.Graph()\n",
    "\n",
    "    nodes=data['nodes']\n",
    "    for node in nodes:\n",
    "        G.add_node(node['phone'])\n",
    "\n",
    "    edges=data['edges']\n",
    "    for edge in edges:\n",
    "        G.add_edge(edge['source'],edge['target'])\n",
    "\n",
    "\n",
    "    pos=nx.spring_layout(G,seed=seed)\n",
    "    nx.draw(G,pos)\n",
    "    pos_array=[]\n",
    "    for _,d in pos.items():\n",
    "        pos_array.append(d)\n",
    "    pos_array=np.array(pos_array)\n",
    "    xmin,ymin=pos_array.min(axis=0)\n",
    "\n",
    "    for node in nodes:\n",
    "        id=node['phone']\n",
    "        x,y=pos[id]\n",
    "        x,y=x-xmin,y-ymin\n",
    "\n",
    "        node['x']=int(x*width)+offset\n",
    "        node['y']=int(y*height)+offset\n",
    "    return data"
   ]
  },
  {
   "cell_type": "code",
   "execution_count": 57,
   "metadata": {
    "collapsed": false
   },
   "outputs": [
    {
     "data": {
      "image/png": "[encoded data removed]",
      "text/plain": [
       "<Figure size 600x400 with 1 Axes>"
      ]
     },
     "metadata": {},
     "output_type": "display_data"
    }
   ],
   "source": [
    "dd=abc()"
   ]
  },
  {
   "cell_type": "code",
   "execution_count": 58,
   "metadata": {
    "collapsed": false
   },
   "outputs": [],
   "source": [
    "x,y=[],[]\n",
    "for n in dd['nodes']:\n",
    "    x.append(n['x'])\n",
    "    y.append(n['y'])"
   ]
  },
  {
   "cell_type": "code",
   "execution_count": 59,
   "metadata": {
    "collapsed": false
   },
   "outputs": [
    {
     "data": {
      "text/plain": [
       "<matplotlib.collections.PathCollection at 0x7f9129226048>"
      ]
     },
     "execution_count": 59,
     "metadata": {},
     "output_type": "execute_result"
    },
    {
     "data": {
      "image/png": "[encoded data removed]",
      "text/plain": [
       "<Figure size 600x400 with 1 Axes>"
      ]
     },
     "metadata": {},
     "output_type": "display_data"
    }
   ],
   "source": [
    "plt.scatter(x,y)"
   ]
  }
 ],
 "metadata": {
  "kernelspec": {
   "display_name": "Python 3",
   "language": "python",
   "name": "python3"
  },
  "language_info": {
   "codemirror_mode": {
    "name": "ipython",
    "version": 3
   },
   "file_extension": ".py",
   "mimetype": "text/x-python",
   "name": "python",
   "nbconvert_exporter": "python",
   "pygments_lexer": "ipython3",
   "version": "3.5.2"
  }
 },
 "nbformat": 4,
 "nbformat_minor": 0
}
