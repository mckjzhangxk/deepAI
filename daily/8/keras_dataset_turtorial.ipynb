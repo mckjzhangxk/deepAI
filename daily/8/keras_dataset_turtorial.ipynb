{
 "cells": [
  {
   "cell_type": "code",
   "execution_count": null,
   "metadata": {
    "collapsed": false
   },
   "outputs": [],
   "source": [
    "from keras.preprocessing.image import ImageDataGenerator\n",
    "from cifar.CIFAR10Utils import *"
   ]
  },
  {
   "cell_type": "markdown",
   "metadata": {},
   "source": [
    "## Using Keras Data augument tool ImageDataGenerator,\n",
    "Choose Image randomly,show them,and using imageGen to see what the new\n",
    "look like"
   ]
  },
  {
   "cell_type": "code",
   "execution_count": null,
   "metadata": {
    "collapsed": true
   },
   "outputs": [],
   "source": [
    "def load_dataset(flaten=False,one_hot=True):\n",
    "    def _make_one_hot(d,C=10):\n",
    "        return (np.arange(C)==d[:,None]).astype(np.int32)\n",
    "    X_train,Y_train,X_test,Y_test=load_CIFAR10(os.path.join(os.getcwd(),'cifar/CIFAR10_DATA'))\n",
    "\n",
    "    X_train=X_train/255\n",
    "    X_test=X_test/255\n",
    "    # mean_image = np.mean(X_train, axis=0)\n",
    "    # std_image=np.std(X_train,axis=0)\n",
    "    # X_train =(X_train-mean_image)/std_image\n",
    "    # X_test = (X_test-mean_image)/std_image\n",
    "\n",
    "    if flaten:\n",
    "        X_train=X_train.reshape((-1,32*32*3))\n",
    "        X_test = X_test.reshape((-1,32*32*3))\n",
    "    if one_hot:\n",
    "        Y_train=_make_one_hot(Y_train)\n",
    "        Y_test = _make_one_hot(Y_test)\n",
    "    classes=['airplane','automobile','bird','cat','deer','dog','frog','horse','ship','truck']\n",
    "    print('\\n-------------------------------------------------------------------------')\n",
    "    print('load %d train Example,%d Test Example'%(X_train.shape[0],X_test.shape[0]))\n",
    "    print('Train Images  Shape:'+str(X_train.shape))\n",
    "    print('Train Labels  Shape:' + str(Y_train.shape))\n",
    "    print('Test  Images  Shape:'+str(X_test.shape))\n",
    "    print('Test  Labels  Shape:' + str(Y_test.shape))\n",
    "    print('-------------------------------------------------------------------------')\n",
    "    return X_train,Y_train,X_test,Y_test,classes"
   ]
  },
  {
   "cell_type": "code",
   "execution_count": null,
   "metadata": {
    "collapsed": false
   },
   "outputs": [],
   "source": [
    "X_train,Y_train,X_test,Y_test,classes=load_dataset()"
   ]
  },
  {
   "cell_type": "code",
   "execution_count": null,
   "metadata": {
    "collapsed": true
   },
   "outputs": [],
   "source": [
    "import matplotlib.pyplot as plt\n",
    "import numpy as np\n",
    "plt.rcParams['figure.figsize']=(20,20)\n",
    "% %matplotlib inline"
   ]
  },
  {
   "cell_type": "code",
   "execution_count": null,
   "metadata": {
    "collapsed": true
   },
   "outputs": [],
   "source": [
    "def imshow(X,Y=None,classes=None):\n",
    "    '''\n",
    "        X is a numpy array,size (m,h,w,c)\n",
    "        Y is a numpy array,size (m,#classes)\n",
    "    '''\n",
    "    m=X.shape[0]\n",
    "    gridSize=int(m**0.5)\n",
    "    for i in range(0,gridSize):\n",
    "        for j in range(0,gridSize):\n",
    "            _idx=i*gridSize+j\n",
    "            im=X[_idx]\n",
    "            plt.subplot(gridSize,gridSize,_idx+1)\n",
    "            plt.axis('off')\n",
    "            plt.imshow(im)\n",
    "            if Y is not None:\n",
    "                label=classes[np.argmax(Y[_idx])]\n",
    "                plt.title(label)"
   ]
  },
  {
   "cell_type": "code",
   "execution_count": null,
   "metadata": {
    "collapsed": false
   },
   "outputs": [],
   "source": [
    "seed=0\n",
    "np.random.seed(seed)\n",
    "m=X_train.shape[0]\n",
    "idxes=np.arange(m)\n",
    "np.random.shuffle(idxes)\n",
    "top=9\n",
    "X,Y=X_train[:top],Y_train[:top]\n",
    "imshow(X,Y,classes)"
   ]
  },
  {
   "cell_type": "code",
   "execution_count": null,
   "metadata": {
    "collapsed": false
   },
   "outputs": [],
   "source": [
    "#define a augument object\n",
    "#width_shift_range mean point x in orgin pic change transforn to [x-width_shift_range*w,x+width_shift_range*w]\n",
    "aug=ImageDataGenerator(horizontal_flip=False,width_shift_range=0.125,height_shift_range=0.125,\n",
    "                       samplewise_center=False,samplewise_std_normalization=False,featurewise_center=False,\n",
    "                      featurewise_std_normalization=False)\n",
    "aug.fit(X)\n",
    "gen=aug.flow(batch_size=9,x=X_train,y=Y_train,shuffle=True,seed=0)\n",
    "\n",
    "for i in range(1):\n",
    "    _x,_y=gen[0]\n",
    "    for img in _x:print('mean of image %i is %f,std is %f'%(i,np.mean(img),np.std(img)))\n",
    "    plt.figure()\n",
    "    imshow(_x,_y,classes)"
   ]
  },
  {
   "cell_type": "markdown",
   "metadata": {},
   "source": [
    "## another problem is using LeNet slide over to read numbers\n",
    "first lets load mnist dataset"
   ]
  },
  {
   "cell_type": "code",
   "execution_count": 1,
   "metadata": {
    "collapsed": false
   },
   "outputs": [
    {
     "name": "stderr",
     "output_type": "stream",
     "text": [
      "WARNING:tensorflow:From /usr/local/lib/python3.5/dist-packages/tensorflow/contrib/learn/python/learn/datasets/base.py:198: retry (from tensorflow.contrib.learn.python.learn.datasets.base) is deprecated and will be removed in a future version.\n",
      "Instructions for updating:\n",
      "Use the retry module or similar alternatives.\n"
     ]
    }
   ],
   "source": [
    "from mnist.MnistUtils import *\n",
    "plt.rcParams['image.cmap']='gray'\n",
    "import matplotlib.pyplot as plt\n",
    "import numpy as np\n",
    "import h5py\n",
    "plt.rcParams['figure.figsize']=(20,20)\n",
    "% %matplotlib inline"
   ]
  },
  {
   "cell_type": "code",
   "execution_count": 2,
   "metadata": {
    "collapsed": false
   },
   "outputs": [
    {
     "name": "stderr",
     "output_type": "stream",
     "text": [
      "WARNING:tensorflow:From /home/zhangxk/PycharmProjects/untitled/daily/8/mnist/MnistUtils.py:11: read_data_sets (from tensorflow.contrib.learn.python.learn.datasets.mnist) is deprecated and will be removed in a future version.\n",
      "Instructions for updating:\n",
      "Please use alternatives such as official/mnist/dataset.py from tensorflow/models.\n",
      "WARNING:tensorflow:From /usr/local/lib/python3.5/dist-packages/tensorflow/contrib/learn/python/learn/datasets/mnist.py:260: maybe_download (from tensorflow.contrib.learn.python.learn.datasets.base) is deprecated and will be removed in a future version.\n",
      "Instructions for updating:\n",
      "Please write your own downloading logic.\n",
      "WARNING:tensorflow:From /usr/local/lib/python3.5/dist-packages/tensorflow/contrib/learn/python/learn/datasets/mnist.py:262: extract_images (from tensorflow.contrib.learn.python.learn.datasets.mnist) is deprecated and will be removed in a future version.\n",
      "Instructions for updating:\n",
      "Please use tf.data to implement this functionality.\n",
      "WARNING:tensorflow:From /usr/local/lib/python3.5/dist-packages/tensorflow/contrib/learn/python/learn/datasets/mnist.py:267: extract_labels (from tensorflow.contrib.learn.python.learn.datasets.mnist) is deprecated and will be removed in a future version.\n",
      "Instructions for updating:\n",
      "Please use tf.data to implement this functionality.\n"
     ]
    },
    {
     "name": "stdout",
     "output_type": "stream",
     "text": [
      "Extracting MNIST_DATA/train-images-idx3-ubyte.gz\n",
      "Extracting"
     ]
    },
    {
     "name": "stderr",
     "output_type": "stream",
     "text": [
      "WARNING:tensorflow:From /usr/local/lib/python3.5/dist-packages/tensorflow/contrib/learn/python/learn/datasets/mnist.py:290: DataSet.__init__ (from tensorflow.contrib.learn.python.learn.datasets.mnist) is deprecated and will be removed in a future version.\n",
      "Instructions for updating:\n",
      "Please use alternatives such as official/mnist/dataset.py from tensorflow/models.\n"
     ]
    },
    {
     "name": "stdout",
     "output_type": "stream",
     "text": [
      " MNIST_DATA/train-labels-idx1-ubyte.gz\n",
      "Extracting MNIST_DATA/t10k-images-idx3-ubyte.gz\n",
      "Extracting MNIST_DATA/t10k-labels-idx1-ubyte.gz\n",
      "\n",
      "-------------------------------------------------------------------------\n",
      "load 55000 train Example,10000 Test Example\n",
      "Train Images  Shape:(55000, 28, 28, 1)\n",
      "Train Labels  Shape:(55000, 10)\n",
      "Test  Images  Shape:(10000, 28, 28, 1)\n",
      "Test  Labels  Shape:(10000, 10)\n",
      "-------------------------------------------------------------------------\n"
     ]
    }
   ],
   "source": [
    "X_train,Y_train,X_test,Y_test=load_dataset(one_hot=True)"
   ]
  },
  {
   "cell_type": "code",
   "execution_count": 3,
   "metadata": {
    "collapsed": false
   },
   "outputs": [
    {
     "ename": "NameError",
     "evalue": "name 'imshow' is not defined",
     "output_type": "error",
     "traceback": [
      "\u001b[1;31m---------------------------------------------------------------------------\u001b[0m",
      "\u001b[1;31mNameError\u001b[0m                                 Traceback (most recent call last)",
      "\u001b[1;32m<ipython-input-3-287ce0f5b59b>\u001b[0m in \u001b[0;36m<module>\u001b[1;34m()\u001b[0m\n\u001b[0;32m      6\u001b[0m \u001b[0mtop\u001b[0m\u001b[1;33m=\u001b[0m\u001b[1;36m9\u001b[0m\u001b[1;33m\u001b[0m\u001b[0m\n\u001b[0;32m      7\u001b[0m \u001b[0mX\u001b[0m\u001b[1;33m,\u001b[0m\u001b[0mY\u001b[0m\u001b[1;33m=\u001b[0m\u001b[0mX_train\u001b[0m\u001b[1;33m[\u001b[0m\u001b[1;33m:\u001b[0m\u001b[0mtop\u001b[0m\u001b[1;33m]\u001b[0m\u001b[1;33m,\u001b[0m\u001b[0mY_train\u001b[0m\u001b[1;33m[\u001b[0m\u001b[1;33m:\u001b[0m\u001b[0mtop\u001b[0m\u001b[1;33m]\u001b[0m\u001b[1;33m\u001b[0m\u001b[0m\n\u001b[1;32m----> 8\u001b[1;33m \u001b[0mimshow\u001b[0m\u001b[1;33m(\u001b[0m\u001b[0mnp\u001b[0m\u001b[1;33m.\u001b[0m\u001b[0msqueeze\u001b[0m\u001b[1;33m(\u001b[0m\u001b[0mX\u001b[0m\u001b[1;33m)\u001b[0m\u001b[1;33m)\u001b[0m\u001b[1;33m\u001b[0m\u001b[0m\n\u001b[0m",
      "\u001b[1;31mNameError\u001b[0m: name 'imshow' is not defined"
     ]
    }
   ],
   "source": [
    "seed=0\n",
    "np.random.seed(seed)\n",
    "m=X_train.shape[0]\n",
    "idxes=np.arange(m)\n",
    "np.random.shuffle(idxes)\n",
    "top=9\n",
    "X,Y=X_train[:top],Y_train[:top]\n",
    "imshow(np.squeeze(X))\n"
   ]
  },
  {
   "cell_type": "code",
   "execution_count": 4,
   "metadata": {
    "collapsed": true
   },
   "outputs": [],
   "source": [
    "'''\n",
    "    return a picture of digits size: H,W*n,1\n",
    "'''\n",
    "def digits(X,Y,Ty=64,maxNum=10):\n",
    "    '''\n",
    "        generate a image contain maxNum's characters,some char may\n",
    "        be blank(labeled as 11) for seq2seq model\n",
    "        \n",
    "        X:standard mnist db,shape [?,28,28,1]\n",
    "        Y:standard mnist db,shape [?,10]\n",
    "        Ty:sequence length of output\n",
    "        Tx:sequence length of input,28 x maxNum\n",
    "        \n",
    "        return retX:[28,28xmaxNum,1]\n",
    "               retY:[Ty], 11 classes\n",
    "    '''\n",
    "    m,h,w,c=X.shape\n",
    "    Tx=maxNum*w\n",
    "    #a help function convert input steps to output steps\n",
    "    def _convert(s,e):\n",
    "        ret_s,ret_y=int(s*Ty/Tx),int(e*Ty/Tx)\n",
    "        return ret_s,ret_y\n",
    "    n=np.random.randint(3,maxNum+1) # at least 3 digits\n",
    "    \n",
    "    #\n",
    "    #random choose maxNum image from Sample X,then set last maxNum-n to blank \n",
    "    idxes=np.arange(m)\n",
    "    np.random.shuffle(idxes)\n",
    "    selectIndex=idxes[:maxNum]  #the index of random chioce\n",
    "    selectX=X[selectIndex]#shape [maxNum,28,28,1]\n",
    "    selectX[n:]=0\n",
    "    #using fancy thick, convert to a list with item shape[28,28,1],so concate along axis=1\n",
    "    retX=np.concatenate(list(selectX),axis=1)  #shape [28,28xmaxNum,1]\n",
    "    \n",
    "    #handle ret_Y\n",
    "    Y=np.argmax(Y,axis=1) #shape [m,]\n",
    "    selectY=Y[selectIndex] #shape[maxNum,]\n",
    "\n",
    "    retY=np.zeros(Ty)+11 #initial to all black\n",
    "    WS=7 #window size\n",
    "    for i in range(n):\n",
    "        s,e=w*i+WS,w*i+w-WS\n",
    "        s,e=_convert(s,e)\n",
    "        retY[s:e]=selectY[i]\n",
    "        \n",
    "    return retX,retY"
   ]
  },
  {
   "cell_type": "code",
   "execution_count": 9,
   "metadata": {
    "collapsed": false
   },
   "outputs": [
    {
     "name": "stdout",
     "output_type": "stream",
     "text": [
      "[ 11.   5.   5.   5.  11.  11.  11.  11.   6.   6.   6.  11.  11.  11.   6.\n",
      "   6.   6.  11.  11.  11.   6.   6.   6.   6.  11.  11.  11.   9.   9.   9.\n",
      "  11.  11.  11.   1.   1.   1.  11.  11.  11.  11.  11.  11.  11.  11.  11.\n",
      "  11.  11.  11.  11.  11.  11.  11.  11.  11.  11.  11.  11.  11.  11.  11.\n",
      "  11.  11.  11.  11.]\n"
     ]
    },
    {
     "data": {
      "text/plain": [
       "<matplotlib.image.AxesImage at 0x7fdae69376d8>"
      ]
     },
     "execution_count": 9,
     "metadata": {},
     "output_type": "execute_result"
    },
    {
     "data": {
      "image/png": "[encoded data removed]",
      "text/plain": [
       "<matplotlib.figure.Figure at 0x7fdae696b438>"
      ]
     },
     "metadata": {},
     "output_type": "display_data"
    }
   ],
   "source": [
    "X,Y=digits(X_train,Y_train,Ty=64,maxNum=10)\n",
    "print(Y)\n",
    "plt.imshow(np.squeeze(X))"
   ]
  },
  {
   "cell_type": "code",
   "execution_count": 19,
   "metadata": {
    "collapsed": true
   },
   "outputs": [],
   "source": [
    "def mnistSeqDB(filename,sX,sY,dbSize=55000,maxNum=10,Ty=64,seed=None):\n",
    "    '''\n",
    "        sX,sY come from mnist db (m,28,28,1),(m,10)\n",
    "    '''\n",
    "    \n",
    "    np.random.seed(seed)\n",
    "    Xs,Ys=[],[]\n",
    "    for k in range(dbSize):\n",
    "        X,Y=digits(sX,sY,maxNum=maxNum,Ty=Ty)\n",
    "        Xs.append(X)\n",
    "        Ys.append(Y)\n",
    "        if k%5000==0:print('%d/%d'%(k,dbSize))\n",
    "    Xs=np.array(Xs)\n",
    "    Ys=np.array(Ys)\n",
    "    hf =h5py.File(filename,'w')\n",
    "    hf.create_dataset('X', data=Xs)\n",
    "    hf.create_dataset('Y', data=Ys)\n",
    "    hf.close()"
   ]
  },
  {
   "cell_type": "code",
   "execution_count": 24,
   "metadata": {
    "collapsed": false
   },
   "outputs": [
    {
     "name": "stdout",
     "output_type": "stream",
     "text": [
      "0/55000\n",
      "5000/55000\n",
      "10000/55000\n",
      "15000/55000\n",
      "20000/55000\n",
      "25000/55000\n",
      "30000/55000\n",
      "35000/55000\n",
      "40000/55000\n",
      "45000/55000\n",
      "50000/55000\n"
     ]
    }
   ],
   "source": [
    "filename='mnistSeq55k.h5'\n",
    "mnistSeqDB(filename,X_train,Y_train,dbSize=55000,maxNum=10,Ty=64)"
   ]
  },
  {
   "cell_type": "code",
   "execution_count": 27,
   "metadata": {
    "collapsed": true
   },
   "outputs": [],
   "source": [
    "#load Data\n",
    "hf=h5py.File(filename,'r')\n",
    "X,Y=np.array(hf.get('X')),np.array(hf.get('Y'))\n",
    "hf.close()"
   ]
  },
  {
   "cell_type": "code",
   "execution_count": 29,
   "metadata": {
    "collapsed": false
   },
   "outputs": [
    {
     "name": "stdout",
     "output_type": "stream",
     "text": [
      "[ 11.   4.   4.   4.  11.  11.  11.  11.   8.   8.   8.  11.  11.  11.   4.\n",
      "   4.   4.  11.  11.  11.   5.   5.   5.   5.  11.  11.  11.   1.   1.   1.\n",
      "  11.  11.  11.   1.   1.   1.  11.  11.  11.  11.   5.   5.   5.  11.  11.\n",
      "  11.   1.   1.   1.  11.  11.  11.   3.   3.   3.   3.  11.  11.  11.  11.\n",
      "  11.  11.  11.  11.]\n"
     ]
    },
    {
     "data": {
      "text/plain": [
       "<matplotlib.image.AxesImage at 0x7fdae665deb8>"
      ]
     },
     "execution_count": 29,
     "metadata": {},
     "output_type": "execute_result"
    },
    {
     "data": {
      "image/png": "[encoded data removed]",
      "text/plain": [
       "<matplotlib.figure.Figure at 0x7fdae6a3ffd0>"
      ]
     },
     "metadata": {},
     "output_type": "display_data"
    }
   ],
   "source": [
    "idx=10\n",
    "x,y=X[idx],Y[idx]\n",
    "print(y)\n",
    "plt.imshow(np.squeeze(x))"
   ]
  },
  {
   "cell_type": "code",
   "execution_count": null,
   "metadata": {
    "collapsed": false
   },
   "outputs": [],
   "source": [
    "from keras.layers import  Input,Conv2D,MaxPooling2D,Flatten,Dense\n",
    "from keras.models import Sequential,Model\n",
    "import tensorflow as tf\n",
    "import keras.backend as K\n",
    "import numpy as np\n",
    "from keras.initializers import he_normal,glorot_normal\n",
    "from keras.preprocessing.image import ImageDataGenerator\n",
    "from keras.optimizers import Adam\n",
    "K.set_image_data_format('channels_last')\n",
    "K.set_learning_phase(1)"
   ]
  },
  {
   "cell_type": "code",
   "execution_count": null,
   "metadata": {
    "collapsed": false
   },
   "outputs": [],
   "source": [
    "def LeNet():    \n",
    "    model=Sequential([\n",
    "        Conv2D(filters=5,strides=1,kernel_size=5,padding='SAME',\n",
    "             kernel_initializer='he_normal',activation='relu',input_shape=(28,28,1)),\n",
    "        MaxPooling2D((2,2)),\n",
    "        Conv2D(filters=16,strides=1,kernel_size=5,padding='SAME',\n",
    "               kernel_initializer='he_normal',activation='relu'),\n",
    "        MaxPooling2D((2,2)),\n",
    "        Conv2D(filters=120,strides=1,kernel_size=7,padding='VALID',\n",
    "               kernel_initializer='he_normal',activation='relu'),\n",
    "        Conv2D(filters=84,strides=1,kernel_size=1,padding='VALID',\n",
    "               kernel_initializer='he_normal',activation='relu'),\n",
    "        Conv2D(filters=10,strides=1,kernel_size=1,padding='VALID',\n",
    "               kernel_initializer='he_normal',activation='softmax'),\n",
    "        Flatten()\n",
    "    ])\n",
    "    model.summary()\n",
    "    return model\n",
    "model=LeNet()"
   ]
  },
  {
   "cell_type": "code",
   "execution_count": null,
   "metadata": {
    "collapsed": false
   },
   "outputs": [],
   "source": [
    "batchSize=128\n",
    "model.compile(optimizer=Adam(0.01),\n",
    "              loss='categorical_crossentropy',\n",
    "              metrics=['accuracy'])\n",
    "augment=ImageDataGenerator(horizontal_flip=True,height_shift_range=0.025,width_shift_range=0.025)\n",
    "gen=augment.flow(X_train,Y_train,batchSize)\n",
    "# model.fit_generator(generator=gen,epochs=20,shuffle=True,validation_data=(X_test,Y_test))\n",
    "model.fit(X_train,Y_train,batch_size=128,epochs=20,shuffle=True,validation_data=(X_test,Y_test))"
   ]
  },
  {
   "cell_type": "code",
   "execution_count": null,
   "metadata": {
    "collapsed": true
   },
   "outputs": [],
   "source": [
    "idx=np.arange(50,58)\n",
    "\n",
    "print(np.argmax(model.predict(X_test[idx,:]),axis=-1))\n",
    "print(np.max(model.predict(20+0.7*X_test[idx,:]),axis=-1))\n",
    "print(np.argmax(Y_test[idx],axis=-1))\n",
    "# print(np.argmax(Y_test[idx]))"
   ]
  },
  {
   "cell_type": "code",
   "execution_count": null,
   "metadata": {
    "collapsed": true
   },
   "outputs": [],
   "source": [
    "model.predict(np.random.rand(1,30,30,1))"
   ]
  },
  {
   "cell_type": "code",
   "execution_count": null,
   "metadata": {
    "collapsed": true
   },
   "outputs": [],
   "source": []
  }
 ],
 "metadata": {
  "kernelspec": {
   "display_name": "Python 3",
   "language": "python",
   "name": "python3"
  },
  "language_info": {
   "codemirror_mode": {
    "name": "ipython",
    "version": 3
   },
   "file_extension": ".py",
   "mimetype": "text/x-python",
   "name": "python",
   "nbconvert_exporter": "python",
   "pygments_lexer": "ipython3",
   "version": "3.5.2"
  }
 },
 "nbformat": 4,
 "nbformat_minor": 2
}
