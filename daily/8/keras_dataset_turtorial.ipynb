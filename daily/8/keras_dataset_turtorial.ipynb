{
 "cells": [
  {
   "cell_type": "markdown",
   "metadata": {
    "collapsed": false
   },
   "source": [
    "# Create Necessary Sequence DataSet for My RNN Model!"
   ]
  },
  {
   "cell_type": "code",
   "execution_count": 5,
   "metadata": {
    "collapsed": true
   },
   "outputs": [],
   "source": [
    "import matplotlib.pyplot as plt\n",
    "import numpy as np\n",
    "import h5py\n",
    "plt.rcParams['figure.figsize']=(20,20)\n",
    "plt.rcParams['image.cmap']='gray'\n",
    "% %matplotlib inline"
   ]
  },
  {
   "cell_type": "code",
   "execution_count": 6,
   "metadata": {
    "collapsed": true
   },
   "outputs": [],
   "source": [
    "def imshow(X,Y=None,classes=None):\n",
    "    '''\n",
    "        show Batch of image in grids sqrt(h) x sqrt(w)\n",
    "        X is a numpy array,size (m,h,w,c)\n",
    "        Y is a numpy array,size (m,#classes)\n",
    "    '''\n",
    "    m=X.shape[0]\n",
    "    gridSize=int(m**0.5)\n",
    "    for i in range(0,gridSize):\n",
    "        for j in range(0,gridSize):\n",
    "            _idx=i*gridSize+j\n",
    "            im=X[_idx]\n",
    "            plt.subplot(gridSize,gridSize,_idx+1)\n",
    "            plt.axis('off')\n",
    "            plt.imshow(im)\n",
    "            if Y is not None:\n",
    "                label=classes[np.argmax(Y[_idx])]\n",
    "                plt.title(label)"
   ]
  },
  {
   "cell_type": "code",
   "execution_count": null,
   "metadata": {
    "collapsed": false
   },
   "outputs": [],
   "source": []
  },
  {
   "cell_type": "code",
   "execution_count": null,
   "metadata": {
    "collapsed": false
   },
   "outputs": [],
   "source": []
  },
  {
   "cell_type": "markdown",
   "metadata": {},
   "source": [
    "## another problem is using LeNet slide over to read numbers\n",
    "first lets load mnist dataset"
   ]
  },
  {
   "cell_type": "code",
   "execution_count": 7,
   "metadata": {
    "collapsed": false
   },
   "outputs": [],
   "source": [
    "from tensorflow.examples.tutorials.mnist import input_data\n",
    "mnistPath='/home/zhangxk/PycharmProjects/untitled/deepAI/daily/AI_database/mnist/MNIST_DATA'\n",
    "def load_dataset(flaten=False,one_hot=True):\n",
    "    def _make_one_hot(d,C=10):\n",
    "        return (np.arange(C)==d[:,None]).astype(np.int32)\n",
    "\n",
    "    mnist=input_data.read_data_sets('MNIST_DATA')\n",
    "    X_train,Y_train=mnist.train.images,mnist.train.labels\n",
    "    X_test,Y_test=mnist.test.images,mnist.test.labels\n",
    "\n",
    "    if flaten==False:\n",
    "        X_train=X_train.reshape((-1,28,28,1))\n",
    "        X_test = X_test.reshape((-1, 28, 28,1))\n",
    "    if one_hot:\n",
    "        Y_train = _make_one_hot(Y_train)\n",
    "        Y_test=_make_one_hot(Y_test)\n",
    "\n",
    "\n",
    "    print('\\n-------------------------------------------------------------------------')\n",
    "    print('load %d train Example,%d Test Example'%(X_train.shape[0],X_test.shape[0]))\n",
    "    print('Train Images  Shape:'+str(X_train.shape))\n",
    "    print('Train Labels  Shape:' + str(Y_train.shape))\n",
    "    print('Test  Images  Shape:'+str(X_test.shape))\n",
    "    print('Test  Labels  Shape:' + str(Y_test.shape))\n",
    "    print('-------------------------------------------------------------------------')\n",
    "    return (X_train,Y_train,X_test,Y_test)"
   ]
  },
  {
   "cell_type": "code",
   "execution_count": 8,
   "metadata": {
    "collapsed": false
   },
   "outputs": [
    {
     "name": "stdout",
     "output_type": "stream",
     "text": [
      "Extracting MNIST_DATA/train-images-idx3-ubyte.gz\n",
      "Extracting MNIST_DATA/train-labels-idx1-ubyte.gz\n",
      "Extracting MNIST_DATA/t10k-images-idx3-ubyte.gz\n",
      "Extracting MNIST_DATA/t10k-labels-idx1-ubyte.gz\n",
      "\n",
      "-------------------------------------------------------------------------\n",
      "load 55000 train Example,10000 Test Example\n",
      "Train Images  Shape:(55000, 28, 28, 1)\n",
      "Train Labels  Shape:(55000, 10)\n",
      "Test  Images  Shape:(10000, 28, 28, 1)\n",
      "Test  Labels  Shape:(10000, 10)\n",
      "-------------------------------------------------------------------------\n"
     ]
    }
   ],
   "source": [
    "X_train,Y_train,X_test,Y_test=load_dataset(one_hot=True)"
   ]
  },
  {
   "cell_type": "code",
   "execution_count": 9,
   "metadata": {
    "collapsed": false
   },
   "outputs": [
    {
     "data": {
      "image/png": "[encoded data removed]",
      "text/plain": [
       "<matplotlib.figure.Figure at 0x7fa0c4e115f8>"
      ]
     },
     "metadata": {},
     "output_type": "display_data"
    }
   ],
   "source": [
    "#random chioce 9 digital\n",
    "seed=0\n",
    "np.random.seed(seed)\n",
    "m=X_train.shape[0]\n",
    "idxes=np.arange(m)\n",
    "np.random.shuffle(idxes)\n",
    "top=9\n",
    "X,Y=X_train[:top],Y_train[:top]\n",
    "imshow(np.squeeze(X))\n"
   ]
  },
  {
   "cell_type": "code",
   "execution_count": 16,
   "metadata": {
    "collapsed": true
   },
   "outputs": [],
   "source": [
    "'''\n",
    "    return a picture of digits size: H,W*n,1\n",
    "'''\n",
    "def digits(X,Y,Ty=64,maxNum=10):\n",
    "    '''\n",
    "        generate a image contain maxNum's characters,some char may\n",
    "        be blank(labeled as 11) for seq2seq model\n",
    "        \n",
    "        X:standard mnist db,shape [?,28,28,1]\n",
    "        Y:standard mnist db,shape [?,10]\n",
    "        Ty:sequence length of output\n",
    "        Tx:sequence length of input,28 x maxNum\n",
    "        \n",
    "        return retX:[28,28xmaxNum,1]\n",
    "               retY:[Ty], 11 classes\n",
    "    '''\n",
    "    m,h,w,c=X.shape\n",
    "    Tx=maxNum*w\n",
    "    #a help function convert input steps to output steps\n",
    "    def _convert(s,e):\n",
    "        ret_s,ret_y=int(s*Ty/Tx),int(e*Ty/Tx)\n",
    "        return ret_s,ret_y\n",
    "    n=np.random.randint(3,maxNum+1) # at least 3 digits\n",
    "    \n",
    "    #\n",
    "    #random choose maxNum image from Sample X,then set last maxNum-n to blank \n",
    "    idxes=np.arange(m)\n",
    "    np.random.shuffle(idxes)\n",
    "    selectIndex=idxes[:maxNum]  #the index of random chioce\n",
    "    selectX=X[selectIndex]#shape [maxNum,28,28,1]\n",
    "    selectX[n:]=0\n",
    "    #using fancy thick, convert to a list with item shape[28,28,1],so concate along axis=1\n",
    "    retX=np.concatenate(list(selectX),axis=1)  #shape [28,28xmaxNum,1]\n",
    "    \n",
    "    #handle ret_Y\n",
    "    Y=np.argmax(Y,axis=1) #shape [m,]\n",
    "    selectY=Y[selectIndex] #shape[maxNum,]\n",
    "\n",
    "    retY=np.zeros(Ty)+10 #initial to all black\n",
    "    WS=7 #window size\n",
    "    for i in range(n):\n",
    "        s,e=w*i+WS,w*i+w-WS\n",
    "        s,e=_convert(s,e)\n",
    "        retY[s:e]=selectY[i]\n",
    "        \n",
    "    return retX,retY"
   ]
  },
  {
   "cell_type": "code",
   "execution_count": 17,
   "metadata": {
    "collapsed": false
   },
   "outputs": [
    {
     "name": "stdout",
     "output_type": "stream",
     "text": [
      "[ 10.   2.   2.   2.  10.  10.  10.  10.   1.   1.   1.  10.  10.  10.   3.\n",
      "   3.   3.  10.  10.  10.   7.   7.   7.   7.  10.  10.  10.   6.   6.   6.\n",
      "  10.  10.  10.   0.   0.   0.  10.  10.  10.  10.   5.   5.   5.  10.  10.\n",
      "  10.   7.   7.   7.  10.  10.  10.   2.   2.   2.   2.  10.  10.  10.  10.\n",
      "  10.  10.  10.  10.]\n"
     ]
    },
    {
     "data": {
      "text/plain": [
       "<matplotlib.image.AxesImage at 0x7fa0c25714a8>"
      ]
     },
     "execution_count": 17,
     "metadata": {},
     "output_type": "execute_result"
    },
    {
     "data": {
      "image/png": "[encoded data removed]",
      "text/plain": [
       "<matplotlib.figure.Figure at 0x7fa0c22e4588>"
      ]
     },
     "metadata": {},
     "output_type": "display_data"
    }
   ],
   "source": [
    "X,Y=digits(X_train,Y_train,Ty=64,maxNum=10)\n",
    "print(Y)\n",
    "plt.imshow(np.squeeze(X))"
   ]
  },
  {
   "cell_type": "code",
   "execution_count": 18,
   "metadata": {
    "collapsed": true
   },
   "outputs": [],
   "source": [
    "def mnistSeqDB(filename,sX,sY,dbSize=55000,maxNum=10,Ty=64,seed=None):\n",
    "    '''\n",
    "        sX,sY come from mnist db (m,28,28,1),(m,10)\n",
    "    '''\n",
    "    \n",
    "    np.random.seed(seed)\n",
    "    Xs,Ys=[],[]\n",
    "    for k in range(dbSize):\n",
    "        X,Y=digits(sX,sY,maxNum=maxNum,Ty=Ty)\n",
    "        Xs.append(X)\n",
    "        Ys.append(Y)\n",
    "        if k%5000==0:print('%d/%d'%(k,dbSize))\n",
    "    Xs=np.array(Xs)\n",
    "    Ys=np.array(Ys)\n",
    "    hf =h5py.File(filename,'w')\n",
    "    hf.create_dataset('X', data=Xs)\n",
    "    hf.create_dataset('Y', data=Ys)\n",
    "    hf.close()"
   ]
  },
  {
   "cell_type": "code",
   "execution_count": 20,
   "metadata": {
    "collapsed": false
   },
   "outputs": [
    {
     "name": "stdout",
     "output_type": "stream",
     "text": [
      "0/55000\n",
      "5000/55000\n",
      "10000/55000\n",
      "15000/55000\n",
      "20000/55000\n",
      "25000/55000\n",
      "30000/55000\n",
      "35000/55000\n",
      "40000/55000\n",
      "45000/55000\n",
      "50000/55000\n"
     ]
    }
   ],
   "source": [
    "filename='/home/zhangxk/PycharmProjects/untitled/deepAI/daily/AI_database/mnistSeq/mnistSeq55k.h5'\n",
    "mnistSeqDB(filename,X_train,Y_train,dbSize=55000,maxNum=10,Ty=64)"
   ]
  },
  {
   "cell_type": "code",
   "execution_count": 14,
   "metadata": {
    "collapsed": true
   },
   "outputs": [],
   "source": [
    "#load Data\n",
    "hf=h5py.File(filename,'r')\n",
    "X,Y=np.array(hf.get('X')),np.array(hf.get('Y'))\n",
    "hf.close()"
   ]
  },
  {
   "cell_type": "code",
   "execution_count": 15,
   "metadata": {
    "collapsed": false
   },
   "outputs": [
    {
     "name": "stdout",
     "output_type": "stream",
     "text": [
      "[ 11.   0.   0.   0.  11.  11.  11.  11.   2.   2.   2.  11.  11.  11.   6.\n",
      "   6.   6.  11.  11.  11.   7.   7.   7.   7.  11.  11.  11.   9.   9.   9.\n",
      "  11.  11.  11.  11.  11.  11.  11.  11.  11.  11.  11.  11.  11.  11.  11.\n",
      "  11.  11.  11.  11.  11.  11.  11.  11.  11.  11.  11.  11.  11.  11.  11.\n",
      "  11.  11.  11.  11.]\n"
     ]
    },
    {
     "data": {
      "text/plain": [
       "<matplotlib.image.AxesImage at 0x7fa0c22677b8>"
      ]
     },
     "execution_count": 15,
     "metadata": {},
     "output_type": "execute_result"
    },
    {
     "data": {
      "image/png": "[encoded data removed]",
      "text/plain": [
       "<matplotlib.figure.Figure at 0x7fa0c2323d30>"
      ]
     },
     "metadata": {},
     "output_type": "display_data"
    }
   ],
   "source": [
    "idx=10\n",
    "x,y=X[idx],Y[idx]\n",
    "print(y)\n",
    "plt.imshow(np.squeeze(x))"
   ]
  },
  {
   "cell_type": "code",
   "execution_count": null,
   "metadata": {
    "collapsed": true
   },
   "outputs": [],
   "source": []
  }
 ],
 "metadata": {
  "kernelspec": {
   "display_name": "Python 3",
   "language": "python",
   "name": "python3"
  },
  "language_info": {
   "codemirror_mode": {
    "name": "ipython",
    "version": 3
   },
   "file_extension": ".py",
   "mimetype": "text/x-python",
   "name": "python",
   "nbconvert_exporter": "python",
   "pygments_lexer": "ipython3",
   "version": "3.5.2"
  }
 },
 "nbformat": 4,
 "nbformat_minor": 2
}
