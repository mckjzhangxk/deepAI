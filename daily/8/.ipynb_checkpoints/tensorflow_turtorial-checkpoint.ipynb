{
 "cells": [
  {
   "cell_type": "markdown",
   "metadata": {},
   "source": [
    "problem1  assign value to tensor variable"
   ]
  },
  {
   "cell_type": "code",
   "execution_count": 2,
   "metadata": {
    "collapsed": true
   },
   "outputs": [],
   "source": [
    "import tensorflow as tf\n",
    "import numpy as np"
   ]
  },
  {
   "cell_type": "raw",
   "metadata": {},
   "source": [
    "\n",
    "problem1 :assign value to tensor variable"
   ]
  },
  {
   "cell_type": "code",
   "execution_count": 3,
   "metadata": {
    "collapsed": false
   },
   "outputs": [
    {
     "name": "stdout",
     "output_type": "stream",
     "text": [
      "2.0\n"
     ]
    }
   ],
   "source": [
    "tf.reset_default_graph()\n",
    "W=tf.get_variable('W',shape=[])\n",
    "\n",
    "sess=tf.Session()\n",
    "sess.run(tf.global_variables_initializer())\n",
    "sess.run(W.assign(2.0))\n",
    "print(sess.run(W))\n",
    "sess.close()"
   ]
  },
  {
   "cell_type": "markdown",
   "metadata": {},
   "source": [
    "problem2:how to remove trainable variable"
   ]
  },
  {
   "cell_type": "code",
   "execution_count": 4,
   "metadata": {
    "collapsed": false
   },
   "outputs": [
    {
     "name": "stdout",
     "output_type": "stream",
     "text": [
      "[<tf.Variable 'W1:0' shape=() dtype=float32_ref>, <tf.Variable 'W2:0' shape=() dtype=float32_ref>]\n",
      "4.0\n",
      "1.0\n"
     ]
    }
   ],
   "source": [
    "tf.reset_default_graph()\n",
    "def nn():\n",
    "    W1=tf.get_variable('W1',shape=[])\n",
    "    W2=tf.get_variable('W2',shape=[])\n",
    "    cost=W1+W2\n",
    "    return (W1,W2,cost)\n",
    "W1,W2,cost=nn()\n",
    "opt=tf.train.GradientDescentOptimizer(1).minimize(cost)\n",
    "\n",
    "\n",
    "sess=tf.InteractiveSession()\n",
    "sess.run(W1.assign(5.0))\n",
    "sess.run(W2.assign(5.0))\n",
    "\n",
    "for i in range(3):\n",
    "    sess.run(opt)\n",
    "print(tf.trainable_variables())\n",
    "print(cost.eval()) #output 4\n",
    "\n",
    "opt=tf.train.GradientDescentOptimizer(1).minimize(cost,var_list=[W2])\n",
    "#train nn again\n",
    "for i in range(3):\n",
    "    sess.run(opt)\n",
    "print(cost.eval())"
   ]
  },
  {
   "cell_type": "markdown",
   "metadata": {
    "collapsed": true
   },
   "source": [
    "problem3:share parameter"
   ]
  },
  {
   "cell_type": "code",
   "execution_count": 40,
   "metadata": {
    "collapsed": false
   },
   "outputs": [
    {
     "name": "stdout",
     "output_type": "stream",
     "text": [
      "-1.8911\n",
      "-5.8911\n",
      "-9.8911\n"
     ]
    },
    {
     "data": {
      "text/plain": [
       "[<tf.Variable 's1/W:0' shape=() dtype=float32_ref>,\n",
       " <tf.Variable 'W:0' shape=() dtype=float32_ref>]"
      ]
     },
     "execution_count": 40,
     "metadata": {},
     "output_type": "execute_result"
    }
   ],
   "source": [
    "tf.reset_default_graph()\n",
    "tf.set_random_seed(1)\n",
    "\n",
    "def nn(X):\n",
    "    #create variables if they do not exist, and return them otherwise;\n",
    "    with tf.variable_scope('s1',reuse=tf.AUTO_REUSE):  \n",
    "        W=tf.get_variable('W',shape=[])\n",
    "        out=X*W\n",
    "    return out\n",
    "def compute_cost(f1,f2):\n",
    "    return f1+f2\n",
    "X1=tf.constant(-5.0)\n",
    "X2=tf.constant(3.0)\n",
    "\n",
    "loss=compute_cost(nn(X1),nn(X2))\n",
    "opt=tf.train.GradientDescentOptimizer(1).minimize(loss)\n",
    "\n",
    "sess=tf.InteractiveSession()\n",
    "sess.run(tf.global_variables_initializer())\n",
    "for i in range(3):\n",
    "    sess.run(opt)\n",
    "    _c=sess.run(loss)\n",
    "    #notice grad=X1+X2,cost=X1(W-X1-X2)+X2(W-X1-X2)=cost_old-(X1+X2)**2\n",
    "    print(_c)\n"
   ]
  },
  {
   "cell_type": "code",
   "execution_count": null,
   "metadata": {
    "collapsed": true
   },
   "outputs": [],
   "source": []
  }
 ],
 "metadata": {
  "kernelspec": {
   "display_name": "Python 3",
   "language": "python",
   "name": "python3"
  },
  "language_info": {
   "codemirror_mode": {
    "name": "ipython",
    "version": 3
   },
   "file_extension": ".py",
   "mimetype": "text/x-python",
   "name": "python",
   "nbconvert_exporter": "python",
   "pygments_lexer": "ipython3",
   "version": "3.5.2"
  }
 },
 "nbformat": 4,
 "nbformat_minor": 0
}
