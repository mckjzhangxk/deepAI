{
 "cells": [
  {
   "cell_type": "code",
   "execution_count": 3,
   "metadata": {},
   "outputs": [],
   "source": [
    "import numpy as np\n",
    "import tensorflow as tf\n",
    "from common import imshow,load_dataset\n",
    "import matplotlib\n",
    "import matplotlib.pyplot as plt\n",
    "import matplotlib.gridspec as gridspec\n",
    "plt.rcParams['image.cmap']='gray'\n",
    "plt.rcParams['figure.figsize']=(10.0,8.0)\n",
    "plt.rcParams['image.interpolation']='nearest'\n",
    "%matplotlib inline\n"
   ]
  },
  {
   "cell_type": "markdown",
   "metadata": {},
   "source": [
    "## Prepare Data Set"
   ]
  },
  {
   "cell_type": "code",
   "execution_count": 4,
   "metadata": {},
   "outputs": [],
   "source": [
    "def get_session():\n",
    "    config=tf.ConfigProto()\n",
    "    config.gpu_options.allow_growth=True\n",
    "    sess=tf.Session(config=config)\n",
    "    return sess"
   ]
  },
  {
   "cell_type": "code",
   "execution_count": 5,
   "metadata": {},
   "outputs": [
    {
     "name": "stdout",
     "output_type": "stream",
     "text": [
      "WARNING:tensorflow:From /home/zxk/PycharmProjects/deepAI/daily/8/common.py:63: read_data_sets (from tensorflow.contrib.learn.python.learn.datasets.mnist) is deprecated and will be removed in a future version.\n",
      "Instructions for updating:\n",
      "Please use alternatives such as official/mnist/dataset.py from tensorflow/models.\n",
      "WARNING:tensorflow:From /usr/local/lib/python3.5/dist-packages/tensorflow/contrib/learn/python/learn/datasets/mnist.py:260: maybe_download (from tensorflow.contrib.learn.python.learn.datasets.base) is deprecated and will be removed in a future version.\n",
      "Instructions for updating:\n",
      "Please write your own downloading logic.\n",
      "WARNING:tensorflow:From /usr/local/lib/python3.5/dist-packages/tensorflow/contrib/learn/python/learn/datasets/mnist.py:262: extract_images (from tensorflow.contrib.learn.python.learn.datasets.mnist) is deprecated and will be removed in a future version.\n",
      "Instructions for updating:\n",
      "Please use tf.data to implement this functionality.\n",
      "Extracting ../AI_database/mnist/MNIST_DATA/train-images-idx3-ubyte.gz\n",
      "WARNING:tensorflow:From /usr/local/lib/python3.5/dist-packages/tensorflow/contrib/learn/python/learn/datasets/mnist.py:267: extract_labels (from tensorflow.contrib.learn.python.learn.datasets.mnist) is deprecated and will be removed in a future version.\n",
      "Instructions for updating:\n",
      "Please use tf.data to implement this functionality.\n",
      "Extracting ../AI_database/mnist/MNIST_DATA/train-labels-idx1-ubyte.gz\n",
      "Extracting ../AI_database/mnist/MNIST_DATA/t10k-images-idx3-ubyte.gz\n",
      "Extracting ../AI_database/mnist/MNIST_DATA/t10k-labels-idx1-ubyte.gz\n",
      "WARNING:tensorflow:From /usr/local/lib/python3.5/dist-packages/tensorflow/contrib/learn/python/learn/datasets/mnist.py:290: DataSet.__init__ (from tensorflow.contrib.learn.python.learn.datasets.mnist) is deprecated and will be removed in a future version.\n",
      "Instructions for updating:\n",
      "Please use alternatives such as official/mnist/dataset.py from tensorflow/models.\n",
      "\n",
      "-------------------------------------------------------------------------\n",
      "load 55000 train Example,10000 Test Example\n",
      "Train Images  Shape:(55000, 784)\n",
      "Train Labels  Shape:(55000, 10)\n",
      "Test  Images  Shape:(10000, 784)\n",
      "Test  Labels  Shape:(10000, 10)\n",
      "-------------------------------------------------------------------------\n"
     ]
    }
   ],
   "source": [
    "X_train,Y_train,X_test,Y_test=load_dataset(flaten=True,one_hot=True)"
   ]
  },
  {
   "cell_type": "markdown",
   "metadata": {},
   "source": [
    "## Define Gans Model"
   ]
  },
  {
   "cell_type": "code",
   "execution_count": 13,
   "metadata": {},
   "outputs": [],
   "source": [
    "class GANS():\n",
    "    def __init__(self,n_x=784,n_z=784,seed=None):\n",
    "        self.disScope='discriminator'\n",
    "        self.genScope='generate'\n",
    "        \n",
    "        self.n_x=n_x\n",
    "        self.n_z=n_z\n",
    "        self.seed=None\n",
    "        \n",
    "    def _discriminator(self,X):\n",
    "        '''\n",
    "            X--->X(256)--->X(256)--->X(1)\n",
    "        '''\n",
    "        with tf.variable_scope(self.disScope,reuse=tf.AUTO_REUSE):\n",
    "            X=tf.layers.dense(X,256,\n",
    "                #kernel_initializer=tf.contrib.layers.xavier_initializer(uniform=False,seed=self.seed)\n",
    "                             )\n",
    "            X=tf.nn.leaky_relu(X,alpha=0.01)\n",
    "            \n",
    "            X=tf.layers.dense(X,256,\n",
    "                #kernel_initializer=tf.contrib.layers.xavier_initializer(uniform=False,seed=self.seed)\n",
    "                             )\n",
    "            X=tf.nn.leaky_relu(X,alpha=0.01)\n",
    "            \n",
    "            logit=tf.layers.dense(X,1)\n",
    "        return logit\n",
    "    def _generator(self,Z):\n",
    "        '''\n",
    "            Z--->X(1024)-->X(1024)-->X(n_x)->tanh\n",
    "        '''\n",
    "        with tf.variable_scope(self.genScope,reuse=tf.AUTO_REUSE):\n",
    "            X=tf.layers.dense(Z,1024,activation=tf.nn.relu,\n",
    "                              #kernel_initializer=tf.contrib.layers.xavier_initializer(uniform=False,seed=self.seed)\n",
    "                             )\n",
    "            X=tf.layers.dense(X,1024,activation=tf.nn.relu,\n",
    "                              #kernel_initializer=tf.contrib.layers.xavier_initializer(uniform=False,seed=self.seed)\n",
    "                             )\n",
    "            X=tf.layers.dense(X,self.n_x,\n",
    "                              activation=tf.tanh,\n",
    "                              #kernel_initializer=tf.contrib.layers.xavier_initializer(uniform=False,seed=self.seed)\n",
    "                             )\n",
    "        return X\n",
    "                              \n",
    "    def model(self,X,Z):\n",
    "        '''\n",
    "            X: a image,shape [batch,n_x]\n",
    "            Z: latent variable,shape[batch,n_z]\n",
    "            return logit_real,logit_fake,G_sample\n",
    "        '''\n",
    "        logit_real=self._discriminator(2*X-1.0)\n",
    "\n",
    "        G_Sample=self._generator(Z)\n",
    "        logit_fake=self._discriminator(G_Sample)\n",
    "        \n",
    "        return logit_real,logit_fake,G_Sample\n",
    "    \n",
    "    def loss(self,logit_real,logit_fake):\n",
    "        '''\n",
    "            compute loss for discriminator D_loss\n",
    "            and loss for generator G_loss\n",
    "            \n",
    "            D_loss=-mean(single_entropy([logit_real,logit_fake],[1,0]))\n",
    "            G_loss=-mean(single_entropy(logit_fake,1))\n",
    "        '''\n",
    "    \n",
    "        #Discriminator Loss\n",
    "        label_real = tf.ones_like(logit_real)\n",
    "        label_fake = tf.zeros_like(logit_fake)\n",
    "        \n",
    "        D_loss_real = tf.nn.sigmoid_cross_entropy_with_logits(logits=logit_real, labels=label_real)\n",
    "        D_loss_fake = tf.nn.sigmoid_cross_entropy_with_logits(logits=logit_fake, labels=label_fake)\n",
    "        D_loss=tf.reduce_mean(D_loss_real+D_loss_fake)\n",
    "        \n",
    "        G_loss=tf.reduce_mean(tf.nn.sigmoid_cross_entropy_with_logits(logits=logit_fake,labels=tf.ones_like(logit_fake)))\n",
    "        G_loss=tf.reduce_mean(-tf.log(tf.nn.sigmoid(logit_fake)))\n",
    "\n",
    "        return D_loss,G_loss\n",
    "    def get_solvers(self,lr,beta):\n",
    "        D_solver=tf.train.AdamOptimizer(lr,beta1=beta)\n",
    "        G_solver=tf.train.AdamOptimizer(lr,beta1=beta)\n",
    "        return D_solver,G_solver\n",
    "    def buildModel(self,batch=128,lr=1e-3,beta1=0.5):\n",
    "        '''\n",
    "            for entile model for training:\n",
    "            1.input layer :X(n_x),Z(n_x)\n",
    "            2.model struct  model(X,Z)=logit_real,logit_fake,G_Sample \n",
    "            3.loss: loss(logit_real,logit_fake)=D_loss,G_loss\n",
    "            4.build 2 optimizer D_opmizer,G_optimizer,wrt var_list\n",
    "            \n",
    "            return X,D_loss,G_loss,D_opmizer,G_optimizer,G_Sample\n",
    "        '''\n",
    "        \n",
    "        #step 1\n",
    "        X=tf.placeholder(shape=[batch,self.n_x],dtype=tf.float32)\n",
    "        Z=tf.random_uniform((batch,self.n_z),-1,1,dtype=tf.float32,seed=self.seed)\n",
    "        #step2\n",
    "        logit_real,logit_fake,G_Sample=self.model(X,Z)\n",
    "        #step3\n",
    "        D_loss,G_loss=self.loss(logit_real,logit_fake)\n",
    "        #step4\n",
    "        D_vars=tf.get_collection(tf.GraphKeys.TRAINABLE_VARIABLES,scope=self.disScope)\n",
    "        G_vars=tf.get_collection(tf.GraphKeys.TRAINABLE_VARIABLES,scope=self.genScope)\n",
    "    \n",
    "        D_solver,G_solver=self.get_solvers(lr,beta1)\n",
    "\n",
    "        D_optimizer=D_solver.minimize(D_loss,var_list=D_vars)\n",
    "        G_optimizer=G_solver.minimize(G_loss,var_list=G_vars)\n",
    "        \n",
    "        return (X,D_loss,G_loss,D_optimizer,G_optimizer,G_Sample)\n",
    "    \n",
    "    def fit(self,sess,Xd,batch=128,epoch=10,lr=1e-3,beta1=0.5,print_every=50,show_every=250):\n",
    "        \n",
    "        #prepare the miniBatch Data,defina a generator\n",
    "        def miniBatch(Xd,batch):\n",
    "            m=len(Xd)\n",
    "            if m%batch>0:Xd=Xd[:-(m%batch)]\n",
    "            m=len(Xd)\n",
    "            i=0\n",
    "            while True:\n",
    "                start=(i*batch)%m\n",
    "                end=batch+start\n",
    "                yield Xd[start:end]\n",
    "                i+=1\n",
    "        gen=miniBatch(Xd,batch)\n",
    "        #build the Network\n",
    "        \n",
    "        X,D_loss,G_loss,D_Optimizer,G_optimizer,G_Sample=self.buildModel(batch,lr,beta1)\n",
    "        \n",
    "        #begin training!\n",
    "        max_iters=len(Xd)*epoch//batch\n",
    "        sess.run(tf.global_variables_initializer())\n",
    "        D_loss_history,G_loss_history=[],[]\n",
    "        for it in range(max_iters):\n",
    "            if it% show_every==0:\n",
    "                d=self.n_x**0.5\n",
    "                sample=sess.run(G_Sample)\n",
    "                imshow(sample[:16].reshape(-1,28,28))\n",
    "                print()\n",
    "            _,D_cost_curr=sess.run([D_Optimizer,D_loss],feed_dict={X:next(gen)})\n",
    "            _,G_cost_curr=sess.run([G_optimizer,G_loss])\n",
    "            \n",
    "            D_loss_history.append(D_cost_curr)\n",
    "            G_loss_history.append(G_cost_curr)\n",
    "            \n",
    "\n",
    "            if it%print_every==0:\n",
    "                print( 'Iter:{}/{},D_loss:{:.4},G_loss:{:.4}'.format(it,max_iters,D_cost_curr,G_cost_curr))\n",
    "        return D_loss_history,G_loss_history"
   ]
  },
  {
   "cell_type": "code",
   "execution_count": 14,
   "metadata": {},
   "outputs": [],
   "source": [
    "net=GANS(n_x=784,n_z=96,seed=None)"
   ]
  },
  {
   "cell_type": "code",
   "execution_count": 15,
   "metadata": {},
   "outputs": [
    {
     "name": "stdout",
     "output_type": "stream",
     "text": [
      "\n",
      "Iter:0/2148,D_loss:1.63,G_loss:0.7737\n",
      "Iter:100/2148,D_loss:0.8073,G_loss:2.222\n",
      "Iter:200/2148,D_loss:0.9681,G_loss:1.831\n",
      "Iter:300/2148,D_loss:0.7988,G_loss:1.617\n",
      "Iter:400/2148,D_loss:1.257,G_loss:1.788\n",
      "Iter:500/2148,D_loss:1.477,G_loss:1.0\n",
      "Iter:600/2148,D_loss:1.397,G_loss:1.089\n",
      "Iter:700/2148,D_loss:1.204,G_loss:1.525\n",
      "Iter:800/2148,D_loss:0.9756,G_loss:1.763\n",
      "Iter:900/2148,D_loss:1.137,G_loss:3.057\n"
     ]
    },
    {
     "name": "stderr",
     "output_type": "stream",
     "text": [
      "/usr/local/lib/python3.5/dist-packages/matplotlib/cbook/deprecation.py:107: MatplotlibDeprecationWarning: Adding an axes using the same arguments as a previous axes currently reuses the earlier instance.  In a future version, a new instance will always be created and returned.  Meanwhile, this warning can be suppressed, and the future behavior ensured, by passing a unique label to each axes instance.\n",
      "  warnings.warn(message, mplDeprecation, stacklevel=1)\n"
     ]
    },
    {
     "name": "stdout",
     "output_type": "stream",
     "text": [
      "\n",
      "Iter:1000/2148,D_loss:1.019,G_loss:1.298\n",
      "Iter:1100/2148,D_loss:1.359,G_loss:1.256\n",
      "Iter:1200/2148,D_loss:1.768,G_loss:0.8241\n",
      "Iter:1300/2148,D_loss:1.313,G_loss:1.375\n",
      "Iter:1400/2148,D_loss:1.303,G_loss:1.644\n",
      "Iter:1500/2148,D_loss:1.086,G_loss:1.253\n",
      "Iter:1600/2148,D_loss:1.205,G_loss:1.021\n",
      "Iter:1700/2148,D_loss:1.208,G_loss:1.117\n",
      "Iter:1800/2148,D_loss:1.211,G_loss:0.9413\n",
      "Iter:1900/2148,D_loss:1.374,G_loss:0.8438\n",
      "\n",
      "Iter:2000/2148,D_loss:1.279,G_loss:0.9925\n",
      "Iter:2100/2148,D_loss:1.198,G_loss:1.392\n"
     ]
    },
    {
     "data": {
      "image/png": "[encoded data removed]",
      "text/plain": [
       "<Figure size 432x288 with 16 Axes>"
      ]
     },
     "metadata": {},
     "output_type": "display_data"
    }
   ],
   "source": [
    "tf.reset_default_graph()\n",
    "sess=get_session()\n",
    "his_d_loss,his_g_loss=net.fit(sess,X_train,batch=128,epoch=5,lr=1e-3,beta1=0.5,print_every=100,show_every=1000)\n",
    "sess.close()"
   ]
  },
  {
   "cell_type": "code",
   "execution_count": 7,
   "metadata": {},
   "outputs": [
    {
     "data": {
      "text/plain": [
       "Text(0.5,1,'g_loss')"
      ]
     },
     "execution_count": 7,
     "metadata": {},
     "output_type": "execute_result"
    },
    {
     "data": {
      "image/png": "[encoded data removed]",
      "text/plain": [
       "<Figure size 432x288 with 2 Axes>"
      ]
     },
     "metadata": {},
     "output_type": "display_data"
    }
   ],
   "source": [
    "plt.subplot(2,1,1)\n",
    "plt.plot(his_d_loss)\n",
    "plt.title('d_loss')\n",
    "\n",
    "plt.subplot(2,1,2)\n",
    "plt.plot(his_g_loss)\n",
    "plt.title('g_loss')\n",
    "# for i in range(10):\n",
    "#     if(i %2==0):\n",
    "#         imshow(X_train[:16].reshape(-1,28,28))\n",
    "#     print('ss')"
   ]
  },
  {
   "cell_type": "markdown",
   "metadata": {},
   "source": [
    "## I want Discriminator learn slowly,I choose SGD Momutum instead of Adam"
   ]
  },
  {
   "cell_type": "code",
   "execution_count": 43,
   "metadata": {},
   "outputs": [],
   "source": [
    "class GANS_1(GANS):\n",
    "    def get_solvers(self,lr,beta):\n",
    "        print('========================SGD solver and Adam solver========================')\n",
    "        D_solver=tf.train.AdamOptimizer(lr*(1-beta)*0.8,beta)\n",
    "        G_solver=tf.train.AdamOptimizer(lr,beta1=beta)\n",
    "        return D_solver,G_solver"
   ]
  },
  {
   "cell_type": "code",
   "execution_count": 44,
   "metadata": {},
   "outputs": [
    {
     "name": "stdout",
     "output_type": "stream",
     "text": [
      "========================SGD solver and Adam solver========================\n",
      "\n",
      "Iter:0/12890,D_loss:1.594,G_loss:0.7312\n",
      "Iter:100/12890,D_loss:0.4457,G_loss:1.163\n",
      "Iter:200/12890,D_loss:1.218,G_loss:1.324\n",
      "Iter:300/12890,D_loss:1.357,G_loss:1.091\n",
      "Iter:400/12890,D_loss:1.354,G_loss:0.9392\n",
      "Iter:500/12890,D_loss:1.036,G_loss:1.17\n",
      "Iter:600/12890,D_loss:1.498,G_loss:0.8657\n",
      "Iter:700/12890,D_loss:1.285,G_loss:0.8582\n",
      "Iter:800/12890,D_loss:1.25,G_loss:1.216\n",
      "Iter:900/12890,D_loss:1.344,G_loss:0.8768\n"
     ]
    },
    {
     "name": "stderr",
     "output_type": "stream",
     "text": [
      "/usr/local/lib/python3.5/dist-packages/matplotlib/cbook/deprecation.py:107: MatplotlibDeprecationWarning: Adding an axes using the same arguments as a previous axes currently reuses the earlier instance.  In a future version, a new instance will always be created and returned.  Meanwhile, this warning can be suppressed, and the future behavior ensured, by passing a unique label to each axes instance.\n",
      "  warnings.warn(message, mplDeprecation, stacklevel=1)\n"
     ]
    },
    {
     "name": "stdout",
     "output_type": "stream",
     "text": [
      "\n",
      "Iter:1000/12890,D_loss:1.352,G_loss:1.012\n",
      "Iter:1100/12890,D_loss:1.49,G_loss:0.8081\n",
      "Iter:1200/12890,D_loss:1.323,G_loss:1.0\n",
      "Iter:1300/12890,D_loss:1.004,G_loss:1.471\n",
      "Iter:1400/12890,D_loss:1.095,G_loss:1.112\n",
      "Iter:1500/12890,D_loss:1.285,G_loss:1.209\n",
      "Iter:1600/12890,D_loss:1.327,G_loss:1.281\n",
      "Iter:1700/12890,D_loss:1.098,G_loss:1.289\n",
      "Iter:1800/12890,D_loss:1.115,G_loss:1.265\n",
      "Iter:1900/12890,D_loss:1.384,G_loss:1.12\n",
      "\n",
      "Iter:2000/12890,D_loss:1.261,G_loss:0.963\n",
      "Iter:2100/12890,D_loss:1.253,G_loss:1.15\n",
      "Iter:2200/12890,D_loss:1.48,G_loss:0.858\n",
      "Iter:2300/12890,D_loss:1.294,G_loss:0.8389\n",
      "Iter:2400/12890,D_loss:1.297,G_loss:0.9011\n",
      "Iter:2500/12890,D_loss:1.27,G_loss:0.991\n",
      "Iter:2600/12890,D_loss:1.111,G_loss:1.276\n",
      "Iter:2700/12890,D_loss:1.535,G_loss:0.9317\n",
      "Iter:2800/12890,D_loss:1.36,G_loss:0.8958\n",
      "Iter:2900/12890,D_loss:1.308,G_loss:0.9392\n",
      "\n",
      "Iter:3000/12890,D_loss:1.488,G_loss:0.7335\n",
      "Iter:3100/12890,D_loss:1.25,G_loss:0.8651\n",
      "Iter:3200/12890,D_loss:1.412,G_loss:0.7555\n",
      "Iter:3300/12890,D_loss:1.378,G_loss:0.913\n",
      "Iter:3400/12890,D_loss:1.372,G_loss:0.8258\n",
      "Iter:3500/12890,D_loss:1.335,G_loss:0.8321\n",
      "Iter:3600/12890,D_loss:1.438,G_loss:0.7771\n",
      "Iter:3700/12890,D_loss:1.328,G_loss:0.7792\n",
      "Iter:3800/12890,D_loss:1.32,G_loss:0.9083\n",
      "Iter:3900/12890,D_loss:1.424,G_loss:0.8248\n",
      "\n",
      "Iter:4000/12890,D_loss:1.324,G_loss:0.7442\n",
      "Iter:4100/12890,D_loss:1.269,G_loss:0.9198\n",
      "Iter:4200/12890,D_loss:1.337,G_loss:0.7712\n",
      "Iter:4300/12890,D_loss:1.386,G_loss:0.7854\n",
      "Iter:4400/12890,D_loss:1.364,G_loss:0.8015\n",
      "Iter:4500/12890,D_loss:1.349,G_loss:0.8566\n",
      "Iter:4600/12890,D_loss:1.44,G_loss:0.7327\n",
      "Iter:4700/12890,D_loss:1.382,G_loss:0.8795\n",
      "Iter:4800/12890,D_loss:1.333,G_loss:0.8545\n",
      "Iter:4900/12890,D_loss:1.364,G_loss:0.8603\n",
      "\n",
      "Iter:5000/12890,D_loss:1.381,G_loss:0.7739\n",
      "Iter:5100/12890,D_loss:1.335,G_loss:0.8024\n",
      "Iter:5200/12890,D_loss:1.384,G_loss:0.7524\n",
      "Iter:5300/12890,D_loss:1.379,G_loss:0.756\n",
      "Iter:5400/12890,D_loss:1.305,G_loss:0.9601\n",
      "Iter:5500/12890,D_loss:1.392,G_loss:0.8094\n",
      "Iter:5600/12890,D_loss:1.359,G_loss:0.7484\n",
      "Iter:5700/12890,D_loss:1.272,G_loss:1.067\n",
      "Iter:5800/12890,D_loss:1.454,G_loss:0.6685\n",
      "Iter:5900/12890,D_loss:1.358,G_loss:0.7841\n",
      "\n",
      "Iter:6000/12890,D_loss:1.316,G_loss:0.865\n",
      "Iter:6100/12890,D_loss:1.338,G_loss:0.8012\n",
      "Iter:6200/12890,D_loss:1.315,G_loss:0.8279\n",
      "Iter:6300/12890,D_loss:1.336,G_loss:0.857\n",
      "Iter:6400/12890,D_loss:1.316,G_loss:0.8224\n",
      "Iter:6500/12890,D_loss:1.309,G_loss:0.7259\n",
      "Iter:6600/12890,D_loss:1.361,G_loss:0.759\n",
      "Iter:6700/12890,D_loss:1.359,G_loss:0.7862\n",
      "Iter:6800/12890,D_loss:1.453,G_loss:0.7526\n",
      "Iter:6900/12890,D_loss:1.351,G_loss:0.7567\n",
      "\n",
      "Iter:7000/12890,D_loss:1.505,G_loss:0.7415\n",
      "Iter:7100/12890,D_loss:1.294,G_loss:0.8557\n",
      "Iter:7200/12890,D_loss:1.416,G_loss:0.6906\n",
      "Iter:7300/12890,D_loss:1.342,G_loss:0.7635\n",
      "Iter:7400/12890,D_loss:1.419,G_loss:0.7018\n",
      "Iter:7500/12890,D_loss:1.302,G_loss:0.8082\n",
      "Iter:7600/12890,D_loss:1.361,G_loss:0.7815\n",
      "Iter:7700/12890,D_loss:1.371,G_loss:0.8263\n",
      "Iter:7800/12890,D_loss:1.399,G_loss:0.8107\n",
      "Iter:7900/12890,D_loss:1.391,G_loss:0.8218\n",
      "\n",
      "Iter:8000/12890,D_loss:1.389,G_loss:0.8354\n",
      "Iter:8100/12890,D_loss:1.355,G_loss:0.7417\n",
      "Iter:8200/12890,D_loss:1.361,G_loss:0.7826\n",
      "Iter:8300/12890,D_loss:1.335,G_loss:0.7303\n",
      "Iter:8400/12890,D_loss:1.399,G_loss:0.7735\n",
      "Iter:8500/12890,D_loss:1.36,G_loss:0.759\n",
      "Iter:8600/12890,D_loss:1.277,G_loss:0.8934\n",
      "Iter:8700/12890,D_loss:1.386,G_loss:0.81\n",
      "Iter:8800/12890,D_loss:1.347,G_loss:0.7586\n",
      "Iter:8900/12890,D_loss:1.34,G_loss:0.7159\n",
      "\n",
      "Iter:9000/12890,D_loss:1.378,G_loss:0.752\n",
      "Iter:9100/12890,D_loss:1.42,G_loss:0.8606\n",
      "Iter:9200/12890,D_loss:1.365,G_loss:0.7971\n",
      "Iter:9300/12890,D_loss:1.371,G_loss:0.7743\n",
      "Iter:9400/12890,D_loss:1.394,G_loss:0.6819\n",
      "Iter:9500/12890,D_loss:1.311,G_loss:0.8152\n",
      "Iter:9600/12890,D_loss:1.356,G_loss:0.7913\n",
      "Iter:9700/12890,D_loss:1.374,G_loss:0.9083\n",
      "Iter:9800/12890,D_loss:1.348,G_loss:0.7777\n",
      "Iter:9900/12890,D_loss:1.38,G_loss:0.8218\n",
      "\n",
      "Iter:10000/12890,D_loss:1.325,G_loss:0.9868\n",
      "Iter:10100/12890,D_loss:1.254,G_loss:0.8112\n",
      "Iter:10200/12890,D_loss:1.184,G_loss:0.8179\n",
      "Iter:10300/12890,D_loss:1.319,G_loss:0.9116\n",
      "Iter:10400/12890,D_loss:1.26,G_loss:0.9152\n",
      "Iter:10500/12890,D_loss:1.297,G_loss:0.9422\n",
      "Iter:10600/12890,D_loss:1.232,G_loss:0.9903\n",
      "Iter:10700/12890,D_loss:1.257,G_loss:0.8802\n",
      "Iter:10800/12890,D_loss:1.154,G_loss:1.253\n",
      "Iter:10900/12890,D_loss:1.233,G_loss:0.9247\n",
      "\n",
      "Iter:11000/12890,D_loss:1.244,G_loss:1.0\n",
      "Iter:11100/12890,D_loss:1.235,G_loss:0.8372\n",
      "Iter:11200/12890,D_loss:1.275,G_loss:0.9374\n",
      "Iter:11300/12890,D_loss:1.241,G_loss:0.9076\n",
      "Iter:11400/12890,D_loss:1.22,G_loss:1.115\n",
      "Iter:11500/12890,D_loss:1.266,G_loss:1.053\n",
      "Iter:11600/12890,D_loss:1.213,G_loss:0.8475\n",
      "Iter:11700/12890,D_loss:1.076,G_loss:1.216\n",
      "Iter:11800/12890,D_loss:1.331,G_loss:1.037\n",
      "Iter:11900/12890,D_loss:1.175,G_loss:1.092\n",
      "\n",
      "Iter:12000/12890,D_loss:1.244,G_loss:0.8791\n",
      "Iter:12100/12890,D_loss:1.2,G_loss:1.05\n",
      "Iter:12200/12890,D_loss:1.313,G_loss:0.7913\n",
      "Iter:12300/12890,D_loss:1.242,G_loss:0.9307\n",
      "Iter:12400/12890,D_loss:1.19,G_loss:0.81\n",
      "Iter:12500/12890,D_loss:1.158,G_loss:1.006\n",
      "Iter:12600/12890,D_loss:1.189,G_loss:0.9075\n",
      "Iter:12700/12890,D_loss:1.305,G_loss:0.7855\n",
      "Iter:12800/12890,D_loss:1.192,G_loss:0.9393\n"
     ]
    },
    {
     "data": {
      "image/png": "[encoded data removed]",
      "text/plain": [
       "<Figure size 432x288 with 16 Axes>"
      ]
     },
     "metadata": {},
     "output_type": "display_data"
    }
   ],
   "source": [
    "net=GANS_1(n_x=784,n_z=96,seed=None)\n",
    "tf.reset_default_graph()\n",
    "sess=get_session()\n",
    "his_d_loss,his_g_loss=net.fit(sess,X_train,batch=128,epoch=30,lr=1e-3,beta1=0.5,print_every=100,show_every=1000)\n",
    "sess.close()"
   ]
  },
  {
   "cell_type": "code",
   "execution_count": 45,
   "metadata": {},
   "outputs": [
    {
     "data": {
      "text/plain": [
       "Text(0.5,1,'g_loss')"
      ]
     },
     "execution_count": 45,
     "metadata": {},
     "output_type": "execute_result"
    },
    {
     "data": {
      "image/png": "[encoded data removed]",
      "text/plain": [
       "<Figure size 432x288 with 2 Axes>"
      ]
     },
     "metadata": {},
     "output_type": "display_data"
    }
   ],
   "source": [
    "plt.subplot(2,1,1)\n",
    "plt.plot(his_d_loss)\n",
    "plt.title('d_loss')\n",
    "\n",
    "plt.subplot(2,1,2)\n",
    "plt.plot(his_g_loss)\n",
    "plt.title('g_loss')"
   ]
  },
  {
   "cell_type": "markdown",
   "metadata": {},
   "source": [
    "## Least Square Loss"
   ]
  },
  {
   "cell_type": "code",
   "execution_count": 8,
   "metadata": {},
   "outputs": [],
   "source": [
    "class LsGANs(GANS):\n",
    "    def loss(self,logit_real,logit_fake):\n",
    "        '''\n",
    "            logis is unnormal Score,\n",
    "            For discriminator Loss D_loss:\n",
    "                I want score for real close 0, score for fake close to 0\n",
    "            For generator Loss G_loss:\n",
    "                fool the discriminator,so fake close to 1\n",
    "            \n",
    "        '''\n",
    "        print('========================using least square loss========================')\n",
    "        D_loss=0.5*tf.reduce_mean((logit_real-1)**2 +logit_fake**2 )\n",
    "        G_loss=0.5*tf.reduce_mean((logit_fake-1)**2)\n",
    "        \n",
    "        return D_loss,G_loss"
   ]
  },
  {
   "cell_type": "code",
   "execution_count": 9,
   "metadata": {},
   "outputs": [],
   "source": [
    "net=LsGANs(n_x=784,n_z=96)"
   ]
  },
  {
   "cell_type": "code",
   "execution_count": 10,
   "metadata": {},
   "outputs": [
    {
     "name": "stdout",
     "output_type": "stream",
     "text": [
      "========================using least square loss========================\n",
      "\n",
      "Iter:0/17187,D_loss:0.875,G_loss:0.4274\n",
      "Iter:100/17187,D_loss:0.02678,G_loss:0.5374\n",
      "Iter:200/17187,D_loss:0.4629,G_loss:0.7721\n",
      "Iter:300/17187,D_loss:0.08316,G_loss:1.006\n",
      "Iter:400/17187,D_loss:0.1179,G_loss:0.3814\n",
      "Iter:500/17187,D_loss:0.1316,G_loss:0.06493\n",
      "Iter:600/17187,D_loss:0.08273,G_loss:0.4029\n",
      "Iter:700/17187,D_loss:0.1606,G_loss:0.3296\n",
      "Iter:800/17187,D_loss:0.2008,G_loss:0.4311\n",
      "Iter:900/17187,D_loss:0.1885,G_loss:0.1207\n"
     ]
    },
    {
     "name": "stderr",
     "output_type": "stream",
     "text": [
      "/usr/local/lib/python3.5/dist-packages/matplotlib/cbook/deprecation.py:107: MatplotlibDeprecationWarning: Adding an axes using the same arguments as a previous axes currently reuses the earlier instance.  In a future version, a new instance will always be created and returned.  Meanwhile, this warning can be suppressed, and the future behavior ensured, by passing a unique label to each axes instance.\n",
      "  warnings.warn(message, mplDeprecation, stacklevel=1)\n"
     ]
    },
    {
     "name": "stdout",
     "output_type": "stream",
     "text": [
      "\n",
      "Iter:1000/17187,D_loss:0.1447,G_loss:0.5347\n",
      "Iter:1100/17187,D_loss:0.1392,G_loss:0.3134\n",
      "Iter:1200/17187,D_loss:0.1385,G_loss:0.3696\n",
      "Iter:1300/17187,D_loss:0.1234,G_loss:0.3863\n",
      "Iter:1400/17187,D_loss:0.1493,G_loss:0.2589\n",
      "Iter:1500/17187,D_loss:0.1605,G_loss:0.2912\n",
      "Iter:1600/17187,D_loss:0.1994,G_loss:0.3058\n",
      "Iter:1700/17187,D_loss:0.1931,G_loss:0.257\n",
      "Iter:1800/17187,D_loss:0.4222,G_loss:1.152\n",
      "Iter:1900/17187,D_loss:0.1926,G_loss:0.3823\n",
      "\n",
      "Iter:2000/17187,D_loss:0.1904,G_loss:0.1925\n",
      "Iter:2100/17187,D_loss:0.214,G_loss:0.2004\n",
      "Iter:2200/17187,D_loss:0.194,G_loss:0.2054\n",
      "Iter:2300/17187,D_loss:0.2153,G_loss:0.1902\n",
      "Iter:2400/17187,D_loss:0.2142,G_loss:0.2117\n",
      "Iter:2500/17187,D_loss:0.2153,G_loss:0.1968\n",
      "Iter:2600/17187,D_loss:0.2436,G_loss:0.1816\n",
      "Iter:2700/17187,D_loss:0.239,G_loss:0.1777\n",
      "Iter:2800/17187,D_loss:0.2396,G_loss:0.1693\n",
      "Iter:2900/17187,D_loss:0.2164,G_loss:0.1648\n",
      "\n",
      "Iter:3000/17187,D_loss:0.2379,G_loss:0.1884\n",
      "Iter:3100/17187,D_loss:0.2253,G_loss:0.1817\n",
      "Iter:3200/17187,D_loss:0.2398,G_loss:0.1804\n",
      "Iter:3300/17187,D_loss:0.2551,G_loss:0.21\n",
      "Iter:3400/17187,D_loss:0.2408,G_loss:0.1616\n",
      "Iter:3500/17187,D_loss:0.2172,G_loss:0.1712\n",
      "Iter:3600/17187,D_loss:0.2312,G_loss:0.1712\n",
      "Iter:3700/17187,D_loss:0.2325,G_loss:0.1441\n",
      "Iter:3800/17187,D_loss:0.2114,G_loss:0.1697\n",
      "Iter:3900/17187,D_loss:0.2223,G_loss:0.1663\n",
      "\n",
      "Iter:4000/17187,D_loss:0.2285,G_loss:0.1815\n",
      "Iter:4100/17187,D_loss:0.22,G_loss:0.1664\n",
      "Iter:4200/17187,D_loss:0.2213,G_loss:0.1515\n",
      "Iter:4300/17187,D_loss:0.22,G_loss:0.2059\n",
      "Iter:4400/17187,D_loss:0.221,G_loss:0.1619\n",
      "Iter:4500/17187,D_loss:0.2309,G_loss:0.1371\n",
      "Iter:4600/17187,D_loss:0.2318,G_loss:0.161\n",
      "Iter:4700/17187,D_loss:0.2165,G_loss:0.2\n",
      "Iter:4800/17187,D_loss:0.2349,G_loss:0.154\n",
      "Iter:4900/17187,D_loss:0.2496,G_loss:0.1496\n",
      "\n",
      "Iter:5000/17187,D_loss:0.2161,G_loss:0.1518\n",
      "Iter:5100/17187,D_loss:0.2288,G_loss:0.1612\n",
      "Iter:5200/17187,D_loss:0.2358,G_loss:0.1425\n",
      "Iter:5300/17187,D_loss:0.2399,G_loss:0.1381\n",
      "Iter:5400/17187,D_loss:0.2462,G_loss:0.1541\n",
      "Iter:5500/17187,D_loss:0.2567,G_loss:0.1452\n",
      "Iter:5600/17187,D_loss:0.2352,G_loss:0.1734\n",
      "Iter:5700/17187,D_loss:0.222,G_loss:0.1616\n",
      "Iter:5800/17187,D_loss:0.2279,G_loss:0.1534\n",
      "Iter:5900/17187,D_loss:0.244,G_loss:0.1573\n",
      "\n",
      "Iter:6000/17187,D_loss:0.2208,G_loss:0.1676\n",
      "Iter:6100/17187,D_loss:0.2484,G_loss:0.139\n",
      "Iter:6200/17187,D_loss:0.2211,G_loss:0.1539\n",
      "Iter:6300/17187,D_loss:0.2333,G_loss:0.1418\n",
      "Iter:6400/17187,D_loss:0.2414,G_loss:0.1446\n",
      "Iter:6500/17187,D_loss:0.2331,G_loss:0.159\n",
      "Iter:6600/17187,D_loss:0.2452,G_loss:0.1495\n",
      "Iter:6700/17187,D_loss:0.2433,G_loss:0.1612\n",
      "Iter:6800/17187,D_loss:0.2423,G_loss:0.1347\n",
      "Iter:6900/17187,D_loss:0.2243,G_loss:0.156\n",
      "\n",
      "Iter:7000/17187,D_loss:0.2529,G_loss:0.149\n",
      "Iter:7100/17187,D_loss:0.2317,G_loss:0.1489\n",
      "Iter:7200/17187,D_loss:0.2389,G_loss:0.143\n",
      "Iter:7300/17187,D_loss:0.241,G_loss:0.1465\n",
      "Iter:7400/17187,D_loss:0.2363,G_loss:0.1475\n",
      "Iter:7500/17187,D_loss:0.2374,G_loss:0.1428\n",
      "Iter:7600/17187,D_loss:0.2146,G_loss:0.2262\n",
      "Iter:7700/17187,D_loss:0.2604,G_loss:0.1746\n",
      "Iter:7800/17187,D_loss:0.2512,G_loss:0.1572\n",
      "Iter:7900/17187,D_loss:0.2556,G_loss:0.1439\n",
      "\n",
      "Iter:8000/17187,D_loss:0.2376,G_loss:0.1345\n",
      "Iter:8100/17187,D_loss:0.2314,G_loss:0.1688\n",
      "Iter:8200/17187,D_loss:0.2362,G_loss:0.136\n",
      "Iter:8300/17187,D_loss:0.248,G_loss:0.1497\n",
      "Iter:8400/17187,D_loss:0.2447,G_loss:0.1496\n",
      "Iter:8500/17187,D_loss:0.2351,G_loss:0.1579\n",
      "Iter:8600/17187,D_loss:0.2355,G_loss:0.1747\n",
      "Iter:8700/17187,D_loss:0.2516,G_loss:0.1438\n",
      "Iter:8800/17187,D_loss:0.2512,G_loss:0.1573\n",
      "Iter:8900/17187,D_loss:0.2369,G_loss:0.1477\n",
      "\n",
      "Iter:9000/17187,D_loss:0.2484,G_loss:0.1531\n",
      "Iter:9100/17187,D_loss:0.2372,G_loss:0.1224\n",
      "Iter:9200/17187,D_loss:0.2461,G_loss:0.1291\n",
      "Iter:9300/17187,D_loss:0.2283,G_loss:0.1743\n",
      "Iter:9400/17187,D_loss:0.2451,G_loss:0.1537\n",
      "Iter:9500/17187,D_loss:0.2199,G_loss:0.1539\n",
      "Iter:9600/17187,D_loss:0.2283,G_loss:0.1381\n",
      "Iter:9700/17187,D_loss:0.2324,G_loss:0.1538\n",
      "Iter:9800/17187,D_loss:0.2393,G_loss:0.1467\n",
      "Iter:9900/17187,D_loss:0.2381,G_loss:0.1541\n",
      "\n",
      "Iter:10000/17187,D_loss:0.2259,G_loss:0.1677\n",
      "Iter:10100/17187,D_loss:0.2313,G_loss:0.1552\n",
      "Iter:10200/17187,D_loss:0.2301,G_loss:0.1799\n",
      "Iter:10300/17187,D_loss:0.2167,G_loss:0.1668\n",
      "Iter:10400/17187,D_loss:0.2333,G_loss:0.1408\n",
      "Iter:10500/17187,D_loss:0.2148,G_loss:0.1466\n",
      "Iter:10600/17187,D_loss:0.209,G_loss:0.2461\n",
      "Iter:10700/17187,D_loss:0.2114,G_loss:0.1498\n",
      "Iter:10800/17187,D_loss:0.1942,G_loss:0.1909\n",
      "Iter:10900/17187,D_loss:0.2212,G_loss:0.1368\n",
      "\n",
      "Iter:11000/17187,D_loss:0.2339,G_loss:0.1526\n",
      "Iter:11100/17187,D_loss:0.2359,G_loss:0.171\n",
      "Iter:11200/17187,D_loss:0.2067,G_loss:0.1727\n",
      "Iter:11300/17187,D_loss:0.2207,G_loss:0.1723\n",
      "Iter:11400/17187,D_loss:0.2139,G_loss:0.1484\n",
      "Iter:11500/17187,D_loss:0.2127,G_loss:0.1629\n",
      "Iter:11600/17187,D_loss:0.2096,G_loss:0.1634\n",
      "Iter:11700/17187,D_loss:0.2025,G_loss:0.1884\n",
      "Iter:11800/17187,D_loss:0.2273,G_loss:0.1556\n",
      "Iter:11900/17187,D_loss:0.222,G_loss:0.1819\n",
      "\n",
      "Iter:12000/17187,D_loss:0.2318,G_loss:0.225\n",
      "Iter:12100/17187,D_loss:0.2435,G_loss:0.1816\n",
      "Iter:12200/17187,D_loss:0.2093,G_loss:0.1463\n",
      "Iter:12300/17187,D_loss:0.2142,G_loss:0.181\n",
      "Iter:12400/17187,D_loss:0.2261,G_loss:0.1839\n",
      "Iter:12500/17187,D_loss:0.2037,G_loss:0.1911\n",
      "Iter:12600/17187,D_loss:0.2035,G_loss:0.177\n",
      "Iter:12700/17187,D_loss:0.2111,G_loss:0.2147\n",
      "Iter:12800/17187,D_loss:0.2156,G_loss:0.1672\n",
      "Iter:12900/17187,D_loss:0.2051,G_loss:0.2221\n",
      "\n",
      "Iter:13000/17187,D_loss:0.2026,G_loss:0.1792\n",
      "Iter:13100/17187,D_loss:0.2158,G_loss:0.2156\n",
      "Iter:13200/17187,D_loss:0.209,G_loss:0.1757\n",
      "Iter:13300/17187,D_loss:0.2926,G_loss:0.06165\n",
      "Iter:13400/17187,D_loss:0.1968,G_loss:0.2006\n",
      "Iter:13500/17187,D_loss:0.1913,G_loss:0.1876\n",
      "Iter:13600/17187,D_loss:0.2092,G_loss:0.1891\n",
      "Iter:13700/17187,D_loss:0.2059,G_loss:0.1915\n",
      "Iter:13800/17187,D_loss:0.1992,G_loss:0.1934\n",
      "Iter:13900/17187,D_loss:0.2057,G_loss:0.2031\n",
      "\n",
      "Iter:14000/17187,D_loss:0.1929,G_loss:0.1975\n",
      "Iter:14100/17187,D_loss:0.2023,G_loss:0.1862\n",
      "Iter:14200/17187,D_loss:0.1974,G_loss:0.1547\n",
      "Iter:14300/17187,D_loss:0.2166,G_loss:0.1599\n",
      "Iter:14400/17187,D_loss:0.2274,G_loss:0.2154\n",
      "Iter:14500/17187,D_loss:0.2146,G_loss:0.1807\n",
      "Iter:14600/17187,D_loss:0.188,G_loss:0.1869\n",
      "Iter:14700/17187,D_loss:0.2084,G_loss:0.2026\n",
      "Iter:14800/17187,D_loss:0.1984,G_loss:0.2378\n",
      "Iter:14900/17187,D_loss:0.1828,G_loss:0.2333\n",
      "\n",
      "Iter:15000/17187,D_loss:0.1859,G_loss:0.1861\n",
      "Iter:15100/17187,D_loss:0.2278,G_loss:0.213\n",
      "Iter:15200/17187,D_loss:0.2001,G_loss:0.2002\n",
      "Iter:15300/17187,D_loss:0.1881,G_loss:0.2362\n",
      "Iter:15400/17187,D_loss:0.1962,G_loss:0.1931\n",
      "Iter:15500/17187,D_loss:0.2154,G_loss:0.2333\n",
      "Iter:15600/17187,D_loss:0.1853,G_loss:0.2056\n",
      "Iter:15700/17187,D_loss:0.1837,G_loss:0.1998\n",
      "Iter:15800/17187,D_loss:0.1834,G_loss:0.2125\n",
      "Iter:15900/17187,D_loss:0.2096,G_loss:0.2172\n",
      "\n",
      "Iter:16000/17187,D_loss:0.2139,G_loss:0.1992\n",
      "Iter:16100/17187,D_loss:0.2336,G_loss:0.1723\n",
      "Iter:16200/17187,D_loss:0.206,G_loss:0.1779\n",
      "Iter:16300/17187,D_loss:0.2003,G_loss:0.2081\n",
      "Iter:16400/17187,D_loss:0.1945,G_loss:0.1921\n",
      "Iter:16500/17187,D_loss:0.2256,G_loss:0.2077\n",
      "Iter:16600/17187,D_loss:0.2126,G_loss:0.2019\n",
      "Iter:16700/17187,D_loss:0.1811,G_loss:0.1876\n",
      "Iter:16800/17187,D_loss:0.1766,G_loss:0.2254\n",
      "Iter:16900/17187,D_loss:0.2182,G_loss:0.2204\n",
      "\n",
      "Iter:17000/17187,D_loss:0.2025,G_loss:0.1897\n",
      "Iter:17100/17187,D_loss:0.2075,G_loss:0.2074\n"
     ]
    },
    {
     "data": {
      "image/png": "[encoded data removed]",
      "text/plain": [
       "<Figure size 432x288 with 16 Axes>"
      ]
     },
     "metadata": {},
     "output_type": "display_data"
    }
   ],
   "source": [
    "tf.reset_default_graph()\n",
    "sess=get_session()\n",
    "his_d_loss,his_g_loss=net.fit(sess,X_train,batch=128,epoch=40,lr=1e-3,beta1=0.5,print_every=100,show_every=1000)\n",
    "sess.close()"
   ]
  },
  {
   "cell_type": "code",
   "execution_count": 38,
   "metadata": {},
   "outputs": [
    {
     "data": {
      "text/plain": [
       "Text(0.5,1,'g_loss')"
      ]
     },
     "execution_count": 38,
     "metadata": {},
     "output_type": "execute_result"
    },
    {
     "data": {
      "image/png": "[encoded data removed]",
      "text/plain": [
       "<Figure size 432x288 with 2 Axes>"
      ]
     },
     "metadata": {},
     "output_type": "display_data"
    }
   ],
   "source": [
    "plt.subplot(2,1,1)\n",
    "plt.plot(his_d_loss)\n",
    "plt.title('d_loss')\n",
    "\n",
    "plt.subplot(2,1,2)\n",
    "plt.plot(his_g_loss)\n",
    "plt.title('g_loss')"
   ]
  },
  {
   "cell_type": "code",
   "execution_count": null,
   "metadata": {},
   "outputs": [],
   "source": []
  }
 ],
 "metadata": {
  "kernelspec": {
   "display_name": "Python 3",
   "language": "python",
   "name": "python3"
  },
  "language_info": {
   "codemirror_mode": {
    "name": "ipython",
    "version": 3
   },
   "file_extension": ".py",
   "mimetype": "text/x-python",
   "name": "python",
   "nbconvert_exporter": "python",
   "pygments_lexer": "ipython3",
   "version": "3.5.2"
  }
 },
 "nbformat": 4,
 "nbformat_minor": 1
}
