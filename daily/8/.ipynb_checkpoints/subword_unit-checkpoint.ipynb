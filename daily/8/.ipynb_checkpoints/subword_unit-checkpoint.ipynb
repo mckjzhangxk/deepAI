{
 "cells": [
  {
   "cell_type": "code",
   "execution_count": 1,
   "metadata": {},
   "outputs": [],
   "source": [
    "import re,collections\n",
    "#https://www.rexegg.com/regex-lookarounds.html#uses"
   ]
  },
  {
   "cell_type": "code",
   "execution_count": 88,
   "metadata": {},
   "outputs": [
    {
     "name": "stdout",
     "output_type": "stream",
     "text": [
      "('e', 's')\n",
      "('t', '</w>')\n",
      "('es', 't</w>')\n",
      "('l', 'o')\n",
      "('lo', 'w')\n",
      "{'low </w>': 5, 'n e w est</w>': 6, 'w i d est</w>': 3, 'low e r </w>': 2}\n"
     ]
    }
   ],
   "source": [
    "def get_stats(vacabs):\n",
    "    pairs=collections.defaultdict(int)\n",
    "    for word,fre in vacabs.items():\n",
    "        symbols=word.split(' ')\n",
    "        for i in range(len(symbols)-1):\n",
    "            pairs[symbols[i],symbols[i+1]]+=fre\n",
    "    return pairs\n",
    "def merge_vacab(pairs,vocab_in):\n",
    "    vacab_out={}\n",
    "    bigram=re.escape(' '.join(pairs))\n",
    "    newsymbol=''.join(pairs)\n",
    "    pattern=re.compile(r'(?<!\\S)'+bigram+r'(?!\\S)')\n",
    "    for word in vocab_in:\n",
    "        word_out=pattern.sub(newsymbol,word)\n",
    "        vacab_out[word_out]=vocab_in[word]\n",
    "    return vacab_out\n",
    "vocab={'l o w </w>':5,'l o w e r </w>':2,'n e w e s t </w>':6,'w i d e s t </w>':3}\n",
    "num_merges=5\n",
    "for i in range(num_merges):\n",
    "    pairs=get_stats(vocab)\n",
    "    best=max(pairs,key=pairs.get)\n",
    "    vocab=merge_vacab(best,vocab)\n",
    "#     print(vocab)\n",
    "    print(best)\n",
    "print(vocab)"
   ]
  },
  {
   "cell_type": "code",
   "execution_count": 24,
   "metadata": {},
   "outputs": [],
   "source": [
    "pattern=re.compile(r'(?<!\\S)'+'hello'+'(?!\\S)')"
   ]
  },
  {
   "cell_type": "code",
   "execution_count": 25,
   "metadata": {},
   "outputs": [
    {
     "data": {
      "text/plain": [
       "' HELLO world'"
      ]
     },
     "execution_count": 25,
     "metadata": {},
     "output_type": "execute_result"
    }
   ],
   "source": [
    "pattern.sub('HELLO',' hello world')"
   ]
  },
  {
   "cell_type": "code",
   "execution_count": 42,
   "metadata": {},
   "outputs": [
    {
     "name": "stdout",
     "output_type": "stream",
     "text": [
      "<_sre.SRE_Match object; span=(0, 5), match='hello'>\n",
      "XXX world\n"
     ]
    }
   ],
   "source": [
    "#正则表达式练习\n",
    "s='hello world'\n",
    "rp='XXX'\n",
    "#match后面紧接空白符的hello,替代成XXX\n",
    "pattern=re.compile(r'hello(?=\\s)')\n",
    "print(pattern.match(s))\n",
    "print(pattern.sub(rp,s))"
   ]
  },
  {
   "cell_type": "code",
   "execution_count": 48,
   "metadata": {},
   "outputs": [
    {
     "name": "stdout",
     "output_type": "stream",
     "text": [
      "<_sre.SRE_Match object; span=(0, 5), match='hello'>\n",
      "XXXWorld\n"
     ]
    }
   ],
   "source": [
    "s='helloWorld'\n",
    "rp='XXX'\n",
    "#match后面不是world的hello,替代成XXX\n",
    "pattern=re.compile(r'hello(?!world)')\n",
    "print(pattern.match(s))\n",
    "print(pattern.sub(rp,s))"
   ]
  },
  {
   "cell_type": "code",
   "execution_count": 58,
   "metadata": {},
   "outputs": [
    {
     "name": "stdout",
     "output_type": "stream",
     "text": [
      "<_sre.SRE_Match object; span=(0, 17), match='hellozhangxiaokai'>\n"
     ]
    }
   ],
   "source": [
    "s='hellozhangxiaokaiworld'\n",
    "rp='zhuxin'\n",
    "#找到姓名前是hello,后是world区域\n",
    "pattern=re.compile(r'(?=hello)[a-z]+(?=world)')\n",
    "print(pattern.match(s))"
   ]
  },
  {
   "cell_type": "code",
   "execution_count": 71,
   "metadata": {},
   "outputs": [
    {
     "name": "stdout",
     "output_type": "stream",
     "text": [
      "None\n"
     ]
    }
   ],
   "source": [
    "pattern = re.compile(r'(?<=abc)def')\n",
    "print(pattern.match('abcdef'))"
   ]
  },
  {
   "cell_type": "code",
   "execution_count": 72,
   "metadata": {},
   "outputs": [
    {
     "data": {
      "text/plain": [
       "'def'"
      ]
     },
     "execution_count": 72,
     "metadata": {},
     "output_type": "execute_result"
    }
   ],
   "source": [
    "m = re.search('(?<=abc)def', 'abcdef')\n",
    "m.group(0)"
   ]
  },
  {
   "cell_type": "code",
   "execution_count": 96,
   "metadata": {},
   "outputs": [
    {
     "name": "stdout",
     "output_type": "stream",
     "text": [
      "8\n",
      "<_sre.SRE_Match object; span=(0, 8), match='12345678'>\n"
     ]
    }
   ],
   "source": [
    "s='12345678'\n",
    "print(len(s))\n",
    "P=re.compile(r'\\A\\w{6,10}\\Z')\n",
    "print(P.match(s))"
   ]
  },
  {
   "cell_type": "code",
   "execution_count": 180,
   "metadata": {},
   "outputs": [
    {
     "name": "stdout",
     "output_type": "stream",
     "text": [
      "<_sre.SRE_Match object; span=(0, 8), match='1bABCabc'>\n"
     ]
    }
   ],
   "source": [
    "s='1bABCabc'\n",
    "P=re.compile(r'\\A(?=[^a-z]*[a-z])(?=(?:[^A-Z]*[A-Z]){3})(?=\\D*\\d)\\w{6,10}\\Z')\n",
    "print(P.match(s))"
   ]
  },
  {
   "cell_type": "code",
   "execution_count": 179,
   "metadata": {},
   "outputs": [
    {
     "name": "stdout",
     "output_type": "stream",
     "text": [
      "<_sre.SRE_Match object; span=(0, 4), match='a143'>\n"
     ]
    }
   ],
   "source": [
    "S='a143'\n",
    "P=re.compile(r'\\Aa\\d{2,4}\\Z')\n",
    "print(P.match(S))"
   ]
  },
  {
   "cell_type": "code",
   "execution_count": 187,
   "metadata": {},
   "outputs": [
    {
     "name": "stdout",
     "output_type": "stream",
     "text": [
      "<_sre.SRE_Match object; span=(0, 1), match='A'>\n"
     ]
    }
   ],
   "source": [
    "S='AB25x'\n",
    "P=re.compile(r'A(?=[^5]*5)')\n",
    "print(P.match(S))"
   ]
  },
  {
   "cell_type": "code",
   "execution_count": 191,
   "metadata": {},
   "outputs": [
    {
     "name": "stdout",
     "output_type": "stream",
     "text": [
      "<_sre.SRE_Match object; span=(0, 1), match='A'>\n"
     ]
    }
   ],
   "source": [
    "S='A5B'\n",
    "P=re.compile(r'A(?=5[A-Z])')\n",
    "print(P.match(S))"
   ]
  },
  {
   "cell_type": "code",
   "execution_count": 195,
   "metadata": {},
   "outputs": [
    {
     "name": "stdout",
     "output_type": "stream",
     "text": [
      "None\n"
     ]
    }
   ],
   "source": [
    "S='Qbc'\n",
    "P=re.compile(r'(?!Q)\\w')\n",
    "print(P.match(S))"
   ]
  },
  {
   "cell_type": "code",
   "execution_count": 245,
   "metadata": {},
   "outputs": [
    {
     "name": "stdout",
     "output_type": "stream",
     "text": [
      "ow\n",
      "(?<=\\s)o w(?=\\s)\n",
      "l ow e r </w>\n"
     ]
    }
   ],
   "source": [
    "S='l o w e r </w>'\n",
    "pair='o w'\n",
    "rp=pair.replace(' ','')\n",
    "print(rp)\n",
    "pattern=r'(?<=\\s)'+pair+r'(?=\\s)'\n",
    "print(pattern)\n",
    "print(re.sub(pattern,rp,S))"
   ]
  },
  {
   "cell_type": "code",
   "execution_count": null,
   "metadata": {},
   "outputs": [],
   "source": []
  }
 ],
 "metadata": {
  "kernelspec": {
   "display_name": "Python 3",
   "language": "python",
   "name": "python3"
  },
  "language_info": {
   "codemirror_mode": {
    "name": "ipython",
    "version": 3
   },
   "file_extension": ".py",
   "mimetype": "text/x-python",
   "name": "python",
   "nbconvert_exporter": "python",
   "pygments_lexer": "ipython3",
   "version": "3.5.2"
  }
 },
 "nbformat": 4,
 "nbformat_minor": 2
}
