{
 "cells": [
  {
   "cell_type": "code",
   "execution_count": 17,
   "metadata": {},
   "outputs": [],
   "source": [
    "import numpy as np\n",
    "import pandas as pd\n",
    "import matplotlib.pyplot as plt\n",
    "%matplotlib inline"
   ]
  },
  {
   "cell_type": "markdown",
   "metadata": {},
   "source": [
    "Explore Data,and using a native BenchMark to evaluation your performance"
   ]
  },
  {
   "cell_type": "code",
   "execution_count": 18,
   "metadata": {},
   "outputs": [
    {
     "name": "stdout",
     "output_type": "stream",
     "text": [
      "(7645, 7)\n",
      "(1814, 7)\n"
     ]
    }
   ],
   "source": [
    "df_train=pd.read_csv('../AI_database/trips/taxi-train.csv')\n",
    "df_dev=pd.read_csv('../AI_database/trips/taxi-valid.csv')\n",
    "print(df_train.shape)\n",
    "print(df_dev.shape)"
   ]
  },
  {
   "cell_type": "code",
   "execution_count": 19,
   "metadata": {},
   "outputs": [
    {
     "data": {
      "text/html": [
       "<div>\n",
       "<style scoped>\n",
       "    .dataframe tbody tr th:only-of-type {\n",
       "        vertical-align: middle;\n",
       "    }\n",
       "\n",
       "    .dataframe tbody tr th {\n",
       "        vertical-align: top;\n",
       "    }\n",
       "\n",
       "    .dataframe thead th {\n",
       "        text-align: right;\n",
       "    }\n",
       "</style>\n",
       "<table border=\"1\" class=\"dataframe\">\n",
       "  <thead>\n",
       "    <tr style=\"text-align: right;\">\n",
       "      <th></th>\n",
       "      <th>fare_amount</th>\n",
       "      <th>pickuplon</th>\n",
       "      <th>pickuplat</th>\n",
       "      <th>dropofflon</th>\n",
       "      <th>dropofflat</th>\n",
       "      <th>passengers</th>\n",
       "      <th>key</th>\n",
       "    </tr>\n",
       "  </thead>\n",
       "  <tbody>\n",
       "    <tr>\n",
       "      <th>0</th>\n",
       "      <td>2.5</td>\n",
       "      <td>-73.988954</td>\n",
       "      <td>40.758612</td>\n",
       "      <td>-73.952118</td>\n",
       "      <td>40.776227</td>\n",
       "      <td>2.0</td>\n",
       "      <td>0</td>\n",
       "    </tr>\n",
       "    <tr>\n",
       "      <th>1</th>\n",
       "      <td>2.5</td>\n",
       "      <td>-73.971783</td>\n",
       "      <td>40.763727</td>\n",
       "      <td>-73.971769</td>\n",
       "      <td>40.763768</td>\n",
       "      <td>2.0</td>\n",
       "      <td>1</td>\n",
       "    </tr>\n",
       "    <tr>\n",
       "      <th>2</th>\n",
       "      <td>3.0</td>\n",
       "      <td>-73.976258</td>\n",
       "      <td>40.786085</td>\n",
       "      <td>-73.974417</td>\n",
       "      <td>40.788517</td>\n",
       "      <td>2.0</td>\n",
       "      <td>2</td>\n",
       "    </tr>\n",
       "    <tr>\n",
       "      <th>3</th>\n",
       "      <td>3.0</td>\n",
       "      <td>-73.990085</td>\n",
       "      <td>40.746602</td>\n",
       "      <td>-73.993129</td>\n",
       "      <td>40.747650</td>\n",
       "      <td>2.0</td>\n",
       "      <td>3</td>\n",
       "    </tr>\n",
       "    <tr>\n",
       "      <th>4</th>\n",
       "      <td>3.5</td>\n",
       "      <td>-73.985820</td>\n",
       "      <td>40.744768</td>\n",
       "      <td>-73.978803</td>\n",
       "      <td>40.752505</td>\n",
       "      <td>2.0</td>\n",
       "      <td>4</td>\n",
       "    </tr>\n",
       "  </tbody>\n",
       "</table>\n",
       "</div>"
      ],
      "text/plain": [
       "   fare_amount  pickuplon  pickuplat  dropofflon  dropofflat  passengers  key\n",
       "0          2.5 -73.988954  40.758612  -73.952118   40.776227         2.0    0\n",
       "1          2.5 -73.971783  40.763727  -73.971769   40.763768         2.0    1\n",
       "2          3.0 -73.976258  40.786085  -73.974417   40.788517         2.0    2\n",
       "3          3.0 -73.990085  40.746602  -73.993129   40.747650         2.0    3\n",
       "4          3.5 -73.985820  40.744768  -73.978803   40.752505         2.0    4"
      ]
     },
     "execution_count": 19,
     "metadata": {},
     "output_type": "execute_result"
    }
   ],
   "source": [
    "df_train.head()"
   ]
  },
  {
   "cell_type": "code",
   "execution_count": 20,
   "metadata": {},
   "outputs": [
    {
     "data": {
      "text/html": [
       "<div>\n",
       "<style scoped>\n",
       "    .dataframe tbody tr th:only-of-type {\n",
       "        vertical-align: middle;\n",
       "    }\n",
       "\n",
       "    .dataframe tbody tr th {\n",
       "        vertical-align: top;\n",
       "    }\n",
       "\n",
       "    .dataframe thead th {\n",
       "        text-align: right;\n",
       "    }\n",
       "</style>\n",
       "<table border=\"1\" class=\"dataframe\">\n",
       "  <thead>\n",
       "    <tr style=\"text-align: right;\">\n",
       "      <th></th>\n",
       "      <th>fare_amount</th>\n",
       "      <th>pickuplon</th>\n",
       "      <th>pickuplat</th>\n",
       "      <th>dropofflon</th>\n",
       "      <th>dropofflat</th>\n",
       "      <th>passengers</th>\n",
       "      <th>key</th>\n",
       "    </tr>\n",
       "  </thead>\n",
       "  <tbody>\n",
       "    <tr>\n",
       "      <th>count</th>\n",
       "      <td>7645.000000</td>\n",
       "      <td>7645.000000</td>\n",
       "      <td>7645.000000</td>\n",
       "      <td>7645.000000</td>\n",
       "      <td>7645.000000</td>\n",
       "      <td>7645.000000</td>\n",
       "      <td>7645.000000</td>\n",
       "    </tr>\n",
       "    <tr>\n",
       "      <th>mean</th>\n",
       "      <td>11.334336</td>\n",
       "      <td>-73.974781</td>\n",
       "      <td>40.751739</td>\n",
       "      <td>-73.974658</td>\n",
       "      <td>40.751199</td>\n",
       "      <td>1.685808</td>\n",
       "      <td>3822.000000</td>\n",
       "    </tr>\n",
       "    <tr>\n",
       "      <th>std</th>\n",
       "      <td>9.932482</td>\n",
       "      <td>0.040159</td>\n",
       "      <td>0.030237</td>\n",
       "      <td>0.038853</td>\n",
       "      <td>0.033383</td>\n",
       "      <td>1.306172</td>\n",
       "      <td>2207.065737</td>\n",
       "    </tr>\n",
       "    <tr>\n",
       "      <th>min</th>\n",
       "      <td>2.500000</td>\n",
       "      <td>-74.258183</td>\n",
       "      <td>40.452290</td>\n",
       "      <td>-74.260472</td>\n",
       "      <td>40.417750</td>\n",
       "      <td>1.000000</td>\n",
       "      <td>0.000000</td>\n",
       "    </tr>\n",
       "    <tr>\n",
       "      <th>25%</th>\n",
       "      <td>6.000000</td>\n",
       "      <td>-73.992035</td>\n",
       "      <td>40.737686</td>\n",
       "      <td>-73.991711</td>\n",
       "      <td>40.735762</td>\n",
       "      <td>1.000000</td>\n",
       "      <td>1911.000000</td>\n",
       "    </tr>\n",
       "    <tr>\n",
       "      <th>50%</th>\n",
       "      <td>8.500000</td>\n",
       "      <td>-73.981898</td>\n",
       "      <td>40.754447</td>\n",
       "      <td>-73.980689</td>\n",
       "      <td>40.753857</td>\n",
       "      <td>1.000000</td>\n",
       "      <td>3822.000000</td>\n",
       "    </tr>\n",
       "    <tr>\n",
       "      <th>75%</th>\n",
       "      <td>12.500000</td>\n",
       "      <td>-73.968408</td>\n",
       "      <td>40.768215</td>\n",
       "      <td>-73.965827</td>\n",
       "      <td>40.768205</td>\n",
       "      <td>2.000000</td>\n",
       "      <td>5733.000000</td>\n",
       "    </tr>\n",
       "    <tr>\n",
       "      <th>max</th>\n",
       "      <td>179.000000</td>\n",
       "      <td>-73.137393</td>\n",
       "      <td>41.366138</td>\n",
       "      <td>-73.137393</td>\n",
       "      <td>41.366138</td>\n",
       "      <td>6.000000</td>\n",
       "      <td>7644.000000</td>\n",
       "    </tr>\n",
       "  </tbody>\n",
       "</table>\n",
       "</div>"
      ],
      "text/plain": [
       "       fare_amount    pickuplon    pickuplat   dropofflon   dropofflat  \\\n",
       "count  7645.000000  7645.000000  7645.000000  7645.000000  7645.000000   \n",
       "mean     11.334336   -73.974781    40.751739   -73.974658    40.751199   \n",
       "std       9.932482     0.040159     0.030237     0.038853     0.033383   \n",
       "min       2.500000   -74.258183    40.452290   -74.260472    40.417750   \n",
       "25%       6.000000   -73.992035    40.737686   -73.991711    40.735762   \n",
       "50%       8.500000   -73.981898    40.754447   -73.980689    40.753857   \n",
       "75%      12.500000   -73.968408    40.768215   -73.965827    40.768205   \n",
       "max     179.000000   -73.137393    41.366138   -73.137393    41.366138   \n",
       "\n",
       "        passengers          key  \n",
       "count  7645.000000  7645.000000  \n",
       "mean      1.685808  3822.000000  \n",
       "std       1.306172  2207.065737  \n",
       "min       1.000000     0.000000  \n",
       "25%       1.000000  1911.000000  \n",
       "50%       1.000000  3822.000000  \n",
       "75%       2.000000  5733.000000  \n",
       "max       6.000000  7644.000000  "
      ]
     },
     "execution_count": 20,
     "metadata": {},
     "output_type": "execute_result"
    }
   ],
   "source": [
    "df_train.describe()"
   ]
  },
  {
   "cell_type": "code",
   "execution_count": 21,
   "metadata": {},
   "outputs": [],
   "source": [
    "#defina a metrics, Root of mean square error\n",
    "def rmse(y,ypred):\n",
    "    return np.sqrt(np.mean((y-ypred)**2))\n",
    "def distance_between(lat1, lon1, lat2, lon2):\n",
    "# Haversine formula to compute distance \"as the crow flies\".  Taxis can't fly of course.\n",
    "    dist = np.degrees(np.arccos(np.sin(np.radians(lat1)) * np.sin(np.radians(lat2)) + np.cos(np.radians(lat1)) * np.cos(np.radians(lat2)) * \n",
    "                              np.cos(np.radians(lon2 - lon1)))) * 60 * 1.515 * 1.609344\n",
    "    return dist\n",
    "def estimate_distance(df):\n",
    "    return distance_between(df['pickuplat'], df['pickuplon'], df['dropofflat'], df['dropofflon'])"
   ]
  },
  {
   "cell_type": "code",
   "execution_count": 22,
   "metadata": {},
   "outputs": [
    {
     "name": "stderr",
     "output_type": "stream",
     "text": [
      "/usr/local/lib/python3.5/dist-packages/ipykernel_launcher.py:7: RuntimeWarning: invalid value encountered in arccos\n",
      "  import sys\n"
     ]
    },
    {
     "data": {
      "text/html": [
       "<div>\n",
       "<style scoped>\n",
       "    .dataframe tbody tr th:only-of-type {\n",
       "        vertical-align: middle;\n",
       "    }\n",
       "\n",
       "    .dataframe tbody tr th {\n",
       "        vertical-align: top;\n",
       "    }\n",
       "\n",
       "    .dataframe thead th {\n",
       "        text-align: right;\n",
       "    }\n",
       "</style>\n",
       "<table border=\"1\" class=\"dataframe\">\n",
       "  <thead>\n",
       "    <tr style=\"text-align: right;\">\n",
       "      <th></th>\n",
       "      <th>fare_amount</th>\n",
       "      <th>pickuplon</th>\n",
       "      <th>pickuplat</th>\n",
       "      <th>dropofflon</th>\n",
       "      <th>dropofflat</th>\n",
       "      <th>passengers</th>\n",
       "      <th>key</th>\n",
       "      <th>estimate_distance</th>\n",
       "    </tr>\n",
       "  </thead>\n",
       "  <tbody>\n",
       "    <tr>\n",
       "      <th>count</th>\n",
       "      <td>7645.000000</td>\n",
       "      <td>7645.000000</td>\n",
       "      <td>7645.000000</td>\n",
       "      <td>7645.000000</td>\n",
       "      <td>7645.000000</td>\n",
       "      <td>7645.000000</td>\n",
       "      <td>7645.000000</td>\n",
       "      <td>7644.000000</td>\n",
       "    </tr>\n",
       "    <tr>\n",
       "      <th>mean</th>\n",
       "      <td>11.334336</td>\n",
       "      <td>-73.974781</td>\n",
       "      <td>40.751739</td>\n",
       "      <td>-73.974658</td>\n",
       "      <td>40.751199</td>\n",
       "      <td>1.685808</td>\n",
       "      <td>3822.000000</td>\n",
       "      <td>4.331916</td>\n",
       "    </tr>\n",
       "    <tr>\n",
       "      <th>std</th>\n",
       "      <td>9.932482</td>\n",
       "      <td>0.040159</td>\n",
       "      <td>0.030237</td>\n",
       "      <td>0.038853</td>\n",
       "      <td>0.033383</td>\n",
       "      <td>1.306172</td>\n",
       "      <td>2207.065737</td>\n",
       "      <td>4.929931</td>\n",
       "    </tr>\n",
       "    <tr>\n",
       "      <th>min</th>\n",
       "      <td>2.500000</td>\n",
       "      <td>-74.258183</td>\n",
       "      <td>40.452290</td>\n",
       "      <td>-74.260472</td>\n",
       "      <td>40.417750</td>\n",
       "      <td>1.000000</td>\n",
       "      <td>0.000000</td>\n",
       "      <td>0.000000</td>\n",
       "    </tr>\n",
       "    <tr>\n",
       "      <th>25%</th>\n",
       "      <td>6.000000</td>\n",
       "      <td>-73.992035</td>\n",
       "      <td>40.737686</td>\n",
       "      <td>-73.991711</td>\n",
       "      <td>40.735762</td>\n",
       "      <td>1.000000</td>\n",
       "      <td>1911.000000</td>\n",
       "      <td>1.652052</td>\n",
       "    </tr>\n",
       "    <tr>\n",
       "      <th>50%</th>\n",
       "      <td>8.500000</td>\n",
       "      <td>-73.981898</td>\n",
       "      <td>40.754447</td>\n",
       "      <td>-73.980689</td>\n",
       "      <td>40.753857</td>\n",
       "      <td>1.000000</td>\n",
       "      <td>3822.000000</td>\n",
       "      <td>2.803383</td>\n",
       "    </tr>\n",
       "    <tr>\n",
       "      <th>75%</th>\n",
       "      <td>12.500000</td>\n",
       "      <td>-73.968408</td>\n",
       "      <td>40.768215</td>\n",
       "      <td>-73.965827</td>\n",
       "      <td>40.768205</td>\n",
       "      <td>2.000000</td>\n",
       "      <td>5733.000000</td>\n",
       "      <td>5.070736</td>\n",
       "    </tr>\n",
       "    <tr>\n",
       "      <th>max</th>\n",
       "      <td>179.000000</td>\n",
       "      <td>-73.137393</td>\n",
       "      <td>41.366138</td>\n",
       "      <td>-73.137393</td>\n",
       "      <td>41.366138</td>\n",
       "      <td>6.000000</td>\n",
       "      <td>7644.000000</td>\n",
       "      <td>126.783083</td>\n",
       "    </tr>\n",
       "  </tbody>\n",
       "</table>\n",
       "</div>"
      ],
      "text/plain": [
       "       fare_amount    pickuplon    pickuplat   dropofflon   dropofflat  \\\n",
       "count  7645.000000  7645.000000  7645.000000  7645.000000  7645.000000   \n",
       "mean     11.334336   -73.974781    40.751739   -73.974658    40.751199   \n",
       "std       9.932482     0.040159     0.030237     0.038853     0.033383   \n",
       "min       2.500000   -74.258183    40.452290   -74.260472    40.417750   \n",
       "25%       6.000000   -73.992035    40.737686   -73.991711    40.735762   \n",
       "50%       8.500000   -73.981898    40.754447   -73.980689    40.753857   \n",
       "75%      12.500000   -73.968408    40.768215   -73.965827    40.768205   \n",
       "max     179.000000   -73.137393    41.366138   -73.137393    41.366138   \n",
       "\n",
       "        passengers          key  estimate_distance  \n",
       "count  7645.000000  7645.000000        7644.000000  \n",
       "mean      1.685808  3822.000000           4.331916  \n",
       "std       1.306172  2207.065737           4.929931  \n",
       "min       1.000000     0.000000           0.000000  \n",
       "25%       1.000000  1911.000000           1.652052  \n",
       "50%       1.000000  3822.000000           2.803383  \n",
       "75%       2.000000  5733.000000           5.070736  \n",
       "max       6.000000  7644.000000         126.783083  "
      ]
     },
     "execution_count": 22,
     "metadata": {},
     "output_type": "execute_result"
    }
   ],
   "source": [
    "df_train['estimate_distance']=estimate_distance(df_train)\n",
    "df_dev['estimate_distance']=estimate_distance(df_dev)\n",
    "df_train.describe()"
   ]
  },
  {
   "cell_type": "code",
   "execution_count": 23,
   "metadata": {},
   "outputs": [],
   "source": [
    "df_train=df_train[df_train['estimate_distance']>0]\n",
    "df_dev=df_dev[df_dev['estimate_distance']>0]"
   ]
  },
  {
   "cell_type": "markdown",
   "metadata": {},
   "source": [
    "## compute native benchmark"
   ]
  },
  {
   "cell_type": "code",
   "execution_count": 24,
   "metadata": {},
   "outputs": [],
   "source": [
    "alpha1=df_train['fare_amount'].mean()/df_train['estimate_distance'].mean()\n",
    "alpha2=(df_train['fare_amount']/df_train['estimate_distance']).mean()\n",
    "alpha3=(df_train['fare_amount']*df_train['estimate_distance']).sum()/(df_train['estimate_distance']**2).sum()"
   ]
  },
  {
   "cell_type": "code",
   "execution_count": 25,
   "metadata": {},
   "outputs": [
    {
     "data": {
      "text/plain": [
       "count      7583.000000\n",
       "mean         92.365118\n",
       "std        2467.192216\n",
       "min           0.183407\n",
       "25%           2.260356\n",
       "50%           2.926032\n",
       "75%           3.885618\n",
       "max      112892.112295\n",
       "dtype: float64"
      ]
     },
     "execution_count": 25,
     "metadata": {},
     "output_type": "execute_result"
    }
   ],
   "source": [
    "(df_train['fare_amount']/df_train['estimate_distance']).describe()"
   ]
  },
  {
   "cell_type": "code",
   "execution_count": 29,
   "metadata": {},
   "outputs": [
    {
     "data": {
      "text/plain": [
       "<matplotlib.legend.Legend at 0x7f1872ad11d0>"
      ]
     },
     "execution_count": 29,
     "metadata": {},
     "output_type": "execute_result"
    },
    {
     "data": {
      "image/png": "[encoded data removed]",
      "text/plain": [
       "<Figure size 432x288 with 1 Axes>"
      ]
     },
     "metadata": {},
     "output_type": "display_data"
    }
   ],
   "source": [
    "samples=df_train#.sample(n=1000,random_state=0)\n",
    "x=samples['estimate_distance']\n",
    "y=samples['fare_amount']\n",
    "plt.scatter(x,y)\n",
    "plt.scatter(x,alpha1*x)\n",
    "plt.scatter(x,alpha2*x)\n",
    "plt.scatter(x,alpha3*x)\n",
    "# df_train.plot(x='estimate_distance',y='fare_amount',kind='scatter')\n",
    "plt.legend(['samples','native','ptrue','Linear Reg'])"
   ]
  },
  {
   "cell_type": "markdown",
   "metadata": {},
   "source": [
    "## Evaluation On Validation Set"
   ]
  },
  {
   "cell_type": "code",
   "execution_count": 142,
   "metadata": {},
   "outputs": [
    {
     "name": "stdout",
     "output_type": "stream",
     "text": [
      "native rmse: 5.845089392542354\n",
      "ptrue rmse: 651.5051302269496\n",
      "Ls rmse: 5.4704348775066345\n"
     ]
    }
   ],
   "source": [
    "error1=rmse(df_dev['fare_amount'],df_dev['estimate_distance']*alpha1)\n",
    "error2=rmse(df_dev['fare_amount'],df_dev['estimate_distance']*alpha2)\n",
    "error3=rmse(df_dev['fare_amount'],df_dev['estimate_distance']*alpha3)\n",
    "print('native rmse: {}'.format(error1))\n",
    "print('ptrue rmse: {}'.format(error2))\n",
    "print('Ls rmse: {}'.format(error3))"
   ]
  },
  {
   "cell_type": "code",
   "execution_count": null,
   "metadata": {
    "collapsed": true
   },
   "outputs": [],
   "source": []
  }
 ],
 "metadata": {
  "kernelspec": {
   "display_name": "Python 3",
   "language": "python",
   "name": "python3"
  },
  "language_info": {
   "codemirror_mode": {
    "name": "ipython",
    "version": 3
   },
   "file_extension": ".py",
   "mimetype": "text/x-python",
   "name": "python",
   "nbconvert_exporter": "python",
   "pygments_lexer": "ipython3",
   "version": "3.5.2"
  }
 },
 "nbformat": 4,
 "nbformat_minor": 1
}
