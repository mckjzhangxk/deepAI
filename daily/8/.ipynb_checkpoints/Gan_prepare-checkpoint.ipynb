{
 "cells": [
  {
   "cell_type": "code",
   "execution_count": null,
   "metadata": {
    "collapsed": false
   },
   "outputs": [],
   "source": [
    "import numpy as np\n",
    "import tensorflow as tf\n",
    "from tensorflow.examples.tutorials.mnist import input_data\n",
    "import matplotlib.pyplot as plt\n",
    "\n",
    "plt.rcParams['figure.figsize']=(30,30)\n",
    "plt.rcParams['image.cmap']='gray'\n",
    "% %matplotlib inline"
   ]
  },
  {
   "cell_type": "code",
   "execution_count": null,
   "metadata": {
    "collapsed": true
   },
   "outputs": [],
   "source": [
    "mnist_data_path='../AI_database/mnist/MNIST_DATA'\n",
    "def imshow(X,Y=None,classes=None):\n",
    "    '''\n",
    "        show Batch of image in grids sqrt(h) x sqrt(w)\n",
    "        X is a numpy array,size (m,h,w,c)\n",
    "        Y is a numpy array,size (m,#classes)\n",
    "    '''\n",
    "    m=X.shape[0]\n",
    "    gridSize=int(m**0.5)\n",
    "    for i in range(0,gridSize):\n",
    "        for j in range(0,gridSize):\n",
    "            _idx=i*gridSize+j\n",
    "            im=X[_idx]\n",
    "            plt.subplot(gridSize,gridSize,_idx+1)\n",
    "            plt.axis('off')\n",
    "            plt.imshow(im)\n",
    "            if Y is not None:\n",
    "                label=classes[np.argmax(Y[_idx])]\n",
    "                plt.title(label)\n",
    "\n",
    "def load_dataset(flaten=False,one_hot=True):\n",
    "    def _make_one_hot(d,C=10):\n",
    "        return (np.arange(C)==d[:,None]).astype(np.int32)\n",
    "\n",
    "    mnist=input_data.read_data_sets(mnist_data_path)\n",
    "    X_train,Y_train=mnist.train.images,mnist.train.labels\n",
    "    X_test,Y_test=mnist.test.images,mnist.test.labels\n",
    "\n",
    "    if flaten==False:\n",
    "        X_train=X_train.reshape((-1,28,28,1))\n",
    "        X_test = X_test.reshape((-1, 28, 28,1))\n",
    "    if one_hot:\n",
    "        Y_train = _make_one_hot(Y_train)\n",
    "        Y_test=_make_one_hot(Y_test)\n",
    "\n",
    "\n",
    "    print('\\n-------------------------------------------------------------------------')\n",
    "    print('load %d train Example,%d Test Example'%(X_train.shape[0],X_test.shape[0]))\n",
    "    print('Train Images  Shape:'+str(X_train.shape))\n",
    "    print('Train Labels  Shape:' + str(Y_train.shape))\n",
    "    print('Test  Images  Shape:'+str(X_test.shape))\n",
    "    print('Test  Labels  Shape:' + str(Y_test.shape))\n",
    "    print('-------------------------------------------------------------------------')\n",
    "    return (X_train,Y_train,X_test,Y_test)"
   ]
  },
  {
   "cell_type": "code",
   "execution_count": null,
   "metadata": {
    "collapsed": false
   },
   "outputs": [],
   "source": [
    "X_train,Y_train,X_test,Y_test=load_dataset(flaten=True)"
   ]
  },
  {
   "cell_type": "code",
   "execution_count": null,
   "metadata": {
    "collapsed": false
   },
   "outputs": [],
   "source": [
    "imshow(X_train[0:9].reshape(-1,28,28))"
   ]
  },
  {
   "cell_type": "markdown",
   "metadata": {},
   "source": [
    "## Above is prepared Data\n",
    "### First Try to build a discriminatior ,this is a classifer that can tell whether it's a real or fake image\n",
    "### I try 2layer Neural Network"
   ]
  },
  {
   "cell_type": "code",
   "execution_count": null,
   "metadata": {
    "collapsed": true
   },
   "outputs": [],
   "source": [
    "def discriminatior(X):\n",
    "    '''\n",
    "        X:is a Image,shape (?,784)\n",
    "    '''\n",
    "\n",
    "    with tf.variable_scope('discriminative',reuse=tf.AUTO_REUSE):\n",
    "        X=tf.contrib.layers.fully_connected(X,128,activation_fn=tf.nn.relu,weights_initializer=tf.contrib.layers.xavier_initializer()) #should have shape [?,128]\n",
    "        X=tf.contrib.layers.fully_connected(X,1) #should have shape [?,1]\n",
    "    return X"
   ]
  },
  {
   "cell_type": "code",
   "execution_count": null,
   "metadata": {
    "collapsed": true
   },
   "outputs": [],
   "source": [
    "def init_param():\n",
    "    X=tf.placeholder(shape=[None,784],dtype=tf.float32)\n",
    "    Y=tf.placeholder(shape=[None,1],dtype=tf.bool)\n",
    "    return X,Y"
   ]
  },
  {
   "cell_type": "code",
   "execution_count": null,
   "metadata": {
    "collapsed": false
   },
   "outputs": [],
   "source": [
    "#for simply I defina a generator\n",
    "def getNext(X,batch=128,noise=1):\n",
    "    X=X.copy()\n",
    "    m=X.shape[0]\n",
    "    if (m%batch)>0:X=X[:-(m%batch),:]\n",
    "    m=X.shape[0]  \n",
    "#     print(X.shape)\n",
    "    real_batch=batch//2\n",
    "    np.random.shuffle(X)\n",
    "    \n",
    "    i=0\n",
    "    while True:\n",
    "        xs=np.random.rand(batch,784)\n",
    "        ys=np.zeros((batch,1),dtype=np.bool)\n",
    "        start=(i*real_batch )%m\n",
    "        end=start+real_batch\n",
    "        \n",
    "        xs[0:real_batch]=X[start:end]\n",
    "        xs[real_batch:]=X[start:end]+noise*np.random.rand(real_batch,28*28)\n",
    "        \n",
    "        xs=xs/np.max(xs,axis=1,keepdims=True)\n",
    "        ys[0:real_batch]=True\n",
    "        yield (xs,ys)\n",
    "        i+=1"
   ]
  },
  {
   "cell_type": "code",
   "execution_count": null,
   "metadata": {
    "collapsed": true
   },
   "outputs": [],
   "source": [
    "gen=getNext(X_train,18,2)"
   ]
  },
  {
   "cell_type": "code",
   "execution_count": null,
   "metadata": {
    "collapsed": false
   },
   "outputs": [],
   "source": [
    "imshow(next(gen)[0].reshape([-1,28,28]))"
   ]
  },
  {
   "cell_type": "markdown",
   "metadata": {},
   "source": [
    "## prepare Loss function and Accuracy,Predict"
   ]
  },
  {
   "cell_type": "code",
   "execution_count": null,
   "metadata": {
    "collapsed": true
   },
   "outputs": [],
   "source": [
    "def loss(label,logit):\n",
    "    l=tf.reduce_mean(tf.nn.sigmoid_cross_entropy_with_logits(logits=logit,labels=tf.cast(label,tf.float32)))\n",
    "    return l"
   ]
  },
  {
   "cell_type": "code",
   "execution_count": null,
   "metadata": {
    "collapsed": false
   },
   "outputs": [],
   "source": [
    "tf.reset_default_graph()\n",
    "sess = tf.InteractiveSession()\n",
    "\n",
    "X,Y=init_param()\n",
    "Y_hat=discriminatior(X)\n",
    "\n",
    "\n",
    "predict=Y_hat>0.5\n",
    "accuracy=tf.reduce_mean(tf.cast(tf.equal(Y,predict),tf.float32))\n",
    "\n",
    "cost=loss(Y,Y_hat)\n",
    "optimizer=tf.train.AdamOptimizer(1e-4).minimize(cost)\n"
   ]
  },
  {
   "cell_type": "code",
   "execution_count": null,
   "metadata": {
    "collapsed": true
   },
   "outputs": [],
   "source": [
    "def train(model,gen,validset,steps,epoch=10,print_every=100):\n",
    "    Xdata,Ydata=validset\n",
    "    \n",
    "    X,Y,opt,loss,accuracy=model\n",
    "    tf.global_variables_initializer().run()\n",
    "    for e in range(epoch):\n",
    "        for i in range(steps):\n",
    "            xs,ys=next(gen)\n",
    "            _,_loss=sess.run([opt,loss],feed_dict={X:xs,Y:ys})\n",
    "            if (i==0 or i%print_every==0):\n",
    "                if i==0:\n",
    "                    acc=accuracy.eval(feed_dict={X:Xdata,Y:Ydata})\n",
    "                    print('epoch %d,acc: %f'%(e,acc))        \n",
    "                print('----->',np.round(_loss,4))\n",
    "    \n",
    "                "
   ]
  },
  {
   "cell_type": "code",
   "execution_count": null,
   "metadata": {
    "collapsed": false
   },
   "outputs": [],
   "source": [
    "batch=128\n",
    "steps=X_train.shape[0]//batch\n",
    "gen=getNext(X_train,batch,noise=1)\n",
    "#valid data\n",
    "#------------------------------------------------\n",
    "m=X_train.shape[0]\n",
    "X_valid=np.random.rand(2*m,784)\n",
    "Y_valid=np.zeros((2*m,1),dtype=np.float32)\n",
    "X_valid[0:m]=X_train\n",
    "Y_valid[0:m]=1\n",
    "#------------------------------------------------\n",
    "\n",
    "train([X,Y,optimizer,cost,accuracy],gen,validset=[X_valid,Y_valid],steps=steps,epoch=10)"
   ]
  },
  {
   "cell_type": "code",
   "execution_count": null,
   "metadata": {
    "collapsed": false
   },
   "outputs": [],
   "source": [
    "predict.eval(feed_dict={X:X_test[0:10]})"
   ]
  },
  {
   "cell_type": "code",
   "execution_count": null,
   "metadata": {
    "collapsed": false
   },
   "outputs": [],
   "source": [
    "predict.eval(feed_dict={X:np.random.rand(10,784)})"
   ]
  },
  {
   "cell_type": "code",
   "execution_count": null,
   "metadata": {
    "collapsed": false
   },
   "outputs": [],
   "source": [
    "predict.eval(feed_dict={X:next(gen)[0][63:]})"
   ]
  },
  {
   "cell_type": "code",
   "execution_count": null,
   "metadata": {
    "collapsed": true
   },
   "outputs": [],
   "source": [
    "sess.close()"
   ]
  },
  {
   "cell_type": "code",
   "execution_count": null,
   "metadata": {
    "collapsed": false
   },
   "outputs": [],
   "source": [
    "next(gen)"
   ]
  },
  {
   "cell_type": "code",
   "execution_count": null,
   "metadata": {
    "collapsed": true
   },
   "outputs": [],
   "source": []
  }
 ],
 "metadata": {
  "kernelspec": {
   "display_name": "Python 3",
   "language": "python",
   "name": "python3"
  },
  "language_info": {
   "codemirror_mode": {
    "name": "ipython",
    "version": 3
   },
   "file_extension": ".py",
   "mimetype": "text/x-python",
   "name": "python",
   "nbconvert_exporter": "python",
   "pygments_lexer": "ipython3",
   "version": "3.5.2"
  }
 },
 "nbformat": 4,
 "nbformat_minor": 0
}
