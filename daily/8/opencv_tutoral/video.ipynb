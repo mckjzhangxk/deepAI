{
 "cells": [
  {
   "cell_type": "code",
   "execution_count": 1,
   "metadata": {
    "collapsed": false
   },
   "outputs": [],
   "source": [
    "import cv2\n",
    "import numpy as np"
   ]
  },
  {
   "cell_type": "code",
   "execution_count": 2,
   "metadata": {
    "collapsed": false
   },
   "outputs": [],
   "source": [
    "def readVideo(filename):\n",
    "    cap=cv2.VideoCapture(filename)\n",
    "    print('total:',cap.get(cv2.CAP_PROP_FRAME_COUNT),'Frames')\n",
    "    print('codec:',hex(int(cap.get(cv2.CAP_PROP_FOURCC)))) #avc1\n",
    "    print('rate(fps):',cap.get(cv2.CAP_PROP_FPS))\n",
    "    print('width:',cap.get(cv2.CAP_PROP_FRAME_WIDTH))\n",
    "    print('height:',cap.get(cv2.CAP_PROP_FRAME_HEIGHT))\n",
    "    print('format',cap.get(cv2.CAP_PROP_FORMAT))\n",
    "    return cap\n",
    "\n",
    "def videoWriter(output,videoformat='XVID',scale=(480,640),fps=30):\n",
    "    codec=cv2.VideoWriter_fourcc(*videoformat)\n",
    "    vid_writer = cv2.VideoWriter(output,codec,fps,scale)\n",
    "    return vid_writer"
   ]
  },
  {
   "cell_type": "markdown",
   "metadata": {},
   "source": [
    "### How to get video infomation"
   ]
  },
  {
   "cell_type": "code",
   "execution_count": 3,
   "metadata": {
    "collapsed": false
   },
   "outputs": [
    {
     "name": "stdout",
     "output_type": "stream",
     "text": [
      "total: 373.0 Frames\n",
      "codec: 0x31637661\n",
      "rate(fps): 30.226822726032616\n",
      "width: 1920.0\n",
      "height: 1080.0\n",
      "format 0.0\n"
     ]
    }
   ],
   "source": [
    "path='/home/zhangxk/AIProject/tensorflow-yolov3/VID_20181006_155810.mp4'\n",
    "cap=cv2.VideoCapture(path)\n",
    "print('total:',cap.get(cv2.CAP_PROP_FRAME_COUNT),'Frames')\n",
    "print('codec:',hex(int(cap.get(cv2.CAP_PROP_FOURCC)))) #avc1\n",
    "print('rate(fps):',cap.get(cv2.CAP_PROP_FPS))\n",
    "print('width:',cap.get(cv2.CAP_PROP_FRAME_WIDTH))\n",
    "print('height:',cap.get(cv2.CAP_PROP_FRAME_HEIGHT))\n",
    "print('format',cap.get(cv2.CAP_PROP_FORMAT))\n",
    "cap.release()"
   ]
  },
  {
   "cell_type": "markdown",
   "metadata": {},
   "source": [
    "### create MyCustom Video"
   ]
  },
  {
   "cell_type": "code",
   "execution_count": 4,
   "metadata": {
    "collapsed": false
   },
   "outputs": [
    {
     "name": "stdout",
     "output_type": "stream",
     "text": [
      "0x44495658\n"
     ]
    }
   ],
   "source": [
    "path='/home/zhangxk/AIProject/tensorflow-yolov3/VID_20181006_155810.mp4'\n",
    "save_path='my.avi'\n",
    "\n",
    "cap=cv2.VideoCapture(path)\n",
    "codec=int(cap.get(cv2.CAP_PROP_FOURCC))\n",
    "format='XVID'\n",
    "codec=cv2.VideoWriter_fourcc(*format)\n",
    "scale=(1080,1920)\n",
    "print(hex(codec))\n",
    "\n",
    "vid_writer = cv2.VideoWriter(save_path,codec,30,scale)\n",
    "while True:\n",
    "    retval,frame=cap.read()\n",
    "    if not retval:break\n",
    "    frame=cv2.rotate(frame,cv2.ROTATE_90_CLOCKWISE)\n",
    "    frame=cv2.resize(frame,scale)\n",
    "    vid_writer.write(frame)\n",
    "cap.release()\n",
    "vid_writer.release()"
   ]
  },
  {
   "cell_type": "code",
   "execution_count": 39,
   "metadata": {
    "collapsed": false
   },
   "outputs": [
    {
     "name": "stdout",
     "output_type": "stream",
     "text": [
      "total: 373.0 Frames\n",
      "codec: 0x44495658\n",
      "rate(fps): 30.0\n",
      "width: 480.0\n",
      "height: 640.0\n",
      "format 0.0\n"
     ]
    }
   ],
   "source": [
    "cap=readVideo('my.avi')\n",
    "cap_writer=videoWriter('hello.avi',fps=3)\n",
    "\n",
    "cnt=0\n",
    "rate=10\n",
    "buf=[]\n",
    "pos=0\n",
    "while True:\n",
    "    retval,frame=cap.read()\n",
    "    if not retval:break\n",
    "    pos+=1\n",
    "    \n",
    "    if pos%rate==0:\n",
    "        buf=np.stack(buf,axis=0)\n",
    "#         newframe=np.mean(buf,axis=0).astype(np.uint8)\n",
    "        newframe=buf[-1]\n",
    "#         print(newfram)\n",
    "        cap_writer.write(newframe)\n",
    "        buf=[]\n",
    "    else:\n",
    "        buf.append(frame)\n",
    "cap.release()\n",
    "cap_writer.release()"
   ]
  }
 ],
 "metadata": {
  "kernelspec": {
   "display_name": "Python 3",
   "language": "python",
   "name": "python3"
  },
  "language_info": {
   "codemirror_mode": {
    "name": "ipython",
    "version": 3
   },
   "file_extension": ".py",
   "mimetype": "text/x-python",
   "name": "python",
   "nbconvert_exporter": "python",
   "pygments_lexer": "ipython3",
   "version": "3.5.2"
  }
 },
 "nbformat": 4,
 "nbformat_minor": 1
}
