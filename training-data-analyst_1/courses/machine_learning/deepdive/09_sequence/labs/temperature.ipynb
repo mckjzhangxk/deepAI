{
 "cells": [
  {
   "cell_type": "markdown",
   "metadata": {
    "deletable": true,
    "editable": true
   },
   "source": [
    "# Time-series prediction (temperature from weather stations)\n",
    "\n",
    "Companion to [(Time series prediction, end-to-end)](./sinewaves.ipynb), except on a real dataset."
   ]
  },
  {
   "cell_type": "code",
   "execution_count": null,
   "metadata": {
    "collapsed": false,
    "deletable": true,
    "editable": true
   },
   "outputs": [],
   "source": [
    "# change these to try this notebook out\n",
    "BUCKET = 'cloud-training-demos-ml'\n",
    "PROJECT = 'cloud-training-demos'\n",
    "REGION = 'us-central1'"
   ]
  },
  {
   "cell_type": "code",
   "execution_count": null,
   "metadata": {
    "collapsed": false,
    "deletable": true,
    "editable": true
   },
   "outputs": [],
   "source": [
    "import os\n",
    "os.environ['BUCKET'] = BUCKET\n",
    "os.environ['PROJECT'] = PROJECT\n",
    "os.environ['REGION'] = REGION\n",
    "os.environ['TFVERSION'] = '1.8'"
   ]
  },
  {
   "cell_type": "markdown",
   "metadata": {
    "deletable": true,
    "editable": true
   },
   "source": [
    "# Data exploration and cleanup\n",
    "\n",
    "The data are temperature data from US weather stations. This is a public dataset from NOAA."
   ]
  },
  {
   "cell_type": "code",
   "execution_count": null,
   "metadata": {
    "collapsed": false,
    "deletable": true,
    "editable": true
   },
   "outputs": [],
   "source": [
    "import numpy as np\n",
    "import seaborn as sns\n",
    "import pandas as pd\n",
    "import tensorflow as tf\n",
    "import google.datalab.bigquery as bq\n",
    "from __future__ import print_function"
   ]
  },
  {
   "cell_type": "code",
   "execution_count": null,
   "metadata": {
    "collapsed": false,
    "deletable": true,
    "editable": true
   },
   "outputs": [],
   "source": [
    "def query_to_dataframe(year):\n",
    "  query=\"\"\"\n",
    "SELECT\n",
    "  stationid, date,\n",
    "  MIN(tmin) AS tmin,\n",
    "  MAX(tmax) AS tmax,\n",
    "  IF (MOD(ABS(FARM_FINGERPRINT(stationid)), 10) < 7, True, False) AS is_train\n",
    "FROM (\n",
    "  SELECT\n",
    "    wx.id as stationid,\n",
    "    wx.date as date,\n",
    "    CONCAT(wx.id, \" \", CAST(wx.date AS STRING)) AS recordid,\n",
    "    IF (wx.element = 'TMIN', wx.value/10, NULL) AS tmin,\n",
    "    IF (wx.element = 'TMAX', wx.value/10, NULL) AS tmax\n",
    "  FROM\n",
    "    `bigquery-public-data.ghcn_d.ghcnd_{}` AS wx\n",
    "  WHERE STARTS_WITH(id, 'USW000')\n",
    ")\n",
    "GROUP BY\n",
    "  stationid, date\n",
    "\"\"\".format(year)\n",
    "  df = bq.Query(query).execute().result().to_dataframe()\n",
    "  return df\n",
    "\n",
    "df = query_to_dataframe(2016)\n",
    "df.head()"
   ]
  },
  {
   "cell_type": "code",
   "execution_count": null,
   "metadata": {
    "collapsed": false,
    "deletable": true,
    "editable": true
   },
   "outputs": [],
   "source": [
    "df.describe()"
   ]
  },
  {
   "cell_type": "markdown",
   "metadata": {
    "deletable": true,
    "editable": true
   },
   "source": [
    "Unfortunately, there are missing observations on some days."
   ]
  },
  {
   "cell_type": "code",
   "execution_count": null,
   "metadata": {
    "collapsed": false,
    "deletable": true,
    "editable": true
   },
   "outputs": [],
   "source": [
    "df.isnull().sum()"
   ]
  },
  {
   "cell_type": "markdown",
   "metadata": {
    "deletable": true,
    "editable": true
   },
   "source": [
    "One way to fix this is to do a pivot table and then replace the nulls by filling it with nearest valid neighbor"
   ]
  },
  {
   "cell_type": "code",
   "execution_count": null,
   "metadata": {
    "collapsed": false,
    "deletable": true,
    "editable": true
   },
   "outputs": [],
   "source": [
    "def cleanup_nulls(df, variablename):\n",
    "  df2 = df.pivot_table(variablename, 'date', 'stationid', fill_value=np.nan)\n",
    "  print('Before: {} null values'.format(df2.isnull().sum().sum()))\n",
    "  df2.fillna(method='ffill', inplace=True)\n",
    "  df2.fillna(method='bfill', inplace=True)\n",
    "  df2.dropna(axis=1, inplace=True)\n",
    "  print('After: {} null values'.format(df2.isnull().sum().sum()))\n",
    "  return df2"
   ]
  },
  {
   "cell_type": "code",
   "execution_count": null,
   "metadata": {
    "collapsed": false,
    "deletable": true,
    "editable": true
   },
   "outputs": [],
   "source": [
    "traindf = cleanup_nulls(df[df['is_train']], 'tmin')"
   ]
  },
  {
   "cell_type": "code",
   "execution_count": null,
   "metadata": {
    "collapsed": false,
    "deletable": true,
    "editable": true
   },
   "outputs": [],
   "source": [
    "traindf.head()"
   ]
  },
  {
   "cell_type": "code",
   "execution_count": null,
   "metadata": {
    "collapsed": false,
    "deletable": true,
    "editable": true
   },
   "outputs": [],
   "source": [
    "seq = traindf.iloc[:,0]\n",
    "print('{} values in the sequence'.format(len(seq)))\n",
    "ax = sns.tsplot(seq)\n",
    "ax.set(xlabel='day-number', ylabel='temperature');"
   ]
  },
  {
   "cell_type": "code",
   "execution_count": null,
   "metadata": {
    "collapsed": false,
    "deletable": true,
    "editable": true
   },
   "outputs": [],
   "source": [
    "seq.to_string(index=False).replace('\\n', ',')"
   ]
  },
  {
   "cell_type": "code",
   "execution_count": null,
   "metadata": {
    "collapsed": false,
    "deletable": true,
    "editable": true
   },
   "outputs": [],
   "source": [
    "# Save the data to disk in such a way that each time series is on a single line\n",
    "# save to sharded files, one for each year\n",
    "# This takes about 15 minutes\n",
    "import shutil, os\n",
    "shutil.rmtree('data/temperature', ignore_errors=True)\n",
    "os.makedirs('data/temperature')\n",
    "\n",
    "def to_csv(indf, filename):\n",
    "  df = cleanup_nulls(indf, 'tmin')\n",
    "  print('Writing {} sequences to {}'.format(len(df.columns), filename))\n",
    "  with open(filename, 'w') as ofp:\n",
    "    for i in xrange(0, len(df.columns)):\n",
    "      if i%10 == 0:\n",
    "        print('{}'.format(i), end='...')\n",
    "      seq = df.iloc[:365,i]  # chop to 365 days to avoid leap-year problems ...\n",
    "      line = seq.to_string(index=False, header=False).replace('\\n', ',')\n",
    "      ofp.write(line + '\\n')\n",
    "    print('Done')\n",
    "\n",
    "for year in xrange(2000, 2017):\n",
    "  print('Querying data for {} ... hang on'.format(year))\n",
    "  df = query_to_dataframe(year)\n",
    "  to_csv(df[df['is_train']], 'data/temperature/train-{}.csv'.format(year))\n",
    "  to_csv(df[~df['is_train']], 'data/temperature/eval-{}.csv'.format(year))"
   ]
  },
  {
   "cell_type": "code",
   "execution_count": null,
   "metadata": {
    "collapsed": false,
    "deletable": true,
    "editable": true
   },
   "outputs": [],
   "source": [
    "%bash\n",
    "head -1 data/temperature/eval-2004.csv | tr ',' ' ' | wc\n",
    "head -1 data/temperature/eval-2005.csv | tr ',' ' ' | wc\n",
    "wc -l data/temperature/train*.csv\n",
    "wc -l data/temperature/eval*.csv"
   ]
  },
  {
   "cell_type": "code",
   "execution_count": null,
   "metadata": {
    "collapsed": false,
    "deletable": true,
    "editable": true
   },
   "outputs": [],
   "source": [
    "%bash\n",
    "gsutil -m rm -rf gs://${BUCKET}/temperature/*\n",
    "gsutil -m cp data/temperature/*.csv gs://${BUCKET}/temperature"
   ]
  },
  {
   "cell_type": "markdown",
   "metadata": {
    "deletable": true,
    "editable": true
   },
   "source": [
    "Our CSV file sequences consist of 365 values. For training, each instance's 0~364 numbers are inputs, and 365th is truth."
   ]
  },
  {
   "cell_type": "markdown",
   "metadata": {
    "deletable": true,
    "editable": true
   },
   "source": [
    "# Model\n",
    "\n",
    "This is the same model as [(Time series prediction, end-to-end)](./sinewaves.ipynb)\n"
   ]
  },
  {
   "cell_type": "code",
   "execution_count": null,
   "metadata": {
    "collapsed": false,
    "deletable": true,
    "editable": true
   },
   "outputs": [],
   "source": [
    "%bash\n",
    "#for MODEL in dnn; do\n",
    "for MODEL in linear cnn dnn lstm lstm2 lstmN; do\n",
    "  OUTDIR=gs://${BUCKET}/temperature/$MODEL\n",
    "  JOBNAME=temperature_${MODEL}_$(date -u +%y%m%d_%H%M%S)\n",
    "  REGION=us-central1\n",
    "  gsutil -m rm -rf $OUTDIR\n",
    "  gcloud ml-engine jobs submit training $JOBNAME \\\n",
    "     --region=$REGION \\\n",
    "     --module-name=sinemodel.task \\\n",
    "     --package-path=${PWD}/sinemodel \\\n",
    "     --job-dir=$OUTDIR \\\n",
    "     --staging-bucket=gs://$BUCKET \\\n",
    "     --scale-tier=BASIC_GPU \\\n",
    "     --runtime-version=$TFVERSION \\\n",
    "     -- \\\n",
    "     --train_data_path=\"gs://${BUCKET}/temperature/train*.csv\" \\\n",
    "     --eval_data_path=\"gs://${BUCKET}/temperature/eval*.csv\"  \\\n",
    "     --output_dir=$OUTDIR \\\n",
    "     --train_steps=5000 --sequence_length=365 --model=$MODEL\n",
    "done"
   ]
  },
  {
   "cell_type": "markdown",
   "metadata": {
    "deletable": true,
    "editable": true
   },
   "source": [
    "## Monitor training with TensorBoard\n",
    "\n",
    "Use this cell to launch tensorboard. If tensorboard appears blank try refreshing after 5 minutes"
   ]
  },
  {
   "cell_type": "code",
   "execution_count": null,
   "metadata": {
    "collapsed": false,
    "deletable": true,
    "editable": true
   },
   "outputs": [],
   "source": [
    "from google.datalab.ml import TensorBoard\n",
    "TensorBoard().start('gs://{}/temperature'.format(BUCKET))"
   ]
  },
  {
   "cell_type": "code",
   "execution_count": null,
   "metadata": {
    "collapsed": false,
    "deletable": true,
    "editable": true
   },
   "outputs": [],
   "source": [
    "for pid in TensorBoard.list()['pid']:\n",
    "  TensorBoard().stop(pid)\n",
    "  print 'Stopped TensorBoard with pid {}'.format(pid)"
   ]
  },
  {
   "cell_type": "markdown",
   "metadata": {
    "deletable": true,
    "editable": true
   },
   "source": [
    "## Results\n",
    "\n",
    "When I ran it, these were the RMSEs that I got for different models:\n",
    "\n",
    "| Model | # of steps | Minutes | RMSE |\n",
    "| --- | ----| --- | --- | --- |\n",
    "| dnn | 5000 | 19 min | 9.82 |\n",
    "| cnn | 5000 | 22 min | 6.68 |\n",
    "| lstm | 5000 | 41 min | 3.15 |\n",
    "| lstm2 | 5000 | 107 min | 3.91 |\n",
    "| lstmN | 5000 | 107 min | 11.5 |\n",
    "\n",
    "As you can see, on real-world time-series data, LSTMs can really shine, but the highly tuned version for the synthetic data doesn't work as well on a similiar, but different problem. Instead, we'll probably have to retune ...\n",
    "\n",
    "<p>\n",
    "## Next steps\n",
    "This is likely not the best way to formulate this problem. A better method to work with this data would be to pull out arbitrary, shorter sequences (say of length 20) from the input sequences. This would be akin to image augmentation in that we would get arbitrary subsets, and would allow us to predict the sequence based on just the last 20 values instead of requiring a whole year.  It would also avoid the problem that currently, we are training only for Dec. 30/31.\n",
    "\n",
    "Feature engineering would also help. For example, we might also add a climatological average (average temperature at this location over the last 10 years on this date) as one of the inputs. I'll leave both these improvements as exercises for the reader :)"
   ]
  },
  {
   "cell_type": "markdown",
   "metadata": {
    "deletable": true,
    "editable": true
   },
   "source": [
    "Copyright 2017 Google Inc. Licensed under the Apache License, Version 2.0 (the \\\"License\\\"); you may not use this file except in compliance with the License. You may obtain a copy of the License at http://www.apache.org/licenses/LICENSE-2.0 Unless required by applicable law or agreed to in writing, software distributed under the License is distributed on an \\\"AS IS\\\" BASIS, WITHOUT WARRANTIES OR CONDITIONS OF ANY KIND, either express or implied. See the License for the specific language governing permissions and limitations under the License"
   ]
  },
  {
   "cell_type": "code",
   "execution_count": null,
   "metadata": {
    "collapsed": true,
    "deletable": true,
    "editable": true
   },
   "outputs": [],
   "source": []
  }
 ],
 "metadata": {
  "kernelspec": {
   "display_name": "Python 2",
   "language": "python",
   "name": "python2"
  },
  "language_info": {
   "codemirror_mode": {
    "name": "ipython",
    "version": 2
   },
   "file_extension": ".py",
   "mimetype": "text/x-python",
   "name": "python",
   "nbconvert_exporter": "python",
   "pygments_lexer": "ipython2",
   "version": "2.7.14"
  }
 },
 "nbformat": 4,
 "nbformat_minor": 2
}
