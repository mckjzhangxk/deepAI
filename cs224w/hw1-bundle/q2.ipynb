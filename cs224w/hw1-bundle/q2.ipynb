{
 "cells": [
  {
   "cell_type": "code",
   "execution_count": 77,
   "metadata": {
    "collapsed": true
   },
   "outputs": [],
   "source": [
    "import numpy as np\n",
    "import snap\n",
    "import matplotlib.pyplot as plt\n",
    "import networkx as nx\n",
    "%matplotlib inline"
   ]
  },
  {
   "cell_type": "markdown",
   "metadata": {},
   "source": [
    "### 加载数据"
   ]
  },
  {
   "cell_type": "code",
   "execution_count": 78,
   "metadata": {
    "collapsed": false
   },
   "outputs": [
    {
     "name": "stdout",
     "output_type": "stream",
     "text": [
      "# of Nodes 1589\n",
      "# of Edges 2742\n"
     ]
    }
   ],
   "source": [
    "G=snap.TUNGraph.Load(snap.TFIn('hw1-q2.graph'))\n",
    "print(\"# of Nodes\",G.GetNodes())\n",
    "print(\"# of Edges\",G.GetEdges())"
   ]
  },
  {
   "cell_type": "code",
   "execution_count": 79,
   "metadata": {
    "collapsed": true
   },
   "outputs": [],
   "source": [
    "def vec2Numpy(v):\n",
    "    r=np.empty(shape=(v.Len(),))\n",
    "    for i,x in enumerate(v):r[i]=x\n",
    "    return r\n",
    "def similar(feature,target):\n",
    "    \n",
    "    n1=np.linalg.norm(feature,axis=1)\n",
    "    n2=np.linalg.norm(target)\n",
    "    assert n2>0\n",
    "    result=feature.dot(target)/n1/n2\n",
    "    #防止属性全为0的情况\n",
    "    mask=np.where(n1==0)[0]\n",
    "    result[mask]=0\n",
    "    return result\n",
    "\n",
    "\n",
    "def topKSimilar(feature,targetIndex,K):\n",
    "    score=similar(feature,feature[targetIndex])\n",
    "    rank=np.argsort(-score)[1:K+1]\n",
    "    return rank"
   ]
  },
  {
   "cell_type": "markdown",
   "metadata": {},
   "source": [
    "### 特征统计\n",
    "* 每个顶点的度\n",
    "* 每个顶点egonet的边\n",
    "* 每个顶点egonet的对外边"
   ]
  },
  {
   "cell_type": "code",
   "execution_count": 82,
   "metadata": {
    "collapsed": false
   },
   "outputs": [],
   "source": [
    "def getDegree(G):\n",
    "    v=snap.TIntV()\n",
    "    snap.GetDegSeqV(G,v)\n",
    "    return vec2Numpy(v)[:,np.newaxis]\n",
    "def getEgonetFeature(G):\n",
    "    egonet_features=np.empty(shape=(G.GetNodes(),2));\n",
    "    for i,node in enumerate(G.Nodes()):\n",
    "        neighbours=snap.TIntV()\n",
    "        degree=node.GetDeg()\n",
    "        for cn in range(degree):\n",
    "            nid=node.GetNbrNId(cn)\n",
    "            neighbours.Add(nid)\n",
    "        neighbours.Add(node.GetId())\n",
    "        egonet_features[i]=snap.GetEdgesInOut(G,neighbours)\n",
    "    return egonet_features\n",
    "def extreactBaseFeature(G):\n",
    "    f1=getDegree(G)\n",
    "    f23=getEgonetFeature(G)\n",
    "    feature=np.concatenate((f1,f23),axis=1)\n",
    "    return feature"
   ]
  },
  {
   "cell_type": "code",
   "execution_count": 97,
   "metadata": {
    "collapsed": false
   },
   "outputs": [
    {
     "name": "stderr",
     "output_type": "stream",
     "text": [
      "/usr/local/lib/python3.5/dist-packages/ipykernel/__main__.py:10: RuntimeWarning: invalid value encountered in true_divide\n"
     ]
    },
    {
     "data": {
      "text/plain": [
       "array([ 415,  288,  286, 1336, 1054])"
      ]
     },
     "execution_count": 97,
     "metadata": {},
     "output_type": "execute_result"
    }
   ],
   "source": [
    "basefeature=extreactBaseFeature(G)\n",
    "topKSimilar(basefeature,9,5)"
   ]
  },
  {
   "cell_type": "markdown",
   "metadata": {},
   "source": [
    "#### 测试代码\n",
    "* 测试提取的基本特征是不是正确"
   ]
  },
  {
   "cell_type": "code",
   "execution_count": 133,
   "metadata": {
    "collapsed": false
   },
   "outputs": [],
   "source": [
    "def sanity_check_feature(feature):\n",
    "    ids=np.random.choice(np.arange(len(feature)),100,False)\n",
    "    ids=[1,2,3]\n",
    "    for idd in ids:\n",
    "        print(idd,type(int(idd)))\n",
    "        f1,f2,f3=feature[int(idd)]\n",
    "        n=G.GetNI(idd)\n",
    "        deg=n.GetDeg()\n",
    "        \n",
    "        all_node_degree=deg\n",
    "        subnodes=[n.GetId()]\n",
    "        for d in range(deg):\n",
    "            nid=n.GetNbrNId(d)\n",
    "            subnodes.append(nid)\n",
    "            all_node_degree+=G.GetNI(nid).GetDeg()\n",
    "        \n",
    "        _f1=deg\n",
    "        subgraph=snap.GetSubGraph(G,snap.TIntV.GetV(*subnodes))\n",
    "        _f2=subgraph.GetEdges()\n",
    "        _f3=all_node_degree-2*_f2\n",
    "        \n",
    "        assert _f1==f1 and _f2==f2 and _f3==f3\n",
    "def print_neigh(G,t):\n",
    "    n=G.GetNI(t)\n",
    "    deg=n.GetDeg()\n",
    "    nei=[]\n",
    "    for i in range(deg):\n",
    "        nei.append(n.GetNbrNId(i))\n",
    "    print(\"%d:\"%t,nei)"
   ]
  },
  {
   "cell_type": "code",
   "execution_count": 132,
   "metadata": {
    "collapsed": false
   },
   "outputs": [
    {
     "name": "stdout",
     "output_type": "stream",
     "text": [
      "1 <class 'int'>\n",
      "2 <class 'int'>\n",
      "3 <class 'int'>\n"
     ]
    }
   ],
   "source": [
    "sanity_check_feature(basefeature)"
   ]
  },
  {
   "cell_type": "code",
   "execution_count": 74,
   "metadata": {
    "collapsed": false
   },
   "outputs": [
    {
     "name": "stdout",
     "output_type": "stream",
     "text": [
      "7: [8, 9, 10, 11]\n",
      "10: [7, 9, 11]\n",
      "11: [7, 9, 10]\n",
      "1424: [9, 1425]\n",
      "1425: [9, 1424]\n",
      "1532: [9]\n",
      "21 20\n"
     ]
    }
   ],
   "source": [
    "def print_neigh(G,t):\n",
    "    n=G.GetNI(t)\n",
    "    deg=n.GetDeg()\n",
    "    nei=[]\n",
    "    for i in range(deg):\n",
    "        nei.append(n.GetNbrNId(i))\n",
    "    print(\"%d:\"%t,nei)\n",
    "\n",
    "nnn=9\n",
    "n=G.GetNI(nnn)\n",
    "deg=n.GetDeg()\n",
    "neibour=[]\n",
    "dd=deg\n",
    "for d in range(deg):\n",
    "    nid=n.GetNbrNId(d)\n",
    "    print_neigh(G,nid)\n",
    "    neibour.append(nid)\n",
    "    dd+=G.GetNI(nid).GetDeg()\n",
    "neibour.append(nnn)\n",
    "subnodes=snap.TIntV.GetV(*neibour)\n",
    "subgraph=snap.GetSubGraph(G,subnodes)\n",
    "print(dd,2*subgraph.GetEdges())"
   ]
  },
  {
   "cell_type": "code",
   "execution_count": 117,
   "metadata": {
    "collapsed": false
   },
   "outputs": [],
   "source": [
    "a=np.random.randint(0,2,size=2)"
   ]
  },
  {
   "cell_type": "code",
   "execution_count": 122,
   "metadata": {
    "collapsed": false
   },
   "outputs": [
    {
     "data": {
      "text/plain": [
       "int"
      ]
     },
     "execution_count": 122,
     "metadata": {},
     "output_type": "execute_result"
    }
   ],
   "source": [
    "type(int(a[0]))"
   ]
  },
  {
   "cell_type": "code",
   "execution_count": 119,
   "metadata": {
    "collapsed": false
   },
   "outputs": [
    {
     "data": {
      "text/plain": [
       "array([0, 1])"
      ]
     },
     "execution_count": 119,
     "metadata": {},
     "output_type": "execute_result"
    }
   ],
   "source": [
    "a"
   ]
  },
  {
   "cell_type": "code",
   "execution_count": 121,
   "metadata": {
    "collapsed": false
   },
   "outputs": [
    {
     "data": {
      "text/plain": [
       "0"
      ]
     },
     "execution_count": 121,
     "metadata": {},
     "output_type": "execute_result"
    }
   ],
   "source": [
    "a[0]"
   ]
  },
  {
   "cell_type": "code",
   "execution_count": null,
   "metadata": {
    "collapsed": true
   },
   "outputs": [],
   "source": []
  }
 ],
 "metadata": {
  "kernelspec": {
   "display_name": "Python 3",
   "language": "python",
   "name": "python3"
  },
  "language_info": {
   "codemirror_mode": {
    "name": "ipython",
    "version": 3
   },
   "file_extension": ".py",
   "mimetype": "text/x-python",
   "name": "python",
   "nbconvert_exporter": "python",
   "pygments_lexer": "ipython3",
   "version": "3.5.2"
  }
 },
 "nbformat": 4,
 "nbformat_minor": 0
}
