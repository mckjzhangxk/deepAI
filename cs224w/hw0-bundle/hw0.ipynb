{
 "cells": [
  {
   "cell_type": "code",
   "execution_count": 1,
   "metadata": {
    "collapsed": true
   },
   "outputs": [],
   "source": [
    "import snap\n",
    "import numpy as np\n",
    "import matplotlib.pyplot as plt\n",
    "%matplotlib inline"
   ]
  },
  {
   "cell_type": "markdown",
   "metadata": {},
   "source": [
    "### 1.Analyzing the Wikipedia voters network [27 points]\n",
    "\n",
    "\n",
    "* To make our questions clearer, we will use the following small graph as a running example:\n",
    "$G_{small} = (V_{small} , E_{small} )$, where $V_{small} = \\{1, 2, 3\\} and E_{small} = \\{(1, 2), (2, 1), (1, 3), (1, 1)\\}$.\n",
    "* Compute and print out the following statistics for the wiki-Vote network:\n",
    " * The number of nodes in the network. (G small has 3 nodes.)\n",
    " * The number of nodes with a self-edge (self-loop), i.e., the number of nodes a ∈ V where (a, a) ∈ E. (G small has 1 self-edge.)\n",
    " * The number of directed edges in the network, i.e., the number of ordered pairs (a, b) ∈ E for which $a \\neq b$. (G small has 3 directed edges.)\n",
    " * The number of undirected edges in the network, i.e., the number of unique unordered pairs (a, b), $a \\neq b$ for which (a, b) ∈ E or (b, a) ∈ E (or both). If both (a, b) and (b, a) are edges, this counts a single undirected edge. (G small has 2 undirected edges.)"
   ]
  },
  {
   "cell_type": "code",
   "execution_count": 2,
   "metadata": {
    "collapsed": false
   },
   "outputs": [
    {
     "name": "stdout",
     "output_type": "stream",
     "text": [
      "nodes: 3\n",
      "self_loops: 1\n",
      "direct_edge: 4\n",
      "undirect_edge: 2\n"
     ]
    }
   ],
   "source": [
    "Gsmall=snap.TUNGraph().New()\n",
    "Gsmall.AddNode(1)\n",
    "Gsmall.AddNode(2)\n",
    "Gsmall.AddNode(3)\n",
    "Gsmall.AddEdge(1,2)\n",
    "Gsmall.AddEdge(2,1)\n",
    "Gsmall.AddEdge(1,3)\n",
    "Gsmall.AddEdge(1,1)\n",
    "# Gsmall=snap.LoadEdgeList(snap.PNGraph,'data/Wiki-Vote.txt',0,1)\n",
    "print('nodes:',Gsmall.GetNodes())\n",
    "print('self_loops:',snap.CntSelfEdges(Gsmall))\n",
    "print('direct_edge:',snap.CntUniqDirEdges(Gsmall))\n",
    "print('undirect_edge:',snap.CntUniqUndirEdges(Gsmall))"
   ]
  },
  {
   "cell_type": "code",
   "execution_count": 4,
   "metadata": {
    "collapsed": false
   },
   "outputs": [
    {
     "name": "stdout",
     "output_type": "stream",
     "text": [
      "1\n",
      "2\n",
      "3\n"
     ]
    }
   ],
   "source": [
    "n=Gsmall.GetNI(1)\n",
    "outdegreee=n.GetDeg()\n",
    "for i in range(outdegreee):\n",
    "    idd=n.GetNbrNId(i)\n",
    "    print(idd)"
   ]
  },
  {
   "cell_type": "markdown",
   "metadata": {},
   "source": [
    " * The number of reciprocated edges in the network, i.e., the number of unique unordered pairs of nodes (a, b), $a \\neq b$, for which (a, b) ∈ E and (b, a) ∈ E. (G small has 1 reciprocated edge.)\n",
    " * The number of nodes of zero out-degree. (G small has 1 node with zero out-degree.)\n",
    " * The number of nodes of zero in-degree. (G small has 0 nodes with zero in-degree.)"
   ]
  },
  {
   "cell_type": "code",
   "execution_count": 5,
   "metadata": {
    "collapsed": false
   },
   "outputs": [
    {
     "name": "stdout",
     "output_type": "stream",
     "text": [
      "reciprocated 2\n",
      "0  nodes have out degree 0\n",
      "0  nodes have int degree 0\n"
     ]
    }
   ],
   "source": [
    "recip=set()\n",
    "for e in Gsmall.Edges():\n",
    "    if e.GetSrcNId()!=e.GetDstNId() and Gsmall.IsEdge(e.GetDstNId(),e.GetSrcNId()):\n",
    "        recip.add((min(e.GetSrcNId(),e.GetDstNId()),max(e.GetSrcNId(),e.GetDstNId())))\n",
    "print('reciprocated',len(recip))\n",
    "print('%d  nodes have out degree 0'%snap.CntOutDegNodes(Gsmall,0))\n",
    "print('%d  nodes have int degree 0'%snap.CntInDegNodes(Gsmall,0))"
   ]
  },
  {
   "cell_type": "markdown",
   "metadata": {},
   "source": [
    "### 2.Further Analyzing the Wikipedia voters network [33 points]\n",
    "$Y\\approx1000x^{-1.28}$"
   ]
  },
  {
   "cell_type": "code",
   "execution_count": 4,
   "metadata": {
    "collapsed": false
   },
   "outputs": [
    {
     "name": "stdout",
     "output_type": "stream",
     "text": [
      "a=-1.281065,b=3.132455\n"
     ]
    },
    {
     "data": {
      "image/png": "[encoded data removed]",
      "text/plain": [
       "<Figure size 600x400 with 1 Axes>"
      ]
     },
     "metadata": {},
     "output_type": "display_data"
    }
   ],
   "source": [
    "from collections import defaultdict\n",
    "def fit(x,y):\n",
    "    x=np.log10(x)\n",
    "    y=np.log10(y)\n",
    "    coef=np.polyfit(x,y,deg=1)\n",
    "    return coef\n",
    "histogram=snap.TIntPrV()\n",
    "snap.GetOutDegCnt(Gsmall,histogram)\n",
    "x,y=[],[]\n",
    "for vv in histogram:\n",
    "    if vv.GetVal1()>0:\n",
    "        x.append(vv.GetVal1())\n",
    "        y.append(vv.GetVal2())\n",
    "plt.loglog(x,y,'.')\n",
    "plt.xlabel('out degree')\n",
    "plt.ylabel('distribution')\n",
    "a,b=fit(x,y)\n",
    "print('a=%f,b=%f'%(a,b))"
   ]
  },
  {
   "cell_type": "markdown",
   "metadata": {},
   "source": [
    "### Finding Experts on the Java Programming Language on StackOverflow [40 points]"
   ]
  },
  {
   "cell_type": "code",
   "execution_count": 5,
   "metadata": {
    "collapsed": true
   },
   "outputs": [],
   "source": [
    "G=snap.LoadEdgeList(snap.PNGraph,'data/stackoverflow-Java.txt',0,1)"
   ]
  },
  {
   "cell_type": "code",
   "execution_count": 6,
   "metadata": {
    "collapsed": false
   },
   "outputs": [
    {
     "name": "stdout",
     "output_type": "stream",
     "text": [
      "# of weakly connected components is 10143\n"
     ]
    }
   ],
   "source": [
    "wccs=snap.TCnComV()\n",
    "snap.GetWccs(G,wccs)\n",
    "print('# of weakly connected components is %d'%wccs.Len())"
   ]
  },
  {
   "cell_type": "code",
   "execution_count": 7,
   "metadata": {
    "collapsed": false
   },
   "outputs": [
    {
     "name": "stdout",
     "output_type": "stream",
     "text": [
      "max weak connect component have nodes: 131188\n",
      "max weak connect component have edges: 322486\n"
     ]
    }
   ],
   "source": [
    "G_max_wcc=snap.GetMxWcc(G)\n",
    "print('max weak connect component have nodes:',G_max_wcc.GetNodes())\n",
    "print('max weak connect component have edges:',G_max_wcc.GetEdges())"
   ]
  },
  {
   "cell_type": "code",
   "execution_count": 9,
   "metadata": {
    "collapsed": true
   },
   "outputs": [],
   "source": [
    "pk=snap.TIntFltH()\n",
    "snap.GetPageRank(G,pk)\n",
    "pk.SortByDat(False)"
   ]
  },
  {
   "cell_type": "code",
   "execution_count": 12,
   "metadata": {
    "collapsed": false
   },
   "outputs": [
    {
     "name": "stdout",
     "output_type": "stream",
     "text": [
      "992484 0.013980540412209575\n",
      "135152 0.010005538895741885\n",
      "22656 0.007103532693128619\n",
      "139985 0.005520505792973484\n"
     ]
    }
   ],
   "source": [
    "top=3\n",
    "for i,key in enumerate(pk):\n",
    "    print(key,pk[key])\n",
    "    if i==top:\n",
    "        break"
   ]
  },
  {
   "cell_type": "code",
   "execution_count": null,
   "metadata": {
    "collapsed": true
   },
   "outputs": [],
   "source": []
  }
 ],
 "metadata": {
  "kernelspec": {
   "display_name": "Python 3",
   "language": "python",
   "name": "python3"
  },
  "language_info": {
   "codemirror_mode": {
    "name": "ipython",
    "version": 3
   },
   "file_extension": ".py",
   "mimetype": "text/x-python",
   "name": "python",
   "nbconvert_exporter": "python",
   "pygments_lexer": "ipython3",
   "version": "3.5.2"
  }
 },
 "nbformat": 4,
 "nbformat_minor": 0
}
